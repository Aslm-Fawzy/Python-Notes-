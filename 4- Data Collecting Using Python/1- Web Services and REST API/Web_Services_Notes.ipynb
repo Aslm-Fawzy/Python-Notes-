{
  "cells": [
    {
      "cell_type": "markdown",
      "source": [
        "# **Web Services and REST API**\n",
        "## **Web Services**\n",
        " Web Service (WS) is either:\n",
        "1. a service offered by an electronic device to another electronic device, communicating with each other via the Internet, or\n",
        "2. a server running on a computer device, listening for requests at a particular port over a network, serving web documents (HTML, JSON, XML, images).\n",
        "\n",
        "The use of the term \"Web\" in Web Service is a misnomer. Web Services do not use the World Wide Web (WWW), a human user interface running on the Internet, but rather a machine-to-machine service running on the Internet using the WWW protocols.\n",
        "In a web service, a web technology such as HTTP is used for transferring machine-readable file formats such as XML and JSON.\n",
        "## **REST API**\n",
        "Representational State Transfer (REST) is an architectural style that defines a set of constraints to be used for creating web services. REST API is a way of accessing web services in a simple and flexible way without having any processing."
      ],
      "metadata": {
        "id": "vUVfbSEgCvng"
      }
    },
    {
      "cell_type": "markdown",
      "metadata": {
        "id": "0YFc9B-auK3x"
      },
      "source": [
        "USD To EUR Exchange\n",
        "---------\n",
        "Get the USD To EUR Exchange rate from this web service\n",
        "https://api.frankfurter.app/latest?amount=1&from=USD&to=EUR\n",
        "and then use it to make a software that takes amount of USD Dollars from the user and calculate how much will it cost in EUR.\n",
        "hint: take a look on the url of the service can you guess how I can modify it to calculate the 10$ for EUR for example ?!"
      ]
    },
    {
      "cell_type": "code",
      "execution_count": null,
      "metadata": {
        "id": "jy5OTt0luK4C"
      },
      "outputs": [],
      "source": [
        "import requests"
      ]
    },
    {
      "cell_type": "code",
      "execution_count": null,
      "metadata": {
        "id": "f6W8FRC6uK4I",
        "outputId": "9aa6c9fc-83fa-4526-f5e1-2d00839fe16a"
      },
      "outputs": [
        {
          "name": "stdout",
          "output_type": "stream",
          "text": [
            "Enter USD Dollars : 5\n",
            "5 Dollars =  4.8847000000000005 EUR \n"
          ]
        }
      ],
      "source": [
        "response  = requests.get('https://api.frankfurter.app/latest?amount=1&from=USD&to=EUR')\n",
        "json_response =  response.json()\n",
        "usd_to_eur_rate = json_response['rates']['EUR']\n",
        "dollars = int(input('Enter USD Dollars : '))\n",
        "eur = dollars * usd_to_eur_rate\n",
        "print(f'{dollars} Dollars =  {eur} EUR ')"
      ]
    },
    {
      "cell_type": "markdown",
      "metadata": {
        "id": "gAdD21RXtPks"
      },
      "source": [
        "## Employees Data\n"
      ]
    },
    {
      "cell_type": "code",
      "execution_count": null,
      "metadata": {
        "id": "oFMzJvcotPku"
      },
      "outputs": [],
      "source": [
        "response  = requests.get('https://gorest.co.in/public-api/users?_format=json&access-token=H4lYmIGLXZkDlpy_w0ZVS5rgcpDXbN7fhRRy')"
      ]
    },
    {
      "cell_type": "code",
      "execution_count": null,
      "metadata": {
        "id": "zq068FDXtPkv"
      },
      "outputs": [],
      "source": [
        "employees = response.json()"
      ]
    },
    {
      "cell_type": "code",
      "execution_count": null,
      "metadata": {
        "id": "G6QVl-ORtPkw",
        "outputId": "0bd0e4c0-b8ad-43a3-f052-eb9b062a9ee6"
      },
      "outputs": [
        {
          "data": {
            "text/plain": [
              "[{'id': 2800,\n",
              "  'name': 'Miss Bhishma Arora',\n",
              "  'email': 'miss_arora_bhishma@heidenreich.com',\n",
              "  'gender': 'male',\n",
              "  'status': 'inactive'},\n",
              " {'id': 2799,\n",
              "  'name': 'Divya Khan',\n",
              "  'email': 'khan_divya@lindgren-considine.net',\n",
              "  'gender': 'female',\n",
              "  'status': 'active'},\n",
              " {'id': 2798,\n",
              "  'name': 'Dhaanyalakshmi Trivedi',\n",
              "  'email': 'trivedi_dhaanyalakshmi@bartoletti-beahan.name',\n",
              "  'gender': 'female',\n",
              "  'status': 'inactive'},\n",
              " {'id': 2797,\n",
              "  'name': 'Jagdish Chattopadhyay',\n",
              "  'email': 'jagdish_chattopadhyay@zulauf.biz',\n",
              "  'gender': 'female',\n",
              "  'status': 'active'},\n",
              " {'id': 2796,\n",
              "  'name': 'Gov. Devesh Ahluwalia',\n",
              "  'email': 'gov_ahluwalia_devesh@hackett-quigley.co',\n",
              "  'gender': 'male',\n",
              "  'status': 'active'},\n",
              " {'id': 2794,\n",
              "  'name': 'Siddhi Mishra',\n",
              "  'email': 'mishra_siddhi@quitzon.net',\n",
              "  'gender': 'male',\n",
              "  'status': 'inactive'},\n",
              " {'id': 2792,\n",
              "  'name': 'Ramesh Deshpande VM',\n",
              "  'email': 'ramesh_deshpande_vm@beier.io',\n",
              "  'gender': 'female',\n",
              "  'status': 'inactive'},\n",
              " {'id': 2791,\n",
              "  'name': 'The Hon. Bhagirathi Kakkar',\n",
              "  'email': 'hon_bhagirathi_the_kakkar@sanford.co',\n",
              "  'gender': 'male',\n",
              "  'status': 'inactive'},\n",
              " {'id': 2790,\n",
              "  'name': 'Gov. Arya Abbott',\n",
              "  'email': 'gov_arya_abbott@price-tremblay.name',\n",
              "  'gender': 'female',\n",
              "  'status': 'active'},\n",
              " {'id': 2789,\n",
              "  'name': 'Bheeshma Embranthiri',\n",
              "  'email': 'embranthiri_bheeshma@schumm.org',\n",
              "  'gender': 'male',\n",
              "  'status': 'inactive'}]"
            ]
          },
          "execution_count": 19,
          "metadata": {},
          "output_type": "execute_result"
        }
      ],
      "source": [
        "employees['data']"
      ]
    },
    {
      "cell_type": "code",
      "execution_count": null,
      "metadata": {
        "id": "lRQw2IDTtPkx",
        "outputId": "c1996b28-fe1a-45b0-bc44-348557d9b765"
      },
      "outputs": [
        {
          "data": {
            "text/plain": [
              "{'id': 2800,\n",
              " 'name': 'Miss Bhishma Arora',\n",
              " 'email': 'miss_arora_bhishma@heidenreich.com',\n",
              " 'gender': 'male',\n",
              " 'status': 'inactive'}"
            ]
          },
          "execution_count": 20,
          "metadata": {},
          "output_type": "execute_result"
        }
      ],
      "source": [
        "employees['data'][0]"
      ]
    },
    {
      "cell_type": "code",
      "execution_count": null,
      "metadata": {
        "id": "1H46LbQRtPky"
      },
      "outputs": [],
      "source": [
        "import csv \n",
        "\n",
        "with open('Employees.csv', 'w', newline='') as f:\n",
        "    writer = csv.DictWriter(f, fieldnames=['name', 'gender', 'email', 'is_active'])\n",
        "    writer.writeheader()\n",
        "    for employee in employees['data']:\n",
        "        name = employee['name']\n",
        "        email = employee['email']\n",
        "        gender = employee['gender']\n",
        "        is_active = employee['status']\n",
        "        writer.writerow({'name': name, 'gender': gender, 'email': email, 'is_active': is_active})"
      ]
    },
    {
      "cell_type": "code",
      "execution_count": null,
      "metadata": {
        "id": "Rnr856OktPk0"
      },
      "outputs": [],
      "source": [
        ""
      ]
    }
  ],
  "metadata": {
    "kernelspec": {
      "display_name": "Python 3",
      "language": "python",
      "name": "python3"
    },
    "language_info": {
      "codemirror_mode": {
        "name": "ipython",
        "version": 3
      },
      "file_extension": ".py",
      "mimetype": "text/x-python",
      "name": "python",
      "nbconvert_exporter": "python",
      "pygments_lexer": "ipython3",
      "version": "3.8.5"
    },
    "colab": {
      "name": "Web Services Notes.ipynb",
      "provenance": [],
      "toc_visible": true
    }
  },
  "nbformat": 4,
  "nbformat_minor": 0
}