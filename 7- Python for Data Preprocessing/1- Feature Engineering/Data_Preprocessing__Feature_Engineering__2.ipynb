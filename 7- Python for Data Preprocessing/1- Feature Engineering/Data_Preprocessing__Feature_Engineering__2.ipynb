{
  "nbformat": 4,
  "nbformat_minor": 0,
  "metadata": {
    "colab": {
      "name": "IEEE__Data Preprocessing__Feature Engineering__2.ipynb",
      "provenance": [],
      "collapsed_sections": [],
      "toc_visible": true
    },
    "kernelspec": {
      "name": "python3",
      "display_name": "Python 3"
    },
    "language_info": {
      "name": "python"
    }
  },
  "cells": [
    {
      "cell_type": "markdown",
      "metadata": {
        "id": "NSxoDQoYrxJ5"
      },
      "source": [
        "# **Importing Libraries :-**"
      ]
    },
    {
      "cell_type": "code",
      "metadata": {
        "colab": {
          "base_uri": "https://localhost:8080/"
        },
        "id": "5oG-Ff3TskFY",
        "outputId": "f6ae6326-a3aa-44dc-d52b-be682357d0a6"
      },
      "source": [
        "pip install pyyaml ua-parser user-agents"
      ],
      "execution_count": null,
      "outputs": [
        {
          "output_type": "stream",
          "name": "stdout",
          "text": [
            "Requirement already satisfied: pyyaml in /usr/local/lib/python3.7/dist-packages (3.13)\n",
            "Requirement already satisfied: ua-parser in /usr/local/lib/python3.7/dist-packages (0.10.0)\n",
            "Requirement already satisfied: user-agents in /usr/local/lib/python3.7/dist-packages (2.2.0)\n"
          ]
        }
      ]
    },
    {
      "cell_type": "code",
      "metadata": {
        "colab": {
          "base_uri": "https://localhost:8080/"
        },
        "id": "hfyz-jaPBp-L",
        "outputId": "98ebb87b-5395-4b31-81f8-154088b23171"
      },
      "source": [
        "pip install ip2geotools"
      ],
      "execution_count": null,
      "outputs": [
        {
          "output_type": "stream",
          "name": "stdout",
          "text": [
            "Requirement already satisfied: ip2geotools in /usr/local/lib/python3.7/dist-packages (0.1.6)\n",
            "Requirement already satisfied: mccabe>=0.6.1 in /usr/local/lib/python3.7/dist-packages (from ip2geotools) (0.6.1)\n",
            "Requirement already satisfied: pylint>=2.2.0 in /usr/local/lib/python3.7/dist-packages (from ip2geotools) (2.12.2)\n",
            "Requirement already satisfied: wrapt>=1.10.11 in /usr/local/lib/python3.7/dist-packages (from ip2geotools) (1.13.3)\n",
            "Requirement already satisfied: isort>=4.3.4 in /usr/local/lib/python3.7/dist-packages (from ip2geotools) (5.10.1)\n",
            "Requirement already satisfied: pkginfo>=1.4.2 in /usr/local/lib/python3.7/dist-packages (from ip2geotools) (1.8.2)\n",
            "Requirement already satisfied: typing>=3.6.6 in /usr/local/lib/python3.7/dist-packages (from ip2geotools) (3.7.4.3)\n",
            "Requirement already satisfied: future>=0.17.1 in /usr/local/lib/python3.7/dist-packages (from ip2geotools) (0.18.2)\n",
            "Requirement already satisfied: autopep8>=1.4.3 in /usr/local/lib/python3.7/dist-packages (from ip2geotools) (1.6.0)\n",
            "Requirement already satisfied: selenium>=3.141.0 in /usr/local/lib/python3.7/dist-packages (from ip2geotools) (4.1.3)\n",
            "Requirement already satisfied: six>=1.11.0 in /usr/local/lib/python3.7/dist-packages (from ip2geotools) (1.15.0)\n",
            "Requirement already satisfied: decorator>=4.3.0 in /usr/local/lib/python3.7/dist-packages (from ip2geotools) (4.4.2)\n",
            "Requirement already satisfied: webencodings>=0.5.1 in /usr/local/lib/python3.7/dist-packages (from ip2geotools) (0.5.1)\n",
            "Requirement already satisfied: pycodestyle>=2.4.0 in /usr/local/lib/python3.7/dist-packages (from ip2geotools) (2.8.0)\n",
            "Requirement already satisfied: astroid>=2.1.0 in /usr/local/lib/python3.7/dist-packages (from ip2geotools) (2.9.3)\n",
            "Requirement already satisfied: lazy-object-proxy>=1.3.1 in /usr/local/lib/python3.7/dist-packages (from ip2geotools) (1.7.1)\n",
            "Requirement already satisfied: requests-toolbelt>=0.8.0 in /usr/local/lib/python3.7/dist-packages (from ip2geotools) (0.9.1)\n",
            "Requirement already satisfied: certifi>=2018.10.15 in /usr/local/lib/python3.7/dist-packages (from ip2geotools) (2021.10.8)\n",
            "Requirement already satisfied: maxminddb>=1.4.1 in /usr/local/lib/python3.7/dist-packages (from ip2geotools) (2.2.0)\n",
            "Requirement already satisfied: packaging>=18.0 in /usr/local/lib/python3.7/dist-packages (from ip2geotools) (21.3)\n",
            "Requirement already satisfied: pyparsing>=2.3.0 in /usr/local/lib/python3.7/dist-packages (from ip2geotools) (3.0.7)\n",
            "Requirement already satisfied: docutils>=0.14 in /usr/local/lib/python3.7/dist-packages (from ip2geotools) (0.17.1)\n",
            "Requirement already satisfied: geocoder>=1.38.1 in /usr/local/lib/python3.7/dist-packages (from ip2geotools) (1.38.1)\n",
            "Requirement already satisfied: cssselect>=1.0.3 in /usr/local/lib/python3.7/dist-packages (from ip2geotools) (1.1.0)\n",
            "Requirement already satisfied: idna>=2.7 in /usr/local/lib/python3.7/dist-packages (from ip2geotools) (2.10)\n",
            "Requirement already satisfied: pyquery>=1.4.0 in /usr/local/lib/python3.7/dist-packages (from ip2geotools) (1.4.3)\n",
            "Requirement already satisfied: readme-renderer>=24.0 in /usr/local/lib/python3.7/dist-packages (from ip2geotools) (34.0)\n",
            "Requirement already satisfied: Click>=7.0 in /usr/local/lib/python3.7/dist-packages (from ip2geotools) (7.1.2)\n",
            "Requirement already satisfied: bleach>=3.0.2 in /usr/local/lib/python3.7/dist-packages (from ip2geotools) (4.1.0)\n",
            "Requirement already satisfied: dicttoxml>=1.7.4 in /usr/local/lib/python3.7/dist-packages (from ip2geotools) (1.7.4)\n",
            "Requirement already satisfied: geoip2>=2.9.0 in /usr/local/lib/python3.7/dist-packages (from ip2geotools) (4.5.0)\n",
            "Requirement already satisfied: pip-review>=1.0 in /usr/local/lib/python3.7/dist-packages (from ip2geotools) (1.1.1)\n",
            "Requirement already satisfied: Pygments>=2.3.0 in /usr/local/lib/python3.7/dist-packages (from ip2geotools) (2.6.1)\n",
            "Requirement already satisfied: typed-ast>=1.1.0 in /usr/local/lib/python3.7/dist-packages (from ip2geotools) (1.5.2)\n",
            "Requirement already satisfied: ratelim>=0.1.6 in /usr/local/lib/python3.7/dist-packages (from ip2geotools) (0.1.6)\n",
            "Requirement already satisfied: requests>=2.20.1 in /usr/local/lib/python3.7/dist-packages (from ip2geotools) (2.27.1)\n",
            "Requirement already satisfied: IP2Location>=8.0.3 in /usr/local/lib/python3.7/dist-packages (from ip2geotools) (8.7.1)\n",
            "Requirement already satisfied: chardet>=3.0.4 in /usr/local/lib/python3.7/dist-packages (from ip2geotools) (3.0.4)\n",
            "Requirement already satisfied: tqdm>=4.28.1 in /usr/local/lib/python3.7/dist-packages (from ip2geotools) (4.63.0)\n",
            "Requirement already satisfied: twine>=1.12.1 in /usr/local/lib/python3.7/dist-packages (from ip2geotools) (3.8.0)\n",
            "Requirement already satisfied: urllib3>=1.24.1 in /usr/local/lib/python3.7/dist-packages (from ip2geotools) (1.26.9)\n",
            "Requirement already satisfied: lxml>=4.2.5 in /usr/local/lib/python3.7/dist-packages (from ip2geotools) (4.2.6)\n",
            "Requirement already satisfied: setuptools>=20.0 in /usr/local/lib/python3.7/dist-packages (from astroid>=2.1.0->ip2geotools) (57.4.0)\n",
            "Requirement already satisfied: typing-extensions>=3.10 in /usr/local/lib/python3.7/dist-packages (from astroid>=2.1.0->ip2geotools) (3.10.0.2)\n",
            "Requirement already satisfied: toml in /usr/local/lib/python3.7/dist-packages (from autopep8>=1.4.3->ip2geotools) (0.10.2)\n",
            "Requirement already satisfied: aiohttp<4.0.0,>=3.6.2 in /usr/local/lib/python3.7/dist-packages (from geoip2>=2.9.0->ip2geotools) (3.8.1)\n",
            "Requirement already satisfied: attrs>=17.3.0 in /usr/local/lib/python3.7/dist-packages (from aiohttp<4.0.0,>=3.6.2->geoip2>=2.9.0->ip2geotools) (21.4.0)\n",
            "Requirement already satisfied: multidict<7.0,>=4.5 in /usr/local/lib/python3.7/dist-packages (from aiohttp<4.0.0,>=3.6.2->geoip2>=2.9.0->ip2geotools) (6.0.2)\n",
            "Requirement already satisfied: charset-normalizer<3.0,>=2.0 in /usr/local/lib/python3.7/dist-packages (from aiohttp<4.0.0,>=3.6.2->geoip2>=2.9.0->ip2geotools) (2.0.12)\n",
            "Requirement already satisfied: async-timeout<5.0,>=4.0.0a3 in /usr/local/lib/python3.7/dist-packages (from aiohttp<4.0.0,>=3.6.2->geoip2>=2.9.0->ip2geotools) (4.0.2)\n",
            "Requirement already satisfied: yarl<2.0,>=1.0 in /usr/local/lib/python3.7/dist-packages (from aiohttp<4.0.0,>=3.6.2->geoip2>=2.9.0->ip2geotools) (1.7.2)\n",
            "Requirement already satisfied: frozenlist>=1.1.1 in /usr/local/lib/python3.7/dist-packages (from aiohttp<4.0.0,>=3.6.2->geoip2>=2.9.0->ip2geotools) (1.3.0)\n",
            "Requirement already satisfied: asynctest==0.13.0 in /usr/local/lib/python3.7/dist-packages (from aiohttp<4.0.0,>=3.6.2->geoip2>=2.9.0->ip2geotools) (0.13.0)\n",
            "Requirement already satisfied: aiosignal>=1.1.2 in /usr/local/lib/python3.7/dist-packages (from aiohttp<4.0.0,>=3.6.2->geoip2>=2.9.0->ip2geotools) (1.2.0)\n",
            "Requirement already satisfied: pip in /usr/local/lib/python3.7/dist-packages (from pip-review>=1.0->ip2geotools) (21.1.3)\n",
            "Requirement already satisfied: platformdirs>=2.2.0 in /usr/local/lib/python3.7/dist-packages (from pylint>=2.2.0->ip2geotools) (2.5.1)\n",
            "Requirement already satisfied: trio~=0.17 in /usr/local/lib/python3.7/dist-packages (from selenium>=3.141.0->ip2geotools) (0.20.0)\n",
            "Requirement already satisfied: trio-websocket~=0.9 in /usr/local/lib/python3.7/dist-packages (from selenium>=3.141.0->ip2geotools) (0.9.2)\n",
            "Requirement already satisfied: async-generator>=1.9 in /usr/local/lib/python3.7/dist-packages (from trio~=0.17->selenium>=3.141.0->ip2geotools) (1.10)\n",
            "Requirement already satisfied: sniffio in /usr/local/lib/python3.7/dist-packages (from trio~=0.17->selenium>=3.141.0->ip2geotools) (1.2.0)\n",
            "Requirement already satisfied: sortedcontainers in /usr/local/lib/python3.7/dist-packages (from trio~=0.17->selenium>=3.141.0->ip2geotools) (2.4.0)\n",
            "Requirement already satisfied: outcome in /usr/local/lib/python3.7/dist-packages (from trio~=0.17->selenium>=3.141.0->ip2geotools) (1.1.0)\n",
            "Requirement already satisfied: wsproto>=0.14 in /usr/local/lib/python3.7/dist-packages (from trio-websocket~=0.9->selenium>=3.141.0->ip2geotools) (1.1.0)\n",
            "Requirement already satisfied: keyring>=15.1 in /usr/local/lib/python3.7/dist-packages (from twine>=1.12.1->ip2geotools) (23.5.0)\n",
            "Requirement already satisfied: colorama>=0.4.3 in /usr/local/lib/python3.7/dist-packages (from twine>=1.12.1->ip2geotools) (0.4.4)\n",
            "Requirement already satisfied: importlib-metadata>=3.6 in /usr/local/lib/python3.7/dist-packages (from twine>=1.12.1->ip2geotools) (4.11.2)\n",
            "Requirement already satisfied: rfc3986>=1.4.0 in /usr/local/lib/python3.7/dist-packages (from twine>=1.12.1->ip2geotools) (2.0.0)\n",
            "Requirement already satisfied: zipp>=0.5 in /usr/local/lib/python3.7/dist-packages (from importlib-metadata>=3.6->twine>=1.12.1->ip2geotools) (3.7.0)\n",
            "Requirement already satisfied: jeepney>=0.4.2 in /usr/local/lib/python3.7/dist-packages (from keyring>=15.1->twine>=1.12.1->ip2geotools) (0.7.1)\n",
            "Requirement already satisfied: SecretStorage>=3.2 in /usr/local/lib/python3.7/dist-packages (from keyring>=15.1->twine>=1.12.1->ip2geotools) (3.3.1)\n",
            "Requirement already satisfied: cryptography>=2.0 in /usr/local/lib/python3.7/dist-packages (from SecretStorage>=3.2->keyring>=15.1->twine>=1.12.1->ip2geotools) (36.0.2)\n",
            "Requirement already satisfied: cffi>=1.12 in /usr/local/lib/python3.7/dist-packages (from cryptography>=2.0->SecretStorage>=3.2->keyring>=15.1->twine>=1.12.1->ip2geotools) (1.15.0)\n",
            "Requirement already satisfied: pycparser in /usr/local/lib/python3.7/dist-packages (from cffi>=1.12->cryptography>=2.0->SecretStorage>=3.2->keyring>=15.1->twine>=1.12.1->ip2geotools) (2.21)\n",
            "Requirement already satisfied: PySocks!=1.5.7,<2.0,>=1.5.6 in /usr/local/lib/python3.7/dist-packages (from urllib3>=1.24.1->ip2geotools) (1.7.1)\n",
            "Requirement already satisfied: pyOpenSSL>=0.14 in /usr/local/lib/python3.7/dist-packages (from urllib3>=1.24.1->ip2geotools) (22.0.0)\n",
            "Requirement already satisfied: h11<1,>=0.9.0 in /usr/local/lib/python3.7/dist-packages (from wsproto>=0.14->trio-websocket~=0.9->selenium>=3.141.0->ip2geotools) (0.13.0)\n"
          ]
        }
      ]
    },
    {
      "cell_type": "code",
      "metadata": {
        "colab": {
          "base_uri": "https://localhost:8080/"
        },
        "id": "Yr1uDYKgBuYq",
        "outputId": "8fcb44aa-78fa-46b3-9949-7f4a64059f04"
      },
      "source": [
        "pip install geopy"
      ],
      "execution_count": null,
      "outputs": [
        {
          "output_type": "stream",
          "name": "stdout",
          "text": [
            "Requirement already satisfied: geopy in /usr/local/lib/python3.7/dist-packages (1.17.0)\n",
            "Requirement already satisfied: geographiclib<2,>=1.49 in /usr/local/lib/python3.7/dist-packages (from geopy) (1.52)\n"
          ]
        }
      ]
    },
    {
      "cell_type": "code",
      "metadata": {
        "id": "TxNXEeigr7Rg"
      },
      "source": [
        "import pandas as pd\n",
        "import matplotlib.pyplot as plt\n",
        "import seaborn as sns\n",
        "import numpy  as np\n",
        "%matplotlib inline\n",
        "sns.set(rc={'figure.figsize':(12, 12)}, font_scale=1.1)"
      ],
      "execution_count": null,
      "outputs": []
    },
    {
      "cell_type": "markdown",
      "metadata": {
        "id": "ufv7bMTDlesk"
      },
      "source": [
        "#**4.Web Data :-**\n",
        "> There are a lot of web applications data logs like user \n",
        "agents that contain a lot of info about used browser, OS \n",
        "and device.\n",
        "\n",
        ">IP address is a great way to extract geographical data from it.\n",
        "\n",
        "> More information is here : https://github.com/selwin/python-user-agents                                  \n",
        ">   https://github.com/tomas-net/ip2geotools"
      ]
    },
    {
      "cell_type": "code",
      "metadata": {
        "id": "aQxBxgAP6Tb-"
      },
      "source": [
        "import user_agents"
      ],
      "execution_count": null,
      "outputs": []
    },
    {
      "cell_type": "code",
      "metadata": {
        "id": "fs1a1dNls5H5",
        "colab": {
          "base_uri": "https://localhost:8080/"
        },
        "outputId": "fc3a14e4-3b49-4854-99ab-c5e5514c81cb"
      },
      "source": [
        "ua = 'Mozilla/5.0 (Windows NT 10.0; Win64; x64) AppleWebKit/537.36 (KHTML, like Gecko) Chrome/90.0.4430.212 Safari/537.36'\n",
        "ua = user_agents.parse(ua)\n",
        "print('Is a bot? ', ua.is_bot)  #bot is stands for webscramping  \n",
        "print('Is mobile? ', ua.is_mobile)\n",
        "print('Is PC? ',ua.is_pc) \n",
        "print('OS Family: ',ua.os.family)\n",
        "print('OS Version: ',ua.os.version)\n",
        "print('Browser Family: ',ua.browser.family) \n",
        "print('Browser Version: ',ua.browser.version)\n",
        "print('Device Family: ',ua.device.family) # other is for PC\n",
        "print('Device Brand: ',ua.device.brand)\n",
        "print('Device Model: ',ua.device.model)\n"
      ],
      "execution_count": null,
      "outputs": [
        {
          "output_type": "stream",
          "name": "stdout",
          "text": [
            "Is a bot?  False\n",
            "Is mobile?  False\n",
            "Is PC?  True\n",
            "OS Family:  Windows\n",
            "OS Version:  (10,)\n",
            "Browser Family:  Chrome\n",
            "Browser Version:  (90, 0, 4430)\n",
            "Device Family:  Other\n",
            "Device Brand:  None\n",
            "Device Model:  None\n"
          ]
        }
      ]
    },
    {
      "cell_type": "code",
      "metadata": {
        "colab": {
          "base_uri": "https://localhost:8080/"
        },
        "id": "AM8CSV5nrlBN",
        "outputId": "ff05da13-13d0-44b4-efbf-f4f40eb2dd14"
      },
      "source": [
        "ua_2 = 'Opera/9.42.(X11; Linux x86_64; en-US) Presto/2.9.171 Version/10.00'\n",
        "ua_2 = user_agents.parse(ua_2)\n",
        "print('Is a bot? ', ua_2.is_bot)      #bot is stands for webscramping  \n",
        "print('Is mobile? ', ua_2.is_mobile)\n",
        "print('Is PC? ',ua_2.is_pc) \n",
        "print('OS Family: ',ua_2.os.family)\n",
        "print('OS Version: ',ua_2.os.version)\n",
        "print('Browser Family: ',ua_2.browser.family) \n",
        "print('Browser Version: ',ua_2.browser.version)\n",
        "print('Device Family: ',ua_2.device.family)   #other is for PC\n",
        "print('Device Brand: ',ua_2.device.brand)\n",
        "print('Device Model: ',ua_2.device.model)\n"
      ],
      "execution_count": null,
      "outputs": [
        {
          "output_type": "stream",
          "name": "stdout",
          "text": [
            "Is a bot?  False\n",
            "Is mobile?  False\n",
            "Is PC?  True\n",
            "OS Family:  Linux\n",
            "OS Version:  ()\n",
            "Browser Family:  Opera\n",
            "Browser Version:  (9, 42)\n",
            "Device Family:  Other\n",
            "Device Brand:  None\n",
            "Device Model:  None\n"
          ]
        }
      ]
    },
    {
      "cell_type": "code",
      "metadata": {
        "colab": {
          "base_uri": "https://localhost:8080/"
        },
        "id": "zN7n4XPHtW3p",
        "outputId": "d7897a6f-072e-4467-8e20-e664a1ab494f"
      },
      "source": [
        "ua_3 = 'Mozilla/5.0 (X11; Linux i686) AppleWebKit/5321 (KHTML, like Gecko) Chrome/13.0.882.0 Safari/5321'\n",
        "ua_3 = user_agents.parse(ua_3)\n",
        "print('Is a bot? ', ua_3.is_bot)      #bot is stands for webscramping  \n",
        "print('Is mobile? ', ua_3.is_mobile)\n",
        "print('Is PC? ',ua_3.is_pc) \n",
        "print('OS Family: ',ua_3.os.family)\n",
        "print('OS Version: ',ua_3.os.version)\n",
        "print('Browser Family: ',ua_3.browser.family) \n",
        "print('Browser Version: ',ua_3.browser.version)\n",
        "print('Device Family: ',ua_3.device.family)   #other is for PC\n",
        "print('Device Brand: ',ua_3.device.brand)\n",
        "print('Device Model: ',ua_3.device.model)"
      ],
      "execution_count": null,
      "outputs": [
        {
          "output_type": "stream",
          "name": "stdout",
          "text": [
            "Is a bot?  False\n",
            "Is mobile?  False\n",
            "Is PC?  True\n",
            "OS Family:  Linux\n",
            "OS Version:  ()\n",
            "Browser Family:  Chrome\n",
            "Browser Version:  (13, 0, 882)\n",
            "Device Family:  Other\n",
            "Device Brand:  None\n",
            "Device Model:  None\n"
          ]
        }
      ]
    },
    {
      "cell_type": "code",
      "metadata": {
        "id": "eGFQ0-LnuVVM"
      },
      "source": [
        "df_Ecommerce = pd.read_csv('/content/Ecommerce Purchases.csv')"
      ],
      "execution_count": null,
      "outputs": []
    },
    {
      "cell_type": "code",
      "metadata": {
        "colab": {
          "base_uri": "https://localhost:8080/"
        },
        "id": "85UVxx_ZvAqX",
        "outputId": "fff13ba2-102f-4cf5-94d9-b017d36814e5"
      },
      "source": [
        "df_Ecommerce.info()"
      ],
      "execution_count": null,
      "outputs": [
        {
          "output_type": "stream",
          "name": "stdout",
          "text": [
            "<class 'pandas.core.frame.DataFrame'>\n",
            "RangeIndex: 10000 entries, 0 to 9999\n",
            "Data columns (total 14 columns):\n",
            " #   Column            Non-Null Count  Dtype  \n",
            "---  ------            --------------  -----  \n",
            " 0   Address           10000 non-null  object \n",
            " 1   Lot               10000 non-null  object \n",
            " 2   AM or PM          10000 non-null  object \n",
            " 3   Browser Info      10000 non-null  object \n",
            " 4   Company           10000 non-null  object \n",
            " 5   Credit Card       10000 non-null  int64  \n",
            " 6   CC Exp Date       10000 non-null  object \n",
            " 7   CC Security Code  10000 non-null  int64  \n",
            " 8   CC Provider       10000 non-null  object \n",
            " 9   Email             10000 non-null  object \n",
            " 10  Job               10000 non-null  object \n",
            " 11  IP Address        10000 non-null  object \n",
            " 12  Language          10000 non-null  object \n",
            " 13  Purchase Price    10000 non-null  float64\n",
            "dtypes: float64(1), int64(2), object(11)\n",
            "memory usage: 1.1+ MB\n"
          ]
        }
      ]
    },
    {
      "cell_type": "code",
      "metadata": {
        "colab": {
          "base_uri": "https://localhost:8080/",
          "height": 300
        },
        "id": "iNQalyJ6vsGa",
        "outputId": "3e876945-d542-43b9-c5b1-8ef98a3e5cbb"
      },
      "source": [
        "df_Ecommerce.describe()"
      ],
      "execution_count": null,
      "outputs": [
        {
          "output_type": "execute_result",
          "data": {
            "text/plain": [
              "        Credit Card  CC Security Code  Purchase Price\n",
              "count  1.000000e+04      10000.000000    10000.000000\n",
              "mean   2.341374e+15        907.217800       50.347302\n",
              "std    2.256103e+15       1589.693035       29.015836\n",
              "min    6.040186e+10          0.000000        0.000000\n",
              "25%    3.056322e+13        280.000000       25.150000\n",
              "50%    8.699942e+14        548.000000       50.505000\n",
              "75%    4.492298e+15        816.000000       75.770000\n",
              "max    6.012000e+15       9993.000000       99.990000"
            ],
            "text/html": [
              "\n",
              "  <div id=\"df-6063a737-c3dc-4a5c-b36a-ac07766d6ca8\">\n",
              "    <div class=\"colab-df-container\">\n",
              "      <div>\n",
              "<style scoped>\n",
              "    .dataframe tbody tr th:only-of-type {\n",
              "        vertical-align: middle;\n",
              "    }\n",
              "\n",
              "    .dataframe tbody tr th {\n",
              "        vertical-align: top;\n",
              "    }\n",
              "\n",
              "    .dataframe thead th {\n",
              "        text-align: right;\n",
              "    }\n",
              "</style>\n",
              "<table border=\"1\" class=\"dataframe\">\n",
              "  <thead>\n",
              "    <tr style=\"text-align: right;\">\n",
              "      <th></th>\n",
              "      <th>Credit Card</th>\n",
              "      <th>CC Security Code</th>\n",
              "      <th>Purchase Price</th>\n",
              "    </tr>\n",
              "  </thead>\n",
              "  <tbody>\n",
              "    <tr>\n",
              "      <th>count</th>\n",
              "      <td>1.000000e+04</td>\n",
              "      <td>10000.000000</td>\n",
              "      <td>10000.000000</td>\n",
              "    </tr>\n",
              "    <tr>\n",
              "      <th>mean</th>\n",
              "      <td>2.341374e+15</td>\n",
              "      <td>907.217800</td>\n",
              "      <td>50.347302</td>\n",
              "    </tr>\n",
              "    <tr>\n",
              "      <th>std</th>\n",
              "      <td>2.256103e+15</td>\n",
              "      <td>1589.693035</td>\n",
              "      <td>29.015836</td>\n",
              "    </tr>\n",
              "    <tr>\n",
              "      <th>min</th>\n",
              "      <td>6.040186e+10</td>\n",
              "      <td>0.000000</td>\n",
              "      <td>0.000000</td>\n",
              "    </tr>\n",
              "    <tr>\n",
              "      <th>25%</th>\n",
              "      <td>3.056322e+13</td>\n",
              "      <td>280.000000</td>\n",
              "      <td>25.150000</td>\n",
              "    </tr>\n",
              "    <tr>\n",
              "      <th>50%</th>\n",
              "      <td>8.699942e+14</td>\n",
              "      <td>548.000000</td>\n",
              "      <td>50.505000</td>\n",
              "    </tr>\n",
              "    <tr>\n",
              "      <th>75%</th>\n",
              "      <td>4.492298e+15</td>\n",
              "      <td>816.000000</td>\n",
              "      <td>75.770000</td>\n",
              "    </tr>\n",
              "    <tr>\n",
              "      <th>max</th>\n",
              "      <td>6.012000e+15</td>\n",
              "      <td>9993.000000</td>\n",
              "      <td>99.990000</td>\n",
              "    </tr>\n",
              "  </tbody>\n",
              "</table>\n",
              "</div>\n",
              "      <button class=\"colab-df-convert\" onclick=\"convertToInteractive('df-6063a737-c3dc-4a5c-b36a-ac07766d6ca8')\"\n",
              "              title=\"Convert this dataframe to an interactive table.\"\n",
              "              style=\"display:none;\">\n",
              "        \n",
              "  <svg xmlns=\"http://www.w3.org/2000/svg\" height=\"24px\"viewBox=\"0 0 24 24\"\n",
              "       width=\"24px\">\n",
              "    <path d=\"M0 0h24v24H0V0z\" fill=\"none\"/>\n",
              "    <path d=\"M18.56 5.44l.94 2.06.94-2.06 2.06-.94-2.06-.94-.94-2.06-.94 2.06-2.06.94zm-11 1L8.5 8.5l.94-2.06 2.06-.94-2.06-.94L8.5 2.5l-.94 2.06-2.06.94zm10 10l.94 2.06.94-2.06 2.06-.94-2.06-.94-.94-2.06-.94 2.06-2.06.94z\"/><path d=\"M17.41 7.96l-1.37-1.37c-.4-.4-.92-.59-1.43-.59-.52 0-1.04.2-1.43.59L10.3 9.45l-7.72 7.72c-.78.78-.78 2.05 0 2.83L4 21.41c.39.39.9.59 1.41.59.51 0 1.02-.2 1.41-.59l7.78-7.78 2.81-2.81c.8-.78.8-2.07 0-2.86zM5.41 20L4 18.59l7.72-7.72 1.47 1.35L5.41 20z\"/>\n",
              "  </svg>\n",
              "      </button>\n",
              "      \n",
              "  <style>\n",
              "    .colab-df-container {\n",
              "      display:flex;\n",
              "      flex-wrap:wrap;\n",
              "      gap: 12px;\n",
              "    }\n",
              "\n",
              "    .colab-df-convert {\n",
              "      background-color: #E8F0FE;\n",
              "      border: none;\n",
              "      border-radius: 50%;\n",
              "      cursor: pointer;\n",
              "      display: none;\n",
              "      fill: #1967D2;\n",
              "      height: 32px;\n",
              "      padding: 0 0 0 0;\n",
              "      width: 32px;\n",
              "    }\n",
              "\n",
              "    .colab-df-convert:hover {\n",
              "      background-color: #E2EBFA;\n",
              "      box-shadow: 0px 1px 2px rgba(60, 64, 67, 0.3), 0px 1px 3px 1px rgba(60, 64, 67, 0.15);\n",
              "      fill: #174EA6;\n",
              "    }\n",
              "\n",
              "    [theme=dark] .colab-df-convert {\n",
              "      background-color: #3B4455;\n",
              "      fill: #D2E3FC;\n",
              "    }\n",
              "\n",
              "    [theme=dark] .colab-df-convert:hover {\n",
              "      background-color: #434B5C;\n",
              "      box-shadow: 0px 1px 3px 1px rgba(0, 0, 0, 0.15);\n",
              "      filter: drop-shadow(0px 1px 2px rgba(0, 0, 0, 0.3));\n",
              "      fill: #FFFFFF;\n",
              "    }\n",
              "  </style>\n",
              "\n",
              "      <script>\n",
              "        const buttonEl =\n",
              "          document.querySelector('#df-6063a737-c3dc-4a5c-b36a-ac07766d6ca8 button.colab-df-convert');\n",
              "        buttonEl.style.display =\n",
              "          google.colab.kernel.accessAllowed ? 'block' : 'none';\n",
              "\n",
              "        async function convertToInteractive(key) {\n",
              "          const element = document.querySelector('#df-6063a737-c3dc-4a5c-b36a-ac07766d6ca8');\n",
              "          const dataTable =\n",
              "            await google.colab.kernel.invokeFunction('convertToInteractive',\n",
              "                                                     [key], {});\n",
              "          if (!dataTable) return;\n",
              "\n",
              "          const docLinkHtml = 'Like what you see? Visit the ' +\n",
              "            '<a target=\"_blank\" href=https://colab.research.google.com/notebooks/data_table.ipynb>data table notebook</a>'\n",
              "            + ' to learn more about interactive tables.';\n",
              "          element.innerHTML = '';\n",
              "          dataTable['output_type'] = 'display_data';\n",
              "          await google.colab.output.renderOutput(dataTable, element);\n",
              "          const docLink = document.createElement('div');\n",
              "          docLink.innerHTML = docLinkHtml;\n",
              "          element.appendChild(docLink);\n",
              "        }\n",
              "      </script>\n",
              "    </div>\n",
              "  </div>\n",
              "  "
            ]
          },
          "metadata": {},
          "execution_count": 11
        }
      ]
    },
    {
      "cell_type": "code",
      "metadata": {
        "colab": {
          "base_uri": "https://localhost:8080/",
          "height": 947
        },
        "id": "biEe9OSov19O",
        "outputId": "771e7fc4-fef1-42e5-afb1-c207b2bf43a7"
      },
      "source": [
        "df_Ecommerce.sample(10)"
      ],
      "execution_count": null,
      "outputs": [
        {
          "output_type": "execute_result",
          "data": {
            "text/plain": [
              "                                                Address    Lot AM or PM  \\\n",
              "9142     05594 Betty Lights\\nMelissafort, MD 53632-7253  47 PD       AM   \n",
              "7223        3546 Brown Vista\\nEast Davidmouth, IL 66014  76 UR       AM   \n",
              "9342           790 Costa Falls\\nRodriguezland, MO 46593  16 gc       AM   \n",
              "3885  69089 Sherman Valleys Suite 960\\nNew Nicoleche...  06 ti       PM   \n",
              "2851     668 Daniel Gateway\\nBenderville, MO 74226-2560  47 QY       PM   \n",
              "742   0669 Mendez Valleys Apt. 131\\nSouth Susanton, ...  08 oH       PM   \n",
              "4604     88553 Debra Ferry\\nWest Michael, TX 53028-1276  82 rt       AM   \n",
              "8946  9479 Miller Crossroad Apt. 659\\nSouth Aaron, W...  70 Tq       AM   \n",
              "2012    814 Valdez Spurs\\nNorth Christianview, MI 14232  43 Js       PM   \n",
              "9213   006 Phillip Flat\\nNorth Jamestown, HI 86270-3429  51 fs       PM   \n",
              "\n",
              "                                           Browser Info  \\\n",
              "9142  Mozilla/5.0 (X11; Linux i686; rv:1.9.7.20) Gec...   \n",
              "7223  Mozilla/5.0 (Windows; U; Windows 98; Win 9x 4....   \n",
              "9342  Opera/8.82.(Windows 98; Win 9x 4.90; sl-SI) Pr...   \n",
              "3885  Opera/8.24.(X11; Linux x86_64; en-US) Presto/2...   \n",
              "2851  Mozilla/5.0 (Windows 98; Win 9x 4.90) AppleWeb...   \n",
              "742   Mozilla/5.0 (Macintosh; U; Intel Mac OS X 10_6...   \n",
              "4604  Opera/9.13.(Windows NT 5.0; en-US) Presto/2.9....   \n",
              "8946  Mozilla/5.0 (Macintosh; PPC Mac OS X 10_8_2 rv...   \n",
              "2012  Mozilla/5.0 (Windows NT 4.0) AppleWebKit/5361 ...   \n",
              "9213  Mozilla/5.0 (compatible; MSIE 7.0; Windows NT ...   \n",
              "\n",
              "                           Company       Credit Card CC Exp Date  \\\n",
              "9142             Valencia-Woodward    30496337225969       02/17   \n",
              "7223                  Key-Mcintosh     4189594044353       12/18   \n",
              "9342                    Rios Group  5578194409510015       02/22   \n",
              "3885  Powell, Snyder and Fernandez  4990224213865306       08/21   \n",
              "2851                 Collins Group      676288908301       11/23   \n",
              "742        Chen, Hayes and Rodgers   376230011699518       11/19   \n",
              "4604               Acevedo-Watkins  4710152961005685       07/20   \n",
              "8946                Miller-Gilmore  6011880634733454       09/22   \n",
              "2012      Miller, Newman and Scott  3112755983064310       08/22   \n",
              "9213                Delgado-Jacobs  3528025112869767       04/22   \n",
              "\n",
              "      CC Security Code       CC Provider                          Email  \\\n",
              "9142                29           Maestro  charleslopez@hurst-howard.com   \n",
              "7223               377     VISA 16 digit           zbanks@henderson.com   \n",
              "9342               638           Voyager      cynthiastokes@hotmail.com   \n",
              "3885               889      JCB 16 digit           vlynch@gillespie.biz   \n",
              "2851               912           Maestro       stephanieparks@yahoo.com   \n",
              "742                171  American Express             glen31@hotmail.com   \n",
              "4604               324           Voyager       pruittdanielle@gmail.com   \n",
              "8946               161      JCB 16 digit    hamptonkimberly@hotmail.com   \n",
              "2012               911     VISA 16 digit      gonzaleztheresa@yahoo.com   \n",
              "9213               540  American Express         bensondeanna@yahoo.com   \n",
              "\n",
              "                                 Job       IP Address Language  Purchase Price  \n",
              "9142        Museum education officer   248.167.129.97       it           68.79  \n",
              "7223  Armed forces technical officer  244.195.237.214       pt            6.70  \n",
              "9342             Surveyor, insurance    78.108.54.246       pt           91.17  \n",
              "3885               Designer, textile   174.73.119.228       ru           16.71  \n",
              "2851                 Sales executive     3.224.14.137       pt            6.85  \n",
              "742                 Doctor, hospital  185.133.217.194       it           91.55  \n",
              "4604                  Pilot, airline   210.163.90.154       es           32.20  \n",
              "8946      Regulatory affairs officer  239.211.181.193       el           20.99  \n",
              "2012             Hospital pharmacist   254.122.34.163       zh           37.58  \n",
              "9213              Surveyor, minerals     76.231.8.251       pt           41.17  "
            ],
            "text/html": [
              "\n",
              "  <div id=\"df-bae95d05-8ad7-4017-9e00-36b9be3da5a4\">\n",
              "    <div class=\"colab-df-container\">\n",
              "      <div>\n",
              "<style scoped>\n",
              "    .dataframe tbody tr th:only-of-type {\n",
              "        vertical-align: middle;\n",
              "    }\n",
              "\n",
              "    .dataframe tbody tr th {\n",
              "        vertical-align: top;\n",
              "    }\n",
              "\n",
              "    .dataframe thead th {\n",
              "        text-align: right;\n",
              "    }\n",
              "</style>\n",
              "<table border=\"1\" class=\"dataframe\">\n",
              "  <thead>\n",
              "    <tr style=\"text-align: right;\">\n",
              "      <th></th>\n",
              "      <th>Address</th>\n",
              "      <th>Lot</th>\n",
              "      <th>AM or PM</th>\n",
              "      <th>Browser Info</th>\n",
              "      <th>Company</th>\n",
              "      <th>Credit Card</th>\n",
              "      <th>CC Exp Date</th>\n",
              "      <th>CC Security Code</th>\n",
              "      <th>CC Provider</th>\n",
              "      <th>Email</th>\n",
              "      <th>Job</th>\n",
              "      <th>IP Address</th>\n",
              "      <th>Language</th>\n",
              "      <th>Purchase Price</th>\n",
              "    </tr>\n",
              "  </thead>\n",
              "  <tbody>\n",
              "    <tr>\n",
              "      <th>9142</th>\n",
              "      <td>05594 Betty Lights\\nMelissafort, MD 53632-7253</td>\n",
              "      <td>47 PD</td>\n",
              "      <td>AM</td>\n",
              "      <td>Mozilla/5.0 (X11; Linux i686; rv:1.9.7.20) Gec...</td>\n",
              "      <td>Valencia-Woodward</td>\n",
              "      <td>30496337225969</td>\n",
              "      <td>02/17</td>\n",
              "      <td>29</td>\n",
              "      <td>Maestro</td>\n",
              "      <td>charleslopez@hurst-howard.com</td>\n",
              "      <td>Museum education officer</td>\n",
              "      <td>248.167.129.97</td>\n",
              "      <td>it</td>\n",
              "      <td>68.79</td>\n",
              "    </tr>\n",
              "    <tr>\n",
              "      <th>7223</th>\n",
              "      <td>3546 Brown Vista\\nEast Davidmouth, IL 66014</td>\n",
              "      <td>76 UR</td>\n",
              "      <td>AM</td>\n",
              "      <td>Mozilla/5.0 (Windows; U; Windows 98; Win 9x 4....</td>\n",
              "      <td>Key-Mcintosh</td>\n",
              "      <td>4189594044353</td>\n",
              "      <td>12/18</td>\n",
              "      <td>377</td>\n",
              "      <td>VISA 16 digit</td>\n",
              "      <td>zbanks@henderson.com</td>\n",
              "      <td>Armed forces technical officer</td>\n",
              "      <td>244.195.237.214</td>\n",
              "      <td>pt</td>\n",
              "      <td>6.70</td>\n",
              "    </tr>\n",
              "    <tr>\n",
              "      <th>9342</th>\n",
              "      <td>790 Costa Falls\\nRodriguezland, MO 46593</td>\n",
              "      <td>16 gc</td>\n",
              "      <td>AM</td>\n",
              "      <td>Opera/8.82.(Windows 98; Win 9x 4.90; sl-SI) Pr...</td>\n",
              "      <td>Rios Group</td>\n",
              "      <td>5578194409510015</td>\n",
              "      <td>02/22</td>\n",
              "      <td>638</td>\n",
              "      <td>Voyager</td>\n",
              "      <td>cynthiastokes@hotmail.com</td>\n",
              "      <td>Surveyor, insurance</td>\n",
              "      <td>78.108.54.246</td>\n",
              "      <td>pt</td>\n",
              "      <td>91.17</td>\n",
              "    </tr>\n",
              "    <tr>\n",
              "      <th>3885</th>\n",
              "      <td>69089 Sherman Valleys Suite 960\\nNew Nicoleche...</td>\n",
              "      <td>06 ti</td>\n",
              "      <td>PM</td>\n",
              "      <td>Opera/8.24.(X11; Linux x86_64; en-US) Presto/2...</td>\n",
              "      <td>Powell, Snyder and Fernandez</td>\n",
              "      <td>4990224213865306</td>\n",
              "      <td>08/21</td>\n",
              "      <td>889</td>\n",
              "      <td>JCB 16 digit</td>\n",
              "      <td>vlynch@gillespie.biz</td>\n",
              "      <td>Designer, textile</td>\n",
              "      <td>174.73.119.228</td>\n",
              "      <td>ru</td>\n",
              "      <td>16.71</td>\n",
              "    </tr>\n",
              "    <tr>\n",
              "      <th>2851</th>\n",
              "      <td>668 Daniel Gateway\\nBenderville, MO 74226-2560</td>\n",
              "      <td>47 QY</td>\n",
              "      <td>PM</td>\n",
              "      <td>Mozilla/5.0 (Windows 98; Win 9x 4.90) AppleWeb...</td>\n",
              "      <td>Collins Group</td>\n",
              "      <td>676288908301</td>\n",
              "      <td>11/23</td>\n",
              "      <td>912</td>\n",
              "      <td>Maestro</td>\n",
              "      <td>stephanieparks@yahoo.com</td>\n",
              "      <td>Sales executive</td>\n",
              "      <td>3.224.14.137</td>\n",
              "      <td>pt</td>\n",
              "      <td>6.85</td>\n",
              "    </tr>\n",
              "    <tr>\n",
              "      <th>742</th>\n",
              "      <td>0669 Mendez Valleys Apt. 131\\nSouth Susanton, ...</td>\n",
              "      <td>08 oH</td>\n",
              "      <td>PM</td>\n",
              "      <td>Mozilla/5.0 (Macintosh; U; Intel Mac OS X 10_6...</td>\n",
              "      <td>Chen, Hayes and Rodgers</td>\n",
              "      <td>376230011699518</td>\n",
              "      <td>11/19</td>\n",
              "      <td>171</td>\n",
              "      <td>American Express</td>\n",
              "      <td>glen31@hotmail.com</td>\n",
              "      <td>Doctor, hospital</td>\n",
              "      <td>185.133.217.194</td>\n",
              "      <td>it</td>\n",
              "      <td>91.55</td>\n",
              "    </tr>\n",
              "    <tr>\n",
              "      <th>4604</th>\n",
              "      <td>88553 Debra Ferry\\nWest Michael, TX 53028-1276</td>\n",
              "      <td>82 rt</td>\n",
              "      <td>AM</td>\n",
              "      <td>Opera/9.13.(Windows NT 5.0; en-US) Presto/2.9....</td>\n",
              "      <td>Acevedo-Watkins</td>\n",
              "      <td>4710152961005685</td>\n",
              "      <td>07/20</td>\n",
              "      <td>324</td>\n",
              "      <td>Voyager</td>\n",
              "      <td>pruittdanielle@gmail.com</td>\n",
              "      <td>Pilot, airline</td>\n",
              "      <td>210.163.90.154</td>\n",
              "      <td>es</td>\n",
              "      <td>32.20</td>\n",
              "    </tr>\n",
              "    <tr>\n",
              "      <th>8946</th>\n",
              "      <td>9479 Miller Crossroad Apt. 659\\nSouth Aaron, W...</td>\n",
              "      <td>70 Tq</td>\n",
              "      <td>AM</td>\n",
              "      <td>Mozilla/5.0 (Macintosh; PPC Mac OS X 10_8_2 rv...</td>\n",
              "      <td>Miller-Gilmore</td>\n",
              "      <td>6011880634733454</td>\n",
              "      <td>09/22</td>\n",
              "      <td>161</td>\n",
              "      <td>JCB 16 digit</td>\n",
              "      <td>hamptonkimberly@hotmail.com</td>\n",
              "      <td>Regulatory affairs officer</td>\n",
              "      <td>239.211.181.193</td>\n",
              "      <td>el</td>\n",
              "      <td>20.99</td>\n",
              "    </tr>\n",
              "    <tr>\n",
              "      <th>2012</th>\n",
              "      <td>814 Valdez Spurs\\nNorth Christianview, MI 14232</td>\n",
              "      <td>43 Js</td>\n",
              "      <td>PM</td>\n",
              "      <td>Mozilla/5.0 (Windows NT 4.0) AppleWebKit/5361 ...</td>\n",
              "      <td>Miller, Newman and Scott</td>\n",
              "      <td>3112755983064310</td>\n",
              "      <td>08/22</td>\n",
              "      <td>911</td>\n",
              "      <td>VISA 16 digit</td>\n",
              "      <td>gonzaleztheresa@yahoo.com</td>\n",
              "      <td>Hospital pharmacist</td>\n",
              "      <td>254.122.34.163</td>\n",
              "      <td>zh</td>\n",
              "      <td>37.58</td>\n",
              "    </tr>\n",
              "    <tr>\n",
              "      <th>9213</th>\n",
              "      <td>006 Phillip Flat\\nNorth Jamestown, HI 86270-3429</td>\n",
              "      <td>51 fs</td>\n",
              "      <td>PM</td>\n",
              "      <td>Mozilla/5.0 (compatible; MSIE 7.0; Windows NT ...</td>\n",
              "      <td>Delgado-Jacobs</td>\n",
              "      <td>3528025112869767</td>\n",
              "      <td>04/22</td>\n",
              "      <td>540</td>\n",
              "      <td>American Express</td>\n",
              "      <td>bensondeanna@yahoo.com</td>\n",
              "      <td>Surveyor, minerals</td>\n",
              "      <td>76.231.8.251</td>\n",
              "      <td>pt</td>\n",
              "      <td>41.17</td>\n",
              "    </tr>\n",
              "  </tbody>\n",
              "</table>\n",
              "</div>\n",
              "      <button class=\"colab-df-convert\" onclick=\"convertToInteractive('df-bae95d05-8ad7-4017-9e00-36b9be3da5a4')\"\n",
              "              title=\"Convert this dataframe to an interactive table.\"\n",
              "              style=\"display:none;\">\n",
              "        \n",
              "  <svg xmlns=\"http://www.w3.org/2000/svg\" height=\"24px\"viewBox=\"0 0 24 24\"\n",
              "       width=\"24px\">\n",
              "    <path d=\"M0 0h24v24H0V0z\" fill=\"none\"/>\n",
              "    <path d=\"M18.56 5.44l.94 2.06.94-2.06 2.06-.94-2.06-.94-.94-2.06-.94 2.06-2.06.94zm-11 1L8.5 8.5l.94-2.06 2.06-.94-2.06-.94L8.5 2.5l-.94 2.06-2.06.94zm10 10l.94 2.06.94-2.06 2.06-.94-2.06-.94-.94-2.06-.94 2.06-2.06.94z\"/><path d=\"M17.41 7.96l-1.37-1.37c-.4-.4-.92-.59-1.43-.59-.52 0-1.04.2-1.43.59L10.3 9.45l-7.72 7.72c-.78.78-.78 2.05 0 2.83L4 21.41c.39.39.9.59 1.41.59.51 0 1.02-.2 1.41-.59l7.78-7.78 2.81-2.81c.8-.78.8-2.07 0-2.86zM5.41 20L4 18.59l7.72-7.72 1.47 1.35L5.41 20z\"/>\n",
              "  </svg>\n",
              "      </button>\n",
              "      \n",
              "  <style>\n",
              "    .colab-df-container {\n",
              "      display:flex;\n",
              "      flex-wrap:wrap;\n",
              "      gap: 12px;\n",
              "    }\n",
              "\n",
              "    .colab-df-convert {\n",
              "      background-color: #E8F0FE;\n",
              "      border: none;\n",
              "      border-radius: 50%;\n",
              "      cursor: pointer;\n",
              "      display: none;\n",
              "      fill: #1967D2;\n",
              "      height: 32px;\n",
              "      padding: 0 0 0 0;\n",
              "      width: 32px;\n",
              "    }\n",
              "\n",
              "    .colab-df-convert:hover {\n",
              "      background-color: #E2EBFA;\n",
              "      box-shadow: 0px 1px 2px rgba(60, 64, 67, 0.3), 0px 1px 3px 1px rgba(60, 64, 67, 0.15);\n",
              "      fill: #174EA6;\n",
              "    }\n",
              "\n",
              "    [theme=dark] .colab-df-convert {\n",
              "      background-color: #3B4455;\n",
              "      fill: #D2E3FC;\n",
              "    }\n",
              "\n",
              "    [theme=dark] .colab-df-convert:hover {\n",
              "      background-color: #434B5C;\n",
              "      box-shadow: 0px 1px 3px 1px rgba(0, 0, 0, 0.15);\n",
              "      filter: drop-shadow(0px 1px 2px rgba(0, 0, 0, 0.3));\n",
              "      fill: #FFFFFF;\n",
              "    }\n",
              "  </style>\n",
              "\n",
              "      <script>\n",
              "        const buttonEl =\n",
              "          document.querySelector('#df-bae95d05-8ad7-4017-9e00-36b9be3da5a4 button.colab-df-convert');\n",
              "        buttonEl.style.display =\n",
              "          google.colab.kernel.accessAllowed ? 'block' : 'none';\n",
              "\n",
              "        async function convertToInteractive(key) {\n",
              "          const element = document.querySelector('#df-bae95d05-8ad7-4017-9e00-36b9be3da5a4');\n",
              "          const dataTable =\n",
              "            await google.colab.kernel.invokeFunction('convertToInteractive',\n",
              "                                                     [key], {});\n",
              "          if (!dataTable) return;\n",
              "\n",
              "          const docLinkHtml = 'Like what you see? Visit the ' +\n",
              "            '<a target=\"_blank\" href=https://colab.research.google.com/notebooks/data_table.ipynb>data table notebook</a>'\n",
              "            + ' to learn more about interactive tables.';\n",
              "          element.innerHTML = '';\n",
              "          dataTable['output_type'] = 'display_data';\n",
              "          await google.colab.output.renderOutput(dataTable, element);\n",
              "          const docLink = document.createElement('div');\n",
              "          docLink.innerHTML = docLinkHtml;\n",
              "          element.appendChild(docLink);\n",
              "        }\n",
              "      </script>\n",
              "    </div>\n",
              "  </div>\n",
              "  "
            ]
          },
          "metadata": {},
          "execution_count": 12
        }
      ]
    },
    {
      "cell_type": "code",
      "metadata": {
        "id": "xUCOtGrQv6ku"
      },
      "source": [
        "# functions for extracting device , os ,browser from data\n",
        "def Extract_OS(ua):\n",
        "    ua = user_agents.parse(ua)\n",
        "    return ua.os.family\n",
        "\n",
        "\n",
        "def extract_device(ua):\n",
        "    ua = user_agents.parse(ua)\n",
        "    return ua.device.family\n",
        "\n",
        "\n",
        "def Extract_Browser(ua):\n",
        "    ua = user_agents.parse(ua)\n",
        "    return ua.browser.family"
      ],
      "execution_count": null,
      "outputs": []
    },
    {
      "cell_type": "code",
      "metadata": {
        "id": "gwBTVSC8w7p8"
      },
      "source": [
        "df_Ecommerce['OS'] = df_Ecommerce['Browser Info'].apply(Extract_OS)"
      ],
      "execution_count": null,
      "outputs": []
    },
    {
      "cell_type": "code",
      "metadata": {
        "colab": {
          "base_uri": "https://localhost:8080/"
        },
        "id": "N1uvJMVlxp1O",
        "outputId": "738a4343-1304-4a97-8dc4-fb46873ee83e"
      },
      "source": [
        "df_Ecommerce['OS']"
      ],
      "execution_count": null,
      "outputs": [
        {
          "output_type": "execute_result",
          "data": {
            "text/plain": [
              "0          Linux\n",
              "1        Windows\n",
              "2        Windows\n",
              "3       Mac OS X\n",
              "4          Linux\n",
              "          ...   \n",
              "9995     Windows\n",
              "9996     Windows\n",
              "9997    Mac OS X\n",
              "9998    Mac OS X\n",
              "9999       Linux\n",
              "Name: OS, Length: 10000, dtype: object"
            ]
          },
          "metadata": {},
          "execution_count": 15
        }
      ]
    },
    {
      "cell_type": "code",
      "metadata": {
        "colab": {
          "base_uri": "https://localhost:8080/"
        },
        "id": "aepK93ayxpl-",
        "outputId": "acd81969-fbfc-486c-8981-ce81d9f0c59b"
      },
      "source": [
        "df_Ecommerce['OS'].describe()"
      ],
      "execution_count": null,
      "outputs": [
        {
          "output_type": "execute_result",
          "data": {
            "text/plain": [
              "count       10000\n",
              "unique          4\n",
              "top       Windows\n",
              "freq         4994\n",
              "Name: OS, dtype: object"
            ]
          },
          "metadata": {},
          "execution_count": 16
        }
      ]
    },
    {
      "cell_type": "code",
      "metadata": {
        "colab": {
          "base_uri": "https://localhost:8080/"
        },
        "id": "uZy4M4FqxyKb",
        "outputId": "b08a66e3-d77c-44a1-8f84-f1e1b8017ac4"
      },
      "source": [
        "df_Ecommerce['OS'].value_counts()"
      ],
      "execution_count": null,
      "outputs": [
        {
          "output_type": "execute_result",
          "data": {
            "text/plain": [
              "Windows     4994\n",
              "Linux       2322\n",
              "Mac OS X    2061\n",
              "iOS          623\n",
              "Name: OS, dtype: int64"
            ]
          },
          "metadata": {},
          "execution_count": 17
        }
      ]
    },
    {
      "cell_type": "code",
      "metadata": {
        "colab": {
          "base_uri": "https://localhost:8080/",
          "height": 740
        },
        "id": "UrE7ocI1x2Cx",
        "outputId": "466e81dc-c82d-44eb-a7c1-db2df135853d"
      },
      "source": [
        "sns.countplot(x=df_Ecommerce['OS'])"
      ],
      "execution_count": null,
      "outputs": [
        {
          "output_type": "execute_result",
          "data": {
            "text/plain": [
              "<matplotlib.axes._subplots.AxesSubplot at 0x7f325c67af50>"
            ]
          },
          "metadata": {},
          "execution_count": 18
        },
        {
          "output_type": "display_data",
          "data": {
            "text/plain": [
              "<Figure size 864x864 with 1 Axes>"
            ],
            "image/png": "[encoded data removed]"
          },
          "metadata": {}
        }
      ]
    },
    {
      "cell_type": "code",
      "metadata": {
        "id": "hrWvGRsMxL3z"
      },
      "source": [
        "df_Ecommerce['Device'] = df_Ecommerce['Browser Info'].apply(extract_device)"
      ],
      "execution_count": null,
      "outputs": []
    },
    {
      "cell_type": "code",
      "metadata": {
        "colab": {
          "base_uri": "https://localhost:8080/"
        },
        "id": "pm3IiJ1XyJCy",
        "outputId": "f9ad3b77-304c-4592-dacb-5ccc4ab3e56e"
      },
      "source": [
        "df_Ecommerce['Device']"
      ],
      "execution_count": null,
      "outputs": [
        {
          "output_type": "execute_result",
          "data": {
            "text/plain": [
              "0       Other\n",
              "1       Other\n",
              "2       Other\n",
              "3         Mac\n",
              "4       Other\n",
              "        ...  \n",
              "9995    Other\n",
              "9996    Other\n",
              "9997      Mac\n",
              "9998      Mac\n",
              "9999    Other\n",
              "Name: Device, Length: 10000, dtype: object"
            ]
          },
          "metadata": {},
          "execution_count": 20
        }
      ]
    },
    {
      "cell_type": "code",
      "metadata": {
        "colab": {
          "base_uri": "https://localhost:8080/"
        },
        "id": "hXOHMJYIyO8K",
        "outputId": "3e73aa94-ac33-414b-d5f5-b5261c586e77"
      },
      "source": [
        "df_Ecommerce['Device'].describe()"
      ],
      "execution_count": null,
      "outputs": [
        {
          "output_type": "execute_result",
          "data": {
            "text/plain": [
              "count     10000\n",
              "unique        4\n",
              "top       Other\n",
              "freq       6901\n",
              "Name: Device, dtype: object"
            ]
          },
          "metadata": {},
          "execution_count": 21
        }
      ]
    },
    {
      "cell_type": "code",
      "metadata": {
        "colab": {
          "base_uri": "https://localhost:8080/"
        },
        "id": "OpY9fI9HyOfc",
        "outputId": "635c44e7-a978-4c85-a783-e3be0d0b2d59"
      },
      "source": [
        "df_Ecommerce['Device'].value_counts()"
      ],
      "execution_count": null,
      "outputs": [
        {
          "output_type": "execute_result",
          "data": {
            "text/plain": [
              "Other                 6901\n",
              "Mac                   2061\n",
              "iPod                   623\n",
              "Generic Smartphone     415\n",
              "Name: Device, dtype: int64"
            ]
          },
          "metadata": {},
          "execution_count": 22
        }
      ]
    },
    {
      "cell_type": "code",
      "metadata": {
        "colab": {
          "base_uri": "https://localhost:8080/",
          "height": 740
        },
        "id": "P9nUd71iyN-I",
        "outputId": "64422445-566c-4659-dd65-b007a99d795c"
      },
      "source": [
        "sns.countplot(x=df_Ecommerce['Device'])"
      ],
      "execution_count": null,
      "outputs": [
        {
          "output_type": "execute_result",
          "data": {
            "text/plain": [
              "<matplotlib.axes._subplots.AxesSubplot at 0x7f325c114e90>"
            ]
          },
          "metadata": {},
          "execution_count": 23
        },
        {
          "output_type": "display_data",
          "data": {
            "text/plain": [
              "<Figure size 864x864 with 1 Axes>"
            ],
            "image/png": "[encoded data removed]"
          },
          "metadata": {}
        }
      ]
    },
    {
      "cell_type": "code",
      "metadata": {
        "id": "oiZvzshOyA_d"
      },
      "source": [
        "df_Ecommerce['Browser'] = df_Ecommerce['Browser Info'].apply(Extract_Browser)"
      ],
      "execution_count": null,
      "outputs": []
    },
    {
      "cell_type": "code",
      "metadata": {
        "colab": {
          "base_uri": "https://localhost:8080/"
        },
        "id": "2oj9mHX6yprX",
        "outputId": "04845fe6-33bb-47f5-8fa0-296b1a510b93"
      },
      "source": [
        "df_Ecommerce['Browser'] "
      ],
      "execution_count": null,
      "outputs": [
        {
          "output_type": "execute_result",
          "data": {
            "text/plain": [
              "0         Opera\n",
              "1         Opera\n",
              "2            IE\n",
              "3        Safari\n",
              "4         Opera\n",
              "         ...   \n",
              "9995     Chrome\n",
              "9996         IE\n",
              "9997     Safari\n",
              "9998    Firefox\n",
              "9999    Firefox\n",
              "Name: Browser, Length: 10000, dtype: object"
            ]
          },
          "metadata": {},
          "execution_count": 25
        }
      ]
    },
    {
      "cell_type": "code",
      "metadata": {
        "colab": {
          "base_uri": "https://localhost:8080/"
        },
        "id": "dYXvDNTSyge-",
        "outputId": "9134d1db-949a-46a3-f99c-cbbec50a949d"
      },
      "source": [
        "df_Ecommerce['Browser'].value_counts()"
      ],
      "execution_count": null,
      "outputs": [
        {
          "output_type": "execute_result",
          "data": {
            "text/plain": [
              "Opera            2076\n",
              "IE               2052\n",
              "Chrome           1984\n",
              "Firefox          1973\n",
              "Safari           1292\n",
              "Mobile Safari     623\n",
              "Name: Browser, dtype: int64"
            ]
          },
          "metadata": {},
          "execution_count": 26
        }
      ]
    },
    {
      "cell_type": "code",
      "metadata": {
        "colab": {
          "base_uri": "https://localhost:8080/",
          "height": 740
        },
        "id": "Mtxo-BuJ0adD",
        "outputId": "9aa5e754-ed74-454d-f746-8fa8eadc96ef"
      },
      "source": [
        "sns.countplot(x=df_Ecommerce['Browser'])"
      ],
      "execution_count": null,
      "outputs": [
        {
          "output_type": "execute_result",
          "data": {
            "text/plain": [
              "<matplotlib.axes._subplots.AxesSubplot at 0x7f325c06cc90>"
            ]
          },
          "metadata": {},
          "execution_count": 27
        },
        {
          "output_type": "display_data",
          "data": {
            "text/plain": [
              "<Figure size 864x864 with 1 Axes>"
            ],
            "image/png": "[encoded data removed]"
          },
          "metadata": {}
        }
      ]
    },
    {
      "cell_type": "code",
      "source": [
        "def is_bot(ua):\n",
        "    ua = user_agents.parse(ua)\n",
        "    return ua.is_bot\n",
        "\n",
        "\n",
        "def is_pc(ua):\n",
        "    ua = user_agents.parse(ua)\n",
        "    return ua.is_pc\n",
        "\n",
        "\n",
        "def is_mobile(ua):\n",
        "    ua = user_agents.parse(ua)\n",
        "    return ua.is_mobile"
      ],
      "metadata": {
        "id": "8e6XkkBlLR52"
      },
      "execution_count": null,
      "outputs": []
    },
    {
      "cell_type": "code",
      "metadata": {
        "id": "alsXYgGGLuwe"
      },
      "source": [
        "df_Ecommerce['Is_bot ?'] = df_Ecommerce['Browser Info'].apply(is_bot)"
      ],
      "execution_count": null,
      "outputs": []
    },
    {
      "cell_type": "code",
      "metadata": {
        "colab": {
          "base_uri": "https://localhost:8080/"
        },
        "outputId": "ad24374f-12fc-4837-c886-d50cd4906f14",
        "id": "dk_au4PRLuwo"
      },
      "source": [
        "df_Ecommerce['Is_bot ?']"
      ],
      "execution_count": null,
      "outputs": [
        {
          "output_type": "execute_result",
          "data": {
            "text/plain": [
              "0       False\n",
              "1       False\n",
              "2       False\n",
              "3       False\n",
              "4       False\n",
              "        ...  \n",
              "9995    False\n",
              "9996    False\n",
              "9997    False\n",
              "9998    False\n",
              "9999    False\n",
              "Name: Is_bot ?, Length: 10000, dtype: bool"
            ]
          },
          "metadata": {},
          "execution_count": 30
        }
      ]
    },
    {
      "cell_type": "code",
      "metadata": {
        "colab": {
          "base_uri": "https://localhost:8080/"
        },
        "outputId": "e8cb03f6-3a2f-49fe-c5d6-b534eef16635",
        "id": "Q20MIWx6Luwr"
      },
      "source": [
        "df_Ecommerce['Is_bot ?'].value_counts()"
      ],
      "execution_count": null,
      "outputs": [
        {
          "output_type": "execute_result",
          "data": {
            "text/plain": [
              "False    10000\n",
              "Name: Is_bot ?, dtype: int64"
            ]
          },
          "metadata": {},
          "execution_count": 31
        }
      ]
    },
    {
      "cell_type": "code",
      "metadata": {
        "id": "Pqh7QDAQLuwt"
      },
      "source": [
        "df_Ecommerce['Is PC ?'] = df_Ecommerce['Browser Info'].apply(is_pc)"
      ],
      "execution_count": null,
      "outputs": []
    },
    {
      "cell_type": "code",
      "metadata": {
        "colab": {
          "base_uri": "https://localhost:8080/"
        },
        "outputId": "4cc88fa8-cfb2-406c-8583-bcc9d28229b0",
        "id": "ox1aUIzYLuwt"
      },
      "source": [
        "df_Ecommerce['Is PC ?']"
      ],
      "execution_count": null,
      "outputs": [
        {
          "output_type": "execute_result",
          "data": {
            "text/plain": [
              "0       True\n",
              "1       True\n",
              "2       True\n",
              "3       True\n",
              "4       True\n",
              "        ... \n",
              "9995    True\n",
              "9996    True\n",
              "9997    True\n",
              "9998    True\n",
              "9999    True\n",
              "Name: Is PC ?, Length: 10000, dtype: bool"
            ]
          },
          "metadata": {},
          "execution_count": 33
        }
      ]
    },
    {
      "cell_type": "code",
      "metadata": {
        "colab": {
          "base_uri": "https://localhost:8080/"
        },
        "outputId": "071c865f-c1ee-4df0-94f3-d6c5f56a3479",
        "id": "qPgHOMUaLuwv"
      },
      "source": [
        "df_Ecommerce['Is PC ?'].value_counts()"
      ],
      "execution_count": null,
      "outputs": [
        {
          "output_type": "execute_result",
          "data": {
            "text/plain": [
              "True     8138\n",
              "False    1862\n",
              "Name: Is PC ?, dtype: int64"
            ]
          },
          "metadata": {},
          "execution_count": 34
        }
      ]
    },
    {
      "cell_type": "code",
      "metadata": {
        "colab": {
          "base_uri": "https://localhost:8080/",
          "height": 740
        },
        "outputId": "afd7826d-4a1c-40e4-99a4-2a29899d9950",
        "id": "XBOyPgWiLuww"
      },
      "source": [
        "sns.countplot(x=df_Ecommerce['Is PC ?'])"
      ],
      "execution_count": null,
      "outputs": [
        {
          "output_type": "execute_result",
          "data": {
            "text/plain": [
              "<matplotlib.axes._subplots.AxesSubplot at 0x7f325bfdb050>"
            ]
          },
          "metadata": {},
          "execution_count": 35
        },
        {
          "output_type": "display_data",
          "data": {
            "text/plain": [
              "<Figure size 864x864 with 1 Axes>"
            ],
            "image/png": "[encoded data removed]"
          },
          "metadata": {}
        }
      ]
    },
    {
      "cell_type": "code",
      "metadata": {
        "id": "u1pWAMtALuwx"
      },
      "source": [
        "df_Ecommerce['Is Mobile ?'] = df_Ecommerce['Browser Info'].apply(is_mobile)"
      ],
      "execution_count": null,
      "outputs": []
    },
    {
      "cell_type": "code",
      "metadata": {
        "colab": {
          "base_uri": "https://localhost:8080/"
        },
        "outputId": "e453ee79-7436-46e1-9a69-e88ef04ea86c",
        "id": "jooZr63LLuwx"
      },
      "source": [
        "df_Ecommerce['Is Mobile ?'] "
      ],
      "execution_count": null,
      "outputs": [
        {
          "output_type": "execute_result",
          "data": {
            "text/plain": [
              "5598    False\n",
              "7421    False\n",
              "5585    False\n",
              "3478    False\n",
              "4755    False\n",
              "        ...  \n",
              "4158    False\n",
              "644     False\n",
              "9537    False\n",
              "8437    False\n",
              "3834    False\n",
              "Name: Is Mobile ?, Length: 500, dtype: bool"
            ]
          },
          "metadata": {},
          "execution_count": 63
        }
      ]
    },
    {
      "cell_type": "code",
      "metadata": {
        "colab": {
          "base_uri": "https://localhost:8080/"
        },
        "outputId": "e4c02f5e-5cca-421b-b30e-070fa73044d3",
        "id": "VpKz4Rz4Luwy"
      },
      "source": [
        "df_Ecommerce['Is Mobile ?'].value_counts()"
      ],
      "execution_count": null,
      "outputs": [
        {
          "output_type": "execute_result",
          "data": {
            "text/plain": [
              "False    447\n",
              "True      53\n",
              "Name: Is Mobile ?, dtype: int64"
            ]
          },
          "metadata": {},
          "execution_count": 64
        }
      ]
    },
    {
      "cell_type": "code",
      "metadata": {
        "colab": {
          "base_uri": "https://localhost:8080/",
          "height": 740
        },
        "outputId": "db581794-b7bc-41b0-e7c0-b14ed002d444",
        "id": "ZYOVv4dGLuwz"
      },
      "source": [
        "sns.countplot(x=df_Ecommerce['Is Mobile ?'])"
      ],
      "execution_count": null,
      "outputs": [
        {
          "output_type": "execute_result",
          "data": {
            "text/plain": [
              "<matplotlib.axes._subplots.AxesSubplot at 0x7f325ca97210>"
            ]
          },
          "metadata": {},
          "execution_count": 65
        },
        {
          "output_type": "display_data",
          "data": {
            "text/plain": [
              "<Figure size 864x864 with 1 Axes>"
            ],
            "image/png": "[encoded data removed]"
          },
          "metadata": {}
        }
      ]
    },
    {
      "cell_type": "code",
      "metadata": {
        "id": "r_E3km8t0fs0",
        "colab": {
          "base_uri": "https://localhost:8080/"
        },
        "outputId": "b67a2097-8b69-40e2-cfa0-6f8a8dc85df1"
      },
      "source": [
        "from ip2geotools.databases.noncommercial import DbIpCity as ip2geo\n",
        "response = ip2geo.get('45.243.72.231' )\n",
        "print(response.ip_address)\n",
        "print(response.city)\n",
        "print(response.region)\n",
        "print(response.country)\n",
        "print(response.latitude)\n",
        "print(response.longitude)"
      ],
      "execution_count": null,
      "outputs": [
        {
          "output_type": "stream",
          "name": "stdout",
          "text": [
            "45.243.72.231\n",
            "Cairo\n",
            "Cairo\n",
            "EG\n",
            "30.0443879\n",
            "31.2357257\n"
          ]
        }
      ]
    },
    {
      "cell_type": "markdown",
      "metadata": {
        "id": "yGv-ecNE2P6w"
      },
      "source": [
        "**Note :** \n",
        "\n",
        "**1. Using this library is charged but daily checking only for 2000 ip address is free**    \n",
        "**2. Using this library as using any web service so be online while using it**"
      ]
    },
    {
      "cell_type": "code",
      "metadata": {
        "id": "omH6aCP33d94"
      },
      "source": [
        "df_Ecommerce = df_Ecommerce.sample(500)"
      ],
      "execution_count": null,
      "outputs": []
    },
    {
      "cell_type": "code",
      "metadata": {
        "id": "HMhT-3daNC58",
        "colab": {
          "base_uri": "https://localhost:8080/",
          "height": 974
        },
        "outputId": "90868178-c0ed-4fe5-9adc-edb82ddc8019"
      },
      "source": [
        "df_Ecommerce "
      ],
      "execution_count": null,
      "outputs": [
        {
          "output_type": "execute_result",
          "data": {
            "text/plain": [
              "                                                Address    Lot AM or PM  \\\n",
              "5598  72255 Carl Causeway Suite 268\\nCameronmouth, V...  18 Af       PM   \n",
              "7421  932 White Locks Apt. 738\\nLake Andrewfurt, NV ...  28 WM       PM   \n",
              "5585  51300 Stephanie Rue Apt. 199\\nNorth Andrewmout...  53 yd       AM   \n",
              "3478  919 Wallace Freeway Suite 168\\nDominiqueshire,...  47 hL       AM   \n",
              "4755     3237 Jessica Glens\\nLake Mirandaview, VI 78842  15 mO       AM   \n",
              "...                                                 ...    ...      ...   \n",
              "4158                     USCGC Lopez\\nFPO AA 87802-1300  78 de       AM   \n",
              "644               8251 Adams View\\nWest Mario, GA 75474  05 HQ       AM   \n",
              "9537          679 Sarah Roads\\nJacksonborough, MP 09174  98 Gv       AM   \n",
              "8437       4983 Kimberly Crossing\\nNorth Alex, NC 92879  28 Wq       AM   \n",
              "3834         2364 Sandoval Brooks\\nDavidshire, MI 88651  97 Rt       PM   \n",
              "\n",
              "                                           Browser Info  \\\n",
              "5598  Mozilla/5.0 (Windows NT 6.1) AppleWebKit/5330 ...   \n",
              "7421  Mozilla/5.0 (Macintosh; Intel Mac OS X 10_5_9 ...   \n",
              "5585  Mozilla/5.0 (Windows; U; Windows NT 4.0) Apple...   \n",
              "3478  Opera/8.58.(Windows NT 6.2; it-IT) Presto/2.9....   \n",
              "4755  Mozilla/5.0 (compatible; MSIE 7.0; Windows NT ...   \n",
              "...                                                 ...   \n",
              "4158  Mozilla/5.0 (X11; Linux i686) AppleWebKit/5361...   \n",
              "644   Mozilla/5.0 (Macintosh; U; PPC Mac OS X 10_7_5...   \n",
              "9537  Mozilla/5.0 (Macintosh; Intel Mac OS X 10_8_6 ...   \n",
              "8437  Mozilla/5.0 (Macintosh; Intel Mac OS X 10_6_1;...   \n",
              "3834  Mozilla/5.0 (Windows 95; sl-SI; rv:1.9.1.20) G...   \n",
              "\n",
              "                          Company       Credit Card CC Exp Date  \\\n",
              "5598           Higgins-Cunningham      503873476512       02/22   \n",
              "7421  Valenzuela, James and Yoder   180067492580296       08/17   \n",
              "5585              Wagner and Sons  3096306304138365       06/26   \n",
              "3478               Gordon-Sanchez   210008829843514       06/26   \n",
              "4755   Hubbard, Martin and Abbott     4919966622661       01/17   \n",
              "...                           ...               ...         ...   \n",
              "4158                    Ramos PLC      503838604893       11/23   \n",
              "644   Simmons, Williams and Moore   869990064800826       01/25   \n",
              "9537                    Bauer PLC  6011119446517460       04/17   \n",
              "8437            Velasquez-Vasquez   340754483131414       06/17   \n",
              "3834                  Martin-Holt  3337501820220114       10/20   \n",
              "\n",
              "      CC Security Code                  CC Provider  \\\n",
              "5598               770                     Discover   \n",
              "7421               132                     Discover   \n",
              "5585               754                     Discover   \n",
              "3478               154                 JCB 15 digit   \n",
              "4755               783                      Voyager   \n",
              "...                ...                          ...   \n",
              "4158               957                 JCB 16 digit   \n",
              "644                220  Diners Club / Carte Blanche   \n",
              "9537               667                VISA 16 digit   \n",
              "8437               473                     Discover   \n",
              "3834              5639                      Maestro   \n",
              "\n",
              "                                    Email                       Job  \\\n",
              "5598            williamvargas@hotmail.com                Counsellor   \n",
              "7421            sarafernandez@hotmail.com                Geochemist   \n",
              "5585                  xbryant@hotmail.com          Location manager   \n",
              "3478                xwilliams@hotmail.com         Scientist, marine   \n",
              "4755               randyfreeman@yahoo.com           Charity officer   \n",
              "...                                   ...                       ...   \n",
              "4158                kristinboyer@ross.com        Press photographer   \n",
              "644                tommyvaldez@hughes.com     Clinical psychologist   \n",
              "9537               coxkelly@lee-hicks.net  Engineer, communications   \n",
              "8437        rebecca09@powell-sullivan.net             Tax inspector   \n",
              "3834  oneillelizabeth@johnston-wilson.org              Metallurgist   \n",
              "\n",
              "           IP Address Language  Purchase Price        OS Device  Browser  \\\n",
              "5598  202.132.169.252       es           41.87   Windows  Other   Chrome   \n",
              "7421   94.225.163.111       en           78.98  Mac OS X    Mac   Safari   \n",
              "5585  182.226.174.164       ru           42.58   Windows  Other   Safari   \n",
              "3478    157.177.77.99       pt           71.28   Windows  Other    Opera   \n",
              "4755     239.25.38.44       it           38.42   Windows  Other       IE   \n",
              "...               ...      ...             ...       ...    ...      ...   \n",
              "4158   209.215.142.19       es           10.05     Linux  Other   Chrome   \n",
              "644    86.146.167.208       en           58.57  Mac OS X    Mac   Safari   \n",
              "9537   148.72.194.176       de           98.08  Mac OS X    Mac   Safari   \n",
              "8437   178.158.42.218       es           86.55  Mac OS X    Mac  Firefox   \n",
              "3834   98.209.238.121       it            8.18   Windows  Other  Firefox   \n",
              "\n",
              "      Is_bot ?  Is PC ?  Is Mobile ?  \n",
              "5598     False     True         True  \n",
              "7421     False     True         True  \n",
              "5585     False     True         True  \n",
              "3478     False     True         True  \n",
              "4755     False     True         True  \n",
              "...        ...      ...          ...  \n",
              "4158     False     True         True  \n",
              "644      False     True         True  \n",
              "9537     False     True         True  \n",
              "8437     False     True         True  \n",
              "3834     False    False        False  \n",
              "\n",
              "[500 rows x 20 columns]"
            ],
            "text/html": [
              "\n",
              "  <div id=\"df-3c01001b-4ad9-4948-a679-4a1196c68f0b\">\n",
              "    <div class=\"colab-df-container\">\n",
              "      <div>\n",
              "<style scoped>\n",
              "    .dataframe tbody tr th:only-of-type {\n",
              "        vertical-align: middle;\n",
              "    }\n",
              "\n",
              "    .dataframe tbody tr th {\n",
              "        vertical-align: top;\n",
              "    }\n",
              "\n",
              "    .dataframe thead th {\n",
              "        text-align: right;\n",
              "    }\n",
              "</style>\n",
              "<table border=\"1\" class=\"dataframe\">\n",
              "  <thead>\n",
              "    <tr style=\"text-align: right;\">\n",
              "      <th></th>\n",
              "      <th>Address</th>\n",
              "      <th>Lot</th>\n",
              "      <th>AM or PM</th>\n",
              "      <th>Browser Info</th>\n",
              "      <th>Company</th>\n",
              "      <th>Credit Card</th>\n",
              "      <th>CC Exp Date</th>\n",
              "      <th>CC Security Code</th>\n",
              "      <th>CC Provider</th>\n",
              "      <th>Email</th>\n",
              "      <th>Job</th>\n",
              "      <th>IP Address</th>\n",
              "      <th>Language</th>\n",
              "      <th>Purchase Price</th>\n",
              "      <th>OS</th>\n",
              "      <th>Device</th>\n",
              "      <th>Browser</th>\n",
              "      <th>Is_bot ?</th>\n",
              "      <th>Is PC ?</th>\n",
              "      <th>Is Mobile ?</th>\n",
              "    </tr>\n",
              "  </thead>\n",
              "  <tbody>\n",
              "    <tr>\n",
              "      <th>5598</th>\n",
              "      <td>72255 Carl Causeway Suite 268\\nCameronmouth, V...</td>\n",
              "      <td>18 Af</td>\n",
              "      <td>PM</td>\n",
              "      <td>Mozilla/5.0 (Windows NT 6.1) AppleWebKit/5330 ...</td>\n",
              "      <td>Higgins-Cunningham</td>\n",
              "      <td>503873476512</td>\n",
              "      <td>02/22</td>\n",
              "      <td>770</td>\n",
              "      <td>Discover</td>\n",
              "      <td>williamvargas@hotmail.com</td>\n",
              "      <td>Counsellor</td>\n",
              "      <td>202.132.169.252</td>\n",
              "      <td>es</td>\n",
              "      <td>41.87</td>\n",
              "      <td>Windows</td>\n",
              "      <td>Other</td>\n",
              "      <td>Chrome</td>\n",
              "      <td>False</td>\n",
              "      <td>True</td>\n",
              "      <td>True</td>\n",
              "    </tr>\n",
              "    <tr>\n",
              "      <th>7421</th>\n",
              "      <td>932 White Locks Apt. 738\\nLake Andrewfurt, NV ...</td>\n",
              "      <td>28 WM</td>\n",
              "      <td>PM</td>\n",
              "      <td>Mozilla/5.0 (Macintosh; Intel Mac OS X 10_5_9 ...</td>\n",
              "      <td>Valenzuela, James and Yoder</td>\n",
              "      <td>180067492580296</td>\n",
              "      <td>08/17</td>\n",
              "      <td>132</td>\n",
              "      <td>Discover</td>\n",
              "      <td>sarafernandez@hotmail.com</td>\n",
              "      <td>Geochemist</td>\n",
              "      <td>94.225.163.111</td>\n",
              "      <td>en</td>\n",
              "      <td>78.98</td>\n",
              "      <td>Mac OS X</td>\n",
              "      <td>Mac</td>\n",
              "      <td>Safari</td>\n",
              "      <td>False</td>\n",
              "      <td>True</td>\n",
              "      <td>True</td>\n",
              "    </tr>\n",
              "    <tr>\n",
              "      <th>5585</th>\n",
              "      <td>51300 Stephanie Rue Apt. 199\\nNorth Andrewmout...</td>\n",
              "      <td>53 yd</td>\n",
              "      <td>AM</td>\n",
              "      <td>Mozilla/5.0 (Windows; U; Windows NT 4.0) Apple...</td>\n",
              "      <td>Wagner and Sons</td>\n",
              "      <td>3096306304138365</td>\n",
              "      <td>06/26</td>\n",
              "      <td>754</td>\n",
              "      <td>Discover</td>\n",
              "      <td>xbryant@hotmail.com</td>\n",
              "      <td>Location manager</td>\n",
              "      <td>182.226.174.164</td>\n",
              "      <td>ru</td>\n",
              "      <td>42.58</td>\n",
              "      <td>Windows</td>\n",
              "      <td>Other</td>\n",
              "      <td>Safari</td>\n",
              "      <td>False</td>\n",
              "      <td>True</td>\n",
              "      <td>True</td>\n",
              "    </tr>\n",
              "    <tr>\n",
              "      <th>3478</th>\n",
              "      <td>919 Wallace Freeway Suite 168\\nDominiqueshire,...</td>\n",
              "      <td>47 hL</td>\n",
              "      <td>AM</td>\n",
              "      <td>Opera/8.58.(Windows NT 6.2; it-IT) Presto/2.9....</td>\n",
              "      <td>Gordon-Sanchez</td>\n",
              "      <td>210008829843514</td>\n",
              "      <td>06/26</td>\n",
              "      <td>154</td>\n",
              "      <td>JCB 15 digit</td>\n",
              "      <td>xwilliams@hotmail.com</td>\n",
              "      <td>Scientist, marine</td>\n",
              "      <td>157.177.77.99</td>\n",
              "      <td>pt</td>\n",
              "      <td>71.28</td>\n",
              "      <td>Windows</td>\n",
              "      <td>Other</td>\n",
              "      <td>Opera</td>\n",
              "      <td>False</td>\n",
              "      <td>True</td>\n",
              "      <td>True</td>\n",
              "    </tr>\n",
              "    <tr>\n",
              "      <th>4755</th>\n",
              "      <td>3237 Jessica Glens\\nLake Mirandaview, VI 78842</td>\n",
              "      <td>15 mO</td>\n",
              "      <td>AM</td>\n",
              "      <td>Mozilla/5.0 (compatible; MSIE 7.0; Windows NT ...</td>\n",
              "      <td>Hubbard, Martin and Abbott</td>\n",
              "      <td>4919966622661</td>\n",
              "      <td>01/17</td>\n",
              "      <td>783</td>\n",
              "      <td>Voyager</td>\n",
              "      <td>randyfreeman@yahoo.com</td>\n",
              "      <td>Charity officer</td>\n",
              "      <td>239.25.38.44</td>\n",
              "      <td>it</td>\n",
              "      <td>38.42</td>\n",
              "      <td>Windows</td>\n",
              "      <td>Other</td>\n",
              "      <td>IE</td>\n",
              "      <td>False</td>\n",
              "      <td>True</td>\n",
              "      <td>True</td>\n",
              "    </tr>\n",
              "    <tr>\n",
              "      <th>...</th>\n",
              "      <td>...</td>\n",
              "      <td>...</td>\n",
              "      <td>...</td>\n",
              "      <td>...</td>\n",
              "      <td>...</td>\n",
              "      <td>...</td>\n",
              "      <td>...</td>\n",
              "      <td>...</td>\n",
              "      <td>...</td>\n",
              "      <td>...</td>\n",
              "      <td>...</td>\n",
              "      <td>...</td>\n",
              "      <td>...</td>\n",
              "      <td>...</td>\n",
              "      <td>...</td>\n",
              "      <td>...</td>\n",
              "      <td>...</td>\n",
              "      <td>...</td>\n",
              "      <td>...</td>\n",
              "      <td>...</td>\n",
              "    </tr>\n",
              "    <tr>\n",
              "      <th>4158</th>\n",
              "      <td>USCGC Lopez\\nFPO AA 87802-1300</td>\n",
              "      <td>78 de</td>\n",
              "      <td>AM</td>\n",
              "      <td>Mozilla/5.0 (X11; Linux i686) AppleWebKit/5361...</td>\n",
              "      <td>Ramos PLC</td>\n",
              "      <td>503838604893</td>\n",
              "      <td>11/23</td>\n",
              "      <td>957</td>\n",
              "      <td>JCB 16 digit</td>\n",
              "      <td>kristinboyer@ross.com</td>\n",
              "      <td>Press photographer</td>\n",
              "      <td>209.215.142.19</td>\n",
              "      <td>es</td>\n",
              "      <td>10.05</td>\n",
              "      <td>Linux</td>\n",
              "      <td>Other</td>\n",
              "      <td>Chrome</td>\n",
              "      <td>False</td>\n",
              "      <td>True</td>\n",
              "      <td>True</td>\n",
              "    </tr>\n",
              "    <tr>\n",
              "      <th>644</th>\n",
              "      <td>8251 Adams View\\nWest Mario, GA 75474</td>\n",
              "      <td>05 HQ</td>\n",
              "      <td>AM</td>\n",
              "      <td>Mozilla/5.0 (Macintosh; U; PPC Mac OS X 10_7_5...</td>\n",
              "      <td>Simmons, Williams and Moore</td>\n",
              "      <td>869990064800826</td>\n",
              "      <td>01/25</td>\n",
              "      <td>220</td>\n",
              "      <td>Diners Club / Carte Blanche</td>\n",
              "      <td>tommyvaldez@hughes.com</td>\n",
              "      <td>Clinical psychologist</td>\n",
              "      <td>86.146.167.208</td>\n",
              "      <td>en</td>\n",
              "      <td>58.57</td>\n",
              "      <td>Mac OS X</td>\n",
              "      <td>Mac</td>\n",
              "      <td>Safari</td>\n",
              "      <td>False</td>\n",
              "      <td>True</td>\n",
              "      <td>True</td>\n",
              "    </tr>\n",
              "    <tr>\n",
              "      <th>9537</th>\n",
              "      <td>679 Sarah Roads\\nJacksonborough, MP 09174</td>\n",
              "      <td>98 Gv</td>\n",
              "      <td>AM</td>\n",
              "      <td>Mozilla/5.0 (Macintosh; Intel Mac OS X 10_8_6 ...</td>\n",
              "      <td>Bauer PLC</td>\n",
              "      <td>6011119446517460</td>\n",
              "      <td>04/17</td>\n",
              "      <td>667</td>\n",
              "      <td>VISA 16 digit</td>\n",
              "      <td>coxkelly@lee-hicks.net</td>\n",
              "      <td>Engineer, communications</td>\n",
              "      <td>148.72.194.176</td>\n",
              "      <td>de</td>\n",
              "      <td>98.08</td>\n",
              "      <td>Mac OS X</td>\n",
              "      <td>Mac</td>\n",
              "      <td>Safari</td>\n",
              "      <td>False</td>\n",
              "      <td>True</td>\n",
              "      <td>True</td>\n",
              "    </tr>\n",
              "    <tr>\n",
              "      <th>8437</th>\n",
              "      <td>4983 Kimberly Crossing\\nNorth Alex, NC 92879</td>\n",
              "      <td>28 Wq</td>\n",
              "      <td>AM</td>\n",
              "      <td>Mozilla/5.0 (Macintosh; Intel Mac OS X 10_6_1;...</td>\n",
              "      <td>Velasquez-Vasquez</td>\n",
              "      <td>340754483131414</td>\n",
              "      <td>06/17</td>\n",
              "      <td>473</td>\n",
              "      <td>Discover</td>\n",
              "      <td>rebecca09@powell-sullivan.net</td>\n",
              "      <td>Tax inspector</td>\n",
              "      <td>178.158.42.218</td>\n",
              "      <td>es</td>\n",
              "      <td>86.55</td>\n",
              "      <td>Mac OS X</td>\n",
              "      <td>Mac</td>\n",
              "      <td>Firefox</td>\n",
              "      <td>False</td>\n",
              "      <td>True</td>\n",
              "      <td>True</td>\n",
              "    </tr>\n",
              "    <tr>\n",
              "      <th>3834</th>\n",
              "      <td>2364 Sandoval Brooks\\nDavidshire, MI 88651</td>\n",
              "      <td>97 Rt</td>\n",
              "      <td>PM</td>\n",
              "      <td>Mozilla/5.0 (Windows 95; sl-SI; rv:1.9.1.20) G...</td>\n",
              "      <td>Martin-Holt</td>\n",
              "      <td>3337501820220114</td>\n",
              "      <td>10/20</td>\n",
              "      <td>5639</td>\n",
              "      <td>Maestro</td>\n",
              "      <td>oneillelizabeth@johnston-wilson.org</td>\n",
              "      <td>Metallurgist</td>\n",
              "      <td>98.209.238.121</td>\n",
              "      <td>it</td>\n",
              "      <td>8.18</td>\n",
              "      <td>Windows</td>\n",
              "      <td>Other</td>\n",
              "      <td>Firefox</td>\n",
              "      <td>False</td>\n",
              "      <td>False</td>\n",
              "      <td>False</td>\n",
              "    </tr>\n",
              "  </tbody>\n",
              "</table>\n",
              "<p>500 rows × 20 columns</p>\n",
              "</div>\n",
              "      <button class=\"colab-df-convert\" onclick=\"convertToInteractive('df-3c01001b-4ad9-4948-a679-4a1196c68f0b')\"\n",
              "              title=\"Convert this dataframe to an interactive table.\"\n",
              "              style=\"display:none;\">\n",
              "        \n",
              "  <svg xmlns=\"http://www.w3.org/2000/svg\" height=\"24px\"viewBox=\"0 0 24 24\"\n",
              "       width=\"24px\">\n",
              "    <path d=\"M0 0h24v24H0V0z\" fill=\"none\"/>\n",
              "    <path d=\"M18.56 5.44l.94 2.06.94-2.06 2.06-.94-2.06-.94-.94-2.06-.94 2.06-2.06.94zm-11 1L8.5 8.5l.94-2.06 2.06-.94-2.06-.94L8.5 2.5l-.94 2.06-2.06.94zm10 10l.94 2.06.94-2.06 2.06-.94-2.06-.94-.94-2.06-.94 2.06-2.06.94z\"/><path d=\"M17.41 7.96l-1.37-1.37c-.4-.4-.92-.59-1.43-.59-.52 0-1.04.2-1.43.59L10.3 9.45l-7.72 7.72c-.78.78-.78 2.05 0 2.83L4 21.41c.39.39.9.59 1.41.59.51 0 1.02-.2 1.41-.59l7.78-7.78 2.81-2.81c.8-.78.8-2.07 0-2.86zM5.41 20L4 18.59l7.72-7.72 1.47 1.35L5.41 20z\"/>\n",
              "  </svg>\n",
              "      </button>\n",
              "      \n",
              "  <style>\n",
              "    .colab-df-container {\n",
              "      display:flex;\n",
              "      flex-wrap:wrap;\n",
              "      gap: 12px;\n",
              "    }\n",
              "\n",
              "    .colab-df-convert {\n",
              "      background-color: #E8F0FE;\n",
              "      border: none;\n",
              "      border-radius: 50%;\n",
              "      cursor: pointer;\n",
              "      display: none;\n",
              "      fill: #1967D2;\n",
              "      height: 32px;\n",
              "      padding: 0 0 0 0;\n",
              "      width: 32px;\n",
              "    }\n",
              "\n",
              "    .colab-df-convert:hover {\n",
              "      background-color: #E2EBFA;\n",
              "      box-shadow: 0px 1px 2px rgba(60, 64, 67, 0.3), 0px 1px 3px 1px rgba(60, 64, 67, 0.15);\n",
              "      fill: #174EA6;\n",
              "    }\n",
              "\n",
              "    [theme=dark] .colab-df-convert {\n",
              "      background-color: #3B4455;\n",
              "      fill: #D2E3FC;\n",
              "    }\n",
              "\n",
              "    [theme=dark] .colab-df-convert:hover {\n",
              "      background-color: #434B5C;\n",
              "      box-shadow: 0px 1px 3px 1px rgba(0, 0, 0, 0.15);\n",
              "      filter: drop-shadow(0px 1px 2px rgba(0, 0, 0, 0.3));\n",
              "      fill: #FFFFFF;\n",
              "    }\n",
              "  </style>\n",
              "\n",
              "      <script>\n",
              "        const buttonEl =\n",
              "          document.querySelector('#df-3c01001b-4ad9-4948-a679-4a1196c68f0b button.colab-df-convert');\n",
              "        buttonEl.style.display =\n",
              "          google.colab.kernel.accessAllowed ? 'block' : 'none';\n",
              "\n",
              "        async function convertToInteractive(key) {\n",
              "          const element = document.querySelector('#df-3c01001b-4ad9-4948-a679-4a1196c68f0b');\n",
              "          const dataTable =\n",
              "            await google.colab.kernel.invokeFunction('convertToInteractive',\n",
              "                                                     [key], {});\n",
              "          if (!dataTable) return;\n",
              "\n",
              "          const docLinkHtml = 'Like what you see? Visit the ' +\n",
              "            '<a target=\"_blank\" href=https://colab.research.google.com/notebooks/data_table.ipynb>data table notebook</a>'\n",
              "            + ' to learn more about interactive tables.';\n",
              "          element.innerHTML = '';\n",
              "          dataTable['output_type'] = 'display_data';\n",
              "          await google.colab.output.renderOutput(dataTable, element);\n",
              "          const docLink = document.createElement('div');\n",
              "          docLink.innerHTML = docLinkHtml;\n",
              "          element.appendChild(docLink);\n",
              "        }\n",
              "      </script>\n",
              "    </div>\n",
              "  </div>\n",
              "  "
            ]
          },
          "metadata": {},
          "execution_count": 42
        }
      ]
    },
    {
      "cell_type": "code",
      "metadata": {
        "id": "aLjGYHe_CKap"
      },
      "source": [
        "#Function for extracting country\n",
        "def extract_country_from_ip(ip):\n",
        "    try:\n",
        "        response = ip2geo.get(ip, api_key='free')\n",
        "        return response.country\n",
        "    except:\n",
        "        return np.NaN"
      ],
      "execution_count": null,
      "outputs": []
    },
    {
      "cell_type": "code",
      "metadata": {
        "id": "s-wijmOMDh31"
      },
      "source": [
        "df_Ecommerce['Country'] = df_Ecommerce['IP Address'].apply(extract_country_from_ip)"
      ],
      "execution_count": null,
      "outputs": []
    },
    {
      "cell_type": "code",
      "metadata": {
        "colab": {
          "base_uri": "https://localhost:8080/"
        },
        "id": "a2X2ZmDIDwkr",
        "outputId": "d9531493-12b0-4e5c-e727-2f28c33398bc"
      },
      "source": [
        "df_Ecommerce['Country']"
      ],
      "execution_count": null,
      "outputs": [
        {
          "output_type": "execute_result",
          "data": {
            "text/plain": [
              "5598    TW\n",
              "7421    BE\n",
              "5585    KR\n",
              "3478    AT\n",
              "4755    ZZ\n",
              "        ..\n",
              "4158    US\n",
              "644     GB\n",
              "9537    SG\n",
              "8437    RU\n",
              "3834    US\n",
              "Name: Country, Length: 500, dtype: object"
            ]
          },
          "metadata": {},
          "execution_count": 45
        }
      ]
    },
    {
      "cell_type": "code",
      "metadata": {
        "colab": {
          "base_uri": "https://localhost:8080/"
        },
        "id": "LnAoARUyDwX2",
        "outputId": "0b0910d5-e9e5-4db6-c01e-c6675bc1894e"
      },
      "source": [
        "df_Ecommerce['Country'].describe()"
      ],
      "execution_count": null,
      "outputs": [
        {
          "output_type": "execute_result",
          "data": {
            "text/plain": [
              "count     499\n",
              "unique     62\n",
              "top        US\n",
              "freq      158\n",
              "Name: Country, dtype: object"
            ]
          },
          "metadata": {},
          "execution_count": 46
        }
      ]
    },
    {
      "cell_type": "code",
      "metadata": {
        "id": "g6IfjU2wDwNJ",
        "colab": {
          "base_uri": "https://localhost:8080/"
        },
        "outputId": "eb445030-4572-40f6-df29-6603e510a786"
      },
      "source": [
        "df_Ecommerce['Country'].value_counts()"
      ],
      "execution_count": null,
      "outputs": [
        {
          "output_type": "execute_result",
          "data": {
            "text/plain": [
              "US    158\n",
              "ZZ     63\n",
              "CN     38\n",
              "JP     20\n",
              "CA     17\n",
              "     ... \n",
              "PK      1\n",
              "SV      1\n",
              "CI      1\n",
              "LT      1\n",
              "SG      1\n",
              "Name: Country, Length: 62, dtype: int64"
            ]
          },
          "metadata": {},
          "execution_count": 47
        }
      ]
    },
    {
      "cell_type": "code",
      "metadata": {
        "colab": {
          "base_uri": "https://localhost:8080/",
          "height": 740
        },
        "id": "LsWXNOz3rCEh",
        "outputId": "737ec6ae-15d9-4054-8075-6a2bd1e04c84"
      },
      "source": [
        "sns.countplot(y=df_Ecommerce['Country'])"
      ],
      "execution_count": null,
      "outputs": [
        {
          "output_type": "execute_result",
          "data": {
            "text/plain": [
              "<matplotlib.axes._subplots.AxesSubplot at 0x7f325c7720d0>"
            ]
          },
          "metadata": {},
          "execution_count": 48
        },
        {
          "output_type": "display_data",
          "data": {
            "text/plain": [
              "<Figure size 864x864 with 1 Axes>"
            ],
            "image/png": "[encoded data removed]"
          },
          "metadata": {}
        }
      ]
    },
    {
      "cell_type": "code",
      "metadata": {
        "colab": {
          "base_uri": "https://localhost:8080/"
        },
        "id": "RTr0kB6G9g6H",
        "outputId": "4100b055-4f58-4a19-94b3-bdfa2f738a8a"
      },
      "source": [
        "pip install pycountry"
      ],
      "execution_count": null,
      "outputs": [
        {
          "output_type": "stream",
          "name": "stdout",
          "text": [
            "Collecting pycountry\n",
            "  Downloading pycountry-22.3.5.tar.gz (10.1 MB)\n",
            "\u001b[K     |████████████████████████████████| 10.1 MB 5.5 MB/s \n",
            "\u001b[?25h  Installing build dependencies ... \u001b[?25l\u001b[?25hdone\n",
            "  Getting requirements to build wheel ... \u001b[?25l\u001b[?25hdone\n",
            "    Preparing wheel metadata ... \u001b[?25l\u001b[?25hdone\n",
            "Requirement already satisfied: setuptools in /usr/local/lib/python3.7/dist-packages (from pycountry) (57.4.0)\n",
            "Building wheels for collected packages: pycountry\n",
            "  Building wheel for pycountry (PEP 517) ... \u001b[?25l\u001b[?25hdone\n",
            "  Created wheel for pycountry: filename=pycountry-22.3.5-py2.py3-none-any.whl size=10681845 sha256=c3030dd63a2ef160eb66c1fe8d375ea1aa6cb2b10f9635b7e5c52af00d1127dc\n",
            "  Stored in directory: /root/.cache/pip/wheels/0e/06/e8/7ee176e95ea9a8a8c3b3afcb1869f20adbd42413d4611c6eb4\n",
            "Successfully built pycountry\n",
            "Installing collected packages: pycountry\n",
            "Successfully installed pycountry-22.3.5\n"
          ]
        }
      ]
    },
    {
      "cell_type": "code",
      "metadata": {
        "id": "kbDyb-IprYAN"
      },
      "source": [
        "import pycountry"
      ],
      "execution_count": null,
      "outputs": []
    },
    {
      "cell_type": "code",
      "metadata": {
        "colab": {
          "base_uri": "https://localhost:8080/",
          "height": 35
        },
        "id": "-TiHRjEG9GmB",
        "outputId": "ba9b4c18-6eec-4acc-fabf-f4931af4b0f6"
      },
      "source": [
        "germany = pycountry.countries.get(alpha_2='DE').name\n",
        "germany"
      ],
      "execution_count": null,
      "outputs": [
        {
          "output_type": "execute_result",
          "data": {
            "text/plain": [
              "'Germany'"
            ],
            "application/vnd.google.colaboratory.intrinsic+json": {
              "type": "string"
            }
          },
          "metadata": {},
          "execution_count": 51
        }
      ]
    },
    {
      "cell_type": "code",
      "metadata": {
        "id": "DYaWn61GCAp6"
      },
      "source": [
        "def findCountry (code): \n",
        "  try:\n",
        "     return pycountry.countries.get(alpha_2=code).name \n",
        "  except:\n",
        "     return (\"not founded\")"
      ],
      "execution_count": null,
      "outputs": []
    },
    {
      "cell_type": "code",
      "metadata": {
        "id": "CY11gma4-xwE"
      },
      "source": [
        "df_Ecommerce['Country Name'] = df_Ecommerce['Country'].apply(findCountry)"
      ],
      "execution_count": null,
      "outputs": []
    },
    {
      "cell_type": "code",
      "metadata": {
        "colab": {
          "base_uri": "https://localhost:8080/"
        },
        "id": "8JYGl9yGCMWN",
        "outputId": "eeae6726-8764-4682-b910-6160d922008a"
      },
      "source": [
        "df_Ecommerce['Country Name'].value_counts()"
      ],
      "execution_count": null,
      "outputs": [
        {
          "output_type": "execute_result",
          "data": {
            "text/plain": [
              "United States    158\n",
              "not founded       64\n",
              "China             38\n",
              "Japan             20\n",
              "Canada            17\n",
              "                ... \n",
              "Pakistan           1\n",
              "El Salvador        1\n",
              "Côte d'Ivoire      1\n",
              "Lithuania          1\n",
              "Singapore          1\n",
              "Name: Country Name, Length: 62, dtype: int64"
            ]
          },
          "metadata": {},
          "execution_count": 54
        }
      ]
    },
    {
      "cell_type": "code",
      "metadata": {
        "colab": {
          "base_uri": "https://localhost:8080/",
          "height": 740
        },
        "id": "t34YqBzKCnew",
        "outputId": "96e4e71f-65a2-4f33-982c-aa3ff9ec2781"
      },
      "source": [
        "sns.countplot(y=df_Ecommerce['Country Name'])"
      ],
      "execution_count": null,
      "outputs": [
        {
          "output_type": "execute_result",
          "data": {
            "text/plain": [
              "<matplotlib.axes._subplots.AxesSubplot at 0x7f325c939750>"
            ]
          },
          "metadata": {},
          "execution_count": 55
        },
        {
          "output_type": "display_data",
          "data": {
            "text/plain": [
              "<Figure size 864x864 with 1 Axes>"
            ],
            "image/png": "[encoded data removed]"
          },
          "metadata": {}
        }
      ]
    },
    {
      "cell_type": "code",
      "source": [
        "def extract_latitude_from_ip(ip):\n",
        "    try:\n",
        "        response = ip2geo.get(ip, api_key='free')\n",
        "        return response.latitude\n",
        "    except:\n",
        "        return np.NaN"
      ],
      "metadata": {
        "id": "XZquzpEKMxej"
      },
      "execution_count": null,
      "outputs": []
    },
    {
      "cell_type": "code",
      "source": [
        "def extract_long_from_ip(ip):\n",
        "    try:\n",
        "        response = ip2geo.get(ip, api_key='free')\n",
        "        return response.longitude\n",
        "    except:\n",
        "        return np.NaN"
      ],
      "metadata": {
        "id": "_DB0WHX6M2rD"
      },
      "execution_count": null,
      "outputs": []
    },
    {
      "cell_type": "code",
      "source": [
        "df_Ecommerce['latitude'] = df_Ecommerce['IP Address'].apply(extract_latitude_from_ip)"
      ],
      "metadata": {
        "id": "SrBdYh7CNlVG"
      },
      "execution_count": null,
      "outputs": []
    },
    {
      "cell_type": "code",
      "source": [
        "df_Ecommerce['longitude'] = df_Ecommerce['IP Address'].apply(extract_long_from_ip)"
      ],
      "metadata": {
        "id": "egKUnfEPNvUs"
      },
      "execution_count": null,
      "outputs": []
    },
    {
      "cell_type": "code",
      "source": [
        "df_Ecommerce"
      ],
      "metadata": {
        "colab": {
          "base_uri": "https://localhost:8080/",
          "height": 974
        },
        "id": "rfefkH0pNyvf",
        "outputId": "c0b5c047-4ee8-4cf3-f8fd-c9c8267c2283"
      },
      "execution_count": null,
      "outputs": [
        {
          "output_type": "execute_result",
          "data": {
            "text/plain": [
              "                                                Address    Lot AM or PM  \\\n",
              "5598  72255 Carl Causeway Suite 268\\nCameronmouth, V...  18 Af       PM   \n",
              "7421  932 White Locks Apt. 738\\nLake Andrewfurt, NV ...  28 WM       PM   \n",
              "5585  51300 Stephanie Rue Apt. 199\\nNorth Andrewmout...  53 yd       AM   \n",
              "3478  919 Wallace Freeway Suite 168\\nDominiqueshire,...  47 hL       AM   \n",
              "4755     3237 Jessica Glens\\nLake Mirandaview, VI 78842  15 mO       AM   \n",
              "...                                                 ...    ...      ...   \n",
              "4158                     USCGC Lopez\\nFPO AA 87802-1300  78 de       AM   \n",
              "644               8251 Adams View\\nWest Mario, GA 75474  05 HQ       AM   \n",
              "9537          679 Sarah Roads\\nJacksonborough, MP 09174  98 Gv       AM   \n",
              "8437       4983 Kimberly Crossing\\nNorth Alex, NC 92879  28 Wq       AM   \n",
              "3834         2364 Sandoval Brooks\\nDavidshire, MI 88651  97 Rt       PM   \n",
              "\n",
              "                                           Browser Info  \\\n",
              "5598  Mozilla/5.0 (Windows NT 6.1) AppleWebKit/5330 ...   \n",
              "7421  Mozilla/5.0 (Macintosh; Intel Mac OS X 10_5_9 ...   \n",
              "5585  Mozilla/5.0 (Windows; U; Windows NT 4.0) Apple...   \n",
              "3478  Opera/8.58.(Windows NT 6.2; it-IT) Presto/2.9....   \n",
              "4755  Mozilla/5.0 (compatible; MSIE 7.0; Windows NT ...   \n",
              "...                                                 ...   \n",
              "4158  Mozilla/5.0 (X11; Linux i686) AppleWebKit/5361...   \n",
              "644   Mozilla/5.0 (Macintosh; U; PPC Mac OS X 10_7_5...   \n",
              "9537  Mozilla/5.0 (Macintosh; Intel Mac OS X 10_8_6 ...   \n",
              "8437  Mozilla/5.0 (Macintosh; Intel Mac OS X 10_6_1;...   \n",
              "3834  Mozilla/5.0 (Windows 95; sl-SI; rv:1.9.1.20) G...   \n",
              "\n",
              "                          Company       Credit Card CC Exp Date  \\\n",
              "5598           Higgins-Cunningham      503873476512       02/22   \n",
              "7421  Valenzuela, James and Yoder   180067492580296       08/17   \n",
              "5585              Wagner and Sons  3096306304138365       06/26   \n",
              "3478               Gordon-Sanchez   210008829843514       06/26   \n",
              "4755   Hubbard, Martin and Abbott     4919966622661       01/17   \n",
              "...                           ...               ...         ...   \n",
              "4158                    Ramos PLC      503838604893       11/23   \n",
              "644   Simmons, Williams and Moore   869990064800826       01/25   \n",
              "9537                    Bauer PLC  6011119446517460       04/17   \n",
              "8437            Velasquez-Vasquez   340754483131414       06/17   \n",
              "3834                  Martin-Holt  3337501820220114       10/20   \n",
              "\n",
              "      CC Security Code                  CC Provider  \\\n",
              "5598               770                     Discover   \n",
              "7421               132                     Discover   \n",
              "5585               754                     Discover   \n",
              "3478               154                 JCB 15 digit   \n",
              "4755               783                      Voyager   \n",
              "...                ...                          ...   \n",
              "4158               957                 JCB 16 digit   \n",
              "644                220  Diners Club / Carte Blanche   \n",
              "9537               667                VISA 16 digit   \n",
              "8437               473                     Discover   \n",
              "3834              5639                      Maestro   \n",
              "\n",
              "                                    Email  ...        OS Device  Browser  \\\n",
              "5598            williamvargas@hotmail.com  ...   Windows  Other   Chrome   \n",
              "7421            sarafernandez@hotmail.com  ...  Mac OS X    Mac   Safari   \n",
              "5585                  xbryant@hotmail.com  ...   Windows  Other   Safari   \n",
              "3478                xwilliams@hotmail.com  ...   Windows  Other    Opera   \n",
              "4755               randyfreeman@yahoo.com  ...   Windows  Other       IE   \n",
              "...                                   ...  ...       ...    ...      ...   \n",
              "4158                kristinboyer@ross.com  ...     Linux  Other   Chrome   \n",
              "644                tommyvaldez@hughes.com  ...  Mac OS X    Mac   Safari   \n",
              "9537               coxkelly@lee-hicks.net  ...  Mac OS X    Mac   Safari   \n",
              "8437        rebecca09@powell-sullivan.net  ...  Mac OS X    Mac  Firefox   \n",
              "3834  oneillelizabeth@johnston-wilson.org  ...   Windows  Other  Firefox   \n",
              "\n",
              "      Is_bot ? Is PC ? Is Mobile ? Country               Country Name  \\\n",
              "5598     False    True        True      TW  Taiwan, Province of China   \n",
              "7421     False    True        True      BE                    Belgium   \n",
              "5585     False    True        True      KR         Korea, Republic of   \n",
              "3478     False    True        True      AT                    Austria   \n",
              "4755     False    True        True      ZZ                not founded   \n",
              "...        ...     ...         ...     ...                        ...   \n",
              "4158     False    True        True      US              United States   \n",
              "644      False    True        True      GB             United Kingdom   \n",
              "9537     False    True        True      SG                  Singapore   \n",
              "8437     False    True        True      RU         Russian Federation   \n",
              "3834     False   False       False      US              United States   \n",
              "\n",
              "       latitude  longitude  \n",
              "5598  25.119312        NaN  \n",
              "7421  51.028138        NaN  \n",
              "5585  37.530191        NaN  \n",
              "3478  48.213803        NaN  \n",
              "4755  36.733438        NaN  \n",
              "...         ...        ...  \n",
              "4158        NaN        NaN  \n",
              "644         NaN        NaN  \n",
              "9537        NaN        NaN  \n",
              "8437        NaN        NaN  \n",
              "3834        NaN        NaN  \n",
              "\n",
              "[500 rows x 24 columns]"
            ],
            "text/html": [
              "\n",
              "  <div id=\"df-25e33a41-bf23-479b-93d8-965ee16b8a38\">\n",
              "    <div class=\"colab-df-container\">\n",
              "      <div>\n",
              "<style scoped>\n",
              "    .dataframe tbody tr th:only-of-type {\n",
              "        vertical-align: middle;\n",
              "    }\n",
              "\n",
              "    .dataframe tbody tr th {\n",
              "        vertical-align: top;\n",
              "    }\n",
              "\n",
              "    .dataframe thead th {\n",
              "        text-align: right;\n",
              "    }\n",
              "</style>\n",
              "<table border=\"1\" class=\"dataframe\">\n",
              "  <thead>\n",
              "    <tr style=\"text-align: right;\">\n",
              "      <th></th>\n",
              "      <th>Address</th>\n",
              "      <th>Lot</th>\n",
              "      <th>AM or PM</th>\n",
              "      <th>Browser Info</th>\n",
              "      <th>Company</th>\n",
              "      <th>Credit Card</th>\n",
              "      <th>CC Exp Date</th>\n",
              "      <th>CC Security Code</th>\n",
              "      <th>CC Provider</th>\n",
              "      <th>Email</th>\n",
              "      <th>...</th>\n",
              "      <th>OS</th>\n",
              "      <th>Device</th>\n",
              "      <th>Browser</th>\n",
              "      <th>Is_bot ?</th>\n",
              "      <th>Is PC ?</th>\n",
              "      <th>Is Mobile ?</th>\n",
              "      <th>Country</th>\n",
              "      <th>Country Name</th>\n",
              "      <th>latitude</th>\n",
              "      <th>longitude</th>\n",
              "    </tr>\n",
              "  </thead>\n",
              "  <tbody>\n",
              "    <tr>\n",
              "      <th>5598</th>\n",
              "      <td>72255 Carl Causeway Suite 268\\nCameronmouth, V...</td>\n",
              "      <td>18 Af</td>\n",
              "      <td>PM</td>\n",
              "      <td>Mozilla/5.0 (Windows NT 6.1) AppleWebKit/5330 ...</td>\n",
              "      <td>Higgins-Cunningham</td>\n",
              "      <td>503873476512</td>\n",
              "      <td>02/22</td>\n",
              "      <td>770</td>\n",
              "      <td>Discover</td>\n",
              "      <td>williamvargas@hotmail.com</td>\n",
              "      <td>...</td>\n",
              "      <td>Windows</td>\n",
              "      <td>Other</td>\n",
              "      <td>Chrome</td>\n",
              "      <td>False</td>\n",
              "      <td>True</td>\n",
              "      <td>True</td>\n",
              "      <td>TW</td>\n",
              "      <td>Taiwan, Province of China</td>\n",
              "      <td>25.119312</td>\n",
              "      <td>NaN</td>\n",
              "    </tr>\n",
              "    <tr>\n",
              "      <th>7421</th>\n",
              "      <td>932 White Locks Apt. 738\\nLake Andrewfurt, NV ...</td>\n",
              "      <td>28 WM</td>\n",
              "      <td>PM</td>\n",
              "      <td>Mozilla/5.0 (Macintosh; Intel Mac OS X 10_5_9 ...</td>\n",
              "      <td>Valenzuela, James and Yoder</td>\n",
              "      <td>180067492580296</td>\n",
              "      <td>08/17</td>\n",
              "      <td>132</td>\n",
              "      <td>Discover</td>\n",
              "      <td>sarafernandez@hotmail.com</td>\n",
              "      <td>...</td>\n",
              "      <td>Mac OS X</td>\n",
              "      <td>Mac</td>\n",
              "      <td>Safari</td>\n",
              "      <td>False</td>\n",
              "      <td>True</td>\n",
              "      <td>True</td>\n",
              "      <td>BE</td>\n",
              "      <td>Belgium</td>\n",
              "      <td>51.028138</td>\n",
              "      <td>NaN</td>\n",
              "    </tr>\n",
              "    <tr>\n",
              "      <th>5585</th>\n",
              "      <td>51300 Stephanie Rue Apt. 199\\nNorth Andrewmout...</td>\n",
              "      <td>53 yd</td>\n",
              "      <td>AM</td>\n",
              "      <td>Mozilla/5.0 (Windows; U; Windows NT 4.0) Apple...</td>\n",
              "      <td>Wagner and Sons</td>\n",
              "      <td>3096306304138365</td>\n",
              "      <td>06/26</td>\n",
              "      <td>754</td>\n",
              "      <td>Discover</td>\n",
              "      <td>xbryant@hotmail.com</td>\n",
              "      <td>...</td>\n",
              "      <td>Windows</td>\n",
              "      <td>Other</td>\n",
              "      <td>Safari</td>\n",
              "      <td>False</td>\n",
              "      <td>True</td>\n",
              "      <td>True</td>\n",
              "      <td>KR</td>\n",
              "      <td>Korea, Republic of</td>\n",
              "      <td>37.530191</td>\n",
              "      <td>NaN</td>\n",
              "    </tr>\n",
              "    <tr>\n",
              "      <th>3478</th>\n",
              "      <td>919 Wallace Freeway Suite 168\\nDominiqueshire,...</td>\n",
              "      <td>47 hL</td>\n",
              "      <td>AM</td>\n",
              "      <td>Opera/8.58.(Windows NT 6.2; it-IT) Presto/2.9....</td>\n",
              "      <td>Gordon-Sanchez</td>\n",
              "      <td>210008829843514</td>\n",
              "      <td>06/26</td>\n",
              "      <td>154</td>\n",
              "      <td>JCB 15 digit</td>\n",
              "      <td>xwilliams@hotmail.com</td>\n",
              "      <td>...</td>\n",
              "      <td>Windows</td>\n",
              "      <td>Other</td>\n",
              "      <td>Opera</td>\n",
              "      <td>False</td>\n",
              "      <td>True</td>\n",
              "      <td>True</td>\n",
              "      <td>AT</td>\n",
              "      <td>Austria</td>\n",
              "      <td>48.213803</td>\n",
              "      <td>NaN</td>\n",
              "    </tr>\n",
              "    <tr>\n",
              "      <th>4755</th>\n",
              "      <td>3237 Jessica Glens\\nLake Mirandaview, VI 78842</td>\n",
              "      <td>15 mO</td>\n",
              "      <td>AM</td>\n",
              "      <td>Mozilla/5.0 (compatible; MSIE 7.0; Windows NT ...</td>\n",
              "      <td>Hubbard, Martin and Abbott</td>\n",
              "      <td>4919966622661</td>\n",
              "      <td>01/17</td>\n",
              "      <td>783</td>\n",
              "      <td>Voyager</td>\n",
              "      <td>randyfreeman@yahoo.com</td>\n",
              "      <td>...</td>\n",
              "      <td>Windows</td>\n",
              "      <td>Other</td>\n",
              "      <td>IE</td>\n",
              "      <td>False</td>\n",
              "      <td>True</td>\n",
              "      <td>True</td>\n",
              "      <td>ZZ</td>\n",
              "      <td>not founded</td>\n",
              "      <td>36.733438</td>\n",
              "      <td>NaN</td>\n",
              "    </tr>\n",
              "    <tr>\n",
              "      <th>...</th>\n",
              "      <td>...</td>\n",
              "      <td>...</td>\n",
              "      <td>...</td>\n",
              "      <td>...</td>\n",
              "      <td>...</td>\n",
              "      <td>...</td>\n",
              "      <td>...</td>\n",
              "      <td>...</td>\n",
              "      <td>...</td>\n",
              "      <td>...</td>\n",
              "      <td>...</td>\n",
              "      <td>...</td>\n",
              "      <td>...</td>\n",
              "      <td>...</td>\n",
              "      <td>...</td>\n",
              "      <td>...</td>\n",
              "      <td>...</td>\n",
              "      <td>...</td>\n",
              "      <td>...</td>\n",
              "      <td>...</td>\n",
              "      <td>...</td>\n",
              "    </tr>\n",
              "    <tr>\n",
              "      <th>4158</th>\n",
              "      <td>USCGC Lopez\\nFPO AA 87802-1300</td>\n",
              "      <td>78 de</td>\n",
              "      <td>AM</td>\n",
              "      <td>Mozilla/5.0 (X11; Linux i686) AppleWebKit/5361...</td>\n",
              "      <td>Ramos PLC</td>\n",
              "      <td>503838604893</td>\n",
              "      <td>11/23</td>\n",
              "      <td>957</td>\n",
              "      <td>JCB 16 digit</td>\n",
              "      <td>kristinboyer@ross.com</td>\n",
              "      <td>...</td>\n",
              "      <td>Linux</td>\n",
              "      <td>Other</td>\n",
              "      <td>Chrome</td>\n",
              "      <td>False</td>\n",
              "      <td>True</td>\n",
              "      <td>True</td>\n",
              "      <td>US</td>\n",
              "      <td>United States</td>\n",
              "      <td>NaN</td>\n",
              "      <td>NaN</td>\n",
              "    </tr>\n",
              "    <tr>\n",
              "      <th>644</th>\n",
              "      <td>8251 Adams View\\nWest Mario, GA 75474</td>\n",
              "      <td>05 HQ</td>\n",
              "      <td>AM</td>\n",
              "      <td>Mozilla/5.0 (Macintosh; U; PPC Mac OS X 10_7_5...</td>\n",
              "      <td>Simmons, Williams and Moore</td>\n",
              "      <td>869990064800826</td>\n",
              "      <td>01/25</td>\n",
              "      <td>220</td>\n",
              "      <td>Diners Club / Carte Blanche</td>\n",
              "      <td>tommyvaldez@hughes.com</td>\n",
              "      <td>...</td>\n",
              "      <td>Mac OS X</td>\n",
              "      <td>Mac</td>\n",
              "      <td>Safari</td>\n",
              "      <td>False</td>\n",
              "      <td>True</td>\n",
              "      <td>True</td>\n",
              "      <td>GB</td>\n",
              "      <td>United Kingdom</td>\n",
              "      <td>NaN</td>\n",
              "      <td>NaN</td>\n",
              "    </tr>\n",
              "    <tr>\n",
              "      <th>9537</th>\n",
              "      <td>679 Sarah Roads\\nJacksonborough, MP 09174</td>\n",
              "      <td>98 Gv</td>\n",
              "      <td>AM</td>\n",
              "      <td>Mozilla/5.0 (Macintosh; Intel Mac OS X 10_8_6 ...</td>\n",
              "      <td>Bauer PLC</td>\n",
              "      <td>6011119446517460</td>\n",
              "      <td>04/17</td>\n",
              "      <td>667</td>\n",
              "      <td>VISA 16 digit</td>\n",
              "      <td>coxkelly@lee-hicks.net</td>\n",
              "      <td>...</td>\n",
              "      <td>Mac OS X</td>\n",
              "      <td>Mac</td>\n",
              "      <td>Safari</td>\n",
              "      <td>False</td>\n",
              "      <td>True</td>\n",
              "      <td>True</td>\n",
              "      <td>SG</td>\n",
              "      <td>Singapore</td>\n",
              "      <td>NaN</td>\n",
              "      <td>NaN</td>\n",
              "    </tr>\n",
              "    <tr>\n",
              "      <th>8437</th>\n",
              "      <td>4983 Kimberly Crossing\\nNorth Alex, NC 92879</td>\n",
              "      <td>28 Wq</td>\n",
              "      <td>AM</td>\n",
              "      <td>Mozilla/5.0 (Macintosh; Intel Mac OS X 10_6_1;...</td>\n",
              "      <td>Velasquez-Vasquez</td>\n",
              "      <td>340754483131414</td>\n",
              "      <td>06/17</td>\n",
              "      <td>473</td>\n",
              "      <td>Discover</td>\n",
              "      <td>rebecca09@powell-sullivan.net</td>\n",
              "      <td>...</td>\n",
              "      <td>Mac OS X</td>\n",
              "      <td>Mac</td>\n",
              "      <td>Firefox</td>\n",
              "      <td>False</td>\n",
              "      <td>True</td>\n",
              "      <td>True</td>\n",
              "      <td>RU</td>\n",
              "      <td>Russian Federation</td>\n",
              "      <td>NaN</td>\n",
              "      <td>NaN</td>\n",
              "    </tr>\n",
              "    <tr>\n",
              "      <th>3834</th>\n",
              "      <td>2364 Sandoval Brooks\\nDavidshire, MI 88651</td>\n",
              "      <td>97 Rt</td>\n",
              "      <td>PM</td>\n",
              "      <td>Mozilla/5.0 (Windows 95; sl-SI; rv:1.9.1.20) G...</td>\n",
              "      <td>Martin-Holt</td>\n",
              "      <td>3337501820220114</td>\n",
              "      <td>10/20</td>\n",
              "      <td>5639</td>\n",
              "      <td>Maestro</td>\n",
              "      <td>oneillelizabeth@johnston-wilson.org</td>\n",
              "      <td>...</td>\n",
              "      <td>Windows</td>\n",
              "      <td>Other</td>\n",
              "      <td>Firefox</td>\n",
              "      <td>False</td>\n",
              "      <td>False</td>\n",
              "      <td>False</td>\n",
              "      <td>US</td>\n",
              "      <td>United States</td>\n",
              "      <td>NaN</td>\n",
              "      <td>NaN</td>\n",
              "    </tr>\n",
              "  </tbody>\n",
              "</table>\n",
              "<p>500 rows × 24 columns</p>\n",
              "</div>\n",
              "      <button class=\"colab-df-convert\" onclick=\"convertToInteractive('df-25e33a41-bf23-479b-93d8-965ee16b8a38')\"\n",
              "              title=\"Convert this dataframe to an interactive table.\"\n",
              "              style=\"display:none;\">\n",
              "        \n",
              "  <svg xmlns=\"http://www.w3.org/2000/svg\" height=\"24px\"viewBox=\"0 0 24 24\"\n",
              "       width=\"24px\">\n",
              "    <path d=\"M0 0h24v24H0V0z\" fill=\"none\"/>\n",
              "    <path d=\"M18.56 5.44l.94 2.06.94-2.06 2.06-.94-2.06-.94-.94-2.06-.94 2.06-2.06.94zm-11 1L8.5 8.5l.94-2.06 2.06-.94-2.06-.94L8.5 2.5l-.94 2.06-2.06.94zm10 10l.94 2.06.94-2.06 2.06-.94-2.06-.94-.94-2.06-.94 2.06-2.06.94z\"/><path d=\"M17.41 7.96l-1.37-1.37c-.4-.4-.92-.59-1.43-.59-.52 0-1.04.2-1.43.59L10.3 9.45l-7.72 7.72c-.78.78-.78 2.05 0 2.83L4 21.41c.39.39.9.59 1.41.59.51 0 1.02-.2 1.41-.59l7.78-7.78 2.81-2.81c.8-.78.8-2.07 0-2.86zM5.41 20L4 18.59l7.72-7.72 1.47 1.35L5.41 20z\"/>\n",
              "  </svg>\n",
              "      </button>\n",
              "      \n",
              "  <style>\n",
              "    .colab-df-container {\n",
              "      display:flex;\n",
              "      flex-wrap:wrap;\n",
              "      gap: 12px;\n",
              "    }\n",
              "\n",
              "    .colab-df-convert {\n",
              "      background-color: #E8F0FE;\n",
              "      border: none;\n",
              "      border-radius: 50%;\n",
              "      cursor: pointer;\n",
              "      display: none;\n",
              "      fill: #1967D2;\n",
              "      height: 32px;\n",
              "      padding: 0 0 0 0;\n",
              "      width: 32px;\n",
              "    }\n",
              "\n",
              "    .colab-df-convert:hover {\n",
              "      background-color: #E2EBFA;\n",
              "      box-shadow: 0px 1px 2px rgba(60, 64, 67, 0.3), 0px 1px 3px 1px rgba(60, 64, 67, 0.15);\n",
              "      fill: #174EA6;\n",
              "    }\n",
              "\n",
              "    [theme=dark] .colab-df-convert {\n",
              "      background-color: #3B4455;\n",
              "      fill: #D2E3FC;\n",
              "    }\n",
              "\n",
              "    [theme=dark] .colab-df-convert:hover {\n",
              "      background-color: #434B5C;\n",
              "      box-shadow: 0px 1px 3px 1px rgba(0, 0, 0, 0.15);\n",
              "      filter: drop-shadow(0px 1px 2px rgba(0, 0, 0, 0.3));\n",
              "      fill: #FFFFFF;\n",
              "    }\n",
              "  </style>\n",
              "\n",
              "      <script>\n",
              "        const buttonEl =\n",
              "          document.querySelector('#df-25e33a41-bf23-479b-93d8-965ee16b8a38 button.colab-df-convert');\n",
              "        buttonEl.style.display =\n",
              "          google.colab.kernel.accessAllowed ? 'block' : 'none';\n",
              "\n",
              "        async function convertToInteractive(key) {\n",
              "          const element = document.querySelector('#df-25e33a41-bf23-479b-93d8-965ee16b8a38');\n",
              "          const dataTable =\n",
              "            await google.colab.kernel.invokeFunction('convertToInteractive',\n",
              "                                                     [key], {});\n",
              "          if (!dataTable) return;\n",
              "\n",
              "          const docLinkHtml = 'Like what you see? Visit the ' +\n",
              "            '<a target=\"_blank\" href=https://colab.research.google.com/notebooks/data_table.ipynb>data table notebook</a>'\n",
              "            + ' to learn more about interactive tables.';\n",
              "          element.innerHTML = '';\n",
              "          dataTable['output_type'] = 'display_data';\n",
              "          await google.colab.output.renderOutput(dataTable, element);\n",
              "          const docLink = document.createElement('div');\n",
              "          docLink.innerHTML = docLinkHtml;\n",
              "          element.appendChild(docLink);\n",
              "        }\n",
              "      </script>\n",
              "    </div>\n",
              "  </div>\n",
              "  "
            ]
          },
          "metadata": {},
          "execution_count": 60
        }
      ]
    },
    {
      "cell_type": "code",
      "source": [
        "df_Ecommerce.info()"
      ],
      "metadata": {
        "colab": {
          "base_uri": "https://localhost:8080/"
        },
        "id": "xDBp5ZtzPcWu",
        "outputId": "06b4b1e7-850a-466c-c8f8-5ee8de9d841f"
      },
      "execution_count": null,
      "outputs": [
        {
          "output_type": "stream",
          "name": "stdout",
          "text": [
            "<class 'pandas.core.frame.DataFrame'>\n",
            "Int64Index: 500 entries, 5598 to 3834\n",
            "Data columns (total 24 columns):\n",
            " #   Column            Non-Null Count  Dtype  \n",
            "---  ------            --------------  -----  \n",
            " 0   Address           500 non-null    object \n",
            " 1   Lot               500 non-null    object \n",
            " 2   AM or PM          500 non-null    object \n",
            " 3   Browser Info      500 non-null    object \n",
            " 4   Company           500 non-null    object \n",
            " 5   Credit Card       500 non-null    int64  \n",
            " 6   CC Exp Date       500 non-null    object \n",
            " 7   CC Security Code  500 non-null    int64  \n",
            " 8   CC Provider       500 non-null    object \n",
            " 9   Email             500 non-null    object \n",
            " 10  Job               500 non-null    object \n",
            " 11  IP Address        500 non-null    object \n",
            " 12  Language          500 non-null    object \n",
            " 13  Purchase Price    500 non-null    float64\n",
            " 14  OS                500 non-null    object \n",
            " 15  Device            500 non-null    object \n",
            " 16  Browser           500 non-null    object \n",
            " 17  Is_bot ?          500 non-null    bool   \n",
            " 18  Is PC ?           500 non-null    bool   \n",
            " 19  Is Mobile ?       500 non-null    bool   \n",
            " 20  Country           499 non-null    object \n",
            " 21  Country Name      500 non-null    object \n",
            " 22  latitude          455 non-null    float64\n",
            " 23  longitude         41 non-null     float64\n",
            "dtypes: bool(3), float64(3), int64(2), object(16)\n",
            "memory usage: 103.6+ KB\n"
          ]
        }
      ]
    },
    {
      "cell_type": "markdown",
      "metadata": {
        "id": "Q2g8Omr-_1pr"
      },
      "source": [
        "#**5.Geospatial features :-**\n",
        ">Geopy can calculate geodesic distance between two points using the geodesic distance or the great-circle distance.\n",
        "https://en.wikipedia.org/wiki/Great-circle_distance\n",
        "\n",
        "\n",
        "\n",
        "\n",
        ">You can also use Geocoding features to\n",
        "geolocate an address to coordinates, or you\n",
        "Can get the reverse address city and country \n",
        "from coordinates.\n",
        "\n",
        ">More information is here :\n",
        "> https://pypi.org/project/geopy/  \n",
        " https://github.com/thampiman/reverse-geocoder  \n",
        " https://geopy.readthedocs.io/_/downloads/en/v1/pdf/"
      ]
    },
    {
      "cell_type": "code",
      "metadata": {
        "colab": {
          "base_uri": "https://localhost:8080/"
        },
        "id": "f0Ez6aNo_mlt",
        "outputId": "e94f481a-fcf5-4dd2-c44e-3eef0d3dfd3c"
      },
      "source": [
        "from geopy.distance import great_circle\n",
        "\n",
        "my_home = (30.109919, 31.308797) # (lat, long)\n",
        "my_cafe = (30.120982, 31.322026)\n",
        "\n",
        "great_circle(my_home, my_cafe).kilometers "
      ],
      "execution_count": null,
      "outputs": [
        {
          "output_type": "execute_result",
          "data": {
            "text/plain": [
              "1.7698508016026915"
            ]
          },
          "metadata": {},
          "execution_count": 6
        }
      ]
    },
    {
      "cell_type": "code",
      "metadata": {
        "colab": {
          "base_uri": "https://localhost:8080/"
        },
        "id": "hRiE3oB0HfYt",
        "outputId": "6af3d8fd-4b23-44cc-afbe-870e74dca4fe"
      },
      "source": [
        "great_circle(my_home, my_cafe).miles "
      ],
      "execution_count": null,
      "outputs": [
        {
          "output_type": "execute_result",
          "data": {
            "text/plain": [
              "1.0997343026740656"
            ]
          },
          "metadata": {},
          "execution_count": 7
        }
      ]
    },
    {
      "cell_type": "code",
      "metadata": {
        "id": "D3sMFQIMLhkH"
      },
      "source": [
        "df_sendy= pd.read_csv('/content/sendy_logistics.csv')"
      ],
      "execution_count": null,
      "outputs": []
    },
    {
      "cell_type": "code",
      "metadata": {
        "colab": {
          "base_uri": "https://localhost:8080/"
        },
        "id": "0JFRA9A4OF30",
        "outputId": "0c3ad8d1-6428-4139-add1-5c8534ef8dd4"
      },
      "source": [
        "df_sendy.info()"
      ],
      "execution_count": null,
      "outputs": [
        {
          "output_type": "stream",
          "name": "stdout",
          "text": [
            "<class 'pandas.core.frame.DataFrame'>\n",
            "RangeIndex: 21201 entries, 0 to 21200\n",
            "Data columns (total 29 columns):\n",
            " #   Column                                     Non-Null Count  Dtype  \n",
            "---  ------                                     --------------  -----  \n",
            " 0   Order No                                   21201 non-null  object \n",
            " 1   User Id                                    21201 non-null  object \n",
            " 2   Vehicle Type                               21201 non-null  object \n",
            " 3   Platform Type                              21201 non-null  int64  \n",
            " 4   Personal or Business                       21201 non-null  object \n",
            " 5   Placement - Day of Month                   21201 non-null  int64  \n",
            " 6   Placement - Weekday (Mo = 1)               21201 non-null  int64  \n",
            " 7   Placement - Time                           21201 non-null  object \n",
            " 8   Confirmation - Day of Month                21201 non-null  int64  \n",
            " 9   Confirmation - Weekday (Mo = 1)            21201 non-null  int64  \n",
            " 10  Confirmation - Time                        21201 non-null  object \n",
            " 11  Arrival at Pickup - Day of Month           21201 non-null  int64  \n",
            " 12  Arrival at Pickup - Weekday (Mo = 1)       21201 non-null  int64  \n",
            " 13  Arrival at Pickup - Time                   21201 non-null  object \n",
            " 14  Pickup - Day of Month                      21201 non-null  int64  \n",
            " 15  Pickup - Weekday (Mo = 1)                  21201 non-null  int64  \n",
            " 16  Pickup - Time                              21201 non-null  object \n",
            " 17  Arrival at Destination - Day of Month      21201 non-null  int64  \n",
            " 18  Arrival at Destination - Weekday (Mo = 1)  21201 non-null  int64  \n",
            " 19  Arrival at Destination - Time              21201 non-null  object \n",
            " 20  Distance (KM)                              21201 non-null  int64  \n",
            " 21  Temperature                                16835 non-null  float64\n",
            " 22  Precipitation in millimeters               552 non-null    float64\n",
            " 23  Pickup Lat                                 21201 non-null  float64\n",
            " 24  Pickup Long                                21201 non-null  float64\n",
            " 25  Destination Lat                            21201 non-null  float64\n",
            " 26  Destination Long                           21201 non-null  float64\n",
            " 27  Rider Id                                   21201 non-null  object \n",
            " 28  Time from Pickup to Arrival                21201 non-null  int64  \n",
            "dtypes: float64(6), int64(13), object(10)\n",
            "memory usage: 4.7+ MB\n"
          ]
        }
      ]
    },
    {
      "cell_type": "code",
      "metadata": {
        "colab": {
          "base_uri": "https://localhost:8080/",
          "height": 368
        },
        "id": "t8e4j0D4OJCn",
        "outputId": "08413dfa-b020-48de-f437-563aba70352b"
      },
      "source": [
        "df_sendy.describe()"
      ],
      "execution_count": null,
      "outputs": [
        {
          "output_type": "execute_result",
          "data": {
            "text/html": [
              "<div>\n",
              "<style scoped>\n",
              "    .dataframe tbody tr th:only-of-type {\n",
              "        vertical-align: middle;\n",
              "    }\n",
              "\n",
              "    .dataframe tbody tr th {\n",
              "        vertical-align: top;\n",
              "    }\n",
              "\n",
              "    .dataframe thead th {\n",
              "        text-align: right;\n",
              "    }\n",
              "</style>\n",
              "<table border=\"1\" class=\"dataframe\">\n",
              "  <thead>\n",
              "    <tr style=\"text-align: right;\">\n",
              "      <th></th>\n",
              "      <th>Platform Type</th>\n",
              "      <th>Placement - Day of Month</th>\n",
              "      <th>Placement - Weekday (Mo = 1)</th>\n",
              "      <th>Confirmation - Day of Month</th>\n",
              "      <th>Confirmation - Weekday (Mo = 1)</th>\n",
              "      <th>Arrival at Pickup - Day of Month</th>\n",
              "      <th>Arrival at Pickup - Weekday (Mo = 1)</th>\n",
              "      <th>Pickup - Day of Month</th>\n",
              "      <th>Pickup - Weekday (Mo = 1)</th>\n",
              "      <th>Arrival at Destination - Day of Month</th>\n",
              "      <th>Arrival at Destination - Weekday (Mo = 1)</th>\n",
              "      <th>Distance (KM)</th>\n",
              "      <th>Temperature</th>\n",
              "      <th>Precipitation in millimeters</th>\n",
              "      <th>Pickup Lat</th>\n",
              "      <th>Pickup Long</th>\n",
              "      <th>Destination Lat</th>\n",
              "      <th>Destination Long</th>\n",
              "      <th>Time from Pickup to Arrival</th>\n",
              "    </tr>\n",
              "  </thead>\n",
              "  <tbody>\n",
              "    <tr>\n",
              "      <th>count</th>\n",
              "      <td>21201.000000</td>\n",
              "      <td>21201.000000</td>\n",
              "      <td>21201.000000</td>\n",
              "      <td>21201.000000</td>\n",
              "      <td>21201.000000</td>\n",
              "      <td>21201.000000</td>\n",
              "      <td>21201.000000</td>\n",
              "      <td>21201.000000</td>\n",
              "      <td>21201.000000</td>\n",
              "      <td>21201.000000</td>\n",
              "      <td>21201.000000</td>\n",
              "      <td>21201.000000</td>\n",
              "      <td>16835.000000</td>\n",
              "      <td>552.000000</td>\n",
              "      <td>21201.000000</td>\n",
              "      <td>21201.000000</td>\n",
              "      <td>21201.000000</td>\n",
              "      <td>21201.000000</td>\n",
              "      <td>21201.000000</td>\n",
              "    </tr>\n",
              "    <tr>\n",
              "      <th>mean</th>\n",
              "      <td>2.752182</td>\n",
              "      <td>15.653696</td>\n",
              "      <td>3.240083</td>\n",
              "      <td>15.653837</td>\n",
              "      <td>3.240225</td>\n",
              "      <td>15.653837</td>\n",
              "      <td>3.240225</td>\n",
              "      <td>15.653837</td>\n",
              "      <td>3.240225</td>\n",
              "      <td>15.653837</td>\n",
              "      <td>3.240225</td>\n",
              "      <td>9.506533</td>\n",
              "      <td>23.258889</td>\n",
              "      <td>7.905797</td>\n",
              "      <td>-1.281470</td>\n",
              "      <td>36.811264</td>\n",
              "      <td>-1.282581</td>\n",
              "      <td>36.811220</td>\n",
              "      <td>1556.920947</td>\n",
              "    </tr>\n",
              "    <tr>\n",
              "      <th>std</th>\n",
              "      <td>0.625178</td>\n",
              "      <td>8.798916</td>\n",
              "      <td>1.567295</td>\n",
              "      <td>8.798886</td>\n",
              "      <td>1.567228</td>\n",
              "      <td>8.798886</td>\n",
              "      <td>1.567228</td>\n",
              "      <td>8.798886</td>\n",
              "      <td>1.567228</td>\n",
              "      <td>8.798886</td>\n",
              "      <td>1.567228</td>\n",
              "      <td>5.668963</td>\n",
              "      <td>3.615768</td>\n",
              "      <td>17.089971</td>\n",
              "      <td>0.030507</td>\n",
              "      <td>0.037473</td>\n",
              "      <td>0.034824</td>\n",
              "      <td>0.044721</td>\n",
              "      <td>987.270788</td>\n",
              "    </tr>\n",
              "    <tr>\n",
              "      <th>min</th>\n",
              "      <td>1.000000</td>\n",
              "      <td>1.000000</td>\n",
              "      <td>1.000000</td>\n",
              "      <td>1.000000</td>\n",
              "      <td>1.000000</td>\n",
              "      <td>1.000000</td>\n",
              "      <td>1.000000</td>\n",
              "      <td>1.000000</td>\n",
              "      <td>1.000000</td>\n",
              "      <td>1.000000</td>\n",
              "      <td>1.000000</td>\n",
              "      <td>1.000000</td>\n",
              "      <td>11.200000</td>\n",
              "      <td>0.100000</td>\n",
              "      <td>-1.438302</td>\n",
              "      <td>36.653621</td>\n",
              "      <td>-1.430298</td>\n",
              "      <td>36.606594</td>\n",
              "      <td>1.000000</td>\n",
              "    </tr>\n",
              "    <tr>\n",
              "      <th>25%</th>\n",
              "      <td>3.000000</td>\n",
              "      <td>8.000000</td>\n",
              "      <td>2.000000</td>\n",
              "      <td>8.000000</td>\n",
              "      <td>2.000000</td>\n",
              "      <td>8.000000</td>\n",
              "      <td>2.000000</td>\n",
              "      <td>8.000000</td>\n",
              "      <td>2.000000</td>\n",
              "      <td>8.000000</td>\n",
              "      <td>2.000000</td>\n",
              "      <td>5.000000</td>\n",
              "      <td>20.600000</td>\n",
              "      <td>1.075000</td>\n",
              "      <td>-1.300921</td>\n",
              "      <td>36.784605</td>\n",
              "      <td>-1.301201</td>\n",
              "      <td>36.785661</td>\n",
              "      <td>882.000000</td>\n",
              "    </tr>\n",
              "    <tr>\n",
              "      <th>50%</th>\n",
              "      <td>3.000000</td>\n",
              "      <td>15.000000</td>\n",
              "      <td>3.000000</td>\n",
              "      <td>15.000000</td>\n",
              "      <td>3.000000</td>\n",
              "      <td>15.000000</td>\n",
              "      <td>3.000000</td>\n",
              "      <td>15.000000</td>\n",
              "      <td>3.000000</td>\n",
              "      <td>15.000000</td>\n",
              "      <td>3.000000</td>\n",
              "      <td>8.000000</td>\n",
              "      <td>23.500000</td>\n",
              "      <td>2.900000</td>\n",
              "      <td>-1.279395</td>\n",
              "      <td>36.807040</td>\n",
              "      <td>-1.284382</td>\n",
              "      <td>36.808002</td>\n",
              "      <td>1369.000000</td>\n",
              "    </tr>\n",
              "    <tr>\n",
              "      <th>75%</th>\n",
              "      <td>3.000000</td>\n",
              "      <td>23.000000</td>\n",
              "      <td>5.000000</td>\n",
              "      <td>23.000000</td>\n",
              "      <td>5.000000</td>\n",
              "      <td>23.000000</td>\n",
              "      <td>5.000000</td>\n",
              "      <td>23.000000</td>\n",
              "      <td>5.000000</td>\n",
              "      <td>23.000000</td>\n",
              "      <td>5.000000</td>\n",
              "      <td>13.000000</td>\n",
              "      <td>26.000000</td>\n",
              "      <td>4.900000</td>\n",
              "      <td>-1.257147</td>\n",
              "      <td>36.829741</td>\n",
              "      <td>-1.261177</td>\n",
              "      <td>36.829477</td>\n",
              "      <td>2040.000000</td>\n",
              "    </tr>\n",
              "    <tr>\n",
              "      <th>max</th>\n",
              "      <td>4.000000</td>\n",
              "      <td>31.000000</td>\n",
              "      <td>7.000000</td>\n",
              "      <td>31.000000</td>\n",
              "      <td>7.000000</td>\n",
              "      <td>31.000000</td>\n",
              "      <td>7.000000</td>\n",
              "      <td>31.000000</td>\n",
              "      <td>7.000000</td>\n",
              "      <td>31.000000</td>\n",
              "      <td>7.000000</td>\n",
              "      <td>49.000000</td>\n",
              "      <td>32.100000</td>\n",
              "      <td>99.100000</td>\n",
              "      <td>-1.147170</td>\n",
              "      <td>36.991046</td>\n",
              "      <td>-1.030225</td>\n",
              "      <td>37.016779</td>\n",
              "      <td>7883.000000</td>\n",
              "    </tr>\n",
              "  </tbody>\n",
              "</table>\n",
              "</div>"
            ],
            "text/plain": [
              "       Platform Type  ...  Time from Pickup to Arrival\n",
              "count   21201.000000  ...                 21201.000000\n",
              "mean        2.752182  ...                  1556.920947\n",
              "std         0.625178  ...                   987.270788\n",
              "min         1.000000  ...                     1.000000\n",
              "25%         3.000000  ...                   882.000000\n",
              "50%         3.000000  ...                  1369.000000\n",
              "75%         3.000000  ...                  2040.000000\n",
              "max         4.000000  ...                  7883.000000\n",
              "\n",
              "[8 rows x 19 columns]"
            ]
          },
          "metadata": {},
          "execution_count": 10
        }
      ]
    },
    {
      "cell_type": "code",
      "metadata": {
        "colab": {
          "base_uri": "https://localhost:8080/",
          "height": 651
        },
        "id": "BvB66ci_OaKD",
        "outputId": "684424c3-afe8-4af7-f77b-f77dce835964"
      },
      "source": [
        "df_sendy.sample(10)"
      ],
      "execution_count": null,
      "outputs": [
        {
          "output_type": "execute_result",
          "data": {
            "text/html": [
              "<div>\n",
              "<style scoped>\n",
              "    .dataframe tbody tr th:only-of-type {\n",
              "        vertical-align: middle;\n",
              "    }\n",
              "\n",
              "    .dataframe tbody tr th {\n",
              "        vertical-align: top;\n",
              "    }\n",
              "\n",
              "    .dataframe thead th {\n",
              "        text-align: right;\n",
              "    }\n",
              "</style>\n",
              "<table border=\"1\" class=\"dataframe\">\n",
              "  <thead>\n",
              "    <tr style=\"text-align: right;\">\n",
              "      <th></th>\n",
              "      <th>Order No</th>\n",
              "      <th>User Id</th>\n",
              "      <th>Vehicle Type</th>\n",
              "      <th>Platform Type</th>\n",
              "      <th>Personal or Business</th>\n",
              "      <th>Placement - Day of Month</th>\n",
              "      <th>Placement - Weekday (Mo = 1)</th>\n",
              "      <th>Placement - Time</th>\n",
              "      <th>Confirmation - Day of Month</th>\n",
              "      <th>Confirmation - Weekday (Mo = 1)</th>\n",
              "      <th>Confirmation - Time</th>\n",
              "      <th>Arrival at Pickup - Day of Month</th>\n",
              "      <th>Arrival at Pickup - Weekday (Mo = 1)</th>\n",
              "      <th>Arrival at Pickup - Time</th>\n",
              "      <th>Pickup - Day of Month</th>\n",
              "      <th>Pickup - Weekday (Mo = 1)</th>\n",
              "      <th>Pickup - Time</th>\n",
              "      <th>Arrival at Destination - Day of Month</th>\n",
              "      <th>Arrival at Destination - Weekday (Mo = 1)</th>\n",
              "      <th>Arrival at Destination - Time</th>\n",
              "      <th>Distance (KM)</th>\n",
              "      <th>Temperature</th>\n",
              "      <th>Precipitation in millimeters</th>\n",
              "      <th>Pickup Lat</th>\n",
              "      <th>Pickup Long</th>\n",
              "      <th>Destination Lat</th>\n",
              "      <th>Destination Long</th>\n",
              "      <th>Rider Id</th>\n",
              "      <th>Time from Pickup to Arrival</th>\n",
              "    </tr>\n",
              "  </thead>\n",
              "  <tbody>\n",
              "    <tr>\n",
              "      <th>12390</th>\n",
              "      <td>Order_No_22823</td>\n",
              "      <td>User_Id_1932</td>\n",
              "      <td>Bike</td>\n",
              "      <td>3</td>\n",
              "      <td>Business</td>\n",
              "      <td>5</td>\n",
              "      <td>2</td>\n",
              "      <td>3:42:23 PM</td>\n",
              "      <td>5</td>\n",
              "      <td>2</td>\n",
              "      <td>3:42:55 PM</td>\n",
              "      <td>5</td>\n",
              "      <td>2</td>\n",
              "      <td>3:49:37 PM</td>\n",
              "      <td>5</td>\n",
              "      <td>2</td>\n",
              "      <td>3:54:29 PM</td>\n",
              "      <td>5</td>\n",
              "      <td>2</td>\n",
              "      <td>4:08:08 PM</td>\n",
              "      <td>7</td>\n",
              "      <td>22.6</td>\n",
              "      <td>NaN</td>\n",
              "      <td>-1.310061</td>\n",
              "      <td>36.820536</td>\n",
              "      <td>-1.292286</td>\n",
              "      <td>36.781327</td>\n",
              "      <td>Rider_Id_116</td>\n",
              "      <td>819</td>\n",
              "    </tr>\n",
              "    <tr>\n",
              "      <th>8574</th>\n",
              "      <td>Order_No_25532</td>\n",
              "      <td>User_Id_3331</td>\n",
              "      <td>Bike</td>\n",
              "      <td>3</td>\n",
              "      <td>Business</td>\n",
              "      <td>18</td>\n",
              "      <td>3</td>\n",
              "      <td>3:47:46 PM</td>\n",
              "      <td>18</td>\n",
              "      <td>3</td>\n",
              "      <td>3:47:56 PM</td>\n",
              "      <td>18</td>\n",
              "      <td>3</td>\n",
              "      <td>3:57:04 PM</td>\n",
              "      <td>18</td>\n",
              "      <td>3</td>\n",
              "      <td>3:59:12 PM</td>\n",
              "      <td>18</td>\n",
              "      <td>3</td>\n",
              "      <td>4:26:13 PM</td>\n",
              "      <td>9</td>\n",
              "      <td>20.6</td>\n",
              "      <td>NaN</td>\n",
              "      <td>-1.255189</td>\n",
              "      <td>36.782203</td>\n",
              "      <td>-1.235957</td>\n",
              "      <td>36.762273</td>\n",
              "      <td>Rider_Id_620</td>\n",
              "      <td>1621</td>\n",
              "    </tr>\n",
              "    <tr>\n",
              "      <th>12860</th>\n",
              "      <td>Order_No_11222</td>\n",
              "      <td>User_Id_1329</td>\n",
              "      <td>Bike</td>\n",
              "      <td>3</td>\n",
              "      <td>Business</td>\n",
              "      <td>30</td>\n",
              "      <td>6</td>\n",
              "      <td>11:07:36 AM</td>\n",
              "      <td>30</td>\n",
              "      <td>6</td>\n",
              "      <td>11:07:51 AM</td>\n",
              "      <td>30</td>\n",
              "      <td>6</td>\n",
              "      <td>11:11:51 AM</td>\n",
              "      <td>30</td>\n",
              "      <td>6</td>\n",
              "      <td>11:16:19 AM</td>\n",
              "      <td>30</td>\n",
              "      <td>6</td>\n",
              "      <td>11:35:39 AM</td>\n",
              "      <td>3</td>\n",
              "      <td>26.6</td>\n",
              "      <td>NaN</td>\n",
              "      <td>-1.273056</td>\n",
              "      <td>36.811298</td>\n",
              "      <td>-1.253430</td>\n",
              "      <td>36.800098</td>\n",
              "      <td>Rider_Id_751</td>\n",
              "      <td>1160</td>\n",
              "    </tr>\n",
              "    <tr>\n",
              "      <th>569</th>\n",
              "      <td>Order_No_3006</td>\n",
              "      <td>User_Id_1880</td>\n",
              "      <td>Bike</td>\n",
              "      <td>3</td>\n",
              "      <td>Business</td>\n",
              "      <td>7</td>\n",
              "      <td>5</td>\n",
              "      <td>1:08:31 PM</td>\n",
              "      <td>7</td>\n",
              "      <td>5</td>\n",
              "      <td>1:10:43 PM</td>\n",
              "      <td>7</td>\n",
              "      <td>5</td>\n",
              "      <td>1:30:14 PM</td>\n",
              "      <td>7</td>\n",
              "      <td>5</td>\n",
              "      <td>1:40:12 PM</td>\n",
              "      <td>7</td>\n",
              "      <td>5</td>\n",
              "      <td>2:59:28 PM</td>\n",
              "      <td>12</td>\n",
              "      <td>24.9</td>\n",
              "      <td>NaN</td>\n",
              "      <td>-1.257147</td>\n",
              "      <td>36.795063</td>\n",
              "      <td>-1.315530</td>\n",
              "      <td>36.863732</td>\n",
              "      <td>Rider_Id_88</td>\n",
              "      <td>4756</td>\n",
              "    </tr>\n",
              "    <tr>\n",
              "      <th>4400</th>\n",
              "      <td>Order_No_23831</td>\n",
              "      <td>User_Id_2523</td>\n",
              "      <td>Bike</td>\n",
              "      <td>3</td>\n",
              "      <td>Business</td>\n",
              "      <td>22</td>\n",
              "      <td>5</td>\n",
              "      <td>3:12:00 PM</td>\n",
              "      <td>22</td>\n",
              "      <td>5</td>\n",
              "      <td>3:12:20 PM</td>\n",
              "      <td>22</td>\n",
              "      <td>5</td>\n",
              "      <td>3:28:12 PM</td>\n",
              "      <td>22</td>\n",
              "      <td>5</td>\n",
              "      <td>3:34:08 PM</td>\n",
              "      <td>22</td>\n",
              "      <td>5</td>\n",
              "      <td>4:14:50 PM</td>\n",
              "      <td>15</td>\n",
              "      <td>NaN</td>\n",
              "      <td>NaN</td>\n",
              "      <td>-1.255189</td>\n",
              "      <td>36.782203</td>\n",
              "      <td>-1.234324</td>\n",
              "      <td>36.886100</td>\n",
              "      <td>Rider_Id_192</td>\n",
              "      <td>2442</td>\n",
              "    </tr>\n",
              "    <tr>\n",
              "      <th>3800</th>\n",
              "      <td>Order_No_26032</td>\n",
              "      <td>User_Id_239</td>\n",
              "      <td>Bike</td>\n",
              "      <td>1</td>\n",
              "      <td>Personal</td>\n",
              "      <td>26</td>\n",
              "      <td>3</td>\n",
              "      <td>5:04:29 PM</td>\n",
              "      <td>26</td>\n",
              "      <td>3</td>\n",
              "      <td>5:05:21 PM</td>\n",
              "      <td>26</td>\n",
              "      <td>3</td>\n",
              "      <td>5:13:59 PM</td>\n",
              "      <td>26</td>\n",
              "      <td>3</td>\n",
              "      <td>5:25:16 PM</td>\n",
              "      <td>26</td>\n",
              "      <td>3</td>\n",
              "      <td>5:58:08 PM</td>\n",
              "      <td>11</td>\n",
              "      <td>19.5</td>\n",
              "      <td>NaN</td>\n",
              "      <td>-1.325710</td>\n",
              "      <td>36.805533</td>\n",
              "      <td>-1.273808</td>\n",
              "      <td>36.840290</td>\n",
              "      <td>Rider_Id_85</td>\n",
              "      <td>1972</td>\n",
              "    </tr>\n",
              "    <tr>\n",
              "      <th>13110</th>\n",
              "      <td>Order_No_7543</td>\n",
              "      <td>User_Id_3487</td>\n",
              "      <td>Bike</td>\n",
              "      <td>3</td>\n",
              "      <td>Business</td>\n",
              "      <td>29</td>\n",
              "      <td>1</td>\n",
              "      <td>3:09:32 PM</td>\n",
              "      <td>29</td>\n",
              "      <td>1</td>\n",
              "      <td>3:10:35 PM</td>\n",
              "      <td>29</td>\n",
              "      <td>1</td>\n",
              "      <td>3:14:46 PM</td>\n",
              "      <td>29</td>\n",
              "      <td>1</td>\n",
              "      <td>3:18:33 PM</td>\n",
              "      <td>29</td>\n",
              "      <td>1</td>\n",
              "      <td>3:29:03 PM</td>\n",
              "      <td>6</td>\n",
              "      <td>NaN</td>\n",
              "      <td>NaN</td>\n",
              "      <td>-1.279395</td>\n",
              "      <td>36.825364</td>\n",
              "      <td>-1.261589</td>\n",
              "      <td>36.792873</td>\n",
              "      <td>Rider_Id_291</td>\n",
              "      <td>630</td>\n",
              "    </tr>\n",
              "    <tr>\n",
              "      <th>8818</th>\n",
              "      <td>Order_No_22748</td>\n",
              "      <td>User_Id_970</td>\n",
              "      <td>Bike</td>\n",
              "      <td>3</td>\n",
              "      <td>Business</td>\n",
              "      <td>6</td>\n",
              "      <td>3</td>\n",
              "      <td>12:44:12 PM</td>\n",
              "      <td>6</td>\n",
              "      <td>3</td>\n",
              "      <td>12:44:32 PM</td>\n",
              "      <td>6</td>\n",
              "      <td>3</td>\n",
              "      <td>12:47:32 PM</td>\n",
              "      <td>6</td>\n",
              "      <td>3</td>\n",
              "      <td>12:49:53 PM</td>\n",
              "      <td>6</td>\n",
              "      <td>3</td>\n",
              "      <td>1:04:05 PM</td>\n",
              "      <td>2</td>\n",
              "      <td>22.5</td>\n",
              "      <td>NaN</td>\n",
              "      <td>-1.255189</td>\n",
              "      <td>36.782203</td>\n",
              "      <td>-1.254673</td>\n",
              "      <td>36.792324</td>\n",
              "      <td>Rider_Id_91</td>\n",
              "      <td>852</td>\n",
              "    </tr>\n",
              "    <tr>\n",
              "      <th>5433</th>\n",
              "      <td>Order_No_12191</td>\n",
              "      <td>User_Id_53</td>\n",
              "      <td>Bike</td>\n",
              "      <td>3</td>\n",
              "      <td>Business</td>\n",
              "      <td>1</td>\n",
              "      <td>5</td>\n",
              "      <td>2:32:47 PM</td>\n",
              "      <td>1</td>\n",
              "      <td>5</td>\n",
              "      <td>2:37:55 PM</td>\n",
              "      <td>1</td>\n",
              "      <td>5</td>\n",
              "      <td>3:01:12 PM</td>\n",
              "      <td>1</td>\n",
              "      <td>5</td>\n",
              "      <td>3:07:27 PM</td>\n",
              "      <td>1</td>\n",
              "      <td>5</td>\n",
              "      <td>3:44:41 PM</td>\n",
              "      <td>5</td>\n",
              "      <td>32.1</td>\n",
              "      <td>NaN</td>\n",
              "      <td>-1.300406</td>\n",
              "      <td>36.829741</td>\n",
              "      <td>-1.277071</td>\n",
              "      <td>36.823109</td>\n",
              "      <td>Rider_Id_17</td>\n",
              "      <td>2234</td>\n",
              "    </tr>\n",
              "    <tr>\n",
              "      <th>12045</th>\n",
              "      <td>Order_No_14252</td>\n",
              "      <td>User_Id_2112</td>\n",
              "      <td>Bike</td>\n",
              "      <td>3</td>\n",
              "      <td>Business</td>\n",
              "      <td>28</td>\n",
              "      <td>4</td>\n",
              "      <td>12:41:40 PM</td>\n",
              "      <td>28</td>\n",
              "      <td>4</td>\n",
              "      <td>12:42:24 PM</td>\n",
              "      <td>28</td>\n",
              "      <td>4</td>\n",
              "      <td>12:55:23 PM</td>\n",
              "      <td>28</td>\n",
              "      <td>4</td>\n",
              "      <td>1:06:18 PM</td>\n",
              "      <td>28</td>\n",
              "      <td>4</td>\n",
              "      <td>1:35:02 PM</td>\n",
              "      <td>5</td>\n",
              "      <td>23.5</td>\n",
              "      <td>NaN</td>\n",
              "      <td>-1.228583</td>\n",
              "      <td>36.882647</td>\n",
              "      <td>-1.215601</td>\n",
              "      <td>36.891686</td>\n",
              "      <td>Rider_Id_75</td>\n",
              "      <td>1724</td>\n",
              "    </tr>\n",
              "  </tbody>\n",
              "</table>\n",
              "</div>"
            ],
            "text/plain": [
              "             Order No       User Id  ...      Rider Id  Time from Pickup to Arrival\n",
              "12390  Order_No_22823  User_Id_1932  ...  Rider_Id_116                          819\n",
              "8574   Order_No_25532  User_Id_3331  ...  Rider_Id_620                         1621\n",
              "12860  Order_No_11222  User_Id_1329  ...  Rider_Id_751                         1160\n",
              "569     Order_No_3006  User_Id_1880  ...   Rider_Id_88                         4756\n",
              "4400   Order_No_23831  User_Id_2523  ...  Rider_Id_192                         2442\n",
              "3800   Order_No_26032   User_Id_239  ...   Rider_Id_85                         1972\n",
              "13110   Order_No_7543  User_Id_3487  ...  Rider_Id_291                          630\n",
              "8818   Order_No_22748   User_Id_970  ...   Rider_Id_91                          852\n",
              "5433   Order_No_12191    User_Id_53  ...   Rider_Id_17                         2234\n",
              "12045  Order_No_14252  User_Id_2112  ...   Rider_Id_75                         1724\n",
              "\n",
              "[10 rows x 29 columns]"
            ]
          },
          "metadata": {},
          "execution_count": 11
        }
      ]
    },
    {
      "cell_type": "code",
      "metadata": {
        "id": "2cYyZXLDOvSE"
      },
      "source": [
        "def get_dist(df):\n",
        "    loc_1 = (df['Pickup Lat'], df['Pickup Long'])\n",
        "    loc_2 = (df['Destination Lat'], df['Destination Long'])\n",
        "    return great_circle(loc_1, loc_2).kilometers"
      ],
      "execution_count": null,
      "outputs": []
    },
    {
      "cell_type": "code",
      "metadata": {
        "colab": {
          "base_uri": "https://localhost:8080/",
          "height": 711
        },
        "id": "LidHYc7wO-QS",
        "outputId": "9c65ca43-73a3-484f-8369-4721e5cb636e"
      },
      "source": [
        "df_sendy['Distance Pickup (km)']= df_sendy.apply(get_dist, axis=1)\n",
        "df_sendy"
      ],
      "execution_count": null,
      "outputs": [
        {
          "output_type": "execute_result",
          "data": {
            "text/html": [
              "<div>\n",
              "<style scoped>\n",
              "    .dataframe tbody tr th:only-of-type {\n",
              "        vertical-align: middle;\n",
              "    }\n",
              "\n",
              "    .dataframe tbody tr th {\n",
              "        vertical-align: top;\n",
              "    }\n",
              "\n",
              "    .dataframe thead th {\n",
              "        text-align: right;\n",
              "    }\n",
              "</style>\n",
              "<table border=\"1\" class=\"dataframe\">\n",
              "  <thead>\n",
              "    <tr style=\"text-align: right;\">\n",
              "      <th></th>\n",
              "      <th>Order No</th>\n",
              "      <th>User Id</th>\n",
              "      <th>Vehicle Type</th>\n",
              "      <th>Platform Type</th>\n",
              "      <th>Personal or Business</th>\n",
              "      <th>Placement - Day of Month</th>\n",
              "      <th>Placement - Weekday (Mo = 1)</th>\n",
              "      <th>Placement - Time</th>\n",
              "      <th>Confirmation - Day of Month</th>\n",
              "      <th>Confirmation - Weekday (Mo = 1)</th>\n",
              "      <th>Confirmation - Time</th>\n",
              "      <th>Arrival at Pickup - Day of Month</th>\n",
              "      <th>Arrival at Pickup - Weekday (Mo = 1)</th>\n",
              "      <th>Arrival at Pickup - Time</th>\n",
              "      <th>Pickup - Day of Month</th>\n",
              "      <th>Pickup - Weekday (Mo = 1)</th>\n",
              "      <th>Pickup - Time</th>\n",
              "      <th>Arrival at Destination - Day of Month</th>\n",
              "      <th>Arrival at Destination - Weekday (Mo = 1)</th>\n",
              "      <th>Arrival at Destination - Time</th>\n",
              "      <th>Distance (KM)</th>\n",
              "      <th>Temperature</th>\n",
              "      <th>Precipitation in millimeters</th>\n",
              "      <th>Pickup Lat</th>\n",
              "      <th>Pickup Long</th>\n",
              "      <th>Destination Lat</th>\n",
              "      <th>Destination Long</th>\n",
              "      <th>Rider Id</th>\n",
              "      <th>Time from Pickup to Arrival</th>\n",
              "      <th>Distance Pickup (km)</th>\n",
              "    </tr>\n",
              "  </thead>\n",
              "  <tbody>\n",
              "    <tr>\n",
              "      <th>0</th>\n",
              "      <td>Order_No_4211</td>\n",
              "      <td>User_Id_633</td>\n",
              "      <td>Bike</td>\n",
              "      <td>3</td>\n",
              "      <td>Business</td>\n",
              "      <td>9</td>\n",
              "      <td>5</td>\n",
              "      <td>9:35:46 AM</td>\n",
              "      <td>9</td>\n",
              "      <td>5</td>\n",
              "      <td>9:40:10 AM</td>\n",
              "      <td>9</td>\n",
              "      <td>5</td>\n",
              "      <td>10:04:47 AM</td>\n",
              "      <td>9</td>\n",
              "      <td>5</td>\n",
              "      <td>10:27:30 AM</td>\n",
              "      <td>9</td>\n",
              "      <td>5</td>\n",
              "      <td>10:39:55 AM</td>\n",
              "      <td>4</td>\n",
              "      <td>20.4</td>\n",
              "      <td>NaN</td>\n",
              "      <td>-1.317755</td>\n",
              "      <td>36.830370</td>\n",
              "      <td>-1.300406</td>\n",
              "      <td>36.829741</td>\n",
              "      <td>Rider_Id_432</td>\n",
              "      <td>745</td>\n",
              "      <td>1.930336</td>\n",
              "    </tr>\n",
              "    <tr>\n",
              "      <th>1</th>\n",
              "      <td>Order_No_25375</td>\n",
              "      <td>User_Id_2285</td>\n",
              "      <td>Bike</td>\n",
              "      <td>3</td>\n",
              "      <td>Personal</td>\n",
              "      <td>12</td>\n",
              "      <td>5</td>\n",
              "      <td>11:16:16 AM</td>\n",
              "      <td>12</td>\n",
              "      <td>5</td>\n",
              "      <td>11:23:21 AM</td>\n",
              "      <td>12</td>\n",
              "      <td>5</td>\n",
              "      <td>11:40:22 AM</td>\n",
              "      <td>12</td>\n",
              "      <td>5</td>\n",
              "      <td>11:44:09 AM</td>\n",
              "      <td>12</td>\n",
              "      <td>5</td>\n",
              "      <td>12:17:22 PM</td>\n",
              "      <td>16</td>\n",
              "      <td>26.4</td>\n",
              "      <td>NaN</td>\n",
              "      <td>-1.351453</td>\n",
              "      <td>36.899315</td>\n",
              "      <td>-1.295004</td>\n",
              "      <td>36.814358</td>\n",
              "      <td>Rider_Id_856</td>\n",
              "      <td>1993</td>\n",
              "      <td>11.339865</td>\n",
              "    </tr>\n",
              "    <tr>\n",
              "      <th>2</th>\n",
              "      <td>Order_No_1899</td>\n",
              "      <td>User_Id_265</td>\n",
              "      <td>Bike</td>\n",
              "      <td>3</td>\n",
              "      <td>Business</td>\n",
              "      <td>30</td>\n",
              "      <td>2</td>\n",
              "      <td>12:39:25 PM</td>\n",
              "      <td>30</td>\n",
              "      <td>2</td>\n",
              "      <td>12:42:44 PM</td>\n",
              "      <td>30</td>\n",
              "      <td>2</td>\n",
              "      <td>12:49:34 PM</td>\n",
              "      <td>30</td>\n",
              "      <td>2</td>\n",
              "      <td>12:53:03 PM</td>\n",
              "      <td>30</td>\n",
              "      <td>2</td>\n",
              "      <td>1:00:38 PM</td>\n",
              "      <td>3</td>\n",
              "      <td>NaN</td>\n",
              "      <td>NaN</td>\n",
              "      <td>-1.308284</td>\n",
              "      <td>36.843419</td>\n",
              "      <td>-1.300921</td>\n",
              "      <td>36.828195</td>\n",
              "      <td>Rider_Id_155</td>\n",
              "      <td>455</td>\n",
              "      <td>1.880081</td>\n",
              "    </tr>\n",
              "    <tr>\n",
              "      <th>3</th>\n",
              "      <td>Order_No_9336</td>\n",
              "      <td>User_Id_1402</td>\n",
              "      <td>Bike</td>\n",
              "      <td>3</td>\n",
              "      <td>Business</td>\n",
              "      <td>15</td>\n",
              "      <td>5</td>\n",
              "      <td>9:25:34 AM</td>\n",
              "      <td>15</td>\n",
              "      <td>5</td>\n",
              "      <td>9:26:05 AM</td>\n",
              "      <td>15</td>\n",
              "      <td>5</td>\n",
              "      <td>9:37:56 AM</td>\n",
              "      <td>15</td>\n",
              "      <td>5</td>\n",
              "      <td>9:43:06 AM</td>\n",
              "      <td>15</td>\n",
              "      <td>5</td>\n",
              "      <td>10:05:27 AM</td>\n",
              "      <td>9</td>\n",
              "      <td>19.2</td>\n",
              "      <td>NaN</td>\n",
              "      <td>-1.281301</td>\n",
              "      <td>36.832396</td>\n",
              "      <td>-1.257147</td>\n",
              "      <td>36.795063</td>\n",
              "      <td>Rider_Id_855</td>\n",
              "      <td>1341</td>\n",
              "      <td>4.943465</td>\n",
              "    </tr>\n",
              "    <tr>\n",
              "      <th>4</th>\n",
              "      <td>Order_No_27883</td>\n",
              "      <td>User_Id_1737</td>\n",
              "      <td>Bike</td>\n",
              "      <td>1</td>\n",
              "      <td>Personal</td>\n",
              "      <td>13</td>\n",
              "      <td>1</td>\n",
              "      <td>9:55:18 AM</td>\n",
              "      <td>13</td>\n",
              "      <td>1</td>\n",
              "      <td>9:56:18 AM</td>\n",
              "      <td>13</td>\n",
              "      <td>1</td>\n",
              "      <td>10:03:53 AM</td>\n",
              "      <td>13</td>\n",
              "      <td>1</td>\n",
              "      <td>10:05:23 AM</td>\n",
              "      <td>13</td>\n",
              "      <td>1</td>\n",
              "      <td>10:25:37 AM</td>\n",
              "      <td>9</td>\n",
              "      <td>15.4</td>\n",
              "      <td>NaN</td>\n",
              "      <td>-1.266597</td>\n",
              "      <td>36.792118</td>\n",
              "      <td>-1.295041</td>\n",
              "      <td>36.809817</td>\n",
              "      <td>Rider_Id_770</td>\n",
              "      <td>1214</td>\n",
              "      <td>3.724834</td>\n",
              "    </tr>\n",
              "    <tr>\n",
              "      <th>...</th>\n",
              "      <td>...</td>\n",
              "      <td>...</td>\n",
              "      <td>...</td>\n",
              "      <td>...</td>\n",
              "      <td>...</td>\n",
              "      <td>...</td>\n",
              "      <td>...</td>\n",
              "      <td>...</td>\n",
              "      <td>...</td>\n",
              "      <td>...</td>\n",
              "      <td>...</td>\n",
              "      <td>...</td>\n",
              "      <td>...</td>\n",
              "      <td>...</td>\n",
              "      <td>...</td>\n",
              "      <td>...</td>\n",
              "      <td>...</td>\n",
              "      <td>...</td>\n",
              "      <td>...</td>\n",
              "      <td>...</td>\n",
              "      <td>...</td>\n",
              "      <td>...</td>\n",
              "      <td>...</td>\n",
              "      <td>...</td>\n",
              "      <td>...</td>\n",
              "      <td>...</td>\n",
              "      <td>...</td>\n",
              "      <td>...</td>\n",
              "      <td>...</td>\n",
              "      <td>...</td>\n",
              "    </tr>\n",
              "    <tr>\n",
              "      <th>21196</th>\n",
              "      <td>Order_No_8834</td>\n",
              "      <td>User_Id_2001</td>\n",
              "      <td>Bike</td>\n",
              "      <td>3</td>\n",
              "      <td>Personal</td>\n",
              "      <td>20</td>\n",
              "      <td>3</td>\n",
              "      <td>3:54:38 PM</td>\n",
              "      <td>20</td>\n",
              "      <td>3</td>\n",
              "      <td>3:55:09 PM</td>\n",
              "      <td>20</td>\n",
              "      <td>3</td>\n",
              "      <td>3:58:49 PM</td>\n",
              "      <td>20</td>\n",
              "      <td>3</td>\n",
              "      <td>4:20:08 PM</td>\n",
              "      <td>20</td>\n",
              "      <td>3</td>\n",
              "      <td>4:20:17 PM</td>\n",
              "      <td>3</td>\n",
              "      <td>28.6</td>\n",
              "      <td>NaN</td>\n",
              "      <td>-1.258414</td>\n",
              "      <td>36.804800</td>\n",
              "      <td>-1.275285</td>\n",
              "      <td>36.802702</td>\n",
              "      <td>Rider_Id_953</td>\n",
              "      <td>9</td>\n",
              "      <td>1.890338</td>\n",
              "    </tr>\n",
              "    <tr>\n",
              "      <th>21197</th>\n",
              "      <td>Order_No_22892</td>\n",
              "      <td>User_Id_1796</td>\n",
              "      <td>Bike</td>\n",
              "      <td>3</td>\n",
              "      <td>Business</td>\n",
              "      <td>13</td>\n",
              "      <td>6</td>\n",
              "      <td>10:13:34 AM</td>\n",
              "      <td>13</td>\n",
              "      <td>6</td>\n",
              "      <td>10:13:41 AM</td>\n",
              "      <td>13</td>\n",
              "      <td>6</td>\n",
              "      <td>10:20:04 AM</td>\n",
              "      <td>13</td>\n",
              "      <td>6</td>\n",
              "      <td>10:33:27 AM</td>\n",
              "      <td>13</td>\n",
              "      <td>6</td>\n",
              "      <td>10:46:17 AM</td>\n",
              "      <td>7</td>\n",
              "      <td>26.0</td>\n",
              "      <td>NaN</td>\n",
              "      <td>-1.307143</td>\n",
              "      <td>36.825009</td>\n",
              "      <td>-1.331619</td>\n",
              "      <td>36.847976</td>\n",
              "      <td>Rider_Id_155</td>\n",
              "      <td>770</td>\n",
              "      <td>3.731714</td>\n",
              "    </tr>\n",
              "    <tr>\n",
              "      <th>21198</th>\n",
              "      <td>Order_No_2831</td>\n",
              "      <td>User_Id_2956</td>\n",
              "      <td>Bike</td>\n",
              "      <td>3</td>\n",
              "      <td>Business</td>\n",
              "      <td>7</td>\n",
              "      <td>4</td>\n",
              "      <td>5:06:16 PM</td>\n",
              "      <td>7</td>\n",
              "      <td>4</td>\n",
              "      <td>5:07:09 PM</td>\n",
              "      <td>7</td>\n",
              "      <td>4</td>\n",
              "      <td>5:30:17 PM</td>\n",
              "      <td>7</td>\n",
              "      <td>4</td>\n",
              "      <td>5:50:52 PM</td>\n",
              "      <td>7</td>\n",
              "      <td>4</td>\n",
              "      <td>6:40:05 PM</td>\n",
              "      <td>20</td>\n",
              "      <td>29.2</td>\n",
              "      <td>NaN</td>\n",
              "      <td>-1.286018</td>\n",
              "      <td>36.897534</td>\n",
              "      <td>-1.258414</td>\n",
              "      <td>36.804800</td>\n",
              "      <td>Rider_Id_697</td>\n",
              "      <td>2953</td>\n",
              "      <td>10.756228</td>\n",
              "    </tr>\n",
              "    <tr>\n",
              "      <th>21199</th>\n",
              "      <td>Order_No_6174</td>\n",
              "      <td>User_Id_2524</td>\n",
              "      <td>Bike</td>\n",
              "      <td>1</td>\n",
              "      <td>Personal</td>\n",
              "      <td>4</td>\n",
              "      <td>3</td>\n",
              "      <td>9:31:39 AM</td>\n",
              "      <td>4</td>\n",
              "      <td>3</td>\n",
              "      <td>9:31:53 AM</td>\n",
              "      <td>4</td>\n",
              "      <td>3</td>\n",
              "      <td>9:38:59 AM</td>\n",
              "      <td>4</td>\n",
              "      <td>3</td>\n",
              "      <td>9:45:15 AM</td>\n",
              "      <td>4</td>\n",
              "      <td>3</td>\n",
              "      <td>10:08:15 AM</td>\n",
              "      <td>13</td>\n",
              "      <td>15.0</td>\n",
              "      <td>NaN</td>\n",
              "      <td>-1.250030</td>\n",
              "      <td>36.874167</td>\n",
              "      <td>-1.279209</td>\n",
              "      <td>36.794872</td>\n",
              "      <td>Rider_Id_347</td>\n",
              "      <td>1380</td>\n",
              "      <td>9.393203</td>\n",
              "    </tr>\n",
              "    <tr>\n",
              "      <th>21200</th>\n",
              "      <td>Order_No_9836</td>\n",
              "      <td>User_Id_718</td>\n",
              "      <td>Bike</td>\n",
              "      <td>3</td>\n",
              "      <td>Business</td>\n",
              "      <td>26</td>\n",
              "      <td>2</td>\n",
              "      <td>2:19:47 PM</td>\n",
              "      <td>26</td>\n",
              "      <td>2</td>\n",
              "      <td>2:20:01 PM</td>\n",
              "      <td>26</td>\n",
              "      <td>2</td>\n",
              "      <td>2:24:29 PM</td>\n",
              "      <td>26</td>\n",
              "      <td>2</td>\n",
              "      <td>2:41:55 PM</td>\n",
              "      <td>26</td>\n",
              "      <td>2</td>\n",
              "      <td>3:17:23 PM</td>\n",
              "      <td>12</td>\n",
              "      <td>30.9</td>\n",
              "      <td>NaN</td>\n",
              "      <td>-1.255189</td>\n",
              "      <td>36.782203</td>\n",
              "      <td>-1.320157</td>\n",
              "      <td>36.830887</td>\n",
              "      <td>Rider_Id_177</td>\n",
              "      <td>2128</td>\n",
              "      <td>9.026460</td>\n",
              "    </tr>\n",
              "  </tbody>\n",
              "</table>\n",
              "<p>21201 rows × 30 columns</p>\n",
              "</div>"
            ],
            "text/plain": [
              "             Order No  ... Distance Pickup (km)\n",
              "0       Order_No_4211  ...             1.930336\n",
              "1      Order_No_25375  ...            11.339865\n",
              "2       Order_No_1899  ...             1.880081\n",
              "3       Order_No_9336  ...             4.943465\n",
              "4      Order_No_27883  ...             3.724834\n",
              "...               ...  ...                  ...\n",
              "21196   Order_No_8834  ...             1.890338\n",
              "21197  Order_No_22892  ...             3.731714\n",
              "21198   Order_No_2831  ...            10.756228\n",
              "21199   Order_No_6174  ...             9.393203\n",
              "21200   Order_No_9836  ...             9.026460\n",
              "\n",
              "[21201 rows x 30 columns]"
            ]
          },
          "metadata": {},
          "execution_count": 13
        }
      ]
    },
    {
      "cell_type": "code",
      "metadata": {
        "colab": {
          "base_uri": "https://localhost:8080/"
        },
        "id": "R2xY9o3wGVRt",
        "outputId": "bf306d3a-3fb5-4e40-b58d-0eb6313cf326"
      },
      "source": [
        "from geopy.geocoders import Nominatim\n",
        "geolocator = Nominatim(user_agent=\"Aslm\")\n",
        "location = geolocator.geocode(\"Tahrir Square, Cairo, Egypt\")\n",
        "location.raw"
      ],
      "execution_count": null,
      "outputs": [
        {
          "output_type": "execute_result",
          "data": {
            "text/plain": [
              "{'boundingbox': ['30.0438562', '30.0449859', '31.2350927', '31.2363948'],\n",
              " 'class': 'place',\n",
              " 'display_name': 'Tahrir Square, قصر\\xa0الدوباره, باب اللوق, القاهرة, مصر',\n",
              " 'importance': 0.325,\n",
              " 'lat': '30.04438065',\n",
              " 'licence': 'Data © OpenStreetMap contributors, ODbL 1.0. https://osm.org/copyright',\n",
              " 'lon': '31.235746507982174',\n",
              " 'osm_id': 993158361,\n",
              " 'osm_type': 'way',\n",
              " 'place_id': 282100292,\n",
              " 'type': 'square'}"
            ]
          },
          "metadata": {},
          "execution_count": 66
        }
      ]
    },
    {
      "cell_type": "code",
      "metadata": {
        "colab": {
          "base_uri": "https://localhost:8080/"
        },
        "id": "J3tLmyOWH-3Y",
        "outputId": "56a3271a-9d32-40c7-99f1-e8fdcf491b17"
      },
      "source": [
        "location = geolocator.geocode(\"Pyramids , Giza, Egypt\")\n",
        "location.raw"
      ],
      "execution_count": null,
      "outputs": [
        {
          "output_type": "execute_result",
          "data": {
            "text/plain": [
              "{'boundingbox': ['29.9747793', '29.9748793', '31.1377826', '31.1378826'],\n",
              " 'class': 'tourism',\n",
              " 'display_name': 'أهرامات الجيزة, شارع ابو الهول السياحي, نزلة البطران, ميدان الرماية, 12556, مصر',\n",
              " 'icon': 'https://nominatim.openstreetmap.org/ui/mapicons//tourist_art_gallery2.p.20.png',\n",
              " 'importance': 0.001,\n",
              " 'lat': '29.9748293',\n",
              " 'licence': 'Data © OpenStreetMap contributors, ODbL 1.0. https://osm.org/copyright',\n",
              " 'lon': '31.1378326',\n",
              " 'osm_id': 4645722389,\n",
              " 'osm_type': 'node',\n",
              " 'place_id': 54629798,\n",
              " 'type': 'artwork'}"
            ]
          },
          "metadata": {},
          "execution_count": 15
        }
      ]
    },
    {
      "cell_type": "code",
      "metadata": {
        "colab": {
          "base_uri": "https://localhost:8080/"
        },
        "id": "r_7wrqbVJSu9",
        "outputId": "d7887906-c4da-4be3-dd78-528cbd740bb7"
      },
      "source": [
        "location = geolocator.geocode(\"Bitash,Alexandria, Egypt\")\n",
        "location.raw"
      ],
      "execution_count": null,
      "outputs": [
        {
          "output_type": "execute_result",
          "data": {
            "text/plain": [
              "{'boundingbox': ['31.1148018', '31.130462', '29.7779301', '29.7945247'],\n",
              " 'class': 'highway',\n",
              " 'display_name': 'شارع البيطاش, العجمى, العجمي, محافظة الإسكندرية, 00203, مصر',\n",
              " 'importance': 0.09999999999999998,\n",
              " 'lat': '31.1217827',\n",
              " 'licence': 'Data © OpenStreetMap contributors, ODbL 1.0. https://osm.org/copyright',\n",
              " 'lon': '29.7855841',\n",
              " 'osm_id': 653713928,\n",
              " 'osm_type': 'way',\n",
              " 'place_id': 221683526,\n",
              " 'type': 'unclassified'}"
            ]
          },
          "metadata": {},
          "execution_count": 16
        }
      ]
    },
    {
      "cell_type": "code",
      "metadata": {
        "colab": {
          "base_uri": "https://localhost:8080/"
        },
        "id": "h0K3gS5iJiUc",
        "outputId": "49945a5a-29bd-466d-cac2-c4e87d8012ce"
      },
      "source": [
        "location = geolocator.reverse(\"31.13015,29.81616\")\n",
        "location.raw"
      ],
      "execution_count": null,
      "outputs": [
        {
          "output_type": "execute_result",
          "data": {
            "text/plain": [
              "{'address': {'country': 'مصر',\n",
              "  'country_code': 'eg',\n",
              "  'house_number': '30',\n",
              "  'postcode': '21537',\n",
              "  'road': 'شارع المقابر',\n",
              "  'state': 'محافظة الإسكندرية',\n",
              "  'village': 'الدخيلة'},\n",
              " 'boundingbox': ['31.1304843', '31.1305843', '29.8156938', '29.8157938'],\n",
              " 'display_name': '30, شارع المقابر, الدخيلة, محافظة الإسكندرية, 21537, مصر',\n",
              " 'lat': '31.1305343',\n",
              " 'licence': 'Data © OpenStreetMap contributors, ODbL 1.0. https://osm.org/copyright',\n",
              " 'lon': '29.8157438',\n",
              " 'osm_id': 6945636114,\n",
              " 'osm_type': 'node',\n",
              " 'place_id': 75019113}"
            ]
          },
          "metadata": {},
          "execution_count": 17
        }
      ]
    },
    {
      "cell_type": "code",
      "metadata": {
        "colab": {
          "base_uri": "https://localhost:8080/"
        },
        "id": "Q_oa3zfZSZwD",
        "outputId": "a2849c7e-a4ad-4ce9-b3b6-94dbe6622491"
      },
      "source": [
        "location.raw['address']"
      ],
      "execution_count": null,
      "outputs": [
        {
          "output_type": "execute_result",
          "data": {
            "text/plain": [
              "{'country': 'مصر',\n",
              " 'country_code': 'eg',\n",
              " 'house_number': '30',\n",
              " 'postcode': '21537',\n",
              " 'road': 'شارع المقابر',\n",
              " 'state': 'محافظة الإسكندرية',\n",
              " 'village': 'الدخيلة'}"
            ]
          },
          "metadata": {},
          "execution_count": 18
        }
      ]
    },
    {
      "cell_type": "code",
      "metadata": {
        "colab": {
          "base_uri": "https://localhost:8080/",
          "height": 35
        },
        "id": "Pc-ybj1pQ31b",
        "outputId": "fb5981b1-8d4f-4a85-ad23-f4c211af7d01"
      },
      "source": [
        "location.raw['address']['country']"
      ],
      "execution_count": null,
      "outputs": [
        {
          "output_type": "execute_result",
          "data": {
            "application/vnd.google.colaboratory.intrinsic+json": {
              "type": "string"
            },
            "text/plain": [
              "'مصر'"
            ]
          },
          "metadata": {},
          "execution_count": 19
        }
      ]
    },
    {
      "cell_type": "code",
      "metadata": {
        "colab": {
          "base_uri": "https://localhost:8080/",
          "height": 35
        },
        "id": "KVbDXL3BSYNF",
        "outputId": "43709d81-866a-4acb-8fbf-f0e23ab5cac5"
      },
      "source": [
        "location.raw['display_name']"
      ],
      "execution_count": null,
      "outputs": [
        {
          "output_type": "execute_result",
          "data": {
            "application/vnd.google.colaboratory.intrinsic+json": {
              "type": "string"
            },
            "text/plain": [
              "'30, شارع المقابر, الدخيلة, محافظة الإسكندرية, 21537, مصر'"
            ]
          },
          "metadata": {},
          "execution_count": 20
        }
      ]
    },
    {
      "cell_type": "markdown",
      "metadata": {
        "id": "_xiXgsMnnfKR"
      },
      "source": [
        "**Note :**\n",
        "\n",
        "**1. Each geolocation service you might use, such as Google Maps, Bing Maps, or Nominatim, has its own class in\n",
        "geopy.**\n",
        "\n",
        "**2. Nominatim is free, but provides low request limits.**\n",
        "\n",
        "**3. Using this library as using any web service so be online while using it**"
      ]
    },
    {
      "cell_type": "code",
      "metadata": {
        "id": "DDxs860dSuRp"
      },
      "source": [
        "df_melb = pd.read_csv('/content/melb_data.csv').sample(500)"
      ],
      "execution_count": null,
      "outputs": []
    },
    {
      "cell_type": "code",
      "metadata": {
        "colab": {
          "base_uri": "https://localhost:8080/"
        },
        "id": "yN5CFTCPTfPm",
        "outputId": "858f0729-15db-4028-9002-b80d6b36c849"
      },
      "source": [
        "df_melb.info()"
      ],
      "execution_count": null,
      "outputs": [
        {
          "output_type": "stream",
          "name": "stdout",
          "text": [
            "<class 'pandas.core.frame.DataFrame'>\n",
            "Int64Index: 500 entries, 1079 to 2198\n",
            "Data columns (total 21 columns):\n",
            " #   Column         Non-Null Count  Dtype  \n",
            "---  ------         --------------  -----  \n",
            " 0   Suburb         500 non-null    object \n",
            " 1   Address        500 non-null    object \n",
            " 2   Rooms          500 non-null    int64  \n",
            " 3   Type           500 non-null    object \n",
            " 4   Price          500 non-null    float64\n",
            " 5   Method         500 non-null    object \n",
            " 6   SellerG        500 non-null    object \n",
            " 7   Date           500 non-null    object \n",
            " 8   Distance       500 non-null    float64\n",
            " 9   Postcode       500 non-null    float64\n",
            " 10  Bedroom2       500 non-null    float64\n",
            " 11  Bathroom       500 non-null    float64\n",
            " 12  Car            497 non-null    float64\n",
            " 13  Landsize       500 non-null    float64\n",
            " 14  BuildingArea   261 non-null    float64\n",
            " 15  YearBuilt      296 non-null    float64\n",
            " 16  CouncilArea    443 non-null    object \n",
            " 17  Lattitude      500 non-null    float64\n",
            " 18  Longtitude     500 non-null    float64\n",
            " 19  Regionname     500 non-null    object \n",
            " 20  Propertycount  500 non-null    float64\n",
            "dtypes: float64(12), int64(1), object(8)\n",
            "memory usage: 85.9+ KB\n"
          ]
        }
      ]
    },
    {
      "cell_type": "code",
      "metadata": {
        "colab": {
          "base_uri": "https://localhost:8080/",
          "height": 317
        },
        "id": "ZL0kMcrcTiLr",
        "outputId": "07428738-7824-45f0-f81b-115336d85fe8"
      },
      "source": [
        "df_melb.describe()"
      ],
      "execution_count": null,
      "outputs": [
        {
          "output_type": "execute_result",
          "data": {
            "text/html": [
              "<div>\n",
              "<style scoped>\n",
              "    .dataframe tbody tr th:only-of-type {\n",
              "        vertical-align: middle;\n",
              "    }\n",
              "\n",
              "    .dataframe tbody tr th {\n",
              "        vertical-align: top;\n",
              "    }\n",
              "\n",
              "    .dataframe thead th {\n",
              "        text-align: right;\n",
              "    }\n",
              "</style>\n",
              "<table border=\"1\" class=\"dataframe\">\n",
              "  <thead>\n",
              "    <tr style=\"text-align: right;\">\n",
              "      <th></th>\n",
              "      <th>Rooms</th>\n",
              "      <th>Price</th>\n",
              "      <th>Distance</th>\n",
              "      <th>Postcode</th>\n",
              "      <th>Bedroom2</th>\n",
              "      <th>Bathroom</th>\n",
              "      <th>Car</th>\n",
              "      <th>Landsize</th>\n",
              "      <th>BuildingArea</th>\n",
              "      <th>YearBuilt</th>\n",
              "      <th>Lattitude</th>\n",
              "      <th>Longtitude</th>\n",
              "      <th>Propertycount</th>\n",
              "    </tr>\n",
              "  </thead>\n",
              "  <tbody>\n",
              "    <tr>\n",
              "      <th>count</th>\n",
              "      <td>500.000000</td>\n",
              "      <td>5.000000e+02</td>\n",
              "      <td>500.000000</td>\n",
              "      <td>500.000000</td>\n",
              "      <td>500.000000</td>\n",
              "      <td>500.000000</td>\n",
              "      <td>497.000000</td>\n",
              "      <td>500.000000</td>\n",
              "      <td>261.000000</td>\n",
              "      <td>296.000000</td>\n",
              "      <td>500.000000</td>\n",
              "      <td>500.000000</td>\n",
              "      <td>500.000000</td>\n",
              "    </tr>\n",
              "    <tr>\n",
              "      <th>mean</th>\n",
              "      <td>2.972000</td>\n",
              "      <td>1.118355e+06</td>\n",
              "      <td>9.851800</td>\n",
              "      <td>3105.798000</td>\n",
              "      <td>2.928000</td>\n",
              "      <td>1.564000</td>\n",
              "      <td>1.563380</td>\n",
              "      <td>586.982000</td>\n",
              "      <td>143.125019</td>\n",
              "      <td>1965.722973</td>\n",
              "      <td>-37.802807</td>\n",
              "      <td>144.996923</td>\n",
              "      <td>7594.228000</td>\n",
              "    </tr>\n",
              "    <tr>\n",
              "      <th>std</th>\n",
              "      <td>0.965962</td>\n",
              "      <td>7.075578e+05</td>\n",
              "      <td>5.624176</td>\n",
              "      <td>98.463289</td>\n",
              "      <td>0.974019</td>\n",
              "      <td>0.776602</td>\n",
              "      <td>0.887018</td>\n",
              "      <td>1921.721738</td>\n",
              "      <td>80.924530</td>\n",
              "      <td>35.926350</td>\n",
              "      <td>0.075654</td>\n",
              "      <td>0.099658</td>\n",
              "      <td>4464.894009</td>\n",
              "    </tr>\n",
              "    <tr>\n",
              "      <th>min</th>\n",
              "      <td>1.000000</td>\n",
              "      <td>2.400000e+05</td>\n",
              "      <td>0.700000</td>\n",
              "      <td>3000.000000</td>\n",
              "      <td>1.000000</td>\n",
              "      <td>0.000000</td>\n",
              "      <td>0.000000</td>\n",
              "      <td>0.000000</td>\n",
              "      <td>0.000000</td>\n",
              "      <td>1875.000000</td>\n",
              "      <td>-38.020940</td>\n",
              "      <td>144.661010</td>\n",
              "      <td>457.000000</td>\n",
              "    </tr>\n",
              "    <tr>\n",
              "      <th>25%</th>\n",
              "      <td>2.000000</td>\n",
              "      <td>6.593750e+05</td>\n",
              "      <td>5.900000</td>\n",
              "      <td>3046.000000</td>\n",
              "      <td>2.000000</td>\n",
              "      <td>1.000000</td>\n",
              "      <td>1.000000</td>\n",
              "      <td>178.000000</td>\n",
              "      <td>88.000000</td>\n",
              "      <td>1940.000000</td>\n",
              "      <td>-37.850243</td>\n",
              "      <td>144.933725</td>\n",
              "      <td>4492.750000</td>\n",
              "    </tr>\n",
              "    <tr>\n",
              "      <th>50%</th>\n",
              "      <td>3.000000</td>\n",
              "      <td>9.500000e+05</td>\n",
              "      <td>9.200000</td>\n",
              "      <td>3082.000000</td>\n",
              "      <td>3.000000</td>\n",
              "      <td>1.000000</td>\n",
              "      <td>2.000000</td>\n",
              "      <td>407.500000</td>\n",
              "      <td>132.000000</td>\n",
              "      <td>1970.000000</td>\n",
              "      <td>-37.800085</td>\n",
              "      <td>145.000530</td>\n",
              "      <td>6543.000000</td>\n",
              "    </tr>\n",
              "    <tr>\n",
              "      <th>75%</th>\n",
              "      <td>4.000000</td>\n",
              "      <td>1.367750e+06</td>\n",
              "      <td>12.800000</td>\n",
              "      <td>3146.000000</td>\n",
              "      <td>4.000000</td>\n",
              "      <td>2.000000</td>\n",
              "      <td>2.000000</td>\n",
              "      <td>650.000000</td>\n",
              "      <td>181.000000</td>\n",
              "      <td>2000.000000</td>\n",
              "      <td>-37.752200</td>\n",
              "      <td>145.054500</td>\n",
              "      <td>10412.000000</td>\n",
              "    </tr>\n",
              "    <tr>\n",
              "      <th>max</th>\n",
              "      <td>6.000000</td>\n",
              "      <td>6.500000e+06</td>\n",
              "      <td>34.600000</td>\n",
              "      <td>3805.000000</td>\n",
              "      <td>6.000000</td>\n",
              "      <td>6.000000</td>\n",
              "      <td>6.000000</td>\n",
              "      <td>38490.000000</td>\n",
              "      <td>490.000000</td>\n",
              "      <td>2016.000000</td>\n",
              "      <td>-37.565330</td>\n",
              "      <td>145.430030</td>\n",
              "      <td>21650.000000</td>\n",
              "    </tr>\n",
              "  </tbody>\n",
              "</table>\n",
              "</div>"
            ],
            "text/plain": [
              "            Rooms         Price  ...  Longtitude  Propertycount\n",
              "count  500.000000  5.000000e+02  ...  500.000000     500.000000\n",
              "mean     2.972000  1.118355e+06  ...  144.996923    7594.228000\n",
              "std      0.965962  7.075578e+05  ...    0.099658    4464.894009\n",
              "min      1.000000  2.400000e+05  ...  144.661010     457.000000\n",
              "25%      2.000000  6.593750e+05  ...  144.933725    4492.750000\n",
              "50%      3.000000  9.500000e+05  ...  145.000530    6543.000000\n",
              "75%      4.000000  1.367750e+06  ...  145.054500   10412.000000\n",
              "max      6.000000  6.500000e+06  ...  145.430030   21650.000000\n",
              "\n",
              "[8 rows x 13 columns]"
            ]
          },
          "metadata": {},
          "execution_count": 23
        }
      ]
    },
    {
      "cell_type": "code",
      "metadata": {
        "colab": {
          "base_uri": "https://localhost:8080/",
          "height": 566
        },
        "id": "4eLmgTyBTp-S",
        "outputId": "77700e2f-3ff3-42d9-9b08-564d0f25a06d"
      },
      "source": [
        "df_melb.sample(10)"
      ],
      "execution_count": null,
      "outputs": [
        {
          "output_type": "execute_result",
          "data": {
            "text/html": [
              "<div>\n",
              "<style scoped>\n",
              "    .dataframe tbody tr th:only-of-type {\n",
              "        vertical-align: middle;\n",
              "    }\n",
              "\n",
              "    .dataframe tbody tr th {\n",
              "        vertical-align: top;\n",
              "    }\n",
              "\n",
              "    .dataframe thead th {\n",
              "        text-align: right;\n",
              "    }\n",
              "</style>\n",
              "<table border=\"1\" class=\"dataframe\">\n",
              "  <thead>\n",
              "    <tr style=\"text-align: right;\">\n",
              "      <th></th>\n",
              "      <th>Suburb</th>\n",
              "      <th>Address</th>\n",
              "      <th>Rooms</th>\n",
              "      <th>Type</th>\n",
              "      <th>Price</th>\n",
              "      <th>Method</th>\n",
              "      <th>SellerG</th>\n",
              "      <th>Date</th>\n",
              "      <th>Distance</th>\n",
              "      <th>Postcode</th>\n",
              "      <th>Bedroom2</th>\n",
              "      <th>Bathroom</th>\n",
              "      <th>Car</th>\n",
              "      <th>Landsize</th>\n",
              "      <th>BuildingArea</th>\n",
              "      <th>YearBuilt</th>\n",
              "      <th>CouncilArea</th>\n",
              "      <th>Lattitude</th>\n",
              "      <th>Longtitude</th>\n",
              "      <th>Regionname</th>\n",
              "      <th>Propertycount</th>\n",
              "    </tr>\n",
              "  </thead>\n",
              "  <tbody>\n",
              "    <tr>\n",
              "      <th>5548</th>\n",
              "      <td>South Melbourne</td>\n",
              "      <td>6b Napier St</td>\n",
              "      <td>1</td>\n",
              "      <td>u</td>\n",
              "      <td>380000.0</td>\n",
              "      <td>VB</td>\n",
              "      <td>Cayzer</td>\n",
              "      <td>15/10/2016</td>\n",
              "      <td>2.1</td>\n",
              "      <td>3205.0</td>\n",
              "      <td>1.0</td>\n",
              "      <td>1.0</td>\n",
              "      <td>1.0</td>\n",
              "      <td>0.0</td>\n",
              "      <td>NaN</td>\n",
              "      <td>1960.0</td>\n",
              "      <td>Port Phillip</td>\n",
              "      <td>-37.83420</td>\n",
              "      <td>144.96790</td>\n",
              "      <td>Southern Metropolitan</td>\n",
              "      <td>5943.0</td>\n",
              "    </tr>\n",
              "    <tr>\n",
              "      <th>11857</th>\n",
              "      <td>Werribee</td>\n",
              "      <td>1 Ord Ct</td>\n",
              "      <td>3</td>\n",
              "      <td>h</td>\n",
              "      <td>412500.0</td>\n",
              "      <td>S</td>\n",
              "      <td>YPA</td>\n",
              "      <td>22/07/2017</td>\n",
              "      <td>14.7</td>\n",
              "      <td>3030.0</td>\n",
              "      <td>3.0</td>\n",
              "      <td>1.0</td>\n",
              "      <td>1.0</td>\n",
              "      <td>583.0</td>\n",
              "      <td>NaN</td>\n",
              "      <td>1980.0</td>\n",
              "      <td>Wyndham</td>\n",
              "      <td>-37.88702</td>\n",
              "      <td>144.66101</td>\n",
              "      <td>Western Metropolitan</td>\n",
              "      <td>16166.0</td>\n",
              "    </tr>\n",
              "    <tr>\n",
              "      <th>7988</th>\n",
              "      <td>Heidelberg West</td>\n",
              "      <td>316 Liberty Pde</td>\n",
              "      <td>2</td>\n",
              "      <td>h</td>\n",
              "      <td>650000.0</td>\n",
              "      <td>S</td>\n",
              "      <td>Haughton</td>\n",
              "      <td>8/04/2017</td>\n",
              "      <td>9.4</td>\n",
              "      <td>3081.0</td>\n",
              "      <td>2.0</td>\n",
              "      <td>1.0</td>\n",
              "      <td>2.0</td>\n",
              "      <td>465.0</td>\n",
              "      <td>81.0</td>\n",
              "      <td>1960.0</td>\n",
              "      <td>Banyule</td>\n",
              "      <td>-37.73690</td>\n",
              "      <td>145.03710</td>\n",
              "      <td>Eastern Metropolitan</td>\n",
              "      <td>2674.0</td>\n",
              "    </tr>\n",
              "    <tr>\n",
              "      <th>6627</th>\n",
              "      <td>Yarraville</td>\n",
              "      <td>83 Tarrengower St</td>\n",
              "      <td>3</td>\n",
              "      <td>h</td>\n",
              "      <td>1165000.0</td>\n",
              "      <td>S</td>\n",
              "      <td>Village</td>\n",
              "      <td>3/09/2016</td>\n",
              "      <td>7.0</td>\n",
              "      <td>3013.0</td>\n",
              "      <td>3.0</td>\n",
              "      <td>1.0</td>\n",
              "      <td>0.0</td>\n",
              "      <td>191.0</td>\n",
              "      <td>105.0</td>\n",
              "      <td>1910.0</td>\n",
              "      <td>Maribyrnong</td>\n",
              "      <td>-37.81750</td>\n",
              "      <td>144.88790</td>\n",
              "      <td>Western Metropolitan</td>\n",
              "      <td>6543.0</td>\n",
              "    </tr>\n",
              "    <tr>\n",
              "      <th>833</th>\n",
              "      <td>Bentleigh East</td>\n",
              "      <td>1A Brian St</td>\n",
              "      <td>4</td>\n",
              "      <td>t</td>\n",
              "      <td>1185000.0</td>\n",
              "      <td>S</td>\n",
              "      <td>hockingstuart</td>\n",
              "      <td>10/12/2016</td>\n",
              "      <td>13.9</td>\n",
              "      <td>3165.0</td>\n",
              "      <td>4.0</td>\n",
              "      <td>2.0</td>\n",
              "      <td>2.0</td>\n",
              "      <td>305.0</td>\n",
              "      <td>207.0</td>\n",
              "      <td>2012.0</td>\n",
              "      <td>Glen Eira</td>\n",
              "      <td>-37.92450</td>\n",
              "      <td>145.05070</td>\n",
              "      <td>Southern Metropolitan</td>\n",
              "      <td>10969.0</td>\n",
              "    </tr>\n",
              "    <tr>\n",
              "      <th>7044</th>\n",
              "      <td>Heidelberg</td>\n",
              "      <td>2/56 Banksia St</td>\n",
              "      <td>2</td>\n",
              "      <td>t</td>\n",
              "      <td>595000.0</td>\n",
              "      <td>SP</td>\n",
              "      <td>Miles</td>\n",
              "      <td>17/09/2016</td>\n",
              "      <td>10.6</td>\n",
              "      <td>3084.0</td>\n",
              "      <td>2.0</td>\n",
              "      <td>1.0</td>\n",
              "      <td>1.0</td>\n",
              "      <td>88.0</td>\n",
              "      <td>NaN</td>\n",
              "      <td>NaN</td>\n",
              "      <td>Banyule</td>\n",
              "      <td>-37.75870</td>\n",
              "      <td>145.06290</td>\n",
              "      <td>Eastern Metropolitan</td>\n",
              "      <td>2890.0</td>\n",
              "    </tr>\n",
              "    <tr>\n",
              "      <th>9726</th>\n",
              "      <td>South Yarra</td>\n",
              "      <td>37/12 Copelen St</td>\n",
              "      <td>2</td>\n",
              "      <td>t</td>\n",
              "      <td>1050000.0</td>\n",
              "      <td>S</td>\n",
              "      <td>Kay</td>\n",
              "      <td>17/06/2017</td>\n",
              "      <td>2.7</td>\n",
              "      <td>3141.0</td>\n",
              "      <td>2.0</td>\n",
              "      <td>1.0</td>\n",
              "      <td>1.0</td>\n",
              "      <td>0.0</td>\n",
              "      <td>NaN</td>\n",
              "      <td>NaN</td>\n",
              "      <td>Stonnington</td>\n",
              "      <td>-37.83543</td>\n",
              "      <td>144.99907</td>\n",
              "      <td>Southern Metropolitan</td>\n",
              "      <td>14887.0</td>\n",
              "    </tr>\n",
              "    <tr>\n",
              "      <th>1835</th>\n",
              "      <td>Caulfield South</td>\n",
              "      <td>303 Bambra Rd</td>\n",
              "      <td>3</td>\n",
              "      <td>h</td>\n",
              "      <td>1160500.0</td>\n",
              "      <td>S</td>\n",
              "      <td>Gary</td>\n",
              "      <td>8/10/2016</td>\n",
              "      <td>9.3</td>\n",
              "      <td>3162.0</td>\n",
              "      <td>3.0</td>\n",
              "      <td>2.0</td>\n",
              "      <td>1.0</td>\n",
              "      <td>358.0</td>\n",
              "      <td>NaN</td>\n",
              "      <td>1930.0</td>\n",
              "      <td>Glen Eira</td>\n",
              "      <td>-37.89650</td>\n",
              "      <td>145.02690</td>\n",
              "      <td>Southern Metropolitan</td>\n",
              "      <td>5051.0</td>\n",
              "    </tr>\n",
              "    <tr>\n",
              "      <th>10404</th>\n",
              "      <td>Mitcham</td>\n",
              "      <td>27 Forster St</td>\n",
              "      <td>2</td>\n",
              "      <td>h</td>\n",
              "      <td>655000.0</td>\n",
              "      <td>S</td>\n",
              "      <td>Barry</td>\n",
              "      <td>27/05/2017</td>\n",
              "      <td>17.2</td>\n",
              "      <td>3132.0</td>\n",
              "      <td>2.0</td>\n",
              "      <td>1.0</td>\n",
              "      <td>4.0</td>\n",
              "      <td>446.0</td>\n",
              "      <td>82.0</td>\n",
              "      <td>1975.0</td>\n",
              "      <td>Whitehorse</td>\n",
              "      <td>-37.81906</td>\n",
              "      <td>145.21253</td>\n",
              "      <td>Eastern Metropolitan</td>\n",
              "      <td>6871.0</td>\n",
              "    </tr>\n",
              "    <tr>\n",
              "      <th>4787</th>\n",
              "      <td>Port Melbourne</td>\n",
              "      <td>73 Heath St</td>\n",
              "      <td>1</td>\n",
              "      <td>h</td>\n",
              "      <td>1014000.0</td>\n",
              "      <td>S</td>\n",
              "      <td>Chisholm</td>\n",
              "      <td>26/07/2016</td>\n",
              "      <td>3.8</td>\n",
              "      <td>3207.0</td>\n",
              "      <td>3.0</td>\n",
              "      <td>1.0</td>\n",
              "      <td>0.0</td>\n",
              "      <td>151.0</td>\n",
              "      <td>NaN</td>\n",
              "      <td>NaN</td>\n",
              "      <td>Port Phillip</td>\n",
              "      <td>-37.83500</td>\n",
              "      <td>144.94440</td>\n",
              "      <td>Southern Metropolitan</td>\n",
              "      <td>8648.0</td>\n",
              "    </tr>\n",
              "  </tbody>\n",
              "</table>\n",
              "</div>"
            ],
            "text/plain": [
              "                Suburb            Address  ...             Regionname Propertycount\n",
              "5548   South Melbourne       6b Napier St  ...  Southern Metropolitan        5943.0\n",
              "11857         Werribee           1 Ord Ct  ...   Western Metropolitan       16166.0\n",
              "7988   Heidelberg West    316 Liberty Pde  ...   Eastern Metropolitan        2674.0\n",
              "6627        Yarraville  83 Tarrengower St  ...   Western Metropolitan        6543.0\n",
              "833     Bentleigh East        1A Brian St  ...  Southern Metropolitan       10969.0\n",
              "7044        Heidelberg    2/56 Banksia St  ...   Eastern Metropolitan        2890.0\n",
              "9726       South Yarra   37/12 Copelen St  ...  Southern Metropolitan       14887.0\n",
              "1835   Caulfield South      303 Bambra Rd  ...  Southern Metropolitan        5051.0\n",
              "10404          Mitcham      27 Forster St  ...   Eastern Metropolitan        6871.0\n",
              "4787    Port Melbourne        73 Heath St  ...  Southern Metropolitan        8648.0\n",
              "\n",
              "[10 rows x 21 columns]"
            ]
          },
          "metadata": {},
          "execution_count": 24
        }
      ]
    },
    {
      "cell_type": "code",
      "metadata": {
        "id": "TYgPwE1kTy3k"
      },
      "source": [
        "#function for getting city \n",
        "def get_city(df):\n",
        "    try:\n",
        "        location = geolocator.reverse(f\"{df['Lattitude']}, {df['Longtitude']}\")\n",
        "        return location.raw['address']['city']\n",
        "    except:\n",
        "        return np.nan"
      ],
      "execution_count": null,
      "outputs": []
    },
    {
      "cell_type": "code",
      "metadata": {
        "id": "mGpxDIVwUjnm"
      },
      "source": [
        "#function for getting country \n",
        "def get_country(df):\n",
        "    try:\n",
        "        location = geolocator.reverse(f\"{df['Lattitude']}, {df['Longtitude']}\")\n",
        "        return location.raw['address']['country']\n",
        "    except:\n",
        "        return np.nan"
      ],
      "execution_count": null,
      "outputs": []
    },
    {
      "cell_type": "code",
      "metadata": {
        "id": "ZwT1SXxjUfAR"
      },
      "source": [
        "df_melb['City'] = df_melb.apply(get_city, axis=1)"
      ],
      "execution_count": null,
      "outputs": []
    },
    {
      "cell_type": "code",
      "metadata": {
        "colab": {
          "base_uri": "https://localhost:8080/"
        },
        "id": "Vk7C5pYjVXwp",
        "outputId": "55f30cd4-6c6e-4074-a5f9-4c4ce2310877"
      },
      "source": [
        "df_melb['City'].value_counts()"
      ],
      "execution_count": null,
      "outputs": [
        {
          "output_type": "execute_result",
          "data": {
            "text/plain": [
              "Melbourne    500\n",
              "Name: City, dtype: int64"
            ]
          },
          "metadata": {},
          "execution_count": 28
        }
      ]
    },
    {
      "cell_type": "code",
      "metadata": {
        "id": "F2E0ts1AUw77"
      },
      "source": [
        "df_melb['Country'] = df_melb.apply(get_country, axis=1)"
      ],
      "execution_count": null,
      "outputs": []
    },
    {
      "cell_type": "code",
      "metadata": {
        "colab": {
          "base_uri": "https://localhost:8080/"
        },
        "id": "Le1dWvzqVrI3",
        "outputId": "38bed3fd-6dc5-4db3-e182-c973ba05da20"
      },
      "source": [
        "df_melb['Country'].value_counts()"
      ],
      "execution_count": null,
      "outputs": [
        {
          "output_type": "execute_result",
          "data": {
            "text/plain": [
              "Australia    500\n",
              "Name: Country, dtype: int64"
            ]
          },
          "metadata": {},
          "execution_count": 33
        }
      ]
    },
    {
      "cell_type": "code",
      "metadata": {
        "colab": {
          "base_uri": "https://localhost:8080/",
          "height": 685
        },
        "id": "ys2y4MqbVvVQ",
        "outputId": "d912335f-ea98-4cf7-c793-e3dbff1587d3"
      },
      "source": [
        "df_melb.sample(10)"
      ],
      "execution_count": null,
      "outputs": [
        {
          "output_type": "execute_result",
          "data": {
            "text/html": [
              "<div>\n",
              "<style scoped>\n",
              "    .dataframe tbody tr th:only-of-type {\n",
              "        vertical-align: middle;\n",
              "    }\n",
              "\n",
              "    .dataframe tbody tr th {\n",
              "        vertical-align: top;\n",
              "    }\n",
              "\n",
              "    .dataframe thead th {\n",
              "        text-align: right;\n",
              "    }\n",
              "</style>\n",
              "<table border=\"1\" class=\"dataframe\">\n",
              "  <thead>\n",
              "    <tr style=\"text-align: right;\">\n",
              "      <th></th>\n",
              "      <th>Suburb</th>\n",
              "      <th>Address</th>\n",
              "      <th>Rooms</th>\n",
              "      <th>Type</th>\n",
              "      <th>Price</th>\n",
              "      <th>Method</th>\n",
              "      <th>SellerG</th>\n",
              "      <th>Date</th>\n",
              "      <th>Distance</th>\n",
              "      <th>Postcode</th>\n",
              "      <th>Bedroom2</th>\n",
              "      <th>Bathroom</th>\n",
              "      <th>Car</th>\n",
              "      <th>Landsize</th>\n",
              "      <th>BuildingArea</th>\n",
              "      <th>YearBuilt</th>\n",
              "      <th>CouncilArea</th>\n",
              "      <th>Lattitude</th>\n",
              "      <th>Longtitude</th>\n",
              "      <th>Regionname</th>\n",
              "      <th>Propertycount</th>\n",
              "      <th>City</th>\n",
              "      <th>Country</th>\n",
              "    </tr>\n",
              "  </thead>\n",
              "  <tbody>\n",
              "    <tr>\n",
              "      <th>10291</th>\n",
              "      <td>Glen Iris</td>\n",
              "      <td>1/25 Gardiner Pde</td>\n",
              "      <td>3</td>\n",
              "      <td>t</td>\n",
              "      <td>1501000.0</td>\n",
              "      <td>S</td>\n",
              "      <td>hockingstuart</td>\n",
              "      <td>27/05/2017</td>\n",
              "      <td>7.3</td>\n",
              "      <td>3146.0</td>\n",
              "      <td>3.0</td>\n",
              "      <td>2.0</td>\n",
              "      <td>2.0</td>\n",
              "      <td>313.0</td>\n",
              "      <td>160.0</td>\n",
              "      <td>1995.0</td>\n",
              "      <td>Boroondara</td>\n",
              "      <td>-37.85385</td>\n",
              "      <td>145.06473</td>\n",
              "      <td>Southern Metropolitan</td>\n",
              "      <td>10412.0</td>\n",
              "      <td>Melbourne</td>\n",
              "      <td>Australia</td>\n",
              "    </tr>\n",
              "    <tr>\n",
              "      <th>1176</th>\n",
              "      <td>Brighton East</td>\n",
              "      <td>12 Thomas St</td>\n",
              "      <td>3</td>\n",
              "      <td>h</td>\n",
              "      <td>1075000.0</td>\n",
              "      <td>PI</td>\n",
              "      <td>hockingstuart</td>\n",
              "      <td>4/06/2016</td>\n",
              "      <td>10.7</td>\n",
              "      <td>3187.0</td>\n",
              "      <td>3.0</td>\n",
              "      <td>2.0</td>\n",
              "      <td>2.0</td>\n",
              "      <td>312.0</td>\n",
              "      <td>NaN</td>\n",
              "      <td>1990.0</td>\n",
              "      <td>Glen Eira</td>\n",
              "      <td>-37.91790</td>\n",
              "      <td>145.02320</td>\n",
              "      <td>Southern Metropolitan</td>\n",
              "      <td>6938.0</td>\n",
              "      <td>Melbourne</td>\n",
              "      <td>Australia</td>\n",
              "    </tr>\n",
              "    <tr>\n",
              "      <th>1464</th>\n",
              "      <td>Bulleen</td>\n",
              "      <td>28 Rocklea Rd</td>\n",
              "      <td>4</td>\n",
              "      <td>h</td>\n",
              "      <td>1505000.0</td>\n",
              "      <td>S</td>\n",
              "      <td>Jellis</td>\n",
              "      <td>3/12/2016</td>\n",
              "      <td>11.8</td>\n",
              "      <td>3105.0</td>\n",
              "      <td>4.0</td>\n",
              "      <td>3.0</td>\n",
              "      <td>2.0</td>\n",
              "      <td>410.0</td>\n",
              "      <td>NaN</td>\n",
              "      <td>2012.0</td>\n",
              "      <td>Manningham</td>\n",
              "      <td>-37.76950</td>\n",
              "      <td>145.08200</td>\n",
              "      <td>Eastern Metropolitan</td>\n",
              "      <td>4480.0</td>\n",
              "      <td>Melbourne</td>\n",
              "      <td>Australia</td>\n",
              "    </tr>\n",
              "    <tr>\n",
              "      <th>9274</th>\n",
              "      <td>Pascoe Vale</td>\n",
              "      <td>41 Essex St</td>\n",
              "      <td>3</td>\n",
              "      <td>u</td>\n",
              "      <td>630000.0</td>\n",
              "      <td>S</td>\n",
              "      <td>Brad</td>\n",
              "      <td>3/06/2017</td>\n",
              "      <td>8.5</td>\n",
              "      <td>3044.0</td>\n",
              "      <td>3.0</td>\n",
              "      <td>1.0</td>\n",
              "      <td>1.0</td>\n",
              "      <td>365.0</td>\n",
              "      <td>NaN</td>\n",
              "      <td>NaN</td>\n",
              "      <td>Moreland</td>\n",
              "      <td>-37.72737</td>\n",
              "      <td>144.94593</td>\n",
              "      <td>Northern Metropolitan</td>\n",
              "      <td>7485.0</td>\n",
              "      <td>Melbourne</td>\n",
              "      <td>Australia</td>\n",
              "    </tr>\n",
              "    <tr>\n",
              "      <th>7934</th>\n",
              "      <td>Hawthorn</td>\n",
              "      <td>7 Colvin Gr</td>\n",
              "      <td>3</td>\n",
              "      <td>h</td>\n",
              "      <td>1700000.0</td>\n",
              "      <td>VB</td>\n",
              "      <td>Kay</td>\n",
              "      <td>6/05/2017</td>\n",
              "      <td>4.6</td>\n",
              "      <td>3122.0</td>\n",
              "      <td>3.0</td>\n",
              "      <td>1.0</td>\n",
              "      <td>2.0</td>\n",
              "      <td>338.0</td>\n",
              "      <td>132.0</td>\n",
              "      <td>1910.0</td>\n",
              "      <td>Boroondara</td>\n",
              "      <td>-37.81390</td>\n",
              "      <td>145.02430</td>\n",
              "      <td>Southern Metropolitan</td>\n",
              "      <td>11308.0</td>\n",
              "      <td>Melbourne</td>\n",
              "      <td>Australia</td>\n",
              "    </tr>\n",
              "    <tr>\n",
              "      <th>2853</th>\n",
              "      <td>Glen Iris</td>\n",
              "      <td>14 Queens Pde</td>\n",
              "      <td>5</td>\n",
              "      <td>h</td>\n",
              "      <td>2410000.0</td>\n",
              "      <td>PI</td>\n",
              "      <td>Marshall</td>\n",
              "      <td>27/11/2016</td>\n",
              "      <td>9.2</td>\n",
              "      <td>3146.0</td>\n",
              "      <td>5.0</td>\n",
              "      <td>2.0</td>\n",
              "      <td>2.0</td>\n",
              "      <td>654.0</td>\n",
              "      <td>354.0</td>\n",
              "      <td>2015.0</td>\n",
              "      <td>Boroondara</td>\n",
              "      <td>-37.85150</td>\n",
              "      <td>145.09220</td>\n",
              "      <td>Southern Metropolitan</td>\n",
              "      <td>10412.0</td>\n",
              "      <td>Melbourne</td>\n",
              "      <td>Australia</td>\n",
              "    </tr>\n",
              "    <tr>\n",
              "      <th>5365</th>\n",
              "      <td>Richmond</td>\n",
              "      <td>14 Hunter St</td>\n",
              "      <td>3</td>\n",
              "      <td>h</td>\n",
              "      <td>2640000.0</td>\n",
              "      <td>S</td>\n",
              "      <td>hockingstuart</td>\n",
              "      <td>18/03/2017</td>\n",
              "      <td>2.6</td>\n",
              "      <td>3121.0</td>\n",
              "      <td>3.0</td>\n",
              "      <td>1.0</td>\n",
              "      <td>1.0</td>\n",
              "      <td>309.0</td>\n",
              "      <td>NaN</td>\n",
              "      <td>NaN</td>\n",
              "      <td>Yarra</td>\n",
              "      <td>-37.82000</td>\n",
              "      <td>145.00540</td>\n",
              "      <td>Northern Metropolitan</td>\n",
              "      <td>14949.0</td>\n",
              "      <td>Melbourne</td>\n",
              "      <td>Australia</td>\n",
              "    </tr>\n",
              "    <tr>\n",
              "      <th>3367</th>\n",
              "      <td>Ivanhoe</td>\n",
              "      <td>1 Rocke St</td>\n",
              "      <td>4</td>\n",
              "      <td>h</td>\n",
              "      <td>1300000.0</td>\n",
              "      <td>S</td>\n",
              "      <td>Nelson</td>\n",
              "      <td>7/11/2016</td>\n",
              "      <td>7.9</td>\n",
              "      <td>3079.0</td>\n",
              "      <td>4.0</td>\n",
              "      <td>1.0</td>\n",
              "      <td>1.0</td>\n",
              "      <td>586.0</td>\n",
              "      <td>NaN</td>\n",
              "      <td>NaN</td>\n",
              "      <td>Banyule</td>\n",
              "      <td>-37.77260</td>\n",
              "      <td>145.03960</td>\n",
              "      <td>Eastern Metropolitan</td>\n",
              "      <td>5549.0</td>\n",
              "      <td>Melbourne</td>\n",
              "      <td>Australia</td>\n",
              "    </tr>\n",
              "    <tr>\n",
              "      <th>13247</th>\n",
              "      <td>Newport</td>\n",
              "      <td>65 Speight St</td>\n",
              "      <td>3</td>\n",
              "      <td>h</td>\n",
              "      <td>950000.0</td>\n",
              "      <td>SP</td>\n",
              "      <td>Sweeney</td>\n",
              "      <td>23/09/2017</td>\n",
              "      <td>6.2</td>\n",
              "      <td>3015.0</td>\n",
              "      <td>3.0</td>\n",
              "      <td>1.0</td>\n",
              "      <td>1.0</td>\n",
              "      <td>344.0</td>\n",
              "      <td>NaN</td>\n",
              "      <td>NaN</td>\n",
              "      <td>NaN</td>\n",
              "      <td>-37.84259</td>\n",
              "      <td>144.87490</td>\n",
              "      <td>Western Metropolitan</td>\n",
              "      <td>5498.0</td>\n",
              "      <td>Melbourne</td>\n",
              "      <td>Australia</td>\n",
              "    </tr>\n",
              "    <tr>\n",
              "      <th>12005</th>\n",
              "      <td>Ferntree Gully</td>\n",
              "      <td>3 Hooker Rd</td>\n",
              "      <td>3</td>\n",
              "      <td>h</td>\n",
              "      <td>861000.0</td>\n",
              "      <td>S</td>\n",
              "      <td>Ray</td>\n",
              "      <td>29/07/2017</td>\n",
              "      <td>24.8</td>\n",
              "      <td>3156.0</td>\n",
              "      <td>3.0</td>\n",
              "      <td>2.0</td>\n",
              "      <td>1.0</td>\n",
              "      <td>720.0</td>\n",
              "      <td>162.0</td>\n",
              "      <td>1960.0</td>\n",
              "      <td>Knox</td>\n",
              "      <td>-37.87768</td>\n",
              "      <td>145.25918</td>\n",
              "      <td>Eastern Metropolitan</td>\n",
              "      <td>10788.0</td>\n",
              "      <td>Melbourne</td>\n",
              "      <td>Australia</td>\n",
              "    </tr>\n",
              "  </tbody>\n",
              "</table>\n",
              "</div>"
            ],
            "text/plain": [
              "               Suburb            Address  ...       City    Country\n",
              "10291       Glen Iris  1/25 Gardiner Pde  ...  Melbourne  Australia\n",
              "1176    Brighton East       12 Thomas St  ...  Melbourne  Australia\n",
              "1464          Bulleen      28 Rocklea Rd  ...  Melbourne  Australia\n",
              "9274      Pascoe Vale        41 Essex St  ...  Melbourne  Australia\n",
              "7934         Hawthorn        7 Colvin Gr  ...  Melbourne  Australia\n",
              "2853        Glen Iris      14 Queens Pde  ...  Melbourne  Australia\n",
              "5365         Richmond       14 Hunter St  ...  Melbourne  Australia\n",
              "3367          Ivanhoe         1 Rocke St  ...  Melbourne  Australia\n",
              "13247         Newport      65 Speight St  ...  Melbourne  Australia\n",
              "12005  Ferntree Gully        3 Hooker Rd  ...  Melbourne  Australia\n",
              "\n",
              "[10 rows x 23 columns]"
            ]
          },
          "metadata": {},
          "execution_count": 36
        }
      ]
    },
    {
      "cell_type": "code",
      "metadata": {
        "id": "gFA0VWYFbAHe"
      },
      "source": [
        ""
      ],
      "execution_count": null,
      "outputs": []
    }
  ]
}