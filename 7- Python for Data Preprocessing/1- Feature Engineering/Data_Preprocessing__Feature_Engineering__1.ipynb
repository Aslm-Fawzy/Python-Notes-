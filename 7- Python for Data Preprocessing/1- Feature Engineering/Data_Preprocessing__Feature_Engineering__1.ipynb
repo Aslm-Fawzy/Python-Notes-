{
  "nbformat": 4,
  "nbformat_minor": 0,
  "metadata": {
    "colab": {
      "name": "IEEE__Data Preprocessing__Feature Engineering__1",
      "provenance": [],
      "collapsed_sections": [],
      "toc_visible": true
    },
    "kernelspec": {
      "display_name": "Python 3",
      "name": "python3"
    },
    "language_info": {
      "name": "python"
    }
  },
  "cells": [
    {
      "cell_type": "markdown",
      "metadata": {
        "id": "BfZemQZGCnlg"
      },
      "source": [
        "# **Importing Libraries :-**"
      ]
    },
    {
      "cell_type": "code",
      "metadata": {
        "id": "lkb8guVA0n3K"
      },
      "source": [
        "import pandas as pd\n",
        "import matplotlib.pyplot as plt\n",
        "import seaborn as sns\n",
        "import numpy  as np\n",
        "%matplotlib inline\n",
        "sns.set(rc={'figure.figsize':(12, 12)}, font_scale=1.2)\n",
        "from datetime import datetime"
      ],
      "execution_count": null,
      "outputs": []
    },
    {
      "cell_type": "markdown",
      "metadata": {
        "id": "cR2DgkiR33l1"
      },
      "source": [
        "# **1. Domain Knowledge Features:-**\n",
        "\n",
        ">It's the process of creating new useful features from current \n",
        "features based on our understanding of the problem domain \n",
        "knowledge .\n",
        "\n",
        ">**For Example :**\n",
        "   1.   We have a dataset about uber with distance for trip and trip duration and we try to get speed of trip . \n",
        "   2.  We have age and we return from its age and classify it into Children ,Adolescents, Adults, Middle age, Old .\n",
        "\n",
        "\n",
        "\n"
      ]
    },
    {
      "cell_type": "code",
      "metadata": {
        "id": "dBT5vd3YC-vV"
      },
      "source": [
        "df_titanic = pd.read_csv('/content/titanic_full.csv')"
      ],
      "execution_count": null,
      "outputs": []
    },
    {
      "cell_type": "code",
      "metadata": {
        "colab": {
          "base_uri": "https://localhost:8080/"
        },
        "id": "Uu5q9tweDV-a",
        "outputId": "d68e6216-fb1f-4234-bd3d-f87bbff90ab0"
      },
      "source": [
        "df_titanic.info()"
      ],
      "execution_count": null,
      "outputs": [
        {
          "name": "stdout",
          "output_type": "stream",
          "text": [
            "<class 'pandas.core.frame.DataFrame'>\n",
            "RangeIndex: 891 entries, 0 to 890\n",
            "Data columns (total 12 columns):\n",
            " #   Column       Non-Null Count  Dtype  \n",
            "---  ------       --------------  -----  \n",
            " 0   PassengerId  891 non-null    int64  \n",
            " 1   Survived     891 non-null    int64  \n",
            " 2   Pclass       891 non-null    int64  \n",
            " 3   Name         891 non-null    object \n",
            " 4   Sex          891 non-null    object \n",
            " 5   Age          714 non-null    float64\n",
            " 6   SibSp        891 non-null    int64  \n",
            " 7   Parch        891 non-null    int64  \n",
            " 8   Ticket       891 non-null    object \n",
            " 9   Fare         891 non-null    float64\n",
            " 10  Cabin        204 non-null    object \n",
            " 11  Embarked     889 non-null    object \n",
            "dtypes: float64(2), int64(5), object(5)\n",
            "memory usage: 83.7+ KB\n"
          ]
        }
      ]
    },
    {
      "cell_type": "code",
      "metadata": {
        "colab": {
          "base_uri": "https://localhost:8080/",
          "height": 266
        },
        "id": "jdhBw9cPDb1n",
        "outputId": "af38bcaa-d006-4bb0-e613-53e70de38af9"
      },
      "source": [
        "df_titanic.describe().T"
      ],
      "execution_count": null,
      "outputs": [
        {
          "data": {
            "text/html": [
              "<div>\n",
              "<style scoped>\n",
              "    .dataframe tbody tr th:only-of-type {\n",
              "        vertical-align: middle;\n",
              "    }\n",
              "\n",
              "    .dataframe tbody tr th {\n",
              "        vertical-align: top;\n",
              "    }\n",
              "\n",
              "    .dataframe thead th {\n",
              "        text-align: right;\n",
              "    }\n",
              "</style>\n",
              "<table border=\"1\" class=\"dataframe\">\n",
              "  <thead>\n",
              "    <tr style=\"text-align: right;\">\n",
              "      <th></th>\n",
              "      <th>count</th>\n",
              "      <th>mean</th>\n",
              "      <th>std</th>\n",
              "      <th>min</th>\n",
              "      <th>25%</th>\n",
              "      <th>50%</th>\n",
              "      <th>75%</th>\n",
              "      <th>max</th>\n",
              "    </tr>\n",
              "  </thead>\n",
              "  <tbody>\n",
              "    <tr>\n",
              "      <th>PassengerId</th>\n",
              "      <td>891.0</td>\n",
              "      <td>446.000000</td>\n",
              "      <td>257.353842</td>\n",
              "      <td>1.00</td>\n",
              "      <td>223.5000</td>\n",
              "      <td>446.0000</td>\n",
              "      <td>668.5</td>\n",
              "      <td>891.0000</td>\n",
              "    </tr>\n",
              "    <tr>\n",
              "      <th>Survived</th>\n",
              "      <td>891.0</td>\n",
              "      <td>0.383838</td>\n",
              "      <td>0.486592</td>\n",
              "      <td>0.00</td>\n",
              "      <td>0.0000</td>\n",
              "      <td>0.0000</td>\n",
              "      <td>1.0</td>\n",
              "      <td>1.0000</td>\n",
              "    </tr>\n",
              "    <tr>\n",
              "      <th>Pclass</th>\n",
              "      <td>891.0</td>\n",
              "      <td>2.308642</td>\n",
              "      <td>0.836071</td>\n",
              "      <td>1.00</td>\n",
              "      <td>2.0000</td>\n",
              "      <td>3.0000</td>\n",
              "      <td>3.0</td>\n",
              "      <td>3.0000</td>\n",
              "    </tr>\n",
              "    <tr>\n",
              "      <th>Age</th>\n",
              "      <td>714.0</td>\n",
              "      <td>29.699118</td>\n",
              "      <td>14.526497</td>\n",
              "      <td>0.42</td>\n",
              "      <td>20.1250</td>\n",
              "      <td>28.0000</td>\n",
              "      <td>38.0</td>\n",
              "      <td>80.0000</td>\n",
              "    </tr>\n",
              "    <tr>\n",
              "      <th>SibSp</th>\n",
              "      <td>891.0</td>\n",
              "      <td>0.523008</td>\n",
              "      <td>1.102743</td>\n",
              "      <td>0.00</td>\n",
              "      <td>0.0000</td>\n",
              "      <td>0.0000</td>\n",
              "      <td>1.0</td>\n",
              "      <td>8.0000</td>\n",
              "    </tr>\n",
              "    <tr>\n",
              "      <th>Parch</th>\n",
              "      <td>891.0</td>\n",
              "      <td>0.381594</td>\n",
              "      <td>0.806057</td>\n",
              "      <td>0.00</td>\n",
              "      <td>0.0000</td>\n",
              "      <td>0.0000</td>\n",
              "      <td>0.0</td>\n",
              "      <td>6.0000</td>\n",
              "    </tr>\n",
              "    <tr>\n",
              "      <th>Fare</th>\n",
              "      <td>891.0</td>\n",
              "      <td>32.204208</td>\n",
              "      <td>49.693429</td>\n",
              "      <td>0.00</td>\n",
              "      <td>7.9104</td>\n",
              "      <td>14.4542</td>\n",
              "      <td>31.0</td>\n",
              "      <td>512.3292</td>\n",
              "    </tr>\n",
              "  </tbody>\n",
              "</table>\n",
              "</div>"
            ],
            "text/plain": [
              "             count        mean         std  ...       50%    75%       max\n",
              "PassengerId  891.0  446.000000  257.353842  ...  446.0000  668.5  891.0000\n",
              "Survived     891.0    0.383838    0.486592  ...    0.0000    1.0    1.0000\n",
              "Pclass       891.0    2.308642    0.836071  ...    3.0000    3.0    3.0000\n",
              "Age          714.0   29.699118   14.526497  ...   28.0000   38.0   80.0000\n",
              "SibSp        891.0    0.523008    1.102743  ...    0.0000    1.0    8.0000\n",
              "Parch        891.0    0.381594    0.806057  ...    0.0000    0.0    6.0000\n",
              "Fare         891.0   32.204208   49.693429  ...   14.4542   31.0  512.3292\n",
              "\n",
              "[7 rows x 8 columns]"
            ]
          },
          "execution_count": 139,
          "metadata": {},
          "output_type": "execute_result"
        }
      ]
    },
    {
      "cell_type": "code",
      "metadata": {
        "colab": {
          "base_uri": "https://localhost:8080/",
          "height": 752
        },
        "id": "G45RkcXuDjhP",
        "outputId": "a0f3715b-d62d-48c6-bffb-6e9c44bbb70d"
      },
      "source": [
        "df_titanic.sample(15)"
      ],
      "execution_count": null,
      "outputs": [
        {
          "data": {
            "text/html": [
              "<div>\n",
              "<style scoped>\n",
              "    .dataframe tbody tr th:only-of-type {\n",
              "        vertical-align: middle;\n",
              "    }\n",
              "\n",
              "    .dataframe tbody tr th {\n",
              "        vertical-align: top;\n",
              "    }\n",
              "\n",
              "    .dataframe thead th {\n",
              "        text-align: right;\n",
              "    }\n",
              "</style>\n",
              "<table border=\"1\" class=\"dataframe\">\n",
              "  <thead>\n",
              "    <tr style=\"text-align: right;\">\n",
              "      <th></th>\n",
              "      <th>PassengerId</th>\n",
              "      <th>Survived</th>\n",
              "      <th>Pclass</th>\n",
              "      <th>Name</th>\n",
              "      <th>Sex</th>\n",
              "      <th>Age</th>\n",
              "      <th>SibSp</th>\n",
              "      <th>Parch</th>\n",
              "      <th>Ticket</th>\n",
              "      <th>Fare</th>\n",
              "      <th>Cabin</th>\n",
              "      <th>Embarked</th>\n",
              "    </tr>\n",
              "  </thead>\n",
              "  <tbody>\n",
              "    <tr>\n",
              "      <th>767</th>\n",
              "      <td>768</td>\n",
              "      <td>0</td>\n",
              "      <td>3</td>\n",
              "      <td>Mangan, Miss. Mary</td>\n",
              "      <td>female</td>\n",
              "      <td>30.5</td>\n",
              "      <td>0</td>\n",
              "      <td>0</td>\n",
              "      <td>364850</td>\n",
              "      <td>7.7500</td>\n",
              "      <td>NaN</td>\n",
              "      <td>Q</td>\n",
              "    </tr>\n",
              "    <tr>\n",
              "      <th>458</th>\n",
              "      <td>459</td>\n",
              "      <td>1</td>\n",
              "      <td>2</td>\n",
              "      <td>Toomey, Miss. Ellen</td>\n",
              "      <td>female</td>\n",
              "      <td>50.0</td>\n",
              "      <td>0</td>\n",
              "      <td>0</td>\n",
              "      <td>F.C.C. 13531</td>\n",
              "      <td>10.5000</td>\n",
              "      <td>NaN</td>\n",
              "      <td>S</td>\n",
              "    </tr>\n",
              "    <tr>\n",
              "      <th>343</th>\n",
              "      <td>344</td>\n",
              "      <td>0</td>\n",
              "      <td>2</td>\n",
              "      <td>Sedgwick, Mr. Charles Frederick Waddington</td>\n",
              "      <td>male</td>\n",
              "      <td>25.0</td>\n",
              "      <td>0</td>\n",
              "      <td>0</td>\n",
              "      <td>244361</td>\n",
              "      <td>13.0000</td>\n",
              "      <td>NaN</td>\n",
              "      <td>S</td>\n",
              "    </tr>\n",
              "    <tr>\n",
              "      <th>847</th>\n",
              "      <td>848</td>\n",
              "      <td>0</td>\n",
              "      <td>3</td>\n",
              "      <td>Markoff, Mr. Marin</td>\n",
              "      <td>male</td>\n",
              "      <td>35.0</td>\n",
              "      <td>0</td>\n",
              "      <td>0</td>\n",
              "      <td>349213</td>\n",
              "      <td>7.8958</td>\n",
              "      <td>NaN</td>\n",
              "      <td>C</td>\n",
              "    </tr>\n",
              "    <tr>\n",
              "      <th>474</th>\n",
              "      <td>475</td>\n",
              "      <td>0</td>\n",
              "      <td>3</td>\n",
              "      <td>Strandberg, Miss. Ida Sofia</td>\n",
              "      <td>female</td>\n",
              "      <td>22.0</td>\n",
              "      <td>0</td>\n",
              "      <td>0</td>\n",
              "      <td>7553</td>\n",
              "      <td>9.8375</td>\n",
              "      <td>NaN</td>\n",
              "      <td>S</td>\n",
              "    </tr>\n",
              "    <tr>\n",
              "      <th>380</th>\n",
              "      <td>381</td>\n",
              "      <td>1</td>\n",
              "      <td>1</td>\n",
              "      <td>Bidois, Miss. Rosalie</td>\n",
              "      <td>female</td>\n",
              "      <td>42.0</td>\n",
              "      <td>0</td>\n",
              "      <td>0</td>\n",
              "      <td>PC 17757</td>\n",
              "      <td>227.5250</td>\n",
              "      <td>NaN</td>\n",
              "      <td>C</td>\n",
              "    </tr>\n",
              "    <tr>\n",
              "      <th>448</th>\n",
              "      <td>449</td>\n",
              "      <td>1</td>\n",
              "      <td>3</td>\n",
              "      <td>Baclini, Miss. Marie Catherine</td>\n",
              "      <td>female</td>\n",
              "      <td>5.0</td>\n",
              "      <td>2</td>\n",
              "      <td>1</td>\n",
              "      <td>2666</td>\n",
              "      <td>19.2583</td>\n",
              "      <td>NaN</td>\n",
              "      <td>C</td>\n",
              "    </tr>\n",
              "    <tr>\n",
              "      <th>115</th>\n",
              "      <td>116</td>\n",
              "      <td>0</td>\n",
              "      <td>3</td>\n",
              "      <td>Pekoniemi, Mr. Edvard</td>\n",
              "      <td>male</td>\n",
              "      <td>21.0</td>\n",
              "      <td>0</td>\n",
              "      <td>0</td>\n",
              "      <td>STON/O 2. 3101294</td>\n",
              "      <td>7.9250</td>\n",
              "      <td>NaN</td>\n",
              "      <td>S</td>\n",
              "    </tr>\n",
              "    <tr>\n",
              "      <th>17</th>\n",
              "      <td>18</td>\n",
              "      <td>1</td>\n",
              "      <td>2</td>\n",
              "      <td>Williams, Mr. Charles Eugene</td>\n",
              "      <td>male</td>\n",
              "      <td>NaN</td>\n",
              "      <td>0</td>\n",
              "      <td>0</td>\n",
              "      <td>244373</td>\n",
              "      <td>13.0000</td>\n",
              "      <td>NaN</td>\n",
              "      <td>S</td>\n",
              "    </tr>\n",
              "    <tr>\n",
              "      <th>64</th>\n",
              "      <td>65</td>\n",
              "      <td>0</td>\n",
              "      <td>1</td>\n",
              "      <td>Stewart, Mr. Albert A</td>\n",
              "      <td>male</td>\n",
              "      <td>NaN</td>\n",
              "      <td>0</td>\n",
              "      <td>0</td>\n",
              "      <td>PC 17605</td>\n",
              "      <td>27.7208</td>\n",
              "      <td>NaN</td>\n",
              "      <td>C</td>\n",
              "    </tr>\n",
              "    <tr>\n",
              "      <th>349</th>\n",
              "      <td>350</td>\n",
              "      <td>0</td>\n",
              "      <td>3</td>\n",
              "      <td>Dimic, Mr. Jovan</td>\n",
              "      <td>male</td>\n",
              "      <td>42.0</td>\n",
              "      <td>0</td>\n",
              "      <td>0</td>\n",
              "      <td>315088</td>\n",
              "      <td>8.6625</td>\n",
              "      <td>NaN</td>\n",
              "      <td>S</td>\n",
              "    </tr>\n",
              "    <tr>\n",
              "      <th>13</th>\n",
              "      <td>14</td>\n",
              "      <td>0</td>\n",
              "      <td>3</td>\n",
              "      <td>Andersson, Mr. Anders Johan</td>\n",
              "      <td>male</td>\n",
              "      <td>39.0</td>\n",
              "      <td>1</td>\n",
              "      <td>5</td>\n",
              "      <td>347082</td>\n",
              "      <td>31.2750</td>\n",
              "      <td>NaN</td>\n",
              "      <td>S</td>\n",
              "    </tr>\n",
              "    <tr>\n",
              "      <th>65</th>\n",
              "      <td>66</td>\n",
              "      <td>1</td>\n",
              "      <td>3</td>\n",
              "      <td>Moubarek, Master. Gerios</td>\n",
              "      <td>male</td>\n",
              "      <td>NaN</td>\n",
              "      <td>1</td>\n",
              "      <td>1</td>\n",
              "      <td>2661</td>\n",
              "      <td>15.2458</td>\n",
              "      <td>NaN</td>\n",
              "      <td>C</td>\n",
              "    </tr>\n",
              "    <tr>\n",
              "      <th>671</th>\n",
              "      <td>672</td>\n",
              "      <td>0</td>\n",
              "      <td>1</td>\n",
              "      <td>Davidson, Mr. Thornton</td>\n",
              "      <td>male</td>\n",
              "      <td>31.0</td>\n",
              "      <td>1</td>\n",
              "      <td>0</td>\n",
              "      <td>F.C. 12750</td>\n",
              "      <td>52.0000</td>\n",
              "      <td>B71</td>\n",
              "      <td>S</td>\n",
              "    </tr>\n",
              "    <tr>\n",
              "      <th>728</th>\n",
              "      <td>729</td>\n",
              "      <td>0</td>\n",
              "      <td>2</td>\n",
              "      <td>Bryhl, Mr. Kurt Arnold Gottfrid</td>\n",
              "      <td>male</td>\n",
              "      <td>25.0</td>\n",
              "      <td>1</td>\n",
              "      <td>0</td>\n",
              "      <td>236853</td>\n",
              "      <td>26.0000</td>\n",
              "      <td>NaN</td>\n",
              "      <td>S</td>\n",
              "    </tr>\n",
              "  </tbody>\n",
              "</table>\n",
              "</div>"
            ],
            "text/plain": [
              "     PassengerId  Survived  Pclass  ...      Fare Cabin  Embarked\n",
              "767          768         0       3  ...    7.7500   NaN         Q\n",
              "458          459         1       2  ...   10.5000   NaN         S\n",
              "343          344         0       2  ...   13.0000   NaN         S\n",
              "847          848         0       3  ...    7.8958   NaN         C\n",
              "474          475         0       3  ...    9.8375   NaN         S\n",
              "380          381         1       1  ...  227.5250   NaN         C\n",
              "448          449         1       3  ...   19.2583   NaN         C\n",
              "115          116         0       3  ...    7.9250   NaN         S\n",
              "17            18         1       2  ...   13.0000   NaN         S\n",
              "64            65         0       1  ...   27.7208   NaN         C\n",
              "349          350         0       3  ...    8.6625   NaN         S\n",
              "13            14         0       3  ...   31.2750   NaN         S\n",
              "65            66         1       3  ...   15.2458   NaN         C\n",
              "671          672         0       1  ...   52.0000   B71         S\n",
              "728          729         0       2  ...   26.0000   NaN         S\n",
              "\n",
              "[15 rows x 12 columns]"
            ]
          },
          "execution_count": 140,
          "metadata": {},
          "output_type": "execute_result"
        }
      ]
    },
    {
      "cell_type": "code",
      "metadata": {
        "id": "xoZUvwmHDqIr"
      },
      "source": [
        "#Create function to catogrize of age\n",
        "def age_name(num):\n",
        "  if num<9:\n",
        "    return 'Childreen'\n",
        "  elif  (num >=10)& (num<=19):\n",
        "    return 'Adolescents'\n",
        "  elif (num >=20)& (num<=45) :\n",
        "    return 'Adults' \n",
        "  elif (num >=46)& (num<=60) :\n",
        "    return 'Middle age ' \n",
        "  elif (num>60) :\n",
        "    return 'Old '   \n"
      ],
      "execution_count": null,
      "outputs": []
    },
    {
      "cell_type": "code",
      "metadata": {
        "id": "OJlebJy_EeH1"
      },
      "source": [
        "#Create column to catogrize of age\n",
        "df_titanic['Age Category'] = df_titanic['Age'].apply(age_name)"
      ],
      "execution_count": null,
      "outputs": []
    },
    {
      "cell_type": "code",
      "metadata": {
        "colab": {
          "base_uri": "https://localhost:8080/"
        },
        "id": "NSYI7AKyGZzK",
        "outputId": "5d077593-ea79-4496-a9ed-5ac7f505cda3"
      },
      "source": [
        "df_titanic['Age Category']"
      ],
      "execution_count": null,
      "outputs": [
        {
          "data": {
            "text/plain": [
              "0           Adults\n",
              "1           Adults\n",
              "2           Adults\n",
              "3           Adults\n",
              "4           Adults\n",
              "          ...     \n",
              "886         Adults\n",
              "887    Adolescents\n",
              "888           None\n",
              "889         Adults\n",
              "890         Adults\n",
              "Name: Age Category, Length: 891, dtype: object"
            ]
          },
          "execution_count": 143,
          "metadata": {},
          "output_type": "execute_result"
        }
      ]
    },
    {
      "cell_type": "code",
      "metadata": {
        "colab": {
          "base_uri": "https://localhost:8080/"
        },
        "id": "bGP7aPKpGNSv",
        "outputId": "f125e296-7aa6-43b8-bde7-8469746227b7"
      },
      "source": [
        "df_titanic['Age Category'].value_counts()"
      ],
      "execution_count": null,
      "outputs": [
        {
          "data": {
            "text/plain": [
              "Adults         447\n",
              "Adolescents    102\n",
              "Middle age      79\n",
              "Childreen       54\n",
              "Old             22\n",
              "Name: Age Category, dtype: int64"
            ]
          },
          "execution_count": 144,
          "metadata": {},
          "output_type": "execute_result"
        }
      ]
    },
    {
      "cell_type": "code",
      "metadata": {
        "colab": {
          "base_uri": "https://localhost:8080/"
        },
        "id": "B4simsh-E1LE",
        "outputId": "f4acaa94-23a1-4e91-b0f9-c68ee8713ab5"
      },
      "source": [
        "df_titanic['Age Category'].describe()"
      ],
      "execution_count": null,
      "outputs": [
        {
          "data": {
            "text/plain": [
              "count        704\n",
              "unique         5\n",
              "top       Adults\n",
              "freq         447\n",
              "Name: Age Category, dtype: object"
            ]
          },
          "execution_count": 145,
          "metadata": {},
          "output_type": "execute_result"
        }
      ]
    },
    {
      "cell_type": "code",
      "metadata": {
        "colab": {
          "base_uri": "https://localhost:8080/",
          "height": 741
        },
        "id": "qq4Pd25jI1yt",
        "outputId": "1c2fb06c-c439-4186-e223-8defbe336b05"
      },
      "source": [
        "sns.countplot(x=df_titanic['Age Category'])"
      ],
      "execution_count": null,
      "outputs": [
        {
          "data": {
            "text/plain": [
              "<matplotlib.axes._subplots.AxesSubplot at 0x7f083f2f95d0>"
            ]
          },
          "execution_count": 146,
          "metadata": {},
          "output_type": "execute_result"
        },
        {
          "data": {
            "image/png": "[encoded data removed]",
            "text/plain": [
              "<Figure size 864x864 with 1 Axes>"
            ]
          },
          "metadata": {},
          "output_type": "display_data"
        }
      ]
    },
    {
      "cell_type": "code",
      "metadata": {
        "id": "6iwXESriGrvt"
      },
      "source": [
        "#SibSp is number of sons with passenger\n",
        "#Parch is number of parents with passenger\n",
        "#Create column to adding all individuals with passenger\n",
        "df_titanic['With Passenger']= df_titanic['SibSp']\t+ df_titanic['Parch']\t"
      ],
      "execution_count": null,
      "outputs": []
    },
    {
      "cell_type": "code",
      "metadata": {
        "colab": {
          "base_uri": "https://localhost:8080/"
        },
        "id": "U7kqaJIOHUFy",
        "outputId": "67f67c22-ab72-44fc-e824-68558b1b6532"
      },
      "source": [
        "df_titanic['With Passenger']"
      ],
      "execution_count": null,
      "outputs": [
        {
          "data": {
            "text/plain": [
              "0      1\n",
              "1      1\n",
              "2      0\n",
              "3      1\n",
              "4      0\n",
              "      ..\n",
              "886    0\n",
              "887    0\n",
              "888    3\n",
              "889    0\n",
              "890    0\n",
              "Name: With Passenger, Length: 891, dtype: int64"
            ]
          },
          "execution_count": 148,
          "metadata": {},
          "output_type": "execute_result"
        }
      ]
    },
    {
      "cell_type": "code",
      "metadata": {
        "colab": {
          "base_uri": "https://localhost:8080/"
        },
        "id": "JT-zBc4oHAJ0",
        "outputId": "72486758-6b79-4096-a011-83018ac31181"
      },
      "source": [
        "df_titanic['With Passenger'].describe()"
      ],
      "execution_count": null,
      "outputs": [
        {
          "data": {
            "text/plain": [
              "count    891.000000\n",
              "mean       0.904602\n",
              "std        1.613459\n",
              "min        0.000000\n",
              "25%        0.000000\n",
              "50%        0.000000\n",
              "75%        1.000000\n",
              "max       10.000000\n",
              "Name: With Passenger, dtype: float64"
            ]
          },
          "execution_count": 149,
          "metadata": {},
          "output_type": "execute_result"
        }
      ]
    },
    {
      "cell_type": "code",
      "metadata": {
        "colab": {
          "base_uri": "https://localhost:8080/"
        },
        "id": "eYsq2ZByHKFb",
        "outputId": "dfb260d3-3369-4fe8-d404-6aa795f71ec1"
      },
      "source": [
        "df_titanic['With Passenger'].value_counts()"
      ],
      "execution_count": null,
      "outputs": [
        {
          "data": {
            "text/plain": [
              "0     537\n",
              "1     161\n",
              "2     102\n",
              "3      29\n",
              "5      22\n",
              "4      15\n",
              "6      12\n",
              "10      7\n",
              "7       6\n",
              "Name: With Passenger, dtype: int64"
            ]
          },
          "execution_count": 150,
          "metadata": {},
          "output_type": "execute_result"
        }
      ]
    },
    {
      "cell_type": "code",
      "metadata": {
        "colab": {
          "base_uri": "https://localhost:8080/",
          "height": 838
        },
        "id": "3u3rItT5F09h",
        "outputId": "25752de4-41ff-44c9-c336-05aec92b7dcb"
      },
      "source": [
        "df_titanic.sample(10)"
      ],
      "execution_count": null,
      "outputs": [
        {
          "data": {
            "text/html": [
              "<div>\n",
              "<style scoped>\n",
              "    .dataframe tbody tr th:only-of-type {\n",
              "        vertical-align: middle;\n",
              "    }\n",
              "\n",
              "    .dataframe tbody tr th {\n",
              "        vertical-align: top;\n",
              "    }\n",
              "\n",
              "    .dataframe thead th {\n",
              "        text-align: right;\n",
              "    }\n",
              "</style>\n",
              "<table border=\"1\" class=\"dataframe\">\n",
              "  <thead>\n",
              "    <tr style=\"text-align: right;\">\n",
              "      <th></th>\n",
              "      <th>PassengerId</th>\n",
              "      <th>Survived</th>\n",
              "      <th>Pclass</th>\n",
              "      <th>Name</th>\n",
              "      <th>Sex</th>\n",
              "      <th>Age</th>\n",
              "      <th>SibSp</th>\n",
              "      <th>Parch</th>\n",
              "      <th>Ticket</th>\n",
              "      <th>Fare</th>\n",
              "      <th>Cabin</th>\n",
              "      <th>Embarked</th>\n",
              "      <th>Age Category</th>\n",
              "      <th>With Passenger</th>\n",
              "    </tr>\n",
              "  </thead>\n",
              "  <tbody>\n",
              "    <tr>\n",
              "      <th>543</th>\n",
              "      <td>544</td>\n",
              "      <td>1</td>\n",
              "      <td>2</td>\n",
              "      <td>Beane, Mr. Edward</td>\n",
              "      <td>male</td>\n",
              "      <td>32.0</td>\n",
              "      <td>1</td>\n",
              "      <td>0</td>\n",
              "      <td>2908</td>\n",
              "      <td>26.000</td>\n",
              "      <td>NaN</td>\n",
              "      <td>S</td>\n",
              "      <td>Adults</td>\n",
              "      <td>1</td>\n",
              "    </tr>\n",
              "    <tr>\n",
              "      <th>604</th>\n",
              "      <td>605</td>\n",
              "      <td>1</td>\n",
              "      <td>1</td>\n",
              "      <td>Homer, Mr. Harry (\"Mr E Haven\")</td>\n",
              "      <td>male</td>\n",
              "      <td>35.0</td>\n",
              "      <td>0</td>\n",
              "      <td>0</td>\n",
              "      <td>111426</td>\n",
              "      <td>26.550</td>\n",
              "      <td>NaN</td>\n",
              "      <td>C</td>\n",
              "      <td>Adults</td>\n",
              "      <td>0</td>\n",
              "    </tr>\n",
              "    <tr>\n",
              "      <th>21</th>\n",
              "      <td>22</td>\n",
              "      <td>1</td>\n",
              "      <td>2</td>\n",
              "      <td>Beesley, Mr. Lawrence</td>\n",
              "      <td>male</td>\n",
              "      <td>34.0</td>\n",
              "      <td>0</td>\n",
              "      <td>0</td>\n",
              "      <td>248698</td>\n",
              "      <td>13.000</td>\n",
              "      <td>D56</td>\n",
              "      <td>S</td>\n",
              "      <td>Adults</td>\n",
              "      <td>0</td>\n",
              "    </tr>\n",
              "    <tr>\n",
              "      <th>848</th>\n",
              "      <td>849</td>\n",
              "      <td>0</td>\n",
              "      <td>2</td>\n",
              "      <td>Harper, Rev. John</td>\n",
              "      <td>male</td>\n",
              "      <td>28.0</td>\n",
              "      <td>0</td>\n",
              "      <td>1</td>\n",
              "      <td>248727</td>\n",
              "      <td>33.000</td>\n",
              "      <td>NaN</td>\n",
              "      <td>S</td>\n",
              "      <td>Adults</td>\n",
              "      <td>1</td>\n",
              "    </tr>\n",
              "    <tr>\n",
              "      <th>497</th>\n",
              "      <td>498</td>\n",
              "      <td>0</td>\n",
              "      <td>3</td>\n",
              "      <td>Shellard, Mr. Frederick William</td>\n",
              "      <td>male</td>\n",
              "      <td>NaN</td>\n",
              "      <td>0</td>\n",
              "      <td>0</td>\n",
              "      <td>C.A. 6212</td>\n",
              "      <td>15.100</td>\n",
              "      <td>NaN</td>\n",
              "      <td>S</td>\n",
              "      <td>None</td>\n",
              "      <td>0</td>\n",
              "    </tr>\n",
              "    <tr>\n",
              "      <th>554</th>\n",
              "      <td>555</td>\n",
              "      <td>1</td>\n",
              "      <td>3</td>\n",
              "      <td>Ohman, Miss. Velin</td>\n",
              "      <td>female</td>\n",
              "      <td>22.0</td>\n",
              "      <td>0</td>\n",
              "      <td>0</td>\n",
              "      <td>347085</td>\n",
              "      <td>7.775</td>\n",
              "      <td>NaN</td>\n",
              "      <td>S</td>\n",
              "      <td>Adults</td>\n",
              "      <td>0</td>\n",
              "    </tr>\n",
              "    <tr>\n",
              "      <th>670</th>\n",
              "      <td>671</td>\n",
              "      <td>1</td>\n",
              "      <td>2</td>\n",
              "      <td>Brown, Mrs. Thomas William Solomon (Elizabeth ...</td>\n",
              "      <td>female</td>\n",
              "      <td>40.0</td>\n",
              "      <td>1</td>\n",
              "      <td>1</td>\n",
              "      <td>29750</td>\n",
              "      <td>39.000</td>\n",
              "      <td>NaN</td>\n",
              "      <td>S</td>\n",
              "      <td>Adults</td>\n",
              "      <td>2</td>\n",
              "    </tr>\n",
              "    <tr>\n",
              "      <th>198</th>\n",
              "      <td>199</td>\n",
              "      <td>1</td>\n",
              "      <td>3</td>\n",
              "      <td>Madigan, Miss. Margaret \"Maggie\"</td>\n",
              "      <td>female</td>\n",
              "      <td>NaN</td>\n",
              "      <td>0</td>\n",
              "      <td>0</td>\n",
              "      <td>370370</td>\n",
              "      <td>7.750</td>\n",
              "      <td>NaN</td>\n",
              "      <td>Q</td>\n",
              "      <td>None</td>\n",
              "      <td>0</td>\n",
              "    </tr>\n",
              "    <tr>\n",
              "      <th>674</th>\n",
              "      <td>675</td>\n",
              "      <td>0</td>\n",
              "      <td>2</td>\n",
              "      <td>Watson, Mr. Ennis Hastings</td>\n",
              "      <td>male</td>\n",
              "      <td>NaN</td>\n",
              "      <td>0</td>\n",
              "      <td>0</td>\n",
              "      <td>239856</td>\n",
              "      <td>0.000</td>\n",
              "      <td>NaN</td>\n",
              "      <td>S</td>\n",
              "      <td>None</td>\n",
              "      <td>0</td>\n",
              "    </tr>\n",
              "    <tr>\n",
              "      <th>327</th>\n",
              "      <td>328</td>\n",
              "      <td>1</td>\n",
              "      <td>2</td>\n",
              "      <td>Ball, Mrs. (Ada E Hall)</td>\n",
              "      <td>female</td>\n",
              "      <td>36.0</td>\n",
              "      <td>0</td>\n",
              "      <td>0</td>\n",
              "      <td>28551</td>\n",
              "      <td>13.000</td>\n",
              "      <td>D</td>\n",
              "      <td>S</td>\n",
              "      <td>Adults</td>\n",
              "      <td>0</td>\n",
              "    </tr>\n",
              "  </tbody>\n",
              "</table>\n",
              "</div>"
            ],
            "text/plain": [
              "     PassengerId  Survived  Pclass  ... Embarked Age Category  With Passenger\n",
              "543          544         1       2  ...        S       Adults               1\n",
              "604          605         1       1  ...        C       Adults               0\n",
              "21            22         1       2  ...        S       Adults               0\n",
              "848          849         0       2  ...        S       Adults               1\n",
              "497          498         0       3  ...        S         None               0\n",
              "554          555         1       3  ...        S       Adults               0\n",
              "670          671         1       2  ...        S       Adults               2\n",
              "198          199         1       3  ...        Q         None               0\n",
              "674          675         0       2  ...        S         None               0\n",
              "327          328         1       2  ...        S       Adults               0\n",
              "\n",
              "[10 rows x 14 columns]"
            ]
          },
          "execution_count": 151,
          "metadata": {},
          "output_type": "execute_result"
        }
      ]
    },
    {
      "cell_type": "code",
      "metadata": {
        "colab": {
          "base_uri": "https://localhost:8080/",
          "height": 741
        },
        "id": "eXsRk4yzGnr7",
        "outputId": "ec30e891-b691-4104-bc4c-40d424f93706"
      },
      "source": [
        "sns.countplot(x='With Passenger', data=df_titanic)"
      ],
      "execution_count": null,
      "outputs": [
        {
          "data": {
            "text/plain": [
              "<matplotlib.axes._subplots.AxesSubplot at 0x7f0844261c90>"
            ]
          },
          "execution_count": 152,
          "metadata": {},
          "output_type": "execute_result"
        },
        {
          "data": {
            "image/png": "[encoded data removed]",
            "text/plain": [
              "<Figure size 864x864 with 1 Axes>"
            ]
          },
          "metadata": {},
          "output_type": "display_data"
        }
      ]
    },
    {
      "cell_type": "code",
      "metadata": {
        "id": "4lXnLM6VJL5b"
      },
      "source": [
        "df_melb_data = pd.read_csv('/content/melb_data.csv')"
      ],
      "execution_count": null,
      "outputs": []
    },
    {
      "cell_type": "code",
      "metadata": {
        "colab": {
          "base_uri": "https://localhost:8080/"
        },
        "id": "p2XkljdFMpbF",
        "outputId": "618c51f9-64cb-43b6-a699-0c46a28e54b0"
      },
      "source": [
        "df_melb_data.info()"
      ],
      "execution_count": null,
      "outputs": [
        {
          "name": "stdout",
          "output_type": "stream",
          "text": [
            "<class 'pandas.core.frame.DataFrame'>\n",
            "RangeIndex: 13580 entries, 0 to 13579\n",
            "Data columns (total 21 columns):\n",
            " #   Column         Non-Null Count  Dtype  \n",
            "---  ------         --------------  -----  \n",
            " 0   Suburb         13580 non-null  object \n",
            " 1   Address        13580 non-null  object \n",
            " 2   Rooms          13580 non-null  int64  \n",
            " 3   Type           13580 non-null  object \n",
            " 4   Price          13580 non-null  float64\n",
            " 5   Method         13580 non-null  object \n",
            " 6   SellerG        13580 non-null  object \n",
            " 7   Date           13580 non-null  object \n",
            " 8   Distance       13580 non-null  float64\n",
            " 9   Postcode       13580 non-null  float64\n",
            " 10  Bedroom2       13580 non-null  float64\n",
            " 11  Bathroom       13580 non-null  float64\n",
            " 12  Car            13518 non-null  float64\n",
            " 13  Landsize       13580 non-null  float64\n",
            " 14  BuildingArea   7130 non-null   float64\n",
            " 15  YearBuilt      8205 non-null   float64\n",
            " 16  CouncilArea    12211 non-null  object \n",
            " 17  Lattitude      13580 non-null  float64\n",
            " 18  Longtitude     13580 non-null  float64\n",
            " 19  Regionname     13580 non-null  object \n",
            " 20  Propertycount  13580 non-null  float64\n",
            "dtypes: float64(12), int64(1), object(8)\n",
            "memory usage: 2.2+ MB\n"
          ]
        }
      ]
    },
    {
      "cell_type": "code",
      "metadata": {
        "colab": {
          "base_uri": "https://localhost:8080/",
          "height": 472
        },
        "id": "5s3UBjSDM8k4",
        "outputId": "76c17062-2fe7-41f8-c679-e2cf4db92b0b"
      },
      "source": [
        "df_melb_data.describe().T"
      ],
      "execution_count": null,
      "outputs": [
        {
          "data": {
            "text/html": [
              "<div>\n",
              "<style scoped>\n",
              "    .dataframe tbody tr th:only-of-type {\n",
              "        vertical-align: middle;\n",
              "    }\n",
              "\n",
              "    .dataframe tbody tr th {\n",
              "        vertical-align: top;\n",
              "    }\n",
              "\n",
              "    .dataframe thead th {\n",
              "        text-align: right;\n",
              "    }\n",
              "</style>\n",
              "<table border=\"1\" class=\"dataframe\">\n",
              "  <thead>\n",
              "    <tr style=\"text-align: right;\">\n",
              "      <th></th>\n",
              "      <th>count</th>\n",
              "      <th>mean</th>\n",
              "      <th>std</th>\n",
              "      <th>min</th>\n",
              "      <th>25%</th>\n",
              "      <th>50%</th>\n",
              "      <th>75%</th>\n",
              "      <th>max</th>\n",
              "    </tr>\n",
              "  </thead>\n",
              "  <tbody>\n",
              "    <tr>\n",
              "      <th>Rooms</th>\n",
              "      <td>13580.0</td>\n",
              "      <td>2.937997e+00</td>\n",
              "      <td>0.955748</td>\n",
              "      <td>1.00000</td>\n",
              "      <td>2.000000</td>\n",
              "      <td>3.000000</td>\n",
              "      <td>3.000000e+00</td>\n",
              "      <td>1.000000e+01</td>\n",
              "    </tr>\n",
              "    <tr>\n",
              "      <th>Price</th>\n",
              "      <td>13580.0</td>\n",
              "      <td>1.075684e+06</td>\n",
              "      <td>639310.724296</td>\n",
              "      <td>85000.00000</td>\n",
              "      <td>650000.000000</td>\n",
              "      <td>903000.000000</td>\n",
              "      <td>1.330000e+06</td>\n",
              "      <td>9.000000e+06</td>\n",
              "    </tr>\n",
              "    <tr>\n",
              "      <th>Distance</th>\n",
              "      <td>13580.0</td>\n",
              "      <td>1.013778e+01</td>\n",
              "      <td>5.868725</td>\n",
              "      <td>0.00000</td>\n",
              "      <td>6.100000</td>\n",
              "      <td>9.200000</td>\n",
              "      <td>1.300000e+01</td>\n",
              "      <td>4.810000e+01</td>\n",
              "    </tr>\n",
              "    <tr>\n",
              "      <th>Postcode</th>\n",
              "      <td>13580.0</td>\n",
              "      <td>3.105302e+03</td>\n",
              "      <td>90.676964</td>\n",
              "      <td>3000.00000</td>\n",
              "      <td>3044.000000</td>\n",
              "      <td>3084.000000</td>\n",
              "      <td>3.148000e+03</td>\n",
              "      <td>3.977000e+03</td>\n",
              "    </tr>\n",
              "    <tr>\n",
              "      <th>Bedroom2</th>\n",
              "      <td>13580.0</td>\n",
              "      <td>2.914728e+00</td>\n",
              "      <td>0.965921</td>\n",
              "      <td>0.00000</td>\n",
              "      <td>2.000000</td>\n",
              "      <td>3.000000</td>\n",
              "      <td>3.000000e+00</td>\n",
              "      <td>2.000000e+01</td>\n",
              "    </tr>\n",
              "    <tr>\n",
              "      <th>Bathroom</th>\n",
              "      <td>13580.0</td>\n",
              "      <td>1.534242e+00</td>\n",
              "      <td>0.691712</td>\n",
              "      <td>0.00000</td>\n",
              "      <td>1.000000</td>\n",
              "      <td>1.000000</td>\n",
              "      <td>2.000000e+00</td>\n",
              "      <td>8.000000e+00</td>\n",
              "    </tr>\n",
              "    <tr>\n",
              "      <th>Car</th>\n",
              "      <td>13518.0</td>\n",
              "      <td>1.610075e+00</td>\n",
              "      <td>0.962634</td>\n",
              "      <td>0.00000</td>\n",
              "      <td>1.000000</td>\n",
              "      <td>2.000000</td>\n",
              "      <td>2.000000e+00</td>\n",
              "      <td>1.000000e+01</td>\n",
              "    </tr>\n",
              "    <tr>\n",
              "      <th>Landsize</th>\n",
              "      <td>13580.0</td>\n",
              "      <td>5.584161e+02</td>\n",
              "      <td>3990.669241</td>\n",
              "      <td>0.00000</td>\n",
              "      <td>177.000000</td>\n",
              "      <td>440.000000</td>\n",
              "      <td>6.510000e+02</td>\n",
              "      <td>4.330140e+05</td>\n",
              "    </tr>\n",
              "    <tr>\n",
              "      <th>BuildingArea</th>\n",
              "      <td>7130.0</td>\n",
              "      <td>1.519676e+02</td>\n",
              "      <td>541.014538</td>\n",
              "      <td>0.00000</td>\n",
              "      <td>93.000000</td>\n",
              "      <td>126.000000</td>\n",
              "      <td>1.740000e+02</td>\n",
              "      <td>4.451500e+04</td>\n",
              "    </tr>\n",
              "    <tr>\n",
              "      <th>YearBuilt</th>\n",
              "      <td>8205.0</td>\n",
              "      <td>1.964684e+03</td>\n",
              "      <td>37.273762</td>\n",
              "      <td>1196.00000</td>\n",
              "      <td>1940.000000</td>\n",
              "      <td>1970.000000</td>\n",
              "      <td>1.999000e+03</td>\n",
              "      <td>2.018000e+03</td>\n",
              "    </tr>\n",
              "    <tr>\n",
              "      <th>Lattitude</th>\n",
              "      <td>13580.0</td>\n",
              "      <td>-3.780920e+01</td>\n",
              "      <td>0.079260</td>\n",
              "      <td>-38.18255</td>\n",
              "      <td>-37.856822</td>\n",
              "      <td>-37.802355</td>\n",
              "      <td>-3.775640e+01</td>\n",
              "      <td>-3.740853e+01</td>\n",
              "    </tr>\n",
              "    <tr>\n",
              "      <th>Longtitude</th>\n",
              "      <td>13580.0</td>\n",
              "      <td>1.449952e+02</td>\n",
              "      <td>0.103916</td>\n",
              "      <td>144.43181</td>\n",
              "      <td>144.929600</td>\n",
              "      <td>145.000100</td>\n",
              "      <td>1.450583e+02</td>\n",
              "      <td>1.455264e+02</td>\n",
              "    </tr>\n",
              "    <tr>\n",
              "      <th>Propertycount</th>\n",
              "      <td>13580.0</td>\n",
              "      <td>7.454417e+03</td>\n",
              "      <td>4378.581772</td>\n",
              "      <td>249.00000</td>\n",
              "      <td>4380.000000</td>\n",
              "      <td>6555.000000</td>\n",
              "      <td>1.033100e+04</td>\n",
              "      <td>2.165000e+04</td>\n",
              "    </tr>\n",
              "  </tbody>\n",
              "</table>\n",
              "</div>"
            ],
            "text/plain": [
              "                 count          mean  ...           75%           max\n",
              "Rooms          13580.0  2.937997e+00  ...  3.000000e+00  1.000000e+01\n",
              "Price          13580.0  1.075684e+06  ...  1.330000e+06  9.000000e+06\n",
              "Distance       13580.0  1.013778e+01  ...  1.300000e+01  4.810000e+01\n",
              "Postcode       13580.0  3.105302e+03  ...  3.148000e+03  3.977000e+03\n",
              "Bedroom2       13580.0  2.914728e+00  ...  3.000000e+00  2.000000e+01\n",
              "Bathroom       13580.0  1.534242e+00  ...  2.000000e+00  8.000000e+00\n",
              "Car            13518.0  1.610075e+00  ...  2.000000e+00  1.000000e+01\n",
              "Landsize       13580.0  5.584161e+02  ...  6.510000e+02  4.330140e+05\n",
              "BuildingArea    7130.0  1.519676e+02  ...  1.740000e+02  4.451500e+04\n",
              "YearBuilt       8205.0  1.964684e+03  ...  1.999000e+03  2.018000e+03\n",
              "Lattitude      13580.0 -3.780920e+01  ... -3.775640e+01 -3.740853e+01\n",
              "Longtitude     13580.0  1.449952e+02  ...  1.450583e+02  1.455264e+02\n",
              "Propertycount  13580.0  7.454417e+03  ...  1.033100e+04  2.165000e+04\n",
              "\n",
              "[13 rows x 8 columns]"
            ]
          },
          "execution_count": 155,
          "metadata": {},
          "output_type": "execute_result"
        }
      ]
    },
    {
      "cell_type": "code",
      "metadata": {
        "colab": {
          "base_uri": "https://localhost:8080/",
          "height": 600
        },
        "id": "nTlIQ0xnNXT7",
        "outputId": "7d133eac-0699-46e3-f56f-1571ced096bb"
      },
      "source": [
        "df_melb_data.sample(10)"
      ],
      "execution_count": null,
      "outputs": [
        {
          "data": {
            "text/html": [
              "<div>\n",
              "<style scoped>\n",
              "    .dataframe tbody tr th:only-of-type {\n",
              "        vertical-align: middle;\n",
              "    }\n",
              "\n",
              "    .dataframe tbody tr th {\n",
              "        vertical-align: top;\n",
              "    }\n",
              "\n",
              "    .dataframe thead th {\n",
              "        text-align: right;\n",
              "    }\n",
              "</style>\n",
              "<table border=\"1\" class=\"dataframe\">\n",
              "  <thead>\n",
              "    <tr style=\"text-align: right;\">\n",
              "      <th></th>\n",
              "      <th>Suburb</th>\n",
              "      <th>Address</th>\n",
              "      <th>Rooms</th>\n",
              "      <th>Type</th>\n",
              "      <th>Price</th>\n",
              "      <th>Method</th>\n",
              "      <th>SellerG</th>\n",
              "      <th>Date</th>\n",
              "      <th>Distance</th>\n",
              "      <th>Postcode</th>\n",
              "      <th>Bedroom2</th>\n",
              "      <th>Bathroom</th>\n",
              "      <th>Car</th>\n",
              "      <th>Landsize</th>\n",
              "      <th>BuildingArea</th>\n",
              "      <th>YearBuilt</th>\n",
              "      <th>CouncilArea</th>\n",
              "      <th>Lattitude</th>\n",
              "      <th>Longtitude</th>\n",
              "      <th>Regionname</th>\n",
              "      <th>Propertycount</th>\n",
              "    </tr>\n",
              "  </thead>\n",
              "  <tbody>\n",
              "    <tr>\n",
              "      <th>3427</th>\n",
              "      <td>Kealba</td>\n",
              "      <td>6 McGrath Cl</td>\n",
              "      <td>3</td>\n",
              "      <td>h</td>\n",
              "      <td>545000.0</td>\n",
              "      <td>SP</td>\n",
              "      <td>Brad</td>\n",
              "      <td>16/07/2016</td>\n",
              "      <td>15.0</td>\n",
              "      <td>3021.0</td>\n",
              "      <td>3.0</td>\n",
              "      <td>2.0</td>\n",
              "      <td>2.0</td>\n",
              "      <td>570.0</td>\n",
              "      <td>163.0</td>\n",
              "      <td>1980.0</td>\n",
              "      <td>Brimbank</td>\n",
              "      <td>-37.73670</td>\n",
              "      <td>144.82460</td>\n",
              "      <td>Western Metropolitan</td>\n",
              "      <td>1202.0</td>\n",
              "    </tr>\n",
              "    <tr>\n",
              "      <th>834</th>\n",
              "      <td>Bentleigh East</td>\n",
              "      <td>13 Brooks St</td>\n",
              "      <td>4</td>\n",
              "      <td>t</td>\n",
              "      <td>1060000.0</td>\n",
              "      <td>S</td>\n",
              "      <td>Woodards</td>\n",
              "      <td>10/12/2016</td>\n",
              "      <td>13.9</td>\n",
              "      <td>3165.0</td>\n",
              "      <td>4.0</td>\n",
              "      <td>3.0</td>\n",
              "      <td>1.0</td>\n",
              "      <td>313.0</td>\n",
              "      <td>166.0</td>\n",
              "      <td>1960.0</td>\n",
              "      <td>Glen Eira</td>\n",
              "      <td>-37.91640</td>\n",
              "      <td>145.07650</td>\n",
              "      <td>Southern Metropolitan</td>\n",
              "      <td>10969.0</td>\n",
              "    </tr>\n",
              "    <tr>\n",
              "      <th>5044</th>\n",
              "      <td>Reservoir</td>\n",
              "      <td>5 Queen St</td>\n",
              "      <td>2</td>\n",
              "      <td>h</td>\n",
              "      <td>931000.0</td>\n",
              "      <td>S</td>\n",
              "      <td>Barry</td>\n",
              "      <td>4/03/2017</td>\n",
              "      <td>11.2</td>\n",
              "      <td>3073.0</td>\n",
              "      <td>2.0</td>\n",
              "      <td>1.0</td>\n",
              "      <td>1.0</td>\n",
              "      <td>487.0</td>\n",
              "      <td>NaN</td>\n",
              "      <td>NaN</td>\n",
              "      <td>Darebin</td>\n",
              "      <td>-37.72790</td>\n",
              "      <td>145.01360</td>\n",
              "      <td>Northern Metropolitan</td>\n",
              "      <td>21650.0</td>\n",
              "    </tr>\n",
              "    <tr>\n",
              "      <th>3590</th>\n",
              "      <td>Kew</td>\n",
              "      <td>4/76 Studley Park Rd</td>\n",
              "      <td>3</td>\n",
              "      <td>u</td>\n",
              "      <td>882000.0</td>\n",
              "      <td>S</td>\n",
              "      <td>Marshall</td>\n",
              "      <td>4/06/2016</td>\n",
              "      <td>5.6</td>\n",
              "      <td>3101.0</td>\n",
              "      <td>3.0</td>\n",
              "      <td>2.0</td>\n",
              "      <td>2.0</td>\n",
              "      <td>0.0</td>\n",
              "      <td>141.0</td>\n",
              "      <td>1950.0</td>\n",
              "      <td>Boroondara</td>\n",
              "      <td>-37.80640</td>\n",
              "      <td>145.01820</td>\n",
              "      <td>Southern Metropolitan</td>\n",
              "      <td>10331.0</td>\n",
              "    </tr>\n",
              "    <tr>\n",
              "      <th>9423</th>\n",
              "      <td>Bayswater</td>\n",
              "      <td>95 Orange Gr</td>\n",
              "      <td>4</td>\n",
              "      <td>h</td>\n",
              "      <td>925000.0</td>\n",
              "      <td>SP</td>\n",
              "      <td>Biggin</td>\n",
              "      <td>17/06/2017</td>\n",
              "      <td>23.2</td>\n",
              "      <td>3153.0</td>\n",
              "      <td>4.0</td>\n",
              "      <td>1.0</td>\n",
              "      <td>10.0</td>\n",
              "      <td>993.0</td>\n",
              "      <td>128.0</td>\n",
              "      <td>1966.0</td>\n",
              "      <td>Knox</td>\n",
              "      <td>-37.84688</td>\n",
              "      <td>145.25632</td>\n",
              "      <td>Eastern Metropolitan</td>\n",
              "      <td>5030.0</td>\n",
              "    </tr>\n",
              "    <tr>\n",
              "      <th>1855</th>\n",
              "      <td>Caulfield South</td>\n",
              "      <td>42 Poplar St</td>\n",
              "      <td>3</td>\n",
              "      <td>h</td>\n",
              "      <td>1330000.0</td>\n",
              "      <td>S</td>\n",
              "      <td>Gary</td>\n",
              "      <td>26/07/2016</td>\n",
              "      <td>9.3</td>\n",
              "      <td>3162.0</td>\n",
              "      <td>3.0</td>\n",
              "      <td>1.0</td>\n",
              "      <td>1.0</td>\n",
              "      <td>312.0</td>\n",
              "      <td>123.0</td>\n",
              "      <td>1926.0</td>\n",
              "      <td>Glen Eira</td>\n",
              "      <td>-37.88930</td>\n",
              "      <td>145.01960</td>\n",
              "      <td>Southern Metropolitan</td>\n",
              "      <td>5051.0</td>\n",
              "    </tr>\n",
              "    <tr>\n",
              "      <th>11834</th>\n",
              "      <td>Taylors Lakes</td>\n",
              "      <td>23A Wentworth Dr</td>\n",
              "      <td>3</td>\n",
              "      <td>t</td>\n",
              "      <td>502000.0</td>\n",
              "      <td>S</td>\n",
              "      <td>Barry</td>\n",
              "      <td>22/07/2017</td>\n",
              "      <td>15.5</td>\n",
              "      <td>3038.0</td>\n",
              "      <td>3.0</td>\n",
              "      <td>2.0</td>\n",
              "      <td>2.0</td>\n",
              "      <td>198.0</td>\n",
              "      <td>143.0</td>\n",
              "      <td>2004.0</td>\n",
              "      <td>Brimbank</td>\n",
              "      <td>-37.69503</td>\n",
              "      <td>144.77869</td>\n",
              "      <td>Western Metropolitan</td>\n",
              "      <td>5336.0</td>\n",
              "    </tr>\n",
              "    <tr>\n",
              "      <th>6415</th>\n",
              "      <td>Viewbank</td>\n",
              "      <td>9 Rosebud Pde</td>\n",
              "      <td>4</td>\n",
              "      <td>h</td>\n",
              "      <td>1080000.0</td>\n",
              "      <td>S</td>\n",
              "      <td>Miles</td>\n",
              "      <td>4/03/2017</td>\n",
              "      <td>13.8</td>\n",
              "      <td>3084.0</td>\n",
              "      <td>4.0</td>\n",
              "      <td>1.0</td>\n",
              "      <td>2.0</td>\n",
              "      <td>676.0</td>\n",
              "      <td>NaN</td>\n",
              "      <td>NaN</td>\n",
              "      <td>Banyule</td>\n",
              "      <td>-37.73890</td>\n",
              "      <td>145.08610</td>\n",
              "      <td>Eastern Metropolitan</td>\n",
              "      <td>2698.0</td>\n",
              "    </tr>\n",
              "    <tr>\n",
              "      <th>8817</th>\n",
              "      <td>Gisborne</td>\n",
              "      <td>3 Sansom St</td>\n",
              "      <td>4</td>\n",
              "      <td>h</td>\n",
              "      <td>521000.0</td>\n",
              "      <td>SP</td>\n",
              "      <td>Raine</td>\n",
              "      <td>1/07/2017</td>\n",
              "      <td>45.9</td>\n",
              "      <td>3437.0</td>\n",
              "      <td>4.0</td>\n",
              "      <td>2.0</td>\n",
              "      <td>2.0</td>\n",
              "      <td>978.0</td>\n",
              "      <td>144.0</td>\n",
              "      <td>1980.0</td>\n",
              "      <td>Macedon Ranges</td>\n",
              "      <td>-37.49642</td>\n",
              "      <td>144.60119</td>\n",
              "      <td>Northern Victoria</td>\n",
              "      <td>3376.0</td>\n",
              "    </tr>\n",
              "    <tr>\n",
              "      <th>3018</th>\n",
              "      <td>Hampton</td>\n",
              "      <td>3 Kendall St</td>\n",
              "      <td>4</td>\n",
              "      <td>h</td>\n",
              "      <td>1600000.0</td>\n",
              "      <td>VB</td>\n",
              "      <td>Marshall</td>\n",
              "      <td>3/12/2016</td>\n",
              "      <td>13.7</td>\n",
              "      <td>3188.0</td>\n",
              "      <td>4.0</td>\n",
              "      <td>2.0</td>\n",
              "      <td>2.0</td>\n",
              "      <td>607.0</td>\n",
              "      <td>242.0</td>\n",
              "      <td>2011.0</td>\n",
              "      <td>Bayside</td>\n",
              "      <td>-37.93240</td>\n",
              "      <td>145.02350</td>\n",
              "      <td>Southern Metropolitan</td>\n",
              "      <td>5454.0</td>\n",
              "    </tr>\n",
              "  </tbody>\n",
              "</table>\n",
              "</div>"
            ],
            "text/plain": [
              "                Suburb  ... Propertycount\n",
              "3427            Kealba  ...        1202.0\n",
              "834     Bentleigh East  ...       10969.0\n",
              "5044         Reservoir  ...       21650.0\n",
              "3590               Kew  ...       10331.0\n",
              "9423         Bayswater  ...        5030.0\n",
              "1855   Caulfield South  ...        5051.0\n",
              "11834    Taylors Lakes  ...        5336.0\n",
              "6415          Viewbank  ...        2698.0\n",
              "8817          Gisborne  ...        3376.0\n",
              "3018           Hampton  ...        5454.0\n",
              "\n",
              "[10 rows x 21 columns]"
            ]
          },
          "execution_count": 156,
          "metadata": {},
          "output_type": "execute_result"
        }
      ]
    },
    {
      "cell_type": "code",
      "metadata": {
        "id": "Z9UXG6VKNAZC"
      },
      "source": [
        "#Creating function to check there is parking or not\n",
        "def parking(car):\n",
        "  if car == 0.0:\n",
        "    return 'No Parking Place'\n",
        "  else :\n",
        "    return 'Have Parking Place'\n"
      ],
      "execution_count": null,
      "outputs": []
    },
    {
      "cell_type": "code",
      "metadata": {
        "id": "qoSoDW1CUelH"
      },
      "source": [
        "df_melb_data['Parking'] = df_melb_data['Car'].apply(parking)"
      ],
      "execution_count": null,
      "outputs": []
    },
    {
      "cell_type": "code",
      "metadata": {
        "colab": {
          "base_uri": "https://localhost:8080/"
        },
        "id": "SO0P9m9wUtUU",
        "outputId": "285f2fd9-2e68-4b7c-b9b3-f036599c6e82"
      },
      "source": [
        "df_melb_data['Parking']"
      ],
      "execution_count": null,
      "outputs": [
        {
          "data": {
            "text/plain": [
              "0        Have Parking Place\n",
              "1          No Parking Place\n",
              "2          No Parking Place\n",
              "3        Have Parking Place\n",
              "4        Have Parking Place\n",
              "                ...        \n",
              "13575    Have Parking Place\n",
              "13576    Have Parking Place\n",
              "13577    Have Parking Place\n",
              "13578    Have Parking Place\n",
              "13579    Have Parking Place\n",
              "Name: Parking, Length: 13580, dtype: object"
            ]
          },
          "execution_count": 159,
          "metadata": {},
          "output_type": "execute_result"
        }
      ]
    },
    {
      "cell_type": "code",
      "metadata": {
        "colab": {
          "base_uri": "https://localhost:8080/"
        },
        "id": "dlW5Uu7sU2Hj",
        "outputId": "e5ac2b2c-6a33-4ef1-b8e6-3a263cee76c6"
      },
      "source": [
        "df_melb_data['Parking'].value_counts()"
      ],
      "execution_count": null,
      "outputs": [
        {
          "data": {
            "text/plain": [
              "Have Parking Place    12554\n",
              "No Parking Place       1026\n",
              "Name: Parking, dtype: int64"
            ]
          },
          "execution_count": 160,
          "metadata": {},
          "output_type": "execute_result"
        }
      ]
    },
    {
      "cell_type": "code",
      "metadata": {
        "colab": {
          "base_uri": "https://localhost:8080/"
        },
        "id": "3bSlHpG4U7Bk",
        "outputId": "48596bd8-752f-481d-c39c-589b3d1d87af"
      },
      "source": [
        "df_melb_data['Parking'].describe()"
      ],
      "execution_count": null,
      "outputs": [
        {
          "data": {
            "text/plain": [
              "count                  13580\n",
              "unique                     2\n",
              "top       Have Parking Place\n",
              "freq                   12554\n",
              "Name: Parking, dtype: object"
            ]
          },
          "execution_count": 161,
          "metadata": {},
          "output_type": "execute_result"
        }
      ]
    },
    {
      "cell_type": "code",
      "metadata": {
        "colab": {
          "base_uri": "https://localhost:8080/",
          "height": 719
        },
        "id": "LRJAqNRzVAbJ",
        "outputId": "a20a2084-5ead-4672-bb0a-6a97e6e4c966"
      },
      "source": [
        "df_melb_data.sample(10)"
      ],
      "execution_count": null,
      "outputs": [
        {
          "data": {
            "text/html": [
              "<div>\n",
              "<style scoped>\n",
              "    .dataframe tbody tr th:only-of-type {\n",
              "        vertical-align: middle;\n",
              "    }\n",
              "\n",
              "    .dataframe tbody tr th {\n",
              "        vertical-align: top;\n",
              "    }\n",
              "\n",
              "    .dataframe thead th {\n",
              "        text-align: right;\n",
              "    }\n",
              "</style>\n",
              "<table border=\"1\" class=\"dataframe\">\n",
              "  <thead>\n",
              "    <tr style=\"text-align: right;\">\n",
              "      <th></th>\n",
              "      <th>Suburb</th>\n",
              "      <th>Address</th>\n",
              "      <th>Rooms</th>\n",
              "      <th>Type</th>\n",
              "      <th>Price</th>\n",
              "      <th>Method</th>\n",
              "      <th>SellerG</th>\n",
              "      <th>Date</th>\n",
              "      <th>Distance</th>\n",
              "      <th>Postcode</th>\n",
              "      <th>Bedroom2</th>\n",
              "      <th>Bathroom</th>\n",
              "      <th>Car</th>\n",
              "      <th>Landsize</th>\n",
              "      <th>BuildingArea</th>\n",
              "      <th>YearBuilt</th>\n",
              "      <th>CouncilArea</th>\n",
              "      <th>Lattitude</th>\n",
              "      <th>Longtitude</th>\n",
              "      <th>Regionname</th>\n",
              "      <th>Propertycount</th>\n",
              "      <th>Parking</th>\n",
              "    </tr>\n",
              "  </thead>\n",
              "  <tbody>\n",
              "    <tr>\n",
              "      <th>11165</th>\n",
              "      <td>Prahran</td>\n",
              "      <td>4/24 Grandview Gr</td>\n",
              "      <td>1</td>\n",
              "      <td>u</td>\n",
              "      <td>400000.0</td>\n",
              "      <td>VB</td>\n",
              "      <td>hockingstuart</td>\n",
              "      <td>12/08/2017</td>\n",
              "      <td>4.6</td>\n",
              "      <td>3181.0</td>\n",
              "      <td>1.0</td>\n",
              "      <td>1.0</td>\n",
              "      <td>2.0</td>\n",
              "      <td>0.0</td>\n",
              "      <td>50.0</td>\n",
              "      <td>1960.0</td>\n",
              "      <td>Stonnington</td>\n",
              "      <td>-37.85126</td>\n",
              "      <td>145.00832</td>\n",
              "      <td>Southern Metropolitan</td>\n",
              "      <td>7717.0</td>\n",
              "      <td>Have Parking Place</td>\n",
              "    </tr>\n",
              "    <tr>\n",
              "      <th>1920</th>\n",
              "      <td>Coburg</td>\n",
              "      <td>12 Hardwick St</td>\n",
              "      <td>3</td>\n",
              "      <td>h</td>\n",
              "      <td>1010000.0</td>\n",
              "      <td>S</td>\n",
              "      <td>Jellis</td>\n",
              "      <td>4/03/2017</td>\n",
              "      <td>7.8</td>\n",
              "      <td>3058.0</td>\n",
              "      <td>3.0</td>\n",
              "      <td>2.0</td>\n",
              "      <td>1.0</td>\n",
              "      <td>278.0</td>\n",
              "      <td>278.0</td>\n",
              "      <td>NaN</td>\n",
              "      <td>Moreland</td>\n",
              "      <td>-37.74940</td>\n",
              "      <td>144.96860</td>\n",
              "      <td>Northern Metropolitan</td>\n",
              "      <td>11204.0</td>\n",
              "      <td>Have Parking Place</td>\n",
              "    </tr>\n",
              "    <tr>\n",
              "      <th>7214</th>\n",
              "      <td>Ormond</td>\n",
              "      <td>2/35 Leila Rd</td>\n",
              "      <td>2</td>\n",
              "      <td>u</td>\n",
              "      <td>617500.0</td>\n",
              "      <td>S</td>\n",
              "      <td>Biggin</td>\n",
              "      <td>28/05/2016</td>\n",
              "      <td>11.8</td>\n",
              "      <td>3204.0</td>\n",
              "      <td>2.0</td>\n",
              "      <td>1.0</td>\n",
              "      <td>1.0</td>\n",
              "      <td>94.0</td>\n",
              "      <td>91.0</td>\n",
              "      <td>1970.0</td>\n",
              "      <td>Glen Eira</td>\n",
              "      <td>-37.90110</td>\n",
              "      <td>145.04740</td>\n",
              "      <td>Southern Metropolitan</td>\n",
              "      <td>3578.0</td>\n",
              "      <td>Have Parking Place</td>\n",
              "    </tr>\n",
              "    <tr>\n",
              "      <th>1698</th>\n",
              "      <td>Carlton North</td>\n",
              "      <td>24/635 Drummond St</td>\n",
              "      <td>2</td>\n",
              "      <td>u</td>\n",
              "      <td>570000.0</td>\n",
              "      <td>S</td>\n",
              "      <td>hockingstuart</td>\n",
              "      <td>27/06/2016</td>\n",
              "      <td>3.2</td>\n",
              "      <td>3054.0</td>\n",
              "      <td>2.0</td>\n",
              "      <td>1.0</td>\n",
              "      <td>1.0</td>\n",
              "      <td>0.0</td>\n",
              "      <td>76.0</td>\n",
              "      <td>1975.0</td>\n",
              "      <td>Yarra</td>\n",
              "      <td>-37.79020</td>\n",
              "      <td>144.97000</td>\n",
              "      <td>Northern Metropolitan</td>\n",
              "      <td>3106.0</td>\n",
              "      <td>Have Parking Place</td>\n",
              "    </tr>\n",
              "    <tr>\n",
              "      <th>6422</th>\n",
              "      <td>Viewbank</td>\n",
              "      <td>10/86 Graham Rd</td>\n",
              "      <td>2</td>\n",
              "      <td>u</td>\n",
              "      <td>546000.0</td>\n",
              "      <td>S</td>\n",
              "      <td>Miles</td>\n",
              "      <td>12/11/2016</td>\n",
              "      <td>13.8</td>\n",
              "      <td>3084.0</td>\n",
              "      <td>2.0</td>\n",
              "      <td>1.0</td>\n",
              "      <td>1.0</td>\n",
              "      <td>177.0</td>\n",
              "      <td>100.0</td>\n",
              "      <td>1975.0</td>\n",
              "      <td>Banyule</td>\n",
              "      <td>-37.73880</td>\n",
              "      <td>145.08100</td>\n",
              "      <td>Eastern Metropolitan</td>\n",
              "      <td>2698.0</td>\n",
              "      <td>Have Parking Place</td>\n",
              "    </tr>\n",
              "    <tr>\n",
              "      <th>5372</th>\n",
              "      <td>Richmond</td>\n",
              "      <td>5 Koorang La</td>\n",
              "      <td>3</td>\n",
              "      <td>h</td>\n",
              "      <td>1100000.0</td>\n",
              "      <td>PI</td>\n",
              "      <td>Biggin</td>\n",
              "      <td>18/06/2016</td>\n",
              "      <td>2.6</td>\n",
              "      <td>3121.0</td>\n",
              "      <td>3.0</td>\n",
              "      <td>2.0</td>\n",
              "      <td>1.0</td>\n",
              "      <td>66.0</td>\n",
              "      <td>118.0</td>\n",
              "      <td>2013.0</td>\n",
              "      <td>Yarra</td>\n",
              "      <td>-37.81810</td>\n",
              "      <td>145.00700</td>\n",
              "      <td>Northern Metropolitan</td>\n",
              "      <td>14949.0</td>\n",
              "      <td>Have Parking Place</td>\n",
              "    </tr>\n",
              "    <tr>\n",
              "      <th>9509</th>\n",
              "      <td>Eaglemont</td>\n",
              "      <td>10 Silverdale Rd</td>\n",
              "      <td>3</td>\n",
              "      <td>h</td>\n",
              "      <td>2270000.0</td>\n",
              "      <td>VB</td>\n",
              "      <td>Miles</td>\n",
              "      <td>17/06/2017</td>\n",
              "      <td>8.9</td>\n",
              "      <td>3084.0</td>\n",
              "      <td>3.0</td>\n",
              "      <td>1.0</td>\n",
              "      <td>2.0</td>\n",
              "      <td>1143.0</td>\n",
              "      <td>NaN</td>\n",
              "      <td>NaN</td>\n",
              "      <td>Banyule</td>\n",
              "      <td>-37.76774</td>\n",
              "      <td>145.05303</td>\n",
              "      <td>Eastern Metropolitan</td>\n",
              "      <td>1651.0</td>\n",
              "      <td>Have Parking Place</td>\n",
              "    </tr>\n",
              "    <tr>\n",
              "      <th>9574</th>\n",
              "      <td>Hawthorn</td>\n",
              "      <td>3 Johnson St</td>\n",
              "      <td>4</td>\n",
              "      <td>h</td>\n",
              "      <td>2053000.0</td>\n",
              "      <td>S</td>\n",
              "      <td>Abercromby's</td>\n",
              "      <td>17/06/2017</td>\n",
              "      <td>5.3</td>\n",
              "      <td>3122.0</td>\n",
              "      <td>4.0</td>\n",
              "      <td>3.0</td>\n",
              "      <td>2.0</td>\n",
              "      <td>354.0</td>\n",
              "      <td>NaN</td>\n",
              "      <td>NaN</td>\n",
              "      <td>Boroondara</td>\n",
              "      <td>-37.81691</td>\n",
              "      <td>145.03721</td>\n",
              "      <td>Southern Metropolitan</td>\n",
              "      <td>11308.0</td>\n",
              "      <td>Have Parking Place</td>\n",
              "    </tr>\n",
              "    <tr>\n",
              "      <th>10930</th>\n",
              "      <td>Broadmeadows</td>\n",
              "      <td>45 Cuthbert St</td>\n",
              "      <td>3</td>\n",
              "      <td>h</td>\n",
              "      <td>616000.0</td>\n",
              "      <td>S</td>\n",
              "      <td>YPA</td>\n",
              "      <td>12/08/2017</td>\n",
              "      <td>14.0</td>\n",
              "      <td>3047.0</td>\n",
              "      <td>3.0</td>\n",
              "      <td>1.0</td>\n",
              "      <td>1.0</td>\n",
              "      <td>695.0</td>\n",
              "      <td>NaN</td>\n",
              "      <td>NaN</td>\n",
              "      <td>Hume</td>\n",
              "      <td>-37.68489</td>\n",
              "      <td>144.93169</td>\n",
              "      <td>Northern Metropolitan</td>\n",
              "      <td>4294.0</td>\n",
              "      <td>Have Parking Place</td>\n",
              "    </tr>\n",
              "    <tr>\n",
              "      <th>9332</th>\n",
              "      <td>Southbank</td>\n",
              "      <td>2605/63 Whiteman St</td>\n",
              "      <td>2</td>\n",
              "      <td>u</td>\n",
              "      <td>590000.0</td>\n",
              "      <td>PI</td>\n",
              "      <td>MICM</td>\n",
              "      <td>3/06/2017</td>\n",
              "      <td>0.7</td>\n",
              "      <td>3006.0</td>\n",
              "      <td>2.0</td>\n",
              "      <td>2.0</td>\n",
              "      <td>1.0</td>\n",
              "      <td>0.0</td>\n",
              "      <td>NaN</td>\n",
              "      <td>2009.0</td>\n",
              "      <td>Melbourne</td>\n",
              "      <td>-37.82586</td>\n",
              "      <td>144.95700</td>\n",
              "      <td>Southern Metropolitan</td>\n",
              "      <td>8400.0</td>\n",
              "      <td>Have Parking Place</td>\n",
              "    </tr>\n",
              "  </tbody>\n",
              "</table>\n",
              "</div>"
            ],
            "text/plain": [
              "              Suburb              Address  ...  Propertycount             Parking\n",
              "11165        Prahran    4/24 Grandview Gr  ...         7717.0  Have Parking Place\n",
              "1920          Coburg       12 Hardwick St  ...        11204.0  Have Parking Place\n",
              "7214          Ormond        2/35 Leila Rd  ...         3578.0  Have Parking Place\n",
              "1698   Carlton North   24/635 Drummond St  ...         3106.0  Have Parking Place\n",
              "6422        Viewbank      10/86 Graham Rd  ...         2698.0  Have Parking Place\n",
              "5372        Richmond         5 Koorang La  ...        14949.0  Have Parking Place\n",
              "9509       Eaglemont     10 Silverdale Rd  ...         1651.0  Have Parking Place\n",
              "9574        Hawthorn         3 Johnson St  ...        11308.0  Have Parking Place\n",
              "10930   Broadmeadows       45 Cuthbert St  ...         4294.0  Have Parking Place\n",
              "9332       Southbank  2605/63 Whiteman St  ...         8400.0  Have Parking Place\n",
              "\n",
              "[10 rows x 22 columns]"
            ]
          },
          "execution_count": 162,
          "metadata": {},
          "output_type": "execute_result"
        }
      ]
    },
    {
      "cell_type": "code",
      "metadata": {
        "colab": {
          "base_uri": "https://localhost:8080/",
          "height": 741
        },
        "id": "ig2hguD8VLkk",
        "outputId": "df988e2d-bb85-4270-8dc4-3ef95b96d65e"
      },
      "source": [
        "sns.countplot(x=df_melb_data['Parking'])"
      ],
      "execution_count": null,
      "outputs": [
        {
          "data": {
            "text/plain": [
              "<matplotlib.axes._subplots.AxesSubplot at 0x7f084393ed50>"
            ]
          },
          "execution_count": 163,
          "metadata": {},
          "output_type": "execute_result"
        },
        {
          "data": {
            "image/png": "[encoded data removed]",
            "text/plain": [
              "<Figure size 864x864 with 1 Axes>"
            ]
          },
          "metadata": {},
          "output_type": "display_data"
        }
      ]
    },
    {
      "cell_type": "code",
      "metadata": {
        "id": "GdLOdhI0VTDA"
      },
      "source": [
        "df_sendy_logistics =pd.read_csv('/content/sendy_logistics.csv')"
      ],
      "execution_count": null,
      "outputs": []
    },
    {
      "cell_type": "code",
      "metadata": {
        "colab": {
          "base_uri": "https://localhost:8080/"
        },
        "id": "4X8bIx1_Vlom",
        "outputId": "1d393279-c679-447a-ce25-ff5c167d0c19"
      },
      "source": [
        "df_sendy_logistics.info()"
      ],
      "execution_count": null,
      "outputs": [
        {
          "name": "stdout",
          "output_type": "stream",
          "text": [
            "<class 'pandas.core.frame.DataFrame'>\n",
            "RangeIndex: 21201 entries, 0 to 21200\n",
            "Data columns (total 29 columns):\n",
            " #   Column                                     Non-Null Count  Dtype  \n",
            "---  ------                                     --------------  -----  \n",
            " 0   Order No                                   21201 non-null  object \n",
            " 1   User Id                                    21201 non-null  object \n",
            " 2   Vehicle Type                               21201 non-null  object \n",
            " 3   Platform Type                              21201 non-null  int64  \n",
            " 4   Personal or Business                       21201 non-null  object \n",
            " 5   Placement - Day of Month                   21201 non-null  int64  \n",
            " 6   Placement - Weekday (Mo = 1)               21201 non-null  int64  \n",
            " 7   Placement - Time                           21201 non-null  object \n",
            " 8   Confirmation - Day of Month                21201 non-null  int64  \n",
            " 9   Confirmation - Weekday (Mo = 1)            21201 non-null  int64  \n",
            " 10  Confirmation - Time                        21201 non-null  object \n",
            " 11  Arrival at Pickup - Day of Month           21201 non-null  int64  \n",
            " 12  Arrival at Pickup - Weekday (Mo = 1)       21201 non-null  int64  \n",
            " 13  Arrival at Pickup - Time                   21201 non-null  object \n",
            " 14  Pickup - Day of Month                      21201 non-null  int64  \n",
            " 15  Pickup - Weekday (Mo = 1)                  21201 non-null  int64  \n",
            " 16  Pickup - Time                              21201 non-null  object \n",
            " 17  Arrival at Destination - Day of Month      21201 non-null  int64  \n",
            " 18  Arrival at Destination - Weekday (Mo = 1)  21201 non-null  int64  \n",
            " 19  Arrival at Destination - Time              21201 non-null  object \n",
            " 20  Distance (KM)                              21201 non-null  int64  \n",
            " 21  Temperature                                16835 non-null  float64\n",
            " 22  Precipitation in millimeters               552 non-null    float64\n",
            " 23  Pickup Lat                                 21201 non-null  float64\n",
            " 24  Pickup Long                                21201 non-null  float64\n",
            " 25  Destination Lat                            21201 non-null  float64\n",
            " 26  Destination Long                           21201 non-null  float64\n",
            " 27  Rider Id                                   21201 non-null  object \n",
            " 28  Time from Pickup to Arrival                21201 non-null  int64  \n",
            "dtypes: float64(6), int64(13), object(10)\n",
            "memory usage: 4.7+ MB\n"
          ]
        }
      ]
    },
    {
      "cell_type": "code",
      "metadata": {
        "colab": {
          "base_uri": "https://localhost:8080/",
          "height": 791
        },
        "id": "LcXiuRIAVq3g",
        "outputId": "8dd10190-4328-43f5-9b61-56d0f758592e"
      },
      "source": [
        "df_sendy_logistics.describe().T"
      ],
      "execution_count": null,
      "outputs": [
        {
          "data": {
            "text/html": [
              "<div>\n",
              "<style scoped>\n",
              "    .dataframe tbody tr th:only-of-type {\n",
              "        vertical-align: middle;\n",
              "    }\n",
              "\n",
              "    .dataframe tbody tr th {\n",
              "        vertical-align: top;\n",
              "    }\n",
              "\n",
              "    .dataframe thead th {\n",
              "        text-align: right;\n",
              "    }\n",
              "</style>\n",
              "<table border=\"1\" class=\"dataframe\">\n",
              "  <thead>\n",
              "    <tr style=\"text-align: right;\">\n",
              "      <th></th>\n",
              "      <th>count</th>\n",
              "      <th>mean</th>\n",
              "      <th>std</th>\n",
              "      <th>min</th>\n",
              "      <th>25%</th>\n",
              "      <th>50%</th>\n",
              "      <th>75%</th>\n",
              "      <th>max</th>\n",
              "    </tr>\n",
              "  </thead>\n",
              "  <tbody>\n",
              "    <tr>\n",
              "      <th>Platform Type</th>\n",
              "      <td>21201.0</td>\n",
              "      <td>2.752182</td>\n",
              "      <td>0.625178</td>\n",
              "      <td>1.000000</td>\n",
              "      <td>3.000000</td>\n",
              "      <td>3.000000</td>\n",
              "      <td>3.000000</td>\n",
              "      <td>4.000000</td>\n",
              "    </tr>\n",
              "    <tr>\n",
              "      <th>Placement - Day of Month</th>\n",
              "      <td>21201.0</td>\n",
              "      <td>15.653696</td>\n",
              "      <td>8.798916</td>\n",
              "      <td>1.000000</td>\n",
              "      <td>8.000000</td>\n",
              "      <td>15.000000</td>\n",
              "      <td>23.000000</td>\n",
              "      <td>31.000000</td>\n",
              "    </tr>\n",
              "    <tr>\n",
              "      <th>Placement - Weekday (Mo = 1)</th>\n",
              "      <td>21201.0</td>\n",
              "      <td>3.240083</td>\n",
              "      <td>1.567295</td>\n",
              "      <td>1.000000</td>\n",
              "      <td>2.000000</td>\n",
              "      <td>3.000000</td>\n",
              "      <td>5.000000</td>\n",
              "      <td>7.000000</td>\n",
              "    </tr>\n",
              "    <tr>\n",
              "      <th>Confirmation - Day of Month</th>\n",
              "      <td>21201.0</td>\n",
              "      <td>15.653837</td>\n",
              "      <td>8.798886</td>\n",
              "      <td>1.000000</td>\n",
              "      <td>8.000000</td>\n",
              "      <td>15.000000</td>\n",
              "      <td>23.000000</td>\n",
              "      <td>31.000000</td>\n",
              "    </tr>\n",
              "    <tr>\n",
              "      <th>Confirmation - Weekday (Mo = 1)</th>\n",
              "      <td>21201.0</td>\n",
              "      <td>3.240225</td>\n",
              "      <td>1.567228</td>\n",
              "      <td>1.000000</td>\n",
              "      <td>2.000000</td>\n",
              "      <td>3.000000</td>\n",
              "      <td>5.000000</td>\n",
              "      <td>7.000000</td>\n",
              "    </tr>\n",
              "    <tr>\n",
              "      <th>Arrival at Pickup - Day of Month</th>\n",
              "      <td>21201.0</td>\n",
              "      <td>15.653837</td>\n",
              "      <td>8.798886</td>\n",
              "      <td>1.000000</td>\n",
              "      <td>8.000000</td>\n",
              "      <td>15.000000</td>\n",
              "      <td>23.000000</td>\n",
              "      <td>31.000000</td>\n",
              "    </tr>\n",
              "    <tr>\n",
              "      <th>Arrival at Pickup - Weekday (Mo = 1)</th>\n",
              "      <td>21201.0</td>\n",
              "      <td>3.240225</td>\n",
              "      <td>1.567228</td>\n",
              "      <td>1.000000</td>\n",
              "      <td>2.000000</td>\n",
              "      <td>3.000000</td>\n",
              "      <td>5.000000</td>\n",
              "      <td>7.000000</td>\n",
              "    </tr>\n",
              "    <tr>\n",
              "      <th>Pickup - Day of Month</th>\n",
              "      <td>21201.0</td>\n",
              "      <td>15.653837</td>\n",
              "      <td>8.798886</td>\n",
              "      <td>1.000000</td>\n",
              "      <td>8.000000</td>\n",
              "      <td>15.000000</td>\n",
              "      <td>23.000000</td>\n",
              "      <td>31.000000</td>\n",
              "    </tr>\n",
              "    <tr>\n",
              "      <th>Pickup - Weekday (Mo = 1)</th>\n",
              "      <td>21201.0</td>\n",
              "      <td>3.240225</td>\n",
              "      <td>1.567228</td>\n",
              "      <td>1.000000</td>\n",
              "      <td>2.000000</td>\n",
              "      <td>3.000000</td>\n",
              "      <td>5.000000</td>\n",
              "      <td>7.000000</td>\n",
              "    </tr>\n",
              "    <tr>\n",
              "      <th>Arrival at Destination - Day of Month</th>\n",
              "      <td>21201.0</td>\n",
              "      <td>15.653837</td>\n",
              "      <td>8.798886</td>\n",
              "      <td>1.000000</td>\n",
              "      <td>8.000000</td>\n",
              "      <td>15.000000</td>\n",
              "      <td>23.000000</td>\n",
              "      <td>31.000000</td>\n",
              "    </tr>\n",
              "    <tr>\n",
              "      <th>Arrival at Destination - Weekday (Mo = 1)</th>\n",
              "      <td>21201.0</td>\n",
              "      <td>3.240225</td>\n",
              "      <td>1.567228</td>\n",
              "      <td>1.000000</td>\n",
              "      <td>2.000000</td>\n",
              "      <td>3.000000</td>\n",
              "      <td>5.000000</td>\n",
              "      <td>7.000000</td>\n",
              "    </tr>\n",
              "    <tr>\n",
              "      <th>Distance (KM)</th>\n",
              "      <td>21201.0</td>\n",
              "      <td>9.506533</td>\n",
              "      <td>5.668963</td>\n",
              "      <td>1.000000</td>\n",
              "      <td>5.000000</td>\n",
              "      <td>8.000000</td>\n",
              "      <td>13.000000</td>\n",
              "      <td>49.000000</td>\n",
              "    </tr>\n",
              "    <tr>\n",
              "      <th>Temperature</th>\n",
              "      <td>16835.0</td>\n",
              "      <td>23.258889</td>\n",
              "      <td>3.615768</td>\n",
              "      <td>11.200000</td>\n",
              "      <td>20.600000</td>\n",
              "      <td>23.500000</td>\n",
              "      <td>26.000000</td>\n",
              "      <td>32.100000</td>\n",
              "    </tr>\n",
              "    <tr>\n",
              "      <th>Precipitation in millimeters</th>\n",
              "      <td>552.0</td>\n",
              "      <td>7.905797</td>\n",
              "      <td>17.089971</td>\n",
              "      <td>0.100000</td>\n",
              "      <td>1.075000</td>\n",
              "      <td>2.900000</td>\n",
              "      <td>4.900000</td>\n",
              "      <td>99.100000</td>\n",
              "    </tr>\n",
              "    <tr>\n",
              "      <th>Pickup Lat</th>\n",
              "      <td>21201.0</td>\n",
              "      <td>-1.281470</td>\n",
              "      <td>0.030507</td>\n",
              "      <td>-1.438302</td>\n",
              "      <td>-1.300921</td>\n",
              "      <td>-1.279395</td>\n",
              "      <td>-1.257147</td>\n",
              "      <td>-1.147170</td>\n",
              "    </tr>\n",
              "    <tr>\n",
              "      <th>Pickup Long</th>\n",
              "      <td>21201.0</td>\n",
              "      <td>36.811264</td>\n",
              "      <td>0.037473</td>\n",
              "      <td>36.653621</td>\n",
              "      <td>36.784605</td>\n",
              "      <td>36.807040</td>\n",
              "      <td>36.829741</td>\n",
              "      <td>36.991046</td>\n",
              "    </tr>\n",
              "    <tr>\n",
              "      <th>Destination Lat</th>\n",
              "      <td>21201.0</td>\n",
              "      <td>-1.282581</td>\n",
              "      <td>0.034824</td>\n",
              "      <td>-1.430298</td>\n",
              "      <td>-1.301201</td>\n",
              "      <td>-1.284382</td>\n",
              "      <td>-1.261177</td>\n",
              "      <td>-1.030225</td>\n",
              "    </tr>\n",
              "    <tr>\n",
              "      <th>Destination Long</th>\n",
              "      <td>21201.0</td>\n",
              "      <td>36.811220</td>\n",
              "      <td>0.044721</td>\n",
              "      <td>36.606594</td>\n",
              "      <td>36.785661</td>\n",
              "      <td>36.808002</td>\n",
              "      <td>36.829477</td>\n",
              "      <td>37.016779</td>\n",
              "    </tr>\n",
              "    <tr>\n",
              "      <th>Time from Pickup to Arrival</th>\n",
              "      <td>21201.0</td>\n",
              "      <td>1556.920947</td>\n",
              "      <td>987.270788</td>\n",
              "      <td>1.000000</td>\n",
              "      <td>882.000000</td>\n",
              "      <td>1369.000000</td>\n",
              "      <td>2040.000000</td>\n",
              "      <td>7883.000000</td>\n",
              "    </tr>\n",
              "  </tbody>\n",
              "</table>\n",
              "</div>"
            ],
            "text/plain": [
              "                                             count  ...          max\n",
              "Platform Type                              21201.0  ...     4.000000\n",
              "Placement - Day of Month                   21201.0  ...    31.000000\n",
              "Placement - Weekday (Mo = 1)               21201.0  ...     7.000000\n",
              "Confirmation - Day of Month                21201.0  ...    31.000000\n",
              "Confirmation - Weekday (Mo = 1)            21201.0  ...     7.000000\n",
              "Arrival at Pickup - Day of Month           21201.0  ...    31.000000\n",
              "Arrival at Pickup - Weekday (Mo = 1)       21201.0  ...     7.000000\n",
              "Pickup - Day of Month                      21201.0  ...    31.000000\n",
              "Pickup - Weekday (Mo = 1)                  21201.0  ...     7.000000\n",
              "Arrival at Destination - Day of Month      21201.0  ...    31.000000\n",
              "Arrival at Destination - Weekday (Mo = 1)  21201.0  ...     7.000000\n",
              "Distance (KM)                              21201.0  ...    49.000000\n",
              "Temperature                                16835.0  ...    32.100000\n",
              "Precipitation in millimeters                 552.0  ...    99.100000\n",
              "Pickup Lat                                 21201.0  ...    -1.147170\n",
              "Pickup Long                                21201.0  ...    36.991046\n",
              "Destination Lat                            21201.0  ...    -1.030225\n",
              "Destination Long                           21201.0  ...    37.016779\n",
              "Time from Pickup to Arrival                21201.0  ...  7883.000000\n",
              "\n",
              "[19 rows x 8 columns]"
            ]
          },
          "execution_count": 166,
          "metadata": {},
          "output_type": "execute_result"
        }
      ]
    },
    {
      "cell_type": "code",
      "metadata": {
        "colab": {
          "base_uri": "https://localhost:8080/",
          "height": 651
        },
        "id": "7Ssg56RBV-if",
        "outputId": "884de571-a487-4345-8d31-3e535f9b67f8"
      },
      "source": [
        "df_sendy_logistics.sample(10)"
      ],
      "execution_count": null,
      "outputs": [
        {
          "data": {
            "text/html": [
              "<div>\n",
              "<style scoped>\n",
              "    .dataframe tbody tr th:only-of-type {\n",
              "        vertical-align: middle;\n",
              "    }\n",
              "\n",
              "    .dataframe tbody tr th {\n",
              "        vertical-align: top;\n",
              "    }\n",
              "\n",
              "    .dataframe thead th {\n",
              "        text-align: right;\n",
              "    }\n",
              "</style>\n",
              "<table border=\"1\" class=\"dataframe\">\n",
              "  <thead>\n",
              "    <tr style=\"text-align: right;\">\n",
              "      <th></th>\n",
              "      <th>Order No</th>\n",
              "      <th>User Id</th>\n",
              "      <th>Vehicle Type</th>\n",
              "      <th>Platform Type</th>\n",
              "      <th>Personal or Business</th>\n",
              "      <th>Placement - Day of Month</th>\n",
              "      <th>Placement - Weekday (Mo = 1)</th>\n",
              "      <th>Placement - Time</th>\n",
              "      <th>Confirmation - Day of Month</th>\n",
              "      <th>Confirmation - Weekday (Mo = 1)</th>\n",
              "      <th>Confirmation - Time</th>\n",
              "      <th>Arrival at Pickup - Day of Month</th>\n",
              "      <th>Arrival at Pickup - Weekday (Mo = 1)</th>\n",
              "      <th>Arrival at Pickup - Time</th>\n",
              "      <th>Pickup - Day of Month</th>\n",
              "      <th>Pickup - Weekday (Mo = 1)</th>\n",
              "      <th>Pickup - Time</th>\n",
              "      <th>Arrival at Destination - Day of Month</th>\n",
              "      <th>Arrival at Destination - Weekday (Mo = 1)</th>\n",
              "      <th>Arrival at Destination - Time</th>\n",
              "      <th>Distance (KM)</th>\n",
              "      <th>Temperature</th>\n",
              "      <th>Precipitation in millimeters</th>\n",
              "      <th>Pickup Lat</th>\n",
              "      <th>Pickup Long</th>\n",
              "      <th>Destination Lat</th>\n",
              "      <th>Destination Long</th>\n",
              "      <th>Rider Id</th>\n",
              "      <th>Time from Pickup to Arrival</th>\n",
              "    </tr>\n",
              "  </thead>\n",
              "  <tbody>\n",
              "    <tr>\n",
              "      <th>13255</th>\n",
              "      <td>Order_No_220</td>\n",
              "      <td>User_Id_649</td>\n",
              "      <td>Bike</td>\n",
              "      <td>3</td>\n",
              "      <td>Business</td>\n",
              "      <td>26</td>\n",
              "      <td>5</td>\n",
              "      <td>3:05:01 PM</td>\n",
              "      <td>26</td>\n",
              "      <td>5</td>\n",
              "      <td>3:07:11 PM</td>\n",
              "      <td>26</td>\n",
              "      <td>5</td>\n",
              "      <td>3:20:54 PM</td>\n",
              "      <td>26</td>\n",
              "      <td>5</td>\n",
              "      <td>3:41:51 PM</td>\n",
              "      <td>26</td>\n",
              "      <td>5</td>\n",
              "      <td>4:01:46 PM</td>\n",
              "      <td>7</td>\n",
              "      <td>NaN</td>\n",
              "      <td>NaN</td>\n",
              "      <td>-1.290179</td>\n",
              "      <td>36.824294</td>\n",
              "      <td>-1.255189</td>\n",
              "      <td>36.782203</td>\n",
              "      <td>Rider_Id_19</td>\n",
              "      <td>1195</td>\n",
              "    </tr>\n",
              "    <tr>\n",
              "      <th>12715</th>\n",
              "      <td>Order_No_16</td>\n",
              "      <td>User_Id_346</td>\n",
              "      <td>Bike</td>\n",
              "      <td>3</td>\n",
              "      <td>Business</td>\n",
              "      <td>5</td>\n",
              "      <td>2</td>\n",
              "      <td>12:07:03 PM</td>\n",
              "      <td>5</td>\n",
              "      <td>2</td>\n",
              "      <td>12:13:37 PM</td>\n",
              "      <td>5</td>\n",
              "      <td>2</td>\n",
              "      <td>12:13:49 PM</td>\n",
              "      <td>5</td>\n",
              "      <td>2</td>\n",
              "      <td>12:31:54 PM</td>\n",
              "      <td>5</td>\n",
              "      <td>2</td>\n",
              "      <td>12:32:02 PM</td>\n",
              "      <td>3</td>\n",
              "      <td>23.8</td>\n",
              "      <td>NaN</td>\n",
              "      <td>-1.288780</td>\n",
              "      <td>36.816831</td>\n",
              "      <td>-1.267659</td>\n",
              "      <td>36.810394</td>\n",
              "      <td>Rider_Id_70</td>\n",
              "      <td>8</td>\n",
              "    </tr>\n",
              "    <tr>\n",
              "      <th>13339</th>\n",
              "      <td>Order_No_6097</td>\n",
              "      <td>User_Id_2822</td>\n",
              "      <td>Bike</td>\n",
              "      <td>1</td>\n",
              "      <td>Personal</td>\n",
              "      <td>13</td>\n",
              "      <td>4</td>\n",
              "      <td>1:49:46 PM</td>\n",
              "      <td>13</td>\n",
              "      <td>4</td>\n",
              "      <td>2:25:16 PM</td>\n",
              "      <td>13</td>\n",
              "      <td>4</td>\n",
              "      <td>2:36:43 PM</td>\n",
              "      <td>13</td>\n",
              "      <td>4</td>\n",
              "      <td>2:44:09 PM</td>\n",
              "      <td>13</td>\n",
              "      <td>4</td>\n",
              "      <td>3:09:13 PM</td>\n",
              "      <td>6</td>\n",
              "      <td>26.7</td>\n",
              "      <td>NaN</td>\n",
              "      <td>-1.286350</td>\n",
              "      <td>36.827793</td>\n",
              "      <td>-1.288148</td>\n",
              "      <td>36.785028</td>\n",
              "      <td>Rider_Id_713</td>\n",
              "      <td>1504</td>\n",
              "    </tr>\n",
              "    <tr>\n",
              "      <th>746</th>\n",
              "      <td>Order_No_23427</td>\n",
              "      <td>User_Id_788</td>\n",
              "      <td>Bike</td>\n",
              "      <td>3</td>\n",
              "      <td>Business</td>\n",
              "      <td>10</td>\n",
              "      <td>1</td>\n",
              "      <td>1:59:18 PM</td>\n",
              "      <td>10</td>\n",
              "      <td>1</td>\n",
              "      <td>2:03:49 PM</td>\n",
              "      <td>10</td>\n",
              "      <td>1</td>\n",
              "      <td>2:15:42 PM</td>\n",
              "      <td>10</td>\n",
              "      <td>1</td>\n",
              "      <td>2:33:47 PM</td>\n",
              "      <td>10</td>\n",
              "      <td>1</td>\n",
              "      <td>2:59:03 PM</td>\n",
              "      <td>8</td>\n",
              "      <td>18.6</td>\n",
              "      <td>NaN</td>\n",
              "      <td>-1.257147</td>\n",
              "      <td>36.795063</td>\n",
              "      <td>-1.225322</td>\n",
              "      <td>36.808550</td>\n",
              "      <td>Rider_Id_755</td>\n",
              "      <td>1516</td>\n",
              "    </tr>\n",
              "    <tr>\n",
              "      <th>13287</th>\n",
              "      <td>Order_No_21190</td>\n",
              "      <td>User_Id_393</td>\n",
              "      <td>Bike</td>\n",
              "      <td>3</td>\n",
              "      <td>Business</td>\n",
              "      <td>13</td>\n",
              "      <td>4</td>\n",
              "      <td>9:56:54 AM</td>\n",
              "      <td>13</td>\n",
              "      <td>4</td>\n",
              "      <td>9:57:12 AM</td>\n",
              "      <td>13</td>\n",
              "      <td>4</td>\n",
              "      <td>9:59:28 AM</td>\n",
              "      <td>13</td>\n",
              "      <td>4</td>\n",
              "      <td>10:08:23 AM</td>\n",
              "      <td>13</td>\n",
              "      <td>4</td>\n",
              "      <td>10:50:18 AM</td>\n",
              "      <td>14</td>\n",
              "      <td>18.7</td>\n",
              "      <td>NaN</td>\n",
              "      <td>-1.322800</td>\n",
              "      <td>36.830644</td>\n",
              "      <td>-1.299144</td>\n",
              "      <td>36.752880</td>\n",
              "      <td>Rider_Id_157</td>\n",
              "      <td>2515</td>\n",
              "    </tr>\n",
              "    <tr>\n",
              "      <th>1768</th>\n",
              "      <td>Order_No_4187</td>\n",
              "      <td>User_Id_1502</td>\n",
              "      <td>Bike</td>\n",
              "      <td>3</td>\n",
              "      <td>Business</td>\n",
              "      <td>11</td>\n",
              "      <td>2</td>\n",
              "      <td>2:51:40 PM</td>\n",
              "      <td>11</td>\n",
              "      <td>2</td>\n",
              "      <td>2:52:01 PM</td>\n",
              "      <td>11</td>\n",
              "      <td>2</td>\n",
              "      <td>2:59:35 PM</td>\n",
              "      <td>11</td>\n",
              "      <td>2</td>\n",
              "      <td>3:05:00 PM</td>\n",
              "      <td>11</td>\n",
              "      <td>2</td>\n",
              "      <td>3:47:43 PM</td>\n",
              "      <td>19</td>\n",
              "      <td>22.1</td>\n",
              "      <td>NaN</td>\n",
              "      <td>-1.301446</td>\n",
              "      <td>36.766138</td>\n",
              "      <td>-1.223212</td>\n",
              "      <td>36.893255</td>\n",
              "      <td>Rider_Id_65</td>\n",
              "      <td>2563</td>\n",
              "    </tr>\n",
              "    <tr>\n",
              "      <th>20472</th>\n",
              "      <td>Order_No_17645</td>\n",
              "      <td>User_Id_868</td>\n",
              "      <td>Bike</td>\n",
              "      <td>3</td>\n",
              "      <td>Business</td>\n",
              "      <td>13</td>\n",
              "      <td>6</td>\n",
              "      <td>1:48:59 PM</td>\n",
              "      <td>13</td>\n",
              "      <td>6</td>\n",
              "      <td>1:49:14 PM</td>\n",
              "      <td>13</td>\n",
              "      <td>6</td>\n",
              "      <td>1:49:56 PM</td>\n",
              "      <td>13</td>\n",
              "      <td>6</td>\n",
              "      <td>2:08:30 PM</td>\n",
              "      <td>13</td>\n",
              "      <td>6</td>\n",
              "      <td>2:18:41 PM</td>\n",
              "      <td>4</td>\n",
              "      <td>27.5</td>\n",
              "      <td>NaN</td>\n",
              "      <td>-1.260093</td>\n",
              "      <td>36.808869</td>\n",
              "      <td>-1.265715</td>\n",
              "      <td>36.823815</td>\n",
              "      <td>Rider_Id_72</td>\n",
              "      <td>611</td>\n",
              "    </tr>\n",
              "    <tr>\n",
              "      <th>5795</th>\n",
              "      <td>Order_No_15282</td>\n",
              "      <td>User_Id_552</td>\n",
              "      <td>Bike</td>\n",
              "      <td>3</td>\n",
              "      <td>Business</td>\n",
              "      <td>11</td>\n",
              "      <td>1</td>\n",
              "      <td>11:02:50 AM</td>\n",
              "      <td>11</td>\n",
              "      <td>1</td>\n",
              "      <td>11:11:04 AM</td>\n",
              "      <td>11</td>\n",
              "      <td>1</td>\n",
              "      <td>11:37:21 AM</td>\n",
              "      <td>11</td>\n",
              "      <td>1</td>\n",
              "      <td>12:02:14 PM</td>\n",
              "      <td>11</td>\n",
              "      <td>1</td>\n",
              "      <td>12:54:51 PM</td>\n",
              "      <td>21</td>\n",
              "      <td>26.4</td>\n",
              "      <td>NaN</td>\n",
              "      <td>-1.257147</td>\n",
              "      <td>36.795063</td>\n",
              "      <td>-1.335477</td>\n",
              "      <td>36.930830</td>\n",
              "      <td>Rider_Id_935</td>\n",
              "      <td>3157</td>\n",
              "    </tr>\n",
              "    <tr>\n",
              "      <th>8746</th>\n",
              "      <td>Order_No_24773</td>\n",
              "      <td>User_Id_1675</td>\n",
              "      <td>Bike</td>\n",
              "      <td>1</td>\n",
              "      <td>Personal</td>\n",
              "      <td>15</td>\n",
              "      <td>3</td>\n",
              "      <td>9:58:33 AM</td>\n",
              "      <td>15</td>\n",
              "      <td>3</td>\n",
              "      <td>10:00:47 AM</td>\n",
              "      <td>15</td>\n",
              "      <td>3</td>\n",
              "      <td>10:11:31 AM</td>\n",
              "      <td>15</td>\n",
              "      <td>3</td>\n",
              "      <td>10:16:14 AM</td>\n",
              "      <td>15</td>\n",
              "      <td>3</td>\n",
              "      <td>10:55:20 AM</td>\n",
              "      <td>8</td>\n",
              "      <td>16.3</td>\n",
              "      <td>NaN</td>\n",
              "      <td>-1.296797</td>\n",
              "      <td>36.776453</td>\n",
              "      <td>-1.285064</td>\n",
              "      <td>36.817945</td>\n",
              "      <td>Rider_Id_674</td>\n",
              "      <td>2346</td>\n",
              "    </tr>\n",
              "    <tr>\n",
              "      <th>9647</th>\n",
              "      <td>Order_No_20556</td>\n",
              "      <td>User_Id_1527</td>\n",
              "      <td>Bike</td>\n",
              "      <td>3</td>\n",
              "      <td>Business</td>\n",
              "      <td>25</td>\n",
              "      <td>6</td>\n",
              "      <td>11:45:56 AM</td>\n",
              "      <td>25</td>\n",
              "      <td>6</td>\n",
              "      <td>11:47:23 AM</td>\n",
              "      <td>25</td>\n",
              "      <td>6</td>\n",
              "      <td>11:51:43 AM</td>\n",
              "      <td>25</td>\n",
              "      <td>6</td>\n",
              "      <td>12:06:03 PM</td>\n",
              "      <td>25</td>\n",
              "      <td>6</td>\n",
              "      <td>12:47:39 PM</td>\n",
              "      <td>4</td>\n",
              "      <td>NaN</td>\n",
              "      <td>NaN</td>\n",
              "      <td>-1.307787</td>\n",
              "      <td>36.844321</td>\n",
              "      <td>-1.300406</td>\n",
              "      <td>36.829741</td>\n",
              "      <td>Rider_Id_448</td>\n",
              "      <td>2496</td>\n",
              "    </tr>\n",
              "  </tbody>\n",
              "</table>\n",
              "</div>"
            ],
            "text/plain": [
              "             Order No       User Id  ...      Rider Id  Time from Pickup to Arrival\n",
              "13255    Order_No_220   User_Id_649  ...   Rider_Id_19                         1195\n",
              "12715     Order_No_16   User_Id_346  ...   Rider_Id_70                            8\n",
              "13339   Order_No_6097  User_Id_2822  ...  Rider_Id_713                         1504\n",
              "746    Order_No_23427   User_Id_788  ...  Rider_Id_755                         1516\n",
              "13287  Order_No_21190   User_Id_393  ...  Rider_Id_157                         2515\n",
              "1768    Order_No_4187  User_Id_1502  ...   Rider_Id_65                         2563\n",
              "20472  Order_No_17645   User_Id_868  ...   Rider_Id_72                          611\n",
              "5795   Order_No_15282   User_Id_552  ...  Rider_Id_935                         3157\n",
              "8746   Order_No_24773  User_Id_1675  ...  Rider_Id_674                         2346\n",
              "9647   Order_No_20556  User_Id_1527  ...  Rider_Id_448                         2496\n",
              "\n",
              "[10 rows x 29 columns]"
            ]
          },
          "execution_count": 167,
          "metadata": {},
          "output_type": "execute_result"
        }
      ]
    },
    {
      "cell_type": "code",
      "metadata": {
        "id": "tK854azYVv-2"
      },
      "source": [
        "# create cloumn for calculating speed \n",
        "df_sendy_logistics['Speed (KM/M)'] = (df_sendy_logistics['Distance (KM)']) / (df_sendy_logistics['Time from Pickup to Arrival']/60)"
      ],
      "execution_count": null,
      "outputs": []
    },
    {
      "cell_type": "code",
      "metadata": {
        "colab": {
          "base_uri": "https://localhost:8080/"
        },
        "id": "wH3GlQSeWQTH",
        "outputId": "e289eb70-08e6-443b-9572-6adb2f3587fd"
      },
      "source": [
        "df_sendy_logistics['Speed (KM/M)']"
      ],
      "execution_count": null,
      "outputs": [
        {
          "data": {
            "text/plain": [
              "0         0.322148\n",
              "1         0.481686\n",
              "2         0.395604\n",
              "3         0.402685\n",
              "4         0.444811\n",
              "           ...    \n",
              "21196    20.000000\n",
              "21197     0.545455\n",
              "21198     0.406366\n",
              "21199     0.565217\n",
              "21200     0.338346\n",
              "Name: Speed (KM/M), Length: 21201, dtype: float64"
            ]
          },
          "execution_count": 169,
          "metadata": {},
          "output_type": "execute_result"
        }
      ]
    },
    {
      "cell_type": "code",
      "metadata": {
        "colab": {
          "base_uri": "https://localhost:8080/"
        },
        "id": "wdGKDJ61WfA7",
        "outputId": "9b8b6b63-8294-469b-f8c4-ef19acc91e15"
      },
      "source": [
        "df_sendy_logistics['Speed (KM/M)'].describe()"
      ],
      "execution_count": null,
      "outputs": [
        {
          "data": {
            "text/plain": [
              "count    21201.000000\n",
              "mean         4.155090\n",
              "std         31.754955\n",
              "min          0.015337\n",
              "25%          0.274390\n",
              "50%          0.384410\n",
              "75%          0.504808\n",
              "max       1020.000000\n",
              "Name: Speed (KM/M), dtype: float64"
            ]
          },
          "execution_count": 170,
          "metadata": {},
          "output_type": "execute_result"
        }
      ]
    },
    {
      "cell_type": "code",
      "metadata": {
        "colab": {
          "base_uri": "https://localhost:8080/",
          "height": 741
        },
        "id": "2VR1EA2QWnUs",
        "outputId": "0bedb34e-d7bc-4bc6-b133-772d09d322b4"
      },
      "source": [
        "sns.barplot(x =df_sendy_logistics['Personal or Business'] , y=df_sendy_logistics['Speed (KM/M)'] , estimator=np.mean)"
      ],
      "execution_count": null,
      "outputs": [
        {
          "data": {
            "text/plain": [
              "<matplotlib.axes._subplots.AxesSubplot at 0x7f08439297d0>"
            ]
          },
          "execution_count": 171,
          "metadata": {},
          "output_type": "execute_result"
        },
        {
          "data": {
            "image/png": "[encoded data removed]",
            "text/plain": [
              "<Figure size 864x864 with 1 Axes>"
            ]
          },
          "metadata": {},
          "output_type": "display_data"
        }
      ]
    },
    {
      "cell_type": "markdown",
      "metadata": {
        "id": "gVqQAoWiYkJI"
      },
      "source": [
        "# **2. Date and Time Features:-**\n",
        "\n",
        ">It's Process of Building an ordinal relationship between the values is very challenging for a machine learning algorithm if you leave the date columns without manipulation  It might be the reason for this, that \n",
        "dates can be present in numerous formats, which make it \n",
        "hard to understand by algorithms.\n",
        "\n",
        ">**So we can do the following :**\n",
        "  1. Extract day, hour, minute, seconds, quarter, month, year, etc.\n",
        "  2. Extract time-based features like evenings, noon, night time etc.\n",
        "  3.  Extract seasonal features like winter, summer, autumn.\n",
        "  4. Calculate time elapsed between two related Date features.noons, night time etc.\n",
        ".\n",
        "\n",
        "\n"
      ]
    },
    {
      "cell_type": "code",
      "metadata": {
        "id": "o4ue-vKtWt-3"
      },
      "source": [
        "df_911 = pd.read_csv('/content/911.csv')"
      ],
      "execution_count": null,
      "outputs": []
    },
    {
      "cell_type": "code",
      "metadata": {
        "colab": {
          "base_uri": "https://localhost:8080/"
        },
        "id": "u3f2t2YJ1_7I",
        "outputId": "bc21db9d-3703-48e6-d3fe-bd5bbc61606d"
      },
      "source": [
        "df_911.info()"
      ],
      "execution_count": null,
      "outputs": [
        {
          "name": "stdout",
          "output_type": "stream",
          "text": [
            "<class 'pandas.core.frame.DataFrame'>\n",
            "RangeIndex: 423909 entries, 0 to 423908\n",
            "Data columns (total 9 columns):\n",
            " #   Column     Non-Null Count   Dtype  \n",
            "---  ------     --------------   -----  \n",
            " 0   lat        423909 non-null  float64\n",
            " 1   lng        423909 non-null  float64\n",
            " 2   desc       423909 non-null  object \n",
            " 3   zip        371780 non-null  float64\n",
            " 4   title      423909 non-null  object \n",
            " 5   timeStamp  423909 non-null  object \n",
            " 6   twp        423750 non-null  object \n",
            " 7   addr       423909 non-null  object \n",
            " 8   e          423909 non-null  int64  \n",
            "dtypes: float64(3), int64(1), object(5)\n",
            "memory usage: 29.1+ MB\n"
          ]
        }
      ]
    },
    {
      "cell_type": "code",
      "metadata": {
        "colab": {
          "base_uri": "https://localhost:8080/",
          "height": 173
        },
        "id": "iTCPK0GA2DW8",
        "outputId": "1a3ec81c-5e8d-47eb-e2db-3f902a161b0a"
      },
      "source": [
        "df_911.describe().T"
      ],
      "execution_count": null,
      "outputs": [
        {
          "data": {
            "text/html": [
              "<div>\n",
              "<style scoped>\n",
              "    .dataframe tbody tr th:only-of-type {\n",
              "        vertical-align: middle;\n",
              "    }\n",
              "\n",
              "    .dataframe tbody tr th {\n",
              "        vertical-align: top;\n",
              "    }\n",
              "\n",
              "    .dataframe thead th {\n",
              "        text-align: right;\n",
              "    }\n",
              "</style>\n",
              "<table border=\"1\" class=\"dataframe\">\n",
              "  <thead>\n",
              "    <tr style=\"text-align: right;\">\n",
              "      <th></th>\n",
              "      <th>count</th>\n",
              "      <th>mean</th>\n",
              "      <th>std</th>\n",
              "      <th>min</th>\n",
              "      <th>25%</th>\n",
              "      <th>50%</th>\n",
              "      <th>75%</th>\n",
              "      <th>max</th>\n",
              "    </tr>\n",
              "  </thead>\n",
              "  <tbody>\n",
              "    <tr>\n",
              "      <th>lat</th>\n",
              "      <td>423909.0</td>\n",
              "      <td>40.158618</td>\n",
              "      <td>0.129170</td>\n",
              "      <td>0.000000</td>\n",
              "      <td>40.099784</td>\n",
              "      <td>40.143900</td>\n",
              "      <td>40.229008</td>\n",
              "      <td>51.335390</td>\n",
              "    </tr>\n",
              "    <tr>\n",
              "      <th>lng</th>\n",
              "      <td>423909.0</td>\n",
              "      <td>-75.314022</td>\n",
              "      <td>0.656048</td>\n",
              "      <td>-119.698206</td>\n",
              "      <td>-75.391547</td>\n",
              "      <td>-75.304563</td>\n",
              "      <td>-75.210760</td>\n",
              "      <td>87.854975</td>\n",
              "    </tr>\n",
              "    <tr>\n",
              "      <th>zip</th>\n",
              "      <td>371780.0</td>\n",
              "      <td>19234.732269</td>\n",
              "      <td>301.388898</td>\n",
              "      <td>3366.000000</td>\n",
              "      <td>19038.000000</td>\n",
              "      <td>19401.000000</td>\n",
              "      <td>19446.000000</td>\n",
              "      <td>77316.000000</td>\n",
              "    </tr>\n",
              "    <tr>\n",
              "      <th>e</th>\n",
              "      <td>423909.0</td>\n",
              "      <td>1.000000</td>\n",
              "      <td>0.000000</td>\n",
              "      <td>1.000000</td>\n",
              "      <td>1.000000</td>\n",
              "      <td>1.000000</td>\n",
              "      <td>1.000000</td>\n",
              "      <td>1.000000</td>\n",
              "    </tr>\n",
              "  </tbody>\n",
              "</table>\n",
              "</div>"
            ],
            "text/plain": [
              "        count          mean  ...           75%           max\n",
              "lat  423909.0     40.158618  ...     40.229008     51.335390\n",
              "lng  423909.0    -75.314022  ...    -75.210760     87.854975\n",
              "zip  371780.0  19234.732269  ...  19446.000000  77316.000000\n",
              "e    423909.0      1.000000  ...      1.000000      1.000000\n",
              "\n",
              "[4 rows x 8 columns]"
            ]
          },
          "execution_count": 174,
          "metadata": {},
          "output_type": "execute_result"
        }
      ]
    },
    {
      "cell_type": "code",
      "metadata": {
        "colab": {
          "base_uri": "https://localhost:8080/",
          "height": 920
        },
        "id": "wh9j2HBb2KHC",
        "outputId": "cdb14692-dc88-40d6-961a-9ab5f7d29fcc"
      },
      "source": [
        "df_911.sample(10)"
      ],
      "execution_count": null,
      "outputs": [
        {
          "data": {
            "text/html": [
              "<div>\n",
              "<style scoped>\n",
              "    .dataframe tbody tr th:only-of-type {\n",
              "        vertical-align: middle;\n",
              "    }\n",
              "\n",
              "    .dataframe tbody tr th {\n",
              "        vertical-align: top;\n",
              "    }\n",
              "\n",
              "    .dataframe thead th {\n",
              "        text-align: right;\n",
              "    }\n",
              "</style>\n",
              "<table border=\"1\" class=\"dataframe\">\n",
              "  <thead>\n",
              "    <tr style=\"text-align: right;\">\n",
              "      <th></th>\n",
              "      <th>lat</th>\n",
              "      <th>lng</th>\n",
              "      <th>desc</th>\n",
              "      <th>zip</th>\n",
              "      <th>title</th>\n",
              "      <th>timeStamp</th>\n",
              "      <th>twp</th>\n",
              "      <th>addr</th>\n",
              "      <th>e</th>\n",
              "    </tr>\n",
              "  </thead>\n",
              "  <tbody>\n",
              "    <tr>\n",
              "      <th>336630</th>\n",
              "      <td>40.143326</td>\n",
              "      <td>-75.422819</td>\n",
              "      <td>RT422  &amp; PAWLINGS RD OVERPASS; LOWER PROVIDENC...</td>\n",
              "      <td>NaN</td>\n",
              "      <td>Traffic: VEHICLE ACCIDENT -</td>\n",
              "      <td>2018-04-19 06:23:30</td>\n",
              "      <td>LOWER PROVIDENCE</td>\n",
              "      <td>RT422  &amp; PAWLINGS RD OVERPASS</td>\n",
              "      <td>1</td>\n",
              "    </tr>\n",
              "    <tr>\n",
              "      <th>261855</th>\n",
              "      <td>40.150861</td>\n",
              "      <td>-75.493956</td>\n",
              "      <td>OSPREY WAY &amp; BLUEBIRD DR;  UPPER PROVIDENCE; S...</td>\n",
              "      <td>19460.0</td>\n",
              "      <td>EMS: MEDICAL ALERT ALARM</td>\n",
              "      <td>2017-10-21 15:00:40</td>\n",
              "      <td>UPPER PROVIDENCE</td>\n",
              "      <td>OSPREY WAY &amp; BLUEBIRD DR</td>\n",
              "      <td>1</td>\n",
              "    </tr>\n",
              "    <tr>\n",
              "      <th>131935</th>\n",
              "      <td>40.097222</td>\n",
              "      <td>-75.376195</td>\n",
              "      <td>GULPH RD &amp; TURNPIKE OVERPASS; UPPER MERION; 20...</td>\n",
              "      <td>NaN</td>\n",
              "      <td>Traffic: VEHICLE ACCIDENT -</td>\n",
              "      <td>2016-11-16 08:11:46</td>\n",
              "      <td>UPPER MERION</td>\n",
              "      <td>GULPH RD &amp; TURNPIKE OVERPASS</td>\n",
              "      <td>1</td>\n",
              "    </tr>\n",
              "    <tr>\n",
              "      <th>2462</th>\n",
              "      <td>40.239436</td>\n",
              "      <td>-75.236238</td>\n",
              "      <td>COUNTRY CLUB DR &amp; DOYLESTOWN PIKE;  MONTGOMERY...</td>\n",
              "      <td>NaN</td>\n",
              "      <td>EMS: FALL VICTIM</td>\n",
              "      <td>2015-12-17 00:12:04</td>\n",
              "      <td>MONTGOMERY</td>\n",
              "      <td>COUNTRY CLUB DR &amp; DOYLESTOWN PIKE</td>\n",
              "      <td>1</td>\n",
              "    </tr>\n",
              "    <tr>\n",
              "      <th>245052</th>\n",
              "      <td>40.174563</td>\n",
              "      <td>-75.456036</td>\n",
              "      <td>LARCHWOOD CT &amp; PERKIOMEN BLVD;  UPPER PROVIDEN...</td>\n",
              "      <td>19426.0</td>\n",
              "      <td>EMS: SYNCOPAL EPISODE</td>\n",
              "      <td>2017-09-07 17:19:33</td>\n",
              "      <td>UPPER PROVIDENCE</td>\n",
              "      <td>LARCHWOOD CT &amp; PERKIOMEN BLVD</td>\n",
              "      <td>1</td>\n",
              "    </tr>\n",
              "    <tr>\n",
              "      <th>294141</th>\n",
              "      <td>40.155827</td>\n",
              "      <td>-75.365208</td>\n",
              "      <td>GERMANTOWN PIKE &amp; BRIDLE PATH RD; EAST NORRITO...</td>\n",
              "      <td>19403.0</td>\n",
              "      <td>Fire: FIRE ALARM</td>\n",
              "      <td>2018-01-07 21:47:38</td>\n",
              "      <td>EAST NORRITON</td>\n",
              "      <td>GERMANTOWN PIKE &amp; BRIDLE PATH RD</td>\n",
              "      <td>1</td>\n",
              "    </tr>\n",
              "    <tr>\n",
              "      <th>138385</th>\n",
              "      <td>40.103963</td>\n",
              "      <td>-75.147390</td>\n",
              "      <td>KESWICK AVE &amp; ABINGTON AVE;  ABINGTON; Station...</td>\n",
              "      <td>19038.0</td>\n",
              "      <td>EMS: FALL VICTIM</td>\n",
              "      <td>2016-12-01 16:11:07</td>\n",
              "      <td>ABINGTON</td>\n",
              "      <td>KESWICK AVE &amp; ABINGTON AVE</td>\n",
              "      <td>1</td>\n",
              "    </tr>\n",
              "    <tr>\n",
              "      <th>262049</th>\n",
              "      <td>40.133422</td>\n",
              "      <td>-75.372498</td>\n",
              "      <td>MARSHALL ST &amp; N SCHUYLKILL AVE; WEST NORRITON;...</td>\n",
              "      <td>19403.0</td>\n",
              "      <td>Traffic: VEHICLE ACCIDENT -</td>\n",
              "      <td>2017-10-22 03:03:54</td>\n",
              "      <td>WEST NORRITON</td>\n",
              "      <td>MARSHALL ST &amp; N SCHUYLKILL AVE</td>\n",
              "      <td>1</td>\n",
              "    </tr>\n",
              "    <tr>\n",
              "      <th>104196</th>\n",
              "      <td>40.244912</td>\n",
              "      <td>-75.644363</td>\n",
              "      <td>HIGH ST &amp; S FRANKLIN ST;  POTTSTOWN; Station 3...</td>\n",
              "      <td>19464.0</td>\n",
              "      <td>EMS: OVERDOSE</td>\n",
              "      <td>2016-09-07 12:53:04</td>\n",
              "      <td>POTTSTOWN</td>\n",
              "      <td>HIGH ST &amp; S FRANKLIN ST</td>\n",
              "      <td>1</td>\n",
              "    </tr>\n",
              "    <tr>\n",
              "      <th>49971</th>\n",
              "      <td>40.008680</td>\n",
              "      <td>-75.210760</td>\n",
              "      <td>PRESIDENTIAL BLVD &amp; E CITY AVE; LOWER MERION; ...</td>\n",
              "      <td>19004.0</td>\n",
              "      <td>Fire: WOODS/FIELD FIRE</td>\n",
              "      <td>2016-04-18 12:37:54</td>\n",
              "      <td>LOWER MERION</td>\n",
              "      <td>PRESIDENTIAL BLVD &amp; E CITY AVE</td>\n",
              "      <td>1</td>\n",
              "    </tr>\n",
              "  </tbody>\n",
              "</table>\n",
              "</div>"
            ],
            "text/plain": [
              "              lat        lng  ...                               addr  e\n",
              "336630  40.143326 -75.422819  ...      RT422  & PAWLINGS RD OVERPASS  1\n",
              "261855  40.150861 -75.493956  ...           OSPREY WAY & BLUEBIRD DR  1\n",
              "131935  40.097222 -75.376195  ...       GULPH RD & TURNPIKE OVERPASS  1\n",
              "2462    40.239436 -75.236238  ...  COUNTRY CLUB DR & DOYLESTOWN PIKE  1\n",
              "245052  40.174563 -75.456036  ...      LARCHWOOD CT & PERKIOMEN BLVD  1\n",
              "294141  40.155827 -75.365208  ...   GERMANTOWN PIKE & BRIDLE PATH RD  1\n",
              "138385  40.103963 -75.147390  ...         KESWICK AVE & ABINGTON AVE  1\n",
              "262049  40.133422 -75.372498  ...     MARSHALL ST & N SCHUYLKILL AVE  1\n",
              "104196  40.244912 -75.644363  ...            HIGH ST & S FRANKLIN ST  1\n",
              "49971   40.008680 -75.210760  ...     PRESIDENTIAL BLVD & E CITY AVE  1\n",
              "\n",
              "[10 rows x 9 columns]"
            ]
          },
          "execution_count": 175,
          "metadata": {},
          "output_type": "execute_result"
        }
      ]
    },
    {
      "cell_type": "code",
      "metadata": {
        "id": "l9eWu_h-4pL1"
      },
      "source": [
        "#Converting its type from object to datatime\n",
        "df_911[\"timeStamp\"] = pd.to_datetime(df_911[\"timeStamp\"])"
      ],
      "execution_count": null,
      "outputs": []
    },
    {
      "cell_type": "code",
      "metadata": {
        "id": "biN8TJIv2OTS"
      },
      "source": [
        "df_911['timeStamp'] = pd.to_datetime(df_911['timeStamp'],format='%m/%d/%Y %H:%M', errors=\"coerce\")\n",
        "# errors=\"coerce\" to put null values(nan) in empty rows in column\n",
        "# errors=\"ignore\" to ignore empty rows in column\n",
        "# errors=\"raise\" to raise  as found empty rows in column"
      ],
      "execution_count": null,
      "outputs": []
    },
    {
      "cell_type": "code",
      "metadata": {
        "colab": {
          "base_uri": "https://localhost:8080/"
        },
        "id": "yTN2mtqh20OK",
        "outputId": "57350004-3f79-4150-8800-930464798b60"
      },
      "source": [
        "df_911['timeStamp']"
      ],
      "execution_count": null,
      "outputs": [
        {
          "data": {
            "text/plain": [
              "0        2015-12-10 17:10:52\n",
              "1        2015-12-10 17:29:21\n",
              "2        2015-12-10 14:39:21\n",
              "3        2015-12-10 16:47:36\n",
              "4        2015-12-10 16:56:52\n",
              "                 ...        \n",
              "423904   2018-11-16 08:54:08\n",
              "423905   2018-11-16 08:53:32\n",
              "423906   2018-11-16 08:54:19\n",
              "423907   2018-11-16 08:51:48\n",
              "423908   2018-11-16 08:46:25\n",
              "Name: timeStamp, Length: 423909, dtype: datetime64[ns]"
            ]
          },
          "execution_count": 178,
          "metadata": {},
          "output_type": "execute_result"
        }
      ]
    },
    {
      "cell_type": "code",
      "metadata": {
        "id": "CtXbQLv83qxW"
      },
      "source": [
        "df_911['Date']= df_911['timeStamp'].dt.date\n",
        "df_911['Year'] = df_911['timeStamp'].dt.year\n",
        "df_911['Month'] = df_911['timeStamp'].dt.month\n",
        "df_911['Month_Name'] = df_911['timeStamp'].dt.month_name()\n",
        "df_911['Week'] =df_911['timeStamp'].dt.isocalendar().week\n",
        "df_911['Day'] = df_911['timeStamp'].dt.day\n",
        "df_911['Week_Day'] = df_911['timeStamp'].dt.weekday\n",
        "df_911['Day_Name'] = df_911['timeStamp'].dt.day_name()\n",
        "df_911['Hour'] = df_911['timeStamp'].dt.hour\n",
        "df_911['Minute'] = df_911['timeStamp'].dt.minute"
      ],
      "execution_count": null,
      "outputs": []
    },
    {
      "cell_type": "code",
      "metadata": {
        "colab": {
          "base_uri": "https://localhost:8080/",
          "height": 1000
        },
        "id": "r5HwZniX6JAt",
        "outputId": "3ff7bd38-72eb-489a-837a-ac95cd179b31"
      },
      "source": [
        "df_911.sample(10)"
      ],
      "execution_count": null,
      "outputs": [
        {
          "data": {
            "text/html": [
              "<div>\n",
              "<style scoped>\n",
              "    .dataframe tbody tr th:only-of-type {\n",
              "        vertical-align: middle;\n",
              "    }\n",
              "\n",
              "    .dataframe tbody tr th {\n",
              "        vertical-align: top;\n",
              "    }\n",
              "\n",
              "    .dataframe thead th {\n",
              "        text-align: right;\n",
              "    }\n",
              "</style>\n",
              "<table border=\"1\" class=\"dataframe\">\n",
              "  <thead>\n",
              "    <tr style=\"text-align: right;\">\n",
              "      <th></th>\n",
              "      <th>lat</th>\n",
              "      <th>lng</th>\n",
              "      <th>desc</th>\n",
              "      <th>zip</th>\n",
              "      <th>title</th>\n",
              "      <th>timeStamp</th>\n",
              "      <th>twp</th>\n",
              "      <th>addr</th>\n",
              "      <th>e</th>\n",
              "      <th>Date</th>\n",
              "      <th>Year</th>\n",
              "      <th>Month</th>\n",
              "      <th>Month_Name</th>\n",
              "      <th>Week</th>\n",
              "      <th>Day</th>\n",
              "      <th>Week_Day</th>\n",
              "      <th>Day_Name</th>\n",
              "      <th>Hour</th>\n",
              "      <th>Minute</th>\n",
              "    </tr>\n",
              "  </thead>\n",
              "  <tbody>\n",
              "    <tr>\n",
              "      <th>82441</th>\n",
              "      <td>40.224237</td>\n",
              "      <td>-75.319689</td>\n",
              "      <td>VALLEY FORGE RD &amp; JACKS LN; UPPER GWYNEDD; 201...</td>\n",
              "      <td>19446.0</td>\n",
              "      <td>Traffic: VEHICLE ACCIDENT -</td>\n",
              "      <td>2016-07-13 15:32:36</td>\n",
              "      <td>UPPER GWYNEDD</td>\n",
              "      <td>VALLEY FORGE RD &amp; JACKS LN</td>\n",
              "      <td>1</td>\n",
              "      <td>2016-07-13</td>\n",
              "      <td>2016</td>\n",
              "      <td>7</td>\n",
              "      <td>July</td>\n",
              "      <td>28</td>\n",
              "      <td>13</td>\n",
              "      <td>2</td>\n",
              "      <td>Wednesday</td>\n",
              "      <td>15</td>\n",
              "      <td>32</td>\n",
              "    </tr>\n",
              "    <tr>\n",
              "      <th>234735</th>\n",
              "      <td>40.092686</td>\n",
              "      <td>-75.137107</td>\n",
              "      <td>WEST AVE &amp; GREENWOOD AVE; JENKINTOWN; 2017-08-...</td>\n",
              "      <td>19046.0</td>\n",
              "      <td>Fire: GAS-ODOR/LEAK</td>\n",
              "      <td>2017-08-11 12:30:09</td>\n",
              "      <td>JENKINTOWN</td>\n",
              "      <td>WEST AVE &amp; GREENWOOD AVE</td>\n",
              "      <td>1</td>\n",
              "      <td>2017-08-11</td>\n",
              "      <td>2017</td>\n",
              "      <td>8</td>\n",
              "      <td>August</td>\n",
              "      <td>32</td>\n",
              "      <td>11</td>\n",
              "      <td>4</td>\n",
              "      <td>Friday</td>\n",
              "      <td>12</td>\n",
              "      <td>30</td>\n",
              "    </tr>\n",
              "    <tr>\n",
              "      <th>159409</th>\n",
              "      <td>40.097222</td>\n",
              "      <td>-75.376195</td>\n",
              "      <td>SCHUYLKILL EXPY &amp; WEADLEY RD OVERPASS;  UPPER ...</td>\n",
              "      <td>NaN</td>\n",
              "      <td>EMS: VEHICLE ACCIDENT</td>\n",
              "      <td>2017-01-25 00:40:48</td>\n",
              "      <td>UPPER MERION</td>\n",
              "      <td>SCHUYLKILL EXPY &amp; WEADLEY RD OVERPASS</td>\n",
              "      <td>1</td>\n",
              "      <td>2017-01-25</td>\n",
              "      <td>2017</td>\n",
              "      <td>1</td>\n",
              "      <td>January</td>\n",
              "      <td>4</td>\n",
              "      <td>25</td>\n",
              "      <td>2</td>\n",
              "      <td>Wednesday</td>\n",
              "      <td>0</td>\n",
              "      <td>40</td>\n",
              "    </tr>\n",
              "    <tr>\n",
              "      <th>370350</th>\n",
              "      <td>40.254768</td>\n",
              "      <td>-75.660459</td>\n",
              "      <td>ROBINSON ST &amp; SHOEMAKER RD;  POTTSTOWN; Statio...</td>\n",
              "      <td>19464.0</td>\n",
              "      <td>EMS: CARDIAC EMERGENCY</td>\n",
              "      <td>2018-07-12 09:54:07</td>\n",
              "      <td>POTTSTOWN</td>\n",
              "      <td>ROBINSON ST &amp; SHOEMAKER RD</td>\n",
              "      <td>1</td>\n",
              "      <td>2018-07-12</td>\n",
              "      <td>2018</td>\n",
              "      <td>7</td>\n",
              "      <td>July</td>\n",
              "      <td>28</td>\n",
              "      <td>12</td>\n",
              "      <td>3</td>\n",
              "      <td>Thursday</td>\n",
              "      <td>9</td>\n",
              "      <td>54</td>\n",
              "    </tr>\n",
              "    <tr>\n",
              "      <th>401684</th>\n",
              "      <td>40.206081</td>\n",
              "      <td>-75.224618</td>\n",
              "      <td>BETHLEHEM PIKE &amp; WELSH RD; HORSHAM; 2018-09-27...</td>\n",
              "      <td>19454.0</td>\n",
              "      <td>Traffic: VEHICLE ACCIDENT -</td>\n",
              "      <td>2018-09-27 21:01:58</td>\n",
              "      <td>HORSHAM</td>\n",
              "      <td>BETHLEHEM PIKE &amp; WELSH RD</td>\n",
              "      <td>1</td>\n",
              "      <td>2018-09-27</td>\n",
              "      <td>2018</td>\n",
              "      <td>9</td>\n",
              "      <td>September</td>\n",
              "      <td>39</td>\n",
              "      <td>27</td>\n",
              "      <td>3</td>\n",
              "      <td>Thursday</td>\n",
              "      <td>21</td>\n",
              "      <td>1</td>\n",
              "    </tr>\n",
              "    <tr>\n",
              "      <th>68033</th>\n",
              "      <td>40.158093</td>\n",
              "      <td>-75.229173</td>\n",
              "      <td>RAILROAD AVE &amp; OAK ST;  WHITPAIN; Station 385;...</td>\n",
              "      <td>19002.0</td>\n",
              "      <td>EMS: UNKNOWN MEDICAL EMERGENCY</td>\n",
              "      <td>2016-06-05 22:05:53</td>\n",
              "      <td>WHITPAIN</td>\n",
              "      <td>RAILROAD AVE &amp; OAK ST</td>\n",
              "      <td>1</td>\n",
              "      <td>2016-06-05</td>\n",
              "      <td>2016</td>\n",
              "      <td>6</td>\n",
              "      <td>June</td>\n",
              "      <td>22</td>\n",
              "      <td>5</td>\n",
              "      <td>6</td>\n",
              "      <td>Sunday</td>\n",
              "      <td>22</td>\n",
              "      <td>5</td>\n",
              "    </tr>\n",
              "    <tr>\n",
              "      <th>86650</th>\n",
              "      <td>40.176527</td>\n",
              "      <td>-75.207409</td>\n",
              "      <td>TENNIS AVE &amp; GIFT CIR; LOWER GWYNEDD; 2016-07-...</td>\n",
              "      <td>19002.0</td>\n",
              "      <td>Fire: FIRE ALARM</td>\n",
              "      <td>2016-07-24 07:26:28</td>\n",
              "      <td>LOWER GWYNEDD</td>\n",
              "      <td>TENNIS AVE &amp; GIFT CIR</td>\n",
              "      <td>1</td>\n",
              "      <td>2016-07-24</td>\n",
              "      <td>2016</td>\n",
              "      <td>7</td>\n",
              "      <td>July</td>\n",
              "      <td>29</td>\n",
              "      <td>24</td>\n",
              "      <td>6</td>\n",
              "      <td>Sunday</td>\n",
              "      <td>7</td>\n",
              "      <td>26</td>\n",
              "    </tr>\n",
              "    <tr>\n",
              "      <th>24203</th>\n",
              "      <td>40.242028</td>\n",
              "      <td>-75.283258</td>\n",
              "      <td>BROAD ST &amp; W 2ND ST; LANSDALE; 2016-02-09 @ 14...</td>\n",
              "      <td>19446.0</td>\n",
              "      <td>Traffic: VEHICLE ACCIDENT -</td>\n",
              "      <td>2016-02-09 14:22:16</td>\n",
              "      <td>LANSDALE</td>\n",
              "      <td>BROAD ST &amp; W 2ND ST</td>\n",
              "      <td>1</td>\n",
              "      <td>2016-02-09</td>\n",
              "      <td>2016</td>\n",
              "      <td>2</td>\n",
              "      <td>February</td>\n",
              "      <td>6</td>\n",
              "      <td>9</td>\n",
              "      <td>1</td>\n",
              "      <td>Tuesday</td>\n",
              "      <td>14</td>\n",
              "      <td>22</td>\n",
              "    </tr>\n",
              "    <tr>\n",
              "      <th>76876</th>\n",
              "      <td>40.254100</td>\n",
              "      <td>-75.338864</td>\n",
              "      <td>DOCK DR &amp; DETWILER RD;  TOWAMENCIN; Station 34...</td>\n",
              "      <td>19446.0</td>\n",
              "      <td>EMS: SYNCOPAL EPISODE</td>\n",
              "      <td>2016-06-28 14:35:23</td>\n",
              "      <td>TOWAMENCIN</td>\n",
              "      <td>DOCK DR &amp; DETWILER RD</td>\n",
              "      <td>1</td>\n",
              "      <td>2016-06-28</td>\n",
              "      <td>2016</td>\n",
              "      <td>6</td>\n",
              "      <td>June</td>\n",
              "      <td>26</td>\n",
              "      <td>28</td>\n",
              "      <td>1</td>\n",
              "      <td>Tuesday</td>\n",
              "      <td>14</td>\n",
              "      <td>35</td>\n",
              "    </tr>\n",
              "    <tr>\n",
              "      <th>246281</th>\n",
              "      <td>40.098936</td>\n",
              "      <td>-75.125868</td>\n",
              "      <td>YORK RD &amp; HILLSIDE AVE;  JENKINTOWN; Station 3...</td>\n",
              "      <td>19046.0</td>\n",
              "      <td>EMS: CARDIAC EMERGENCY</td>\n",
              "      <td>2017-09-11 11:39:19</td>\n",
              "      <td>JENKINTOWN</td>\n",
              "      <td>YORK RD &amp; HILLSIDE AVE</td>\n",
              "      <td>1</td>\n",
              "      <td>2017-09-11</td>\n",
              "      <td>2017</td>\n",
              "      <td>9</td>\n",
              "      <td>September</td>\n",
              "      <td>37</td>\n",
              "      <td>11</td>\n",
              "      <td>0</td>\n",
              "      <td>Monday</td>\n",
              "      <td>11</td>\n",
              "      <td>39</td>\n",
              "    </tr>\n",
              "  </tbody>\n",
              "</table>\n",
              "</div>"
            ],
            "text/plain": [
              "              lat        lng  ... Hour  Minute\n",
              "82441   40.224237 -75.319689  ...   15      32\n",
              "234735  40.092686 -75.137107  ...   12      30\n",
              "159409  40.097222 -75.376195  ...    0      40\n",
              "370350  40.254768 -75.660459  ...    9      54\n",
              "401684  40.206081 -75.224618  ...   21       1\n",
              "68033   40.158093 -75.229173  ...   22       5\n",
              "86650   40.176527 -75.207409  ...    7      26\n",
              "24203   40.242028 -75.283258  ...   14      22\n",
              "76876   40.254100 -75.338864  ...   14      35\n",
              "246281  40.098936 -75.125868  ...   11      39\n",
              "\n",
              "[10 rows x 19 columns]"
            ]
          },
          "execution_count": 180,
          "metadata": {},
          "output_type": "execute_result"
        }
      ]
    },
    {
      "cell_type": "code",
      "metadata": {
        "colab": {
          "base_uri": "https://localhost:8080/",
          "height": 741
        },
        "id": "vIcV6v9C6MnW",
        "outputId": "0eea7506-08c0-4064-f54e-2e2a168da3ee"
      },
      "source": [
        "sns.countplot(x=df_911[\"Year\"])\n",
        "\n"
      ],
      "execution_count": null,
      "outputs": [
        {
          "data": {
            "text/plain": [
              "<matplotlib.axes._subplots.AxesSubplot at 0x7f084392da10>"
            ]
          },
          "execution_count": 181,
          "metadata": {},
          "output_type": "execute_result"
        },
        {
          "data": {
            "image/png": "[encoded data removed]",
            "text/plain": [
              "<Figure size 864x864 with 1 Axes>"
            ]
          },
          "metadata": {},
          "output_type": "display_data"
        }
      ]
    },
    {
      "cell_type": "code",
      "metadata": {
        "colab": {
          "base_uri": "https://localhost:8080/",
          "height": 741
        },
        "id": "TILHHjJG7uk3",
        "outputId": "77d70e88-91a4-4b44-faa0-d7fb1894c07c"
      },
      "source": [
        "sns.countplot(x=df_911['Month_Name'])"
      ],
      "execution_count": null,
      "outputs": [
        {
          "data": {
            "text/plain": [
              "<matplotlib.axes._subplots.AxesSubplot at 0x7f0832c7e210>"
            ]
          },
          "execution_count": 182,
          "metadata": {},
          "output_type": "execute_result"
        },
        {
          "data": {
            "image/png": "[encoded data removed]",
            "text/plain": [
              "<Figure size 864x864 with 1 Axes>"
            ]
          },
          "metadata": {},
          "output_type": "display_data"
        }
      ]
    },
    {
      "cell_type": "code",
      "metadata": {
        "colab": {
          "base_uri": "https://localhost:8080/",
          "height": 741
        },
        "id": "ta6TlOb474hs",
        "outputId": "d3342dca-bd80-451c-e59c-d181109d2b5a"
      },
      "source": [
        "sns.countplot(x=df_911['Day_Name'])"
      ],
      "execution_count": null,
      "outputs": [
        {
          "data": {
            "text/plain": [
              "<matplotlib.axes._subplots.AxesSubplot at 0x7f0832c21e50>"
            ]
          },
          "execution_count": 183,
          "metadata": {},
          "output_type": "execute_result"
        },
        {
          "data": {
            "image/png": "[encoded data removed]",
            "text/plain": [
              "<Figure size 864x864 with 1 Axes>"
            ]
          },
          "metadata": {},
          "output_type": "display_data"
        }
      ]
    },
    {
      "cell_type": "code",
      "metadata": {
        "id": "fKu-NlFG8YhG"
      },
      "source": [
        "#Function for getting period of days\n",
        "def map_hours(x):\n",
        "    if x in range(0, 13):\n",
        "        return 'morning'\n",
        "    elif x in range(13, 19): \n",
        "        return 'afternoon'\n",
        "    else:\n",
        "        return 'evening'\n",
        "#Function for getting sessions in year    \n",
        "def map_months(x):\n",
        "    if x in [12, 1, 2]:\n",
        "        return 'Winter'\n",
        "    elif x in [3, 4, 5]:\n",
        "        return 'Spring'\n",
        "    elif x in [6, 7, 8]:\n",
        "        return 'Summer'\n",
        "    elif x in [9, 10, 11]:\n",
        "        return 'Autumn'\n"
      ],
      "execution_count": null,
      "outputs": []
    },
    {
      "cell_type": "code",
      "metadata": {
        "id": "LKVIa7Dd9zXw"
      },
      "source": [
        "df_911['Period'] = df_911['Hour'].apply(map_hours)"
      ],
      "execution_count": null,
      "outputs": []
    },
    {
      "cell_type": "code",
      "metadata": {
        "colab": {
          "base_uri": "https://localhost:8080/"
        },
        "id": "rKlUuBPP-a_Z",
        "outputId": "06934467-2705-4352-8ae4-350c0c15cf7f"
      },
      "source": [
        "df_911['Period']"
      ],
      "execution_count": null,
      "outputs": [
        {
          "data": {
            "text/plain": [
              "0         afternoon\n",
              "1         afternoon\n",
              "2         afternoon\n",
              "3         afternoon\n",
              "4         afternoon\n",
              "            ...    \n",
              "423904      morning\n",
              "423905      morning\n",
              "423906      morning\n",
              "423907      morning\n",
              "423908      morning\n",
              "Name: Period, Length: 423909, dtype: object"
            ]
          },
          "execution_count": 186,
          "metadata": {},
          "output_type": "execute_result"
        }
      ]
    },
    {
      "cell_type": "code",
      "metadata": {
        "colab": {
          "base_uri": "https://localhost:8080/"
        },
        "id": "pw1BWAAh-QRE",
        "outputId": "1ca34d16-ff94-4207-81dd-2ef09adae871"
      },
      "source": [
        "df_911['Period'].describe()"
      ],
      "execution_count": null,
      "outputs": [
        {
          "data": {
            "text/plain": [
              "count      423909\n",
              "unique          3\n",
              "top       morning\n",
              "freq       188183\n",
              "Name: Period, dtype: object"
            ]
          },
          "execution_count": 187,
          "metadata": {},
          "output_type": "execute_result"
        }
      ]
    },
    {
      "cell_type": "code",
      "metadata": {
        "colab": {
          "base_uri": "https://localhost:8080/"
        },
        "id": "UpPYgGol-U3W",
        "outputId": "a82515fd-f7f1-4aab-8e66-43d5fc8be4bc"
      },
      "source": [
        "df_911['Period'].value_counts()"
      ],
      "execution_count": null,
      "outputs": [
        {
          "data": {
            "text/plain": [
              "morning      188183\n",
              "afternoon    158014\n",
              "evening       77712\n",
              "Name: Period, dtype: int64"
            ]
          },
          "execution_count": 188,
          "metadata": {},
          "output_type": "execute_result"
        }
      ]
    },
    {
      "cell_type": "code",
      "metadata": {
        "colab": {
          "base_uri": "https://localhost:8080/",
          "height": 741
        },
        "id": "Ff7DMJbF-l_l",
        "outputId": "3bdb9a66-6072-4371-99ce-9cdc23bde832"
      },
      "source": [
        "sns.countplot(x=df_911['Period'])"
      ],
      "execution_count": null,
      "outputs": [
        {
          "data": {
            "text/plain": [
              "<matplotlib.axes._subplots.AxesSubplot at 0x7f0832c03110>"
            ]
          },
          "execution_count": 189,
          "metadata": {},
          "output_type": "execute_result"
        },
        {
          "data": {
            "image/png": "[encoded data removed]",
            "text/plain": [
              "<Figure size 864x864 with 1 Axes>"
            ]
          },
          "metadata": {},
          "output_type": "display_data"
        }
      ]
    },
    {
      "cell_type": "code",
      "metadata": {
        "id": "uMEjSesd-sTB"
      },
      "source": [
        "df_911['Season'] = df_911['Month'].apply(map_months)"
      ],
      "execution_count": null,
      "outputs": []
    },
    {
      "cell_type": "code",
      "metadata": {
        "colab": {
          "base_uri": "https://localhost:8080/"
        },
        "id": "srTJbqJ1_DQq",
        "outputId": "9a21febc-cf4a-438c-a835-6560b6b87a13"
      },
      "source": [
        "df_911['Season']"
      ],
      "execution_count": null,
      "outputs": [
        {
          "data": {
            "text/plain": [
              "0         Winter\n",
              "1         Winter\n",
              "2         Winter\n",
              "3         Winter\n",
              "4         Winter\n",
              "           ...  \n",
              "423904    Autumn\n",
              "423905    Autumn\n",
              "423906    Autumn\n",
              "423907    Autumn\n",
              "423908    Autumn\n",
              "Name: Season, Length: 423909, dtype: object"
            ]
          },
          "execution_count": 191,
          "metadata": {},
          "output_type": "execute_result"
        }
      ]
    },
    {
      "cell_type": "code",
      "metadata": {
        "colab": {
          "base_uri": "https://localhost:8080/"
        },
        "id": "XYVt2xVY_I59",
        "outputId": "44ccae10-ad0f-49f0-a62c-da3bb33e7706"
      },
      "source": [
        "df_911['Season'].describe()"
      ],
      "execution_count": null,
      "outputs": [
        {
          "data": {
            "text/plain": [
              "count     423909\n",
              "unique         4\n",
              "top       Summer\n",
              "freq      108548\n",
              "Name: Season, dtype: object"
            ]
          },
          "execution_count": 192,
          "metadata": {},
          "output_type": "execute_result"
        }
      ]
    },
    {
      "cell_type": "code",
      "metadata": {
        "colab": {
          "base_uri": "https://localhost:8080/"
        },
        "id": "iE_IoJ6d_RpQ",
        "outputId": "f63076ae-1517-4768-a2a7-8d1bbe26042e"
      },
      "source": [
        "df_911['Season'].value_counts()"
      ],
      "execution_count": null,
      "outputs": [
        {
          "data": {
            "text/plain": [
              "Summer    108548\n",
              "Spring    106893\n",
              "Autumn    104797\n",
              "Winter    103671\n",
              "Name: Season, dtype: int64"
            ]
          },
          "execution_count": 193,
          "metadata": {},
          "output_type": "execute_result"
        }
      ]
    },
    {
      "cell_type": "code",
      "metadata": {
        "colab": {
          "base_uri": "https://localhost:8080/",
          "height": 741
        },
        "id": "Jzep7JYL_YTA",
        "outputId": "ae12b3f3-0c67-4c16-e458-b442e3c7578c"
      },
      "source": [
        "sns.countplot(x=df_911['Season'])"
      ],
      "execution_count": null,
      "outputs": [
        {
          "data": {
            "text/plain": [
              "<matplotlib.axes._subplots.AxesSubplot at 0x7f0832bbe410>"
            ]
          },
          "execution_count": 194,
          "metadata": {},
          "output_type": "execute_result"
        },
        {
          "data": {
            "image/png": "[encoded data removed]",
            "text/plain": [
              "<Figure size 864x864 with 1 Axes>"
            ]
          },
          "metadata": {},
          "output_type": "display_data"
        }
      ]
    },
    {
      "cell_type": "code",
      "metadata": {
        "id": "Hhb0N9bQ9fMR"
      },
      "source": [
        "df_911['Elapsed_Years from WW2']  = (df_911['timeStamp']-datetime(1945, 9, 2  )) / np.timedelta64(1, 'Y') # could be Y, M, D, W, h, m, s"
      ],
      "execution_count": null,
      "outputs": []
    },
    {
      "cell_type": "code",
      "metadata": {
        "colab": {
          "base_uri": "https://localhost:8080/"
        },
        "id": "evSFLdkN_oNw",
        "outputId": "f26f463e-7a97-4e29-c8ec-9dbe02784101"
      },
      "source": [
        "df_911['Elapsed_Years from WW2']"
      ],
      "execution_count": null,
      "outputs": [
        {
          "data": {
            "text/plain": [
              "0         70.273081\n",
              "1         70.273116\n",
              "2         70.272793\n",
              "3         70.273037\n",
              "4         70.273055\n",
              "            ...    \n",
              "423904    73.207173\n",
              "423905    73.207172\n",
              "423906    73.207173\n",
              "423907    73.207169\n",
              "423908    73.207158\n",
              "Name: Elapsed_Years from WW2, Length: 423909, dtype: float64"
            ]
          },
          "execution_count": 196,
          "metadata": {},
          "output_type": "execute_result"
        }
      ]
    },
    {
      "cell_type": "code",
      "metadata": {
        "colab": {
          "base_uri": "https://localhost:8080/",
          "height": 940
        },
        "id": "H39S_JQiAV2i",
        "outputId": "5e61bd46-985a-4907-a4fa-e3e38019a7c8"
      },
      "source": [
        "df_911.sample(10)"
      ],
      "execution_count": null,
      "outputs": [
        {
          "data": {
            "text/html": [
              "<div>\n",
              "<style scoped>\n",
              "    .dataframe tbody tr th:only-of-type {\n",
              "        vertical-align: middle;\n",
              "    }\n",
              "\n",
              "    .dataframe tbody tr th {\n",
              "        vertical-align: top;\n",
              "    }\n",
              "\n",
              "    .dataframe thead th {\n",
              "        text-align: right;\n",
              "    }\n",
              "</style>\n",
              "<table border=\"1\" class=\"dataframe\">\n",
              "  <thead>\n",
              "    <tr style=\"text-align: right;\">\n",
              "      <th></th>\n",
              "      <th>lat</th>\n",
              "      <th>lng</th>\n",
              "      <th>desc</th>\n",
              "      <th>zip</th>\n",
              "      <th>title</th>\n",
              "      <th>timeStamp</th>\n",
              "      <th>twp</th>\n",
              "      <th>addr</th>\n",
              "      <th>e</th>\n",
              "      <th>Date</th>\n",
              "      <th>Year</th>\n",
              "      <th>Month</th>\n",
              "      <th>Month_Name</th>\n",
              "      <th>Week</th>\n",
              "      <th>Day</th>\n",
              "      <th>Week_Day</th>\n",
              "      <th>Day_Name</th>\n",
              "      <th>Hour</th>\n",
              "      <th>Minute</th>\n",
              "      <th>Period</th>\n",
              "      <th>Season</th>\n",
              "      <th>Elapsed_Years from WW2</th>\n",
              "    </tr>\n",
              "  </thead>\n",
              "  <tbody>\n",
              "    <tr>\n",
              "      <th>318356</th>\n",
              "      <td>40.085816</td>\n",
              "      <td>-75.093649</td>\n",
              "      <td>HUNTINGDON PIKE &amp; SAN DIEGO AVE;  ABINGTON; St...</td>\n",
              "      <td>19046.0</td>\n",
              "      <td>EMS: SEIZURES</td>\n",
              "      <td>2018-03-03 21:39:46</td>\n",
              "      <td>ABINGTON</td>\n",
              "      <td>HUNTINGDON PIKE &amp; SAN DIEGO AVE</td>\n",
              "      <td>1</td>\n",
              "      <td>2018-03-03</td>\n",
              "      <td>2018</td>\n",
              "      <td>3</td>\n",
              "      <td>March</td>\n",
              "      <td>9</td>\n",
              "      <td>3</td>\n",
              "      <td>5</td>\n",
              "      <td>Saturday</td>\n",
              "      <td>21</td>\n",
              "      <td>39</td>\n",
              "      <td>evening</td>\n",
              "      <td>Spring</td>\n",
              "      <td>72.502249</td>\n",
              "    </tr>\n",
              "    <tr>\n",
              "      <th>105619</th>\n",
              "      <td>40.121497</td>\n",
              "      <td>-75.339905</td>\n",
              "      <td>FREEDLEY ST &amp; JERVIS ALY;  NORRISTOWN; Station...</td>\n",
              "      <td>NaN</td>\n",
              "      <td>EMS: GENERAL WEAKNESS</td>\n",
              "      <td>2016-09-10 21:02:41</td>\n",
              "      <td>NORRISTOWN</td>\n",
              "      <td>FREEDLEY ST &amp; JERVIS ALY</td>\n",
              "      <td>1</td>\n",
              "      <td>2016-09-10</td>\n",
              "      <td>2016</td>\n",
              "      <td>9</td>\n",
              "      <td>September</td>\n",
              "      <td>36</td>\n",
              "      <td>10</td>\n",
              "      <td>5</td>\n",
              "      <td>Saturday</td>\n",
              "      <td>21</td>\n",
              "      <td>2</td>\n",
              "      <td>evening</td>\n",
              "      <td>Autumn</td>\n",
              "      <td>71.026446</td>\n",
              "    </tr>\n",
              "    <tr>\n",
              "      <th>311651</th>\n",
              "      <td>40.097222</td>\n",
              "      <td>-75.376195</td>\n",
              "      <td>PENNSYLVANIA TPKE &amp; COLBERT ST UNDERPASS; UPPE...</td>\n",
              "      <td>NaN</td>\n",
              "      <td>Traffic: DISABLED VEHICLE -</td>\n",
              "      <td>2018-02-20 13:30:55</td>\n",
              "      <td>UPPER MERION</td>\n",
              "      <td>PENNSYLVANIA TPKE &amp; COLBERT ST UNDERPASS</td>\n",
              "      <td>1</td>\n",
              "      <td>2018-02-20</td>\n",
              "      <td>2018</td>\n",
              "      <td>2</td>\n",
              "      <td>February</td>\n",
              "      <td>8</td>\n",
              "      <td>20</td>\n",
              "      <td>1</td>\n",
              "      <td>Tuesday</td>\n",
              "      <td>13</td>\n",
              "      <td>30</td>\n",
              "      <td>afternoon</td>\n",
              "      <td>Winter</td>\n",
              "      <td>72.471202</td>\n",
              "    </tr>\n",
              "    <tr>\n",
              "      <th>251770</th>\n",
              "      <td>40.364863</td>\n",
              "      <td>-75.592538</td>\n",
              "      <td>MILLER RD &amp; HOFFMANSVILLE RD;  DOUGLASS; Stati...</td>\n",
              "      <td>NaN</td>\n",
              "      <td>EMS: CARDIAC ARREST</td>\n",
              "      <td>2017-09-26 02:19:48</td>\n",
              "      <td>DOUGLASS</td>\n",
              "      <td>MILLER RD &amp; HOFFMANSVILLE RD</td>\n",
              "      <td>1</td>\n",
              "      <td>2017-09-26</td>\n",
              "      <td>2017</td>\n",
              "      <td>9</td>\n",
              "      <td>September</td>\n",
              "      <td>39</td>\n",
              "      <td>26</td>\n",
              "      <td>1</td>\n",
              "      <td>Tuesday</td>\n",
              "      <td>2</td>\n",
              "      <td>19</td>\n",
              "      <td>morning</td>\n",
              "      <td>Autumn</td>\n",
              "      <td>72.067454</td>\n",
              "    </tr>\n",
              "    <tr>\n",
              "      <th>266113</th>\n",
              "      <td>40.134074</td>\n",
              "      <td>-75.150432</td>\n",
              "      <td>FITZWATERTOWN RD &amp; ALPIN DR; UPPER DUBLIN; 201...</td>\n",
              "      <td>19025.0</td>\n",
              "      <td>Traffic: VEHICLE ACCIDENT -</td>\n",
              "      <td>2017-10-31 23:14:07</td>\n",
              "      <td>UPPER DUBLIN</td>\n",
              "      <td>FITZWATERTOWN RD &amp; ALPIN DR</td>\n",
              "      <td>1</td>\n",
              "      <td>2017-10-31</td>\n",
              "      <td>2017</td>\n",
              "      <td>10</td>\n",
              "      <td>October</td>\n",
              "      <td>44</td>\n",
              "      <td>31</td>\n",
              "      <td>1</td>\n",
              "      <td>Tuesday</td>\n",
              "      <td>23</td>\n",
              "      <td>14</td>\n",
              "      <td>evening</td>\n",
              "      <td>Autumn</td>\n",
              "      <td>72.165666</td>\n",
              "    </tr>\n",
              "    <tr>\n",
              "      <th>163028</th>\n",
              "      <td>40.129651</td>\n",
              "      <td>-75.435124</td>\n",
              "      <td>EGYPT RD &amp; SURREY LN; LOWER PROVIDENCE; 2017-0...</td>\n",
              "      <td>19403.0</td>\n",
              "      <td>Traffic: VEHICLE ACCIDENT -</td>\n",
              "      <td>2017-02-04 02:33:59</td>\n",
              "      <td>LOWER PROVIDENCE</td>\n",
              "      <td>EGYPT RD &amp; SURREY LN</td>\n",
              "      <td>1</td>\n",
              "      <td>2017-02-04</td>\n",
              "      <td>2017</td>\n",
              "      <td>2</td>\n",
              "      <td>February</td>\n",
              "      <td>5</td>\n",
              "      <td>4</td>\n",
              "      <td>5</td>\n",
              "      <td>Saturday</td>\n",
              "      <td>2</td>\n",
              "      <td>33</td>\n",
              "      <td>morning</td>\n",
              "      <td>Winter</td>\n",
              "      <td>71.426811</td>\n",
              "    </tr>\n",
              "    <tr>\n",
              "      <th>158529</th>\n",
              "      <td>40.069832</td>\n",
              "      <td>-75.316295</td>\n",
              "      <td>BLUEROUTE  &amp; RAMP I76 TO I476 NB; WEST CONSHOH...</td>\n",
              "      <td>NaN</td>\n",
              "      <td>Traffic: ROAD OBSTRUCTION -</td>\n",
              "      <td>2017-01-23 08:48:55</td>\n",
              "      <td>WEST CONSHOHOCKEN</td>\n",
              "      <td>BLUEROUTE  &amp; RAMP I76 TO I476 NB</td>\n",
              "      <td>1</td>\n",
              "      <td>2017-01-23</td>\n",
              "      <td>2017</td>\n",
              "      <td>1</td>\n",
              "      <td>January</td>\n",
              "      <td>4</td>\n",
              "      <td>23</td>\n",
              "      <td>0</td>\n",
              "      <td>Monday</td>\n",
              "      <td>8</td>\n",
              "      <td>48</td>\n",
              "      <td>morning</td>\n",
              "      <td>Winter</td>\n",
              "      <td>71.394669</td>\n",
              "    </tr>\n",
              "    <tr>\n",
              "      <th>175652</th>\n",
              "      <td>40.254768</td>\n",
              "      <td>-75.660459</td>\n",
              "      <td>ROBINSON ST &amp; SHOEMAKER RD;  POTTSTOWN; Statio...</td>\n",
              "      <td>19464.0</td>\n",
              "      <td>EMS: DIZZINESS</td>\n",
              "      <td>2017-03-10 10:55:56</td>\n",
              "      <td>POTTSTOWN</td>\n",
              "      <td>ROBINSON ST &amp; SHOEMAKER RD</td>\n",
              "      <td>1</td>\n",
              "      <td>2017-03-10</td>\n",
              "      <td>2017</td>\n",
              "      <td>3</td>\n",
              "      <td>March</td>\n",
              "      <td>10</td>\n",
              "      <td>10</td>\n",
              "      <td>4</td>\n",
              "      <td>Friday</td>\n",
              "      <td>10</td>\n",
              "      <td>55</td>\n",
              "      <td>morning</td>\n",
              "      <td>Spring</td>\n",
              "      <td>71.520854</td>\n",
              "    </tr>\n",
              "    <tr>\n",
              "      <th>29046</th>\n",
              "      <td>40.330998</td>\n",
              "      <td>-75.330425</td>\n",
              "      <td>CHURCH AVE &amp; AUTUMN LEA CIR;  TELFORD; Station...</td>\n",
              "      <td>18969.0</td>\n",
              "      <td>EMS: SUBJECT IN PAIN</td>\n",
              "      <td>2016-02-21 15:12:06</td>\n",
              "      <td>TELFORD</td>\n",
              "      <td>CHURCH AVE &amp; AUTUMN LEA CIR</td>\n",
              "      <td>1</td>\n",
              "      <td>2016-02-21</td>\n",
              "      <td>2016</td>\n",
              "      <td>2</td>\n",
              "      <td>February</td>\n",
              "      <td>7</td>\n",
              "      <td>21</td>\n",
              "      <td>6</td>\n",
              "      <td>Sunday</td>\n",
              "      <td>15</td>\n",
              "      <td>12</td>\n",
              "      <td>afternoon</td>\n",
              "      <td>Winter</td>\n",
              "      <td>70.472723</td>\n",
              "    </tr>\n",
              "    <tr>\n",
              "      <th>21699</th>\n",
              "      <td>40.244486</td>\n",
              "      <td>-75.600192</td>\n",
              "      <td>HIGH ST &amp; SUNNYSIDE AVE;  LOWER POTTSGROVE; St...</td>\n",
              "      <td>19464.0</td>\n",
              "      <td>EMS: RESPIRATORY EMERGENCY</td>\n",
              "      <td>2016-02-02 15:18:42</td>\n",
              "      <td>LOWER POTTSGROVE</td>\n",
              "      <td>HIGH ST &amp; SUNNYSIDE AVE</td>\n",
              "      <td>1</td>\n",
              "      <td>2016-02-02</td>\n",
              "      <td>2016</td>\n",
              "      <td>2</td>\n",
              "      <td>February</td>\n",
              "      <td>5</td>\n",
              "      <td>2</td>\n",
              "      <td>1</td>\n",
              "      <td>Tuesday</td>\n",
              "      <td>15</td>\n",
              "      <td>18</td>\n",
              "      <td>afternoon</td>\n",
              "      <td>Winter</td>\n",
              "      <td>70.420715</td>\n",
              "    </tr>\n",
              "  </tbody>\n",
              "</table>\n",
              "</div>"
            ],
            "text/plain": [
              "              lat        lng  ...  Season  Elapsed_Years from WW2\n",
              "318356  40.085816 -75.093649  ...  Spring               72.502249\n",
              "105619  40.121497 -75.339905  ...  Autumn               71.026446\n",
              "311651  40.097222 -75.376195  ...  Winter               72.471202\n",
              "251770  40.364863 -75.592538  ...  Autumn               72.067454\n",
              "266113  40.134074 -75.150432  ...  Autumn               72.165666\n",
              "163028  40.129651 -75.435124  ...  Winter               71.426811\n",
              "158529  40.069832 -75.316295  ...  Winter               71.394669\n",
              "175652  40.254768 -75.660459  ...  Spring               71.520854\n",
              "29046   40.330998 -75.330425  ...  Winter               70.472723\n",
              "21699   40.244486 -75.600192  ...  Winter               70.420715\n",
              "\n",
              "[10 rows x 22 columns]"
            ]
          },
          "execution_count": 197,
          "metadata": {},
          "output_type": "execute_result"
        }
      ]
    },
    {
      "cell_type": "markdown",
      "metadata": {
        "id": "qnq-8CIUDVwi"
      },
      "source": [
        "# **3. String Operations:-**\n",
        ">There is a lot of data hidden within strings, you can use a lot \n",
        "of string operations techniques to extract those data\n",
        "\n",
        ">**For Example :-**\n",
        "  1.  Extracting email provider from dataset has account column. \n",
        "  2. Extracting credit card type from dataset has credit card number column.  \n"
      ]
    },
    {
      "cell_type": "code",
      "metadata": {
        "id": "s5dbMbMJAlMm"
      },
      "source": [
        "df_Ecommerce= pd.read_csv('/content/Ecommerce Purchases.csv')"
      ],
      "execution_count": null,
      "outputs": []
    },
    {
      "cell_type": "code",
      "metadata": {
        "colab": {
          "base_uri": "https://localhost:8080/"
        },
        "id": "Jrc4kRl3HLMT",
        "outputId": "34d4aed3-19b4-4884-c076-644250285a36"
      },
      "source": [
        "df_Ecommerce.info()"
      ],
      "execution_count": null,
      "outputs": [
        {
          "name": "stdout",
          "output_type": "stream",
          "text": [
            "<class 'pandas.core.frame.DataFrame'>\n",
            "RangeIndex: 10000 entries, 0 to 9999\n",
            "Data columns (total 14 columns):\n",
            " #   Column            Non-Null Count  Dtype  \n",
            "---  ------            --------------  -----  \n",
            " 0   Address           10000 non-null  object \n",
            " 1   Lot               10000 non-null  object \n",
            " 2   AM or PM          10000 non-null  object \n",
            " 3   Browser Info      10000 non-null  object \n",
            " 4   Company           10000 non-null  object \n",
            " 5   Credit Card       10000 non-null  int64  \n",
            " 6   CC Exp Date       10000 non-null  object \n",
            " 7   CC Security Code  10000 non-null  int64  \n",
            " 8   CC Provider       10000 non-null  object \n",
            " 9   Email             10000 non-null  object \n",
            " 10  Job               10000 non-null  object \n",
            " 11  IP Address        10000 non-null  object \n",
            " 12  Language          10000 non-null  object \n",
            " 13  Purchase Price    10000 non-null  float64\n",
            "dtypes: float64(1), int64(2), object(11)\n",
            "memory usage: 1.1+ MB\n"
          ]
        }
      ]
    },
    {
      "cell_type": "code",
      "metadata": {
        "colab": {
          "base_uri": "https://localhost:8080/",
          "height": 297
        },
        "id": "R-4CvpbVHPz6",
        "outputId": "42ad3780-d1b2-493f-aac7-315d9fd10462"
      },
      "source": [
        "df_Ecommerce.describe()"
      ],
      "execution_count": null,
      "outputs": [
        {
          "data": {
            "text/html": [
              "<div>\n",
              "<style scoped>\n",
              "    .dataframe tbody tr th:only-of-type {\n",
              "        vertical-align: middle;\n",
              "    }\n",
              "\n",
              "    .dataframe tbody tr th {\n",
              "        vertical-align: top;\n",
              "    }\n",
              "\n",
              "    .dataframe thead th {\n",
              "        text-align: right;\n",
              "    }\n",
              "</style>\n",
              "<table border=\"1\" class=\"dataframe\">\n",
              "  <thead>\n",
              "    <tr style=\"text-align: right;\">\n",
              "      <th></th>\n",
              "      <th>Credit Card</th>\n",
              "      <th>CC Security Code</th>\n",
              "      <th>Purchase Price</th>\n",
              "    </tr>\n",
              "  </thead>\n",
              "  <tbody>\n",
              "    <tr>\n",
              "      <th>count</th>\n",
              "      <td>1.000000e+04</td>\n",
              "      <td>10000.000000</td>\n",
              "      <td>10000.000000</td>\n",
              "    </tr>\n",
              "    <tr>\n",
              "      <th>mean</th>\n",
              "      <td>2.341374e+15</td>\n",
              "      <td>907.217800</td>\n",
              "      <td>50.347302</td>\n",
              "    </tr>\n",
              "    <tr>\n",
              "      <th>std</th>\n",
              "      <td>2.256103e+15</td>\n",
              "      <td>1589.693035</td>\n",
              "      <td>29.015836</td>\n",
              "    </tr>\n",
              "    <tr>\n",
              "      <th>min</th>\n",
              "      <td>6.040186e+10</td>\n",
              "      <td>0.000000</td>\n",
              "      <td>0.000000</td>\n",
              "    </tr>\n",
              "    <tr>\n",
              "      <th>25%</th>\n",
              "      <td>3.056322e+13</td>\n",
              "      <td>280.000000</td>\n",
              "      <td>25.150000</td>\n",
              "    </tr>\n",
              "    <tr>\n",
              "      <th>50%</th>\n",
              "      <td>8.699942e+14</td>\n",
              "      <td>548.000000</td>\n",
              "      <td>50.505000</td>\n",
              "    </tr>\n",
              "    <tr>\n",
              "      <th>75%</th>\n",
              "      <td>4.492298e+15</td>\n",
              "      <td>816.000000</td>\n",
              "      <td>75.770000</td>\n",
              "    </tr>\n",
              "    <tr>\n",
              "      <th>max</th>\n",
              "      <td>6.012000e+15</td>\n",
              "      <td>9993.000000</td>\n",
              "      <td>99.990000</td>\n",
              "    </tr>\n",
              "  </tbody>\n",
              "</table>\n",
              "</div>"
            ],
            "text/plain": [
              "        Credit Card  CC Security Code  Purchase Price\n",
              "count  1.000000e+04      10000.000000    10000.000000\n",
              "mean   2.341374e+15        907.217800       50.347302\n",
              "std    2.256103e+15       1589.693035       29.015836\n",
              "min    6.040186e+10          0.000000        0.000000\n",
              "25%    3.056322e+13        280.000000       25.150000\n",
              "50%    8.699942e+14        548.000000       50.505000\n",
              "75%    4.492298e+15        816.000000       75.770000\n",
              "max    6.012000e+15       9993.000000       99.990000"
            ]
          },
          "execution_count": 200,
          "metadata": {},
          "output_type": "execute_result"
        }
      ]
    },
    {
      "cell_type": "code",
      "metadata": {
        "colab": {
          "base_uri": "https://localhost:8080/",
          "height": 804
        },
        "id": "sdxKmPoHHXXt",
        "outputId": "88c90090-4689-4730-9123-d5533f602c78"
      },
      "source": [
        "df_Ecommerce.sample(10)"
      ],
      "execution_count": null,
      "outputs": [
        {
          "data": {
            "text/html": [
              "<div>\n",
              "<style scoped>\n",
              "    .dataframe tbody tr th:only-of-type {\n",
              "        vertical-align: middle;\n",
              "    }\n",
              "\n",
              "    .dataframe tbody tr th {\n",
              "        vertical-align: top;\n",
              "    }\n",
              "\n",
              "    .dataframe thead th {\n",
              "        text-align: right;\n",
              "    }\n",
              "</style>\n",
              "<table border=\"1\" class=\"dataframe\">\n",
              "  <thead>\n",
              "    <tr style=\"text-align: right;\">\n",
              "      <th></th>\n",
              "      <th>Address</th>\n",
              "      <th>Lot</th>\n",
              "      <th>AM or PM</th>\n",
              "      <th>Browser Info</th>\n",
              "      <th>Company</th>\n",
              "      <th>Credit Card</th>\n",
              "      <th>CC Exp Date</th>\n",
              "      <th>CC Security Code</th>\n",
              "      <th>CC Provider</th>\n",
              "      <th>Email</th>\n",
              "      <th>Job</th>\n",
              "      <th>IP Address</th>\n",
              "      <th>Language</th>\n",
              "      <th>Purchase Price</th>\n",
              "    </tr>\n",
              "  </thead>\n",
              "  <tbody>\n",
              "    <tr>\n",
              "      <th>2447</th>\n",
              "      <td>PSC 1907, Box 2461\\nAPO AA 59878-8370</td>\n",
              "      <td>31 ec</td>\n",
              "      <td>AM</td>\n",
              "      <td>Mozilla/5.0 (Windows NT 4.0; sl-SI; rv:1.9.1.2...</td>\n",
              "      <td>Jones, Tucker and Davidson</td>\n",
              "      <td>561253275714</td>\n",
              "      <td>12/18</td>\n",
              "      <td>618</td>\n",
              "      <td>Voyager</td>\n",
              "      <td>pcastillo@petersen-galvan.com</td>\n",
              "      <td>Dramatherapist</td>\n",
              "      <td>151.16.89.149</td>\n",
              "      <td>zh</td>\n",
              "      <td>60.04</td>\n",
              "    </tr>\n",
              "    <tr>\n",
              "      <th>6307</th>\n",
              "      <td>08544 Wilson Prairie\\nPort Kimstad, ND 20870</td>\n",
              "      <td>73 Dd</td>\n",
              "      <td>PM</td>\n",
              "      <td>Mozilla/5.0 (Macintosh; Intel Mac OS X 10_7_3;...</td>\n",
              "      <td>Turner-Burns</td>\n",
              "      <td>502088215921</td>\n",
              "      <td>10/19</td>\n",
              "      <td>296</td>\n",
              "      <td>JCB 15 digit</td>\n",
              "      <td>whernandez@hotmail.com</td>\n",
              "      <td>Multimedia programmer</td>\n",
              "      <td>11.152.155.63</td>\n",
              "      <td>it</td>\n",
              "      <td>66.48</td>\n",
              "    </tr>\n",
              "    <tr>\n",
              "      <th>5501</th>\n",
              "      <td>900 Douglas Cliffs\\nJosephtown, AS 46749</td>\n",
              "      <td>59 CO</td>\n",
              "      <td>AM</td>\n",
              "      <td>Mozilla/5.0 (compatible; MSIE 9.0; Windows NT ...</td>\n",
              "      <td>Wilson-Vasquez</td>\n",
              "      <td>4949553727134912</td>\n",
              "      <td>01/21</td>\n",
              "      <td>755</td>\n",
              "      <td>American Express</td>\n",
              "      <td>melissaboyle@price-price.com</td>\n",
              "      <td>Dealer</td>\n",
              "      <td>143.171.121.18</td>\n",
              "      <td>de</td>\n",
              "      <td>2.84</td>\n",
              "    </tr>\n",
              "    <tr>\n",
              "      <th>3551</th>\n",
              "      <td>4476 Andrea Mountain\\nHudsonland, KY 75314</td>\n",
              "      <td>64 qh</td>\n",
              "      <td>PM</td>\n",
              "      <td>Mozilla/5.0 (X11; Linux i686) AppleWebKit/5352...</td>\n",
              "      <td>Welch, Johnson and Jones</td>\n",
              "      <td>869907407459904</td>\n",
              "      <td>02/25</td>\n",
              "      <td>143</td>\n",
              "      <td>Mastercard</td>\n",
              "      <td>lisa59@hotmail.com</td>\n",
              "      <td>Arboriculturist</td>\n",
              "      <td>98.22.235.214</td>\n",
              "      <td>es</td>\n",
              "      <td>51.35</td>\n",
              "    </tr>\n",
              "    <tr>\n",
              "      <th>2121</th>\n",
              "      <td>USS Farmer\\nFPO AP 12555</td>\n",
              "      <td>63 zy</td>\n",
              "      <td>AM</td>\n",
              "      <td>Mozilla/5.0 (iPod; U; CPU iPhone OS 4_3 like M...</td>\n",
              "      <td>Boyd-Moran</td>\n",
              "      <td>4805196250359</td>\n",
              "      <td>02/24</td>\n",
              "      <td>693</td>\n",
              "      <td>Mastercard</td>\n",
              "      <td>carl26@reyes.info</td>\n",
              "      <td>Curator</td>\n",
              "      <td>186.117.51.207</td>\n",
              "      <td>zh</td>\n",
              "      <td>13.35</td>\n",
              "    </tr>\n",
              "    <tr>\n",
              "      <th>1994</th>\n",
              "      <td>4979 Kimberly Road Apt. 381\\nNorth Jerry, GA 4...</td>\n",
              "      <td>44 kO</td>\n",
              "      <td>PM</td>\n",
              "      <td>Mozilla/5.0 (X11; Linux i686) AppleWebKit/5352...</td>\n",
              "      <td>Roberts Group</td>\n",
              "      <td>346240059721295</td>\n",
              "      <td>12/24</td>\n",
              "      <td>832</td>\n",
              "      <td>Diners Club / Carte Blanche</td>\n",
              "      <td>chelsea48@hotmail.com</td>\n",
              "      <td>Ambulance person</td>\n",
              "      <td>78.237.115.79</td>\n",
              "      <td>fr</td>\n",
              "      <td>72.86</td>\n",
              "    </tr>\n",
              "    <tr>\n",
              "      <th>6797</th>\n",
              "      <td>6678 Bailey Bridge\\nPort Mirandabury, NJ 68551...</td>\n",
              "      <td>71 up</td>\n",
              "      <td>PM</td>\n",
              "      <td>Mozilla/5.0 (Macintosh; U; PPC Mac OS X 10_8_1...</td>\n",
              "      <td>Mason, Daugherty and Gregory</td>\n",
              "      <td>5527055964906546</td>\n",
              "      <td>08/21</td>\n",
              "      <td>497</td>\n",
              "      <td>Diners Club / Carte Blanche</td>\n",
              "      <td>samuel15@liu-bryan.com</td>\n",
              "      <td>Scientist, research (maths)</td>\n",
              "      <td>108.159.35.115</td>\n",
              "      <td>fr</td>\n",
              "      <td>27.76</td>\n",
              "    </tr>\n",
              "    <tr>\n",
              "      <th>7341</th>\n",
              "      <td>438 James Springs Apt. 814\\nMaryton, MN 05644</td>\n",
              "      <td>02 Jp</td>\n",
              "      <td>AM</td>\n",
              "      <td>Mozilla/5.0 (compatible; MSIE 7.0; Windows NT ...</td>\n",
              "      <td>Whitney, Stephenson and Carter</td>\n",
              "      <td>372582995625503</td>\n",
              "      <td>04/21</td>\n",
              "      <td>576</td>\n",
              "      <td>American Express</td>\n",
              "      <td>usanchez@hotmail.com</td>\n",
              "      <td>Special educational needs teacher</td>\n",
              "      <td>83.233.237.131</td>\n",
              "      <td>it</td>\n",
              "      <td>46.88</td>\n",
              "    </tr>\n",
              "    <tr>\n",
              "      <th>9116</th>\n",
              "      <td>51662 Charles Shores\\nSharonville, PA 52582-9764</td>\n",
              "      <td>43 eC</td>\n",
              "      <td>PM</td>\n",
              "      <td>Mozilla/5.0 (compatible; MSIE 8.0; Windows 95;...</td>\n",
              "      <td>Green-Lopez</td>\n",
              "      <td>3088035209370829</td>\n",
              "      <td>05/17</td>\n",
              "      <td>8</td>\n",
              "      <td>VISA 13 digit</td>\n",
              "      <td>brianadavis@hotmail.com</td>\n",
              "      <td>Therapist, sports</td>\n",
              "      <td>131.9.147.20</td>\n",
              "      <td>pt</td>\n",
              "      <td>66.78</td>\n",
              "    </tr>\n",
              "    <tr>\n",
              "      <th>9054</th>\n",
              "      <td>437 Morris Stream\\nEast Patricia, CT 34244-8543</td>\n",
              "      <td>87 Pg</td>\n",
              "      <td>PM</td>\n",
              "      <td>Mozilla/5.0 (compatible; MSIE 9.0; Windows NT ...</td>\n",
              "      <td>Villegas, Ochoa and Strong</td>\n",
              "      <td>3088313354392272</td>\n",
              "      <td>07/25</td>\n",
              "      <td>880</td>\n",
              "      <td>Mastercard</td>\n",
              "      <td>isherman@lee-schaefer.org</td>\n",
              "      <td>Engineer, biomedical</td>\n",
              "      <td>52.83.76.54</td>\n",
              "      <td>ru</td>\n",
              "      <td>33.82</td>\n",
              "    </tr>\n",
              "  </tbody>\n",
              "</table>\n",
              "</div>"
            ],
            "text/plain": [
              "                                                Address  ... Purchase Price\n",
              "2447              PSC 1907, Box 2461\\nAPO AA 59878-8370  ...          60.04\n",
              "6307       08544 Wilson Prairie\\nPort Kimstad, ND 20870  ...          66.48\n",
              "5501           900 Douglas Cliffs\\nJosephtown, AS 46749  ...           2.84\n",
              "3551         4476 Andrea Mountain\\nHudsonland, KY 75314  ...          51.35\n",
              "2121                           USS Farmer\\nFPO AP 12555  ...          13.35\n",
              "1994  4979 Kimberly Road Apt. 381\\nNorth Jerry, GA 4...  ...          72.86\n",
              "6797  6678 Bailey Bridge\\nPort Mirandabury, NJ 68551...  ...          27.76\n",
              "7341      438 James Springs Apt. 814\\nMaryton, MN 05644  ...          46.88\n",
              "9116   51662 Charles Shores\\nSharonville, PA 52582-9764  ...          66.78\n",
              "9054    437 Morris Stream\\nEast Patricia, CT 34244-8543  ...          33.82\n",
              "\n",
              "[10 rows x 14 columns]"
            ]
          },
          "execution_count": 201,
          "metadata": {},
          "output_type": "execute_result"
        }
      ]
    },
    {
      "cell_type": "code",
      "metadata": {
        "id": "cTIl0NrcIleK"
      },
      "source": [
        "#function for getting email provider\n",
        "def email_provider(email):\n",
        "    return email.split('@')[1]"
      ],
      "execution_count": null,
      "outputs": []
    },
    {
      "cell_type": "code",
      "metadata": {
        "id": "sry5jX7zHc7x"
      },
      "source": [
        "df_Ecommerce['Email Provider'] = df_Ecommerce['Email'].apply(email_provider)"
      ],
      "execution_count": null,
      "outputs": []
    },
    {
      "cell_type": "code",
      "metadata": {
        "colab": {
          "base_uri": "https://localhost:8080/"
        },
        "id": "wMn6ZKRPIWDg",
        "outputId": "a5436ea0-47a2-4c36-b44e-180cbe8a5f92"
      },
      "source": [
        "df_Ecommerce['Email Provider']"
      ],
      "execution_count": null,
      "outputs": [
        {
          "data": {
            "text/plain": [
              "0                  yahoo.com\n",
              "1                   reed.com\n",
              "2       morales-harrison.com\n",
              "3        olson-robinson.info\n",
              "4                  gmail.com\n",
              "                ...         \n",
              "9995         wade-garner.com\n",
              "9996             hotmail.com\n",
              "9997               gmail.com\n",
              "9998                reid.net\n",
              "9999              vaughn.com\n",
              "Name: Email Provider, Length: 10000, dtype: object"
            ]
          },
          "execution_count": 204,
          "metadata": {},
          "output_type": "execute_result"
        }
      ]
    },
    {
      "cell_type": "code",
      "metadata": {
        "colab": {
          "base_uri": "https://localhost:8080/"
        },
        "id": "Q2UgJ7NwIeoU",
        "outputId": "dda97f71-39fa-49df-a655-6641292f6186"
      },
      "source": [
        "df_Ecommerce['Email Provider'].describe()  "
      ],
      "execution_count": null,
      "outputs": [
        {
          "data": {
            "text/plain": [
              "count           10000\n",
              "unique           3416\n",
              "top       hotmail.com\n",
              "freq             1638\n",
              "Name: Email Provider, dtype: object"
            ]
          },
          "execution_count": 205,
          "metadata": {},
          "output_type": "execute_result"
        }
      ]
    },
    {
      "cell_type": "code",
      "metadata": {
        "colab": {
          "base_uri": "https://localhost:8080/"
        },
        "id": "c5yNLjMFI3R5",
        "outputId": "16fe70bb-04e4-4eef-bd21-ca84f876ba4c"
      },
      "source": [
        "df_Ecommerce['Email Provider'].value_counts()  "
      ],
      "execution_count": null,
      "outputs": [
        {
          "data": {
            "text/plain": [
              "hotmail.com              1638\n",
              "yahoo.com                1616\n",
              "gmail.com                1605\n",
              "smith.com                  42\n",
              "williams.com               37\n",
              "                         ... \n",
              "parks-alvarado.net          1\n",
              "morgan.org                  1\n",
              "levine-mcpherson.info       1\n",
              "liu-bryan.com               1\n",
              "higgins-miller.net          1\n",
              "Name: Email Provider, Length: 3416, dtype: int64"
            ]
          },
          "execution_count": 206,
          "metadata": {},
          "output_type": "execute_result"
        }
      ]
    },
    {
      "cell_type": "code",
      "metadata": {
        "id": "2JDrH9Z5J34X"
      },
      "source": [
        "top_mails_provider= df_Ecommerce['Email Provider'].value_counts().head(5)"
      ],
      "execution_count": null,
      "outputs": []
    },
    {
      "cell_type": "code",
      "metadata": {
        "colab": {
          "base_uri": "https://localhost:8080/"
        },
        "id": "-FyuQoTWJ7bp",
        "outputId": "d07089eb-c8d0-4be4-9970-aa3468304271"
      },
      "source": [
        "top_mails_provider.index"
      ],
      "execution_count": null,
      "outputs": [
        {
          "data": {
            "text/plain": [
              "Index(['hotmail.com', 'yahoo.com', 'gmail.com', 'smith.com', 'williams.com'], dtype='object')"
            ]
          },
          "execution_count": 208,
          "metadata": {},
          "output_type": "execute_result"
        }
      ]
    },
    {
      "cell_type": "code",
      "metadata": {
        "colab": {
          "base_uri": "https://localhost:8080/",
          "height": 1000
        },
        "id": "qe-K2dDeLho7",
        "outputId": "983d269e-45f2-43c7-f651-1105ed8c98b1"
      },
      "source": [
        "df_Ecommerce[df_Ecommerce['Email Provider'].isin(top_mails_provider.index)]"
      ],
      "execution_count": null,
      "outputs": [
        {
          "data": {
            "text/html": [
              "<div>\n",
              "<style scoped>\n",
              "    .dataframe tbody tr th:only-of-type {\n",
              "        vertical-align: middle;\n",
              "    }\n",
              "\n",
              "    .dataframe tbody tr th {\n",
              "        vertical-align: top;\n",
              "    }\n",
              "\n",
              "    .dataframe thead th {\n",
              "        text-align: right;\n",
              "    }\n",
              "</style>\n",
              "<table border=\"1\" class=\"dataframe\">\n",
              "  <thead>\n",
              "    <tr style=\"text-align: right;\">\n",
              "      <th></th>\n",
              "      <th>Address</th>\n",
              "      <th>Lot</th>\n",
              "      <th>AM or PM</th>\n",
              "      <th>Browser Info</th>\n",
              "      <th>Company</th>\n",
              "      <th>Credit Card</th>\n",
              "      <th>CC Exp Date</th>\n",
              "      <th>CC Security Code</th>\n",
              "      <th>CC Provider</th>\n",
              "      <th>Email</th>\n",
              "      <th>Job</th>\n",
              "      <th>IP Address</th>\n",
              "      <th>Language</th>\n",
              "      <th>Purchase Price</th>\n",
              "      <th>Email Provider</th>\n",
              "    </tr>\n",
              "  </thead>\n",
              "  <tbody>\n",
              "    <tr>\n",
              "      <th>0</th>\n",
              "      <td>16629 Pace Camp Apt. 448\\nAlexisborough, NE 77...</td>\n",
              "      <td>46 in</td>\n",
              "      <td>PM</td>\n",
              "      <td>Opera/9.56.(X11; Linux x86_64; sl-SI) Presto/2...</td>\n",
              "      <td>Martinez-Herman</td>\n",
              "      <td>6011929061123406</td>\n",
              "      <td>02/20</td>\n",
              "      <td>900</td>\n",
              "      <td>JCB 16 digit</td>\n",
              "      <td>pdunlap@yahoo.com</td>\n",
              "      <td>Scientist, product/process development</td>\n",
              "      <td>149.146.147.205</td>\n",
              "      <td>el</td>\n",
              "      <td>98.14</td>\n",
              "      <td>yahoo.com</td>\n",
              "    </tr>\n",
              "    <tr>\n",
              "      <th>4</th>\n",
              "      <td>23012 Munoz Drive Suite 337\\nNew Cynthia, TX 5...</td>\n",
              "      <td>20 IE</td>\n",
              "      <td>AM</td>\n",
              "      <td>Opera/9.58.(X11; Linux x86_64; it-IT) Presto/2...</td>\n",
              "      <td>Brown, Watson and Andrews</td>\n",
              "      <td>6011456623207998</td>\n",
              "      <td>10/25</td>\n",
              "      <td>678</td>\n",
              "      <td>Diners Club / Carte Blanche</td>\n",
              "      <td>christopherwright@gmail.com</td>\n",
              "      <td>Fine artist</td>\n",
              "      <td>24.140.33.94</td>\n",
              "      <td>es</td>\n",
              "      <td>77.82</td>\n",
              "      <td>gmail.com</td>\n",
              "    </tr>\n",
              "    <tr>\n",
              "      <th>5</th>\n",
              "      <td>7502 Powell Mission Apt. 768\\nTravisland, VA 3...</td>\n",
              "      <td>21 XT</td>\n",
              "      <td>PM</td>\n",
              "      <td>Mozilla/5.0 (Macintosh; U; PPC Mac OS X 10_8_5...</td>\n",
              "      <td>Silva-Anderson</td>\n",
              "      <td>30246185196287</td>\n",
              "      <td>07/25</td>\n",
              "      <td>7169</td>\n",
              "      <td>Discover</td>\n",
              "      <td>ynguyen@gmail.com</td>\n",
              "      <td>Fish farm manager</td>\n",
              "      <td>55.96.152.147</td>\n",
              "      <td>ru</td>\n",
              "      <td>25.15</td>\n",
              "      <td>gmail.com</td>\n",
              "    </tr>\n",
              "    <tr>\n",
              "      <th>6</th>\n",
              "      <td>93971 Conway Causeway\\nAndersonburgh, AZ 75107</td>\n",
              "      <td>96 Xt</td>\n",
              "      <td>AM</td>\n",
              "      <td>Mozilla/5.0 (compatible; MSIE 7.0; Windows NT ...</td>\n",
              "      <td>Gibson and Sons</td>\n",
              "      <td>6011398782655569</td>\n",
              "      <td>07/24</td>\n",
              "      <td>714</td>\n",
              "      <td>VISA 16 digit</td>\n",
              "      <td>olivia04@yahoo.com</td>\n",
              "      <td>Dancer</td>\n",
              "      <td>127.252.144.18</td>\n",
              "      <td>de</td>\n",
              "      <td>88.56</td>\n",
              "      <td>yahoo.com</td>\n",
              "    </tr>\n",
              "    <tr>\n",
              "      <th>10</th>\n",
              "      <td>650 Elizabeth Park\\nLake Maria, LA 13526-2530</td>\n",
              "      <td>65 Yn</td>\n",
              "      <td>PM</td>\n",
              "      <td>Mozilla/5.0 (iPod; U; CPU iPhone OS 4_1 like M...</td>\n",
              "      <td>Strickland, Michael and Gonzales</td>\n",
              "      <td>180036417827355</td>\n",
              "      <td>02/17</td>\n",
              "      <td>754</td>\n",
              "      <td>Voyager</td>\n",
              "      <td>ustewart@hotmail.com</td>\n",
              "      <td>Development worker, community</td>\n",
              "      <td>26.59.93.1</td>\n",
              "      <td>el</td>\n",
              "      <td>96.89</td>\n",
              "      <td>hotmail.com</td>\n",
              "    </tr>\n",
              "    <tr>\n",
              "      <th>...</th>\n",
              "      <td>...</td>\n",
              "      <td>...</td>\n",
              "      <td>...</td>\n",
              "      <td>...</td>\n",
              "      <td>...</td>\n",
              "      <td>...</td>\n",
              "      <td>...</td>\n",
              "      <td>...</td>\n",
              "      <td>...</td>\n",
              "      <td>...</td>\n",
              "      <td>...</td>\n",
              "      <td>...</td>\n",
              "      <td>...</td>\n",
              "      <td>...</td>\n",
              "      <td>...</td>\n",
              "    </tr>\n",
              "    <tr>\n",
              "      <th>9982</th>\n",
              "      <td>18044 Mcintosh Row Apt. 122\\nLake Jennifer, NC...</td>\n",
              "      <td>77 uq</td>\n",
              "      <td>PM</td>\n",
              "      <td>Mozilla/5.0 (Macintosh; U; PPC Mac OS X 10_6_0...</td>\n",
              "      <td>Chen LLC</td>\n",
              "      <td>210040992311995</td>\n",
              "      <td>09/18</td>\n",
              "      <td>79</td>\n",
              "      <td>JCB 16 digit</td>\n",
              "      <td>heather24@gmail.com</td>\n",
              "      <td>Restaurant manager</td>\n",
              "      <td>93.254.124.2</td>\n",
              "      <td>it</td>\n",
              "      <td>56.25</td>\n",
              "      <td>gmail.com</td>\n",
              "    </tr>\n",
              "    <tr>\n",
              "      <th>9989</th>\n",
              "      <td>5674 Cruz Trace\\nNew Shelby, KY 51047-5469</td>\n",
              "      <td>12 Kf</td>\n",
              "      <td>AM</td>\n",
              "      <td>Mozilla/5.0 (compatible; MSIE 9.0; Windows NT ...</td>\n",
              "      <td>Vargas, Nichols and Martinez</td>\n",
              "      <td>5278049688438382</td>\n",
              "      <td>12/23</td>\n",
              "      <td>996</td>\n",
              "      <td>VISA 16 digit</td>\n",
              "      <td>walterswilliam@hotmail.com</td>\n",
              "      <td>Community development worker</td>\n",
              "      <td>39.162.164.169</td>\n",
              "      <td>pt</td>\n",
              "      <td>17.18</td>\n",
              "      <td>hotmail.com</td>\n",
              "    </tr>\n",
              "    <tr>\n",
              "      <th>9994</th>\n",
              "      <td>6276 Rojas Hollow\\nLake Louis, WY 56410-7837</td>\n",
              "      <td>93 Ex</td>\n",
              "      <td>PM</td>\n",
              "      <td>Opera/9.68.(X11; Linux x86_64; sl-SI) Presto/2...</td>\n",
              "      <td>Ritter-Smith</td>\n",
              "      <td>3112186784121077</td>\n",
              "      <td>01/25</td>\n",
              "      <td>1823</td>\n",
              "      <td>Maestro</td>\n",
              "      <td>iroberts@gmail.com</td>\n",
              "      <td>Education officer, museum</td>\n",
              "      <td>242.44.112.18</td>\n",
              "      <td>zh</td>\n",
              "      <td>31.85</td>\n",
              "      <td>gmail.com</td>\n",
              "    </tr>\n",
              "    <tr>\n",
              "      <th>9996</th>\n",
              "      <td>832 Curtis Dam Suite 785\\nNorth Edwardburgh, T...</td>\n",
              "      <td>41 JY</td>\n",
              "      <td>AM</td>\n",
              "      <td>Mozilla/5.0 (compatible; MSIE 9.0; Windows NT ...</td>\n",
              "      <td>Hale, Collins and Wilson</td>\n",
              "      <td>210033169205009</td>\n",
              "      <td>07/25</td>\n",
              "      <td>207</td>\n",
              "      <td>JCB 16 digit</td>\n",
              "      <td>mary85@hotmail.com</td>\n",
              "      <td>Energy engineer</td>\n",
              "      <td>121.133.168.51</td>\n",
              "      <td>pt</td>\n",
              "      <td>25.63</td>\n",
              "      <td>hotmail.com</td>\n",
              "    </tr>\n",
              "    <tr>\n",
              "      <th>9997</th>\n",
              "      <td>Unit 4434 Box 6343\\nDPO AE 28026-0283</td>\n",
              "      <td>74 Zh</td>\n",
              "      <td>AM</td>\n",
              "      <td>Mozilla/5.0 (Macintosh; U; Intel Mac OS X 10_7...</td>\n",
              "      <td>Anderson Ltd</td>\n",
              "      <td>6011539787356311</td>\n",
              "      <td>05/21</td>\n",
              "      <td>1</td>\n",
              "      <td>VISA 16 digit</td>\n",
              "      <td>tyler16@gmail.com</td>\n",
              "      <td>Veterinary surgeon</td>\n",
              "      <td>156.210.0.254</td>\n",
              "      <td>el</td>\n",
              "      <td>83.98</td>\n",
              "      <td>gmail.com</td>\n",
              "    </tr>\n",
              "  </tbody>\n",
              "</table>\n",
              "<p>4938 rows × 15 columns</p>\n",
              "</div>"
            ],
            "text/plain": [
              "                                                Address  ... Email Provider\n",
              "0     16629 Pace Camp Apt. 448\\nAlexisborough, NE 77...  ...      yahoo.com\n",
              "4     23012 Munoz Drive Suite 337\\nNew Cynthia, TX 5...  ...      gmail.com\n",
              "5     7502 Powell Mission Apt. 768\\nTravisland, VA 3...  ...      gmail.com\n",
              "6        93971 Conway Causeway\\nAndersonburgh, AZ 75107  ...      yahoo.com\n",
              "10        650 Elizabeth Park\\nLake Maria, LA 13526-2530  ...    hotmail.com\n",
              "...                                                 ...  ...            ...\n",
              "9982  18044 Mcintosh Row Apt. 122\\nLake Jennifer, NC...  ...      gmail.com\n",
              "9989         5674 Cruz Trace\\nNew Shelby, KY 51047-5469  ...    hotmail.com\n",
              "9994       6276 Rojas Hollow\\nLake Louis, WY 56410-7837  ...      gmail.com\n",
              "9996  832 Curtis Dam Suite 785\\nNorth Edwardburgh, T...  ...    hotmail.com\n",
              "9997              Unit 4434 Box 6343\\nDPO AE 28026-0283  ...      gmail.com\n",
              "\n",
              "[4938 rows x 15 columns]"
            ]
          },
          "execution_count": 209,
          "metadata": {},
          "output_type": "execute_result"
        }
      ]
    },
    {
      "cell_type": "code",
      "metadata": {
        "colab": {
          "base_uri": "https://localhost:8080/",
          "height": 741
        },
        "id": "nFgfaUL6I9nZ",
        "outputId": "79fa17ae-3093-4f39-925e-b5bdafefa413"
      },
      "source": [
        "sns.countplot(x='Email Provider' , data= df_Ecommerce[df_Ecommerce['Email Provider'].isin(top_mails_provider.index)])"
      ],
      "execution_count": null,
      "outputs": [
        {
          "data": {
            "text/plain": [
              "<matplotlib.axes._subplots.AxesSubplot at 0x7f08446d0350>"
            ]
          },
          "execution_count": 210,
          "metadata": {},
          "output_type": "execute_result"
        },
        {
          "data": {
            "image/png": "[encoded data removed]",
            "text/plain": [
              "<Figure size 864x864 with 1 Axes>"
            ]
          },
          "metadata": {},
          "output_type": "display_data"
        }
      ]
    },
    {
      "cell_type": "code",
      "metadata": {
        "id": "DslHCYoiJN40"
      },
      "source": [
        "#function for extracting credit card type\n",
        "def credit_card_type(credit):\n",
        "    credit = str(credit)\n",
        "    if credit.startswith('3'):\n",
        "        return 'Travel/Entertainment cards'\n",
        "    elif credit.startswith('4'):\n",
        "        return 'Visa'\n",
        "    elif credit.startswith('5'):\n",
        "        return 'Master Card'\n",
        "    elif credit.startswith('6'):\n",
        "        return 'Discover Card'   "
      ],
      "execution_count": null,
      "outputs": []
    },
    {
      "cell_type": "code",
      "metadata": {
        "id": "K-U_VWmzNu-B"
      },
      "source": [
        "df_Ecommerce['Credit Card Type'] = df_Ecommerce['Credit Card'].apply(credit_card_type)"
      ],
      "execution_count": null,
      "outputs": []
    },
    {
      "cell_type": "code",
      "metadata": {
        "colab": {
          "base_uri": "https://localhost:8080/"
        },
        "id": "mWuJuY96OH2H",
        "outputId": "1a4cc072-f164-4850-e576-a2c6cdb148b8"
      },
      "source": [
        "df_Ecommerce['Credit Card Type']"
      ],
      "execution_count": null,
      "outputs": [
        {
          "data": {
            "text/plain": [
              "0                    Discover Card\n",
              "1       Travel/Entertainment cards\n",
              "2                    Discover Card\n",
              "3                    Discover Card\n",
              "4                    Discover Card\n",
              "                   ...            \n",
              "9995    Travel/Entertainment cards\n",
              "9996                          None\n",
              "9997                 Discover Card\n",
              "9998                          None\n",
              "9999                          Visa\n",
              "Name: Credit Card Type, Length: 10000, dtype: object"
            ]
          },
          "execution_count": 213,
          "metadata": {},
          "output_type": "execute_result"
        }
      ]
    },
    {
      "cell_type": "code",
      "metadata": {
        "colab": {
          "base_uri": "https://localhost:8080/"
        },
        "id": "gImDZHrtOfC9",
        "outputId": "fb610572-6075-4a38-8d23-2cedca40793c"
      },
      "source": [
        "df_Ecommerce['Credit Card Type'].describe()"
      ],
      "execution_count": null,
      "outputs": [
        {
          "data": {
            "text/plain": [
              "count                           8337\n",
              "unique                             4\n",
              "top       Travel/Entertainment cards\n",
              "freq                            3292\n",
              "Name: Credit Card Type, dtype: object"
            ]
          },
          "execution_count": 214,
          "metadata": {},
          "output_type": "execute_result"
        }
      ]
    },
    {
      "cell_type": "code",
      "metadata": {
        "colab": {
          "base_uri": "https://localhost:8080/"
        },
        "id": "IDzoFAjhOjw3",
        "outputId": "de318d40-616e-4e2e-f1c0-c5e1775301ea"
      },
      "source": [
        "df_Ecommerce['Credit Card Type'].value_counts()"
      ],
      "execution_count": null,
      "outputs": [
        {
          "data": {
            "text/plain": [
              "Travel/Entertainment cards    3292\n",
              "Visa                          2492\n",
              "Discover Card                 1351\n",
              "Master Card                   1202\n",
              "Name: Credit Card Type, dtype: int64"
            ]
          },
          "execution_count": 215,
          "metadata": {},
          "output_type": "execute_result"
        }
      ]
    },
    {
      "cell_type": "code",
      "metadata": {
        "colab": {
          "base_uri": "https://localhost:8080/",
          "height": 741
        },
        "id": "5vFGdxGPOpQ9",
        "outputId": "c52dd8ab-bcc4-41cb-dc97-ba9f8f695b4b"
      },
      "source": [
        "sns.countplot(x=df_Ecommerce['Credit Card Type'])"
      ],
      "execution_count": null,
      "outputs": [
        {
          "data": {
            "text/plain": [
              "<matplotlib.axes._subplots.AxesSubplot at 0x7f08446b4d90>"
            ]
          },
          "execution_count": 216,
          "metadata": {},
          "output_type": "execute_result"
        },
        {
          "data": {
            "image/png": "[encoded data removed]",
            "text/plain": [
              "<Figure size 864x864 with 1 Axes>"
            ]
          },
          "metadata": {},
          "output_type": "display_data"
        }
      ]
    },
    {
      "cell_type": "code",
      "metadata": {
        "colab": {
          "base_uri": "https://localhost:8080/",
          "height": 855
        },
        "id": "B30_J_MoOzko",
        "outputId": "f2b36610-f655-407b-ff3e-3dd15f4bbc3e"
      },
      "source": [
        "df_titanic.sample(10)"
      ],
      "execution_count": null,
      "outputs": [
        {
          "data": {
            "text/html": [
              "<div>\n",
              "<style scoped>\n",
              "    .dataframe tbody tr th:only-of-type {\n",
              "        vertical-align: middle;\n",
              "    }\n",
              "\n",
              "    .dataframe tbody tr th {\n",
              "        vertical-align: top;\n",
              "    }\n",
              "\n",
              "    .dataframe thead th {\n",
              "        text-align: right;\n",
              "    }\n",
              "</style>\n",
              "<table border=\"1\" class=\"dataframe\">\n",
              "  <thead>\n",
              "    <tr style=\"text-align: right;\">\n",
              "      <th></th>\n",
              "      <th>PassengerId</th>\n",
              "      <th>Survived</th>\n",
              "      <th>Pclass</th>\n",
              "      <th>Name</th>\n",
              "      <th>Sex</th>\n",
              "      <th>Age</th>\n",
              "      <th>SibSp</th>\n",
              "      <th>Parch</th>\n",
              "      <th>Ticket</th>\n",
              "      <th>Fare</th>\n",
              "      <th>Cabin</th>\n",
              "      <th>Embarked</th>\n",
              "      <th>Age Category</th>\n",
              "      <th>With Passenger</th>\n",
              "    </tr>\n",
              "  </thead>\n",
              "  <tbody>\n",
              "    <tr>\n",
              "      <th>689</th>\n",
              "      <td>690</td>\n",
              "      <td>1</td>\n",
              "      <td>1</td>\n",
              "      <td>Madill, Miss. Georgette Alexandra</td>\n",
              "      <td>female</td>\n",
              "      <td>15.00</td>\n",
              "      <td>0</td>\n",
              "      <td>1</td>\n",
              "      <td>24160</td>\n",
              "      <td>211.3375</td>\n",
              "      <td>B5</td>\n",
              "      <td>S</td>\n",
              "      <td>Adolescents</td>\n",
              "      <td>1</td>\n",
              "    </tr>\n",
              "    <tr>\n",
              "      <th>123</th>\n",
              "      <td>124</td>\n",
              "      <td>1</td>\n",
              "      <td>2</td>\n",
              "      <td>Webber, Miss. Susan</td>\n",
              "      <td>female</td>\n",
              "      <td>32.50</td>\n",
              "      <td>0</td>\n",
              "      <td>0</td>\n",
              "      <td>27267</td>\n",
              "      <td>13.0000</td>\n",
              "      <td>E101</td>\n",
              "      <td>S</td>\n",
              "      <td>Adults</td>\n",
              "      <td>0</td>\n",
              "    </tr>\n",
              "    <tr>\n",
              "      <th>292</th>\n",
              "      <td>293</td>\n",
              "      <td>0</td>\n",
              "      <td>2</td>\n",
              "      <td>Levy, Mr. Rene Jacques</td>\n",
              "      <td>male</td>\n",
              "      <td>36.00</td>\n",
              "      <td>0</td>\n",
              "      <td>0</td>\n",
              "      <td>SC/Paris 2163</td>\n",
              "      <td>12.8750</td>\n",
              "      <td>D</td>\n",
              "      <td>C</td>\n",
              "      <td>Adults</td>\n",
              "      <td>0</td>\n",
              "    </tr>\n",
              "    <tr>\n",
              "      <th>63</th>\n",
              "      <td>64</td>\n",
              "      <td>0</td>\n",
              "      <td>3</td>\n",
              "      <td>Skoog, Master. Harald</td>\n",
              "      <td>male</td>\n",
              "      <td>4.00</td>\n",
              "      <td>3</td>\n",
              "      <td>2</td>\n",
              "      <td>347088</td>\n",
              "      <td>27.9000</td>\n",
              "      <td>NaN</td>\n",
              "      <td>S</td>\n",
              "      <td>Childreen</td>\n",
              "      <td>5</td>\n",
              "    </tr>\n",
              "    <tr>\n",
              "      <th>278</th>\n",
              "      <td>279</td>\n",
              "      <td>0</td>\n",
              "      <td>3</td>\n",
              "      <td>Rice, Master. Eric</td>\n",
              "      <td>male</td>\n",
              "      <td>7.00</td>\n",
              "      <td>4</td>\n",
              "      <td>1</td>\n",
              "      <td>382652</td>\n",
              "      <td>29.1250</td>\n",
              "      <td>NaN</td>\n",
              "      <td>Q</td>\n",
              "      <td>Childreen</td>\n",
              "      <td>5</td>\n",
              "    </tr>\n",
              "    <tr>\n",
              "      <th>325</th>\n",
              "      <td>326</td>\n",
              "      <td>1</td>\n",
              "      <td>1</td>\n",
              "      <td>Young, Miss. Marie Grice</td>\n",
              "      <td>female</td>\n",
              "      <td>36.00</td>\n",
              "      <td>0</td>\n",
              "      <td>0</td>\n",
              "      <td>PC 17760</td>\n",
              "      <td>135.6333</td>\n",
              "      <td>C32</td>\n",
              "      <td>C</td>\n",
              "      <td>Adults</td>\n",
              "      <td>0</td>\n",
              "    </tr>\n",
              "    <tr>\n",
              "      <th>831</th>\n",
              "      <td>832</td>\n",
              "      <td>1</td>\n",
              "      <td>2</td>\n",
              "      <td>Richards, Master. George Sibley</td>\n",
              "      <td>male</td>\n",
              "      <td>0.83</td>\n",
              "      <td>1</td>\n",
              "      <td>1</td>\n",
              "      <td>29106</td>\n",
              "      <td>18.7500</td>\n",
              "      <td>NaN</td>\n",
              "      <td>S</td>\n",
              "      <td>Childreen</td>\n",
              "      <td>2</td>\n",
              "    </tr>\n",
              "    <tr>\n",
              "      <th>638</th>\n",
              "      <td>639</td>\n",
              "      <td>0</td>\n",
              "      <td>3</td>\n",
              "      <td>Panula, Mrs. Juha (Maria Emilia Ojala)</td>\n",
              "      <td>female</td>\n",
              "      <td>41.00</td>\n",
              "      <td>0</td>\n",
              "      <td>5</td>\n",
              "      <td>3101295</td>\n",
              "      <td>39.6875</td>\n",
              "      <td>NaN</td>\n",
              "      <td>S</td>\n",
              "      <td>Adults</td>\n",
              "      <td>5</td>\n",
              "    </tr>\n",
              "    <tr>\n",
              "      <th>415</th>\n",
              "      <td>416</td>\n",
              "      <td>0</td>\n",
              "      <td>3</td>\n",
              "      <td>Meek, Mrs. Thomas (Annie Louise Rowley)</td>\n",
              "      <td>female</td>\n",
              "      <td>NaN</td>\n",
              "      <td>0</td>\n",
              "      <td>0</td>\n",
              "      <td>343095</td>\n",
              "      <td>8.0500</td>\n",
              "      <td>NaN</td>\n",
              "      <td>S</td>\n",
              "      <td>None</td>\n",
              "      <td>0</td>\n",
              "    </tr>\n",
              "    <tr>\n",
              "      <th>517</th>\n",
              "      <td>518</td>\n",
              "      <td>0</td>\n",
              "      <td>3</td>\n",
              "      <td>Ryan, Mr. Patrick</td>\n",
              "      <td>male</td>\n",
              "      <td>NaN</td>\n",
              "      <td>0</td>\n",
              "      <td>0</td>\n",
              "      <td>371110</td>\n",
              "      <td>24.1500</td>\n",
              "      <td>NaN</td>\n",
              "      <td>Q</td>\n",
              "      <td>None</td>\n",
              "      <td>0</td>\n",
              "    </tr>\n",
              "  </tbody>\n",
              "</table>\n",
              "</div>"
            ],
            "text/plain": [
              "     PassengerId  Survived  Pclass  ... Embarked Age Category  With Passenger\n",
              "689          690         1       1  ...        S  Adolescents               1\n",
              "123          124         1       2  ...        S       Adults               0\n",
              "292          293         0       2  ...        C       Adults               0\n",
              "63            64         0       3  ...        S    Childreen               5\n",
              "278          279         0       3  ...        Q    Childreen               5\n",
              "325          326         1       1  ...        C       Adults               0\n",
              "831          832         1       2  ...        S    Childreen               2\n",
              "638          639         0       3  ...        S       Adults               5\n",
              "415          416         0       3  ...        S         None               0\n",
              "517          518         0       3  ...        Q         None               0\n",
              "\n",
              "[10 rows x 14 columns]"
            ]
          },
          "execution_count": 217,
          "metadata": {},
          "output_type": "execute_result"
        }
      ]
    },
    {
      "cell_type": "code",
      "metadata": {
        "id": "r93T2rZ-RuMG"
      },
      "source": [
        "#function for extracting surname (dr,miss,mr) from name\n",
        "def surname(name):\n",
        "  name_list = name.split(', ')\n",
        "  name_finder = name_list[1].find('.')\n",
        "  return name_list[1][:name_finder]"
      ],
      "execution_count": null,
      "outputs": []
    },
    {
      "cell_type": "code",
      "metadata": {
        "id": "M60Q8ohNTXMi"
      },
      "source": [
        "df_titanic['surname'] = df_titanic['Name'].apply(surname)"
      ],
      "execution_count": null,
      "outputs": []
    },
    {
      "cell_type": "code",
      "metadata": {
        "colab": {
          "base_uri": "https://localhost:8080/"
        },
        "id": "tkffbUnyUWyO",
        "outputId": "5b15dd39-5588-4763-e81a-7bcf203ab649"
      },
      "source": [
        "df_titanic['surname']"
      ],
      "execution_count": null,
      "outputs": [
        {
          "data": {
            "text/plain": [
              "0        Mr\n",
              "1       Mrs\n",
              "2      Miss\n",
              "3       Mrs\n",
              "4        Mr\n",
              "       ... \n",
              "886     Rev\n",
              "887    Miss\n",
              "888    Miss\n",
              "889      Mr\n",
              "890      Mr\n",
              "Name: surname, Length: 891, dtype: object"
            ]
          },
          "execution_count": 220,
          "metadata": {},
          "output_type": "execute_result"
        }
      ]
    },
    {
      "cell_type": "code",
      "metadata": {
        "colab": {
          "base_uri": "https://localhost:8080/"
        },
        "id": "Cd2ZjxIrUi6-",
        "outputId": "f80999fa-05b1-44e5-9071-9683235df2f4"
      },
      "source": [
        "df_titanic['surname'].describe()"
      ],
      "execution_count": null,
      "outputs": [
        {
          "data": {
            "text/plain": [
              "count     891\n",
              "unique     17\n",
              "top        Mr\n",
              "freq      517\n",
              "Name: surname, dtype: object"
            ]
          },
          "execution_count": 221,
          "metadata": {},
          "output_type": "execute_result"
        }
      ]
    },
    {
      "cell_type": "code",
      "metadata": {
        "colab": {
          "background_save": true,
          "base_uri": "https://localhost:8080/"
        },
        "id": "qc23ZK9nUc1R",
        "outputId": "a634282f-ec22-48ba-aca0-37547ca26e40"
      },
      "source": [
        "df_titanic['surname'].value_counts()"
      ],
      "execution_count": null,
      "outputs": [
        {
          "data": {
            "text/plain": [
              "Mr              517\n",
              "Miss            182\n",
              "Mrs             125\n",
              "Master           40\n",
              "Dr                7\n",
              "Rev               6\n",
              "Mlle              2\n",
              "Col               2\n",
              "Major             2\n",
              "Don               1\n",
              "Lady              1\n",
              "the Countess      1\n",
              "Sir               1\n",
              "Mme               1\n",
              "Capt              1\n",
              "Ms                1\n",
              "Jonkheer          1\n",
              "Name: surname, dtype: int64"
            ]
          },
          "execution_count": null,
          "metadata": {},
          "output_type": "execute_result"
        }
      ]
    },
    {
      "cell_type": "code",
      "metadata": {
        "colab": {
          "background_save": true,
          "base_uri": "https://localhost:8080/",
          "height": 741
        },
        "id": "SzQ8FghBUvo1",
        "outputId": "6b415151-0d1c-467f-d79b-9b03e5c7bd85"
      },
      "source": [
        "sns.countplot(x=df_titanic['surname'])"
      ],
      "execution_count": null,
      "outputs": [
        {
          "data": {
            "text/plain": [
              "<matplotlib.axes._subplots.AxesSubplot at 0x7f0844706310>"
            ]
          },
          "execution_count": null,
          "metadata": {},
          "output_type": "execute_result"
        },
        {
          "data": {
            "image/png": "[encoded data removed]",
            "text/plain": [
              "<Figure size 864x864 with 1 Axes>"
            ]
          },
          "metadata": {},
          "output_type": "display_data"
        }
      ]
    },
    {
      "cell_type": "code",
      "metadata": {
        "colab": {
          "base_uri": "https://localhost:8080/",
          "height": 923
        },
        "id": "oBjWaNsDPvxy",
        "outputId": "a21dbd11-0747-4b79-fa4d-b473389d0540"
      },
      "source": [
        "df_911.sample(10)"
      ],
      "execution_count": null,
      "outputs": [
        {
          "output_type": "execute_result",
          "data": {
            "text/html": [
              "<div>\n",
              "<style scoped>\n",
              "    .dataframe tbody tr th:only-of-type {\n",
              "        vertical-align: middle;\n",
              "    }\n",
              "\n",
              "    .dataframe tbody tr th {\n",
              "        vertical-align: top;\n",
              "    }\n",
              "\n",
              "    .dataframe thead th {\n",
              "        text-align: right;\n",
              "    }\n",
              "</style>\n",
              "<table border=\"1\" class=\"dataframe\">\n",
              "  <thead>\n",
              "    <tr style=\"text-align: right;\">\n",
              "      <th></th>\n",
              "      <th>lat</th>\n",
              "      <th>lng</th>\n",
              "      <th>desc</th>\n",
              "      <th>zip</th>\n",
              "      <th>title</th>\n",
              "      <th>timeStamp</th>\n",
              "      <th>twp</th>\n",
              "      <th>addr</th>\n",
              "      <th>e</th>\n",
              "      <th>Date</th>\n",
              "      <th>Year</th>\n",
              "      <th>Month</th>\n",
              "      <th>Month_Name</th>\n",
              "      <th>Week</th>\n",
              "      <th>Day</th>\n",
              "      <th>Week_Day</th>\n",
              "      <th>Day_Name</th>\n",
              "      <th>Hour</th>\n",
              "      <th>Minute</th>\n",
              "      <th>Period</th>\n",
              "      <th>Season</th>\n",
              "      <th>Elapsed_Years from WW2</th>\n",
              "    </tr>\n",
              "  </thead>\n",
              "  <tbody>\n",
              "    <tr>\n",
              "      <th>312554</th>\n",
              "      <td>40.182491</td>\n",
              "      <td>-75.090210</td>\n",
              "      <td>E COUNTY LINE RD &amp; N WARMINSTER RD; UPPER MORE...</td>\n",
              "      <td>18974.0</td>\n",
              "      <td>Traffic: VEHICLE ACCIDENT -</td>\n",
              "      <td>2018-02-22 17:15:20</td>\n",
              "      <td>UPPER MORELAND</td>\n",
              "      <td>E COUNTY LINE RD &amp; N WARMINSTER RD</td>\n",
              "      <td>1</td>\n",
              "      <td>2018-02-22</td>\n",
              "      <td>2018</td>\n",
              "      <td>2</td>\n",
              "      <td>February</td>\n",
              "      <td>8</td>\n",
              "      <td>22</td>\n",
              "      <td>3</td>\n",
              "      <td>Thursday</td>\n",
              "      <td>17</td>\n",
              "      <td>15</td>\n",
              "      <td>afternoon</td>\n",
              "      <td>Winter</td>\n",
              "      <td>72.477105</td>\n",
              "    </tr>\n",
              "    <tr>\n",
              "      <th>4434</th>\n",
              "      <td>40.149342</td>\n",
              "      <td>-75.127586</td>\n",
              "      <td>SHELDON RD &amp; MADISON RD; UPPER MORELAND; 2015-...</td>\n",
              "      <td>19090.0</td>\n",
              "      <td>Traffic: VEHICLE ACCIDENT -</td>\n",
              "      <td>2015-12-22 15:26:51</td>\n",
              "      <td>UPPER MORELAND</td>\n",
              "      <td>SHELDON RD &amp; MADISON RD</td>\n",
              "      <td>1</td>\n",
              "      <td>2015-12-22</td>\n",
              "      <td>2015</td>\n",
              "      <td>12</td>\n",
              "      <td>December</td>\n",
              "      <td>52</td>\n",
              "      <td>22</td>\n",
              "      <td>1</td>\n",
              "      <td>Tuesday</td>\n",
              "      <td>15</td>\n",
              "      <td>26</td>\n",
              "      <td>afternoon</td>\n",
              "      <td>Winter</td>\n",
              "      <td>70.305738</td>\n",
              "    </tr>\n",
              "    <tr>\n",
              "      <th>55062</th>\n",
              "      <td>40.019718</td>\n",
              "      <td>-75.314749</td>\n",
              "      <td>LANCASTER AVE &amp; TOWN PL; LOWER MERION; 2016-05...</td>\n",
              "      <td>19010.0</td>\n",
              "      <td>Traffic: VEHICLE ACCIDENT -</td>\n",
              "      <td>2016-05-02 12:40:59</td>\n",
              "      <td>LOWER MERION</td>\n",
              "      <td>LANCASTER AVE &amp; TOWN PL</td>\n",
              "      <td>1</td>\n",
              "      <td>2016-05-02</td>\n",
              "      <td>2016</td>\n",
              "      <td>5</td>\n",
              "      <td>May</td>\n",
              "      <td>18</td>\n",
              "      <td>2</td>\n",
              "      <td>0</td>\n",
              "      <td>Monday</td>\n",
              "      <td>12</td>\n",
              "      <td>40</td>\n",
              "      <td>morning</td>\n",
              "      <td>Spring</td>\n",
              "      <td>70.666827</td>\n",
              "    </tr>\n",
              "    <tr>\n",
              "      <th>63406</th>\n",
              "      <td>40.145223</td>\n",
              "      <td>-75.318684</td>\n",
              "      <td>W GERMANTOWN PIKE &amp; SWEDE RD; EAST NORRITON; 2...</td>\n",
              "      <td>19401.0</td>\n",
              "      <td>Traffic: VEHICLE ACCIDENT -</td>\n",
              "      <td>2016-05-25 08:13:19</td>\n",
              "      <td>EAST NORRITON</td>\n",
              "      <td>W GERMANTOWN PIKE &amp; SWEDE RD</td>\n",
              "      <td>1</td>\n",
              "      <td>2016-05-25</td>\n",
              "      <td>2016</td>\n",
              "      <td>5</td>\n",
              "      <td>May</td>\n",
              "      <td>21</td>\n",
              "      <td>25</td>\n",
              "      <td>2</td>\n",
              "      <td>Wednesday</td>\n",
              "      <td>8</td>\n",
              "      <td>13</td>\n",
              "      <td>morning</td>\n",
              "      <td>Spring</td>\n",
              "      <td>70.729290</td>\n",
              "    </tr>\n",
              "    <tr>\n",
              "      <th>324861</th>\n",
              "      <td>40.249139</td>\n",
              "      <td>-75.646177</td>\n",
              "      <td>BEECH ST &amp; LOCUST ALY;  POTTSTOWN; Station 329...</td>\n",
              "      <td>19464.0</td>\n",
              "      <td>EMS: SEIZURES</td>\n",
              "      <td>2018-03-18 23:13:32</td>\n",
              "      <td>POTTSTOWN</td>\n",
              "      <td>BEECH ST &amp; LOCUST ALY</td>\n",
              "      <td>1</td>\n",
              "      <td>2018-03-18</td>\n",
              "      <td>2018</td>\n",
              "      <td>3</td>\n",
              "      <td>March</td>\n",
              "      <td>11</td>\n",
              "      <td>18</td>\n",
              "      <td>6</td>\n",
              "      <td>Sunday</td>\n",
              "      <td>23</td>\n",
              "      <td>13</td>\n",
              "      <td>evening</td>\n",
              "      <td>Spring</td>\n",
              "      <td>72.543496</td>\n",
              "    </tr>\n",
              "    <tr>\n",
              "      <th>48435</th>\n",
              "      <td>40.087195</td>\n",
              "      <td>-75.141239</td>\n",
              "      <td>KENT RD &amp; HEACOCK LN; CHELTENHAM; 2016-04-14 @...</td>\n",
              "      <td>19095.0</td>\n",
              "      <td>Traffic: ROAD OBSTRUCTION -</td>\n",
              "      <td>2016-04-14 08:11:07</td>\n",
              "      <td>CHELTENHAM</td>\n",
              "      <td>KENT RD &amp; HEACOCK LN</td>\n",
              "      <td>1</td>\n",
              "      <td>2016-04-14</td>\n",
              "      <td>2016</td>\n",
              "      <td>4</td>\n",
              "      <td>April</td>\n",
              "      <td>15</td>\n",
              "      <td>14</td>\n",
              "      <td>3</td>\n",
              "      <td>Thursday</td>\n",
              "      <td>8</td>\n",
              "      <td>11</td>\n",
              "      <td>morning</td>\n",
              "      <td>Spring</td>\n",
              "      <td>70.617031</td>\n",
              "    </tr>\n",
              "    <tr>\n",
              "      <th>146276</th>\n",
              "      <td>40.230981</td>\n",
              "      <td>-75.341775</td>\n",
              "      <td>RAMPART LN &amp; BETH LN;  TOWAMENCIN; Station 345...</td>\n",
              "      <td>19446.0</td>\n",
              "      <td>EMS: CARDIAC EMERGENCY</td>\n",
              "      <td>2016-12-21 10:46:53</td>\n",
              "      <td>TOWAMENCIN</td>\n",
              "      <td>RAMPART LN &amp; BETH LN</td>\n",
              "      <td>1</td>\n",
              "      <td>2016-12-21</td>\n",
              "      <td>2016</td>\n",
              "      <td>12</td>\n",
              "      <td>December</td>\n",
              "      <td>51</td>\n",
              "      <td>21</td>\n",
              "      <td>2</td>\n",
              "      <td>Wednesday</td>\n",
              "      <td>10</td>\n",
              "      <td>46</td>\n",
              "      <td>morning</td>\n",
              "      <td>Winter</td>\n",
              "      <td>71.304542</td>\n",
              "    </tr>\n",
              "    <tr>\n",
              "      <th>388947</th>\n",
              "      <td>40.227171</td>\n",
              "      <td>-75.507443</td>\n",
              "      <td>HEFFNER RD &amp; HARNETT LN;  LIMERICK; Station 32...</td>\n",
              "      <td>19468.0</td>\n",
              "      <td>EMS: SUBJECT IN PAIN</td>\n",
              "      <td>2018-08-27 19:01:30</td>\n",
              "      <td>LIMERICK</td>\n",
              "      <td>HEFFNER RD &amp; HARNETT LN</td>\n",
              "      <td>1</td>\n",
              "      <td>2018-08-27</td>\n",
              "      <td>2018</td>\n",
              "      <td>8</td>\n",
              "      <td>August</td>\n",
              "      <td>35</td>\n",
              "      <td>27</td>\n",
              "      <td>0</td>\n",
              "      <td>Monday</td>\n",
              "      <td>19</td>\n",
              "      <td>1</td>\n",
              "      <td>evening</td>\n",
              "      <td>Summer</td>\n",
              "      <td>72.986557</td>\n",
              "    </tr>\n",
              "    <tr>\n",
              "      <th>111553</th>\n",
              "      <td>40.070974</td>\n",
              "      <td>-75.318671</td>\n",
              "      <td>MOIR AVE &amp; STEAD ST;  WEST CONSHOHOCKEN; Stati...</td>\n",
              "      <td>19428.0</td>\n",
              "      <td>EMS: SYNCOPAL EPISODE</td>\n",
              "      <td>2016-09-26 10:51:11</td>\n",
              "      <td>WEST CONSHOHOCKEN</td>\n",
              "      <td>MOIR AVE &amp; STEAD ST</td>\n",
              "      <td>1</td>\n",
              "      <td>2016-09-26</td>\n",
              "      <td>2016</td>\n",
              "      <td>9</td>\n",
              "      <td>September</td>\n",
              "      <td>39</td>\n",
              "      <td>26</td>\n",
              "      <td>0</td>\n",
              "      <td>Monday</td>\n",
              "      <td>10</td>\n",
              "      <td>51</td>\n",
              "      <td>morning</td>\n",
              "      <td>Autumn</td>\n",
              "      <td>71.069090</td>\n",
              "    </tr>\n",
              "    <tr>\n",
              "      <th>355688</th>\n",
              "      <td>40.029665</td>\n",
              "      <td>-75.324281</td>\n",
              "      <td>AIRDALE RD &amp; W MONTGOMERY AVE; LOWER MERION; 2...</td>\n",
              "      <td>19010.0</td>\n",
              "      <td>Traffic: DISABLED VEHICLE -</td>\n",
              "      <td>2018-06-06 12:09:06</td>\n",
              "      <td>LOWER MERION</td>\n",
              "      <td>AIRDALE RD &amp; W MONTGOMERY AVE</td>\n",
              "      <td>1</td>\n",
              "      <td>2018-06-06</td>\n",
              "      <td>2018</td>\n",
              "      <td>6</td>\n",
              "      <td>June</td>\n",
              "      <td>23</td>\n",
              "      <td>6</td>\n",
              "      <td>2</td>\n",
              "      <td>Wednesday</td>\n",
              "      <td>12</td>\n",
              "      <td>9</td>\n",
              "      <td>morning</td>\n",
              "      <td>Summer</td>\n",
              "      <td>72.761265</td>\n",
              "    </tr>\n",
              "  </tbody>\n",
              "</table>\n",
              "</div>"
            ],
            "text/plain": [
              "              lat        lng  ...  Season  Elapsed_Years from WW2\n",
              "312554  40.182491 -75.090210  ...  Winter               72.477105\n",
              "4434    40.149342 -75.127586  ...  Winter               70.305738\n",
              "55062   40.019718 -75.314749  ...  Spring               70.666827\n",
              "63406   40.145223 -75.318684  ...  Spring               70.729290\n",
              "324861  40.249139 -75.646177  ...  Spring               72.543496\n",
              "48435   40.087195 -75.141239  ...  Spring               70.617031\n",
              "146276  40.230981 -75.341775  ...  Winter               71.304542\n",
              "388947  40.227171 -75.507443  ...  Summer               72.986557\n",
              "111553  40.070974 -75.318671  ...  Autumn               71.069090\n",
              "355688  40.029665 -75.324281  ...  Summer               72.761265\n",
              "\n",
              "[10 rows x 22 columns]"
            ]
          },
          "metadata": {},
          "execution_count": 224
        }
      ]
    },
    {
      "cell_type": "code",
      "metadata": {
        "id": "MLdxgvXTX3Dq"
      },
      "source": [
        "def extract_reason(title):\n",
        "  title_list = title.split(':')\n",
        "  return title_list[0]\n"
      ],
      "execution_count": null,
      "outputs": []
    },
    {
      "cell_type": "code",
      "metadata": {
        "id": "9c3tdgOaaHAT"
      },
      "source": [
        "df_911['Reason'] = df_911['title'].apply(extract_reason)  "
      ],
      "execution_count": null,
      "outputs": []
    },
    {
      "cell_type": "code",
      "metadata": {
        "colab": {
          "base_uri": "https://localhost:8080/"
        },
        "id": "6qbmPWQcbDjD",
        "outputId": "d615c478-3be5-4b1c-d2e8-d6997cfc87fb"
      },
      "source": [
        "df_911['Reason']"
      ],
      "execution_count": null,
      "outputs": [
        {
          "output_type": "execute_result",
          "data": {
            "text/plain": [
              "0             EMS\n",
              "1             EMS\n",
              "2            Fire\n",
              "3             EMS\n",
              "4             EMS\n",
              "           ...   \n",
              "423904    Traffic\n",
              "423905    Traffic\n",
              "423906    Traffic\n",
              "423907    Traffic\n",
              "423908    Traffic\n",
              "Name: Reason, Length: 423909, dtype: object"
            ]
          },
          "metadata": {},
          "execution_count": 227
        }
      ]
    },
    {
      "cell_type": "code",
      "metadata": {
        "colab": {
          "base_uri": "https://localhost:8080/"
        },
        "id": "VDAKj28Qitx8",
        "outputId": "24ad5a6d-9e43-4734-e4fd-918956598722"
      },
      "source": [
        "df_911['Reason'].describe()"
      ],
      "execution_count": null,
      "outputs": [
        {
          "output_type": "execute_result",
          "data": {
            "text/plain": [
              "count     423909\n",
              "unique         3\n",
              "top          EMS\n",
              "freq      208676\n",
              "Name: Reason, dtype: object"
            ]
          },
          "metadata": {},
          "execution_count": 229
        }
      ]
    },
    {
      "cell_type": "code",
      "metadata": {
        "colab": {
          "base_uri": "https://localhost:8080/"
        },
        "id": "NHRJOJznimC0",
        "outputId": "5934933e-a349-469f-e525-e881944ff007"
      },
      "source": [
        "df_911['Reason'].value_counts()"
      ],
      "execution_count": null,
      "outputs": [
        {
          "output_type": "execute_result",
          "data": {
            "text/plain": [
              "EMS        208676\n",
              "Traffic    151458\n",
              "Fire        63775\n",
              "Name: Reason, dtype: int64"
            ]
          },
          "metadata": {},
          "execution_count": 228
        }
      ]
    },
    {
      "cell_type": "code",
      "metadata": {
        "colab": {
          "base_uri": "https://localhost:8080/",
          "height": 741
        },
        "id": "qJYihN33bHmM",
        "outputId": "40c929ef-0666-4342-a8db-07fc7df93257"
      },
      "source": [
        "sns.countplot(x=df_911['Reason'])"
      ],
      "execution_count": null,
      "outputs": [
        {
          "output_type": "execute_result",
          "data": {
            "text/plain": [
              "<matplotlib.axes._subplots.AxesSubplot at 0x7f0834ee92d0>"
            ]
          },
          "metadata": {},
          "execution_count": 230
        },
        {
          "output_type": "display_data",
          "data": {
            "image/png": "[encoded data removed]",
            "text/plain": [
              "<Figure size 864x864 with 1 Axes>"
            ]
          },
          "metadata": {}
        }
      ]
    },
    {
      "cell_type": "code",
      "metadata": {
        "id": "g3wrpvaZi6jT"
      },
      "source": [
        ""
      ],
      "execution_count": null,
      "outputs": []
    }
  ]
}