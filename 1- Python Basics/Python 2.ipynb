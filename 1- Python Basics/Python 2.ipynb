{
  "cells": [
    {
      "cell_type": "markdown",
      "metadata": {
        "id": "J-4HPoYOHVe1"
      },
      "source": [
        "# **1. If , elif and else statments**\n",
        "\n",
        "---\n",
        "\n",
        "\n",
        "\n",
        "---\n",
        "\n"
      ]
    },
    {
      "cell_type": "code",
      "execution_count": null,
      "metadata": {
        "colab": {
          "base_uri": "https://localhost:8080/"
        },
        "id": "qV0t2MJNHliE",
        "outputId": "911e262c-23b7-40f0-888b-f6ad7bbd52a6"
      },
      "outputs": [
        {
          "name": "stdout",
          "output_type": "stream",
          "text": [
            " The if Condition is True so if block excusted \n"
          ]
        }
      ],
      "source": [
        "if True :\n",
        "  print(' The if Condition is True so if block is excusted ')"
      ]
    },
    {
      "cell_type": "code",
      "execution_count": null,
      "metadata": {
        "colab": {
          "base_uri": "https://localhost:8080/"
        },
        "id": "5ZyI4YZ8HlZl",
        "outputId": "ff441486-592f-48ea-f15b-452ba618ef66"
      },
      "outputs": [
        {
          "name": "stdout",
          "output_type": "stream",
          "text": [
            "\tThe if Condition is False so if block isnit excusted \n"
          ]
        }
      ],
      "source": [
        "if False :\n",
        "  print(' The if Condition is True so if block is excusted ')\n",
        "else : \n",
        "  print('The if Condition is False so if block isnit excusted ')\n"
      ]
    },
    {
      "cell_type": "code",
      "execution_count": null,
      "metadata": {
        "colab": {
          "base_uri": "https://localhost:8080/"
        },
        "id": "xyCQT5HlHlT5",
        "outputId": "18c56036-73d4-42c5-e15b-85aa991bee1c"
      },
      "outputs": [
        {
          "name": "stdout",
          "output_type": "stream",
          "text": [
            "The elif Condition is True so elif block is excusted but if block isnit excusted \n"
          ]
        }
      ],
      "source": [
        "if False :\n",
        "  print(' The if Condition is True so if block is excusted ')\n",
        "elif True : \n",
        "  print('The elif Condition is True so elif block is excusted but if block isnit excusted ')\n"
      ]
    },
    {
      "cell_type": "code",
      "execution_count": null,
      "metadata": {
        "colab": {
          "base_uri": "https://localhost:8080/"
        },
        "id": "LKFipb45HlI7",
        "outputId": "7103d595-4f6e-4ced-e335-150920ac9564"
      },
      "outputs": [
        {
          "name": "stdout",
          "output_type": "stream",
          "text": [
            "12 + 3\n",
            "15\n"
          ]
        }
      ],
      "source": [
        "inp = input(\"\")\n",
        "inp = inp.split()\n",
        "if '+' in inp :\n",
        "  sum= int(inp[0])+ int(inp[2])\n",
        "  print(sum)\n",
        "elif '-' in inp :\n",
        "  sub= int(inp[0])-int(inp[2])\n",
        "  print(sub)    \n",
        "elif '*' in inp : \n",
        "  mul= int(inp[0])*int(inp[2])\n",
        "  print(mul)    \n",
        "elif '/' in inp :\n",
        "  div= int(inp[0])/int(inp[2])\n",
        "  print(div) \n",
        "else :\n",
        "  print(\"Enter correct operation\")     \n",
        "\n",
        "    \n"
      ]
    },
    {
      "cell_type": "code",
      "execution_count": null,
      "metadata": {
        "id": "VvdYfMzGLxku"
      },
      "outputs": [],
      "source": [
        "inp = int(input(\"Enter Your AGE : \"))\n",
        "if inp<=12 and inp>0 :\n",
        "  print(f'OH {inp}! \\n Welcome! Clever Child ^_^')\n",
        "elif inp>12 and inp<20 :\n",
        "  print(f'OH {inp}! \\nWelcome! Rock Teenger ^_^')\n",
        "elif inp>=20 and inp<40 :\n",
        "  print(f'OH {inp}! \\nWelcome! Strong Young ^_^')\n",
        "elif inp>40 :\n",
        "  print(f'OH {inp}! \\nWelcome! Handsom Young  ^_^ ')\n",
        "else :\n",
        "  print(\"Please! Enter correct Age \")     \n",
        "\n",
        "    \n"
      ]
    },
    {
      "cell_type": "code",
      "execution_count": null,
      "metadata": {
        "colab": {
          "base_uri": "https://localhost:8080/"
        },
        "id": "_Oj3UJuWLdlu",
        "outputId": "b467c1c7-2812-4d24-e2ad-24cc7c6914ad"
      },
      "outputs": [
        {
          "name": "stdout",
          "output_type": "stream",
          "text": [
            "Enter Your AGE : 12\n",
            "OH 12! \n",
            " Welcome! Clever Child ^_^\n"
          ]
        }
      ],
      "source": [
        "inp = int(input(\"Enter Your AGE : \"))\n",
        "if inp<=12 and inp>0 :\n",
        "  print(f'OH {inp}! \\n Welcome! Clever Child ^_^')\n",
        "elif inp>12 and inp<20 :\n",
        "  print(f'OH {inp}! \\nWelcome! Rock Teenger ^_^')\n",
        "elif inp>=20 and inp<40 :\n",
        "  print(f'OH {inp}! \\nWelcome! Strong Young ^_^')\n",
        "elif inp>40 :\n",
        "  print(f'OH {inp}! \\nWelcome! Handsom Young  ^_^ ')\n",
        "else :\n",
        "  print(\"Please! Enter correct Age \")     \n",
        "\n",
        "    \n"
      ]
    },
    {
      "cell_type": "code",
      "execution_count": null,
      "metadata": {
        "colab": {
          "base_uri": "https://localhost:8080/"
        },
        "id": "ddyhvXDrLqSC",
        "outputId": "9e5f2df6-7159-4b19-cb58-b649419ff4a8"
      },
      "outputs": [
        {
          "name": "stdout",
          "output_type": "stream",
          "text": [
            "Age is 20\n",
            "else\n"
          ]
        }
      ],
      "source": [
        "names = ['aslm','nody','mohammed','fawzy','hala']\n",
        "if 'aslm' in names:\n",
        "  print(\"Age is 20\")\n",
        "elif ' ' in names  :\n",
        "  print(\" \\\\\")\n",
        "if 'wael' in names :\n",
        "  print('not')\n",
        "else :\n",
        "  print('else')    "
      ]
    },
    {
      "cell_type": "code",
      "execution_count": null,
      "metadata": {
        "colab": {
          "base_uri": "https://localhost:8080/"
        },
        "id": "F3ifYYKvMh9H",
        "outputId": "1e586973-f84e-4da2-d034-3340875a7f9a"
      },
      "outputs": [
        {
          "name": "stdout",
          "output_type": "stream",
          "text": [
            "30\n"
          ]
        }
      ],
      "source": [
        "a = 30\n",
        "b = 20 \n",
        "\n",
        "if a > b:\n",
        "    print(a)\n",
        "else:\n",
        "    print(b)"
      ]
    },
    {
      "cell_type": "code",
      "execution_count": null,
      "metadata": {
        "colab": {
          "base_uri": "https://localhost:8080/"
        },
        "id": "l8Jd6XbDMlUm",
        "outputId": "29182f9d-c2c0-4d34-d157-2d4ee1be69b4"
      },
      "outputs": [
        {
          "name": "stdout",
          "output_type": "stream",
          "text": [
            "30\n"
          ]
        }
      ],
      "source": [
        "print(a if a > b else a<b)"
      ]
    },
    {
      "cell_type": "code",
      "execution_count": null,
      "metadata": {
        "colab": {
          "base_uri": "https://localhost:8080/"
        },
        "id": "MQJfIlDgNAFI",
        "outputId": "2e9045ae-ade2-4ed2-c0be-d00631097b00"
      },
      "outputs": [
        {
          "name": "stdout",
          "output_type": "stream",
          "text": [
            "Enter your number: 12\n",
            "positive\n"
          ]
        }
      ],
      "source": [
        "number = int(input('Enter your number: '))\n",
        "\n",
        "if number > 0:\n",
        "    print('positive')\n",
        "elif number < 0:\n",
        "    print('negative')\n",
        "else:\n",
        "    print('zero')"
      ]
    },
    {
      "cell_type": "code",
      "execution_count": null,
      "metadata": {
        "colab": {
          "base_uri": "https://localhost:8080/"
        },
        "id": "cAxJsPI5NHYA",
        "outputId": "083319d4-274a-4393-b5cf-402a8147884f"
      },
      "outputs": [
        {
          "name": "stdout",
          "output_type": "stream",
          "text": [
            "enter your number : 12\n",
            "invaild number \n",
            "Please enter number from 0 to 100 \n"
          ]
        }
      ],
      "source": [
        "INP = int(input(\"enter your number : \"))\n",
        "if INP in range(90,101) :\n",
        "  print(\"Your Grade is A+\")\n",
        "elif INP in range(85,90)  :\n",
        "  print(\"Your Grade is A\")\n",
        "elif INP in range(75,85)  :\n",
        "  print(\"Your Grade is B+ \")\n",
        "elif INP in range(65,75)  :\n",
        "  print(\"Your Grade is B\")\n",
        "elif INP in range(50,65)  :\n",
        "  print(\"Your Grade is C\")  \n",
        "elif INP in range(50,65)  :\n",
        "  print(\"Your Grade is F\")  \n",
        "else :\n",
        "  print(\"invaild number \\nPlease enter number from 0 to 100 \")  "
      ]
    },
    {
      "cell_type": "code",
      "execution_count": null,
      "metadata": {
        "colab": {
          "base_uri": "https://localhost:8080/"
        },
        "id": "ZgcYVmK3NSXe",
        "outputId": "2f40b3ca-8dfe-4c66-cb89-49519bab172c"
      },
      "outputs": [
        {
          "name": "stdout",
          "output_type": "stream",
          "text": [
            "enter ur number: 12\n",
            "even\n"
          ]
        }
      ],
      "source": [
        "x = int(input('enter ur number: '))\n",
        "\n",
        "if x <= 0:\n",
        "    print('please input +ve number')\n",
        "elif x % 2 == 0:\n",
        "    print('even')\n",
        "elif x % 2 != 0:\n",
        "    print('odd')"
      ]
    },
    {
      "cell_type": "markdown",
      "metadata": {
        "id": "zklSAInbHTJi"
      },
      "source": [
        "# **2.For loops**\n",
        "\n",
        "---\n",
        "\n",
        "\n",
        "\n",
        "---\n",
        "\n"
      ]
    },
    {
      "cell_type": "code",
      "execution_count": null,
      "metadata": {
        "colab": {
          "base_uri": "https://localhost:8080/"
        },
        "id": "NyfVyUcoP2NX",
        "outputId": "c3fffc45-4616-4605-c05d-4f8f1b63b9b6"
      },
      "outputs": [
        {
          "name": "stdout",
          "output_type": "stream",
          "text": [
            "1\n",
            "3\n",
            "5\n",
            "4\n",
            "12\n",
            "2\n",
            "--------------------------------------\n",
            "1 is Odd number\n",
            "3 is Odd number\n",
            "5 is Odd number\n",
            "4 is Even number\n",
            "12 is Even number\n",
            "2 is Even number\n",
            "--------------------------------------\n",
            " Powering of items by 2 :\n",
            "1\n",
            "9\n",
            "25\n",
            "16\n",
            "144\n",
            "4\n",
            "--------------------------------------\n",
            "The sum of items = 27\n"
          ]
        }
      ],
      "source": [
        "lis_1 = [1,3,5,4,12,2]\n",
        "for item in lis_1 :\n",
        "  print(item)\n",
        "print(\"--------------------------------------\") \n",
        "for item in lis_1 :\n",
        "    if item % 2 == 0:\n",
        "        print(f'{item} is Even number')\n",
        "    else:\n",
        "        print(f'{item} is Odd number')\n",
        "print(\"--------------------------------------\") \n",
        "print(' Powering of items by 2 :')\n",
        "for item in lis_1 :\n",
        "  print(item**2) \n",
        "list_sum = 0\n",
        "for sum in lis_1:\n",
        "    list_sum = list_sum + sum\n",
        "print(\"--------------------------------------\") \n",
        "print(\"The sum of items =\",list_sum)\n"
      ]
    },
    {
      "cell_type": "code",
      "execution_count": null,
      "metadata": {
        "colab": {
          "base_uri": "https://localhost:8080/"
        },
        "id": "2QLSqufrRLF6",
        "outputId": "fc780886-1925-46b9-fab2-97f8d80c6445"
      },
      "outputs": [
        {
          "name": "stdout",
          "output_type": "stream",
          "text": [
            "a\n",
            "b\n",
            "c\n",
            "d\n",
            "e\n",
            "f\n",
            "g\n",
            "h\n",
            "i\n",
            "j\n",
            "k\n",
            "l\n",
            "m\n",
            "n\n",
            "o\n",
            "p\n",
            "q\n",
            "r\n",
            "s\n",
            "t\n",
            "u\n",
            "w\n",
            "v\n",
            "x\n",
            "y\n",
            "z\n"
          ]
        }
      ],
      "source": [
        "alphabet= 'a b c d e f g h i j k l m n o p q r s t u w v x y z '\n",
        "for letter in alphabet.split() :\n",
        "  print(letter)"
      ]
    },
    {
      "cell_type": "code",
      "execution_count": null,
      "metadata": {
        "colab": {
          "base_uri": "https://localhost:8080/"
        },
        "id": "0HydQMVvTUC8",
        "outputId": "155745f8-549c-4ced-a668-9d7c4e391940"
      },
      "outputs": [
        {
          "name": "stdout",
          "output_type": "stream",
          "text": [
            "A\n",
            "B\n",
            "C\n",
            "D\n",
            "E\n",
            "F\n",
            "G\n",
            "H\n",
            "I\n",
            "J\n",
            "K\n",
            "L\n",
            "M\n",
            "N\n",
            "O\n",
            "P\n",
            "Q\n",
            "R\n",
            "S\n",
            "T\n",
            "U\n",
            "W\n",
            "V\n",
            "X\n",
            "Y\n",
            "Z\n"
          ]
        }
      ],
      "source": [
        "alphabet= 'a b c d e f g h i j k l m n o p q r s t u w v x y z '\n",
        "for letter in alphabet.split() :\n",
        "  print(letter.upper())"
      ]
    },
    {
      "cell_type": "code",
      "execution_count": null,
      "metadata": {
        "colab": {
          "base_uri": "https://localhost:8080/"
        },
        "id": "pxzKRrJBT3BJ",
        "outputId": "cbb88219-d670-4ca7-b910-1ce00f7346a8"
      },
      "outputs": [
        {
          "name": "stdout",
          "output_type": "stream",
          "text": [
            "2 - 4 - 20 - 30\n",
            "6 - 8 - 20 - 30\n",
            "10 - 12 - 20 - 30\n"
          ]
        }
      ],
      "source": [
        "lis_2 = [(2,4,20,30),(6,8,20,30),(10,12,20,30)]\n",
        "for (v1,v2,v3,v4) in lis_2:\n",
        "    print(f'{v1} - {v2} - {v3} - {v4}')"
      ]
    },
    {
      "cell_type": "code",
      "execution_count": null,
      "metadata": {
        "colab": {
          "base_uri": "https://localhost:8080/"
        },
        "id": "4xP1kwF_UUx8",
        "outputId": "a58fbc0b-4403-4e16-a79b-0445a14cdbe5"
      },
      "outputs": [
        {
          "name": "stdout",
          "output_type": "stream",
          "text": [
            "the key is Key_1 = Val_1\n",
            "the key is Key_2 = Val_2\n",
            "the key is Key_3 = Val_3\n"
          ]
        }
      ],
      "source": [
        "dic = {'Key_1': 'Val_1','Key_2': 'Val_2','Key_3': 'Val_3'}\n",
        "for k, v in dic.items():\n",
        "    print(f\"the key is {k} = {v}\")"
      ]
    },
    {
      "cell_type": "code",
      "execution_count": null,
      "metadata": {
        "colab": {
          "base_uri": "https://localhost:8080/"
        },
        "id": "6hrMFaN3Ux01",
        "outputId": "298b0745-91cf-4ca4-f3ea-e5af3efcba6b"
      },
      "outputs": [
        {
          "data": {
            "text/plain": [
              "[0, 1, 2, 3, 4, 5, 6, 7, 8, 9, 10, 11]"
            ]
          },
          "execution_count": 38,
          "metadata": {
            "tags": []
          },
          "output_type": "execute_result"
        }
      ],
      "source": [
        "list(range(12))"
      ]
    },
    {
      "cell_type": "code",
      "execution_count": null,
      "metadata": {
        "colab": {
          "base_uri": "https://localhost:8080/"
        },
        "id": "phtuEcOHU71L",
        "outputId": "6b2576b6-2caf-4480-f44a-271e2742cdc8"
      },
      "outputs": [
        {
          "name": "stdout",
          "output_type": "stream",
          "text": [
            "0- hi\n",
            "1- hi\n",
            "2- hi\n",
            "3- hi\n",
            "4- hi\n",
            "5- hi\n",
            "6- hi\n",
            "7- hi\n",
            "8- hi\n",
            "9- hi\n"
          ]
        }
      ],
      "source": [
        "for i in range(10):\n",
        "    print(f'{i}- hi')"
      ]
    },
    {
      "cell_type": "code",
      "execution_count": null,
      "metadata": {
        "colab": {
          "base_uri": "https://localhost:8080/"
        },
        "id": "Qfmhn9-hU7gQ",
        "outputId": "8f3c8ad6-7325-42e9-f927-63c31db8f967"
      },
      "outputs": [
        {
          "name": "stdout",
          "output_type": "stream",
          "text": [
            "10\n",
            "11\n",
            "12 is divisable on 3\n"
          ]
        }
      ],
      "source": [
        "for i in range(10, 41):\n",
        "    if i % 3 == 0:\n",
        "        print(f'{i} is divisable on 3')\n",
        "        break\n",
        "        print('continuing the loop')\n",
        "    else:\n",
        "        print(i)\n"
      ]
    },
    {
      "cell_type": "code",
      "execution_count": null,
      "metadata": {
        "colab": {
          "base_uri": "https://localhost:8080/"
        },
        "id": "VxN0tderVQC7",
        "outputId": "f1008bef-b229-4bcf-c7e9-0b2e39635772"
      },
      "outputs": [
        {
          "name": "stdout",
          "output_type": "stream",
          "text": [
            "10\n",
            "11\n",
            "13\n",
            "14\n",
            "16\n",
            "17\n",
            "19\n",
            "20\n",
            "22\n",
            "23\n",
            "25\n",
            "26\n",
            "28\n",
            "29\n",
            "31\n",
            "32\n",
            "34\n",
            "35\n",
            "37\n",
            "38\n",
            "40\n"
          ]
        }
      ],
      "source": [
        "for i in range(10, 41):\n",
        "    if i % 3 == 0:\n",
        "        continue\n",
        "        print(f'{i} is divisable on 3')\n",
        "    else:\n",
        "        print(i)\n"
      ]
    },
    {
      "cell_type": "code",
      "execution_count": null,
      "metadata": {
        "colab": {
          "base_uri": "https://localhost:8080/"
        },
        "id": "TCw38z5mVgRG",
        "outputId": "d2236205-e70d-45aa-e7f9-076c231710c9"
      },
      "outputs": [
        {
          "name": "stdout",
          "output_type": "stream",
          "text": [
            "0\n",
            "1\n",
            "2\n",
            "3\n",
            "4\n",
            "5\n",
            "6\n",
            "7\n",
            "8\n",
            "9\n",
            "No items left.\n"
          ]
        }
      ],
      "source": [
        "digits = range(10)\n",
        "\n",
        "for i in digits:\n",
        "    print(i)\n",
        "else:\n",
        "    print(\"No items left.\")"
      ]
    },
    {
      "cell_type": "code",
      "execution_count": null,
      "metadata": {
        "colab": {
          "base_uri": "https://localhost:8080/"
        },
        "id": "h2b3MrZGVoaa",
        "outputId": "e53b91b5-28c6-4787-c7f8-878b8de91335"
      },
      "outputs": [
        {
          "name": "stdout",
          "output_type": "stream",
          "text": [
            "letters of monday are: \n",
            "m\n",
            "o\n",
            "n\n",
            "d\n",
            "a\n",
            "y\n",
            "-----------\n",
            "letters of friday are: \n",
            "f\n",
            "r\n",
            "i\n",
            "d\n",
            "a\n",
            "y\n",
            "-----------\n",
            "letters of saturday are: \n",
            "s\n",
            "a\n",
            "t\n",
            "u\n",
            "r\n",
            "d\n",
            "a\n",
            "y\n",
            "-----------\n"
          ]
        }
      ],
      "source": [
        "days = ['monday', 'friday', 'saturday']\n",
        "\n",
        "for day in days:\n",
        "    print(f'letters of {day} are: ')\n",
        "    for letter in day:\n",
        "        print(letter)\n",
        "    print('-----------')"
      ]
    },
    {
      "cell_type": "code",
      "execution_count": null,
      "metadata": {
        "colab": {
          "base_uri": "https://localhost:8080/"
        },
        "id": "DK0VBIs1VqGc",
        "outputId": "9fcee9e1-fe6b-491e-faf1-6cd76e28b955"
      },
      "outputs": [
        {
          "name": "stdout",
          "output_type": "stream",
          "text": [
            "gdwl el darb le rkm 1\n",
            "1 * 1 = 1\n",
            "1 * 2 = 2\n",
            "1 * 3 = 3\n",
            "1 * 4 = 4\n",
            "1 * 5 = 5\n",
            "1 * 6 = 6\n",
            "1 * 7 = 7\n",
            "1 * 8 = 8\n",
            "1 * 9 = 9\n",
            "1 * 10 = 10\n",
            "--------------\n",
            "gdwl el darb le rkm 2\n",
            "2 * 1 = 2\n",
            "2 * 2 = 4\n",
            "2 * 3 = 6\n",
            "2 * 4 = 8\n",
            "2 * 5 = 10\n",
            "2 * 6 = 12\n",
            "2 * 7 = 14\n",
            "2 * 8 = 16\n",
            "2 * 9 = 18\n",
            "2 * 10 = 20\n",
            "--------------\n",
            "gdwl el darb le rkm 3\n",
            "3 * 1 = 3\n",
            "3 * 2 = 6\n",
            "3 * 3 = 9\n",
            "3 * 4 = 12\n",
            "3 * 5 = 15\n",
            "3 * 6 = 18\n",
            "3 * 7 = 21\n",
            "3 * 8 = 24\n",
            "3 * 9 = 27\n",
            "3 * 10 = 30\n",
            "--------------\n",
            "gdwl el darb le rkm 4\n",
            "4 * 1 = 4\n",
            "4 * 2 = 8\n",
            "4 * 3 = 12\n",
            "4 * 4 = 16\n",
            "4 * 5 = 20\n",
            "4 * 6 = 24\n",
            "4 * 7 = 28\n",
            "4 * 8 = 32\n",
            "4 * 9 = 36\n",
            "4 * 10 = 40\n",
            "--------------\n",
            "gdwl el darb le rkm 5\n",
            "5 * 1 = 5\n",
            "5 * 2 = 10\n",
            "5 * 3 = 15\n",
            "5 * 4 = 20\n",
            "5 * 5 = 25\n",
            "5 * 6 = 30\n",
            "5 * 7 = 35\n",
            "5 * 8 = 40\n",
            "5 * 9 = 45\n",
            "5 * 10 = 50\n",
            "--------------\n",
            "gdwl el darb le rkm 6\n",
            "6 * 1 = 6\n",
            "6 * 2 = 12\n",
            "6 * 3 = 18\n",
            "6 * 4 = 24\n",
            "6 * 5 = 30\n",
            "6 * 6 = 36\n",
            "6 * 7 = 42\n",
            "6 * 8 = 48\n",
            "6 * 9 = 54\n",
            "6 * 10 = 60\n",
            "--------------\n",
            "gdwl el darb le rkm 7\n",
            "7 * 1 = 7\n",
            "7 * 2 = 14\n",
            "7 * 3 = 21\n",
            "7 * 4 = 28\n",
            "7 * 5 = 35\n",
            "7 * 6 = 42\n",
            "7 * 7 = 49\n",
            "7 * 8 = 56\n",
            "7 * 9 = 63\n",
            "7 * 10 = 70\n",
            "--------------\n",
            "gdwl el darb le rkm 8\n",
            "8 * 1 = 8\n",
            "8 * 2 = 16\n",
            "8 * 3 = 24\n",
            "8 * 4 = 32\n",
            "8 * 5 = 40\n",
            "8 * 6 = 48\n",
            "8 * 7 = 56\n",
            "8 * 8 = 64\n",
            "8 * 9 = 72\n",
            "8 * 10 = 80\n",
            "--------------\n",
            "gdwl el darb le rkm 9\n",
            "9 * 1 = 9\n",
            "9 * 2 = 18\n",
            "9 * 3 = 27\n",
            "9 * 4 = 36\n",
            "9 * 5 = 45\n",
            "9 * 6 = 54\n",
            "9 * 7 = 63\n",
            "9 * 8 = 72\n",
            "9 * 9 = 81\n",
            "9 * 10 = 90\n",
            "--------------\n",
            "gdwl el darb le rkm 10\n",
            "10 * 1 = 10\n",
            "10 * 2 = 20\n",
            "10 * 3 = 30\n",
            "10 * 4 = 40\n",
            "10 * 5 = 50\n",
            "10 * 6 = 60\n",
            "10 * 7 = 70\n",
            "10 * 8 = 80\n",
            "10 * 9 = 90\n",
            "10 * 10 = 100\n",
            "--------------\n"
          ]
        }
      ],
      "source": [
        "for x in range(1, 11):\n",
        "    print(f'gdwl el darb le rkm {x}')\n",
        "    for y in range(1, 11):\n",
        "        print(f\"{x} * {y} = {x * y}\")\n",
        "    print('--------------')"
      ]
    },
    {
      "cell_type": "markdown",
      "metadata": {
        "id": "FGpcP54FX-dv"
      },
      "source": [
        "# **3.While loops**\n",
        "\n",
        "---\n",
        "\n",
        "\n",
        "\n",
        "---\n",
        "\n"
      ]
    },
    {
      "cell_type": "code",
      "execution_count": null,
      "metadata": {
        "colab": {
          "base_uri": "https://localhost:8080/"
        },
        "id": "YS98OaSga_S9",
        "outputId": "3ca10919-32b4-463f-fa61-42915f5c7cf2"
      },
      "outputs": [
        {
          "name": "stdout",
          "output_type": "stream",
          "text": [
            "0\n",
            "continuing...\n",
            "1\n",
            "continuing...\n",
            "2\n",
            "continuing...\n",
            "3\n",
            "x==3\n",
            "4\n",
            "continuing...\n",
            "5\n",
            "continuing...\n",
            "6\n",
            "continuing...\n",
            "7\n",
            "continuing...\n",
            "8\n",
            "continuing...\n",
            "9\n",
            "continuing...\n"
          ]
        }
      ],
      "source": [
        "x = 0\n",
        "while x < 10:\n",
        "    print(x)\n",
        "    if x==3:\n",
        "        print('x==3')\n",
        "    else:\n",
        "        print('continuing...')\n",
        "    x+=1"
      ]
    },
    {
      "cell_type": "code",
      "execution_count": null,
      "metadata": {
        "colab": {
          "base_uri": "https://localhost:8080/"
        },
        "id": "rnr9XqrObGRC",
        "outputId": "389bcdbc-1bb4-4b79-80a8-a1f6fbb2a43f"
      },
      "outputs": [
        {
          "name": "stdout",
          "output_type": "stream",
          "text": [
            "0\n",
            "1\n",
            "2\n",
            "3\n",
            "4\n",
            "5\n",
            "6\n",
            "7\n",
            "8\n",
            "9\n",
            "10\n",
            "Inside else\n"
          ]
        }
      ],
      "source": [
        "counter = 0\n",
        "while counter <= 10:\n",
        "    print(counter)\n",
        "    counter = counter + 1\n",
        "else:\n",
        "    print(\"Inside else\")"
      ]
    },
    {
      "cell_type": "code",
      "execution_count": null,
      "metadata": {
        "id": "cNBWNkLQX9Rk"
      },
      "outputs": [],
      "source": [
        "while True :\n",
        "  INP = int(input(\"enter your number : \")) \n",
        "  INP_2 = int(input(\"enter your second number : \")) \n",
        "  if INP == 0 and INP_2 ==0  :\n",
        "      break    \n",
        "  oper = input(\"ente the operation (+|/|-|*): \") \n",
        "  print(\"===========================================================33\")\n",
        "  if  oper == '+' :\n",
        "    print(f' the sum = {INP+INP_2}')\n",
        "  elif  oper == '-' :\n",
        "    print(f' the subtract = {INP-INP_2}')     \n",
        "  if  oper == '*' :\n",
        "    print(f' the multiplication = {INP*INP_2}')\n",
        "  if  oper == '/' :\n",
        "    print(f' the divison = {INP/INP_2}')  \n"
      ]
    },
    {
      "cell_type": "code",
      "execution_count": null,
      "metadata": {
        "colab": {
          "base_uri": "https://localhost:8080/"
        },
        "id": "_ahBg4tm2Hj5",
        "outputId": "d39a7e6c-b814-4c2e-aa30-70ef3d6613f7"
      },
      "outputs": [
        {
          "name": "stdout",
          "output_type": "stream",
          "text": [
            "Select operation\n",
            "1.Add\n",
            "2.Subtract\n",
            "3.Multiply\n",
            "4.Divide\n",
            "Enter choice(1/2/3/4):1\n",
            "Enter first number: 33\n",
            "Enter second number: 2\n",
            "33 + 2 = 35\n",
            "Continue?y/n:n\n"
          ]
        }
      ],
      "source": [
        "cont = \"y\"\n",
        "while cont == \"y\":\n",
        "    print(\"Select operation\\n1.Add\\n2.Subtract\\n3.Multiply\\n4.Divide\")\n",
        "\n",
        "    choice = input(\"Enter choice(1/2/3/4):\")\n",
        "\n",
        "    num1 = int(input(\"Enter first number: \"))\n",
        "    num2 = int(input(\"Enter second number: \"))\n",
        "\n",
        "    if choice == '1':\n",
        "       print(num1,\"+\",num2,\"=\", (num1 + num2))\n",
        "\n",
        "    elif choice == '2':\n",
        "       print(num1,\"-\",num2,\"=\", (num1 - num2))\n",
        "\n",
        "    elif choice == '3':\n",
        "       print(num1,\"*\",num2,\"=\", (num1 * num2))\n",
        "\n",
        "    elif choice == '4':\n",
        "       print(num1,\"/\",num2,\"=\", (num1 / num2))\n",
        "    else:\n",
        "       print(\"Invalid input\")\n",
        "    cont = input(\"Continue?y/n:\")\n",
        "    if cont == \"n\":\n",
        "        break\n"
      ]
    },
    {
      "cell_type": "markdown",
      "metadata": {
        "id": "DOjJzqmqzuTA"
      },
      "source": [
        "# **4.Useful Operators**\n",
        "\n",
        "---\n",
        "\n",
        "\n",
        "\n",
        "---\n",
        "\n"
      ]
    },
    {
      "cell_type": "markdown",
      "metadata": {
        "id": "vPzPQP4nee_1"
      },
      "source": [
        "## 4.1.enumerate() "
      ]
    },
    {
      "cell_type": "code",
      "execution_count": null,
      "metadata": {
        "colab": {
          "background_save": true,
          "base_uri": "https://localhost:8080/"
        },
        "id": "KuENhhez0rUW",
        "outputId": "15580787-705f-4a26-fbd3-b4c93c25d587"
      },
      "outputs": [
        {
          "data": {
            "text/plain": [
              "[<enumerate at 0x7fc634ef5d20>]"
            ]
          },
          "execution_count": null,
          "metadata": {},
          "output_type": "execute_result"
        }
      ],
      "source": [
        "x=[]\n",
        "x = enumerate(['a','b'])\n",
        "x"
      ]
    },
    {
      "cell_type": "code",
      "execution_count": null,
      "metadata": {
        "colab": {
          "base_uri": "https://localhost:8080/"
        },
        "id": "PqWgHhXgcdLq",
        "outputId": "99003808-e236-4557-8dd8-697741242a9c"
      },
      "outputs": [
        {
          "data": {
            "text/plain": [
              "[(0, 30), (1, 40), (2, 50), (3, 60)]"
            ]
          },
          "execution_count": 48,
          "metadata": {
            "tags": []
          },
          "output_type": "execute_result"
        }
      ],
      "source": [
        "list(enumerate([30, 40, 50, 60]))\n"
      ]
    },
    {
      "cell_type": "code",
      "execution_count": null,
      "metadata": {
        "colab": {
          "base_uri": "https://localhost:8080/"
        },
        "id": "wLuC9SfCd7vP",
        "outputId": "8a04c1ca-4be9-446a-f3dd-152636381a8f"
      },
      "outputs": [
        {
          "data": {
            "text/plain": [
              "[(0, 'a'), (1, 'b'), (2, 'c'), (3, 'd'), (4, 'e')]"
            ]
          },
          "execution_count": 49,
          "metadata": {
            "tags": []
          },
          "output_type": "execute_result"
        }
      ],
      "source": [
        "list(enumerate('abcde'))"
      ]
    },
    {
      "cell_type": "code",
      "execution_count": null,
      "metadata": {
        "colab": {
          "base_uri": "https://localhost:8080/"
        },
        "id": "gnku5ybAd7WD",
        "outputId": "38d1b710-6b57-44a4-a44a-d2f8e4d6ccd7"
      },
      "outputs": [
        {
          "data": {
            "text/plain": [
              "[(8, 'a'), (9, 'b'), (10, 'c'), (11, 'd'), (12, 'e')]"
            ]
          },
          "execution_count": 50,
          "metadata": {
            "tags": []
          },
          "output_type": "execute_result"
        }
      ],
      "source": [
        "list(enumerate('abcde', 8))"
      ]
    },
    {
      "cell_type": "code",
      "execution_count": null,
      "metadata": {
        "colab": {
          "base_uri": "https://localhost:8080/"
        },
        "id": "I4dkhB8SechO",
        "outputId": "42e6706f-f764-479b-d28e-bc3dc4144ee8"
      },
      "outputs": [
        {
          "name": "stdout",
          "output_type": "stream",
          "text": [
            "at index 0 charchter is a\n",
            "at index 1 charchter is b\n",
            "at index 2 charchter is c\n",
            "at index 3 charchter is d\n",
            "at index 4 charchter is e\n"
          ]
        }
      ],
      "source": [
        "for idx, letter in enumerate('abcde'):\n",
        "    print(f'at index {idx} charchter is {letter}')"
      ]
    },
    {
      "cell_type": "markdown",
      "metadata": {
        "id": "BTtyzinhevNz"
      },
      "source": [
        "## 4.2.zip()"
      ]
    },
    {
      "cell_type": "code",
      "execution_count": null,
      "metadata": {
        "colab": {
          "base_uri": "https://localhost:8080/"
        },
        "id": "rag2WChTedQe",
        "outputId": "11c23a2f-9e4d-4580-d5a1-4183d82b71d9"
      },
      "outputs": [
        {
          "data": {
            "text/plain": [
              "[(10, 100), (20, 200), (30, 300), (40, 400), (50, 500), (60, 600)]"
            ]
          },
          "execution_count": 53,
          "metadata": {
            "tags": []
          },
          "output_type": "execute_result"
        }
      ],
      "source": [
        "mylist1 = [10,20,30,40,50,60]\n",
        "mylist2 = [100,200,300,400,500,600]\n",
        "list(zip(mylist1,mylist2))"
      ]
    },
    {
      "cell_type": "code",
      "execution_count": null,
      "metadata": {
        "colab": {
          "base_uri": "https://localhost:8080/"
        },
        "id": "SMacdaL9fKpi",
        "outputId": "a503248a-2f94-4909-eb6b-ca5ea339b5a7"
      },
      "outputs": [
        {
          "name": "stdout",
          "output_type": "stream",
          "text": [
            "110\n",
            "220\n",
            "330\n",
            "440\n",
            "550\n",
            "660\n"
          ]
        }
      ],
      "source": [
        "for num_1,num_2 in zip(mylist1,mylist2):\n",
        "    print(num_1 + num_2)"
      ]
    },
    {
      "cell_type": "code",
      "execution_count": null,
      "metadata": {
        "colab": {
          "base_uri": "https://localhost:8080/"
        },
        "id": "2Le4-u_ifi2n",
        "outputId": "d0a6a66b-2662-4462-e9b9-e1a99d510fbd"
      },
      "outputs": [
        {
          "data": {
            "text/plain": [
              "[(10, 'a', 10),\n",
              " (20, 'b', 20),\n",
              " (30, 'c', 30),\n",
              " (40, 'd', 40),\n",
              " (50, 'e', 50),\n",
              " (60, 'f', 60)]"
            ]
          },
          "execution_count": 56,
          "metadata": {
            "tags": []
          },
          "output_type": "execute_result"
        }
      ],
      "source": [
        "mylist1 = [10,20,30,40,50,60]\n",
        "mylist2 = ['a','b','c','d','e','f']\n",
        "mylist3 = [10,20,30,40,50,60]\n",
        "list(zip(mylist1, mylist2, mylist3))"
      ]
    },
    {
      "cell_type": "code",
      "execution_count": null,
      "metadata": {
        "colab": {
          "base_uri": "https://localhost:8080/"
        },
        "id": "6yY6mvlPfloW",
        "outputId": "27cca38b-8aa4-4a9b-8252-420912c7cc07"
      },
      "outputs": [
        {
          "name": "stdout",
          "output_type": "stream",
          "text": [
            "v1: 10, v2: a, v3: 10\n",
            "v1: 20, v2: b, v3: 20\n",
            "v1: 30, v2: c, v3: 30\n",
            "v1: 40, v2: d, v3: 40\n",
            "v1: 50, v2: e, v3: 50\n",
            "v1: 60, v2: f, v3: 60\n"
          ]
        }
      ],
      "source": [
        "for v1,v2,v3 in zip(mylist1, mylist2, mylist3):\n",
        "    print(f'v1: {v1}, v2: {v2}, v3: {v3}')"
      ]
    }
  ],
  "metadata": {
    "colab": {
      "toc_visible": true,
      "provenance": []
    },
    "kernelspec": {
      "display_name": "Python 3",
      "name": "python3"
    },
    "language_info": {
      "name": "python"
    }
  },
  "nbformat": 4,
  "nbformat_minor": 0
}