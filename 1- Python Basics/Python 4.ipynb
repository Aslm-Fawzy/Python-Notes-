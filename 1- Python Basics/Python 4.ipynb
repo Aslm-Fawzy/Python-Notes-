{
  "nbformat": 4,
  "nbformat_minor": 0,
  "metadata": {
    "colab": {
      "provenance": [],
      "collapsed_sections": [],
      "toc_visible": true
    },
    "kernelspec": {
      "name": "python3",
      "display_name": "Python 3"
    },
    "language_info": {
      "name": "python"
    }
  },
  "cells": [
    {
      "cell_type": "markdown",
      "metadata": {
        "id": "wMx9Np7MG5Zh"
      },
      "source": [
        "#**1.Reading Files :-**\n",
        "\n",
        "---\n",
        "\n"
      ]
    },
    {
      "cell_type": "code",
      "metadata": {
        "id": "j8XEm5J9sTJd",
        "colab": {
          "base_uri": "https://localhost:8080/"
        },
        "outputId": "761dafd9-c76c-4307-beeb-39fa6874111f"
      },
      "source": [
        "File = open('AS.txt', 'r')\n",
        "print(File.read())\n"
      ],
      "execution_count": null,
      "outputs": [
        {
          "output_type": "stream",
          "text": [
            "weeeee\n",
            "\n",
            "\n",
            "love \n",
            "\n",
            "\n",
            "Famliy\n",
            "\n",
            "\n",
            "            Happy Eid ^_^\n",
            "\n"
          ],
          "name": "stdout"
        }
      ]
    },
    {
      "cell_type": "code",
      "metadata": {
        "colab": {
          "base_uri": "https://localhost:8080/"
        },
        "id": "PToZc3N6A0Xy",
        "outputId": "24aadc20-ad3b-4f64-e7ac-0d326e71b781"
      },
      "source": [
        "# know at which charchter is your file points to\n",
        "# Knowing where the cursor in file\n",
        "File.tell()"
      ],
      "execution_count": null,
      "outputs": [
        {
          "output_type": "execute_result",
          "data": {
            "text/plain": [
              "62"
            ]
          },
          "metadata": {
            "tags": []
          },
          "execution_count": 273
        }
      ]
    },
    {
      "cell_type": "code",
      "metadata": {
        "colab": {
          "base_uri": "https://localhost:8080/"
        },
        "id": "H8_xABQrBN0o",
        "outputId": "d6d99c85-2fe4-4121-e3a4-5e785bd0083b"
      },
      "source": [
        "# Seek to the start of file (index 0)\n",
        "File.seek(0)"
      ],
      "execution_count": null,
      "outputs": [
        {
          "output_type": "execute_result",
          "data": {
            "text/plain": [
              "0"
            ]
          },
          "metadata": {
            "tags": []
          },
          "execution_count": 274
        }
      ]
    },
    {
      "cell_type": "code",
      "metadata": {
        "id": "28xhi6D1Cffx"
      },
      "source": [
        "#Now closing file to sava any change or operation done in file\n",
        "File.close()"
      ],
      "execution_count": null,
      "outputs": []
    },
    {
      "cell_type": "code",
      "metadata": {
        "id": "19DVU63i8OxG"
      },
      "source": [
        "# Open the test.txt we made earlier\n",
        "my_file = open('/content/Eplison/Code/Python/test.txt', 'r')"
      ],
      "execution_count": null,
      "outputs": []
    },
    {
      "cell_type": "code",
      "metadata": {
        "colab": {
          "base_uri": "https://localhost:8080/"
        },
        "id": "yd3wcw9eBVsk",
        "outputId": "1ead562f-02d7-435a-ffee-ec1e01c067d9"
      },
      "source": [
        "print(my_file.read())"
      ],
      "execution_count": null,
      "outputs": [
        {
          "output_type": "stream",
          "text": [
            "This is Python. \n",
            "This is text being appended to test.txt\n",
            "And another line here.\n",
            "This is text being appended to test.txt\n",
            "And another line here.\n",
            "This is text being appended to test.txt\n",
            "And another line here.\n",
            "This is text being appended to test.txt\n",
            "And another line here.\n",
            "This is text being appended to test.txt\n",
            "And another line here.hello\n",
            "I am appending \n",
            "a new line\n",
            "Great ^_^\n",
            "hello\n",
            "I am appending \n",
            "a new line\n",
            "Great ^_^\n",
            "\n",
            "Big Data is great\n"
          ],
          "name": "stdout"
        }
      ]
    },
    {
      "cell_type": "code",
      "metadata": {
        "colab": {
          "base_uri": "https://localhost:8080/"
        },
        "id": "PplkhcJ6BX5g",
        "outputId": "103bbf98-ef37-423f-80b1-ac93116e69ed"
      },
      "source": [
        "my_file.seek(0)\n"
      ],
      "execution_count": null,
      "outputs": [
        {
          "output_type": "execute_result",
          "data": {
            "text/plain": [
              "0"
            ]
          },
          "metadata": {
            "tags": []
          },
          "execution_count": 278
        }
      ]
    },
    {
      "cell_type": "code",
      "metadata": {
        "colab": {
          "base_uri": "https://localhost:8080/",
          "height": 35
        },
        "id": "Lyd46s2w-WrM",
        "outputId": "93a55870-fdd9-4493-b5b9-5c141459a528"
      },
      "source": [
        "my_file.read(6)"
      ],
      "execution_count": null,
      "outputs": [
        {
          "output_type": "execute_result",
          "data": {
            "application/vnd.google.colaboratory.intrinsic+json": {
              "type": "string"
            },
            "text/plain": [
              "'This i'"
            ]
          },
          "metadata": {
            "tags": []
          },
          "execution_count": 279
        }
      ]
    },
    {
      "cell_type": "code",
      "metadata": {
        "colab": {
          "base_uri": "https://localhost:8080/"
        },
        "id": "f4Cif9vSBjyf",
        "outputId": "4f22097c-f2a2-44b6-d01b-b61d6dae8a94"
      },
      "source": [
        "my_file.tell()"
      ],
      "execution_count": null,
      "outputs": [
        {
          "output_type": "execute_result",
          "data": {
            "text/plain": [
              "6"
            ]
          },
          "metadata": {
            "tags": []
          },
          "execution_count": 280
        }
      ]
    },
    {
      "cell_type": "code",
      "metadata": {
        "colab": {
          "base_uri": "https://localhost:8080/",
          "height": 35
        },
        "id": "Fe_1iZHw_hpE",
        "outputId": "277b2207-eaae-4a48-e540-3ef935f6a35a"
      },
      "source": [
        "my_file.read(20)"
      ],
      "execution_count": null,
      "outputs": [
        {
          "output_type": "execute_result",
          "data": {
            "application/vnd.google.colaboratory.intrinsic+json": {
              "type": "string"
            },
            "text/plain": [
              "'s Python. \\nThis is t'"
            ]
          },
          "metadata": {
            "tags": []
          },
          "execution_count": 281
        }
      ]
    },
    {
      "cell_type": "code",
      "metadata": {
        "colab": {
          "base_uri": "https://localhost:8080/"
        },
        "id": "ie_cg5mHAWtG",
        "outputId": "6d83bd4e-431b-4a27-a963-1dd45067fd89"
      },
      "source": [
        "#starting cursor from index 10\n",
        "my_file.seek(10)"
      ],
      "execution_count": null,
      "outputs": [
        {
          "output_type": "execute_result",
          "data": {
            "text/plain": [
              "10"
            ]
          },
          "metadata": {
            "tags": []
          },
          "execution_count": 282
        }
      ]
    },
    {
      "cell_type": "code",
      "metadata": {
        "colab": {
          "base_uri": "https://localhost:8080/",
          "height": 86
        },
        "id": "Vn9GZcf6CHCg",
        "outputId": "20caced5-0e6d-46cf-eeaf-1133381acc1f"
      },
      "source": [
        "my_file.read()"
      ],
      "execution_count": null,
      "outputs": [
        {
          "output_type": "execute_result",
          "data": {
            "application/vnd.google.colaboratory.intrinsic+json": {
              "type": "string"
            },
            "text/plain": [
              "'thon. \\nThis is text being appended to test.txt\\nAnd another line here.\\nThis is text being appended to test.txt\\nAnd another line here.\\nThis is text being appended to test.txt\\nAnd another line here.\\nThis is text being appended to test.txt\\nAnd another line here.\\nThis is text being appended to test.txt\\nAnd another line here.hello\\nI am appending \\na new line\\nGreat ^_^\\nhello\\nI am appending \\na new line\\nGreat ^_^\\n\\nBig Data is great'"
            ]
          },
          "metadata": {
            "tags": []
          },
          "execution_count": 283
        }
      ]
    },
    {
      "cell_type": "code",
      "metadata": {
        "colab": {
          "base_uri": "https://localhost:8080/"
        },
        "id": "2rkZ5i-i_bBB",
        "outputId": "53f52424-b761-4def-9c1e-3922c6489844"
      },
      "source": [
        "my_file.tell()"
      ],
      "execution_count": null,
      "outputs": [
        {
          "output_type": "execute_result",
          "data": {
            "text/plain": [
              "454"
            ]
          },
          "metadata": {
            "tags": []
          },
          "execution_count": 284
        }
      ]
    },
    {
      "cell_type": "code",
      "metadata": {
        "id": "9T2hwAtr_YGc",
        "colab": {
          "base_uri": "https://localhost:8080/",
          "height": 35
        },
        "outputId": "92710e74-c8d3-4507-d32e-d0e9d357e0c2"
      },
      "source": [
        "#We can't read the file as the cursor is in end of file and end of file index is 454  \n",
        "my_file.read()\n"
      ],
      "execution_count": null,
      "outputs": [
        {
          "output_type": "execute_result",
          "data": {
            "application/vnd.google.colaboratory.intrinsic+json": {
              "type": "string"
            },
            "text/plain": [
              "''"
            ]
          },
          "metadata": {
            "tags": []
          },
          "execution_count": 285
        }
      ]
    },
    {
      "cell_type": "code",
      "metadata": {
        "colab": {
          "base_uri": "https://localhost:8080/"
        },
        "id": "ITscYAX1pOku",
        "outputId": "bea1a73f-aa32-4df1-fbbe-2f6f16bcfd91"
      },
      "source": [
        "#Returning the cursor to begining of the file and its index is 0  \n",
        "my_file.seek(0)"
      ],
      "execution_count": null,
      "outputs": [
        {
          "output_type": "execute_result",
          "data": {
            "text/plain": [
              "0"
            ]
          },
          "metadata": {
            "tags": []
          },
          "execution_count": 286
        }
      ]
    },
    {
      "cell_type": "code",
      "metadata": {
        "colab": {
          "base_uri": "https://localhost:8080/"
        },
        "id": "4vnm4oIeofxA",
        "outputId": "1a5263e7-9c65-414d-d89a-da4f50d6723e"
      },
      "source": [
        "print(my_file.read())"
      ],
      "execution_count": null,
      "outputs": [
        {
          "output_type": "stream",
          "text": [
            "This is Python. \n",
            "This is text being appended to test.txt\n",
            "And another line here.\n",
            "This is text being appended to test.txt\n",
            "And another line here.\n",
            "This is text being appended to test.txt\n",
            "And another line here.\n",
            "This is text being appended to test.txt\n",
            "And another line here.\n",
            "This is text being appended to test.txt\n",
            "And another line here.hello\n",
            "I am appending \n",
            "a new line\n",
            "Great ^_^\n",
            "hello\n",
            "I am appending \n",
            "a new line\n",
            "Great ^_^\n",
            "\n",
            "Big Data is great\n"
          ],
          "name": "stdout"
        }
      ]
    },
    {
      "cell_type": "code",
      "metadata": {
        "colab": {
          "base_uri": "https://localhost:8080/"
        },
        "id": "-8aT5dqzrLQb",
        "outputId": "e8e7e2ae-935e-4bbe-87af-c0331189f34f"
      },
      "source": [
        "my_file.seek(0)"
      ],
      "execution_count": null,
      "outputs": [
        {
          "output_type": "execute_result",
          "data": {
            "text/plain": [
              "0"
            ]
          },
          "metadata": {
            "tags": []
          },
          "execution_count": 288
        }
      ]
    },
    {
      "cell_type": "code",
      "metadata": {
        "id": "P5NGr5JcpiiN"
      },
      "source": [
        "#Returning list of lines in the file    \n",
        "my_lines = my_file.readlines() "
      ],
      "execution_count": null,
      "outputs": []
    },
    {
      "cell_type": "code",
      "metadata": {
        "colab": {
          "base_uri": "https://localhost:8080/"
        },
        "id": "bhzFF2A2rDnv",
        "outputId": "93f73ede-f6b5-4ae5-840f-6dfdcf3f76a0"
      },
      "source": [
        "my_lines"
      ],
      "execution_count": null,
      "outputs": [
        {
          "output_type": "execute_result",
          "data": {
            "text/plain": [
              "['This is Python. \\n',\n",
              " 'This is text being appended to test.txt\\n',\n",
              " 'And another line here.\\n',\n",
              " 'This is text being appended to test.txt\\n',\n",
              " 'And another line here.\\n',\n",
              " 'This is text being appended to test.txt\\n',\n",
              " 'And another line here.\\n',\n",
              " 'This is text being appended to test.txt\\n',\n",
              " 'And another line here.\\n',\n",
              " 'This is text being appended to test.txt\\n',\n",
              " 'And another line here.hello\\n',\n",
              " 'I am appending \\n',\n",
              " 'a new line\\n',\n",
              " 'Great ^_^\\n',\n",
              " 'hello\\n',\n",
              " 'I am appending \\n',\n",
              " 'a new line\\n',\n",
              " 'Great ^_^\\n',\n",
              " '\\n',\n",
              " 'Big Data is great']"
            ]
          },
          "metadata": {
            "tags": []
          },
          "execution_count": 290
        }
      ]
    },
    {
      "cell_type": "code",
      "metadata": {
        "colab": {
          "base_uri": "https://localhost:8080/"
        },
        "id": "EgOpei8jrFIV",
        "outputId": "01443d2b-eeb9-4043-ecda-d549cfb2277d"
      },
      "source": [
        "type(my_lines)"
      ],
      "execution_count": null,
      "outputs": [
        {
          "output_type": "execute_result",
          "data": {
            "text/plain": [
              "list"
            ]
          },
          "metadata": {
            "tags": []
          },
          "execution_count": 291
        }
      ]
    },
    {
      "cell_type": "code",
      "metadata": {
        "colab": {
          "base_uri": "https://localhost:8080/",
          "height": 35
        },
        "id": "HU3TDwLABrLC",
        "outputId": "f13b6b4c-6788-46ff-820e-9e2d25e087fa"
      },
      "source": [
        "my_lines[1].upper()"
      ],
      "execution_count": null,
      "outputs": [
        {
          "output_type": "execute_result",
          "data": {
            "application/vnd.google.colaboratory.intrinsic+json": {
              "type": "string"
            },
            "text/plain": [
              "'THIS IS TEXT BEING APPENDED TO TEST.TXT\\n'"
            ]
          },
          "metadata": {
            "tags": []
          },
          "execution_count": 292
        }
      ]
    },
    {
      "cell_type": "code",
      "metadata": {
        "colab": {
          "base_uri": "https://localhost:8080/",
          "height": 35
        },
        "id": "egdDH-xVBvsI",
        "outputId": "c679adec-6f44-4d65-b083-8f003dcaea9f"
      },
      "source": [
        "my_lines[2].lower()"
      ],
      "execution_count": null,
      "outputs": [
        {
          "output_type": "execute_result",
          "data": {
            "application/vnd.google.colaboratory.intrinsic+json": {
              "type": "string"
            },
            "text/plain": [
              "'and another line here.\\n'"
            ]
          },
          "metadata": {
            "tags": []
          },
          "execution_count": 293
        }
      ]
    },
    {
      "cell_type": "code",
      "metadata": {
        "id": "l5dr0RFGB9V-"
      },
      "source": [
        "my_lines_2 = my_file.readlines()"
      ],
      "execution_count": null,
      "outputs": []
    },
    {
      "cell_type": "code",
      "metadata": {
        "colab": {
          "base_uri": "https://localhost:8080/"
        },
        "id": "0CEBYR-kC9-Z",
        "outputId": "eabfa965-d53f-41b7-9203-82175bd81471"
      },
      "source": [
        "my_lines_2"
      ],
      "execution_count": null,
      "outputs": [
        {
          "output_type": "execute_result",
          "data": {
            "text/plain": [
              "[]"
            ]
          },
          "metadata": {
            "tags": []
          },
          "execution_count": 295
        }
      ]
    },
    {
      "cell_type": "code",
      "metadata": {
        "colab": {
          "base_uri": "https://localhost:8080/"
        },
        "id": "YWr1xcAsDAPR",
        "outputId": "9a61d411-b58b-482d-ef06-0937c4077b2a"
      },
      "source": [
        "#we nead to return cursor to starting of file and its index is 0 \n",
        "#to print list of lines   \n",
        "my_file.seek(0) "
      ],
      "execution_count": null,
      "outputs": [
        {
          "output_type": "execute_result",
          "data": {
            "text/plain": [
              "0"
            ]
          },
          "metadata": {
            "tags": []
          },
          "execution_count": 296
        }
      ]
    },
    {
      "cell_type": "code",
      "metadata": {
        "colab": {
          "base_uri": "https://localhost:8080/"
        },
        "id": "G4y3i1GLDSme",
        "outputId": "ded219c2-de11-4d5e-cde2-347e8ee61c08"
      },
      "source": [
        "my_lines_2 = my_file.readlines()\n",
        "my_lines_2"
      ],
      "execution_count": null,
      "outputs": [
        {
          "output_type": "execute_result",
          "data": {
            "text/plain": [
              "['This is Python. \\n',\n",
              " 'This is text being appended to test.txt\\n',\n",
              " 'And another line here.\\n',\n",
              " 'This is text being appended to test.txt\\n',\n",
              " 'And another line here.\\n',\n",
              " 'This is text being appended to test.txt\\n',\n",
              " 'And another line here.\\n',\n",
              " 'This is text being appended to test.txt\\n',\n",
              " 'And another line here.\\n',\n",
              " 'This is text being appended to test.txt\\n',\n",
              " 'And another line here.hello\\n',\n",
              " 'I am appending \\n',\n",
              " 'a new line\\n',\n",
              " 'Great ^_^\\n',\n",
              " 'hello\\n',\n",
              " 'I am appending \\n',\n",
              " 'a new line\\n',\n",
              " 'Great ^_^\\n',\n",
              " '\\n',\n",
              " 'Big Data is great']"
            ]
          },
          "metadata": {
            "tags": []
          },
          "execution_count": 297
        }
      ]
    },
    {
      "cell_type": "code",
      "metadata": {
        "id": "1wmvMEQvKDow"
      },
      "source": [
        "my_file.close()"
      ],
      "execution_count": null,
      "outputs": []
    },
    {
      "cell_type": "code",
      "metadata": {
        "id": "lP1DrlaFDXol"
      },
      "source": [
        "#We can open Arabic files by adding encoding parameter with value 'utf-8'\n",
        "File_2 = open('/content/Eplison/Code/Python/arabic.txt','r+',encoding='utf-8') "
      ],
      "execution_count": null,
      "outputs": []
    },
    {
      "cell_type": "code",
      "metadata": {
        "colab": {
          "base_uri": "https://localhost:8080/",
          "height": 35
        },
        "id": "aNDm1gIuFGqb",
        "outputId": "cbe1b2b7-b135-48fa-9997-a8fe79bda195"
      },
      "source": [
        "File_2.read()"
      ],
      "execution_count": null,
      "outputs": [
        {
          "output_type": "execute_result",
          "data": {
            "application/vnd.google.colaboratory.intrinsic+json": {
              "type": "string"
            },
            "text/plain": [
              "'بايثون تعتبر من افضل لغات البرمجه التي تتميز بطريقة كتابة سهلة\\nBig Data is great\\nBig Data is great'"
            ]
          },
          "metadata": {
            "tags": []
          },
          "execution_count": 300
        }
      ]
    },
    {
      "cell_type": "code",
      "metadata": {
        "id": "Xzwfqb6BKNAb"
      },
      "source": [
        "File_2.close()"
      ],
      "execution_count": null,
      "outputs": []
    },
    {
      "cell_type": "markdown",
      "metadata": {
        "id": "xYmlWL1xHLjt"
      },
      "source": [
        "#**2.Writing Files :-**\n",
        "\n",
        "---\n",
        "\n"
      ]
    },
    {
      "cell_type": "code",
      "metadata": {
        "id": "allA2DZRFqRi"
      },
      "source": [
        "write_file = open('new.txt','w+')"
      ],
      "execution_count": null,
      "outputs": []
    },
    {
      "cell_type": "code",
      "metadata": {
        "colab": {
          "base_uri": "https://localhost:8080/"
        },
        "id": "MZNIR9eTHpBJ",
        "outputId": "f38727d5-0276-41e0-9fe7-eeb1258a702b"
      },
      "source": [
        "write_file.write('New File has been created oh shit here we go again !')"
      ],
      "execution_count": null,
      "outputs": [
        {
          "output_type": "execute_result",
          "data": {
            "text/plain": [
              "52"
            ]
          },
          "metadata": {
            "tags": []
          },
          "execution_count": 303
        }
      ]
    },
    {
      "cell_type": "code",
      "metadata": {
        "id": "LDZ5hu71IFOY"
      },
      "source": [
        "#Writing lines\n",
        "write_file.writelines(['\\n oh no!\\n','sorry !\\n','please !\\n','sure !'])"
      ],
      "execution_count": null,
      "outputs": []
    },
    {
      "cell_type": "code",
      "metadata": {
        "colab": {
          "base_uri": "https://localhost:8080/"
        },
        "id": "PQit4ka3JWkA",
        "outputId": "b6901fee-02d9-4e49-9d04-6a02625414e9"
      },
      "source": [
        "write_file.seek(0)"
      ],
      "execution_count": null,
      "outputs": [
        {
          "output_type": "execute_result",
          "data": {
            "text/plain": [
              "0"
            ]
          },
          "metadata": {
            "tags": []
          },
          "execution_count": 305
        }
      ]
    },
    {
      "cell_type": "code",
      "metadata": {
        "colab": {
          "base_uri": "https://localhost:8080/"
        },
        "id": "YVTkcY76IabO",
        "outputId": "79c38a10-04dd-4693-e8ef-6be2c5df7b2d"
      },
      "source": [
        "print(write_file.read())"
      ],
      "execution_count": null,
      "outputs": [
        {
          "output_type": "stream",
          "text": [
            "New File has been created oh shit here we go again !\n",
            " oh no!\n",
            "sorry !\n",
            "please !\n",
            "sure !\n"
          ],
          "name": "stdout"
        }
      ]
    },
    {
      "cell_type": "code",
      "metadata": {
        "id": "F9VAb8IZJSPV"
      },
      "source": [
        "write_file.close()"
      ],
      "execution_count": null,
      "outputs": []
    },
    {
      "cell_type": "markdown",
      "metadata": {
        "id": "EyDhB5MdKdy0"
      },
      "source": [
        "# **3.Appending Files :-**\n",
        "\n",
        "---\n",
        "\n"
      ]
    },
    {
      "cell_type": "code",
      "metadata": {
        "id": "r5EpZNLMJlzy"
      },
      "source": [
        "appended_file = open('new.txt','a+')"
      ],
      "execution_count": null,
      "outputs": []
    },
    {
      "cell_type": "code",
      "metadata": {
        "colab": {
          "base_uri": "https://localhost:8080/"
        },
        "id": "zl0VHDhOCTzE",
        "outputId": "7c16aa69-c8d4-4d2b-9dba-19aa4669b7be"
      },
      "source": [
        "appended_file.write('\\n Here is New Appendend Word that\\'s (certianly) \\n')"
      ],
      "execution_count": null,
      "outputs": [
        {
          "output_type": "execute_result",
          "data": {
            "text/plain": [
              "49"
            ]
          },
          "metadata": {
            "tags": []
          },
          "execution_count": 309
        }
      ]
    },
    {
      "cell_type": "code",
      "metadata": {
        "id": "tpGqoxDMDBc3"
      },
      "source": [
        "appended_file.writelines('here is new line appended\\n')"
      ],
      "execution_count": null,
      "outputs": []
    },
    {
      "cell_type": "code",
      "metadata": {
        "colab": {
          "base_uri": "https://localhost:8080/"
        },
        "id": "PtxtbD1XDzJJ",
        "outputId": "2e204931-5460-494c-bc49-17609c582616"
      },
      "source": [
        "appended_file.seek(0)"
      ],
      "execution_count": null,
      "outputs": [
        {
          "output_type": "execute_result",
          "data": {
            "text/plain": [
              "0"
            ]
          },
          "metadata": {
            "tags": []
          },
          "execution_count": 311
        }
      ]
    },
    {
      "cell_type": "code",
      "metadata": {
        "colab": {
          "base_uri": "https://localhost:8080/"
        },
        "id": "Rto7uFouD3Lp",
        "outputId": "fabd90c6-26da-40f6-bab9-9a8edbee6b7c"
      },
      "source": [
        "print(appended_file.read())"
      ],
      "execution_count": null,
      "outputs": [
        {
          "output_type": "stream",
          "text": [
            "New File has been created oh shit here we go again !\n",
            " oh no!\n",
            "sorry !\n",
            "please !\n",
            "sure !\n",
            " Here is New Appendend Word that's (certianly) \n",
            "here is new line appended\n",
            "\n"
          ],
          "name": "stdout"
        }
      ]
    },
    {
      "cell_type": "markdown",
      "metadata": {
        "id": "SUucUOdDY3Cf"
      },
      "source": [
        "# **4.Usual Operators :-**\n",
        "\n",
        "---\n",
        "\n"
      ]
    },
    {
      "cell_type": "code",
      "metadata": {
        "colab": {
          "base_uri": "https://localhost:8080/"
        },
        "id": "zRnVR5qnZIMG",
        "outputId": "b4389894-78ca-40e6-edc2-ad044f6f0314"
      },
      "source": [
        "with open('/content/Eplison/Code/Python/arabic.txt', 'a+') as file__:\n",
        "    file__.seek(0)\n",
        "    print(file__.readlines())\n",
        "    file__.write('\\nBig Data is great')\n",
        "    file__.seek(0)\n",
        "    print('\\n ------------------- \\n')\n",
        "    print(file__.readlines())    "
      ],
      "execution_count": null,
      "outputs": [
        {
          "output_type": "stream",
          "text": [
            "['بايثون تعتبر من افضل لغات البرمجه التي تتميز بطريقة كتابة سهلة\\n', 'Big Data is great\\n', 'Big Data is great']\n",
            "\n",
            " ------------------- \n",
            "\n",
            "['بايثون تعتبر من افضل لغات البرمجه التي تتميز بطريقة كتابة سهلة\\n', 'Big Data is great\\n', 'Big Data is great\\n', 'Big Data is great']\n"
          ],
          "name": "stdout"
        }
      ]
    },
    {
      "cell_type": "markdown",
      "metadata": {
        "id": "MB1gXXlTdF3C"
      },
      "source": [
        "# **5.Random Module :-**\n",
        "https://www.w3schools.com/python/module_random.asp\n",
        "\n",
        "---\n",
        "\n"
      ]
    },
    {
      "cell_type": "code",
      "metadata": {
        "colab": {
          "base_uri": "https://localhost:8080/"
        },
        "id": "2zTcOe0nfUsD",
        "outputId": "b3a7e8d5-9328-4a97-c517-24995b5228d5"
      },
      "source": [
        "import random\n",
        "type(random)"
      ],
      "execution_count": null,
      "outputs": [
        {
          "output_type": "execute_result",
          "data": {
            "text/plain": [
              "module"
            ]
          },
          "metadata": {
            "tags": []
          },
          "execution_count": 314
        }
      ]
    },
    {
      "cell_type": "code",
      "metadata": {
        "colab": {
          "base_uri": "https://localhost:8080/"
        },
        "id": "nYk7c0EGfZhY",
        "outputId": "1324f6e3-94ef-4663-ed58-20fd1ec8fd60"
      },
      "source": [
        "dir(random)"
      ],
      "execution_count": null,
      "outputs": [
        {
          "output_type": "execute_result",
          "data": {
            "text/plain": [
              "['BPF',\n",
              " 'LOG4',\n",
              " 'NV_MAGICCONST',\n",
              " 'RECIP_BPF',\n",
              " 'Random',\n",
              " 'SG_MAGICCONST',\n",
              " 'SystemRandom',\n",
              " 'TWOPI',\n",
              " '_BuiltinMethodType',\n",
              " '_MethodType',\n",
              " '_Sequence',\n",
              " '_Set',\n",
              " '__all__',\n",
              " '__builtins__',\n",
              " '__cached__',\n",
              " '__doc__',\n",
              " '__file__',\n",
              " '__loader__',\n",
              " '__name__',\n",
              " '__package__',\n",
              " '__spec__',\n",
              " '_acos',\n",
              " '_bisect',\n",
              " '_ceil',\n",
              " '_cos',\n",
              " '_e',\n",
              " '_exp',\n",
              " '_inst',\n",
              " '_itertools',\n",
              " '_log',\n",
              " '_os',\n",
              " '_pi',\n",
              " '_random',\n",
              " '_sha512',\n",
              " '_sin',\n",
              " '_sqrt',\n",
              " '_test',\n",
              " '_test_generator',\n",
              " '_urandom',\n",
              " '_warn',\n",
              " 'betavariate',\n",
              " 'choice',\n",
              " 'choices',\n",
              " 'expovariate',\n",
              " 'gammavariate',\n",
              " 'gauss',\n",
              " 'getrandbits',\n",
              " 'getstate',\n",
              " 'lognormvariate',\n",
              " 'normalvariate',\n",
              " 'paretovariate',\n",
              " 'randint',\n",
              " 'random',\n",
              " 'randrange',\n",
              " 'sample',\n",
              " 'seed',\n",
              " 'setstate',\n",
              " 'shuffle',\n",
              " 'triangular',\n",
              " 'uniform',\n",
              " 'vonmisesvariate',\n",
              " 'weibullvariate']"
            ]
          },
          "metadata": {
            "tags": []
          },
          "execution_count": 315
        }
      ]
    },
    {
      "cell_type": "code",
      "metadata": {
        "id": "QZEEI7oRhbmj"
      },
      "source": [
        "my_list = [12,40,32,453,2121,88]"
      ],
      "execution_count": null,
      "outputs": []
    },
    {
      "cell_type": "code",
      "metadata": {
        "colab": {
          "base_uri": "https://localhost:8080/",
          "height": 52
        },
        "id": "3Uyr-kRhidd4",
        "outputId": "b6820562-2bb7-441a-abb4-b49e8d57d12a"
      },
      "source": [
        "random.shuffle(my_list)\n",
        "print(my_list)\n",
        "#Take Care from the following :\n",
        "'''\n",
        "shuffle_list = random.shuffle(my_list)\n",
        "print(shuffle_list)\n",
        "Output >> none\n",
        "'''"
      ],
      "execution_count": null,
      "outputs": [
        {
          "output_type": "stream",
          "text": [
            "[88, 32, 12, 2121, 453, 40]\n"
          ],
          "name": "stdout"
        },
        {
          "output_type": "execute_result",
          "data": {
            "application/vnd.google.colaboratory.intrinsic+json": {
              "type": "string"
            },
            "text/plain": [
              "'\\nshuffle_list = random.shuffle(my_list)\\nprint(shuffle_list)\\nOutput >> none\\n'"
            ]
          },
          "metadata": {
            "tags": []
          },
          "execution_count": 317
        }
      ]
    },
    {
      "cell_type": "code",
      "metadata": {
        "colab": {
          "base_uri": "https://localhost:8080/"
        },
        "id": "gEVYgFRLio6Q",
        "outputId": "385b6386-50a2-43c2-c436-678a9dfbfd76"
      },
      "source": [
        "#choosing arandom item from list\n",
        "random.choice(my_list)"
      ],
      "execution_count": null,
      "outputs": [
        {
          "output_type": "execute_result",
          "data": {
            "text/plain": [
              "2121"
            ]
          },
          "metadata": {
            "tags": []
          },
          "execution_count": 318
        }
      ]
    },
    {
      "cell_type": "code",
      "metadata": {
        "colab": {
          "base_uri": "https://localhost:8080/"
        },
        "id": "Bz3iIHdnknAU",
        "outputId": "b81a7a1c-f8f1-44d4-9064-81847ec66bef"
      },
      "source": [
        "random.choice(my_list)"
      ],
      "execution_count": null,
      "outputs": [
        {
          "output_type": "execute_result",
          "data": {
            "text/plain": [
              "40"
            ]
          },
          "metadata": {
            "tags": []
          },
          "execution_count": 319
        }
      ]
    },
    {
      "cell_type": "code",
      "metadata": {
        "colab": {
          "base_uri": "https://localhost:8080/"
        },
        "id": "cdyb57U9lId8",
        "outputId": "f78e8c0f-d1e2-42c8-c8d5-415e07f2a7f1"
      },
      "source": [
        "random.choice(my_list)"
      ],
      "execution_count": null,
      "outputs": [
        {
          "output_type": "execute_result",
          "data": {
            "text/plain": [
              "40"
            ]
          },
          "metadata": {
            "tags": []
          },
          "execution_count": 320
        }
      ]
    },
    {
      "cell_type": "code",
      "metadata": {
        "colab": {
          "base_uri": "https://localhost:8080/"
        },
        "id": "UnMs9apNlJhh",
        "outputId": "77a3f5f1-dbcf-467c-93e3-887238226781"
      },
      "source": [
        "# Return random integer in range [0, 10]\n",
        "random.randint(0,10)"
      ],
      "execution_count": null,
      "outputs": [
        {
          "output_type": "execute_result",
          "data": {
            "text/plain": [
              "5"
            ]
          },
          "metadata": {
            "tags": []
          },
          "execution_count": 321
        }
      ]
    },
    {
      "cell_type": "code",
      "metadata": {
        "colab": {
          "base_uri": "https://localhost:8080/"
        },
        "id": "IWkLKPRKlYwJ",
        "outputId": "2ae9e037-5761-452e-c598-400117f1a770"
      },
      "source": [
        "# Return random integer in range [0, 20]\n",
        "random.randint(0,20)"
      ],
      "execution_count": null,
      "outputs": [
        {
          "output_type": "execute_result",
          "data": {
            "text/plain": [
              "14"
            ]
          },
          "metadata": {
            "tags": []
          },
          "execution_count": 322
        }
      ]
    },
    {
      "cell_type": "code",
      "metadata": {
        "colab": {
          "base_uri": "https://localhost:8080/"
        },
        "id": "r3PoGASQlo7z",
        "outputId": "67996c7c-04f3-4a1f-8676-0db50965ea40"
      },
      "source": [
        "# Return random integer in range [50, 100]\n",
        "random.randint(50,100)"
      ],
      "execution_count": null,
      "outputs": [
        {
          "output_type": "execute_result",
          "data": {
            "text/plain": [
              "60"
            ]
          },
          "metadata": {
            "tags": []
          },
          "execution_count": 323
        }
      ]
    },
    {
      "cell_type": "markdown",
      "metadata": {
        "id": "tZbJt8Ftl8UV"
      },
      "source": [
        "# **6.OS Module:-**\n",
        "https://www.tutorialspoint.com/python/os_file_methods.htm\n",
        "\n",
        "---\n",
        "\n"
      ]
    },
    {
      "cell_type": "code",
      "metadata": {
        "colab": {
          "base_uri": "https://localhost:8080/"
        },
        "id": "kc5zb3oxlxOq",
        "outputId": "e2bcfdf6-6e4b-40c5-f4a0-d8f90759d8cc"
      },
      "source": [
        "import os\n",
        "type(os)"
      ],
      "execution_count": null,
      "outputs": [
        {
          "output_type": "execute_result",
          "data": {
            "text/plain": [
              "module"
            ]
          },
          "metadata": {
            "tags": []
          },
          "execution_count": 324
        }
      ]
    },
    {
      "cell_type": "code",
      "metadata": {
        "colab": {
          "base_uri": "https://localhost:8080/"
        },
        "id": "YwUBfgI-nS4Z",
        "outputId": "550551d9-a799-4b26-93fa-f7edb2ba2583"
      },
      "source": [
        "dir(os)"
      ],
      "execution_count": null,
      "outputs": [
        {
          "output_type": "execute_result",
          "data": {
            "text/plain": [
              "['CLD_CONTINUED',\n",
              " 'CLD_DUMPED',\n",
              " 'CLD_EXITED',\n",
              " 'CLD_TRAPPED',\n",
              " 'DirEntry',\n",
              " 'EX_CANTCREAT',\n",
              " 'EX_CONFIG',\n",
              " 'EX_DATAERR',\n",
              " 'EX_IOERR',\n",
              " 'EX_NOHOST',\n",
              " 'EX_NOINPUT',\n",
              " 'EX_NOPERM',\n",
              " 'EX_NOUSER',\n",
              " 'EX_OK',\n",
              " 'EX_OSERR',\n",
              " 'EX_OSFILE',\n",
              " 'EX_PROTOCOL',\n",
              " 'EX_SOFTWARE',\n",
              " 'EX_TEMPFAIL',\n",
              " 'EX_UNAVAILABLE',\n",
              " 'EX_USAGE',\n",
              " 'F_LOCK',\n",
              " 'F_OK',\n",
              " 'F_TEST',\n",
              " 'F_TLOCK',\n",
              " 'F_ULOCK',\n",
              " 'GRND_NONBLOCK',\n",
              " 'GRND_RANDOM',\n",
              " 'MutableMapping',\n",
              " 'NGROUPS_MAX',\n",
              " 'O_ACCMODE',\n",
              " 'O_APPEND',\n",
              " 'O_ASYNC',\n",
              " 'O_CLOEXEC',\n",
              " 'O_CREAT',\n",
              " 'O_DIRECT',\n",
              " 'O_DIRECTORY',\n",
              " 'O_DSYNC',\n",
              " 'O_EXCL',\n",
              " 'O_LARGEFILE',\n",
              " 'O_NDELAY',\n",
              " 'O_NOATIME',\n",
              " 'O_NOCTTY',\n",
              " 'O_NOFOLLOW',\n",
              " 'O_NONBLOCK',\n",
              " 'O_PATH',\n",
              " 'O_RDONLY',\n",
              " 'O_RDWR',\n",
              " 'O_RSYNC',\n",
              " 'O_SYNC',\n",
              " 'O_TMPFILE',\n",
              " 'O_TRUNC',\n",
              " 'O_WRONLY',\n",
              " 'POSIX_FADV_DONTNEED',\n",
              " 'POSIX_FADV_NOREUSE',\n",
              " 'POSIX_FADV_NORMAL',\n",
              " 'POSIX_FADV_RANDOM',\n",
              " 'POSIX_FADV_SEQUENTIAL',\n",
              " 'POSIX_FADV_WILLNEED',\n",
              " 'PRIO_PGRP',\n",
              " 'PRIO_PROCESS',\n",
              " 'PRIO_USER',\n",
              " 'P_ALL',\n",
              " 'P_NOWAIT',\n",
              " 'P_NOWAITO',\n",
              " 'P_PGID',\n",
              " 'P_PID',\n",
              " 'P_WAIT',\n",
              " 'PathLike',\n",
              " 'RTLD_DEEPBIND',\n",
              " 'RTLD_GLOBAL',\n",
              " 'RTLD_LAZY',\n",
              " 'RTLD_LOCAL',\n",
              " 'RTLD_NODELETE',\n",
              " 'RTLD_NOLOAD',\n",
              " 'RTLD_NOW',\n",
              " 'RWF_DSYNC',\n",
              " 'RWF_HIPRI',\n",
              " 'RWF_NOWAIT',\n",
              " 'RWF_SYNC',\n",
              " 'R_OK',\n",
              " 'SCHED_BATCH',\n",
              " 'SCHED_FIFO',\n",
              " 'SCHED_IDLE',\n",
              " 'SCHED_OTHER',\n",
              " 'SCHED_RESET_ON_FORK',\n",
              " 'SCHED_RR',\n",
              " 'SEEK_CUR',\n",
              " 'SEEK_DATA',\n",
              " 'SEEK_END',\n",
              " 'SEEK_HOLE',\n",
              " 'SEEK_SET',\n",
              " 'ST_APPEND',\n",
              " 'ST_MANDLOCK',\n",
              " 'ST_NOATIME',\n",
              " 'ST_NODEV',\n",
              " 'ST_NODIRATIME',\n",
              " 'ST_NOEXEC',\n",
              " 'ST_NOSUID',\n",
              " 'ST_RDONLY',\n",
              " 'ST_RELATIME',\n",
              " 'ST_SYNCHRONOUS',\n",
              " 'ST_WRITE',\n",
              " 'TMP_MAX',\n",
              " 'WCONTINUED',\n",
              " 'WCOREDUMP',\n",
              " 'WEXITED',\n",
              " 'WEXITSTATUS',\n",
              " 'WIFCONTINUED',\n",
              " 'WIFEXITED',\n",
              " 'WIFSIGNALED',\n",
              " 'WIFSTOPPED',\n",
              " 'WNOHANG',\n",
              " 'WNOWAIT',\n",
              " 'WSTOPPED',\n",
              " 'WSTOPSIG',\n",
              " 'WTERMSIG',\n",
              " 'WUNTRACED',\n",
              " 'W_OK',\n",
              " 'XATTR_CREATE',\n",
              " 'XATTR_REPLACE',\n",
              " 'XATTR_SIZE_MAX',\n",
              " 'X_OK',\n",
              " '_Environ',\n",
              " '__all__',\n",
              " '__builtins__',\n",
              " '__cached__',\n",
              " '__doc__',\n",
              " '__file__',\n",
              " '__loader__',\n",
              " '__name__',\n",
              " '__package__',\n",
              " '__spec__',\n",
              " '_check_methods',\n",
              " '_execvpe',\n",
              " '_exists',\n",
              " '_exit',\n",
              " '_fspath',\n",
              " '_fwalk',\n",
              " '_get_exports_list',\n",
              " '_putenv',\n",
              " '_spawnvef',\n",
              " '_unsetenv',\n",
              " '_wrap_close',\n",
              " 'abc',\n",
              " 'abort',\n",
              " 'access',\n",
              " 'altsep',\n",
              " 'chdir',\n",
              " 'chmod',\n",
              " 'chown',\n",
              " 'chroot',\n",
              " 'close',\n",
              " 'closerange',\n",
              " 'confstr',\n",
              " 'confstr_names',\n",
              " 'cpu_count',\n",
              " 'ctermid',\n",
              " 'curdir',\n",
              " 'defpath',\n",
              " 'device_encoding',\n",
              " 'devnull',\n",
              " 'dup',\n",
              " 'dup2',\n",
              " 'environ',\n",
              " 'environb',\n",
              " 'error',\n",
              " 'execl',\n",
              " 'execle',\n",
              " 'execlp',\n",
              " 'execlpe',\n",
              " 'execv',\n",
              " 'execve',\n",
              " 'execvp',\n",
              " 'execvpe',\n",
              " 'extsep',\n",
              " 'fchdir',\n",
              " 'fchmod',\n",
              " 'fchown',\n",
              " 'fdatasync',\n",
              " 'fdopen',\n",
              " 'fork',\n",
              " 'forkpty',\n",
              " 'fpathconf',\n",
              " 'fsdecode',\n",
              " 'fsencode',\n",
              " 'fspath',\n",
              " 'fstat',\n",
              " 'fstatvfs',\n",
              " 'fsync',\n",
              " 'ftruncate',\n",
              " 'fwalk',\n",
              " 'get_blocking',\n",
              " 'get_exec_path',\n",
              " 'get_inheritable',\n",
              " 'get_terminal_size',\n",
              " 'getcwd',\n",
              " 'getcwdb',\n",
              " 'getegid',\n",
              " 'getenv',\n",
              " 'getenvb',\n",
              " 'geteuid',\n",
              " 'getgid',\n",
              " 'getgrouplist',\n",
              " 'getgroups',\n",
              " 'getloadavg',\n",
              " 'getlogin',\n",
              " 'getpgid',\n",
              " 'getpgrp',\n",
              " 'getpid',\n",
              " 'getppid',\n",
              " 'getpriority',\n",
              " 'getrandom',\n",
              " 'getresgid',\n",
              " 'getresuid',\n",
              " 'getsid',\n",
              " 'getuid',\n",
              " 'getxattr',\n",
              " 'initgroups',\n",
              " 'isatty',\n",
              " 'kill',\n",
              " 'killpg',\n",
              " 'lchown',\n",
              " 'linesep',\n",
              " 'link',\n",
              " 'listdir',\n",
              " 'listxattr',\n",
              " 'lockf',\n",
              " 'lseek',\n",
              " 'lstat',\n",
              " 'major',\n",
              " 'makedev',\n",
              " 'makedirs',\n",
              " 'minor',\n",
              " 'mkdir',\n",
              " 'mkfifo',\n",
              " 'mknod',\n",
              " 'name',\n",
              " 'nice',\n",
              " 'open',\n",
              " 'openpty',\n",
              " 'pardir',\n",
              " 'path',\n",
              " 'pathconf',\n",
              " 'pathconf_names',\n",
              " 'pathsep',\n",
              " 'pipe',\n",
              " 'pipe2',\n",
              " 'popen',\n",
              " 'posix_fadvise',\n",
              " 'posix_fallocate',\n",
              " 'pread',\n",
              " 'preadv',\n",
              " 'putenv',\n",
              " 'pwrite',\n",
              " 'pwritev',\n",
              " 'read',\n",
              " 'readlink',\n",
              " 'readv',\n",
              " 'register_at_fork',\n",
              " 'remove',\n",
              " 'removedirs',\n",
              " 'removexattr',\n",
              " 'rename',\n",
              " 'renames',\n",
              " 'replace',\n",
              " 'rmdir',\n",
              " 'scandir',\n",
              " 'sched_get_priority_max',\n",
              " 'sched_get_priority_min',\n",
              " 'sched_getaffinity',\n",
              " 'sched_getparam',\n",
              " 'sched_getscheduler',\n",
              " 'sched_param',\n",
              " 'sched_rr_get_interval',\n",
              " 'sched_setaffinity',\n",
              " 'sched_setparam',\n",
              " 'sched_setscheduler',\n",
              " 'sched_yield',\n",
              " 'sendfile',\n",
              " 'sep',\n",
              " 'set_blocking',\n",
              " 'set_inheritable',\n",
              " 'setegid',\n",
              " 'seteuid',\n",
              " 'setgid',\n",
              " 'setgroups',\n",
              " 'setpgid',\n",
              " 'setpgrp',\n",
              " 'setpriority',\n",
              " 'setregid',\n",
              " 'setresgid',\n",
              " 'setresuid',\n",
              " 'setreuid',\n",
              " 'setsid',\n",
              " 'setuid',\n",
              " 'setxattr',\n",
              " 'spawnl',\n",
              " 'spawnle',\n",
              " 'spawnlp',\n",
              " 'spawnlpe',\n",
              " 'spawnv',\n",
              " 'spawnve',\n",
              " 'spawnvp',\n",
              " 'spawnvpe',\n",
              " 'st',\n",
              " 'stat',\n",
              " 'stat_result',\n",
              " 'statvfs',\n",
              " 'statvfs_result',\n",
              " 'strerror',\n",
              " 'supports_bytes_environ',\n",
              " 'supports_dir_fd',\n",
              " 'supports_effective_ids',\n",
              " 'supports_fd',\n",
              " 'supports_follow_symlinks',\n",
              " 'symlink',\n",
              " 'sync',\n",
              " 'sys',\n",
              " 'sysconf',\n",
              " 'sysconf_names',\n",
              " 'system',\n",
              " 'tcgetpgrp',\n",
              " 'tcsetpgrp',\n",
              " 'terminal_size',\n",
              " 'times',\n",
              " 'times_result',\n",
              " 'truncate',\n",
              " 'ttyname',\n",
              " 'umask',\n",
              " 'uname',\n",
              " 'uname_result',\n",
              " 'unlink',\n",
              " 'unsetenv',\n",
              " 'urandom',\n",
              " 'utime',\n",
              " 'wait',\n",
              " 'wait3',\n",
              " 'wait4',\n",
              " 'waitid',\n",
              " 'waitid_result',\n",
              " 'waitpid',\n",
              " 'walk',\n",
              " 'write',\n",
              " 'writev']"
            ]
          },
          "metadata": {
            "tags": []
          },
          "execution_count": 325
        }
      ]
    },
    {
      "cell_type": "code",
      "metadata": {
        "colab": {
          "base_uri": "https://localhost:8080/"
        },
        "id": "m3hwFyzPnUvP",
        "outputId": "e9238954-b963-42ef-b76c-438194c315af"
      },
      "source": [
        "#Return the content in current director (current path)\n",
        "os.listdir('.')"
      ],
      "execution_count": null,
      "outputs": [
        {
          "output_type": "execute_result",
          "data": {
            "text/plain": [
              "['.config',\n",
              " 'my folder',\n",
              " 'list',\n",
              " 'As.txt',\n",
              " 'my_folder3',\n",
              " 'Eplison',\n",
              " 'new.txt',\n",
              " '.ipynb_checkpoints',\n",
              " 'AS.txt',\n",
              " 'sample_data']"
            ]
          },
          "metadata": {
            "tags": []
          },
          "execution_count": 326
        }
      ]
    },
    {
      "cell_type": "code",
      "metadata": {
        "colab": {
          "base_uri": "https://localhost:8080/"
        },
        "id": "VMFN9j7NngRI",
        "outputId": "92278a50-f70f-4f2c-9a29-a828ae934370"
      },
      "source": [
        "os.listdir('../..')"
      ],
      "execution_count": null,
      "outputs": [
        {
          "output_type": "execute_result",
          "data": {
            "text/plain": [
              "['sys',\n",
              " 'lib64',\n",
              " 'boot',\n",
              " 'opt',\n",
              " 'proc',\n",
              " 'etc',\n",
              " 'tmp',\n",
              " 'media',\n",
              " 'dev',\n",
              " 'mnt',\n",
              " 'var',\n",
              " 'lib',\n",
              " 'sbin',\n",
              " 'bin',\n",
              " 'usr',\n",
              " 'run',\n",
              " 'home',\n",
              " 'srv',\n",
              " 'root',\n",
              " 'content',\n",
              " '.dockerenv',\n",
              " 'datalab',\n",
              " 'tools',\n",
              " 'tensorflow-1.15.2',\n",
              " 'lib32']"
            ]
          },
          "metadata": {
            "tags": []
          },
          "execution_count": 327
        }
      ]
    },
    {
      "cell_type": "code",
      "metadata": {
        "colab": {
          "base_uri": "https://localhost:8080/"
        },
        "id": "cf_QJJwDoZWg",
        "outputId": "cb01a49f-d39b-403f-8126-969c40c10643"
      },
      "source": [
        "os.listdir('Eplison')"
      ],
      "execution_count": null,
      "outputs": [
        {
          "output_type": "execute_result",
          "data": {
            "text/plain": [
              "['.ipynb_checkpoints', 'Code']"
            ]
          },
          "metadata": {
            "tags": []
          },
          "execution_count": 328
        }
      ]
    },
    {
      "cell_type": "code",
      "metadata": {
        "colab": {
          "base_uri": "https://localhost:8080/"
        },
        "id": "ZC1a_dTFqZRj",
        "outputId": "3eab805d-ac67-4c86-9fcb-d96cd4f8a36e"
      },
      "source": [
        "os.listdir('Eplison/Code')"
      ],
      "execution_count": null,
      "outputs": [
        {
          "output_type": "execute_result",
          "data": {
            "text/plain": [
              "['Python', '.ipynb_checkpoints']"
            ]
          },
          "metadata": {
            "tags": []
          },
          "execution_count": 329
        }
      ]
    },
    {
      "cell_type": "code",
      "metadata": {
        "colab": {
          "base_uri": "https://localhost:8080/"
        },
        "id": "t7ihCS4IqvCf",
        "outputId": "a5f5561e-a382-4a58-ddc6-fc5fd81ff8ba"
      },
      "source": [
        "os.listdir('Eplison/Code/Python')"
      ],
      "execution_count": null,
      "outputs": [
        {
          "output_type": "execute_result",
          "data": {
            "text/plain": [
              "['PY0101EN-2-3-Dictionaries.ipynb',\n",
              " '09-Files.ipynb',\n",
              " 'arabic.txt',\n",
              " 'PY0101EN-2-1-Tuples.ipynb',\n",
              " 'not_found.txt',\n",
              " 'PY0101EN-2-2-Lists.ipynb',\n",
              " 'test.txt',\n",
              " '.ipynb_checkpoints']"
            ]
          },
          "metadata": {
            "tags": []
          },
          "execution_count": 330
        }
      ]
    },
    {
      "cell_type": "code",
      "metadata": {
        "id": "-xP78bHbrWwk"
      },
      "source": [
        "os.remove('Eplison/Code/Python/09-Files.ipynb')"
      ],
      "execution_count": null,
      "outputs": []
    },
    {
      "cell_type": "code",
      "metadata": {
        "colab": {
          "base_uri": "https://localhost:8080/"
        },
        "id": "6Tpz036OsB6C",
        "outputId": "1d0f7c88-4838-4dfb-e25c-1ec3808d39d4"
      },
      "source": [
        "os.listdir('Eplison/Code/Python')"
      ],
      "execution_count": null,
      "outputs": [
        {
          "output_type": "execute_result",
          "data": {
            "text/plain": [
              "['PY0101EN-2-3-Dictionaries.ipynb',\n",
              " 'arabic.txt',\n",
              " 'PY0101EN-2-1-Tuples.ipynb',\n",
              " 'not_found.txt',\n",
              " 'PY0101EN-2-2-Lists.ipynb',\n",
              " 'test.txt',\n",
              " '.ipynb_checkpoints']"
            ]
          },
          "metadata": {
            "tags": []
          },
          "execution_count": 332
        }
      ]
    },
    {
      "cell_type": "code",
      "metadata": {
        "colab": {
          "base_uri": "https://localhost:8080/"
        },
        "id": "_qsmTUqrudck",
        "outputId": "75fbd807-52d1-4682-b639-ecbc0d5ca2b9"
      },
      "source": [
        "os.listdir('Eplison/Code/Python')"
      ],
      "execution_count": null,
      "outputs": [
        {
          "output_type": "execute_result",
          "data": {
            "text/plain": [
              "['PY0101EN-2-3-Dictionaries.ipynb',\n",
              " 'arabic.txt',\n",
              " 'PY0101EN-2-1-Tuples.ipynb',\n",
              " 'not_found.txt',\n",
              " 'PY0101EN-2-2-Lists.ipynb',\n",
              " 'test.txt',\n",
              " '.ipynb_checkpoints']"
            ]
          },
          "metadata": {
            "tags": []
          },
          "execution_count": 334
        }
      ]
    },
    {
      "cell_type": "code",
      "metadata": {
        "id": "5pqPXvK2ufpJ"
      },
      "source": [
        "os.makedirs('my_folder')"
      ],
      "execution_count": null,
      "outputs": []
    },
    {
      "cell_type": "code",
      "metadata": {
        "colab": {
          "base_uri": "https://localhost:8080/"
        },
        "id": "-V1R-c0qv8_A",
        "outputId": "baadb38b-fbed-46e0-9017-d1dff285196f"
      },
      "source": [
        "os.listdir('.')"
      ],
      "execution_count": null,
      "outputs": [
        {
          "output_type": "execute_result",
          "data": {
            "text/plain": [
              "['.config',\n",
              " 'my folder',\n",
              " 'list',\n",
              " 'As.txt',\n",
              " 'my_folder',\n",
              " 'my_folder3',\n",
              " 'Eplison',\n",
              " 'new.txt',\n",
              " '.ipynb_checkpoints',\n",
              " 'AS.txt',\n",
              " 'sample_data']"
            ]
          },
          "metadata": {
            "tags": []
          },
          "execution_count": 336
        }
      ]
    },
    {
      "cell_type": "code",
      "metadata": {
        "id": "2YezesA9uyJB"
      },
      "source": [
        "os.rename('my_folder','my folder')"
      ],
      "execution_count": null,
      "outputs": []
    },
    {
      "cell_type": "code",
      "metadata": {
        "colab": {
          "base_uri": "https://localhost:8080/"
        },
        "id": "oXPB1YyBv8TJ",
        "outputId": "c2a83a64-d4bd-493e-ec20-a5f7b33dbbdf"
      },
      "source": [
        "os.listdir('.')"
      ],
      "execution_count": null,
      "outputs": [
        {
          "output_type": "execute_result",
          "data": {
            "text/plain": [
              "['.config',\n",
              " 'my folder',\n",
              " 'list',\n",
              " 'As.txt',\n",
              " 'my_folder3',\n",
              " 'Eplison',\n",
              " 'new.txt',\n",
              " '.ipynb_checkpoints',\n",
              " 'AS.txt',\n",
              " 'sample_data']"
            ]
          },
          "metadata": {
            "tags": []
          },
          "execution_count": 338
        }
      ]
    },
    {
      "cell_type": "code",
      "metadata": {
        "id": "DMhAeFcAvUs9"
      },
      "source": [
        "os.rename('Eplison/Code/Python/PY0101EN-2-2-Lists.ipynb','list')"
      ],
      "execution_count": null,
      "outputs": []
    },
    {
      "cell_type": "code",
      "metadata": {
        "colab": {
          "base_uri": "https://localhost:8080/"
        },
        "id": "SAWTv9fDv3q0",
        "outputId": "ad28aa81-c2f6-42f6-802b-a923f2946279"
      },
      "source": [
        "os.listdir('Eplison/Code/Python')"
      ],
      "execution_count": null,
      "outputs": [
        {
          "output_type": "execute_result",
          "data": {
            "text/plain": [
              "['PY0101EN-2-3-Dictionaries.ipynb',\n",
              " 'arabic.txt',\n",
              " 'PY0101EN-2-1-Tuples.ipynb',\n",
              " 'not_found.txt',\n",
              " 'test.txt',\n",
              " '.ipynb_checkpoints']"
            ]
          },
          "metadata": {
            "tags": []
          },
          "execution_count": 340
        }
      ]
    },
    {
      "cell_type": "markdown",
      "metadata": {
        "id": "HjLg4eYy0qmx"
      },
      "source": [
        "# **7.Date and Time Modules :-**\n",
        "https://www.w3schools.com/python/python_datetime.asp\n",
        "\n",
        "https://www.w3schools.com/python/python_datetime.asp\n",
        "\n",
        "\n",
        "---\n",
        "\n"
      ]
    },
    {
      "cell_type": "code",
      "metadata": {
        "id": "ZjDIbIhcwYTd"
      },
      "source": [
        "from datetime import datetime, timedelta"
      ],
      "execution_count": null,
      "outputs": []
    },
    {
      "cell_type": "code",
      "metadata": {
        "colab": {
          "base_uri": "https://localhost:8080/"
        },
        "id": "RAXkDVch6Jen",
        "outputId": "ddb0743b-cdad-4000-8052-22783c6af785"
      },
      "source": [
        "dir(datetime)"
      ],
      "execution_count": null,
      "outputs": [
        {
          "output_type": "execute_result",
          "data": {
            "text/plain": [
              "['__add__',\n",
              " '__class__',\n",
              " '__delattr__',\n",
              " '__dir__',\n",
              " '__doc__',\n",
              " '__eq__',\n",
              " '__format__',\n",
              " '__ge__',\n",
              " '__getattribute__',\n",
              " '__gt__',\n",
              " '__hash__',\n",
              " '__init__',\n",
              " '__init_subclass__',\n",
              " '__le__',\n",
              " '__lt__',\n",
              " '__ne__',\n",
              " '__new__',\n",
              " '__radd__',\n",
              " '__reduce__',\n",
              " '__reduce_ex__',\n",
              " '__repr__',\n",
              " '__rsub__',\n",
              " '__setattr__',\n",
              " '__sizeof__',\n",
              " '__str__',\n",
              " '__sub__',\n",
              " '__subclasshook__',\n",
              " 'astimezone',\n",
              " 'combine',\n",
              " 'ctime',\n",
              " 'date',\n",
              " 'day',\n",
              " 'dst',\n",
              " 'fold',\n",
              " 'fromisoformat',\n",
              " 'fromordinal',\n",
              " 'fromtimestamp',\n",
              " 'hour',\n",
              " 'isocalendar',\n",
              " 'isoformat',\n",
              " 'isoweekday',\n",
              " 'max',\n",
              " 'microsecond',\n",
              " 'min',\n",
              " 'minute',\n",
              " 'month',\n",
              " 'now',\n",
              " 'replace',\n",
              " 'resolution',\n",
              " 'second',\n",
              " 'strftime',\n",
              " 'strptime',\n",
              " 'time',\n",
              " 'timestamp',\n",
              " 'timetuple',\n",
              " 'timetz',\n",
              " 'today',\n",
              " 'toordinal',\n",
              " 'tzinfo',\n",
              " 'tzname',\n",
              " 'utcfromtimestamp',\n",
              " 'utcnow',\n",
              " 'utcoffset',\n",
              " 'utctimetuple',\n",
              " 'weekday',\n",
              " 'year']"
            ]
          },
          "metadata": {
            "tags": []
          },
          "execution_count": 342
        }
      ]
    },
    {
      "cell_type": "code",
      "metadata": {
        "colab": {
          "base_uri": "https://localhost:8080/"
        },
        "id": "nzGnu6bd6ndH",
        "outputId": "34599a18-ac7b-48b2-c516-f3447b55e6be"
      },
      "source": [
        "#Printing current instence \n",
        "print('The Time now is :\\n',datetime.now())\n",
        "print('The Day in pervious time :',datetime.now().day)\n",
        "print('The Month in pervious time :',datetime.now().month)\n",
        "print('The Year in pervious time :',datetime.now().year)\n",
        "print('The Minutes in pervious time :',datetime.now().minute)\n",
        "print('The Seconds in pervious time :',datetime.now().second)\n",
        "print('The MicroSeconds in pervious time :',datetime.now().microsecond)\n"
      ],
      "execution_count": null,
      "outputs": [
        {
          "output_type": "stream",
          "text": [
            "The Time now is :\n",
            " 2021-07-26 22:39:56.091848\n",
            "The Day in pervious time : 26\n",
            "The Month in pervious time : 7\n",
            "The Year in pervious time : 2021\n",
            "The Minutes in pervious time : 39\n",
            "The Seconds in pervious time : 56\n",
            "The MicroSeconds in pervious time : 94574\n",
            "The list of all contents in pervious time : 2021-07-26 22:39:56.094668\n"
          ],
          "name": "stdout"
        }
      ]
    },
    {
      "cell_type": "code",
      "metadata": {
        "colab": {
          "base_uri": "https://localhost:8080/"
        },
        "id": "d71TUqC4652D",
        "outputId": "b3b0cfe9-0869-47b0-dbc3-238be4bd4f9a"
      },
      "source": [
        "print('The list of all contents in pervious time :')\n",
        "datetime.now().today()"
      ],
      "execution_count": null,
      "outputs": [
        {
          "output_type": "stream",
          "text": [
            "The list of all contents in pervious time :\n"
          ],
          "name": "stdout"
        },
        {
          "output_type": "execute_result",
          "data": {
            "text/plain": [
              "datetime.datetime(2021, 7, 26, 22, 40, 33, 255526)"
            ]
          },
          "metadata": {
            "tags": []
          },
          "execution_count": 358
        }
      ]
    },
    {
      "cell_type": "code",
      "metadata": {
        "id": "FEgdBuie-QL5"
      },
      "source": [
        "now_date = datetime.now()\n",
        "another_date = datetime(2020, 2, 17, 22, 36, 21 )"
      ],
      "execution_count": null,
      "outputs": []
    },
    {
      "cell_type": "code",
      "metadata": {
        "colab": {
          "base_uri": "https://localhost:8080/"
        },
        "id": "Y5IsQje-HcAy",
        "outputId": "1fe65773-6148-49b0-fe31-afff7ef8a765"
      },
      "source": [
        "print(now_date - another_date)"
      ],
      "execution_count": null,
      "outputs": [
        {
          "output_type": "stream",
          "text": [
            "525 days, 0:46:51.445061\n"
          ],
          "name": "stdout"
        }
      ]
    },
    {
      "cell_type": "code",
      "metadata": {
        "colab": {
          "base_uri": "https://localhost:8080/"
        },
        "id": "KBFBt5AVH-zm",
        "outputId": "6ffd4420-8c7e-4cec-da2e-e9e1d9f23896"
      },
      "source": [
        "#how many days ? \n",
        "(now_date - another_date) / timedelta(days=1)"
      ],
      "execution_count": null,
      "outputs": [
        {
          "output_type": "execute_result",
          "data": {
            "text/plain": [
              "525.0325398733912"
            ]
          },
          "metadata": {
            "tags": []
          },
          "execution_count": 368
        }
      ]
    },
    {
      "cell_type": "code",
      "metadata": {
        "colab": {
          "base_uri": "https://localhost:8080/"
        },
        "id": "1d0oZxFfImzT",
        "outputId": "bf3f7375-f1cb-416c-e8cd-4729958dd666"
      },
      "source": [
        "#how many weeks ? \n",
        "(now_date - another_date) / timedelta(days=7)"
      ],
      "execution_count": null,
      "outputs": [
        {
          "output_type": "execute_result",
          "data": {
            "text/plain": [
              "75.0046485533416"
            ]
          },
          "metadata": {
            "tags": []
          },
          "execution_count": 370
        }
      ]
    },
    {
      "cell_type": "code",
      "metadata": {
        "colab": {
          "base_uri": "https://localhost:8080/"
        },
        "id": "lany0wVFJAQ2",
        "outputId": "64bef75e-63a9-45d3-8dba-69aed21538f0"
      },
      "source": [
        "#how many weeks ? \n",
        "(now_date - another_date) / timedelta(weeks=1)"
      ],
      "execution_count": null,
      "outputs": [
        {
          "output_type": "execute_result",
          "data": {
            "text/plain": [
              "10.714949793334515"
            ]
          },
          "metadata": {
            "tags": []
          },
          "execution_count": 372
        }
      ]
    },
    {
      "cell_type": "code",
      "metadata": {
        "colab": {
          "base_uri": "https://localhost:8080/"
        },
        "id": "yx11LcC6Kl_y",
        "outputId": "f090ca18-8bc9-4f49-dba4-5e7c27807984"
      },
      "source": [
        "#how many months ? \n",
        "(now_date - another_date) / timedelta(weeks=4)"
      ],
      "execution_count": null,
      "outputs": [
        {
          "output_type": "execute_result",
          "data": {
            "text/plain": [
              "18.7511621383354"
            ]
          },
          "metadata": {
            "tags": []
          },
          "execution_count": 374
        }
      ]
    },
    {
      "cell_type": "code",
      "metadata": {
        "colab": {
          "base_uri": "https://localhost:8080/"
        },
        "id": "nydJw2B9K1ey",
        "outputId": "3e09eac8-498c-45d1-827c-d5e9afb69ac5"
      },
      "source": [
        "##how many hours? \n",
        "(now_date - another_date) / timedelta(hours=1)"
      ],
      "execution_count": null,
      "outputs": [
        {
          "output_type": "execute_result",
          "data": {
            "text/plain": [
              "12600.78095696139"
            ]
          },
          "metadata": {
            "tags": []
          },
          "execution_count": 377
        }
      ]
    },
    {
      "cell_type": "code",
      "metadata": {
        "colab": {
          "base_uri": "https://localhost:8080/"
        },
        "id": "2N_9wOq7LlEA",
        "outputId": "c5076aee-c35f-44a8-fc53-bf0e880bb310"
      },
      "source": [
        "print(now_date)"
      ],
      "execution_count": null,
      "outputs": [
        {
          "output_type": "stream",
          "text": [
            "2021-07-26 23:23:12.445061\n"
          ],
          "name": "stdout"
        }
      ]
    },
    {
      "cell_type": "code",
      "metadata": {
        "colab": {
          "base_uri": "https://localhost:8080/",
          "height": 35
        },
        "id": "9ZQqNofyNJZj",
        "outputId": "2167be12-51d0-4182-bafa-2092e05dc8f6"
      },
      "source": [
        "# weekday --- day/month/year hour-minute-second Period\n",
        "now_date.strftime(\"%A --- %d-%B-%Y %I:%M:%S %p\")"
      ],
      "execution_count": null,
      "outputs": [
        {
          "output_type": "execute_result",
          "data": {
            "application/vnd.google.colaboratory.intrinsic+json": {
              "type": "string"
            },
            "text/plain": [
              "'Monday --- 26-July-2021 11:23:12 PM'"
            ]
          },
          "metadata": {
            "tags": []
          },
          "execution_count": 381
        }
      ]
    },
    {
      "cell_type": "code",
      "metadata": {
        "id": "7ChEXYFINUFH"
      },
      "source": [
        "import time"
      ],
      "execution_count": null,
      "outputs": []
    },
    {
      "cell_type": "code",
      "metadata": {
        "colab": {
          "base_uri": "https://localhost:8080/"
        },
        "id": "FN1etpRoOdrn",
        "outputId": "2e746c4c-7c75-45e6-b2e8-323f7967181c"
      },
      "source": [
        "#How many seconds from 1970 to current time\n",
        "time.time()"
      ],
      "execution_count": null,
      "outputs": [
        {
          "output_type": "execute_result",
          "data": {
            "text/plain": [
              "1627343500.8488812"
            ]
          },
          "metadata": {
            "tags": []
          },
          "execution_count": 384
        }
      ]
    },
    {
      "cell_type": "code",
      "metadata": {
        "colab": {
          "base_uri": "https://localhost:8080/"
        },
        "id": "SQOJrSfMOl6P",
        "outputId": "7876df8e-d86f-4f61-8678-811c49adc496"
      },
      "source": [
        "#How many time needed to run time \n",
        "start_time = time.time()\n",
        "print('Starting Time :', time.time())\n",
        "x = 10\n",
        "for i in range(100000000):\n",
        "    x += 1\n",
        "\n",
        "finish_time = time.time()\n",
        "print('Finishing Time',finish_time)\n",
        "print(f\"code took {finish_time - start_time} seconds\")    "
      ],
      "execution_count": null,
      "outputs": [
        {
          "output_type": "stream",
          "text": [
            "Starting Time : 1627343613.5981226\n",
            "Finishing Time 1627343624.6377702\n",
            "code took 11.03967547416687 seconds\n"
          ],
          "name": "stdout"
        }
      ]
    },
    {
      "cell_type": "code",
      "metadata": {
        "colab": {
          "base_uri": "https://localhost:8080/"
        },
        "id": "l8c2lELmPOkH",
        "outputId": "94faa4fc-7ffa-4fbd-d670-9e0ca73d88d8"
      },
      "source": [
        "#Sleeping code for two seconds\n",
        "for i in range(11):\n",
        "    print(i)\n",
        "    time.sleep(2)"
      ],
      "execution_count": null,
      "outputs": [
        {
          "output_type": "stream",
          "text": [
            "0\n",
            "1\n",
            "2\n",
            "3\n",
            "4\n",
            "5\n",
            "6\n",
            "7\n",
            "8\n",
            "9\n",
            "10\n"
          ],
          "name": "stdout"
        }
      ]
    },
    {
      "cell_type": "code",
      "metadata": {
        "id": "J2h20nxQPpwv"
      },
      "source": [],
      "execution_count": null,
      "outputs": []
    }
  ]
}