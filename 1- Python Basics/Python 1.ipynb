{
  "cells": [
    {
      "cell_type": "markdown",
      "metadata": {
        "id": "lHxVMzapo6vA"
      },
      "source": [
        "#**1.Output and Input**\n",
        "\n",
        "---\n",
        "\n",
        "---\n",
        "\n",
        "\n",
        "\n",
        "\n",
        "\n",
        "\n"
      ]
    },
    {
      "cell_type": "code",
      "execution_count": null,
      "metadata": {
        "colab": {
          "background_save": true,
          "base_uri": "https://localhost:8080/"
        },
        "id": "xcOGhAw2pDcD",
        "outputId": "3bf86a8e-1383-4834-a686-a3132e3af9cf"
      },
      "outputs": [
        {
          "name": "stdout",
          "output_type": "stream",
          "text": [
            " Hello aslm !\n",
            " MY age is 20 \n"
          ]
        }
      ],
      "source": [
        "print(\" Hello aslm !\")\n",
        "print(\" MY age is 20 \")"
      ]
    },
    {
      "cell_type": "code",
      "execution_count": null,
      "metadata": {
        "colab": {
          "base_uri": "https://localhost:8080/"
        },
        "id": "LF6PwfRDq4_A",
        "outputId": "a8a6f247-298f-4790-d2f9-d32d6a0a4976"
      },
      "outputs": [
        {
          "name": "stdout",
          "output_type": "stream",
          "text": [
            "enter your name : aslm \n",
            "aslm \n"
          ]
        }
      ],
      "source": [
        "inp = input(\"enter your name : \")\n",
        "print(inp)"
      ]
    },
    {
      "cell_type": "code",
      "execution_count": null,
      "metadata": {
        "colab": {
          "base_uri": "https://localhost:8080/"
        },
        "id": "YMxL0tIOrO5D",
        "outputId": "ada78e2a-1f8b-422a-b5e2-11c1f9bfe940"
      },
      "outputs": [
        {
          "name": "stdout",
          "output_type": "stream",
          "text": [
            " Enter radius : 112\n",
            " Circumference = 703.36\n"
          ]
        }
      ],
      "source": [
        "radius = int(input(' Enter radius : '))\n",
        "circum = 2 * radius * 3.14\n",
        "print (' Circumference =',circum)"
      ]
    },
    {
      "cell_type": "code",
      "execution_count": null,
      "metadata": {
        "colab": {
          "base_uri": "https://localhost:8080/"
        },
        "id": "C4InN5uMrQFK",
        "outputId": "3ec74275-eb6a-42f8-85de-2c494ba75121"
      },
      "outputs": [
        {
          "name": "stdout",
          "output_type": "stream",
          "text": [
            " Enter radius : 22\n",
            " Area = 1519.76\n"
          ]
        }
      ],
      "source": [
        "radius = int(input(' Enter radius : '))\n",
        "area_cir = radius * radius * 3.14\n",
        "print (' Area =',area_cir)"
      ]
    },
    {
      "cell_type": "markdown",
      "metadata": {
        "id": "Gsl3wveHo6gc"
      },
      "source": [
        "#**2.Data Types**\n",
        "\n",
        "\n",
        "1.   Premitve Data Types\n",
        "2.   Non-Premitve Data Types\n",
        "\n",
        "\n",
        "---\n",
        "\n",
        "---\n",
        "\n",
        "\n",
        "\n"
      ]
    },
    {
      "cell_type": "markdown",
      "metadata": {
        "id": "qQCZFk4TsydU"
      },
      "source": [
        "## 2.1.Premitive Data Types (built-in)\n",
        "\n",
        "---\n",
        "\n"
      ]
    },
    {
      "cell_type": "markdown",
      "metadata": {
        "id": "VQXG_MlAs9d6"
      },
      "source": [
        "### 2.1.1.Numbers\n",
        "\n",
        "\n"
      ]
    },
    {
      "cell_type": "code",
      "execution_count": null,
      "metadata": {
        "colab": {
          "base_uri": "https://localhost:8080/"
        },
        "id": "a9LBksZH7U2t",
        "outputId": "4f41fade-2fd5-41b6-d05a-9d09bdef06a9"
      },
      "outputs": [
        {
          "data": {
            "text/plain": [
              "2"
            ]
          },
          "execution_count": 5,
          "metadata": {
            "tags": []
          },
          "output_type": "execute_result"
        }
      ],
      "source": [
        "1+1"
      ]
    },
    {
      "cell_type": "code",
      "execution_count": null,
      "metadata": {
        "colab": {
          "base_uri": "https://localhost:8080/"
        },
        "id": "LLmWQAscv-oi",
        "outputId": "dc71b530-72a8-4725-c758-37830fed1018"
      },
      "outputs": [
        {
          "data": {
            "text/plain": [
              "14.440000000000001"
            ]
          },
          "execution_count": 6,
          "metadata": {
            "tags": []
          },
          "output_type": "execute_result"
        }
      ],
      "source": [
        "11.22+3.22"
      ]
    },
    {
      "cell_type": "code",
      "execution_count": null,
      "metadata": {
        "colab": {
          "base_uri": "https://localhost:8080/"
        },
        "id": "hnfRDN-Bv9Ti",
        "outputId": "f53a96f4-b7d9-476b-ba76-393dedf48200"
      },
      "outputs": [
        {
          "data": {
            "text/plain": [
              "-2"
            ]
          },
          "execution_count": 7,
          "metadata": {
            "tags": []
          },
          "output_type": "execute_result"
        }
      ],
      "source": [
        "1-3"
      ]
    },
    {
      "cell_type": "code",
      "execution_count": null,
      "metadata": {
        "colab": {
          "base_uri": "https://localhost:8080/"
        },
        "id": "hb7KpThRwDG7",
        "outputId": "975008e0-44c6-4893-bd94-17ee1e3f6721"
      },
      "outputs": [
        {
          "data": {
            "text/plain": [
              "10.100000000000001"
            ]
          },
          "execution_count": 8,
          "metadata": {
            "tags": []
          },
          "output_type": "execute_result"
        }
      ],
      "source": [
        "12.3-2.2"
      ]
    },
    {
      "cell_type": "code",
      "execution_count": null,
      "metadata": {
        "colab": {
          "base_uri": "https://localhost:8080/"
        },
        "id": "Kx9ZG6cNwHGb",
        "outputId": "b43c6b9c-151b-42cc-cec8-eff8d6c1ffd6"
      },
      "outputs": [
        {
          "data": {
            "text/plain": [
              "36"
            ]
          },
          "execution_count": 9,
          "metadata": {
            "tags": []
          },
          "output_type": "execute_result"
        }
      ],
      "source": [
        "12*3"
      ]
    },
    {
      "cell_type": "code",
      "execution_count": null,
      "metadata": {
        "colab": {
          "base_uri": "https://localhost:8080/"
        },
        "id": "TcE-d5X9wKQJ",
        "outputId": "aae90ee8-c5fe-4709-bc84-38c9d2d7074c"
      },
      "outputs": [
        {
          "data": {
            "text/plain": [
              "39.606"
            ]
          },
          "execution_count": 10,
          "metadata": {
            "tags": []
          },
          "output_type": "execute_result"
        }
      ],
      "source": [
        "12.3*3.22"
      ]
    },
    {
      "cell_type": "code",
      "execution_count": null,
      "metadata": {
        "colab": {
          "base_uri": "https://localhost:8080/"
        },
        "id": "Iq1QGmu_wOs5",
        "outputId": "dca03601-f10b-4dfe-d932-49a063963010"
      },
      "outputs": [
        {
          "data": {
            "text/plain": [
              "144"
            ]
          },
          "execution_count": 11,
          "metadata": {
            "tags": []
          },
          "output_type": "execute_result"
        }
      ],
      "source": [
        "12**2"
      ]
    },
    {
      "cell_type": "code",
      "execution_count": null,
      "metadata": {
        "colab": {
          "base_uri": "https://localhost:8080/"
        },
        "id": "Evb2FbkiwXO-",
        "outputId": "99094514-ca14-448a-c93e-1955c5ccccb0"
      },
      "outputs": [
        {
          "data": {
            "text/plain": [
              "10.8"
            ]
          },
          "execution_count": 12,
          "metadata": {
            "tags": []
          },
          "output_type": "execute_result"
        }
      ],
      "source": [
        "5.4*2"
      ]
    },
    {
      "cell_type": "code",
      "execution_count": null,
      "metadata": {
        "colab": {
          "base_uri": "https://localhost:8080/"
        },
        "id": "6v59eaSFwdbW",
        "outputId": "f99d07ad-61f6-4673-e8fe-4f9e75798125"
      },
      "outputs": [
        {
          "data": {
            "text/plain": [
              "4.0"
            ]
          },
          "execution_count": 13,
          "metadata": {
            "tags": []
          },
          "output_type": "execute_result"
        }
      ],
      "source": [
        "12/3"
      ]
    },
    {
      "cell_type": "code",
      "execution_count": null,
      "metadata": {
        "colab": {
          "base_uri": "https://localhost:8080/"
        },
        "id": "DAZ65qrUwdPt",
        "outputId": "3739167d-4c73-46b5-9865-217be70c3d57"
      },
      "outputs": [
        {
          "data": {
            "text/plain": [
              "3.5882352941176467"
            ]
          },
          "execution_count": 14,
          "metadata": {
            "tags": []
          },
          "output_type": "execute_result"
        }
      ],
      "source": [
        "12.2/3.4"
      ]
    },
    {
      "cell_type": "code",
      "execution_count": null,
      "metadata": {
        "colab": {
          "base_uri": "https://localhost:8080/"
        },
        "id": "lTpJln-EwkBB",
        "outputId": "b1147da7-c876-416f-ac47-9318be720df3"
      },
      "outputs": [
        {
          "data": {
            "text/plain": [
              "3.0"
            ]
          },
          "execution_count": 15,
          "metadata": {
            "tags": []
          },
          "output_type": "execute_result"
        }
      ],
      "source": [
        "12.2//3.4"
      ]
    },
    {
      "cell_type": "code",
      "execution_count": null,
      "metadata": {
        "colab": {
          "base_uri": "https://localhost:8080/"
        },
        "id": "gltqtMsbwomY",
        "outputId": "7e027190-dd02-4927-91af-13caa5f74425"
      },
      "outputs": [
        {
          "data": {
            "text/plain": [
              "2"
            ]
          },
          "execution_count": 16,
          "metadata": {
            "tags": []
          },
          "output_type": "execute_result"
        }
      ],
      "source": [
        "10//4"
      ]
    },
    {
      "cell_type": "code",
      "execution_count": null,
      "metadata": {
        "colab": {
          "base_uri": "https://localhost:8080/"
        },
        "id": "yBuNIbptwsTs",
        "outputId": "eb4b3399-b6fb-4c52-b774-5e769e3a96b7"
      },
      "outputs": [
        {
          "data": {
            "text/plain": [
              "4"
            ]
          },
          "execution_count": 17,
          "metadata": {
            "tags": []
          },
          "output_type": "execute_result"
        }
      ],
      "source": [
        "10 % 6"
      ]
    },
    {
      "cell_type": "code",
      "execution_count": null,
      "metadata": {
        "colab": {
          "base_uri": "https://localhost:8080/"
        },
        "id": "uveqZCbWw4nf",
        "outputId": "f640b140-1ef3-453d-d392-318898787499"
      },
      "outputs": [
        {
          "data": {
            "text/plain": [
              "5"
            ]
          },
          "execution_count": 18,
          "metadata": {
            "tags": []
          },
          "output_type": "execute_result"
        }
      ],
      "source": [
        "125 % 10"
      ]
    },
    {
      "cell_type": "code",
      "execution_count": null,
      "metadata": {
        "colab": {
          "base_uri": "https://localhost:8080/"
        },
        "id": "YqrkznakxNxj",
        "outputId": "137a8987-0e66-482b-cd94-f750801b8d12"
      },
      "outputs": [
        {
          "data": {
            "text/plain": [
              "int"
            ]
          },
          "execution_count": 19,
          "metadata": {
            "tags": []
          },
          "output_type": "execute_result"
        }
      ],
      "source": [
        "type(4)"
      ]
    },
    {
      "cell_type": "code",
      "execution_count": null,
      "metadata": {
        "colab": {
          "base_uri": "https://localhost:8080/"
        },
        "id": "BzeSDNgPxhwW",
        "outputId": "2371e9f4-594e-4aef-8941-825ae18fdecf"
      },
      "outputs": [
        {
          "data": {
            "text/plain": [
              "17"
            ]
          },
          "execution_count": 20,
          "metadata": {
            "tags": []
          },
          "output_type": "execute_result"
        }
      ],
      "source": [
        "x = 5 \n",
        "y = 12\n",
        "x+y"
      ]
    },
    {
      "cell_type": "code",
      "execution_count": null,
      "metadata": {
        "colab": {
          "base_uri": "https://localhost:8080/"
        },
        "id": "iJyuVe_-yE-l",
        "outputId": "abe7c2f2-94c3-4ee4-feaf-2f75294fd11e"
      },
      "outputs": [
        {
          "data": {
            "text/plain": [
              "12"
            ]
          },
          "execution_count": 21,
          "metadata": {
            "tags": []
          },
          "output_type": "execute_result"
        }
      ],
      "source": [
        "x = -12\n",
        "y = -34.5\n",
        "z = 50\n",
        "abs(x) "
      ]
    },
    {
      "cell_type": "code",
      "execution_count": null,
      "metadata": {
        "colab": {
          "base_uri": "https://localhost:8080/"
        },
        "id": "-mxRszJAyKzm",
        "outputId": "93671ec6-f8fe-4a7e-cbff-f840b1562076"
      },
      "outputs": [
        {
          "data": {
            "text/plain": [
              "34.5"
            ]
          },
          "execution_count": 22,
          "metadata": {
            "tags": []
          },
          "output_type": "execute_result"
        }
      ],
      "source": [
        "abs(y)"
      ]
    },
    {
      "cell_type": "code",
      "execution_count": null,
      "metadata": {
        "colab": {
          "base_uri": "https://localhost:8080/"
        },
        "id": "BDuoBV-byYSA",
        "outputId": "541caae2-a053-4f48-dc3f-7d1268c5cffa"
      },
      "outputs": [
        {
          "data": {
            "text/plain": [
              "50"
            ]
          },
          "execution_count": 23,
          "metadata": {
            "tags": []
          },
          "output_type": "execute_result"
        }
      ],
      "source": [
        "abs(z)"
      ]
    },
    {
      "cell_type": "code",
      "execution_count": null,
      "metadata": {
        "colab": {
          "base_uri": "https://localhost:8080/"
        },
        "id": "78VeLQbSyYNh",
        "outputId": "d956e133-b50a-465a-f5d5-ffde4c25e9d9"
      },
      "outputs": [
        {
          "data": {
            "text/plain": [
              "int"
            ]
          },
          "execution_count": 24,
          "metadata": {
            "tags": []
          },
          "output_type": "execute_result"
        }
      ],
      "source": [
        "type(x)"
      ]
    },
    {
      "cell_type": "code",
      "execution_count": null,
      "metadata": {
        "colab": {
          "base_uri": "https://localhost:8080/"
        },
        "id": "nS2rDh0fyg6K",
        "outputId": "4023ae7b-a4e6-4e07-88e2-2191b34d56fa"
      },
      "outputs": [
        {
          "data": {
            "text/plain": [
              "float"
            ]
          },
          "execution_count": 25,
          "metadata": {
            "tags": []
          },
          "output_type": "execute_result"
        }
      ],
      "source": [
        "type(y)"
      ]
    },
    {
      "cell_type": "code",
      "execution_count": null,
      "metadata": {
        "colab": {
          "base_uri": "https://localhost:8080/"
        },
        "id": "DZj4qREzxmCF",
        "outputId": "f0510f67-6565-4a45-a93f-8a943d298e33"
      },
      "outputs": [
        {
          "name": "stdout",
          "output_type": "stream",
          "text": [
            "Enter frist number = 12\n",
            "Enter second number = 3\n",
            "sum = 15\n",
            "subtract = 9\n",
            "multiplication = 36\n",
            "division = 4.0\n",
            "floor divison = 4\n",
            "modulas = 0\n",
            "powering = 1728\n"
          ]
        }
      ],
      "source": [
        "fr_num = int(input('Enter frist number = '))\n",
        "sc_num = int(input('Enter second number = '))\n",
        "print('sum =',fr_num + sc_num)\n",
        "print('subtract =',fr_num - sc_num)\n",
        "print('multiplication =',fr_num * sc_num)\n",
        "print('division =',fr_num / sc_num)\n",
        "print('floor divison =',fr_num // sc_num)\n",
        "print('modulas =',fr_num % sc_num)\n",
        "print('powering =',fr_num ** sc_num)\n"
      ]
    },
    {
      "cell_type": "markdown",
      "metadata": {
        "id": "Knrd1UUSo5VE"
      },
      "source": [
        "### 2.1.2.Strings "
      ]
    },
    {
      "cell_type": "code",
      "execution_count": null,
      "metadata": {
        "colab": {
          "base_uri": "https://localhost:8080/"
        },
        "id": "p0l6fidc1Ic_",
        "outputId": "a15d8b9e-36e5-40eb-d76c-85535e2a0c08"
      },
      "outputs": [
        {
          "name": "stdout",
          "output_type": "stream",
          "text": [
            "Aslm Fawzy Abd-Elkader\n"
          ]
        }
      ],
      "source": [
        "print('Aslm Fawzy Abd-Elkader')"
      ]
    },
    {
      "cell_type": "code",
      "execution_count": null,
      "metadata": {
        "colab": {
          "base_uri": "https://localhost:8080/",
          "height": 35
        },
        "id": "8YkZ1DQi9NYt",
        "outputId": "6e620465-3564-45e7-a911-763bb8ac95e5"
      },
      "outputs": [
        {
          "data": {
            "application/vnd.google.colaboratory.intrinsic+json": {
              "type": "string"
            },
            "text/plain": [
              "'Aslm Fawzy Abd-Elkader'"
            ]
          },
          "execution_count": 28,
          "metadata": {
            "tags": []
          },
          "output_type": "execute_result"
        }
      ],
      "source": [
        "my_name = 'Aslm Fawzy Abd-Elkader' \n",
        "my_name"
      ]
    },
    {
      "cell_type": "code",
      "execution_count": null,
      "metadata": {
        "colab": {
          "base_uri": "https://localhost:8080/"
        },
        "id": "m9EbVxKs1Bqb",
        "outputId": "1f3c9139-704c-424b-9098-0223a155b1fe"
      },
      "outputs": [
        {
          "name": "stdout",
          "output_type": "stream",
          "text": [
            "I'm Aslm Fawzy Abd-Elkader\n"
          ]
        }
      ],
      "source": [
        "print('I\\'m Aslm Fawzy Abd-Elkader')"
      ]
    },
    {
      "cell_type": "code",
      "execution_count": null,
      "metadata": {
        "colab": {
          "base_uri": "https://localhost:8080/"
        },
        "id": "4yJDqKhy1dXo",
        "outputId": "82569ab3-849d-49fb-d108-c01619e24f73"
      },
      "outputs": [
        {
          "name": "stdout",
          "output_type": "stream",
          "text": [
            "I'm Aslm Fawzy Abd-Elkader a\b \n"
          ]
        }
      ],
      "source": [
        "print('I\\'m Aslm Fawzy Abd-Elkader a\\b ')"
      ]
    },
    {
      "cell_type": "code",
      "execution_count": null,
      "metadata": {
        "colab": {
          "base_uri": "https://localhost:8080/"
        },
        "id": "m6KdNCVs1nn2",
        "outputId": "ddd1c674-d316-41bd-dcce-c3d7ee18028a"
      },
      "outputs": [
        {
          "name": "stdout",
          "output_type": "stream",
          "text": [
            "not\r I'm Aslm Fawzy Abd-Elkader  \n"
          ]
        }
      ],
      "source": [
        "print('not\\r I\\'m Aslm Fawzy Abd-Elkader  ')"
      ]
    },
    {
      "cell_type": "code",
      "execution_count": null,
      "metadata": {
        "colab": {
          "base_uri": "https://localhost:8080/"
        },
        "id": "u-xV5jCa1yVY",
        "outputId": "7e15d9d7-0cc7-4d3c-867f-43c9200581ec"
      },
      "outputs": [
        {
          "name": "stdout",
          "output_type": "stream",
          "text": [
            "\t I'm Aslm Fawzy Abd-Elkader  \n"
          ]
        }
      ],
      "source": [
        "print('\\t I\\'m Aslm Fawzy Abd-Elkader  ')"
      ]
    },
    {
      "cell_type": "code",
      "execution_count": null,
      "metadata": {
        "colab": {
          "base_uri": "https://localhost:8080/",
          "height": 35
        },
        "id": "eI2xxHUM14gG",
        "outputId": "74c38675-0740-4e48-d609-fec389b582ed"
      },
      "outputs": [
        {
          "data": {
            "application/vnd.google.colaboratory.intrinsic+json": {
              "type": "string"
            },
            "text/plain": [
              "'s'"
            ]
          },
          "execution_count": 33,
          "metadata": {
            "tags": []
          },
          "output_type": "execute_result"
        }
      ],
      "source": [
        "my_name = 'Aslm Fawzy Abd-Elkader' \n",
        "my_name[1]"
      ]
    },
    {
      "cell_type": "code",
      "execution_count": null,
      "metadata": {
        "colab": {
          "base_uri": "https://localhost:8080/",
          "height": 35
        },
        "id": "RBo6HfiM2E7q",
        "outputId": "e5d73713-fb03-426c-8349-f257392cf872"
      },
      "outputs": [
        {
          "data": {
            "application/vnd.google.colaboratory.intrinsic+json": {
              "type": "string"
            },
            "text/plain": [
              "'r'"
            ]
          },
          "execution_count": 34,
          "metadata": {
            "tags": []
          },
          "output_type": "execute_result"
        }
      ],
      "source": [
        "my_name[-1]"
      ]
    },
    {
      "cell_type": "code",
      "execution_count": null,
      "metadata": {
        "colab": {
          "base_uri": "https://localhost:8080/",
          "height": 35
        },
        "id": "RmvoiJTp2Lb5",
        "outputId": "aec3227d-7470-405d-da0a-c88f471812f8"
      },
      "outputs": [
        {
          "data": {
            "application/vnd.google.colaboratory.intrinsic+json": {
              "type": "string"
            },
            "text/plain": [
              "'F'"
            ]
          },
          "execution_count": 35,
          "metadata": {
            "tags": []
          },
          "output_type": "execute_result"
        }
      ],
      "source": [
        "my_name[5]"
      ]
    },
    {
      "cell_type": "code",
      "execution_count": null,
      "metadata": {
        "colab": {
          "base_uri": "https://localhost:8080/",
          "height": 35
        },
        "id": "xHcPq5oK2Wdn",
        "outputId": "ac6641ee-02d3-4c75-8e6c-69c76eed85f8"
      },
      "outputs": [
        {
          "data": {
            "application/vnd.google.colaboratory.intrinsic+json": {
              "type": "string"
            },
            "text/plain": [
              "'k'"
            ]
          },
          "execution_count": 36,
          "metadata": {
            "tags": []
          },
          "output_type": "execute_result"
        }
      ],
      "source": [
        "my_name[-5]"
      ]
    },
    {
      "cell_type": "code",
      "execution_count": null,
      "metadata": {
        "colab": {
          "base_uri": "https://localhost:8080/",
          "height": 35
        },
        "id": "IidIMsxZ2gUa",
        "outputId": "e1b1c9cd-199a-4a8d-f480-30e3b9e7dd3d"
      },
      "outputs": [
        {
          "data": {
            "application/vnd.google.colaboratory.intrinsic+json": {
              "type": "string"
            },
            "text/plain": [
              "'Aslm'"
            ]
          },
          "execution_count": 37,
          "metadata": {
            "tags": []
          },
          "output_type": "execute_result"
        }
      ],
      "source": [
        "my_name[:4]"
      ]
    },
    {
      "cell_type": "code",
      "execution_count": null,
      "metadata": {
        "colab": {
          "base_uri": "https://localhost:8080/",
          "height": 35
        },
        "id": "o7_RfZ7q2kGE",
        "outputId": "a4fcc123-c6e3-4982-e8a6-a3102229d482"
      },
      "outputs": [
        {
          "data": {
            "application/vnd.google.colaboratory.intrinsic+json": {
              "type": "string"
            },
            "text/plain": [
              "'Elkader'"
            ]
          },
          "execution_count": 38,
          "metadata": {
            "tags": []
          },
          "output_type": "execute_result"
        }
      ],
      "source": [
        "my_name[-7:]"
      ]
    },
    {
      "cell_type": "code",
      "execution_count": null,
      "metadata": {
        "colab": {
          "base_uri": "https://localhost:8080/",
          "height": 35
        },
        "id": "wlmRnY-H2ycJ",
        "outputId": "ecb91658-ce72-45d6-cc2b-52f83c23cee6"
      },
      "outputs": [
        {
          "data": {
            "application/vnd.google.colaboratory.intrinsic+json": {
              "type": "string"
            },
            "text/plain": [
              "'Fawzy'"
            ]
          },
          "execution_count": 39,
          "metadata": {
            "tags": []
          },
          "output_type": "execute_result"
        }
      ],
      "source": [
        "my_name[5:10]"
      ]
    },
    {
      "cell_type": "code",
      "execution_count": null,
      "metadata": {
        "colab": {
          "base_uri": "https://localhost:8080/",
          "height": 35
        },
        "id": "u23OBbDaYDGD",
        "outputId": "9cd41170-97e5-4a3e-c82f-401ca44f3fda"
      },
      "outputs": [
        {
          "data": {
            "application/vnd.google.colaboratory.intrinsic+json": {
              "type": "string"
            },
            "text/plain": [
              "'Aslm Fawzy Abd-Elkader'"
            ]
          },
          "execution_count": 40,
          "metadata": {
            "tags": []
          },
          "output_type": "execute_result"
        }
      ],
      "source": [
        "my_name[::1]"
      ]
    },
    {
      "cell_type": "code",
      "execution_count": null,
      "metadata": {
        "colab": {
          "base_uri": "https://localhost:8080/",
          "height": 35
        },
        "id": "kN9iqTHZX8dj",
        "outputId": "eaa14441-6154-49d1-8b89-e00fbb3245d6"
      },
      "outputs": [
        {
          "data": {
            "application/vnd.google.colaboratory.intrinsic+json": {
              "type": "string"
            },
            "text/plain": [
              "'Al az b-lae'"
            ]
          },
          "execution_count": 41,
          "metadata": {
            "tags": []
          },
          "output_type": "execute_result"
        }
      ],
      "source": [
        "my_name[::2]"
      ]
    },
    {
      "cell_type": "code",
      "execution_count": null,
      "metadata": {
        "colab": {
          "base_uri": "https://localhost:8080/",
          "height": 35
        },
        "id": "RhkHlVyC3P5q",
        "outputId": "c4031226-b5f7-4236-b995-0c13ad035c70"
      },
      "outputs": [
        {
          "data": {
            "application/vnd.google.colaboratory.intrinsic+json": {
              "type": "string"
            },
            "text/plain": [
              "'Fwy'"
            ]
          },
          "execution_count": 42,
          "metadata": {
            "tags": []
          },
          "output_type": "execute_result"
        }
      ],
      "source": [
        "my_name[5:10:2]\n"
      ]
    },
    {
      "cell_type": "code",
      "execution_count": null,
      "metadata": {
        "colab": {
          "base_uri": "https://localhost:8080/",
          "height": 35
        },
        "id": "85FgkyT0cLj1",
        "outputId": "7c5a6c40-69fa-4bb7-f931-814a73d6a7e1"
      },
      "outputs": [
        {
          "data": {
            "application/vnd.google.colaboratory.intrinsic+json": {
              "type": "string"
            },
            "text/plain": [
              "'AmaybEar'"
            ]
          },
          "execution_count": 43,
          "metadata": {
            "tags": []
          },
          "output_type": "execute_result"
        }
      ],
      "source": [
        "my_name[::3]"
      ]
    },
    {
      "cell_type": "code",
      "execution_count": null,
      "metadata": {
        "colab": {
          "base_uri": "https://localhost:8080/",
          "height": 35
        },
        "id": "q03ti7Bq3cL1",
        "outputId": "2c846175-1599-45cc-dc10-8b0fbadba9b3"
      },
      "outputs": [
        {
          "data": {
            "application/vnd.google.colaboratory.intrinsic+json": {
              "type": "string"
            },
            "text/plain": [
              "'Ear'"
            ]
          },
          "execution_count": 44,
          "metadata": {
            "tags": []
          },
          "output_type": "execute_result"
        }
      ],
      "source": [
        "my_name[-7::3]"
      ]
    },
    {
      "cell_type": "code",
      "execution_count": null,
      "metadata": {
        "colab": {
          "base_uri": "https://localhost:8080/",
          "height": 35
        },
        "id": "G0szA6J5csR2",
        "outputId": "9e43a2dd-4217-4c60-aef3-0d09ebd94ea9"
      },
      "outputs": [
        {
          "data": {
            "application/vnd.google.colaboratory.intrinsic+json": {
              "type": "string"
            },
            "text/plain": [
              "'redaklE-dbA yzwaF mlsA'"
            ]
          },
          "execution_count": 45,
          "metadata": {
            "tags": []
          },
          "output_type": "execute_result"
        }
      ],
      "source": [
        "my_name[::-1]"
      ]
    },
    {
      "cell_type": "code",
      "execution_count": null,
      "metadata": {
        "colab": {
          "base_uri": "https://localhost:8080/",
          "height": 35
        },
        "id": "dAY39C0fc-oe",
        "outputId": "8636e7fc-8867-4c3c-ed34-27a1c7416de6"
      },
      "outputs": [
        {
          "data": {
            "application/vnd.google.colaboratory.intrinsic+json": {
              "type": "string"
            },
            "text/plain": [
              "'rdkEdAywFms'"
            ]
          },
          "execution_count": 46,
          "metadata": {
            "tags": []
          },
          "output_type": "execute_result"
        }
      ],
      "source": [
        "my_name[::-2]"
      ]
    },
    {
      "cell_type": "code",
      "execution_count": null,
      "metadata": {
        "colab": {
          "base_uri": "https://localhost:8080/",
          "height": 35
        },
        "id": "JnkfMS9R3LNv",
        "outputId": "f1fb12a1-4d3e-4767-93ae-7837596bf1d5"
      },
      "outputs": [
        {
          "data": {
            "application/vnd.google.colaboratory.intrinsic+json": {
              "type": "string"
            },
            "text/plain": [
              "'EbyamA'"
            ]
          },
          "execution_count": 47,
          "metadata": {
            "tags": []
          },
          "output_type": "execute_result"
        }
      ],
      "source": [
        "my_name[-7::-3]"
      ]
    },
    {
      "cell_type": "code",
      "execution_count": null,
      "metadata": {
        "colab": {
          "base_uri": "https://localhost:8080/"
        },
        "id": "1ZHxBWBSdijR",
        "outputId": "4eca4eb9-6ff4-46ab-e20a-16a7ea065f2c"
      },
      "outputs": [
        {
          "name": "stdout",
          "output_type": "stream",
          "text": [
            "Enter name : ASLM FAWZY\n",
            "ASLM \n",
            "FAWZY\n"
          ]
        }
      ],
      "source": [
        "inp = input(\"Enter name : \")\n",
        "print(inp[:5])\n",
        "print(inp[-5:])"
      ]
    },
    {
      "cell_type": "code",
      "execution_count": null,
      "metadata": {
        "colab": {
          "base_uri": "https://localhost:8080/"
        },
        "id": "ebLkFDnEhmxz",
        "outputId": "68af84d0-a1b1-401c-d37f-9c0511c3cab6"
      },
      "outputs": [
        {
          "name": "stdout",
          "output_type": "stream",
          "text": [
            "Enter name : Aslm\n",
            "AslmAslmAslm\n"
          ]
        }
      ],
      "source": [
        "inp = input(\"Enter name : \")\n",
        "print(inp*3)"
      ]
    },
    {
      "cell_type": "code",
      "execution_count": null,
      "metadata": {
        "colab": {
          "base_uri": "https://localhost:8080/"
        },
        "id": "WLa5-tef4MGV",
        "outputId": "03c8ab7c-ec50-4ecb-bac9-7356aceac920"
      },
      "outputs": [
        {
          "name": "stdout",
          "output_type": "stream",
          "text": [
            "['Aslm', 'Fawzy', 'Abd-Elkader']\n"
          ]
        }
      ],
      "source": [
        "my_name = 'Aslm Fawzy Abd-Elkader' \n",
        "print(my_name.split())"
      ]
    },
    {
      "cell_type": "code",
      "execution_count": null,
      "metadata": {
        "colab": {
          "base_uri": "https://localhost:8080/"
        },
        "id": "r3fLKLf8k5-N",
        "outputId": "7d08054e-a25d-45bd-c84a-bd0cf238688e"
      },
      "outputs": [
        {
          "name": "stdout",
          "output_type": "stream",
          "text": [
            "['Aslm', 'Fawzy', 'Abd_Elkader', ': ']\n"
          ]
        }
      ],
      "source": [
        "inp = 'Aslm-Fawzy-Abd_Elkader-: '\n",
        "print(inp.split('-'))\n"
      ]
    },
    {
      "cell_type": "code",
      "execution_count": null,
      "metadata": {
        "colab": {
          "base_uri": "https://localhost:8080/"
        },
        "id": "4k86wP5W517M",
        "outputId": "58384a1c-926f-457b-acc2-35a5c9d99423"
      },
      "outputs": [
        {
          "name": "stdout",
          "output_type": "stream",
          "text": [
            "['198', '168', '1', '1']\n"
          ]
        }
      ],
      "source": [
        "num = '198.168.1.1'\n",
        "print(num.split('.'))"
      ]
    },
    {
      "cell_type": "code",
      "execution_count": null,
      "metadata": {
        "colab": {
          "base_uri": "https://localhost:8080/",
          "height": 35
        },
        "id": "8eJ8xp3j8UYL",
        "outputId": "379970df-3674-489a-c03b-6f062c8c38ce"
      },
      "outputs": [
        {
          "data": {
            "application/vnd.google.colaboratory.intrinsic+json": {
              "type": "string"
            },
            "text/plain": [
              "'192.168.1.1'"
            ]
          },
          "execution_count": 53,
          "metadata": {
            "tags": []
          },
          "output_type": "execute_result"
        }
      ],
      "source": [
        "'.'.join(['192','168','1','1'])"
      ]
    },
    {
      "cell_type": "code",
      "execution_count": null,
      "metadata": {
        "colab": {
          "base_uri": "https://localhost:8080/",
          "height": 35
        },
        "id": "KP6S_tof8dZI",
        "outputId": "cc140735-3772-4b8e-b68a-bc9b947f0f05"
      },
      "outputs": [
        {
          "data": {
            "application/vnd.google.colaboratory.intrinsic+json": {
              "type": "string"
            },
            "text/plain": [
              "'I Love Python'"
            ]
          },
          "execution_count": 54,
          "metadata": {
            "tags": []
          },
          "output_type": "execute_result"
        }
      ],
      "source": [
        "' '.join(['I', 'Love', 'Python'])"
      ]
    },
    {
      "cell_type": "code",
      "execution_count": null,
      "metadata": {
        "colab": {
          "base_uri": "https://localhost:8080/"
        },
        "id": "2XqHbpqqkcCV",
        "outputId": "507d0694-2698-451d-b16c-c019cb2e6a23"
      },
      "outputs": [
        {
          "data": {
            "text/plain": [
              "22"
            ]
          },
          "execution_count": 55,
          "metadata": {
            "tags": []
          },
          "output_type": "execute_result"
        }
      ],
      "source": [
        "my_name = 'Aslm Fawzy Abd-Elkader'\n",
        "len(my_name) "
      ]
    },
    {
      "cell_type": "code",
      "execution_count": null,
      "metadata": {
        "colab": {
          "base_uri": "https://localhost:8080/",
          "height": 35
        },
        "id": "ptiDD6176U7h",
        "outputId": "d20d8dc2-3e05-484f-cb49-db817309216a"
      },
      "outputs": [
        {
          "data": {
            "application/vnd.google.colaboratory.intrinsic+json": {
              "type": "string"
            },
            "text/plain": [
              "'ASLM FAWZY ABD-ELKADER'"
            ]
          },
          "execution_count": 56,
          "metadata": {
            "tags": []
          },
          "output_type": "execute_result"
        }
      ],
      "source": [
        "my_name.upper()"
      ]
    },
    {
      "cell_type": "code",
      "execution_count": null,
      "metadata": {
        "colab": {
          "base_uri": "https://localhost:8080/"
        },
        "id": "kODBsHnj6XsO",
        "outputId": "9106b0c5-8bce-4385-c037-da0eef4baa89"
      },
      "outputs": [
        {
          "data": {
            "text/plain": [
              "False"
            ]
          },
          "execution_count": 57,
          "metadata": {
            "tags": []
          },
          "output_type": "execute_result"
        }
      ],
      "source": [
        "my_name.isupper()"
      ]
    },
    {
      "cell_type": "code",
      "execution_count": null,
      "metadata": {
        "colab": {
          "base_uri": "https://localhost:8080/",
          "height": 35
        },
        "id": "C0hVh9SO6bu3",
        "outputId": "38561d93-a1de-4246-88e8-7d74a40d4bc1"
      },
      "outputs": [
        {
          "data": {
            "application/vnd.google.colaboratory.intrinsic+json": {
              "type": "string"
            },
            "text/plain": [
              "'aslm fawzy abd-elkader'"
            ]
          },
          "execution_count": 58,
          "metadata": {
            "tags": []
          },
          "output_type": "execute_result"
        }
      ],
      "source": [
        "my_name.lower()"
      ]
    },
    {
      "cell_type": "code",
      "execution_count": null,
      "metadata": {
        "colab": {
          "base_uri": "https://localhost:8080/"
        },
        "id": "KTpgyglC6eNj",
        "outputId": "9398e350-fb98-4718-ee81-298405223763"
      },
      "outputs": [
        {
          "data": {
            "text/plain": [
              "False"
            ]
          },
          "execution_count": 59,
          "metadata": {
            "tags": []
          },
          "output_type": "execute_result"
        }
      ],
      "source": [
        "my_name.islower()"
      ]
    },
    {
      "cell_type": "code",
      "execution_count": null,
      "metadata": {
        "colab": {
          "base_uri": "https://localhost:8080/",
          "height": 35
        },
        "id": "xBGhaGWu649J",
        "outputId": "a720aede-a2ae-4c04-948a-c4a346b609b5"
      },
      "outputs": [
        {
          "data": {
            "application/vnd.google.colaboratory.intrinsic+json": {
              "type": "string"
            },
            "text/plain": [
              "'Zamalek is the best team'"
            ]
          },
          "execution_count": 60,
          "metadata": {
            "tags": []
          },
          "output_type": "execute_result"
        }
      ],
      "source": [
        "text = 'zamalek is the best team'\n",
        "text.capitalize()"
      ]
    },
    {
      "cell_type": "code",
      "execution_count": null,
      "metadata": {
        "colab": {
          "base_uri": "https://localhost:8080/",
          "height": 35
        },
        "id": "8obXYwsp7GiR",
        "outputId": "4fca7723-6b9a-4a37-db09-0a507b270104"
      },
      "outputs": [
        {
          "data": {
            "application/vnd.google.colaboratory.intrinsic+json": {
              "type": "string"
            },
            "text/plain": [
              "'Zamalek Is The Best Team'"
            ]
          },
          "execution_count": 61,
          "metadata": {
            "tags": []
          },
          "output_type": "execute_result"
        }
      ],
      "source": [
        "text.title()"
      ]
    },
    {
      "cell_type": "code",
      "execution_count": null,
      "metadata": {
        "colab": {
          "base_uri": "https://localhost:8080/"
        },
        "id": "v57C3RFt7SGp",
        "outputId": "c0cc8681-3570-410b-dcda-574083bd1f59"
      },
      "outputs": [
        {
          "data": {
            "text/plain": [
              "False"
            ]
          },
          "execution_count": 62,
          "metadata": {
            "tags": []
          },
          "output_type": "execute_result"
        }
      ],
      "source": [
        "text.endswith('a')"
      ]
    },
    {
      "cell_type": "code",
      "execution_count": null,
      "metadata": {
        "colab": {
          "base_uri": "https://localhost:8080/"
        },
        "id": "3a9L5Lua7ZC_",
        "outputId": "5fde8f96-e49b-4b41-9dcf-2685e288588e"
      },
      "outputs": [
        {
          "data": {
            "text/plain": [
              "True"
            ]
          },
          "execution_count": 63,
          "metadata": {
            "tags": []
          },
          "output_type": "execute_result"
        }
      ],
      "source": [
        "text.endswith('m')"
      ]
    },
    {
      "cell_type": "code",
      "execution_count": null,
      "metadata": {
        "colab": {
          "base_uri": "https://localhost:8080/"
        },
        "id": "7WGtePK37dq5",
        "outputId": "a7e746ff-b51d-4fcb-b17c-d26e399bcb8e"
      },
      "outputs": [
        {
          "data": {
            "text/plain": [
              "False"
            ]
          },
          "execution_count": 64,
          "metadata": {
            "tags": []
          },
          "output_type": "execute_result"
        }
      ],
      "source": [
        "text.startswith('a')"
      ]
    },
    {
      "cell_type": "code",
      "execution_count": null,
      "metadata": {
        "colab": {
          "base_uri": "https://localhost:8080/"
        },
        "id": "M3JUAy6M7kBV",
        "outputId": "8fc73783-f9e1-4ad7-97d5-279d6fc2b85a"
      },
      "outputs": [
        {
          "data": {
            "text/plain": [
              "True"
            ]
          },
          "execution_count": 65,
          "metadata": {
            "tags": []
          },
          "output_type": "execute_result"
        }
      ],
      "source": [
        "text.startswith('z')"
      ]
    },
    {
      "cell_type": "code",
      "execution_count": null,
      "metadata": {
        "colab": {
          "base_uri": "https://localhost:8080/"
        },
        "id": "5-FfsF1W7-ig",
        "outputId": "02901b19-e3b1-4c8e-a13b-382f6e2d589c"
      },
      "outputs": [
        {
          "data": {
            "text/plain": [
              "['c', 'e', 'e', 'l', 'm', 'o', 'w']"
            ]
          },
          "execution_count": 66,
          "metadata": {
            "tags": []
          },
          "output_type": "execute_result"
        }
      ],
      "source": [
        "sorted('welcome')"
      ]
    },
    {
      "cell_type": "code",
      "execution_count": null,
      "metadata": {
        "colab": {
          "base_uri": "https://localhost:8080/"
        },
        "id": "CUgdNzHY89hz",
        "outputId": "2b69d9c1-5bc8-47ba-cf10-2295e6bb2cc0"
      },
      "outputs": [
        {
          "name": "stdout",
          "output_type": "stream",
          "text": [
            "This is a string with a 10\n"
          ]
        }
      ],
      "source": [
        "num_1 = 10\n",
        "print('This is a string with a {}'.format(num_1))"
      ]
    },
    {
      "cell_type": "code",
      "execution_count": null,
      "metadata": {
        "colab": {
          "base_uri": "https://localhost:8080/"
        },
        "id": "3G7sQE109Wr9",
        "outputId": "765da2af-486a-4f41-9eff-63fc74932e6b"
      },
      "outputs": [
        {
          "name": "stdout",
          "output_type": "stream",
          "text": [
            "This is a string with a word:welcome and a number:12\n"
          ]
        }
      ],
      "source": [
        "word = 'welcome'\n",
        "num_1 = 12\n",
        "t =('welcome',12)\n",
        "print('This is a string with a word:{a} and a number:{b}'.format(a=t[0], b =t[1]))"
      ]
    },
    {
      "cell_type": "code",
      "execution_count": null,
      "metadata": {
        "colab": {
          "base_uri": "https://localhost:8080/"
        },
        "id": "JT5K6IEM992a",
        "outputId": "23ecda9d-0c1c-4222-d126-9a4f017e58ad"
      },
      "outputs": [
        {
          "name": "stdout",
          "output_type": "stream",
          "text": [
            "A penny saved is a penny earned.\n"
          ]
        }
      ],
      "source": [
        "print('A {p} saved is a {p} earned.'.format(p='penny'))"
      ]
    },
    {
      "cell_type": "code",
      "execution_count": null,
      "metadata": {
        "colab": {
          "base_uri": "https://localhost:8080/"
        },
        "id": "K5KQfPAcoQLc",
        "outputId": "5a022cbe-f565-4818-a43f-7cf8878c4ccf"
      },
      "outputs": [
        {
          "name": "stdout",
          "output_type": "stream",
          "text": [
            "Enter your name:aslm\n",
            "Enter your age:20\n",
            "Enter your password:aslm22\n",
            "Enter your gander:M\n",
            "name:aslm | age:20 | password:aslm22 | gander:M\n"
          ]
        }
      ],
      "source": [
        "name =input('Enter your name:')\n",
        "age =input('Enter your age:')\n",
        "password =input('Enter your password:')\n",
        "Gander =input('Enter your gander:')\n",
        "print(f'name:{name} | age:{age} | password:{password} | gander:{Gander}')\n"
      ]
    },
    {
      "cell_type": "code",
      "source": [
        "s = input()"
      ],
      "metadata": {
        "id": "9-EbLqtCJ-N-"
      },
      "execution_count": null,
      "outputs": []
    },
    {
      "cell_type": "code",
      "source": [
        "[c.isupper()  for c in s]"
      ],
      "metadata": {
        "colab": {
          "base_uri": "https://localhost:8080/"
        },
        "id": "ovPqtVWbRo-Q",
        "outputId": "1edef9c4-b448-46d9-9551-37c6698b86fa"
      },
      "execution_count": null,
      "outputs": [
        {
          "output_type": "execute_result",
          "data": {
            "text/plain": [
              "[True, True, True]"
            ]
          },
          "metadata": {},
          "execution_count": 124
        }
      ]
    },
    {
      "cell_type": "code",
      "source": [
        "any([c.isupper()  for c in s])"
      ],
      "metadata": {
        "colab": {
          "base_uri": "https://localhost:8080/"
        },
        "id": "YB7HXjxyQRWN",
        "outputId": "338285b4-df80-4e3b-d461-9435b6825861"
      },
      "execution_count": null,
      "outputs": [
        {
          "output_type": "execute_result",
          "data": {
            "text/plain": [
              "True"
            ]
          },
          "metadata": {},
          "execution_count": 130
        }
      ]
    },
    {
      "cell_type": "code",
      "source": [
        "s = input()\n",
        "print(any([c.islower()  for c in s]))\n",
        "print(any([c.isupper()  for c in s]))\n",
        "print(any([c.isalnum()  for c in s]))\n",
        "print(any([c.isalpha()  for c in s]))\n",
        "print(all([c.isdigit()  for c in s]))"
      ],
      "metadata": {
        "colab": {
          "base_uri": "https://localhost:8080/"
        },
        "id": "LgO-59IcLqL_",
        "outputId": "b5e91d0f-c571-4d71-d423-3c610b4f47b3"
      },
      "execution_count": null,
      "outputs": [
        {
          "output_type": "stream",
          "name": "stdout",
          "text": [
            "12ass\n",
            "True\n",
            "False\n",
            "True\n",
            "True\n",
            "False\n"
          ]
        }
      ]
    },
    {
      "cell_type": "markdown",
      "metadata": {
        "id": "PwYGE04W-HOL"
      },
      "source": [
        "### 2.1.3.Boolean"
      ]
    },
    {
      "cell_type": "code",
      "execution_count": null,
      "metadata": {
        "colab": {
          "base_uri": "https://localhost:8080/"
        },
        "id": "GmwlqmIu-l95",
        "outputId": "1af4a021-170b-4939-8354-faa7f8e624d3"
      },
      "outputs": [
        {
          "data": {
            "text/plain": [
              "bool"
            ]
          },
          "execution_count": 71,
          "metadata": {
            "tags": []
          },
          "output_type": "execute_result"
        }
      ],
      "source": [
        "val = True\n",
        "type(val)"
      ]
    },
    {
      "cell_type": "code",
      "execution_count": null,
      "metadata": {
        "colab": {
          "base_uri": "https://localhost:8080/"
        },
        "id": "yi835jXU-l6a",
        "outputId": "96e75d23-8ad1-4f39-d5e0-6e9e42e4881d"
      },
      "outputs": [
        {
          "data": {
            "text/plain": [
              "False"
            ]
          },
          "execution_count": 72,
          "metadata": {
            "tags": []
          },
          "output_type": "execute_result"
        }
      ],
      "source": [
        "1>4"
      ]
    },
    {
      "cell_type": "code",
      "execution_count": null,
      "metadata": {
        "colab": {
          "base_uri": "https://localhost:8080/"
        },
        "id": "aTy82mvA-tS4",
        "outputId": "50da4d99-1919-48ae-d8b2-ad89813b312c"
      },
      "outputs": [
        {
          "data": {
            "text/plain": [
              "True"
            ]
          },
          "execution_count": 73,
          "metadata": {
            "tags": []
          },
          "output_type": "execute_result"
        }
      ],
      "source": [
        "1<4"
      ]
    },
    {
      "cell_type": "code",
      "execution_count": null,
      "metadata": {
        "colab": {
          "base_uri": "https://localhost:8080/"
        },
        "id": "uuXL3Z1C-1IA",
        "outputId": "09b7d6a7-9623-450a-92bf-e5cd9e7eb520"
      },
      "outputs": [
        {
          "data": {
            "text/plain": [
              "True"
            ]
          },
          "execution_count": 74,
          "metadata": {
            "tags": []
          },
          "output_type": "execute_result"
        }
      ],
      "source": [
        "1 != 4"
      ]
    },
    {
      "cell_type": "code",
      "execution_count": null,
      "metadata": {
        "colab": {
          "base_uri": "https://localhost:8080/"
        },
        "id": "YVh5CZ91-3pU",
        "outputId": "a5b8eb73-f9e0-4dc1-87b8-629511457ce3"
      },
      "outputs": [
        {
          "data": {
            "text/plain": [
              "False"
            ]
          },
          "execution_count": 75,
          "metadata": {
            "tags": []
          },
          "output_type": "execute_result"
        }
      ],
      "source": [
        "1 == 4"
      ]
    },
    {
      "cell_type": "code",
      "execution_count": null,
      "metadata": {
        "colab": {
          "base_uri": "https://localhost:8080/"
        },
        "id": "LV58QL4l_Bed",
        "outputId": "5089f648-dfcb-4625-fa63-2186c43c55c3"
      },
      "outputs": [
        {
          "data": {
            "text/plain": [
              "True"
            ]
          },
          "execution_count": 76,
          "metadata": {
            "tags": []
          },
          "output_type": "execute_result"
        }
      ],
      "source": [
        "1 <= 4 "
      ]
    },
    {
      "cell_type": "code",
      "execution_count": null,
      "metadata": {
        "colab": {
          "base_uri": "https://localhost:8080/"
        },
        "id": "EPBXI58O_t5W",
        "outputId": "efb1749c-bbab-4d45-bd7f-9a50d7e8addd"
      },
      "outputs": [
        {
          "data": {
            "text/plain": [
              "False"
            ]
          },
          "execution_count": 77,
          "metadata": {
            "tags": []
          },
          "output_type": "execute_result"
        }
      ],
      "source": [
        "1>=4"
      ]
    },
    {
      "cell_type": "code",
      "execution_count": null,
      "metadata": {
        "colab": {
          "base_uri": "https://localhost:8080/"
        },
        "id": "YtkRPa3T_w15",
        "outputId": "be164c28-15e4-49cb-af26-148042f2ec5e"
      },
      "outputs": [
        {
          "data": {
            "text/plain": [
              "False"
            ]
          },
          "execution_count": 78,
          "metadata": {
            "tags": []
          },
          "output_type": "execute_result"
        }
      ],
      "source": [
        "1 <= 4 and 1>=4"
      ]
    },
    {
      "cell_type": "code",
      "execution_count": null,
      "metadata": {
        "colab": {
          "base_uri": "https://localhost:8080/"
        },
        "id": "i6oynl0p_5_5",
        "outputId": "fa3898e0-ad1b-45e6-9b15-5bdaf98c1f50"
      },
      "outputs": [
        {
          "data": {
            "text/plain": [
              "True"
            ]
          },
          "execution_count": 79,
          "metadata": {
            "tags": []
          },
          "output_type": "execute_result"
        }
      ],
      "source": [
        "1 <= 4 or 1>=4"
      ]
    },
    {
      "cell_type": "code",
      "execution_count": null,
      "metadata": {
        "colab": {
          "base_uri": "https://localhost:8080/"
        },
        "id": "JJZYKMD-_9k3",
        "outputId": "a238bb4e-bce2-4343-a73c-827fd4a7995d"
      },
      "outputs": [
        {
          "data": {
            "text/plain": [
              "True"
            ]
          },
          "execution_count": 80,
          "metadata": {
            "tags": []
          },
          "output_type": "execute_result"
        }
      ],
      "source": [
        "not(1 <= 4 and 1>=4)"
      ]
    },
    {
      "cell_type": "markdown",
      "metadata": {
        "id": "_SnqarizAkGu"
      },
      "source": [
        "## 2.2.Non-Premitive Data Types (user-defined)"
      ]
    },
    {
      "cell_type": "markdown",
      "metadata": {
        "id": "Y5c8ItdAE5j0"
      },
      "source": [
        "### 2.2.1.Lists"
      ]
    },
    {
      "cell_type": "code",
      "execution_count": null,
      "metadata": {
        "colab": {
          "base_uri": "https://localhost:8080/"
        },
        "id": "5e0yOjkQADSS",
        "outputId": "8e9cdfec-15ae-411a-f620-a8324ca7fd1e"
      },
      "outputs": [
        {
          "data": {
            "text/plain": [
              "[1, 2, 3]"
            ]
          },
          "execution_count": 81,
          "metadata": {
            "tags": []
          },
          "output_type": "execute_result"
        }
      ],
      "source": [
        "my_list = [1, 2, 3]\n",
        "my_list"
      ]
    },
    {
      "cell_type": "code",
      "execution_count": null,
      "metadata": {
        "colab": {
          "base_uri": "https://localhost:8080/"
        },
        "id": "90MTCaSwAusA",
        "outputId": "743bdb88-3c62-48b9-fb53-bc6bd99af39d"
      },
      "outputs": [
        {
          "data": {
            "text/plain": [
              "['A string', 23, 100.232, 'o', True, ['ahmed', 'mohammed', 'eman']]"
            ]
          },
          "execution_count": 82,
          "metadata": {
            "tags": []
          },
          "output_type": "execute_result"
        }
      ],
      "source": [
        "my_list_ = ['A string', 23, 100.232, 'o', True, ['ahmed', 'mohammed', 'eman']]\n",
        "my_list_"
      ]
    },
    {
      "cell_type": "code",
      "execution_count": null,
      "metadata": {
        "colab": {
          "base_uri": "https://localhost:8080/"
        },
        "id": "h4gPPgn9BJvG",
        "outputId": "bd9e5ff3-69fb-4be8-e49a-37ec1e119804"
      },
      "outputs": [
        {
          "data": {
            "text/plain": [
              "100.232"
            ]
          },
          "execution_count": 83,
          "metadata": {
            "tags": []
          },
          "output_type": "execute_result"
        }
      ],
      "source": [
        "my_list_[2]"
      ]
    },
    {
      "cell_type": "code",
      "execution_count": null,
      "metadata": {
        "colab": {
          "base_uri": "https://localhost:8080/",
          "height": 35
        },
        "id": "DDAmdZMyBIAB",
        "outputId": "c86106c3-a11e-4256-ef8c-239d5060b3b7"
      },
      "outputs": [
        {
          "data": {
            "application/vnd.google.colaboratory.intrinsic+json": {
              "type": "string"
            },
            "text/plain": [
              "'eman'"
            ]
          },
          "execution_count": 84,
          "metadata": {
            "tags": []
          },
          "output_type": "execute_result"
        }
      ],
      "source": [
        "my_list_[5][2]"
      ]
    },
    {
      "cell_type": "code",
      "execution_count": null,
      "metadata": {
        "colab": {
          "base_uri": "https://localhost:8080/",
          "height": 35
        },
        "id": "C45HvEx0BImY",
        "outputId": "034a27cf-b182-4844-c44c-be42d0b7b39a"
      },
      "outputs": [
        {
          "data": {
            "application/vnd.google.colaboratory.intrinsic+json": {
              "type": "string"
            },
            "text/plain": [
              "'n'"
            ]
          },
          "execution_count": 85,
          "metadata": {
            "tags": []
          },
          "output_type": "execute_result"
        }
      ],
      "source": [
        "my_list_[5][2][3]"
      ]
    },
    {
      "cell_type": "code",
      "execution_count": null,
      "metadata": {
        "colab": {
          "base_uri": "https://localhost:8080/"
        },
        "id": "NmbPHP4_BZ7l",
        "outputId": "169c8dc4-1532-47e0-940d-2ad3178403a4"
      },
      "outputs": [
        {
          "data": {
            "text/plain": [
              "['ASLM', 23, 100.232, 'o', True, ['ahmed', 'mohammed', 'eman']]"
            ]
          },
          "execution_count": 86,
          "metadata": {
            "tags": []
          },
          "output_type": "execute_result"
        }
      ],
      "source": [
        "my_list_[0] = 'ASLM'\n",
        "my_list_"
      ]
    },
    {
      "cell_type": "code",
      "execution_count": null,
      "metadata": {
        "colab": {
          "base_uri": "https://localhost:8080/"
        },
        "id": "fQjccnk6BtO2",
        "outputId": "48a28f62-85c6-420b-9a50-52fa324fc2ce"
      },
      "outputs": [
        {
          "data": {
            "text/plain": [
              "[1, 2, 3, 'add new item permanently']"
            ]
          },
          "execution_count": 87,
          "metadata": {
            "tags": []
          },
          "output_type": "execute_result"
        }
      ],
      "source": [
        "my_list = [1, 2, 3]\n",
        "my_list = my_list + ['add new item permanently']\n",
        "my_list"
      ]
    },
    {
      "cell_type": "code",
      "execution_count": null,
      "metadata": {
        "colab": {
          "base_uri": "https://localhost:8080/"
        },
        "id": "U82czSBNB5KE",
        "outputId": "7ccccb42-32e2-45b2-9407-3e460a2e99f7"
      },
      "outputs": [
        {
          "data": {
            "text/plain": [
              "[1, 2, 3, 'add new item permanently', 1, 2, 3, 'add new item permanently']"
            ]
          },
          "execution_count": 88,
          "metadata": {
            "tags": []
          },
          "output_type": "execute_result"
        }
      ],
      "source": [
        "my_list * 2"
      ]
    },
    {
      "cell_type": "code",
      "execution_count": null,
      "metadata": {
        "colab": {
          "base_uri": "https://localhost:8080/"
        },
        "id": "MEQvxohfCD3S",
        "outputId": "a957f34d-a840-408a-d552-4ea1c70f4ff6"
      },
      "outputs": [
        {
          "data": {
            "text/plain": [
              "3"
            ]
          },
          "execution_count": 89,
          "metadata": {
            "tags": []
          },
          "output_type": "execute_result"
        }
      ],
      "source": [
        "my_list = [1, 2, 3]\n",
        "len(my_list)"
      ]
    },
    {
      "cell_type": "code",
      "execution_count": null,
      "metadata": {
        "colab": {
          "base_uri": "https://localhost:8080/"
        },
        "id": "bulqDCqjCJrS",
        "outputId": "fd408d55-d783-4828-abf9-b92d6320b74a"
      },
      "outputs": [
        {
          "data": {
            "text/plain": [
              "[1, 2, 3, 4]"
            ]
          },
          "execution_count": 90,
          "metadata": {
            "tags": []
          },
          "output_type": "execute_result"
        }
      ],
      "source": [
        "my_list.append(4)\n",
        "my_list"
      ]
    },
    {
      "cell_type": "code",
      "execution_count": null,
      "metadata": {
        "colab": {
          "base_uri": "https://localhost:8080/"
        },
        "id": "FJARZxWECYQa",
        "outputId": "5dbe3526-b27d-4967-9e9f-490c477e5d65"
      },
      "outputs": [
        {
          "data": {
            "text/plain": [
              "[1, 2, 3, 4, 5]"
            ]
          },
          "execution_count": 91,
          "metadata": {
            "tags": []
          },
          "output_type": "execute_result"
        }
      ],
      "source": [
        "my_list.insert(4,5)\n",
        "my_list"
      ]
    },
    {
      "cell_type": "code",
      "execution_count": null,
      "metadata": {
        "colab": {
          "base_uri": "https://localhost:8080/"
        },
        "id": "R7rnVc5mCgUJ",
        "outputId": "609ac925-1b7f-40e3-e540-9c68006c162d"
      },
      "outputs": [
        {
          "data": {
            "text/plain": [
              "['zero', 1, 2, 3, 4, 5]"
            ]
          },
          "execution_count": 92,
          "metadata": {
            "tags": []
          },
          "output_type": "execute_result"
        }
      ],
      "source": [
        "my_list.insert(0,'zero')\n",
        "my_list"
      ]
    },
    {
      "cell_type": "code",
      "execution_count": null,
      "metadata": {
        "colab": {
          "base_uri": "https://localhost:8080/"
        },
        "id": "NRVih64ECnmA",
        "outputId": "3e82928b-ec60-4b2b-861b-d0a1cbf4efc3"
      },
      "outputs": [
        {
          "data": {
            "text/plain": [
              "[1, 2, 3, 4, 5]"
            ]
          },
          "execution_count": 93,
          "metadata": {
            "tags": []
          },
          "output_type": "execute_result"
        }
      ],
      "source": [
        "my_list.remove('zero')\n",
        "my_list"
      ]
    },
    {
      "cell_type": "code",
      "execution_count": null,
      "metadata": {
        "colab": {
          "base_uri": "https://localhost:8080/"
        },
        "id": "O5ZVZBZwC2ic",
        "outputId": "b2720532-21e9-4fa8-a641-631fb9e16316"
      },
      "outputs": [
        {
          "data": {
            "text/plain": [
              "['zero', 1, 2, 3, 4, 5]"
            ]
          },
          "execution_count": 94,
          "metadata": {
            "tags": []
          },
          "output_type": "execute_result"
        }
      ],
      "source": [
        "my_list.insert(0,'zero')\n",
        "my_list"
      ]
    },
    {
      "cell_type": "code",
      "execution_count": null,
      "metadata": {
        "colab": {
          "base_uri": "https://localhost:8080/"
        },
        "id": "6kvTDyQGC6C1",
        "outputId": "08e82b14-70b1-4ef1-ad9e-dc2830ee5ccc"
      },
      "outputs": [
        {
          "data": {
            "text/plain": [
              "[1, 2, 3, 4, 5]"
            ]
          },
          "execution_count": 95,
          "metadata": {
            "tags": []
          },
          "output_type": "execute_result"
        }
      ],
      "source": [
        "my_list.pop(0)\n",
        "my_list"
      ]
    },
    {
      "cell_type": "code",
      "execution_count": null,
      "metadata": {
        "colab": {
          "base_uri": "https://localhost:8080/"
        },
        "id": "mUq0LwxDDT2Z",
        "outputId": "bbd77316-3c65-46b5-c0c2-31e4d8b13df0"
      },
      "outputs": [
        {
          "data": {
            "text/plain": [
              "[2, 3, 4, 5]"
            ]
          },
          "execution_count": 96,
          "metadata": {
            "tags": []
          },
          "output_type": "execute_result"
        }
      ],
      "source": [
        "del my_list[0] \n",
        "my_list"
      ]
    },
    {
      "cell_type": "code",
      "execution_count": null,
      "metadata": {
        "colab": {
          "base_uri": "https://localhost:8080/"
        },
        "id": "9vwtaZBLDeCx",
        "outputId": "7e7cf838-1a22-4325-be79-cec8f0cd5021"
      },
      "outputs": [
        {
          "data": {
            "text/plain": [
              "[2, 5]"
            ]
          },
          "execution_count": 97,
          "metadata": {
            "tags": []
          },
          "output_type": "execute_result"
        }
      ],
      "source": [
        "del my_list[1:3] \n",
        "my_list"
      ]
    },
    {
      "cell_type": "code",
      "execution_count": null,
      "metadata": {
        "colab": {
          "base_uri": "https://localhost:8080/"
        },
        "id": "bozhJZvkEfGa",
        "outputId": "d1745165-93e7-4bbb-ad00-02b768074ff8"
      },
      "outputs": [
        {
          "data": {
            "text/plain": [
              "4"
            ]
          },
          "execution_count": 98,
          "metadata": {
            "tags": []
          },
          "output_type": "execute_result"
        }
      ],
      "source": [
        "my_list = [1,2,3,4]\n",
        "max(my_list)"
      ]
    },
    {
      "cell_type": "code",
      "execution_count": null,
      "metadata": {
        "colab": {
          "base_uri": "https://localhost:8080/"
        },
        "id": "sfKqu5wWEiKK",
        "outputId": "bd8889ec-fcc4-4461-d238-2b4ad2ea83ef"
      },
      "outputs": [
        {
          "data": {
            "text/plain": [
              "1"
            ]
          },
          "execution_count": 99,
          "metadata": {
            "tags": []
          },
          "output_type": "execute_result"
        }
      ],
      "source": [
        "min(my_list)"
      ]
    },
    {
      "cell_type": "code",
      "execution_count": null,
      "metadata": {
        "colab": {
          "base_uri": "https://localhost:8080/"
        },
        "id": "xHKBMgMcElbC",
        "outputId": "2503fa8f-34db-49d2-eade-82d8c176421e"
      },
      "outputs": [
        {
          "data": {
            "text/plain": [
              "10"
            ]
          },
          "execution_count": 100,
          "metadata": {
            "tags": []
          },
          "output_type": "execute_result"
        }
      ],
      "source": [
        "sum(my_list)"
      ]
    },
    {
      "cell_type": "code",
      "execution_count": null,
      "metadata": {
        "colab": {
          "base_uri": "https://localhost:8080/"
        },
        "id": "FKv0fiViDob8",
        "outputId": "95a9ff1c-153a-456b-bcf2-ec556e85c30e"
      },
      "outputs": [
        {
          "data": {
            "text/plain": [
              "[4, 3, 2, 1]"
            ]
          },
          "execution_count": 101,
          "metadata": {
            "tags": []
          },
          "output_type": "execute_result"
        }
      ],
      "source": [
        "my_list.reverse()\n",
        "my_list"
      ]
    },
    {
      "cell_type": "code",
      "execution_count": null,
      "metadata": {
        "colab": {
          "base_uri": "https://localhost:8080/"
        },
        "id": "b55Tf4pwD62o",
        "outputId": "e5e3365b-fd52-4787-dbef-09841c18c60f"
      },
      "outputs": [
        {
          "data": {
            "text/plain": [
              "['a', 'd', 'f', 't', 'w', 'z']"
            ]
          },
          "execution_count": 102,
          "metadata": {
            "tags": []
          },
          "output_type": "execute_result"
        }
      ],
      "source": [
        "new_list = ['a','f','d','w','z','t']\n",
        "new_list.sort()\n",
        "new_list"
      ]
    },
    {
      "cell_type": "code",
      "execution_count": null,
      "metadata": {
        "colab": {
          "base_uri": "https://localhost:8080/"
        },
        "id": "tcSilCuQEPQn",
        "outputId": "1888cb9e-91d4-49aa-cb35-48ecebe97663"
      },
      "outputs": [
        {
          "data": {
            "text/plain": [
              "['z', 'w', 't', 'f', 'd', 'a']"
            ]
          },
          "execution_count": 103,
          "metadata": {
            "tags": []
          },
          "output_type": "execute_result"
        }
      ],
      "source": [
        "new_list = ['a','f','d','w','z','t']\n",
        "new_list.sort(reverse=True)\n",
        "new_list"
      ]
    },
    {
      "cell_type": "code",
      "execution_count": null,
      "metadata": {
        "colab": {
          "base_uri": "https://localhost:8080/"
        },
        "id": "ELRpB1rZEUUs",
        "outputId": "97618cec-4754-415f-db25-47a75fbb08cc"
      },
      "outputs": [
        {
          "data": {
            "text/plain": [
              "['a', 'f', 'd', 'w', 'z', 't']"
            ]
          },
          "execution_count": 104,
          "metadata": {
            "tags": []
          },
          "output_type": "execute_result"
        }
      ],
      "source": [
        "new_list = ['a','f','d','w','z','t']\n",
        "sorted(new_list)\n",
        "new_list"
      ]
    },
    {
      "cell_type": "code",
      "execution_count": null,
      "metadata": {
        "colab": {
          "base_uri": "https://localhost:8080/"
        },
        "id": "2B4x0aJcEaGj",
        "outputId": "251a638e-d8d2-48d6-c6c4-1bf4dd3e0eb6"
      },
      "outputs": [
        {
          "data": {
            "text/plain": [
              "['a', 'f', 'd', 'w', 'z', 't']"
            ]
          },
          "execution_count": 105,
          "metadata": {
            "tags": []
          },
          "output_type": "execute_result"
        }
      ],
      "source": [
        "new_list = ['a','f','d','w','z','t']\n",
        "sorted(new_list,reverse=True)\n",
        "new_list"
      ]
    },
    {
      "cell_type": "code",
      "execution_count": null,
      "metadata": {
        "colab": {
          "base_uri": "https://localhost:8080/"
        },
        "id": "eYawwKcB3RY5",
        "outputId": "2d319e95-9c27-4b07-de6c-744c9a30c318"
      },
      "outputs": [
        {
          "name": "stdout",
          "output_type": "stream",
          "text": [
            "Enter Group of Numbers: 122 12 33 12\n",
            "The list : ['122', '12', '33', '12']\n",
            "Max in list : 33\n",
            "Min in list : 12\n",
            "The list without Max and Min : ['122', '12']\n",
            "['122', '12']\n"
          ]
        }
      ],
      "source": [
        "num = input('Enter Group of Numbers: ')\n",
        "list__ = list(num.split())\n",
        "print('The list :',list__)\n",
        "print('Max in list :',max(list__))\n",
        "print('Min in list :',min(list__))\n",
        "list__.remove(min(list__)),list__.remove(max(list__))\n",
        "print('The list without Max and Min :',list__)\n",
        "print(list__)"
      ]
    },
    {
      "cell_type": "markdown",
      "metadata": {
        "id": "23Yi0XlxFMZ9"
      },
      "source": [
        "### 2.2.2.Tuples"
      ]
    },
    {
      "cell_type": "code",
      "execution_count": null,
      "metadata": {
        "colab": {
          "base_uri": "https://localhost:8080/"
        },
        "id": "dQqcCAeHFT1k",
        "outputId": "044bc64a-48bb-4245-a0f4-2ccef7166ab4"
      },
      "outputs": [
        {
          "data": {
            "text/plain": [
              "(1, 2, 3)"
            ]
          },
          "execution_count": 108,
          "metadata": {
            "tags": []
          },
          "output_type": "execute_result"
        }
      ],
      "source": [
        "t = (1, 2, 3)\n",
        "t"
      ]
    },
    {
      "cell_type": "code",
      "execution_count": null,
      "metadata": {
        "colab": {
          "base_uri": "https://localhost:8080/"
        },
        "id": "gJR_5BWpFhHe",
        "outputId": "78c991fc-c40a-48e5-8fc7-aaac343e9bb2"
      },
      "outputs": [
        {
          "data": {
            "text/plain": [
              "tuple"
            ]
          },
          "execution_count": 109,
          "metadata": {
            "tags": []
          },
          "output_type": "execute_result"
        }
      ],
      "source": [
        "type(t) "
      ]
    },
    {
      "cell_type": "code",
      "execution_count": null,
      "metadata": {
        "colab": {
          "base_uri": "https://localhost:8080/"
        },
        "id": "ZHHf0tsOFj2o",
        "outputId": "71438f15-7517-4f9d-f979-3ac7150bd394"
      },
      "outputs": [
        {
          "data": {
            "text/plain": [
              "1"
            ]
          },
          "execution_count": 110,
          "metadata": {
            "tags": []
          },
          "output_type": "execute_result"
        }
      ],
      "source": [
        "t[0]"
      ]
    },
    {
      "cell_type": "code",
      "execution_count": null,
      "metadata": {
        "colab": {
          "base_uri": "https://localhost:8080/"
        },
        "id": "HqmXt6imFmZT",
        "outputId": "5525f9e5-99f8-41ac-b4f0-4ef88df8a3b8"
      },
      "outputs": [
        {
          "data": {
            "text/plain": [
              "(1, 2)"
            ]
          },
          "execution_count": 111,
          "metadata": {
            "tags": []
          },
          "output_type": "execute_result"
        }
      ],
      "source": [
        "t[0:2]"
      ]
    },
    {
      "cell_type": "code",
      "execution_count": null,
      "metadata": {
        "colab": {
          "base_uri": "https://localhost:8080/"
        },
        "id": "B1hbO9HLFo0p",
        "outputId": "dc794a08-0534-492e-ccd3-efbf251fca18"
      },
      "outputs": [
        {
          "data": {
            "text/plain": [
              "1"
            ]
          },
          "execution_count": 112,
          "metadata": {
            "tags": []
          },
          "output_type": "execute_result"
        }
      ],
      "source": [
        "t.index(2)"
      ]
    },
    {
      "cell_type": "code",
      "execution_count": null,
      "metadata": {
        "colab": {
          "base_uri": "https://localhost:8080/"
        },
        "id": "T9oJbwX4FzOT",
        "outputId": "848448bf-2f86-4f3d-d6e2-a76a437d6e29"
      },
      "outputs": [
        {
          "data": {
            "text/plain": [
              "14"
            ]
          },
          "execution_count": 113,
          "metadata": {
            "tags": []
          },
          "output_type": "execute_result"
        }
      ],
      "source": [
        "tup = (10,34,45,34,34,34,45,45,45,10,10,34,45,10)\n",
        "len(tup)"
      ]
    },
    {
      "cell_type": "code",
      "execution_count": null,
      "metadata": {
        "colab": {
          "base_uri": "https://localhost:8080/"
        },
        "id": "cTHBMp6ZF8C0",
        "outputId": "729b55b7-b51f-4665-ad64-9a98511702f9"
      },
      "outputs": [
        {
          "data": {
            "text/plain": [
              "4"
            ]
          },
          "execution_count": 114,
          "metadata": {
            "tags": []
          },
          "output_type": "execute_result"
        }
      ],
      "source": [
        "tup.count(10)"
      ]
    },
    {
      "cell_type": "code",
      "execution_count": null,
      "metadata": {
        "colab": {
          "base_uri": "https://localhost:8080/"
        },
        "id": "SqnP8-lsF_k0",
        "outputId": "56243dd4-309a-46ee-fe6c-b0c971e9d075"
      },
      "outputs": [
        {
          "data": {
            "text/plain": [
              "5"
            ]
          },
          "execution_count": 115,
          "metadata": {
            "tags": []
          },
          "output_type": "execute_result"
        }
      ],
      "source": [
        "tup.count(45)"
      ]
    },
    {
      "cell_type": "code",
      "execution_count": null,
      "metadata": {
        "colab": {
          "base_uri": "https://localhost:8080/"
        },
        "id": "3lDPRBpUGJby",
        "outputId": "58837719-9061-4cb6-ce55-262f5ddd4a2b"
      },
      "outputs": [
        {
          "data": {
            "text/plain": [
              "[10, 10, 10, 10, 34, 34, 34, 34, 34, 45, 45, 45, 45, 45]"
            ]
          },
          "execution_count": 116,
          "metadata": {
            "tags": []
          },
          "output_type": "execute_result"
        }
      ],
      "source": [
        "sorted(tup)"
      ]
    },
    {
      "cell_type": "markdown",
      "metadata": {
        "id": "dboKSM-AGT5i"
      },
      "source": [
        "### 2.2.3.Sets "
      ]
    },
    {
      "cell_type": "code",
      "execution_count": null,
      "metadata": {
        "colab": {
          "base_uri": "https://localhost:8080/"
        },
        "id": "_9hZIqa_GZMB",
        "outputId": "9fae5638-564c-4e15-d509-3d2d7260c588"
      },
      "outputs": [
        {
          "data": {
            "text/plain": [
              "{2, 4, 12, 33, 55}"
            ]
          },
          "execution_count": 117,
          "metadata": {
            "tags": []
          },
          "output_type": "execute_result"
        }
      ],
      "source": [
        "set__  = {12,33,4,55,2}\n",
        "set__"
      ]
    },
    {
      "cell_type": "code",
      "execution_count": null,
      "metadata": {
        "colab": {
          "base_uri": "https://localhost:8080/"
        },
        "id": "DXuSflBYGrJl",
        "outputId": "6308d2f6-d95f-4874-9c7e-49b9f9fe17c4"
      },
      "outputs": [
        {
          "data": {
            "text/plain": [
              "{1, 2, 3, 4, 5, 6}"
            ]
          },
          "execution_count": 118,
          "metadata": {
            "tags": []
          },
          "output_type": "execute_result"
        }
      ],
      "source": [
        "list1 = [1,1,2,2,3,4,5,6,1,1]\n",
        "set_2 = set(list1)\n",
        "set_2"
      ]
    },
    {
      "cell_type": "code",
      "execution_count": null,
      "metadata": {
        "colab": {
          "base_uri": "https://localhost:8080/"
        },
        "id": "TpTAYGxZGwi6",
        "outputId": "7e7a3a32-33a7-4565-e31b-7c0c1fa8ef26"
      },
      "outputs": [
        {
          "data": {
            "text/plain": [
              "{1, 2, 3, 4, 10}"
            ]
          },
          "execution_count": 119,
          "metadata": {
            "tags": []
          },
          "output_type": "execute_result"
        }
      ],
      "source": [
        "x = set()\n",
        "x.add(1)\n",
        "x.add(3)\n",
        "x.add(2)\n",
        "x.add(1)\n",
        "x.add(1)\n",
        "x.add(1)\n",
        "x.add(2)\n",
        "x.add(3)\n",
        "x.add(4)\n",
        "x.add(10)\n",
        "x"
      ]
    },
    {
      "cell_type": "code",
      "execution_count": null,
      "metadata": {
        "colab": {
          "base_uri": "https://localhost:8080/"
        },
        "id": "VReb9VQdG-11",
        "outputId": "c0a96777-e354-448c-8c39-746b39694d83"
      },
      "outputs": [
        {
          "data": {
            "text/plain": [
              "{1, 2, 4, 10}"
            ]
          },
          "execution_count": 120,
          "metadata": {
            "tags": []
          },
          "output_type": "execute_result"
        }
      ],
      "source": [
        "x.discard(3)\n",
        "x"
      ]
    },
    {
      "cell_type": "code",
      "execution_count": null,
      "metadata": {
        "colab": {
          "base_uri": "https://localhost:8080/"
        },
        "id": "QeGJZX7MGZr5",
        "outputId": "520774f6-ef3b-4b68-9006-881518f37ede"
      },
      "outputs": [
        {
          "data": {
            "text/plain": [
              "{1, 4, 10}"
            ]
          },
          "execution_count": 121,
          "metadata": {
            "tags": []
          },
          "output_type": "execute_result"
        }
      ],
      "source": [
        "x.discard(2)\n",
        "x"
      ]
    },
    {
      "cell_type": "code",
      "execution_count": null,
      "metadata": {
        "id": "lJe_QFYpHP2V"
      },
      "outputs": [],
      "source": [
        "x = {2, 3, 4}\n",
        "y = {3, 5, 2, 7}"
      ]
    },
    {
      "cell_type": "code",
      "execution_count": null,
      "metadata": {
        "colab": {
          "base_uri": "https://localhost:8080/"
        },
        "id": "9gryswuKHQd6",
        "outputId": "3752d0f9-e5b7-4dd2-8143-c28413c73fb3"
      },
      "outputs": [
        {
          "data": {
            "text/plain": [
              "{2, 3, 4, 5, 7}"
            ]
          },
          "execution_count": 123,
          "metadata": {
            "tags": []
          },
          "output_type": "execute_result"
        }
      ],
      "source": [
        "x.union(y)"
      ]
    },
    {
      "cell_type": "code",
      "execution_count": null,
      "metadata": {
        "colab": {
          "base_uri": "https://localhost:8080/"
        },
        "id": "6qVRo_0bHW2Q",
        "outputId": "715abd74-1818-44e1-8a55-c6438fc80c21"
      },
      "outputs": [
        {
          "data": {
            "text/plain": [
              "{2, 3}"
            ]
          },
          "execution_count": 124,
          "metadata": {
            "tags": []
          },
          "output_type": "execute_result"
        }
      ],
      "source": [
        "x.intersection(y)"
      ]
    },
    {
      "cell_type": "code",
      "execution_count": null,
      "metadata": {
        "colab": {
          "base_uri": "https://localhost:8080/"
        },
        "id": "nOz45HauHaCJ",
        "outputId": "c8f3734e-35b0-4520-a222-0f2a5b448675"
      },
      "outputs": [
        {
          "data": {
            "text/plain": [
              "{4}"
            ]
          },
          "execution_count": 125,
          "metadata": {
            "tags": []
          },
          "output_type": "execute_result"
        }
      ],
      "source": [
        "x.difference(y)"
      ]
    },
    {
      "cell_type": "code",
      "execution_count": null,
      "metadata": {
        "colab": {
          "base_uri": "https://localhost:8080/"
        },
        "id": "jrIFgJ8MHe1T",
        "outputId": "d72a9d51-ec3b-4acd-ff04-bbd495c99d1e"
      },
      "outputs": [
        {
          "data": {
            "text/plain": [
              "{5, 7}"
            ]
          },
          "execution_count": 126,
          "metadata": {
            "tags": []
          },
          "output_type": "execute_result"
        }
      ],
      "source": [
        "y.difference(x)"
      ]
    },
    {
      "cell_type": "markdown",
      "metadata": {
        "id": "Tfc-psbEIMnj"
      },
      "source": [
        "### 2.2.4.Dictionaries"
      ]
    },
    {
      "cell_type": "code",
      "execution_count": null,
      "metadata": {
        "colab": {
          "base_uri": "https://localhost:8080/"
        },
        "id": "8XtJzJBFIbzs",
        "outputId": "686f89ab-4753-4597-8ae3-4f5eceb17060"
      },
      "outputs": [
        {
          "data": {
            "text/plain": [
              "{'FR': 12, 'SC': 132, 'TH': 44}"
            ]
          },
          "execution_count": 127,
          "metadata": {
            "tags": []
          },
          "output_type": "execute_result"
        }
      ],
      "source": [
        "dic = {'FR':12 , 'SC':132 , 'TH':44}\n",
        "dic"
      ]
    },
    {
      "cell_type": "code",
      "execution_count": null,
      "metadata": {
        "colab": {
          "base_uri": "https://localhost:8080/"
        },
        "id": "RBgL7hBcIoMr",
        "outputId": "10c341fd-ba07-4081-f3b7-c1ac286e4add"
      },
      "outputs": [
        {
          "data": {
            "text/plain": [
              "12"
            ]
          },
          "execution_count": 128,
          "metadata": {
            "tags": []
          },
          "output_type": "execute_result"
        }
      ],
      "source": [
        "dic['FR']"
      ]
    },
    {
      "cell_type": "code",
      "execution_count": null,
      "metadata": {
        "colab": {
          "base_uri": "https://localhost:8080/"
        },
        "id": "tlsgK5jhIyk9",
        "outputId": "c604129d-4c40-4985-e32f-5f5ab5358c48"
      },
      "outputs": [
        {
          "data": {
            "text/plain": [
              "44"
            ]
          },
          "execution_count": 129,
          "metadata": {
            "tags": []
          },
          "output_type": "execute_result"
        }
      ],
      "source": [
        "dic['TH']"
      ]
    },
    {
      "cell_type": "code",
      "execution_count": null,
      "metadata": {
        "colab": {
          "base_uri": "https://localhost:8080/"
        },
        "id": "2xCHPYW_JJS9",
        "outputId": "90dbd328-9de2-4882-9d9a-daf57d41d049"
      },
      "outputs": [
        {
          "data": {
            "text/plain": [
              "{'FO': 67, 'FR': 12, 'SC': 132, 'TH': 44}"
            ]
          },
          "execution_count": 130,
          "metadata": {
            "tags": []
          },
          "output_type": "execute_result"
        }
      ],
      "source": [
        "dic['FO'] = 67\n",
        "dic"
      ]
    },
    {
      "cell_type": "code",
      "execution_count": null,
      "metadata": {
        "id": "kWv3OUJxJd9P"
      },
      "outputs": [],
      "source": [
        "DOG = {}"
      ]
    },
    {
      "cell_type": "code",
      "execution_count": null,
      "metadata": {
        "id": "qh6AEvQTJ7XN"
      },
      "outputs": [],
      "source": [
        "DOG['animal'] = 'Dog'"
      ]
    },
    {
      "cell_type": "code",
      "execution_count": null,
      "metadata": {
        "colab": {
          "base_uri": "https://localhost:8080/"
        },
        "id": "JlmnnJLwKCkF",
        "outputId": "36c36c8b-628d-48f1-8a0e-0fc07014d914"
      },
      "outputs": [
        {
          "data": {
            "text/plain": [
              "{'animal': 'Dog', 'answer': 42}"
            ]
          },
          "execution_count": 133,
          "metadata": {
            "tags": []
          },
          "output_type": "execute_result"
        }
      ],
      "source": [
        "DOG['answer'] = 42\n",
        "DOG"
      ]
    },
    {
      "cell_type": "code",
      "execution_count": null,
      "metadata": {
        "colab": {
          "base_uri": "https://localhost:8080/"
        },
        "id": "uY8oSJQxLi31",
        "outputId": "78d31507-8f85-4d1d-b2c8-1242e0c9548f"
      },
      "outputs": [
        {
          "data": {
            "text/plain": [
              "{'animal': 'Dog', 'answer': 22}"
            ]
          },
          "execution_count": 134,
          "metadata": {
            "tags": []
          },
          "output_type": "execute_result"
        }
      ],
      "source": [
        "DOG['answer'] = 22\n",
        "DOG"
      ]
    },
    {
      "cell_type": "code",
      "execution_count": null,
      "metadata": {
        "colab": {
          "base_uri": "https://localhost:8080/"
        },
        "id": "eSnvbC3OLirA",
        "outputId": "7923167c-930e-4ff1-98a9-0141921179de"
      },
      "outputs": [
        {
          "data": {
            "text/plain": [
              "{'New answer': 'asss', 'animal': 'Dog', 'answer': 22}"
            ]
          },
          "execution_count": 135,
          "metadata": {
            "tags": []
          },
          "output_type": "execute_result"
        }
      ],
      "source": [
        "DOG['New answer'] = 'asss'\n",
        "DOG"
      ]
    },
    {
      "cell_type": "code",
      "execution_count": null,
      "metadata": {
        "colab": {
          "base_uri": "https://localhost:8080/"
        },
        "id": "BIZJmmkkL8mb",
        "outputId": "a0329fdf-cb40-4fcc-c767-f41f1a2aeef1"
      },
      "outputs": [
        {
          "data": {
            "text/plain": [
              "{'animal': 'Dog', 'answer': 22}"
            ]
          },
          "execution_count": 136,
          "metadata": {
            "tags": []
          },
          "output_type": "execute_result"
        }
      ],
      "source": [
        "del DOG['New answer']\n",
        "DOG"
      ]
    },
    {
      "cell_type": "code",
      "execution_count": null,
      "metadata": {
        "colab": {
          "base_uri": "https://localhost:8080/"
        },
        "id": "Anuo77EeMKQw",
        "outputId": "69572af2-7637-4682-c341-f1f3bf9b5c50"
      },
      "outputs": [
        {
          "data": {
            "text/plain": [
              "{'nestkey': {'subnestkey': 'value'}}"
            ]
          },
          "execution_count": 137,
          "metadata": {
            "tags": []
          },
          "output_type": "execute_result"
        }
      ],
      "source": [
        "d = {'key1':{'nestkey':{'subnestkey':'value'}}}\n",
        "d['key1']"
      ]
    },
    {
      "cell_type": "code",
      "execution_count": null,
      "metadata": {
        "colab": {
          "base_uri": "https://localhost:8080/"
        },
        "id": "X1sn-iQ7MVhI",
        "outputId": "167dce96-525b-4581-fbd8-63479fcc48eb"
      },
      "outputs": [
        {
          "data": {
            "text/plain": [
              "{'subnestkey': 'value'}"
            ]
          },
          "execution_count": 138,
          "metadata": {
            "tags": []
          },
          "output_type": "execute_result"
        }
      ],
      "source": [
        "d['key1']['nestkey']"
      ]
    },
    {
      "cell_type": "code",
      "execution_count": null,
      "metadata": {
        "colab": {
          "base_uri": "https://localhost:8080/"
        },
        "id": "Hu3DHoOLMYMf",
        "outputId": "b2a99946-d98a-4cca-ca91-6e68449c11a4"
      },
      "outputs": [
        {
          "data": {
            "application/vnd.google.colaboratory.intrinsic+json": {
              "type": "string"
            },
            "text/plain": [
              "'value'"
            ]
          },
          "execution_count": 139,
          "metadata": {
            "tags": []
          },
          "output_type": "execute_result"
        }
      ],
      "source": [
        "d['key1']['nestkey']['subnestkey']\n"
      ]
    },
    {
      "cell_type": "code",
      "execution_count": null,
      "metadata": {
        "colab": {
          "base_uri": "https://localhost:8080/"
        },
        "id": "jlTzV2JkMdES",
        "outputId": "50c21e85-699c-496d-d490-9d34ed6c1d60"
      },
      "outputs": [
        {
          "data": {
            "text/plain": [
              "{'FR': 12, 'SC': 132, 'TH': 44}"
            ]
          },
          "execution_count": 140,
          "metadata": {
            "tags": []
          },
          "output_type": "execute_result"
        }
      ],
      "source": [
        "dic = {'FR':12 , 'SC':132 , 'TH':44}\n",
        "dic"
      ]
    },
    {
      "cell_type": "code",
      "execution_count": null,
      "metadata": {
        "colab": {
          "base_uri": "https://localhost:8080/"
        },
        "id": "oplO1aUcOvGY",
        "outputId": "38309df3-f465-4ce4-bbc9-a7bc138824cf"
      },
      "outputs": [
        {
          "data": {
            "text/plain": [
              "12"
            ]
          },
          "execution_count": 141,
          "metadata": {
            "tags": []
          },
          "output_type": "execute_result"
        }
      ],
      "source": [
        "dic.get('FR')"
      ]
    },
    {
      "cell_type": "code",
      "execution_count": null,
      "metadata": {
        "colab": {
          "base_uri": "https://localhost:8080/"
        },
        "id": "xppy_zm4O96j",
        "outputId": "564fbb30-5c32-4d88-e368-a5a1a2e3ec92"
      },
      "outputs": [
        {
          "data": {
            "application/vnd.google.colaboratory.intrinsic+json": {
              "type": "string"
            },
            "text/plain": [
              "'NOT FOUND'"
            ]
          },
          "execution_count": 142,
          "metadata": {
            "tags": []
          },
          "output_type": "execute_result"
        }
      ],
      "source": [
        "dic.get('SI','NOT FOUND')"
      ]
    },
    {
      "cell_type": "code",
      "execution_count": null,
      "metadata": {
        "colab": {
          "base_uri": "https://localhost:8080/"
        },
        "id": "-ePFGJkyPDPs",
        "outputId": "a3376add-d1c8-401c-b193-e3774600e614"
      },
      "outputs": [
        {
          "data": {
            "text/plain": [
              "dict_items([('FR', 12), ('SC', 132), ('TH', 44)])"
            ]
          },
          "execution_count": 143,
          "metadata": {
            "tags": []
          },
          "output_type": "execute_result"
        }
      ],
      "source": [
        "dic.items()"
      ]
    },
    {
      "cell_type": "code",
      "execution_count": null,
      "metadata": {
        "colab": {
          "base_uri": "https://localhost:8080/"
        },
        "id": "Zy_IOIdLPHcC",
        "outputId": "0e497505-0576-4cdc-cbb5-70ec20ae2349"
      },
      "outputs": [
        {
          "data": {
            "text/plain": [
              "dict_values([12, 132, 44])"
            ]
          },
          "execution_count": 144,
          "metadata": {
            "tags": []
          },
          "output_type": "execute_result"
        }
      ],
      "source": [
        "dic.values()"
      ]
    },
    {
      "cell_type": "code",
      "execution_count": null,
      "metadata": {
        "colab": {
          "base_uri": "https://localhost:8080/"
        },
        "id": "BcOzSXqAPYV1",
        "outputId": "11512f73-d09c-4455-ca7a-4742c7aa08f7"
      },
      "outputs": [
        {
          "data": {
            "text/plain": [
              "dict_keys(['FR', 'SC', 'TH'])"
            ]
          },
          "execution_count": 145,
          "metadata": {
            "tags": []
          },
          "output_type": "execute_result"
        }
      ],
      "source": [
        "dic.keys()"
      ]
    },
    {
      "cell_type": "code",
      "execution_count": null,
      "metadata": {
        "colab": {
          "base_uri": "https://localhost:8080/"
        },
        "id": "2BN5JVEmPb2b",
        "outputId": "568cdc8e-c725-4287-e336-f477206966aa"
      },
      "outputs": [
        {
          "data": {
            "text/plain": [
              "['FR', 'SC', 'TH']"
            ]
          },
          "execution_count": 146,
          "metadata": {
            "tags": []
          },
          "output_type": "execute_result"
        }
      ],
      "source": [
        "list(dic.keys())"
      ]
    },
    {
      "cell_type": "code",
      "execution_count": null,
      "metadata": {
        "colab": {
          "base_uri": "https://localhost:8080/"
        },
        "id": "SJ7tF49HPe4L",
        "outputId": "b317195d-1174-4db7-8571-d7e43d2f1788"
      },
      "outputs": [
        {
          "data": {
            "text/plain": [
              "[12, 132, 44]"
            ]
          },
          "execution_count": 147,
          "metadata": {
            "tags": []
          },
          "output_type": "execute_result"
        }
      ],
      "source": [
        "list(dic.values())"
      ]
    },
    {
      "cell_type": "code",
      "execution_count": null,
      "metadata": {
        "colab": {
          "base_uri": "https://localhost:8080/"
        },
        "id": "HzV_X0FrPkUt",
        "outputId": "e640367b-2b1d-447f-ec10-f83c7345ad15"
      },
      "outputs": [
        {
          "data": {
            "text/plain": [
              "[('FR', 12), ('SC', 132), ('TH', 44)]"
            ]
          },
          "execution_count": 148,
          "metadata": {
            "tags": []
          },
          "output_type": "execute_result"
        }
      ],
      "source": [
        "list(dic.items())"
      ]
    },
    {
      "cell_type": "code",
      "execution_count": null,
      "metadata": {
        "id": "2A5zk5uxP1_S"
      },
      "outputs": [],
      "source": []
    }
  ],
  "metadata": {
    "colab": {
      "toc_visible": true,
      "provenance": []
    },
    "kernelspec": {
      "display_name": "Python 3",
      "name": "python3"
    },
    "language_info": {
      "name": "python"
    }
  },
  "nbformat": 4,
  "nbformat_minor": 0
}