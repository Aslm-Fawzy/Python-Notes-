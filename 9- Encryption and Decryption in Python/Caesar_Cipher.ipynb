{
  "nbformat": 4,
  "nbformat_minor": 0,
  "metadata": {
    "colab": {
      "name": "Caesar Cipher Project",
      "provenance": [],
      "collapsed_sections": [],
      "toc_visible": true
    },
    "kernelspec": {
      "name": "python3",
      "display_name": "Python 3"
    }
  },
  "cells": [
    {
      "cell_type": "markdown",
      "source": [
        "# **Algorithm of Caesar Cipher**\n",
        "> In cryptography, a Caesar cipher, also known as Caesar's cipher, the shift cipher, Caesar's code or Caesar shift, is one of the simplest and most widely known encryption techniques.\n",
        "\n",
        ">**The algorithm of Caesar cipher holds the following features :**\n",
        "1. Caesar Cipher Technique is the simple and easy method of encryption technique. \n",
        "2. It is simple type of substitution cipher.\n",
        "3. Each letter of plain text is replaced by a letter with some fixed number of positions down with alphabet.\n",
        "![image.png](data:image/png;base64,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)"
      ],
      "metadata": {
        "id": "4pwX-jUO37ZO"
      }
    },
    {
      "cell_type": "markdown",
      "metadata": {
        "id": "gQagZbkbcx4S"
      },
      "source": [
        "##  Encryption in Caesar Cipher\n",
        ">The action of a Caesar cipher is to replace each plaintext letter with a different one a fixed number of places down the alphabet. \n",
        "\n"
      ]
    },
    {
      "cell_type": "code",
      "metadata": {
        "id": "zgeIB643a5Pl",
        "colab": {
          "base_uri": "https://localhost:8080/"
        },
        "outputId": "867add66-30af-444c-ebf5-cec9533e25fd"
      },
      "source": [
        "# Encrypt Entered Plain Text using Entered Key\n",
        "def ecryption () :\n",
        "  result = ''\n",
        "  text = input('enter your text : ')\n",
        "  key = int (input('enter your key = '))\n",
        "  if key <0 :\n",
        "    key = key + 26\n",
        "  elif key > 26 :  \n",
        "    key = key - 26\n",
        "  for i in range(len(text)) :\n",
        "    char = text [i]\n",
        "    if (char.isupper ()):\n",
        "       result += chr((ord(char)+key-65) % 26+65)\n",
        "    else :\n",
        "       result += chr((ord(char)+key-97) % 26+97)\n",
        "  print('Entered text is :',text)\n",
        "  print('Entered key = ', key)\n",
        "  print('Ecryption of element: ',result)\n",
        "\n",
        "ecryption()"
      ],
      "execution_count": null,
      "outputs": [
        {
          "output_type": "stream",
          "name": "stdout",
          "text": [
            "enter your text : mohammed\n",
            "enter your key = 3\n",
            "Entered text is : mohammed\n",
            "Entered key =  3\n",
            "Ecryption of element:  prkdpphg\n"
          ]
        }
      ]
    },
    {
      "cell_type": "markdown",
      "metadata": {
        "id": "banBAVwnpHut"
      },
      "source": [
        "## Decryption Without any Key in Caesar Cipher \n",
        "> Caesar code decryption replaces a letter another with an inverse alphabet shift: a previous letter in the alphabet\n"
      ]
    },
    {
      "cell_type": "code",
      "metadata": {
        "id": "9l2Fw0v-o6du",
        "colab": {
          "base_uri": "https://localhost:8080/"
        },
        "outputId": "35ff926c-5cd8-40fe-8bb3-92baef84a33e"
      },
      "source": [
        "# Decrypt Entered encypted text retuen 26 probability of the plain text\n",
        "def decryp_without_key():\n",
        "  text = input(' Enter your text : ')\n",
        "  LETTERS = 'ABCDEFGHIJKLMNOPQRSTUVWXYZ'\n",
        "  letters = 'abcdefghijklmnopqrstubwxyz'\n",
        "  if text.isupper():\n",
        "    for key in range(len(LETTERS)):\n",
        "        translated = ''\n",
        "        for char in text:\n",
        "          if char in LETTERS:\n",
        "             num = LETTERS.find(char)\n",
        "             num = num - key\n",
        "             if num < 0:\n",
        "                num = num + len(LETTERS)\n",
        "             translated = translated + LETTERS[num]\n",
        "          else:\n",
        "             translated = translated + char\n",
        "        print(f'if key #{key} : {translated}' )\n",
        "  else :      \n",
        "     for key in range(len(letters)):\n",
        "        translated = ''\n",
        "        for char in text :\n",
        "          if char in letters:\n",
        "             num = letters.find(char)\n",
        "             num = num - key\n",
        "             if num < 0:\n",
        "                  num = num + len(letters)\n",
        "             translated = translated + letters[num]\n",
        "          else:\n",
        "             translated = translated + char   \n",
        "        print(f'if key #{key} : {translated}' )\n",
        "                \n",
        "decryp_without_key()           "
      ],
      "execution_count": null,
      "outputs": [
        {
          "output_type": "stream",
          "name": "stdout",
          "text": [
            " Enter your text : prkdpphg\n",
            "if key #0 : prkdpphg\n",
            "if key #1 : oqjcoogf\n",
            "if key #2 : npibnnfe\n",
            "if key #3 : mohammed\n",
            "if key #4 : lngzlldc\n",
            "if key #5 : kmfykkcb\n",
            "if key #6 : jlexjjba\n",
            "if key #7 : ikdwiiaz\n",
            "if key #8 : hjcbhhzy\n",
            "if key #9 : gibuggyx\n",
            "if key #10 : fhatffxw\n",
            "if key #11 : egzseewb\n",
            "if key #12 : dfyrddbu\n",
            "if key #13 : cexqccut\n",
            "if key #14 : bdwpbbts\n",
            "if key #15 : acboaasr\n",
            "if key #16 : zbunzzrq\n",
            "if key #17 : yatmyyqp\n",
            "if key #18 : xzslxxpo\n",
            "if key #19 : wyrkwwon\n",
            "if key #20 : bxqjbbnm\n",
            "if key #21 : uwpiuuml\n",
            "if key #22 : tbohttlk\n",
            "if key #23 : sungsskj\n",
            "if key #24 : rtmfrrji\n",
            "if key #25 : qsleqqih\n"
          ]
        }
      ]
    },
    {
      "cell_type": "code",
      "source": [
        ""
      ],
      "metadata": {
        "id": "HsonI5xL7OIs"
      },
      "execution_count": null,
      "outputs": []
    }
  ]
}