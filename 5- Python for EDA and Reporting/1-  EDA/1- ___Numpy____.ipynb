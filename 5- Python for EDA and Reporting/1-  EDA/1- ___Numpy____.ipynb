{
  "nbformat": 4,
  "nbformat_minor": 0,
  "metadata": {
    "colab": {
      "name": "IEEE___Numpy___ .ipynb",
      "provenance": [],
      "collapsed_sections": [
        "Q2nCQW4Ye4Ex",
        "QcQpfqMbe4F2",
        "edl3nolre4Gv",
        "46Vqgn5Ne4Ir",
        "alY4NosSe4JX",
        "IeXReXU-e4LG"
      ],
      "toc_visible": true
    },
    "kernelspec": {
      "display_name": "Python 3",
      "language": "python",
      "name": "python3"
    },
    "language_info": {
      "codemirror_mode": {
        "name": "ipython",
        "version": 3
      },
      "file_extension": ".py",
      "mimetype": "text/x-python",
      "name": "python",
      "nbconvert_exporter": "python",
      "pygments_lexer": "ipython3",
      "version": "3.8.3"
    }
  },
  "cells": [
    {
      "cell_type": "markdown",
      "metadata": {
        "id": "iWiNM3mye3-j"
      },
      "source": [
        "#  **Numpy**\n",
        ">NumPy is a Python package. It stands for 'Numerical Python'. It is a library consisting of \n",
        "multidimensional array objects and a collection of routines for processing of array. \n",
        "Numeric, the ancestor of NumPy, was developed by Jim Hugunin. Another package \n",
        "Numarray was also developed, having some additional functionalities. In 2005, Travis \n",
        "Oliphant created NumPy package by incorporating the features of Numarray into Numeric \n",
        "package.\n",
        "\n",
        ">![image.png](data:image/png;base64,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)"
      ]
    },
    {
      "cell_type": "markdown",
      "source": [
        " > **For Further Reading and Explination in NumPy :** \n",
        "https://numpy.org/doc/stable/"
      ],
      "metadata": {
        "id": "a7Xj18O3EOrY"
      }
    },
    {
      "cell_type": "code",
      "source": [
        "pip install numpy"
      ],
      "metadata": {
        "colab": {
          "base_uri": "https://localhost:8080/"
        },
        "id": "0uvfYkWLLWA5",
        "outputId": "0c9399e4-4c24-4c96-efd0-bc5307a1e905"
      },
      "execution_count": null,
      "outputs": [
        {
          "output_type": "stream",
          "name": "stdout",
          "text": [
            "Requirement already satisfied: numpy in /usr/local/lib/python3.7/dist-packages (1.19.5)\n"
          ]
        }
      ]
    },
    {
      "cell_type": "code",
      "metadata": {
        "colab": {
          "base_uri": "https://localhost:8080/"
        },
        "id": "2VkQzP_Bc2Un",
        "outputId": "e7813f78-5fd9-4c9d-bc8c-4b3eba0c87e9"
      },
      "source": [
        "pip install numpy==1.19.5"
      ],
      "execution_count": null,
      "outputs": [
        {
          "output_type": "stream",
          "name": "stdout",
          "text": [
            "Requirement already satisfied: numpy==1.19.5 in /usr/local/lib/python3.7/dist-packages (1.19.5)\n"
          ]
        }
      ]
    },
    {
      "cell_type": "code",
      "metadata": {
        "id": "Ft4Kilt0e3_y"
      },
      "source": [
        "import numpy as np"
      ],
      "execution_count": null,
      "outputs": []
    },
    {
      "cell_type": "code",
      "metadata": {
        "colab": {
          "base_uri": "https://localhost:8080/",
          "height": 35
        },
        "id": "XiIAwWnNL2pr",
        "outputId": "e7cf1785-f2d6-44b9-c9a6-166755e3dc71"
      },
      "source": [
        "np.__version__"
      ],
      "execution_count": null,
      "outputs": [
        {
          "output_type": "execute_result",
          "data": {
            "application/vnd.google.colaboratory.intrinsic+json": {
              "type": "string"
            },
            "text/plain": [
              "'1.19.5'"
            ]
          },
          "metadata": {},
          "execution_count": 429
        }
      ]
    },
    {
      "cell_type": "markdown",
      "metadata": {
        "id": "0Ic6Lj87e3_5"
      },
      "source": [
        "# Create Array and Random Array"
      ]
    },
    {
      "cell_type": "code",
      "metadata": {
        "colab": {
          "base_uri": "https://localhost:8080/"
        },
        "id": "GSWZW3Pse3_8",
        "outputId": "1e2e1f2d-8063-47d2-c6c0-6e8e56eac985"
      },
      "source": [
        "# one dimensional array.\n",
        "my_list = [1,2,3,4,5]\n",
        "a = np.array(my_list)\n",
        "a"
      ],
      "execution_count": null,
      "outputs": [
        {
          "output_type": "execute_result",
          "data": {
            "text/plain": [
              "array([1, 2, 3, 4, 5])"
            ]
          },
          "metadata": {},
          "execution_count": 331
        }
      ]
    },
    {
      "cell_type": "code",
      "metadata": {
        "colab": {
          "base_uri": "https://localhost:8080/"
        },
        "id": "SxSf5ZzKe4A5",
        "outputId": "00588cf5-b791-44bd-c1c5-a2e8336137ea"
      },
      "source": [
        "# two dimensional array.\n",
        "my_list_1 = [\n",
        "             [1,2,3],\n",
        "             [4,5,6],\n",
        "             [7,8,9]\n",
        "             ]\n",
        "b = np.array(my_list_1)\n",
        "b"
      ],
      "execution_count": null,
      "outputs": [
        {
          "output_type": "execute_result",
          "data": {
            "text/plain": [
              "array([[1, 2, 3],\n",
              "       [4, 5, 6],\n",
              "       [7, 8, 9]])"
            ]
          },
          "metadata": {},
          "execution_count": 334
        }
      ]
    },
    {
      "cell_type": "code",
      "metadata": {
        "colab": {
          "base_uri": "https://localhost:8080/"
        },
        "id": "WypK_UuYe4BA",
        "outputId": "bf2556b5-cda6-4316-b355-f95f32cd4f44"
      },
      "source": [
        "# three dimensional array.\n",
        "my_list_2 = [\n",
        "             [\n",
        "              [1,2,3],\n",
        "              [4,5,6],\n",
        "              [7,8,9]\n",
        "              ]\n",
        "             ]\n",
        "c = np.array(my_list_2)\n",
        "c"
      ],
      "execution_count": null,
      "outputs": [
        {
          "output_type": "execute_result",
          "data": {
            "text/plain": [
              "array([[[1, 2, 3],\n",
              "        [4, 5, 6],\n",
              "        [7, 8, 9]]])"
            ]
          },
          "metadata": {},
          "execution_count": 335
        }
      ]
    },
    {
      "cell_type": "markdown",
      "metadata": {
        "id": "ksr4Rxheso0q"
      },
      "source": [
        "#![0 fr4sfcnDc0KsXA8P.png](data:image/png;base64,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)"
      ]
    },
    {
      "cell_type": "code",
      "metadata": {
        "colab": {
          "base_uri": "https://localhost:8080/"
        },
        "id": "Gh57Zbqde4BG",
        "outputId": "388a627a-616a-424c-d6b4-bcbf4ae13f2a"
      },
      "source": [
        "##uniform distribution\n",
        "np.random.rand(5)"
      ],
      "execution_count": null,
      "outputs": [
        {
          "output_type": "execute_result",
          "data": {
            "text/plain": [
              "array([0.10188119, 0.85523939, 0.13273287, 0.14811959, 0.68960794])"
            ]
          },
          "metadata": {},
          "execution_count": 193
        }
      ]
    },
    {
      "cell_type": "code",
      "metadata": {
        "colab": {
          "base_uri": "https://localhost:8080/"
        },
        "id": "cdgPerRZe4BO",
        "outputId": "0fd42fec-59ce-4f48-e486-6da688d1adba"
      },
      "source": [
        "##give me 5 random elements from 0 to 1 (5*5).\n",
        "np.random.rand(3,3)"
      ],
      "execution_count": null,
      "outputs": [
        {
          "output_type": "execute_result",
          "data": {
            "text/plain": [
              "array([[0.12498675, 0.58078238, 0.68671857],\n",
              "       [0.63765854, 0.52615316, 0.68365583],\n",
              "       [0.0178371 , 0.03903821, 0.16469092]])"
            ]
          },
          "metadata": {},
          "execution_count": 4
        }
      ]
    },
    {
      "cell_type": "code",
      "metadata": {
        "colab": {
          "base_uri": "https://localhost:8080/"
        },
        "id": "WU5JDDcs8Ax5",
        "outputId": "3249ded8-b9e0-4a85-e7bd-7757460568b9"
      },
      "source": [
        "##normal distribution\n",
        "np.random.randn(5)"
      ],
      "execution_count": null,
      "outputs": [
        {
          "output_type": "execute_result",
          "data": {
            "text/plain": [
              "array([ 0.80187672, -1.78396159, -0.56480069, -0.57922208,  0.8067656 ])"
            ]
          },
          "metadata": {},
          "execution_count": 195
        }
      ]
    },
    {
      "cell_type": "code",
      "metadata": {
        "colab": {
          "base_uri": "https://localhost:8080/"
        },
        "id": "vgyS2GMH8WRE",
        "outputId": "e4c9a78c-fe4d-4685-b4e2-5809cc6d5579"
      },
      "source": [
        "np.random.randn(5,5)"
      ],
      "execution_count": null,
      "outputs": [
        {
          "output_type": "execute_result",
          "data": {
            "text/plain": [
              "array([[ 2.1163429 ,  0.19021629, -1.14026097, -1.61649156, -0.25605437],\n",
              "       [-0.25491311, -1.26802721,  0.82178575, -0.40602994,  0.59446021],\n",
              "       [ 1.88512594,  0.00427105, -0.75577221, -0.0604021 ,  1.03369711],\n",
              "       [ 0.59915508, -0.49801378,  0.03819619, -0.45949307, -0.06342456],\n",
              "       [-0.59961416,  0.75447409,  0.61940138,  0.37232112, -0.70482534]])"
            ]
          },
          "metadata": {},
          "execution_count": 196
        }
      ]
    },
    {
      "cell_type": "code",
      "metadata": {
        "colab": {
          "base_uri": "https://localhost:8080/"
        },
        "id": "sIw_4cgIe4BV",
        "outputId": "f17c1610-5781-44c5-ab01-1e60f0449712"
      },
      "source": [
        "#arandom integer number from 1 to 99\n",
        "np.random.randint(1,100)"
      ],
      "execution_count": null,
      "outputs": [
        {
          "output_type": "execute_result",
          "data": {
            "text/plain": [
              "179"
            ]
          },
          "metadata": {},
          "execution_count": 5
        }
      ]
    },
    {
      "cell_type": "code",
      "metadata": {
        "colab": {
          "base_uri": "https://localhost:8080/"
        },
        "id": "ORnx-YiUe4Ba",
        "outputId": "8e4ae975-9d62-4375-9a7c-b8442b4ccb16"
      },
      "source": [
        "#random integer number from 1 to 99 return 25 numbers\n",
        "array=np.random.randint(1,100,size=(2,5))\n",
        "array"
      ],
      "execution_count": null,
      "outputs": [
        {
          "output_type": "execute_result",
          "data": {
            "text/plain": [
              "array([[16, 21, 45],\n",
              "       [25, 40, 25],\n",
              "       [46, 30, 73]])"
            ]
          },
          "metadata": {},
          "execution_count": 6
        }
      ]
    },
    {
      "cell_type": "code",
      "metadata": {
        "colab": {
          "base_uri": "https://localhost:8080/"
        },
        "id": "YoK2vA-Me4Bj",
        "outputId": "e68f99d6-3423-40e7-fc84-a9ddeaefb470"
      },
      "source": [
        "k = np.full((2,3),4)\n",
        "k"
      ],
      "execution_count": null,
      "outputs": [
        {
          "output_type": "execute_result",
          "data": {
            "text/plain": [
              "array([[4, 4, 4],\n",
              "       [4, 4, 4]])"
            ]
          },
          "metadata": {},
          "execution_count": 365
        }
      ]
    },
    {
      "cell_type": "code",
      "metadata": {
        "colab": {
          "base_uri": "https://localhost:8080/"
        },
        "id": "AJqhvUKnGcd3",
        "outputId": "36ecfd79-30db-4948-af9e-70f68e26dc03"
      },
      "source": [
        "np.full((4,5),10)"
      ],
      "execution_count": null,
      "outputs": [
        {
          "output_type": "execute_result",
          "data": {
            "text/plain": [
              "array([[10, 10, 10, 10, 10],\n",
              "       [10, 10, 10, 10, 10],\n",
              "       [10, 10, 10, 10, 10],\n",
              "       [10, 10, 10, 10, 10]])"
            ]
          },
          "metadata": {},
          "execution_count": 366
        }
      ]
    },
    {
      "cell_type": "code",
      "metadata": {
        "colab": {
          "base_uri": "https://localhost:8080/"
        },
        "id": "ComdHZQV7dq_",
        "outputId": "ce9db36d-5bc6-4a68-84d2-927c69960ef0"
      },
      "source": [
        "np.zeros(2)"
      ],
      "execution_count": null,
      "outputs": [
        {
          "output_type": "execute_result",
          "data": {
            "text/plain": [
              "array([0, 0])"
            ]
          },
          "metadata": {},
          "execution_count": 7
        }
      ]
    },
    {
      "cell_type": "code",
      "metadata": {
        "colab": {
          "base_uri": "https://localhost:8080/"
        },
        "id": "UBkB5lm87Mzt",
        "outputId": "a47769b4-79b0-4ceb-b32e-55e4a4bc3ed5"
      },
      "source": [
        "np.zeros((3,3))"
      ],
      "execution_count": null,
      "outputs": [
        {
          "output_type": "execute_result",
          "data": {
            "text/plain": [
              "array([[0., 0., 0.],\n",
              "       [0., 0., 0.],\n",
              "       [0., 0., 0.]])"
            ]
          },
          "metadata": {},
          "execution_count": 202
        }
      ]
    },
    {
      "cell_type": "code",
      "metadata": {
        "colab": {
          "base_uri": "https://localhost:8080/"
        },
        "id": "h1mmLq1c70-U",
        "outputId": "ed4f75ba-b980-40a0-b135-d54ac24f664f"
      },
      "source": [
        "np.ones(2)"
      ],
      "execution_count": null,
      "outputs": [
        {
          "output_type": "execute_result",
          "data": {
            "text/plain": [
              "array([1., 1.])"
            ]
          },
          "metadata": {},
          "execution_count": 203
        }
      ]
    },
    {
      "cell_type": "code",
      "metadata": {
        "colab": {
          "base_uri": "https://localhost:8080/"
        },
        "id": "DMRGV0J57Xew",
        "outputId": "2ac9df76-f4eb-4643-f2cd-4b062fed7d46"
      },
      "source": [
        "np.ones((3,3))"
      ],
      "execution_count": null,
      "outputs": [
        {
          "output_type": "execute_result",
          "data": {
            "text/plain": [
              "array([[1., 1., 1.],\n",
              "       [1., 1., 1.],\n",
              "       [1., 1., 1.]])"
            ]
          },
          "metadata": {},
          "execution_count": 204
        }
      ]
    },
    {
      "cell_type": "code",
      "metadata": {
        "colab": {
          "base_uri": "https://localhost:8080/"
        },
        "id": "FUrmVG-b7qyR",
        "outputId": "ae94444e-3de0-4d8c-8456-dadb7d0801e0"
      },
      "source": [
        "#idnetity matrix\n",
        "np.eye(3,3)           #or: np.identity(3)"
      ],
      "execution_count": null,
      "outputs": [
        {
          "output_type": "execute_result",
          "data": {
            "text/plain": [
              "array([[1., 0., 0.],\n",
              "       [0., 1., 0.],\n",
              "       [0., 0., 1.]])"
            ]
          },
          "metadata": {},
          "execution_count": 205
        }
      ]
    },
    {
      "cell_type": "code",
      "metadata": {
        "colab": {
          "base_uri": "https://localhost:8080/"
        },
        "id": "2xpmUp7Z-1Jd",
        "outputId": "977b57df-2dc3-4f19-a0cb-1b311b9d4465"
      },
      "source": [
        "np.eye(3,3,1)"
      ],
      "execution_count": null,
      "outputs": [
        {
          "output_type": "execute_result",
          "data": {
            "text/plain": [
              "array([[0., 1., 0.],\n",
              "       [0., 0., 1.],\n",
              "       [0., 0., 0.]])"
            ]
          },
          "metadata": {},
          "execution_count": 9
        }
      ]
    },
    {
      "cell_type": "markdown",
      "metadata": {
        "id": "VLJKZ58W_YP8"
      },
      "source": [
        "![download.png](data:image/png;base64,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)"
      ]
    },
    {
      "cell_type": "markdown",
      "metadata": {
        "id": "7nrwg7TdtHdH"
      },
      "source": [
        "# Array from Numerical Ranges"
      ]
    },
    {
      "cell_type": "code",
      "metadata": {
        "colab": {
          "base_uri": "https://localhost:8080/"
        },
        "outputId": "f91034e5-d8f2-41ed-e20d-b4db9bde423e",
        "id": "7IYKGwoitHdV"
      },
      "source": [
        "x = np.arange(10)\n",
        "x"
      ],
      "execution_count": null,
      "outputs": [
        {
          "output_type": "execute_result",
          "data": {
            "text/plain": [
              "array([0, 1, 2, 3, 4, 5, 6, 7, 8, 9])"
            ]
          },
          "metadata": {},
          "execution_count": 10
        }
      ]
    },
    {
      "cell_type": "code",
      "source": [
        "x = np.arange(1,10)\n",
        "x"
      ],
      "metadata": {
        "colab": {
          "base_uri": "https://localhost:8080/"
        },
        "outputId": "bd35bd06-98b6-4b59-f965-268dba5ad481",
        "id": "Pq4CD9CctHdX"
      },
      "execution_count": null,
      "outputs": [
        {
          "output_type": "execute_result",
          "data": {
            "text/plain": [
              "array([1, 2, 3, 4, 5, 6, 7, 8, 9])"
            ]
          },
          "metadata": {},
          "execution_count": 322
        }
      ]
    },
    {
      "cell_type": "code",
      "source": [
        "#return an ndarray object containing evenly spaced values within a given range.\n",
        "x = np.arange(0,11,2)\n",
        "x"
      ],
      "metadata": {
        "colab": {
          "base_uri": "https://localhost:8080/"
        },
        "outputId": "9b6f8b54-b053-410d-d790-5181d1b718b0",
        "id": "ioOJp2gDtHdY"
      },
      "execution_count": null,
      "outputs": [
        {
          "output_type": "execute_result",
          "data": {
            "text/plain": [
              "array([0, 3, 6, 9])"
            ]
          },
          "metadata": {},
          "execution_count": 11
        }
      ]
    },
    {
      "cell_type": "code",
      "metadata": {
        "colab": {
          "base_uri": "https://localhost:8080/"
        },
        "outputId": "be4f1eca-4664-4238-dc77-7672664d77ce",
        "id": "XbMQPa0VtHda"
      },
      "source": [
        "# In this function, instead of step size, the number of evenly spaced values between the interval is specified.\n",
        "y = np.linspace(10,20,5)\n",
        "y"
      ],
      "execution_count": null,
      "outputs": [
        {
          "output_type": "execute_result",
          "data": {
            "text/plain": [
              "array([10. , 12.5, 15. , 17.5, 20. ])"
            ]
          },
          "metadata": {},
          "execution_count": 210
        }
      ]
    },
    {
      "cell_type": "code",
      "metadata": {
        "colab": {
          "base_uri": "https://localhost:8080/"
        },
        "outputId": "f5155712-47bf-4dcc-9323-08255d4848b2",
        "id": "-6SNRjEhtHdb"
      },
      "source": [
        "#This function returns a ndarray object that contains the numbers that are evenly spaced on a log scale.\n",
        "u = np.logspace(1.0, 2.0, num=5)\n",
        "u"
      ],
      "execution_count": null,
      "outputs": [
        {
          "output_type": "execute_result",
          "data": {
            "text/plain": [
              "array([ 10.        ,  17.7827941 ,  31.6227766 ,  56.23413252,\n",
              "       100.        ])"
            ]
          },
          "metadata": {},
          "execution_count": 338
        }
      ]
    },
    {
      "cell_type": "code",
      "metadata": {
        "colab": {
          "base_uri": "https://localhost:8080/"
        },
        "outputId": "62daa144-375d-4668-8ec9-e5bb3bcb0915",
        "id": "ioXCUZm-tHdc"
      },
      "source": [
        "my_list = [1,2,3,4,5]\n",
        "a = np.array(my_list)\n",
        "a"
      ],
      "execution_count": null,
      "outputs": [
        {
          "output_type": "execute_result",
          "data": {
            "text/plain": [
              "array([1, 2, 3, 4, 5])"
            ]
          },
          "metadata": {},
          "execution_count": 371
        }
      ]
    },
    {
      "cell_type": "code",
      "source": [
        "# copying arrays\n",
        "f = a.copy()\n",
        "f"
      ],
      "metadata": {
        "colab": {
          "base_uri": "https://localhost:8080/"
        },
        "id": "B3vjA-_44HDS",
        "outputId": "eade2d54-e42d-4779-8af2-4cecddfffb93"
      },
      "execution_count": null,
      "outputs": [
        {
          "output_type": "execute_result",
          "data": {
            "text/plain": [
              "array([1, 2, 3, 4, 5])"
            ]
          },
          "metadata": {},
          "execution_count": 373
        }
      ]
    },
    {
      "cell_type": "markdown",
      "metadata": {
        "id": "oCCsX1Uve4Bn"
      },
      "source": [
        "#  Array Attributes"
      ]
    },
    {
      "cell_type": "code",
      "metadata": {
        "colab": {
          "base_uri": "https://localhost:8080/"
        },
        "id": "Zrhf7ju4e4Br",
        "outputId": "1fbda104-ac34-4550-ac24-0394daf89473"
      },
      "source": [
        "my_list_1 = [\n",
        "             [1,2,3],\n",
        "             [4,5,6],\n",
        "             [7,8,9]\n",
        "             ]\n",
        "b = np.array(my_list_1)\n",
        "b\n"
      ],
      "execution_count": null,
      "outputs": [
        {
          "output_type": "execute_result",
          "data": {
            "text/plain": [
              "array([[1, 2, 3],\n",
              "       [4, 5, 6],\n",
              "       [7, 8, 9]])"
            ]
          },
          "metadata": {},
          "execution_count": 380
        }
      ]
    },
    {
      "cell_type": "code",
      "metadata": {
        "colab": {
          "base_uri": "https://localhost:8080/"
        },
        "id": "lx-pnSiCA4z7",
        "outputId": "84c03b14-088a-4e1b-925d-6a064bfd375b"
      },
      "source": [
        "# Get Shape\n",
        "b.shape"
      ],
      "execution_count": null,
      "outputs": [
        {
          "output_type": "execute_result",
          "data": {
            "text/plain": [
              "(3, 3)"
            ]
          },
          "metadata": {},
          "execution_count": 382
        }
      ]
    },
    {
      "cell_type": "code",
      "metadata": {
        "colab": {
          "base_uri": "https://localhost:8080/"
        },
        "id": "y7L92gbte4Bx",
        "outputId": "d3fb8111-9a51-4772-8111-759e32e4f93e"
      },
      "source": [
        "# Get dimension .\n",
        "get_dimension = b.ndim\n",
        "get_dimension"
      ],
      "execution_count": null,
      "outputs": [
        {
          "output_type": "execute_result",
          "data": {
            "text/plain": [
              "2"
            ]
          },
          "metadata": {},
          "execution_count": 383
        }
      ]
    },
    {
      "cell_type": "code",
      "metadata": {
        "colab": {
          "base_uri": "https://localhost:8080/"
        },
        "id": "-YfBdExJe4B4",
        "outputId": "1e110251-d004-4cb2-af49-610e739098fd"
      },
      "source": [
        "# Get Number of Elements\n",
        "b.size"
      ],
      "execution_count": null,
      "outputs": [
        {
          "output_type": "execute_result",
          "data": {
            "text/plain": [
              "9"
            ]
          },
          "metadata": {},
          "execution_count": 384
        }
      ]
    },
    {
      "cell_type": "code",
      "metadata": {
        "colab": {
          "base_uri": "https://localhost:8080/"
        },
        "id": "sJ9xk1axf18m",
        "outputId": "5d2b9352-997e-4c5b-f884-5e3e4eb3e190"
      },
      "source": [
        "#Get number of Rows\n",
        "len(b)"
      ],
      "execution_count": null,
      "outputs": [
        {
          "output_type": "execute_result",
          "data": {
            "text/plain": [
              "3"
            ]
          },
          "metadata": {},
          "execution_count": 386
        }
      ]
    },
    {
      "cell_type": "code",
      "metadata": {
        "colab": {
          "base_uri": "https://localhost:8080/"
        },
        "id": "uuuL1hsSe4B9",
        "outputId": "ce372a05-bec4-440e-8d05-955725d5afb2"
      },
      "source": [
        "# Get total size\n",
        "b.nbytes"
      ],
      "execution_count": null,
      "outputs": [
        {
          "output_type": "execute_result",
          "data": {
            "text/plain": [
              "72"
            ]
          },
          "metadata": {},
          "execution_count": 387
        }
      ]
    },
    {
      "cell_type": "code",
      "metadata": {
        "colab": {
          "base_uri": "https://localhost:8080/"
        },
        "id": "NbHiBhLve4CC",
        "outputId": "3c5927aa-16e1-45aa-c518-eb56704058f3"
      },
      "source": [
        "# Get Type\n",
        "b.dtype"
      ],
      "execution_count": null,
      "outputs": [
        {
          "output_type": "execute_result",
          "data": {
            "text/plain": [
              "dtype('int64')"
            ]
          },
          "metadata": {},
          "execution_count": 388
        }
      ]
    },
    {
      "cell_type": "code",
      "metadata": {
        "colab": {
          "base_uri": "https://localhost:8080/"
        },
        "id": "NMiK7qEye4CJ",
        "outputId": "5ecc453b-3928-469e-817e-be1e584025d7"
      },
      "source": [
        "#shows the current values of flags.\n",
        "my_list = [1,2,3,4,5]\n",
        "a = np.array(my_list)\n",
        "a.flags"
      ],
      "execution_count": null,
      "outputs": [
        {
          "output_type": "execute_result",
          "data": {
            "text/plain": [
              "  C_CONTIGUOUS : True\n",
              "  F_CONTIGUOUS : True\n",
              "  OWNDATA : True\n",
              "  WRITEABLE : True\n",
              "  ALIGNED : True\n",
              "  WRITEBACKIFCOPY : False\n",
              "  UPDATEIFCOPY : False"
            ]
          },
          "metadata": {},
          "execution_count": 389
        }
      ]
    },
    {
      "cell_type": "markdown",
      "metadata": {
        "id": "d0F2Q3kSe4Cx"
      },
      "source": [
        "# Array Manipulation "
      ]
    },
    {
      "cell_type": "code",
      "metadata": {
        "colab": {
          "base_uri": "https://localhost:8080/"
        },
        "id": "1RbRHyKTe4C0",
        "outputId": "29560ab8-0627-46ee-c2ec-874194ea982d"
      },
      "source": [
        "my_list_1 = [\n",
        "             [1,2,3]\n",
        "             ,[4,5,6],\n",
        "             [7,8,9]\n",
        "             ]\n",
        "b = np.array(my_list_1)\n",
        "b"
      ],
      "execution_count": null,
      "outputs": [
        {
          "output_type": "execute_result",
          "data": {
            "text/plain": [
              "array([[1, 2, 3],\n",
              "       [4, 5, 6],\n",
              "       [7, 8, 9]])"
            ]
          },
          "metadata": {},
          "execution_count": 390
        }
      ]
    },
    {
      "cell_type": "code",
      "source": [
        "b.shape"
      ],
      "metadata": {
        "colab": {
          "base_uri": "https://localhost:8080/"
        },
        "id": "nAC52TB8OSUY",
        "outputId": "d2206eff-381e-4e3f-a63b-ee80b5f7ab09"
      },
      "execution_count": null,
      "outputs": [
        {
          "output_type": "execute_result",
          "data": {
            "text/plain": [
              "(3, 3)"
            ]
          },
          "metadata": {},
          "execution_count": 391
        }
      ]
    },
    {
      "cell_type": "code",
      "metadata": {
        "colab": {
          "base_uri": "https://localhost:8080/"
        },
        "id": "UQauEYmBCFc0",
        "outputId": "10f97d48-7755-4a0f-f7c6-a4acae7c238f"
      },
      "source": [
        "#Reorganizing Arrays\n",
        "g = b.reshape((1,9))\n",
        "g"
      ],
      "execution_count": null,
      "outputs": [
        {
          "output_type": "execute_result",
          "data": {
            "text/plain": [
              "array([[1, 2, 3, 4, 5, 6, 7, 8, 9]])"
            ]
          },
          "metadata": {},
          "execution_count": 392
        }
      ]
    },
    {
      "cell_type": "code",
      "source": [
        "#Reorganizing Arrays\n",
        "g = b.reshape((9,1))\n",
        "g"
      ],
      "metadata": {
        "colab": {
          "base_uri": "https://localhost:8080/"
        },
        "id": "Kw9YkNgH0v8C",
        "outputId": "53bb8880-9f1f-43ca-8fa4-e70473d41b01"
      },
      "execution_count": null,
      "outputs": [
        {
          "output_type": "execute_result",
          "data": {
            "text/plain": [
              "array([[1],\n",
              "       [2],\n",
              "       [3],\n",
              "       [4],\n",
              "       [5],\n",
              "       [6],\n",
              "       [7],\n",
              "       [8],\n",
              "       [9]])"
            ]
          },
          "metadata": {},
          "execution_count": 354
        }
      ]
    },
    {
      "cell_type": "code",
      "metadata": {
        "colab": {
          "base_uri": "https://localhost:8080/"
        },
        "id": "8ZWt9iHbCW7H",
        "outputId": "6984b1bc-aa53-47ac-db3d-4b2d2499d3ec"
      },
      "source": [
        "g = b.reshape((3,3))\n",
        "g"
      ],
      "execution_count": null,
      "outputs": [
        {
          "output_type": "execute_result",
          "data": {
            "text/plain": [
              "array([[1, 2, 3],\n",
              "       [4, 5, 6],\n",
              "       [7, 8, 9]])"
            ]
          },
          "metadata": {},
          "execution_count": 224
        }
      ]
    },
    {
      "cell_type": "code",
      "metadata": {
        "colab": {
          "base_uri": "https://localhost:8080/"
        },
        "id": "bsn-UwwFe4C6",
        "outputId": "ac165789-3fa2-4a45-eb9e-6ea6fce9b109"
      },
      "source": [
        "o = np.arange(8)\n",
        "o"
      ],
      "execution_count": null,
      "outputs": [
        {
          "output_type": "execute_result",
          "data": {
            "text/plain": [
              "array([0, 1, 2, 3, 4, 5, 6, 7])"
            ]
          },
          "metadata": {},
          "execution_count": 359
        }
      ]
    },
    {
      "cell_type": "code",
      "source": [
        "o = o.reshape(2,4)\n",
        "o"
      ],
      "metadata": {
        "colab": {
          "base_uri": "https://localhost:8080/"
        },
        "id": "TF01-i7G08ki",
        "outputId": "8ecde658-2d72-45fd-c92c-4c52ba390355"
      },
      "execution_count": null,
      "outputs": [
        {
          "output_type": "execute_result",
          "data": {
            "text/plain": [
              "array([[0, 1, 2, 3],\n",
              "       [4, 5, 6, 7]])"
            ]
          },
          "metadata": {},
          "execution_count": 357
        }
      ]
    },
    {
      "cell_type": "code",
      "metadata": {
        "colab": {
          "base_uri": "https://localhost:8080/"
        },
        "id": "xiYAeCehCuyZ",
        "outputId": "0946077a-3de0-4941-d05c-68e13dc2b868"
      },
      "source": [
        "#returns a flattened one-dimensional array.\n",
        "o.flatten()"
      ],
      "execution_count": null,
      "outputs": [
        {
          "output_type": "execute_result",
          "data": {
            "text/plain": [
              "array([0, 1, 2, 3, 4, 5, 6, 7])"
            ]
          },
          "metadata": {},
          "execution_count": 226
        }
      ]
    },
    {
      "cell_type": "code",
      "metadata": {
        "colab": {
          "base_uri": "https://localhost:8080/"
        },
        "id": "uWAzvBose4C_",
        "outputId": "2c650d7b-edaa-4f5b-af94-3f8efbc1f5ea"
      },
      "source": [
        "#returns a flattened one-dimensional array.\n",
        "p = np.arange(8).reshape(2,4)\n",
        "p.ravel()"
      ],
      "execution_count": null,
      "outputs": [
        {
          "output_type": "execute_result",
          "data": {
            "text/plain": [
              "array([0, 1, 2, 3, 4, 5, 6, 7])"
            ]
          },
          "metadata": {},
          "execution_count": 227
        }
      ]
    },
    {
      "cell_type": "code",
      "metadata": {
        "colab": {
          "base_uri": "https://localhost:8080/"
        },
        "id": "gLHRwLgWe4DC",
        "outputId": "fd07c4b9-c1b1-40d4-8505-c69db1265bbc"
      },
      "source": [
        "#This function permutes the dimension of the given array.\n",
        "i = np.arange(8).reshape(2,4) \n",
        "i"
      ],
      "execution_count": null,
      "outputs": [
        {
          "output_type": "execute_result",
          "data": {
            "text/plain": [
              "array([[0, 1, 2, 3],\n",
              "       [4, 5, 6, 7]])"
            ]
          },
          "metadata": {},
          "execution_count": 228
        }
      ]
    },
    {
      "cell_type": "code",
      "metadata": {
        "colab": {
          "base_uri": "https://localhost:8080/"
        },
        "id": "WPz2fGfpDHJT",
        "outputId": "bdea84e9-13ba-4729-c08c-fd19e00fe564"
      },
      "source": [
        "i.transpose()"
      ],
      "execution_count": null,
      "outputs": [
        {
          "output_type": "execute_result",
          "data": {
            "text/plain": [
              "array([[0, 4],\n",
              "       [1, 5],\n",
              "       [2, 6],\n",
              "       [3, 7]])"
            ]
          },
          "metadata": {},
          "execution_count": 229
        }
      ]
    },
    {
      "cell_type": "code",
      "metadata": {
        "colab": {
          "base_uri": "https://localhost:8080/"
        },
        "id": "U3rH4YwbMKqk",
        "outputId": "e0ec7ca5-db59-4ed1-b276-433d57fdfff4"
      },
      "source": [
        "i.T"
      ],
      "execution_count": null,
      "outputs": [
        {
          "output_type": "execute_result",
          "data": {
            "text/plain": [
              "array([[0, 4],\n",
              "       [1, 5],\n",
              "       [2, 6],\n",
              "       [3, 7]])"
            ]
          },
          "metadata": {},
          "execution_count": 230
        }
      ]
    },
    {
      "cell_type": "code",
      "metadata": {
        "colab": {
          "base_uri": "https://localhost:8080/"
        },
        "id": "DR1hFXb-e4DJ",
        "outputId": "2f6d29fa-c2e9-4348-839b-e23b02edbdc4"
      },
      "source": [
        "array__1 = np.array([1, 2, 3])\n",
        "array__2 = np.array([4, 5, 6])\n",
        "array__1"
      ],
      "execution_count": null,
      "outputs": [
        {
          "output_type": "execute_result",
          "data": {
            "text/plain": [
              "array([1, 2, 3])"
            ]
          },
          "metadata": {},
          "execution_count": 342
        }
      ]
    },
    {
      "cell_type": "code",
      "source": [
        "array__2"
      ],
      "metadata": {
        "colab": {
          "base_uri": "https://localhost:8080/"
        },
        "id": "cj_H9ytszCPR",
        "outputId": "74a4d1a1-b2fb-41ee-f46a-304d16c3254e"
      },
      "execution_count": null,
      "outputs": [
        {
          "output_type": "execute_result",
          "data": {
            "text/plain": [
              "array([4, 5, 6])"
            ]
          },
          "metadata": {},
          "execution_count": 343
        }
      ]
    },
    {
      "cell_type": "code",
      "source": [
        "#concatenate as append in 1D array\n",
        "k = np.concatenate((array__1, array__2))\n",
        "k"
      ],
      "metadata": {
        "colab": {
          "base_uri": "https://localhost:8080/"
        },
        "id": "2W3Gi9lHzAL9",
        "outputId": "7db9073f-ad11-41a1-88f7-39a05d5e3c12"
      },
      "execution_count": null,
      "outputs": [
        {
          "output_type": "execute_result",
          "data": {
            "text/plain": [
              "array([1, 2, 3, 4, 5, 6])"
            ]
          },
          "metadata": {},
          "execution_count": 344
        }
      ]
    },
    {
      "cell_type": "markdown",
      "source": [
        "![image.png](data:image/png;base64,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)"
      ],
      "metadata": {
        "id": "RHqMURBb78Mv"
      }
    },
    {
      "cell_type": "code",
      "metadata": {
        "id": "5Vyx-zZOwCJW"
      },
      "source": [
        "data1 = np.random.randint(5,15,size=(5,3))\n",
        "data2 = np.random.randint(5,15,size=(5,3))"
      ],
      "execution_count": null,
      "outputs": []
    },
    {
      "cell_type": "code",
      "metadata": {
        "colab": {
          "base_uri": "https://localhost:8080/"
        },
        "id": "JqBvzDIfxKhp",
        "outputId": "ed68c451-05bb-4711-9217-0126a60285da"
      },
      "source": [
        "data1"
      ],
      "execution_count": null,
      "outputs": [
        {
          "output_type": "execute_result",
          "data": {
            "text/plain": [
              "array([[ 9,  8, 12],\n",
              "       [10, 10, 12],\n",
              "       [ 7, 11,  6],\n",
              "       [ 5, 11,  8],\n",
              "       [13, 13,  9]])"
            ]
          },
          "metadata": {},
          "execution_count": 13
        }
      ]
    },
    {
      "cell_type": "code",
      "metadata": {
        "colab": {
          "base_uri": "https://localhost:8080/"
        },
        "id": "7h1ISgfRxLxh",
        "outputId": "4d8d8583-e850-491f-d47c-9e5b27700548"
      },
      "source": [
        "data2"
      ],
      "execution_count": null,
      "outputs": [
        {
          "output_type": "execute_result",
          "data": {
            "text/plain": [
              "array([[ 9,  9,  8],\n",
              "       [14, 12,  9],\n",
              "       [ 9, 12, 11],\n",
              "       [ 5,  9,  5],\n",
              "       [12, 13, 12]])"
            ]
          },
          "metadata": {},
          "execution_count": 14
        }
      ]
    },
    {
      "cell_type": "code",
      "metadata": {
        "colab": {
          "base_uri": "https://localhost:8080/"
        },
        "id": "o0VAfrnoxqbk",
        "outputId": "7a044dd0-3f78-410e-f4e8-a27baa9ffb6e"
      },
      "source": [
        "np.concatenate([data1, data2], axis=0)"
      ],
      "execution_count": null,
      "outputs": [
        {
          "output_type": "execute_result",
          "data": {
            "text/plain": [
              "array([[ 9,  8, 12],\n",
              "       [10, 10, 12],\n",
              "       [ 7, 11,  6],\n",
              "       [ 5, 11,  8],\n",
              "       [13, 13,  9],\n",
              "       [ 9,  9,  8],\n",
              "       [14, 12,  9],\n",
              "       [ 9, 12, 11],\n",
              "       [ 5,  9,  5],\n",
              "       [12, 13, 12]])"
            ]
          },
          "metadata": {},
          "execution_count": 16
        }
      ]
    },
    {
      "cell_type": "code",
      "metadata": {
        "colab": {
          "base_uri": "https://localhost:8080/"
        },
        "id": "wrQMPsWnz1ab",
        "outputId": "15d38658-4cc3-4046-fcc2-a5ef1d6f294e"
      },
      "source": [
        "np.vstack([data1,data2])"
      ],
      "execution_count": null,
      "outputs": [
        {
          "output_type": "execute_result",
          "data": {
            "text/plain": [
              "array([[ 6, 11, 12],\n",
              "       [14, 13,  7],\n",
              "       [ 8, 10, 11],\n",
              "       [ 8,  6, 13],\n",
              "       [10,  6,  7],\n",
              "       [ 5, 10, 12],\n",
              "       [13, 10, 14],\n",
              "       [ 9,  7,  8],\n",
              "       [14, 14,  5],\n",
              "       [ 7, 12, 14]])"
            ]
          },
          "metadata": {},
          "execution_count": 236
        }
      ]
    },
    {
      "cell_type": "code",
      "metadata": {
        "colab": {
          "base_uri": "https://localhost:8080/"
        },
        "id": "eb5DVEqDw39x",
        "outputId": "75fa6469-4e28-4a10-e57e-0990cfed3123"
      },
      "source": [
        "np.concatenate([data1, data2], axis=1)"
      ],
      "execution_count": null,
      "outputs": [
        {
          "output_type": "execute_result",
          "data": {
            "text/plain": [
              "array([[ 6, 11, 12,  5, 10, 12],\n",
              "       [14, 13,  7, 13, 10, 14],\n",
              "       [ 8, 10, 11,  9,  7,  8],\n",
              "       [ 8,  6, 13, 14, 14,  5],\n",
              "       [10,  6,  7,  7, 12, 14]])"
            ]
          },
          "metadata": {},
          "execution_count": 237
        }
      ]
    },
    {
      "cell_type": "code",
      "metadata": {
        "colab": {
          "base_uri": "https://localhost:8080/"
        },
        "id": "7ZvcgxezzALD",
        "outputId": "20d5fcb4-d186-46eb-b22c-ebb269b2ec3e"
      },
      "source": [
        "np.hstack([data1,data2])"
      ],
      "execution_count": null,
      "outputs": [
        {
          "output_type": "execute_result",
          "data": {
            "text/plain": [
              "array([[ 6, 11, 12,  5, 10, 12],\n",
              "       [14, 13,  7, 13, 10, 14],\n",
              "       [ 8, 10, 11,  9,  7,  8],\n",
              "       [ 8,  6, 13, 14, 14,  5],\n",
              "       [10,  6,  7,  7, 12, 14]])"
            ]
          },
          "metadata": {},
          "execution_count": 238
        }
      ]
    },
    {
      "cell_type": "code",
      "metadata": {
        "colab": {
          "base_uri": "https://localhost:8080/"
        },
        "id": "jX-inG0re4Dj",
        "outputId": "340be9c1-7840-471b-b55d-0fa61e4a0b70"
      },
      "source": [
        "l = np.arange(9)\n",
        "l"
      ],
      "execution_count": null,
      "outputs": [
        {
          "output_type": "execute_result",
          "data": {
            "text/plain": [
              "array([0, 1, 2, 3, 4, 5, 6, 7, 8])"
            ]
          },
          "metadata": {},
          "execution_count": 17
        }
      ]
    },
    {
      "cell_type": "code",
      "source": [
        "#This function divides the array into subarrays along a specified axis.\n",
        "np.split(l,3)"
      ],
      "metadata": {
        "colab": {
          "base_uri": "https://localhost:8080/"
        },
        "id": "R5Ej6DGgh2pj",
        "outputId": "d68801d6-3d07-4269-f783-2e56b9ceff45"
      },
      "execution_count": null,
      "outputs": [
        {
          "output_type": "execute_result",
          "data": {
            "text/plain": [
              "[array([0, 1, 2]), array([3, 4, 5]), array([6, 7, 8])]"
            ]
          },
          "metadata": {},
          "execution_count": 19
        }
      ]
    },
    {
      "cell_type": "code",
      "metadata": {
        "colab": {
          "base_uri": "https://localhost:8080/"
        },
        "id": "JlB9czf247zV",
        "outputId": "781d79e8-7d6a-4845-9363-113a970e0976"
      },
      "source": [
        "stacked_data = np.vstack([data1,data2])\n",
        "stacked_data"
      ],
      "execution_count": null,
      "outputs": [
        {
          "output_type": "execute_result",
          "data": {
            "text/plain": [
              "array([[ 6, 11, 12],\n",
              "       [14, 13,  7],\n",
              "       [ 8, 10, 11],\n",
              "       [ 8,  6, 13],\n",
              "       [10,  6,  7],\n",
              "       [ 5, 10, 12],\n",
              "       [13, 10, 14],\n",
              "       [ 9,  7,  8],\n",
              "       [14, 14,  5],\n",
              "       [ 7, 12, 14]])"
            ]
          },
          "metadata": {},
          "execution_count": 242
        }
      ]
    },
    {
      "cell_type": "code",
      "metadata": {
        "id": "tdIG8tCu5CV_"
      },
      "source": [
        "up, down = np.vsplit(stacked_data, 2)"
      ],
      "execution_count": null,
      "outputs": []
    },
    {
      "cell_type": "code",
      "metadata": {
        "colab": {
          "base_uri": "https://localhost:8080/"
        },
        "id": "FGm637bm5EyN",
        "outputId": "5e9b5e69-3f30-44fa-924c-40b1fefe2963"
      },
      "source": [
        "up"
      ],
      "execution_count": null,
      "outputs": [
        {
          "output_type": "execute_result",
          "data": {
            "text/plain": [
              "array([[ 6, 11, 12],\n",
              "       [14, 13,  7],\n",
              "       [ 8, 10, 11],\n",
              "       [ 8,  6, 13],\n",
              "       [10,  6,  7]])"
            ]
          },
          "metadata": {},
          "execution_count": 244
        }
      ]
    },
    {
      "cell_type": "code",
      "metadata": {
        "colab": {
          "base_uri": "https://localhost:8080/"
        },
        "id": "lTz5k8xV5Gld",
        "outputId": "2df5703f-4e44-48a4-e8db-779515c5292a"
      },
      "source": [
        "down"
      ],
      "execution_count": null,
      "outputs": [
        {
          "output_type": "execute_result",
          "data": {
            "text/plain": [
              "array([[ 5, 10, 12],\n",
              "       [13, 10, 14],\n",
              "       [ 9,  7,  8],\n",
              "       [14, 14,  5],\n",
              "       [ 7, 12, 14]])"
            ]
          },
          "metadata": {},
          "execution_count": 245
        }
      ]
    },
    {
      "cell_type": "code",
      "metadata": {
        "colab": {
          "base_uri": "https://localhost:8080/"
        },
        "id": "tozAL0VC5PIh",
        "outputId": "474138bc-36f0-4dab-d4fa-4940410e09b5"
      },
      "source": [
        "stacked_data = np.hstack([data1,data2])\n",
        "stacked_data"
      ],
      "execution_count": null,
      "outputs": [
        {
          "output_type": "execute_result",
          "data": {
            "text/plain": [
              "array([[ 6, 11, 12,  5, 10, 12],\n",
              "       [14, 13,  7, 13, 10, 14],\n",
              "       [ 8, 10, 11,  9,  7,  8],\n",
              "       [ 8,  6, 13, 14, 14,  5],\n",
              "       [10,  6,  7,  7, 12, 14]])"
            ]
          },
          "metadata": {},
          "execution_count": 246
        }
      ]
    },
    {
      "cell_type": "code",
      "metadata": {
        "id": "i0erkwG45uJz"
      },
      "source": [
        "left , right = np.hsplit(stacked_data, 2)"
      ],
      "execution_count": null,
      "outputs": []
    },
    {
      "cell_type": "code",
      "metadata": {
        "colab": {
          "base_uri": "https://localhost:8080/"
        },
        "id": "uNjuvk_S56H4",
        "outputId": "6139dc02-f263-4d5b-a1bf-6019f919062f"
      },
      "source": [
        "left"
      ],
      "execution_count": null,
      "outputs": [
        {
          "output_type": "execute_result",
          "data": {
            "text/plain": [
              "array([[ 6, 11, 12],\n",
              "       [14, 13,  7],\n",
              "       [ 8, 10, 11],\n",
              "       [ 8,  6, 13],\n",
              "       [10,  6,  7]])"
            ]
          },
          "metadata": {},
          "execution_count": 248
        }
      ]
    },
    {
      "cell_type": "code",
      "metadata": {
        "colab": {
          "base_uri": "https://localhost:8080/"
        },
        "id": "wqnpq0Ew5-ia",
        "outputId": "d6166fc9-dc00-4e2d-f9f9-3fe21ae6c6d7"
      },
      "source": [
        "right"
      ],
      "execution_count": null,
      "outputs": [
        {
          "output_type": "execute_result",
          "data": {
            "text/plain": [
              "array([[ 5, 10, 12],\n",
              "       [13, 10, 14],\n",
              "       [ 9,  7,  8],\n",
              "       [14, 14,  5],\n",
              "       [ 7, 12, 14]])"
            ]
          },
          "metadata": {},
          "execution_count": 249
        }
      ]
    },
    {
      "cell_type": "code",
      "metadata": {
        "colab": {
          "base_uri": "https://localhost:8080/"
        },
        "id": "ctHXJ2hqe4Dv",
        "outputId": "e7a621fa-7a20-4690-fdc6-42101fc4d12d"
      },
      "source": [
        "m = np.arange(12).reshape(3,4)\n",
        "m"
      ],
      "execution_count": null,
      "outputs": [
        {
          "output_type": "execute_result",
          "data": {
            "text/plain": [
              "array([[ 0,  1,  2,  3],\n",
              "       [ 4,  5,  6,  7],\n",
              "       [ 8,  9, 10, 11]])"
            ]
          },
          "metadata": {},
          "execution_count": 345
        }
      ]
    },
    {
      "cell_type": "code",
      "source": [
        "#This function returns a new array with the specified subarray deleted from the input array.\n",
        "np.delete(m,5)"
      ],
      "metadata": {
        "colab": {
          "base_uri": "https://localhost:8080/"
        },
        "id": "fu-JASi_zrLJ",
        "outputId": "bdf54a50-7bbe-48d4-b862-52e50cf232fb"
      },
      "execution_count": null,
      "outputs": [
        {
          "output_type": "execute_result",
          "data": {
            "text/plain": [
              "array([ 0,  1,  2,  3,  4,  6,  7,  8,  9, 10, 11])"
            ]
          },
          "metadata": {},
          "execution_count": 347
        }
      ]
    },
    {
      "cell_type": "code",
      "metadata": {
        "colab": {
          "base_uri": "https://localhost:8080/"
        },
        "id": "7ckPUoAge4D9",
        "outputId": "30cbd845-8ae7-4d9a-be4c-3fcd638a6709"
      },
      "source": [
        "a = np.array([5,2,6,2,7,5,6,8,2,9])\n",
        "a"
      ],
      "execution_count": null,
      "outputs": [
        {
          "output_type": "execute_result",
          "data": {
            "text/plain": [
              "array([5, 2, 6, 2, 7, 5, 6, 8, 2, 9])"
            ]
          },
          "metadata": {},
          "execution_count": 348
        }
      ]
    },
    {
      "cell_type": "code",
      "source": [
        "#This function returns an array of unique elements in the input array.\n",
        "np.unique(a)"
      ],
      "metadata": {
        "colab": {
          "base_uri": "https://localhost:8080/"
        },
        "id": "AUziR-JWzx5J",
        "outputId": "d294e795-4589-415d-fd6d-257019a1a7c1"
      },
      "execution_count": null,
      "outputs": [
        {
          "output_type": "execute_result",
          "data": {
            "text/plain": [
              "array([2, 5, 6, 7, 8, 9])"
            ]
          },
          "metadata": {},
          "execution_count": 349
        }
      ]
    },
    {
      "cell_type": "markdown",
      "metadata": {
        "id": "rya7002ze4EU"
      },
      "source": [
        "# Sort, Search & Counting Functions "
      ]
    },
    {
      "cell_type": "code",
      "metadata": {
        "colab": {
          "base_uri": "https://localhost:8080/"
        },
        "id": "LfbZ38mve4EW",
        "outputId": "c4db21ca-c5f4-49b0-d274-7cc99cf69f51"
      },
      "source": [
        "a = np.array([5,2,6,2,7,5,6,8,2,0])\n",
        "a"
      ],
      "execution_count": null,
      "outputs": [
        {
          "output_type": "execute_result",
          "data": {
            "text/plain": [
              "array([5, 2, 6, 2, 7, 5, 6, 8, 2, 0])"
            ]
          },
          "metadata": {},
          "execution_count": 418
        }
      ]
    },
    {
      "cell_type": "code",
      "source": [
        "#Sorting means putting elements in an ordered sequence.\n",
        "np.sort(a)"
      ],
      "metadata": {
        "colab": {
          "base_uri": "https://localhost:8080/"
        },
        "id": "4rktDb8f9Cun",
        "outputId": "ab9f0163-a128-413e-9797-eceeae9556e8"
      },
      "execution_count": null,
      "outputs": [
        {
          "output_type": "execute_result",
          "data": {
            "text/plain": [
              "array([0, 2, 2, 2, 5, 5, 6, 6, 7, 8])"
            ]
          },
          "metadata": {},
          "execution_count": 419
        }
      ]
    },
    {
      "cell_type": "code",
      "metadata": {
        "colab": {
          "base_uri": "https://localhost:8080/"
        },
        "id": "XkaMKzBwD193",
        "outputId": "e20b7a40-bb7f-4307-d5ba-802775fdb01a"
      },
      "source": [
        "# returns the indexs of non-zero elements in the input array.\n",
        "np.nonzero (np.array([1,0,4,0,3]))"
      ],
      "execution_count": null,
      "outputs": [
        {
          "output_type": "execute_result",
          "data": {
            "text/plain": [
              "(array([0, 2, 4]),)"
            ]
          },
          "metadata": {},
          "execution_count": 422
        }
      ]
    },
    {
      "cell_type": "code",
      "source": [
        "# returns the count of non-zero elements in the input array.\n",
        "np.count_nonzero(np.array([1,0,4,0,3]))"
      ],
      "metadata": {
        "colab": {
          "base_uri": "https://localhost:8080/"
        },
        "id": "cYXWUGqDBEac",
        "outputId": "04f7af72-f138-4bc7-ea85-5cc15e70c2d6"
      },
      "execution_count": null,
      "outputs": [
        {
          "output_type": "execute_result",
          "data": {
            "text/plain": [
              "3"
            ]
          },
          "metadata": {},
          "execution_count": 424
        }
      ]
    },
    {
      "cell_type": "code",
      "metadata": {
        "colab": {
          "base_uri": "https://localhost:8080/"
        },
        "id": "xmZTT1mge4Ea",
        "outputId": "078867d0-3384-4f72-a2d4-4792d78043f1"
      },
      "source": [
        "a "
      ],
      "execution_count": null,
      "outputs": [
        {
          "output_type": "execute_result",
          "data": {
            "text/plain": [
              "array([5, 2, 6, 2, 7, 5, 6, 8, 2, 9])"
            ]
          },
          "metadata": {},
          "execution_count": 398
        }
      ]
    },
    {
      "cell_type": "code",
      "source": [
        "#Search at array and return index\n",
        "np.where(a == 2)"
      ],
      "metadata": {
        "colab": {
          "base_uri": "https://localhost:8080/"
        },
        "id": "aC5JJ-sL9R3x",
        "outputId": "77416269-1640-4d90-d67e-8eb4476ae444"
      },
      "execution_count": null,
      "outputs": [
        {
          "output_type": "execute_result",
          "data": {
            "text/plain": [
              "(array([1, 3, 8]),)"
            ]
          },
          "metadata": {},
          "execution_count": 399
        }
      ]
    },
    {
      "cell_type": "markdown",
      "metadata": {
        "id": "Q2nCQW4Ye4Ex"
      },
      "source": [
        "#  Indexing and Selection"
      ]
    },
    {
      "cell_type": "code",
      "metadata": {
        "colab": {
          "base_uri": "https://localhost:8080/"
        },
        "id": "QmXDSHLoe4FL",
        "outputId": "17c11c41-3930-4cf8-a21b-60843c5981ee"
      },
      "source": [
        "my_list_1 = [\n",
        "             [1,2,3,4,5,6,7,8],\n",
        "             [9,10,11,12,13,14,15,16]\n",
        "             ]\n",
        "d = np.array(my_list_1)\n",
        "d"
      ],
      "execution_count": null,
      "outputs": [
        {
          "output_type": "execute_result",
          "data": {
            "text/plain": [
              "array([[ 1,  2,  3,  4,  5,  6,  7,  8],\n",
              "       [ 9, 10, 11, 12, 13, 14, 15, 16]])"
            ]
          },
          "metadata": {},
          "execution_count": 46
        }
      ]
    },
    {
      "cell_type": "code",
      "metadata": {
        "colab": {
          "base_uri": "https://localhost:8080/"
        },
        "id": "kktIVyHge4Fc",
        "outputId": "3d1048d5-8f11-443a-cb48-737d7df57ada"
      },
      "source": [
        "# Get a specific element [--, --]\n",
        "d[0, 1]"
      ],
      "execution_count": null,
      "outputs": [
        {
          "output_type": "execute_result",
          "data": {
            "text/plain": [
              "2"
            ]
          },
          "metadata": {},
          "execution_count": 47
        }
      ]
    },
    {
      "cell_type": "code",
      "metadata": {
        "colab": {
          "base_uri": "https://localhost:8080/"
        },
        "id": "IWc72HCre4Fg",
        "outputId": "aaa6b9de-3ec9-4edd-c37f-1aa3018449aa"
      },
      "source": [
        "# Get a specific row or column\n",
        "d [1, :]"
      ],
      "execution_count": null,
      "outputs": [
        {
          "output_type": "execute_result",
          "data": {
            "text/plain": [
              "array([ 9, 10, 11, 12, 13, 14, 15, 16])"
            ]
          },
          "metadata": {},
          "execution_count": 48
        }
      ]
    },
    {
      "cell_type": "code",
      "metadata": {
        "colab": {
          "base_uri": "https://localhost:8080/"
        },
        "id": "9doq29L5EUit",
        "outputId": "e4773fd1-534a-4007-812c-d30ead544fa9"
      },
      "source": [
        "d[:,0]"
      ],
      "execution_count": null,
      "outputs": [
        {
          "output_type": "execute_result",
          "data": {
            "text/plain": [
              "array([1, 9])"
            ]
          },
          "metadata": {},
          "execution_count": 49
        }
      ]
    },
    {
      "cell_type": "code",
      "source": [
        "d"
      ],
      "metadata": {
        "colab": {
          "base_uri": "https://localhost:8080/"
        },
        "id": "hluQsAe_hARL",
        "outputId": "e0ada6a8-1cbf-430a-d45b-1287f3704b84"
      },
      "execution_count": null,
      "outputs": [
        {
          "output_type": "execute_result",
          "data": {
            "text/plain": [
              "array([[ 1,  2,  3,  4,  5,  6,  7,  8],\n",
              "       [ 9, 10, 11, 12, 13, 14, 15, 16]])"
            ]
          },
          "metadata": {},
          "execution_count": 50
        }
      ]
    },
    {
      "cell_type": "code",
      "metadata": {
        "colab": {
          "base_uri": "https://localhost:8080/"
        },
        "id": "vVyHKQ-Ve4Fk",
        "outputId": "2f359de7-9e41-4848-9745-eac282ee3dd1"
      },
      "source": [
        "# Getting a little more fancy [startindex:endindex:stepsize]\n",
        "d [0, 1:-1:2]"
      ],
      "execution_count": null,
      "outputs": [
        {
          "output_type": "execute_result",
          "data": {
            "text/plain": [
              "array([2, 4, 6])"
            ]
          },
          "metadata": {},
          "execution_count": 51
        }
      ]
    },
    {
      "cell_type": "code",
      "source": [
        "d"
      ],
      "metadata": {
        "colab": {
          "base_uri": "https://localhost:8080/"
        },
        "id": "LLXXmcFliJQ_",
        "outputId": "7e845bb9-88bb-41fd-fe13-6ac2ce1eed86"
      },
      "execution_count": null,
      "outputs": [
        {
          "output_type": "execute_result",
          "data": {
            "text/plain": [
              "array([[ 1,  2,  3,  4,  5,  6,  7,  8],\n",
              "       [ 9, 10, 11, 12, 13, 14, 15, 16]])"
            ]
          },
          "metadata": {},
          "execution_count": 52
        }
      ]
    },
    {
      "cell_type": "code",
      "metadata": {
        "colab": {
          "base_uri": "https://localhost:8080/"
        },
        "id": "xnFTC0t6e4Fy",
        "outputId": "87f154df-3d3a-436f-ca5d-359ee381f2e0"
      },
      "source": [
        "# Replace items\n",
        "d [1,5] = 20\n",
        "d [:,1] = [1,2]\n",
        "d"
      ],
      "execution_count": null,
      "outputs": [
        {
          "output_type": "execute_result",
          "data": {
            "text/plain": [
              "array([[ 1,  1,  3,  4,  5,  6,  7,  8],\n",
              "       [ 9,  2, 11, 12, 13, 20, 15, 16]])"
            ]
          },
          "metadata": {},
          "execution_count": 53
        }
      ]
    },
    {
      "cell_type": "code",
      "source": [
        "#Broadcasting\n",
        "d[:,2:5] = 1\n",
        "d"
      ],
      "metadata": {
        "colab": {
          "base_uri": "https://localhost:8080/"
        },
        "id": "kyzBqwpr2Ngc",
        "outputId": "19b0b9b6-a76b-4003-9e27-e53872028719"
      },
      "execution_count": null,
      "outputs": [
        {
          "output_type": "execute_result",
          "data": {
            "text/plain": [
              "array([[ 1,  1,  1,  1,  1,  6,  7,  8],\n",
              "       [ 9,  2,  1,  1,  1, 20, 15, 16]])"
            ]
          },
          "metadata": {},
          "execution_count": 57
        }
      ]
    },
    {
      "cell_type": "code",
      "metadata": {
        "colab": {
          "base_uri": "https://localhost:8080/"
        },
        "id": "B8gn7CSSSSxy",
        "outputId": "e2b9c96d-7353-47f3-9a48-0e1256f6f60c"
      },
      "source": [
        "mat = np.arange(1,26).reshape(5,5)\n",
        "mat\n"
      ],
      "execution_count": null,
      "outputs": [
        {
          "output_type": "execute_result",
          "data": {
            "text/plain": [
              "array([[ 1,  2,  3,  4,  5],\n",
              "       [ 6,  7,  8,  9, 10],\n",
              "       [11, 12, 13, 14, 15],\n",
              "       [16, 17, 18, 19, 20],\n",
              "       [21, 22, 23, 24, 25]])"
            ]
          },
          "metadata": {},
          "execution_count": 263
        }
      ]
    },
    {
      "cell_type": "code",
      "metadata": {
        "colab": {
          "base_uri": "https://localhost:8080/"
        },
        "id": "rO6dzXKXSUg-",
        "outputId": "c745467d-1bc3-41ff-9acc-221e37d206f9"
      },
      "source": [
        "mat[[2,3,4],1:]"
      ],
      "execution_count": null,
      "outputs": [
        {
          "output_type": "execute_result",
          "data": {
            "text/plain": [
              "array([[12, 13, 14, 15],\n",
              "       [17, 18, 19, 20],\n",
              "       [22, 23, 24, 25]])"
            ]
          },
          "metadata": {},
          "execution_count": 264
        }
      ]
    },
    {
      "cell_type": "code",
      "metadata": {
        "colab": {
          "base_uri": "https://localhost:8080/"
        },
        "id": "m-TvwN1OSbgZ",
        "outputId": "afa58c34-44b0-4d1b-fb1f-550ce41ac73e"
      },
      "source": [
        "mat[3,4]"
      ],
      "execution_count": null,
      "outputs": [
        {
          "output_type": "execute_result",
          "data": {
            "text/plain": [
              "20"
            ]
          },
          "metadata": {},
          "execution_count": 265
        }
      ]
    },
    {
      "cell_type": "code",
      "metadata": {
        "colab": {
          "base_uri": "https://localhost:8080/"
        },
        "id": "c3A2m9eQSk5C",
        "outputId": "b59aafe8-05f1-4260-f48a-e1eea4c92c18"
      },
      "source": [
        "mat[4:,:]"
      ],
      "execution_count": null,
      "outputs": [
        {
          "output_type": "execute_result",
          "data": {
            "text/plain": [
              "array([[21, 22, 23, 24, 25]])"
            ]
          },
          "metadata": {},
          "execution_count": 266
        }
      ]
    },
    {
      "cell_type": "code",
      "metadata": {
        "colab": {
          "base_uri": "https://localhost:8080/"
        },
        "id": "hl5tEXwuImHX",
        "outputId": "77c9cac0-d00a-48b6-d874-ebca9df11d43"
      },
      "source": [
        "arr = np.arange(1,10)\n",
        "arr"
      ],
      "execution_count": null,
      "outputs": [
        {
          "output_type": "execute_result",
          "data": {
            "text/plain": [
              "array([1, 2, 3, 4, 5, 6, 7, 8, 9])"
            ]
          },
          "metadata": {},
          "execution_count": 267
        }
      ]
    },
    {
      "cell_type": "code",
      "metadata": {
        "colab": {
          "base_uri": "https://localhost:8080/"
        },
        "id": "NsgS2icLI6jg",
        "outputId": "fa73bd4a-9776-4970-8963-a8e175160d91"
      },
      "source": [
        "arr >= 5"
      ],
      "execution_count": null,
      "outputs": [
        {
          "output_type": "execute_result",
          "data": {
            "text/plain": [
              "array([False, False, False, False,  True,  True,  True,  True,  True])"
            ]
          },
          "metadata": {},
          "execution_count": 268
        }
      ]
    },
    {
      "cell_type": "code",
      "metadata": {
        "id": "hjm0n3SXI34z",
        "colab": {
          "base_uri": "https://localhost:8080/"
        },
        "outputId": "adda3cad-dc8e-42aa-80e7-f1b7ac19abc4"
      },
      "source": [
        "arr[arr >= 5]"
      ],
      "execution_count": null,
      "outputs": [
        {
          "output_type": "execute_result",
          "data": {
            "text/plain": [
              "array([5, 6, 7, 8, 9])"
            ]
          },
          "metadata": {},
          "execution_count": 269
        }
      ]
    },
    {
      "cell_type": "code",
      "metadata": {
        "colab": {
          "base_uri": "https://localhost:8080/"
        },
        "id": "cA3KMPcyJG2d",
        "outputId": "ad356e25-dff5-4cb7-d645-58995e107b1b"
      },
      "source": [
        "arr[arr %2==0]"
      ],
      "execution_count": null,
      "outputs": [
        {
          "output_type": "execute_result",
          "data": {
            "text/plain": [
              "array([2, 4, 6, 8])"
            ]
          },
          "metadata": {},
          "execution_count": 270
        }
      ]
    },
    {
      "cell_type": "code",
      "source": [
        "arr[arr %2!=0]"
      ],
      "metadata": {
        "colab": {
          "base_uri": "https://localhost:8080/"
        },
        "id": "TgZ6dg123D11",
        "outputId": "7393bf73-a3cd-4a74-dbcc-c30bfe128961"
      },
      "execution_count": null,
      "outputs": [
        {
          "output_type": "execute_result",
          "data": {
            "text/plain": [
              "array([1, 3, 5, 7, 9])"
            ]
          },
          "metadata": {},
          "execution_count": 271
        }
      ]
    },
    {
      "cell_type": "markdown",
      "metadata": {
        "id": "edl3nolre4Gv"
      },
      "source": [
        "# Statistics"
      ]
    },
    {
      "cell_type": "code",
      "metadata": {
        "colab": {
          "base_uri": "https://localhost:8080/"
        },
        "id": "OqIG52QRe4G0",
        "outputId": "0dc95bf7-8ecf-4a7d-bc54-263be867d27d"
      },
      "source": [
        "matrix = np.random.randint(0, 100, (5, 3))\n",
        "matrix"
      ],
      "execution_count": null,
      "outputs": [
        {
          "output_type": "execute_result",
          "data": {
            "text/plain": [
              "array([[ 4, 56, 18],\n",
              "       [46,  9,  6],\n",
              "       [ 2,  1, 13],\n",
              "       [ 5, 35, 40],\n",
              "       [84, 82, 52]])"
            ]
          },
          "metadata": {},
          "execution_count": 61
        }
      ]
    },
    {
      "cell_type": "code",
      "source": [
        "matrix.max()"
      ],
      "metadata": {
        "colab": {
          "base_uri": "https://localhost:8080/"
        },
        "id": "eX88SSwekV_U",
        "outputId": "9872749b-8b12-41cc-9916-05cb226d2265"
      },
      "execution_count": null,
      "outputs": [
        {
          "output_type": "execute_result",
          "data": {
            "text/plain": [
              "84"
            ]
          },
          "metadata": {},
          "execution_count": 62
        }
      ]
    },
    {
      "cell_type": "code",
      "metadata": {
        "colab": {
          "base_uri": "https://localhost:8080/"
        },
        "id": "uMGH_NxP2J-Y",
        "outputId": "a4ffded1-2e4a-4c9e-c409-a7ad49ffdf6f"
      },
      "source": [
        "np.max(matrix)"
      ],
      "execution_count": null,
      "outputs": [
        {
          "output_type": "execute_result",
          "data": {
            "text/plain": [
              "84"
            ]
          },
          "metadata": {},
          "execution_count": 63
        }
      ]
    },
    {
      "cell_type": "code",
      "metadata": {
        "colab": {
          "base_uri": "https://localhost:8080/"
        },
        "id": "xkLWj1Nv2N6Y",
        "outputId": "8f8c70bb-4b73-46cf-e53e-df7c4c44ee57"
      },
      "source": [
        "#Max in each column\n",
        "np.max(matrix, axis=0)"
      ],
      "execution_count": null,
      "outputs": [
        {
          "output_type": "execute_result",
          "data": {
            "text/plain": [
              "array([84, 82, 52])"
            ]
          },
          "metadata": {},
          "execution_count": 64
        }
      ]
    },
    {
      "cell_type": "code",
      "metadata": {
        "colab": {
          "base_uri": "https://localhost:8080/"
        },
        "id": "EHOHTKiI2SFT",
        "outputId": "af57106a-5561-4adf-e202-091f484b65b9"
      },
      "source": [
        "#Max in each row\n",
        "np.max(matrix, axis=1)"
      ],
      "execution_count": null,
      "outputs": [
        {
          "output_type": "execute_result",
          "data": {
            "text/plain": [
              "array([56, 46, 13, 40, 84])"
            ]
          },
          "metadata": {},
          "execution_count": 65
        }
      ]
    },
    {
      "cell_type": "code",
      "metadata": {
        "colab": {
          "base_uri": "https://localhost:8080/"
        },
        "id": "xS_lPTHee4G5",
        "outputId": "c317f9f0-1e20-4e31-a383-a669e37f661b"
      },
      "source": [
        "np.min(matrix)"
      ],
      "execution_count": null,
      "outputs": [
        {
          "output_type": "execute_result",
          "data": {
            "text/plain": [
              "1"
            ]
          },
          "metadata": {},
          "execution_count": 66
        }
      ]
    },
    {
      "cell_type": "code",
      "metadata": {
        "colab": {
          "base_uri": "https://localhost:8080/"
        },
        "id": "57CMDrAHe4HM",
        "outputId": "bf5801da-1cc9-4401-99ce-db910ae765f3"
      },
      "source": [
        "np.min(matrix, axis=1)"
      ],
      "execution_count": null,
      "outputs": [
        {
          "output_type": "execute_result",
          "data": {
            "text/plain": [
              "array([ 4,  6,  1,  5, 52])"
            ]
          },
          "metadata": {},
          "execution_count": 67
        }
      ]
    },
    {
      "cell_type": "code",
      "metadata": {
        "colab": {
          "base_uri": "https://localhost:8080/"
        },
        "id": "ARM40t302cfs",
        "outputId": "6b267d1a-e465-4898-d101-7c399890d3fc"
      },
      "source": [
        "np.min(matrix, axis=0)"
      ],
      "execution_count": null,
      "outputs": [
        {
          "output_type": "execute_result",
          "data": {
            "text/plain": [
              "array([2, 1, 6])"
            ]
          },
          "metadata": {},
          "execution_count": 68
        }
      ]
    },
    {
      "cell_type": "code",
      "metadata": {
        "colab": {
          "base_uri": "https://localhost:8080/"
        },
        "id": "XwJDGrHre4HQ",
        "outputId": "6d0272b2-8dde-4ff9-ff08-3f8c58e863e7"
      },
      "source": [
        "w = np.array([30,40,70,80,20,10,50,90,60])\n",
        "w"
      ],
      "execution_count": null,
      "outputs": [
        {
          "output_type": "execute_result",
          "data": {
            "text/plain": [
              "array([30, 40, 70, 80, 20, 10, 50, 90, 60])"
            ]
          },
          "metadata": {},
          "execution_count": 69
        }
      ]
    },
    {
      "cell_type": "code",
      "source": [
        "np.argmax(w)"
      ],
      "metadata": {
        "colab": {
          "base_uri": "https://localhost:8080/"
        },
        "id": "FCR9zBQ75dqB",
        "outputId": "1af2609b-52d0-4568-f1db-93b6355406a0"
      },
      "execution_count": null,
      "outputs": [
        {
          "output_type": "execute_result",
          "data": {
            "text/plain": [
              "7"
            ]
          },
          "metadata": {},
          "execution_count": 70
        }
      ]
    },
    {
      "cell_type": "code",
      "metadata": {
        "colab": {
          "base_uri": "https://localhost:8080/"
        },
        "id": "a4zCz5YbFxAu",
        "outputId": "ced21c46-d785-4f55-c15d-24fb9ece8951"
      },
      "source": [
        "np.max(w)"
      ],
      "execution_count": null,
      "outputs": [
        {
          "output_type": "execute_result",
          "data": {
            "text/plain": [
              "90"
            ]
          },
          "metadata": {},
          "execution_count": 71
        }
      ]
    },
    {
      "cell_type": "code",
      "metadata": {
        "colab": {
          "base_uri": "https://localhost:8080/"
        },
        "id": "IqtYQUfE3_RU",
        "outputId": "f9cf2711-d0ae-4106-9e3b-83e79634e68a"
      },
      "source": [
        "np.argmin(w)"
      ],
      "execution_count": null,
      "outputs": [
        {
          "output_type": "execute_result",
          "data": {
            "text/plain": [
              "5"
            ]
          },
          "metadata": {},
          "execution_count": 72
        }
      ]
    },
    {
      "cell_type": "code",
      "metadata": {
        "colab": {
          "base_uri": "https://localhost:8080/"
        },
        "id": "rj4rG1lxF2-t",
        "outputId": "c648df3f-0759-4722-e811-4b3abddef152"
      },
      "source": [
        "np.min(w)"
      ],
      "execution_count": null,
      "outputs": [
        {
          "output_type": "execute_result",
          "data": {
            "text/plain": [
              "10"
            ]
          },
          "metadata": {},
          "execution_count": 73
        }
      ]
    },
    {
      "cell_type": "code",
      "metadata": {
        "colab": {
          "base_uri": "https://localhost:8080/"
        },
        "id": "bMXVyxrge4HV",
        "outputId": "989b185a-911a-4423-ff36-d94cc00417b2"
      },
      "source": [
        "#Percentile is a measure used in statistics indicating the value below which a given percentage of observations in a group of observations fall.\n",
        "my_list_1 = [[1,2,3],[4,5,6],[7,8,9]]\n",
        "b = np.array(my_list_1)\n",
        "b"
      ],
      "execution_count": null,
      "outputs": [
        {
          "output_type": "execute_result",
          "data": {
            "text/plain": [
              "array([[1, 2, 3],\n",
              "       [4, 5, 6],\n",
              "       [7, 8, 9]])"
            ]
          },
          "metadata": {},
          "execution_count": 74
        }
      ]
    },
    {
      "cell_type": "code",
      "metadata": {
        "colab": {
          "base_uri": "https://localhost:8080/"
        },
        "id": "YrblLy1ae4Hn",
        "outputId": "748a49d0-9ae0-415e-f52b-1fc92650b29f"
      },
      "source": [
        "my_list_1 = [[1,2,3],[4,5,6],[7,8,9]]\n",
        "b = np.array(my_list_1)\n",
        "np.median(b)"
      ],
      "execution_count": null,
      "outputs": [
        {
          "output_type": "execute_result",
          "data": {
            "text/plain": [
              "5.0"
            ]
          },
          "metadata": {},
          "execution_count": 75
        }
      ]
    },
    {
      "cell_type": "code",
      "metadata": {
        "colab": {
          "base_uri": "https://localhost:8080/"
        },
        "id": "1hhEw0hPe4Hr",
        "outputId": "49790b9d-a397-4dce-d7ae-9f82ed71741e"
      },
      "source": [
        "my_list_1 = [[1,2,3],[4,5,6],[7,8,9]]\n",
        "b = np.array(my_list_1)\n",
        "np.mean(b)"
      ],
      "execution_count": null,
      "outputs": [
        {
          "output_type": "execute_result",
          "data": {
            "text/plain": [
              "5.0"
            ]
          },
          "metadata": {},
          "execution_count": 76
        }
      ]
    },
    {
      "cell_type": "code",
      "metadata": {
        "colab": {
          "base_uri": "https://localhost:8080/"
        },
        "id": "mGssYkk1e4Hv",
        "outputId": "339efe8e-5929-4a0c-f666-ce96b15492e7"
      },
      "source": [
        "my_list_1 = [[1,2,3],[4,5,6],[7,8,9]]\n",
        "b = np.array(my_list_1)\n",
        "np.average(b)"
      ],
      "execution_count": null,
      "outputs": [
        {
          "output_type": "execute_result",
          "data": {
            "text/plain": [
              "5.0"
            ]
          },
          "metadata": {},
          "execution_count": 77
        }
      ]
    },
    {
      "cell_type": "code",
      "metadata": {
        "colab": {
          "base_uri": "https://localhost:8080/"
        },
        "id": "jyq0efX6e4IU",
        "outputId": "9d660ad9-9eeb-466e-c29e-ff47f667158b"
      },
      "source": [
        "# std is the square root of the average squared deviations from mean.\n",
        "my_list = [1,2,3,4,5]\n",
        "a = np.array(my_list)\n",
        "np.std(a)"
      ],
      "execution_count": null,
      "outputs": [
        {
          "output_type": "execute_result",
          "data": {
            "text/plain": [
              "1.4142135623730951"
            ]
          },
          "metadata": {},
          "execution_count": 78
        }
      ]
    },
    {
      "cell_type": "code",
      "metadata": {
        "colab": {
          "base_uri": "https://localhost:8080/"
        },
        "id": "VT_o8iEWe4IY",
        "outputId": "f8076777-8e3d-4fff-a409-296762006523"
      },
      "source": [
        "#Variance is the average of squared deviations\n",
        "my_list = [1,2,3,4,5]\n",
        "a = np.array(my_list)\n",
        "np.var(a)"
      ],
      "execution_count": null,
      "outputs": [
        {
          "output_type": "execute_result",
          "data": {
            "text/plain": [
              "2.0"
            ]
          },
          "metadata": {},
          "execution_count": 79
        }
      ]
    },
    {
      "cell_type": "code",
      "metadata": {
        "colab": {
          "base_uri": "https://localhost:8080/"
        },
        "id": "AtYseGmse4Ie",
        "outputId": "c2c6ce30-8bca-4997-d4ae-9cb22e245ed3"
      },
      "source": [
        "my_list = [1,2,3,4,5]\n",
        "a = np.array(my_list)\n",
        "np.cov(a)"
      ],
      "execution_count": null,
      "outputs": [
        {
          "output_type": "execute_result",
          "data": {
            "text/plain": [
              "array(2.5)"
            ]
          },
          "metadata": {},
          "execution_count": 80
        }
      ]
    },
    {
      "cell_type": "markdown",
      "metadata": {
        "id": "46Vqgn5Ne4Ir"
      },
      "source": [
        "# Mathematical Functions"
      ]
    },
    {
      "cell_type": "code",
      "source": [
        "np.sin(30)"
      ],
      "metadata": {
        "colab": {
          "base_uri": "https://localhost:8080/"
        },
        "id": "WyJsKDz2k3WA",
        "outputId": "da248560-a90c-47ab-ba35-eb01de391fc7"
      },
      "execution_count": null,
      "outputs": [
        {
          "output_type": "execute_result",
          "data": {
            "text/plain": [
              "-0.9880316240928618"
            ]
          },
          "metadata": {},
          "execution_count": 81
        }
      ]
    },
    {
      "cell_type": "code",
      "metadata": {
        "colab": {
          "base_uri": "https://localhost:8080/"
        },
        "id": "ZDQ65tAve4Iu",
        "outputId": "7e54df48-ee02-49d4-bca5-f3882f4400b1"
      },
      "source": [
        "angles_arr = np.array([30,45,60])\n",
        "np.sin(angles_arr*np.pi/180)"
      ],
      "execution_count": null,
      "outputs": [
        {
          "output_type": "execute_result",
          "data": {
            "text/plain": [
              "array([0.5       , 0.70710678, 0.8660254 ])"
            ]
          },
          "metadata": {},
          "execution_count": 401
        }
      ]
    },
    {
      "cell_type": "code",
      "metadata": {
        "colab": {
          "base_uri": "https://localhost:8080/"
        },
        "id": "D-89ZSVGe4Iz",
        "outputId": "cb5838aa-f3dc-4e4a-c389-8a86623395a2"
      },
      "source": [
        "np.cos(angles_arr*np.pi/180)"
      ],
      "execution_count": null,
      "outputs": [
        {
          "output_type": "execute_result",
          "data": {
            "text/plain": [
              "array([0.8660254 , 0.70710678, 0.5       ])"
            ]
          },
          "metadata": {},
          "execution_count": 291
        }
      ]
    },
    {
      "cell_type": "code",
      "metadata": {
        "colab": {
          "base_uri": "https://localhost:8080/"
        },
        "id": "SCOViGAee4I3",
        "outputId": "0d2987fe-d1bf-4081-aa12-649188d5f6ac"
      },
      "source": [
        "np.tan(angles_arr*np.pi/180)"
      ],
      "execution_count": null,
      "outputs": [
        {
          "output_type": "execute_result",
          "data": {
            "text/plain": [
              "array([0.57735027, 1.        , 1.73205081])"
            ]
          },
          "metadata": {},
          "execution_count": 292
        }
      ]
    },
    {
      "cell_type": "code",
      "metadata": {
        "id": "7yZ7ubYeJo8q",
        "colab": {
          "base_uri": "https://localhost:8080/"
        },
        "outputId": "4a33c67d-059e-4994-86ce-4fe2ecf066fd"
      },
      "source": [
        "z =np.array([\n",
        "             [9,4,25,36],\n",
        "             [4,12,4,5]\n",
        "             ])\n",
        "z"
      ],
      "execution_count": null,
      "outputs": [
        {
          "output_type": "execute_result",
          "data": {
            "text/plain": [
              "array([[ 9,  4, 25, 36],\n",
              "       [ 4, 12,  4,  5]])"
            ]
          },
          "metadata": {},
          "execution_count": 293
        }
      ]
    },
    {
      "cell_type": "code",
      "metadata": {
        "colab": {
          "base_uri": "https://localhost:8080/"
        },
        "id": "SVNsIVxQe4I_",
        "outputId": "1b82793b-7a9e-4113-d310-4f17eb2429a7"
      },
      "source": [
        "np.log(z)"
      ],
      "execution_count": null,
      "outputs": [
        {
          "output_type": "execute_result",
          "data": {
            "text/plain": [
              "array([[2.19722458, 1.38629436, 3.21887582, 3.58351894],\n",
              "       [1.38629436, 2.48490665, 1.38629436, 1.60943791]])"
            ]
          },
          "metadata": {},
          "execution_count": 294
        }
      ]
    },
    {
      "cell_type": "code",
      "metadata": {
        "colab": {
          "base_uri": "https://localhost:8080/"
        },
        "id": "fRv581uye4JI",
        "outputId": "46ba266b-3850-47b1-a907-38676b425282"
      },
      "source": [
        "np.sqrt(z)"
      ],
      "execution_count": null,
      "outputs": [
        {
          "output_type": "execute_result",
          "data": {
            "text/plain": [
              "array([[3.        , 2.        , 5.        , 6.        ],\n",
              "       [2.        , 3.46410162, 2.        , 2.23606798]])"
            ]
          },
          "metadata": {},
          "execution_count": 295
        }
      ]
    },
    {
      "cell_type": "code",
      "metadata": {
        "colab": {
          "base_uri": "https://localhost:8080/"
        },
        "id": "5kwiMz-we4JN",
        "outputId": "cce3548d-1fea-4a20-eed4-5b81991760a0"
      },
      "source": [
        "np.exp(z)"
      ],
      "execution_count": null,
      "outputs": [
        {
          "output_type": "execute_result",
          "data": {
            "text/plain": [
              "array([[8.10308393e+03, 5.45981500e+01, 7.20048993e+10, 4.31123155e+15],\n",
              "       [5.45981500e+01, 1.62754791e+05, 5.45981500e+01, 1.48413159e+02]])"
            ]
          },
          "metadata": {},
          "execution_count": 296
        }
      ]
    },
    {
      "cell_type": "code",
      "source": [
        "np.log(z)"
      ],
      "metadata": {
        "colab": {
          "base_uri": "https://localhost:8080/"
        },
        "id": "t6cvoVKV_uFE",
        "outputId": "189eb60c-ce28-4c27-aedd-d11571934dd6"
      },
      "execution_count": null,
      "outputs": [
        {
          "output_type": "execute_result",
          "data": {
            "text/plain": [
              "array([[2.19722458, 1.38629436, 3.21887582, 3.58351894],\n",
              "       [1.38629436, 2.48490665, 1.38629436, 1.60943791]])"
            ]
          },
          "metadata": {},
          "execution_count": 297
        }
      ]
    },
    {
      "cell_type": "code",
      "source": [
        "z"
      ],
      "metadata": {
        "colab": {
          "base_uri": "https://localhost:8080/"
        },
        "id": "l8MwzDce-olU",
        "outputId": "ed47000f-4af4-4ca3-9c2c-76d3a7fe5051"
      },
      "execution_count": null,
      "outputs": [
        {
          "output_type": "execute_result",
          "data": {
            "text/plain": [
              "array([[ 9,  4, 25, 36],\n",
              "       [ 4, 12,  4,  5]])"
            ]
          },
          "metadata": {},
          "execution_count": 402
        }
      ]
    },
    {
      "cell_type": "code",
      "source": [
        "np.sum(z)"
      ],
      "metadata": {
        "colab": {
          "base_uri": "https://localhost:8080/"
        },
        "id": "bT04vGgB-bSq",
        "outputId": "d0a929c5-5ee8-4e8e-cb58-4745575cc75e"
      },
      "execution_count": null,
      "outputs": [
        {
          "output_type": "execute_result",
          "data": {
            "text/plain": [
              "99"
            ]
          },
          "metadata": {},
          "execution_count": 298
        }
      ]
    },
    {
      "cell_type": "code",
      "source": [
        "#Summing of rows\n",
        "np.sum(z,axis=1)"
      ],
      "metadata": {
        "colab": {
          "base_uri": "https://localhost:8080/"
        },
        "id": "vUXhVUMP-z7d",
        "outputId": "62d6e994-64c3-49ef-caf9-79cb69d8c866"
      },
      "execution_count": null,
      "outputs": [
        {
          "output_type": "execute_result",
          "data": {
            "text/plain": [
              "array([74, 25])"
            ]
          },
          "metadata": {},
          "execution_count": 299
        }
      ]
    },
    {
      "cell_type": "code",
      "source": [
        "#Summing of columns\n",
        "np.sum(z,axis=0)"
      ],
      "metadata": {
        "colab": {
          "base_uri": "https://localhost:8080/"
        },
        "id": "kEOC12DB-tq7",
        "outputId": "47055899-21b8-477c-984b-22021643fdf6"
      },
      "execution_count": null,
      "outputs": [
        {
          "output_type": "execute_result",
          "data": {
            "text/plain": [
              "array([13, 16, 29, 41])"
            ]
          },
          "metadata": {},
          "execution_count": 403
        }
      ]
    },
    {
      "cell_type": "code",
      "source": [
        "#Powering\n",
        "np.power(z,3)"
      ],
      "metadata": {
        "colab": {
          "base_uri": "https://localhost:8080/"
        },
        "id": "mUIze3YI-61-",
        "outputId": "3f93f43b-6481-4d16-fca8-fd7f671dcf62"
      },
      "execution_count": null,
      "outputs": [
        {
          "output_type": "execute_result",
          "data": {
            "text/plain": [
              "array([[  729,    64, 15625, 46656],\n",
              "       [   64,  1728,    64,   125]])"
            ]
          },
          "metadata": {},
          "execution_count": 300
        }
      ]
    },
    {
      "cell_type": "code",
      "source": [
        "np.power(z,2)"
      ],
      "metadata": {
        "colab": {
          "base_uri": "https://localhost:8080/"
        },
        "id": "DbwOCEjd_lzF",
        "outputId": "e6f3e03c-0e75-47e6-c684-99444706bc70"
      },
      "execution_count": null,
      "outputs": [
        {
          "output_type": "execute_result",
          "data": {
            "text/plain": [
              "array([[  81,   16,  625, 1296],\n",
              "       [  16,  144,   16,   25]])"
            ]
          },
          "metadata": {},
          "execution_count": 301
        }
      ]
    },
    {
      "cell_type": "markdown",
      "metadata": {
        "id": "alY4NosSe4JX"
      },
      "source": [
        "#  Arithmetic Operations and  Linear Algebra"
      ]
    },
    {
      "cell_type": "code",
      "metadata": {
        "colab": {
          "base_uri": "https://localhost:8080/"
        },
        "id": "u_yDVrhVe4Ja",
        "outputId": "32eb54be-ab59-4b36-aaba-a08afba97aa7"
      },
      "source": [
        "fr_matrix = np.array([[3,1,4],[5,6,2]])\n",
        "sec_matrix = np.array([[23,2,5],[4,8,11]])\n",
        "fr_matrix"
      ],
      "execution_count": null,
      "outputs": [
        {
          "output_type": "execute_result",
          "data": {
            "text/plain": [
              "array([[3, 1, 4],\n",
              "       [5, 6, 2]])"
            ]
          },
          "metadata": {},
          "execution_count": 82
        }
      ]
    },
    {
      "cell_type": "code",
      "metadata": {
        "colab": {
          "base_uri": "https://localhost:8080/"
        },
        "id": "hIjEUH9zKTzg",
        "outputId": "ac191704-5e68-4c90-ba76-8ccb28b65b40"
      },
      "source": [
        "sec_matrix"
      ],
      "execution_count": null,
      "outputs": [
        {
          "output_type": "execute_result",
          "data": {
            "text/plain": [
              "array([[23,  2,  5],\n",
              "       [ 4,  8, 11]])"
            ]
          },
          "metadata": {},
          "execution_count": 83
        }
      ]
    },
    {
      "cell_type": "code",
      "metadata": {
        "colab": {
          "base_uri": "https://localhost:8080/"
        },
        "id": "T6Ycyp6EK_bf",
        "outputId": "5648c2bf-5794-4dd9-96cc-1f1fcec5cb87"
      },
      "source": [
        "sec_matrix*2"
      ],
      "execution_count": null,
      "outputs": [
        {
          "output_type": "execute_result",
          "data": {
            "text/plain": [
              "array([[46,  4, 10],\n",
              "       [ 8, 16, 22]])"
            ]
          },
          "metadata": {},
          "execution_count": 84
        }
      ]
    },
    {
      "cell_type": "code",
      "metadata": {
        "colab": {
          "base_uri": "https://localhost:8080/"
        },
        "id": "1LwwNjS1Kt1L",
        "outputId": "2479a0aa-f16f-4b47-b031-1c2d49fc761e"
      },
      "source": [
        "sec_matrix**2"
      ],
      "execution_count": null,
      "outputs": [
        {
          "output_type": "execute_result",
          "data": {
            "text/plain": [
              "array([[529,   4,  25],\n",
              "       [ 16,  64, 121]])"
            ]
          },
          "metadata": {},
          "execution_count": 85
        }
      ]
    },
    {
      "cell_type": "code",
      "metadata": {
        "colab": {
          "base_uri": "https://localhost:8080/"
        },
        "id": "6oSnKVg3LF_Y",
        "outputId": "9d9ae6d9-4566-4d30-beec-e844dbec3a4d"
      },
      "source": [
        "fr_matrix /2"
      ],
      "execution_count": null,
      "outputs": [
        {
          "output_type": "execute_result",
          "data": {
            "text/plain": [
              "array([[1.5, 0.5, 2. ],\n",
              "       [2.5, 3. , 1. ]])"
            ]
          },
          "metadata": {},
          "execution_count": 86
        }
      ]
    },
    {
      "cell_type": "code",
      "metadata": {
        "colab": {
          "base_uri": "https://localhost:8080/"
        },
        "id": "a4GovkP3Ks0_",
        "outputId": "00a644ef-35d9-4183-c5a5-f2612a02aeb6"
      },
      "source": [
        "fr_matrix //2"
      ],
      "execution_count": null,
      "outputs": [
        {
          "output_type": "execute_result",
          "data": {
            "text/plain": [
              "array([[1, 0, 2],\n",
              "       [2, 3, 1]])"
            ]
          },
          "metadata": {},
          "execution_count": 87
        }
      ]
    },
    {
      "cell_type": "code",
      "metadata": {
        "colab": {
          "base_uri": "https://localhost:8080/"
        },
        "id": "gwEkDY2je4Je",
        "outputId": "184a432d-ca4e-4bc4-bbab-36621da753c8"
      },
      "source": [
        "np.add(fr_matrix,sec_matrix)"
      ],
      "execution_count": null,
      "outputs": [
        {
          "output_type": "execute_result",
          "data": {
            "text/plain": [
              "array([[26,  3,  9],\n",
              "       [ 9, 14, 13]])"
            ]
          },
          "metadata": {},
          "execution_count": 88
        }
      ]
    },
    {
      "cell_type": "code",
      "source": [
        "fr_matrix + sec_matrix"
      ],
      "metadata": {
        "colab": {
          "base_uri": "https://localhost:8080/"
        },
        "id": "6BIntNWDmRhN",
        "outputId": "1f4179f7-fd7b-45fd-835a-397ca37bdeb4"
      },
      "execution_count": null,
      "outputs": [
        {
          "output_type": "execute_result",
          "data": {
            "text/plain": [
              "array([[26,  3,  9],\n",
              "       [ 9, 14, 13]])"
            ]
          },
          "metadata": {},
          "execution_count": 89
        }
      ]
    },
    {
      "cell_type": "code",
      "metadata": {
        "colab": {
          "base_uri": "https://localhost:8080/"
        },
        "id": "gamVOoaSe4Jj",
        "outputId": "be8f85e6-baf2-4306-ed76-6ab52b89e0ec"
      },
      "source": [
        "np.subtract(fr_matrix,sec_matrix)"
      ],
      "execution_count": null,
      "outputs": [
        {
          "output_type": "execute_result",
          "data": {
            "text/plain": [
              "array([[-20,  -1,  -1],\n",
              "       [  1,  -2,  -9]])"
            ]
          },
          "metadata": {},
          "execution_count": 309
        }
      ]
    },
    {
      "cell_type": "code",
      "source": [
        "fr_matrix"
      ],
      "metadata": {
        "id": "PvJoEnFAm_A_",
        "outputId": "65379d94-61fd-4b8f-fd54-6d0db5a04f07",
        "colab": {
          "base_uri": "https://localhost:8080/"
        }
      },
      "execution_count": null,
      "outputs": [
        {
          "output_type": "execute_result",
          "data": {
            "text/plain": [
              "array([[3, 1, 4],\n",
              "       [5, 6, 2]])"
            ]
          },
          "metadata": {},
          "execution_count": 90
        }
      ]
    },
    {
      "cell_type": "code",
      "source": [
        "sec_matrix"
      ],
      "metadata": {
        "id": "z7NtQVt6nA4H",
        "outputId": "f7736fdb-6649-43f7-f99f-fde581246743",
        "colab": {
          "base_uri": "https://localhost:8080/"
        }
      },
      "execution_count": null,
      "outputs": [
        {
          "output_type": "execute_result",
          "data": {
            "text/plain": [
              "array([[23,  2,  5],\n",
              "       [ 4,  8, 11]])"
            ]
          },
          "metadata": {},
          "execution_count": 91
        }
      ]
    },
    {
      "cell_type": "code",
      "metadata": {
        "colab": {
          "base_uri": "https://localhost:8080/"
        },
        "id": "pVtr9cYDe4Js",
        "outputId": "e634879a-7708-4cf2-a0e1-f683edab21da"
      },
      "source": [
        "np.multiply(fr_matrix,sec_matrix)"
      ],
      "execution_count": null,
      "outputs": [
        {
          "output_type": "execute_result",
          "data": {
            "text/plain": [
              "array([[69,  2, 20],\n",
              "       [20, 48, 22]])"
            ]
          },
          "metadata": {},
          "execution_count": 310
        }
      ]
    },
    {
      "cell_type": "code",
      "metadata": {
        "colab": {
          "base_uri": "https://localhost:8080/"
        },
        "id": "-zK6c2mye4Jw",
        "outputId": "04649c91-2edc-456d-cdf9-7a81675ffab3"
      },
      "source": [
        "np.divide(fr_matrix,sec_matrix)"
      ],
      "execution_count": null,
      "outputs": [
        {
          "output_type": "execute_result",
          "data": {
            "text/plain": [
              "array([[0.13043478, 0.5       , 0.8       ],\n",
              "       [1.25      , 0.75      , 0.18181818]])"
            ]
          },
          "metadata": {},
          "execution_count": 311
        }
      ]
    },
    {
      "cell_type": "code",
      "metadata": {
        "colab": {
          "base_uri": "https://localhost:8080/"
        },
        "id": "nACmYXD7e4LI",
        "outputId": "034c5d29-55c6-4c51-8cf3-b074365c9a0e"
      },
      "source": [
        "third_matrix = np.arange(1,12,2).reshape(3,2)\n",
        "third_matrix"
      ],
      "execution_count": null,
      "outputs": [
        {
          "output_type": "execute_result",
          "data": {
            "text/plain": [
              "array([[ 1,  3],\n",
              "       [ 5,  7],\n",
              "       [ 9, 11]])"
            ]
          },
          "metadata": {},
          "execution_count": 312
        }
      ]
    },
    {
      "cell_type": "code",
      "metadata": {
        "colab": {
          "base_uri": "https://localhost:8080/"
        },
        "id": "YcUA-JEfLe1z",
        "outputId": "e1dbb58b-3e4e-4e18-d2d3-5b40e237dfa3"
      },
      "source": [
        "third_matrix.shape"
      ],
      "execution_count": null,
      "outputs": [
        {
          "output_type": "execute_result",
          "data": {
            "text/plain": [
              "(3, 2)"
            ]
          },
          "metadata": {},
          "execution_count": 313
        }
      ]
    },
    {
      "cell_type": "code",
      "metadata": {
        "colab": {
          "base_uri": "https://localhost:8080/"
        },
        "id": "oTLZyJ3LLkFb",
        "outputId": "3fc09147-ec7a-40b5-e1ba-10da2d706709"
      },
      "source": [
        "sec_matrix.shape"
      ],
      "execution_count": null,
      "outputs": [
        {
          "output_type": "execute_result",
          "data": {
            "text/plain": [
              "(2, 3)"
            ]
          },
          "metadata": {},
          "execution_count": 314
        }
      ]
    },
    {
      "cell_type": "code",
      "metadata": {
        "colab": {
          "base_uri": "https://localhost:8080/"
        },
        "id": "jg0ieBykL9js",
        "outputId": "e9e91e84-b32b-42ae-fade-0edfaab1f335"
      },
      "source": [
        "#Matrix product of the two arrays.\n",
        "np.dot(third_matrix,sec_matrix)"
      ],
      "execution_count": null,
      "outputs": [
        {
          "output_type": "execute_result",
          "data": {
            "text/plain": [
              "array([[ 35,  26,  38],\n",
              "       [143,  66, 102],\n",
              "       [251, 106, 166]])"
            ]
          },
          "metadata": {},
          "execution_count": 315
        }
      ]
    },
    {
      "cell_type": "code",
      "metadata": {
        "colab": {
          "base_uri": "https://localhost:8080/"
        },
        "id": "XLbsljIlNPS-",
        "outputId": "f916accb-0385-49b8-c420-6d9bffd30086"
      },
      "source": [
        "#Matrix product of the two arrays.\n",
        "np.matmul(third_matrix,sec_matrix)"
      ],
      "execution_count": null,
      "outputs": [
        {
          "output_type": "execute_result",
          "data": {
            "text/plain": [
              "array([[ 35,  26,  38],\n",
              "       [143,  66, 102],\n",
              "       [251, 106, 166]])"
            ]
          },
          "metadata": {},
          "execution_count": 316
        }
      ]
    },
    {
      "cell_type": "code",
      "metadata": {
        "colab": {
          "base_uri": "https://localhost:8080/"
        },
        "id": "ihQddTADe4LM",
        "outputId": "d3a4d2a2-fbe5-41a0-dc8e-7f8da3bafa34"
      },
      "source": [
        "#Dot product of the two vectors.\n",
        "np.vdot(third_matrix,sec_matrix)"
      ],
      "execution_count": null,
      "outputs": [
        {
          "output_type": "execute_result",
          "data": {
            "text/plain": [
              "275"
            ]
          },
          "metadata": {},
          "execution_count": 317
        }
      ]
    },
    {
      "cell_type": "code",
      "metadata": {
        "colab": {
          "base_uri": "https://localhost:8080/"
        },
        "id": "pah2xFU6e4LV",
        "outputId": "bd7e200a-1828-4ea3-e46d-ca57e5a78dd6"
      },
      "source": [
        "X__ = np.array([[5, 1, 6],\n",
        "              [3, 1, 2],\n",
        "              [-4, 2, -11]])\n",
        "\n",
        "X__"
      ],
      "execution_count": null,
      "outputs": [
        {
          "output_type": "execute_result",
          "data": {
            "text/plain": [
              "array([[  5,   1,   6],\n",
              "       [  3,   1,   2],\n",
              "       [ -4,   2, -11]])"
            ]
          },
          "metadata": {},
          "execution_count": 318
        }
      ]
    },
    {
      "cell_type": "code",
      "metadata": {
        "colab": {
          "base_uri": "https://localhost:8080/"
        },
        "id": "A6mFGa9ie4LZ",
        "outputId": "1dd2e659-772a-45dd-fe06-5bbf1617523c"
      },
      "source": [
        "# Find the determinant\n",
        "np.linalg.det(X__)"
      ],
      "execution_count": null,
      "outputs": [
        {
          "output_type": "execute_result",
          "data": {
            "text/plain": [
              "10.00000000000001"
            ]
          },
          "metadata": {},
          "execution_count": 319
        }
      ]
    },
    {
      "cell_type": "code",
      "metadata": {
        "id": "yid0wZBUe4Lt",
        "colab": {
          "base_uri": "https://localhost:8080/"
        },
        "outputId": "6594996c-fc04-4333-8b9e-a841aae6d66e"
      },
      "source": [
        "# Find the invese\n",
        "np.linalg.inv(X__)"
      ],
      "execution_count": null,
      "outputs": [
        {
          "output_type": "execute_result",
          "data": {
            "text/plain": [
              "array([[-1.5,  2.3, -0.4],\n",
              "       [ 2.5, -3.1,  0.8],\n",
              "       [ 1. , -1.4,  0.2]])"
            ]
          },
          "metadata": {},
          "execution_count": 320
        }
      ]
    },
    {
      "cell_type": "markdown",
      "source": [
        "![253-2533929_thank-you-for-listening-clipart-powerpoint-presentation-animation.png](data:image/png;base64,/9j/4AAQSkZJRgABAQAAAQABAAD/2wBDAAEBAQEBAQEBAQEBAQEBAQEBAQEBAQEBAQEBAQEBAQEBAQEBAQEBAQEBAQEBAQEBAQEBAQEBAQEBAQEBAQEBAQH/2wBDAQEBAQEBAQEBAQEBAQEBAQEBAQEBAQEBAQEBAQEBAQEBAQEBAQEBAQEBAQEBAQEBAQEBAQEBAQEBAQEBAQEBAQH/wAARCAI1AzQDASIAAhEBAxEB/8QAHwAAAQUBAQEBAQEAAAAAAAAAAAECAwQFBgcICQoL/8QAtRAAAgEDAwIEAwUFBAQAAAF9AQIDAAQRBRIhMUEGE1FhByJxFDKBkaEII0KxwRVS0fAkM2JyggkKFhcYGRolJicoKSo0NTY3ODk6Q0RFRkdISUpTVFVWV1hZWmNkZWZnaGlqc3R1dnd4eXqDhIWGh4iJipKTlJWWl5iZmqKjpKWmp6ipqrKztLW2t7i5usLDxMXGx8jJytLT1NXW19jZ2uHi4+Tl5ufo6erx8vP09fb3+Pn6/8QAHwEAAwEBAQEBAQEBAQAAAAAAAAECAwQFBgcICQoL/8QAtREAAgECBAQDBAcFBAQAAQJ3AAECAxEEBSExBhJBUQdhcRMiMoEIFEKRobHBCSMzUvAVYnLRChYkNOEl8RcYGRomJygpKjU2Nzg5OkNERUZHSElKU1RVVldYWVpjZGVmZ2hpanN0dXZ3eHl6goOEhYaHiImKkpOUlZaXmJmaoqOkpaanqKmqsrO0tba3uLm6wsPExcbHyMnK0tPU1dbX2Nna4uPk5ebn6Onq8vP09fb3+Pn6/9oADAMBAAIRAxEAPwD+7Ik5PJ6nufWkyfU/maG6n6n+dJQAuT6n8zRk+p/M0lFAC5PqfzNGT6n8zSUUALk+p/M0ZPqfzNJRQAuT6n8zRk+p/M0lFAC5PqfzNGT6n8zSUUALk+p/M0ZPqfzNJRQAuT6n8zRk+p/M0lFAC5PqfzNGT6n8zSUUALk+p/M0ZPqfzNJRQAuT6n8zRk+p/M0lFAC5PqfzNGT6n8zSUUALk+p/M0ZPqfzNJRQAuT6n8zRk+p/M0lFAC5PqfzNGT6n8zSUUALk+p/M0ZPqfzNJRQAuT6n8zRk+p/M0lFAC5PqfzNGT6n8zSUUALk+p/M0ZPqfzNJRQAuT6n8zRk+p/M0lFAC5PqfzNGT6n8zSUUALk+p/M0ZPqfzNJRQAuT6n8zRk+p/M0lFAC5PqfzNGT6n8zSUUALk+p/M0ZPqfzNJRQAuT6n8zRk+p/M0lFAC5PqfzNGT6n8zSUUALk+p/M0ZPqfzNJRQAuT6n8zRk+p/M0lFAC5PqfzNGT6n8zSUUALk+p/M0ZPqfzNJRQAuT6n8zRk+p/M0lFAC5PqfzNGT6n8zSUUALk+p/M0ZPqfzNJRQAuT6n8zRk+p/M0lFAC5PqfzNGT6n8zSUUALk+p/M0ZPqfzNJRQAuT6n8zRk+p/M0lFAC5PqfzNGT6n8zSUUALk+p/M0ZPqfzNJRQAuT6n8zRk+p/M0lFAC5PqfzNGT6n8zSUUALk+p/M0ZPqfzNJRQAuT6n8zRk+p/M0lFAC5PqfzNGT6n8zSUUALk+p/M0ZPqfzNJRQAuT6n8zRk+p/M0lFAC5PqfzNGT6n8zSUUALk+p/M0ZPqfzNJRQAuT6n8zRk+p/M0lFAC5PqfzNGT6n8zSUUASoSQcnPP+FFCdD9f6CigCNup+p/nSUrdT9T/OkoAKKKKACiiigAooooAKKKKACiiigAooooAKKKKACiiigAooooAKKKKACiiigAooooAKKKKACiiigAooooAKKKKACiiigAooooAKKKKACiiigAooooAKKKKACiiigAooooAKKKKACiiigAooooAKKKKACiiigAooooAKKKKACiiigAooooAKKKKACiiigAooooAKKKKACiiigAooooAKKKKACiiigAooooAKKKKACiiigAooooAKKKKACiiigAooooAKKKKACiiigCVOh+v9BRQnQ/X+gooAjbqfqf50lK3U/U/wA6SgAooooAKKKKACiiigAooooAKKKKACiiigAooooAKKKKACiiigAooooAKKKKACiiigAooooAKKKKACiiigAooooAKKKKACiiigAooooAKKKKACiiigAooooAKKKKACiiigAooooAKKKKACiiigAooooAKKKKACiiigAooooAKKKKACiiigAooooAKKKKACiiigAooooAKKKKACiiigAooooAKKKKACivN/i18YPhf8CPAeu/E/4xeO/DXw58BeG7dZ9Y8T+KtUttK023MsqW9paQvcOsl7qeo3csNjpWlWMdzqWq6hcW2n6da3N5cQwP/Nh+1v8A8F/fideahdeEP2Dvgh4buNKkiVoP2gv2krjWdK0S6hcvG0/hH4F+HZLHx9dkhhJbzfEjXfhrf2s9rIt14TvLOe1uJwD+peiv4Fvjj+39/wAFEv2h9C0fT/Fv7Y/xC+El9pt3eXkw/Zd0nw/8GNJvGnjgW2huZrqy8aeNbqGzZJcRXXjaW0nWQN9jhkDO/wAo+Cf29P8Agsb+xz45tfix8Nv2vPG37XXgXTLiO68W/An9oWb/AISuTxPoUYYXthper3TS6pZagkQFzZ3nhjU/Deofao40Nnq8Bm029AP9Jeivh7/gnZ+3T8N/+Ci/7KPw7/af+G+nXvhuLxQl/onjTwJq1xHc618O/iJ4cuP7P8W+DdUmjjgM7adfBbrS76S1spNW0C+0nV2sLL7f9li+4aACiiigAooooAKKKKACiiigAooooAKKKKAJU6H6/wBBRQnQ/X+gooAjbqfqf50lK3U/U/zpKACiiigAooooAKKKKACiiigAooooAKKKKACiisnX9e0Xwtoes+JvEmq6foXh7w9pd/reu63q13BYaXpGj6Vay32panqN9cvHb2djY2cE1zdXM8iQwQRPJI6opIAL11d2tjbXF7e3MFnZ2sMlxdXd1NHb21tBEpeWaeeVkihijQF5JJGVEUFmIAJr8Zv2uf8AguF+yz+zdYW9v8OtK139pvxTqkt1a6Jb/DfxT8NvCvgS6ubV3gkum+JvxN8Y+EvDur6FFexyadea54DTxzbafqUU9jeJDc2l5Hb/AM5P/BWj/gqh8Uv2p9cuvAmhXeteAv2bL2G11P4dfCRkk0zU/i74Su98+g/F79oLTruKPUX8M+NLH7L4k+FvwN1a1tNPuPCt5ovjf4lWOrf2xo/h20/BbVNW1PW72XUdXv7vU7+fYJbu+uJLm4cRxrFEpklZm2RRIkUSAhI4kSNFVFVR+N8ceLOG4dxlXKcmw1LMsyw75MXWrymsFhKmt6FqUo1MRXg7e1jGdKnSb5HUlUU6cP1jg7wwxGfYWnmmbYirl+X11zYWlRhF4zFU9LVk6ilToUJq/s5ShUnUS51CNNwnP/Rj/wCCaP8AwVG0r/goM/xP8Oa58GLv4DfEj4Y2vhjX7nwyfix8M/jN4d8R+DvFratbafrWgeOfhpqt7pcupaTqWh3ll4s8O3tpaX/h0ah4cnuHmXXIVh/VZbq2Ztq3EDN02rNGWz6YDE/pX+Vn8EP2kfif+z3pnxRsPhnrupaDN8WPDWneFfEF7Ya54h0eWHTNOuNQuEaAeH9W0j7c0o1K6trnTNbfVfDV/bTt/a2gajdWulXOm/PRuPF1nqg8SeE/ij8WfAfi+C5nvLHxh4H+JvjTw54h06/mk817q2vdO1qICQTBZNkkckYYfKinmuTAeN+RSwuBWZ4HHU8bVg/r31OlTqYTDVFUlFckq1eFepGUFGrJQp1HBScU6k42fVjfB3OY4jGf2djMHUwlOa+prF1ZwxWIp8sZPnVKjKjCcZOUE5ThGbjzNU4yVv8AXYor+ar/AINvv+Ch3x0/a0+Dnxj/AGd/2m9Z1fx/8YP2VrzwO9l8ZtWkluL/AOKXwy+Jg8Vf8IleeIbmUSS3Hi3w7f8AgzXtI1jULq4ebVbb+zZne7vbfUr6f+lWv2TA4yhmGDwuOw1SFXD4uhTr0alOXPCcKkVJOMrRbWvWMZLaUYyTivybG4StgcXiMHiITp18NWqUasKkeScZ05OLUo3aT0vpKUXvGUotSZRRRXWcwUUUUAFFFFABRRRQAUUUUAFFFFABRRRQAUUUUAFFFFABRRRQAUUUUAFFFFABRRRQAUUUUAFFFFABRRRQAUUUUAFFFFABRRRQAUUUUAFFFFABRRRQAUUUUAFFFFABRRRQAUUUUAFFFFABRRRQAUUUUAFFFFABXzZ+1R+054H/AGVPhdffEHxcU1HVbyWbRvAvhCO+t9PvvGniw2F3qFtpEF7cq8GmafbWlld6p4g125jez0DQrK/1S4SUW6W830nX8OX/AAV7/wCCg2h/FL9sTU/g5pf/AAk/iW38N+I/Hfwc+Hvh/wAC6D4h8ZavdxfCMR3fxqv5PDXh6LUtRhul+Imia9aeJDYWd6uqaD8NvAl3HaW93pOohwDyn9qX9q/4u/tT+O7vxV8UPFh1+K1vJX8NaBp63Ft4E8EW+DCLL4faDeKJtNilhGNQ8UaoJ/GniiSSaTWNQtNGGjeFPD3y1XzLrf7Yf7PXhu5nste8cXmk39sqPPp994L8d2+oxrIqvHmwk8NC7zIjKyAQkspBAI5r6P8AgN8Iv25P22tTg0P9jn9kf4j32h3sPmt8fPj5oerfB74DaVayR7k1Cz1zXbWLV/G8kTtCk2heFLK51lFuIrprYWW6cJNPZp+jv+Q2mt0111VtO5heKfGOg+D7exl1i6lN5rGo2mieHtE061uNU8ReJ9f1GZLbTPD/AIZ0GwjuNV17XNSupI7ax0vTLW4u7iaRVSPGSNv4teAv2yP2dNJl8cftHfsLftD/AAj+EVq8T6v8WJ9O8PeNvCvhPTr65li03WPG7+A9Y8Qy+FNMeFbf+0rrUTs0m+uobG43GSCab+rz/gmd/wAEPPhN+xfr1h+0F8fPFY/ah/bGmtS8XxJ8Q6YLXwH8IBexn7Z4f+Bngm5e5t/DdvEkn2G48X3gfxPrKRzXUf8AYMGqX+lP+3Hi3wr4d8c+FvEfgvxdoumeJPCvi3Q9V8N+JPD2tWNvqej63oetWM+nappWqaddxy2t9YX9lcTWt3aXEUkM8ErxSoyMQWI/zwfhf8TviP8AClLjVPgl8afjP8J/7d8TR/EBrv4UfGDxv4f8N3/iC60HQtAk8QXnw5Os6n8GfF1zf6D4e0Ozkn8bfDrxVbzQWFs4iLLvP9KH/BI3/grp4o/ad+Jvib9i/wDajGjQ/tGeEPBw8efDb4n6VY2fhrQ/2jPhzZXEVjrGq/8ACLW881j4Z+JnhKae1Xxh4c0e4fTdVgN54n8PaZpWhwTWVn/L7+y/+yr8a/2i/jv8Zf8Agn/+zZ4r0Twb45/ZVvv2jdG8WeN/iho13ryaN4U+BPxJuvh58O9Fj0m0vdMt7rXvH7Xnha2ju7i9Ww0bR49b1KG11L7Fbxv5D+wB8c9a8Tftmf8ABIj466PdW2m+ONX/AGm7T4V+IXsTNFE+n+O7HVvh38SLFIleGaOz1S0iuWitnaWCKO7tw7XMYDTHp/Wuv9dw9f600/rsf6d9FFFABRRRQAUUUUAFFFFABRRRQAUUUUASp0P1/oKKE6H6/wBBRQBG3U/U/wA6Slbqfqf50lABRRRQAUUUUAFFFFABRRRQAUUUUAFRXFxBawTXVzNFb21tFJPcTzOsUMEEKGSWaWRyEjjjRWd3YhVUFmIAJqWvzD/4LC3fje8/YP8AiH8Mvh3rt94V8VftF/EH4Bfss2/iuwjLSeGtH/aW+O/w6+CnivVnlWSJ7Up4U8a63bWtzG2+LULmzIxncpsG5+Fn/BQz/g4q8e6hqmt+Av8AgndN4S0Dwjo2q+IvDz/tO+PfC3/Ccr8QdZ0KS60m+m+CXw+m1TRtNuPA+k+ILabTJvin4vurzR9f1GzvrLwj4W1+103UtTg+Sv2N/wDgsh+0h8c7/wCLf7Pf/BSv4o/D34ofs9ePfhb4i159a0vwLpHwr8S3WqfD1rHxvqHwi1JPDn/FOa34I+NPhXQfEfw812x1OCHUruTXrawsb9VvJLG7/BrxlqGn6j4k1NtFs30vw7YSro3hXRn240PwnokaaV4Z0NAhZRHpGiWljYKdzs/kGSSSWR3kbmK/lLM/GbiaecV8RlksNQymE508Pl9bC0qntaMW1GtXruKxKxE177VKrClBtR9nJRbl/TGXeE3D0Mpo0MxjiK2ZzhCpiMbSxNWHs6rScqNGimqDoQd4p1KUqs1eXtI3Sj2/xK8feIPin8QPGfxH8VXEd14i8b+JdY8TatJBELe1W81e+mvZILK1UmOzsLXzRbWFlFiCzs4obaFViiRRxFFffn7Hf/BM39rX9u7wXr/j79nPwf4b13wv4Z+Jd58Ktd1zxX4y0vwfo+keJbDwt4a8W3dzfy3SX2sXOiQad4r0i3nvPDOgeJr+HUHuLZtJY20hr80yrJs44kx88LlmFrZhjZqWIrcriuWMqkYzr16tSUYQh7SrHmnOSXNLq2foWZ5tlPD2ChiMxxNLA4SHJh6XMpPmlGDcKNGlTjKc5KnTk1CEXaMXokj5T+BXwS+I/wC038b/AIY/s5fB7T4tS+Jnxb8QJoWhtcpK+leHNKt4zeeJ/HfiVof3sHhXwTocV3r2tyRZubmO2h0rTkn1bUtPtZ/2M/bJ/wCDV79rf4Z6rp+pfsHfGZfix8NbvSdK1Dx/4L+JHjvQvB/xf1j4hPawp4n1TwTqt54Bt/BlhoOuX1s9/a6ZqvjCwuNOmvhaeZexLJdV/SF/wSK/4I4+CP8Agm7pfib4meOfFFh8Xf2r/iXpCaD40+JVjp91pnhnwf4LW8t9Tg+GPwz0q+mmu7Pw1DqVrbX+ta3fiLWfF2q2ttqF/Bp9tbWGlWPW/tuWX7RPxY/ap+Dlj4OfxZ4O/ZS/Yn0DUP2wvj5rmj6nceHx8fvix4d03X5/gr+znpV/CryXOk6LLpN18Q/iULiw1rRks9R8EW8lrFrM2nXFt/V3Bnh1lvD+STwmZ4fC5jmOPdOtmFapShWp0qlPmdCjhHVg3BYRylKFdKNSdZyqrlXs4Q/mfi3j3MM8ziGKy6vicDgMFz0sDShUlSnUhNx9tVxSpySm8TyRUqLcoQpKNN8z55T/AIbPh78W/wBvj/glF8cdLsNO0n4wfswfFm2v9Km1L4Y/E3SGPgX9oLR/Bsl9bJ4e1vU92seEvi94Zlj1TXLCw8SeE/Emrav4an1jVNb8MazpGp3M93N/pi/A34ln4z/Bb4R/F8+HtW8In4p/DTwN8RD4V1+3mtNc8NHxn4Z0zxEdB1i1uIoJ7bVNIOo/YL+CaGKWK6gljkjRlKj4J/Z18QL/AMFV/wBlHxPqX7an7Ed38E/CXibx3q9j4F+E/wAVbvWb74hr4R0e00q58IfFQ6hceEfBV/4A8ZXd9d3mreGNU8B6pqdz4eFvp9/pfi9dXS5isvE/hx+0Z8Wf+Cen7Tnwq/Yh/a58Z6z8VP2e/wBoPUbvwz+xV+154wvHm8W2vi+xhWay/Zn/AGjNduUistY+INxZjyvht8RXng1H4jpHDp+pWN54kGpXUH03D3Dz4chicJh8yxmLyycoVMFg8by1amXSvN16dHFJxlUw1VyhKFGdLmpTjOXtZurK3zme56s+nh8TXy/C4XMYRlDGYvBp0oY9JQVGpVw7Uowr01GUZVIVOWpBwj7OCpq/7a0UUV9IeAFFFFABRRRQAUUUUAFFFFABRRRQAUUUUAFFFFABRRRQAUUUUAFFFFABRRRQAUUUUAFFFFABRRRQAUUUUAFFFFABRRRQAUUUUAFFFFABRRRQAUUUUAFFFFABRRRQAUUUUAFFFFABRRRQAUUUUAFFFFABRRRQBWvHMVpdSDIMdtO4I6gpEzDHvkV/AR/wbRaBB+1X/wAFSfjp+1D4vs21mf4Efs8Nd6Hc6s1vcXunfE39pXxjeeLNb8Sq8JKNqlxoupfELQrqfHmPa6nLHcEygV/f86LIjI4yrqyMPVWBBH4gkV/DR/wRy+BGpeDP+Cnn/Bdn9kD9nn4veJP2V/Eb+P8ARNU+HPjHQ/CfhDxx4g8JfD3w78V/HFxd2uhaL49sNR0GaBtO8b+H9L06/wBQ0rUpbTSr6K4jmGoi2vSAf3HGwsGOTZWhPqbaEn8ylWURI1CxoqKOiooVR9AoAH5V/NcNWu/gJ+2N8Pv2T/ip/wAHDXxWT49+JILLxHpnwX8Y/CL9ma3h8S2+sanLaad4V1DxTqfwo1LwpofiLxLelbbQvB93rGneNNUs7iBvCunKJrG7j/pMto5ora3iuJzdTxwxJNcmNIjcSoirJOYo/wB3GZXBfy0+RN21eAKAPnv9pv8Aa1/Z0/Y4+HF78Vv2k/ix4U+Ffg6282Kyn1+/H9seJNRjjMq6H4P8N2i3HiDxf4gnQbrfQ/Dmm6lqcyhpFtvKR3X5k/Yt/bO/aU/bC8Ra14yvf2HvFf7On7K81sLj4a/FH48/EmDw38bfibBMgNnq1l+zhpngXV7jwr4euSkk0eo+L/iTpF5c6fcaZf6XpWpR3dwlj9BfHD4AfC7xBriftCv+zp4D+PX7QXwz8PSJ8Ih45bSXv9F1C2vI9St7XwVr3i211rSfhxfX1/Db3F94g0HTrLULp7O1N3Ncm2tlj4z9gv4u/td/G34F2Hjz9sr9nHwr+zB8StRv2XTvh34e8fXnja+OhJZ2u3U/Edpc+HtKTwnqc2oNewxaBDq/iVo7OGC4m1GN5vJAB8DftlfBL4S/8Ez7P/gpX/wVv+F6HTfiR8T/ANmH+zvFnhCWzll0e/8Ai74fb+xfh/4w0q4h1O1ttKj8Sa1qmg2fjywn0bVJdUudOsdc02+0q7OuweIP5FP+CEn7K3iP4q/t7f8ABOvwhNo891oP7OHgv4k/tjfF66dN1rpM/iQ3Vr8KraYTh7WHVo/HWqaRDBaAfbJLTT9VvbREawvJ0/tm/wCC4HxN8NfCf/gk1+3l4j8VHTzY61+z142+HOnxajCLiKbxJ8VrRfhr4WSCEspN+viHxVps1hMuTaXcUN4VK25FfyQf8EY/+C0P7Nv/AATQh8YfDf8Abe/Zw+M/wi8a/GDxH4VttS/aJ0nRLfxp4Rj8JeC/Den+G/CWg32mwW2l+Kbbwt4eEfiDXpR4VTx1eza34l1S4j0iEXDiG40qs4TqQpzlTpOPtZxhKUKfPdQ55JOMHJxajzNc1na7QXSdm7Np2V9X303atvY/0NKK8f8AgV+0B8Ff2m/hvoXxe+APxM8IfFj4b+I4hJpXizwZrFtq+mvKER57C88h/tGl6tZGRYtR0fU4bTVNNuN1vfWlvOjRj2CoAKKKKACiiigAooooAKKKKACiiigCVOh+v9BRQnQ/X+gooAjbqfqf50lK3U/U/wA6SgAooooAKKKKACiiigAooooAKKKKACvkD9vfwj4n8X/sjfGk+A9EbxJ8RfAvh/TvjN8MPD6IZJda+KXwJ8RaN8ZvhrpkKLFOTPfeOPAug20P7icCWRCYZACjfX9IQGBVgCpBBBAIIIwQQeCCOCDwRQB/lU/tPWHhO0+PfxNv/h/ctefDvxb4jm+Ifw5upF2Sz/Dz4kW8HjzwNJMod9twfC3iHShcLuytwJVIUgqPBq/bH/guT4Z/Zl8EftUat4E/Z2tLfS77wN4n8WaN8WNAhiijtfDPjrxVo3gT4wT6J4cMbKz+D/J+KTaxp1vOlwNC1/V/FPhTS7y28N+HtC8N+HPxImvrLTjb3mpskWkw3ln/AGvcyTzW0djpT3UUeoahNPb6dq08UFhaNLeXEkOmX80cEMjxWd1IqwSfw1xXkbyzi7NckwzhO2ZcmFStTioY3kxGGpNyaSdOniKdKTvZyi3HRo/svhrOFj+FsszfEqUG8vjPEv425YWMqVeqlBNtTlRnVSteKlaVmmdDo+iXGqJql8yXcejeH9OfWPEGo2tp9sfT9OSaG0gSC3aa2ju9W1fU7qx0Hw3pJurefX/EmqaToVi5vtRt0b/R1/4JSfsv2/7An/BO74R+APiZd6b4a8XW3hzXfjL8eNa1m8srCz0Xxv4+u7zxz4ttta1aSSHT1sfAFhe2nguPVHaC2/sXwnZzyFQGY/nt/wAE4v8Aghp8Kfhzq3ws/aP+NXxO8J/Hyy0EaD8Tvgf8Ovh7pTx/A2w1+90qSbw18XfFesazLd638cfHem6XqZu/AWv6rZ+FfBngqTUb/VPCXgDTNYvTqyftj+1D+yd8Jf2w/BWm/C/46r4u1/4VQ6zba34k+G2h+Mde8HeGPiHNp7xzaXpnxBfwrd6TrniXwzY3KG7bwlcazH4Z1a6MUuvaTqpstP8Asn9NeHHAi4QwNbEYypTr5xmMaf1mdJ81HDUIe/DCUZtJztNudaqko1JqKinCnGUv524/40fFWMpUcLCdHKsBKf1eFRWq4itL3Z4mrFNqPurko07twg5OT5qkox+OP2JP+Cpeg/t//tF/tAeA/wBnj4P654i/ZZ+BDWuhL+2Xc+IZdO8AfEv4gTLaJd+D/hz4av8Awva3fiSPTbldaa+8RafrlzpEOm6fpmqNIIPE/h9L39XiAQQQCGyCCAQQRggjvkcHPbivx2/as/4Jj+PPi3rH7Inw1/Zk+Oa/sb/skfs7pqmoeO/gn8Jrfxp4f0f4uPYeLfhzrfhTwD4i8P8AgLxp8PrG68DXenaB4vi8Q6idbs/EsV/q8c9tNfDUtSeH9iEXYip/dVV7/wAIA/iLN27sx9STzX6Wfno4AAYAwBwAOgHpXxh/wUD/AGN/AX7eH7KHxY/Zz8c2dot14n0C71H4eeKZVdNS+HfxU0W2nvfh/wDEDQr+3U32m6l4b8QLa3Esti6S3ulyajpFwJrDUru2m9d+Pv7S3wJ/Zd8Fy+P/AI9/E3wz8N/DStNDZy61dSTatrt7Baz30ml+FvDWmw33iTxZrIsra5u10bw3pWqapJbW1xPHaNFDIy+v6LrOl+I9H0rxBod9Bqei65ptlq+k6jbMXtr/AE3UraK8sbyBiAWhubaaKaMkAlHGQDxQB+af/BHf9pfxt+1F+wL8HvFHxakuG+Ofwzk8Ufs/fHeO/u2vtWPxY+BviLUPh34l1PWbhuX1bxRHolh4uvh0SbXyg4Ar9P6/GL/gkZpraF8SP+CuGiaXFEPCMH/BU/40axpUkcsL7fEfiv4VfBTxP44tUjgkVIYU13VTfOgtYi1/qN+8091eNdMn7O0AFFFFABRRRQAUUUUAFFFFABRRRQAUUUUAFFFFABRRRQAUUUUAFFFFABRRRQAUUUUAFFFFABRRRQAUUUUAFFFFABRRRQAUUUUAFFFFABRRRQAUUUUAFFFFABRRRQAUUUUAFFFFABRRRQAUUUUAFFFFABRRRQAV/GF+2ZY6n/wSk/4OPPgL+3fqpbSP2Wv+Ch3h6D4H/FnxKiGz0Pwt40utH8M+DNRs9dvESS006xh8QeGvhT8Ubi9v2ibVIIvGDW8YOjXd3H/Z7XyL+3F+xN8C/wDgoH+zn42/Zp/aA0BtV8H+K4ob3Sdb0/yLfxV4C8X6aJH8PeOvBWqzQztpHiTQriWQwzKj22oafcahoerW99omq6lYXQBJrv7CX7G/iz9ofwv+1vrP7Ofwn1D9onwrbagmi/FseFdOh8TyvqY0cjU9YuLWOG18S61piaJp6+Gtf8Q22qaz4XiN7H4bv9Lj1PUlu/rN5Y4/9ZIicZ+d1Xj15I44PPSv5iPhN+3P+0X/AMEXzon7K3/BUnw14++Jv7KPh28tvDHwC/4KW+B9H8VePtEuvDFzNL/YHhr9pnRmvPEXivwn4v06L/iWx6jYtqqXXl29hpWmanpNhL4gP2R+1t8CvhH/AMFTvB3wq/aH/Yl/ar+D2vfEz4OT3t34Xmk8QRfFb9nL4s+HNdt92r/CP9oXwB4V8RWl5JouqFGit9YtnsvG/gO7uNSu9Jh+2STWxAP1C+J37S/7PfwXST/havxp+GfgO6SOF4dK8R+MtC0/Xr+S6LLZWmk+H5b3+2tY1HUZV+z6Zpml2F3qGpXTJa2NtcXEiRt8P/Cj/goN8QfjN/wUNu/2VfCvwC8TeG/gdpv7M8nxtufip8U9P1T4cePdV1Kbx/L4O0e98O/DXWVfxTF4H1qSC90/T5/Hvh3wBrmoajpGt6jpFtqmjaeJp/z2tdU/aZ/YV8Jal46s/wDglV/wSl/Z81bRYJ08T/tPW/7YHhX4ZeAn1DUY1fXPE182t/s3aT8Q10i5iilkfSNT8YXetGytUs47i8EECN/Ph+2F/wAF0PiH4K8DfH7Rv2Q/HCfEj9o79py502D9p/8A4KJaf4X8Q/DX4L/D3wv4W0yfQvDvwP8A2QtP8URw+Il8MfDuw1TV9N0DxzrUT+L9d17XfFnjPQNH1LxN4o07W9KqEJ1JKEIucnd2iruyTcm+yik5SbsoxTbaSbBtLd29T7Z/4OLv299N/av/AGkvg9/wSz+A+urr/g/4U+PNM+MP7Y/iLQbzztKt9R8IPFL4e+GF1qFrOLaU6C15Pe+KLSVbyC28X6j4Ssm+z6x4d1G2i/KeD4xfs8fGnxl4l+An9q+GPH2rabpUl1rWg3llBquiXCQTC3u7O0urqN7HUtQ04vHLdpp7XD2QYsZUmgnWH8JPBOs/Ez4mPqXws/Zd0Pxvf6944t4rj44fFfW9T+0+J/G2rXt3fzanc6h4haG2j8E+AZ2uCV0m6vr/AF/Xr1b271fWtQOoW+had+tH7JX7BnhH9nm6sfHfiXU38X/FdLa4jXVLaS4tvD/h1b+0ktL610SzYxTX0k0FxPbT6pqil5omBtrDTyZRJ+vcALH06UcLl2XU8RhcViVUz3MsYnHC+xhF04YHAJXWJq04ynUnUtOk6lSVNqNJwry8/F8rd5zalFWpQjbmu7Nyn1Svolo7K6u7o9h/Zq/aN+M//BDr49Wv7Q3wDm17xr+x54/8QaVpX7SP7PVzcT31jYaJcXUUEXiXw1cXV0Vsdf0sTTJ4a1y4MUlvdmDQNcu9Q0nVSsX+k98B/jj8Mf2lfg78Ovjx8GvFFj4x+GXxT8LaX4v8I+ILB8pdaZqkCyi3u4GxPp+radP52m6zpN4kOoaRqtpeabqFvb3lrPCn+fL4n8N6P4w8O634V8QWcV/oniHS73R9Us5kR47iyv7eS2nQq6su7y5CUYqSjhXHKg193/8ABrT+1L4n+A3x8/aQ/wCCTvxO1y6vfDtiuo/Hj9ma71WWNS2nPNZJ448O6dI5LTDWtIv9E8XW+lWJWy03UtE8e3JX7Td3BryPEHhWjk2IpZnl1JUsvxk3Sq0IK1PC4vlc1Gmr+7SrwjOUIJctOcJxjywdOEdMJXdROE23OKum93HRa92nZNvV3Td3c/uGooor82OwKKKKACiiigAooooAKKKKAJU6H6/0FFCdD9f6CigCNup+p/nSUrdT9T/OkoAKKKKACiiigAorzz4L/Hr4TfGmfxlafDnX/wDhIh4O8YeMvh14hv4440sE8X/D/wAS6t4P8a6DaTLKZnudB8RaPqWmXodI1kls3mtzJEA9en3to9pMVIPlsSYnJyGTPAJwBvUEBxgYPI+UqTyYPHYTMKUq+CxFPEUoVq2HnOm21Gvh6kqValJNJxnTqRcZJpdGrxab6cXg8VgakaOLoToVJ0qNeEZpLmo16catGpFptSjOnKMk03vZ2aaVOiiius5gooooAKKK+evi/wDtW/s+fALx38Hvhp8X/iVpHgnxt8fNd1Pw18JdC1CC+luPF2taPHYzala2slrbTQW4tI9Rs3le6liJSYvEsqxTmPnxWLwuBoTxOMr0sNh6duetWnGnTgm7XlOTSilu23aKTk2optb4bC4jGVoYfC0KuIrzvyUqMHOpJ9oxim23sktXJqKTk0n/AAl/8F2v2PPGv7Nv/BQr4xfGS70i8k+DP7Xz+Gvil8PPGognfR9N+JegeGtO8J/FT4W6rqEfmJB4n1A6bpfxC8OQX0NlaX/huTV7XTLy9v8ARr62X8ZnRZFZHUOjqVZWAKsrDBVgeCCCQQeor/V4+P8A+zp8JP2mvhN4m+Dvx48B6J8Rfhh41s4rXVtC1YsVMiOl5pur6PqVhPBqmha9pN3DBqeg+I9EvbDWdF1O2tdS0u/tbyCGZP4p/wBsP/g3C/at+DfizUtd/ZI1ux/aU+Ct5cGXTfCviTV9J8K/HXwHaNuJstQudSk0zwf8TdLsYkDrrWnXfhvxXMrLaDwprl4rX9z+FeKHhxmGbY6pxNw/COJr1KFN5hgYStiKs8PCMKeKwf2a05UIQhOgnGpJ0oyoqrUqOC/ZvDnj7A5Zg4cO55J0KEK01gcbJJ0KUK83Oph8W2704KtKc4VmnCKqShV9nCCk/on/AINov+CgviPRtf1T/gml8XNauNW0C20jxF8Qv2SPEWp3Cy3enaDp039p+PPgVJPI32q7h8MxXNz408C+d9pnt/DS+JdKN2mnaBpNlbf2U1/nP/8ABKr4U+OPhX/wVV+DZ8c+GvHOlT/s3fE3x3oPxS1TwH8PvGnxgsfCPi6/+GnjrwIfAmra78JdB8baJpOr6lqfiRNG1WPUNTtYdPsTq0t7LG1lLFX+i+pDAMOQRkcEfmDgg+oIBB4IzX6P4fZnm+acM4OpnmFxWGzHDTqYOtLGUKuHrYqNDlVLEuFaMJuU6coxq1OXlqVoVJJ83NGPwXHOX5Vl3EOKhk2Jw2IwGIhTxdKOFrU69LDyrpuph1Kk5QjGM05U4XvClOCatZv4j/bt/b1+Df8AwT6+GHhn4p/GTT/F+t6V4p8daX4KsNG8CaTBrevxRzWGpa54h8VXllPeWMVn4V8HeG9G1PXPEuuXdxBp2l20MAvbq2W6jlF3w941/aJ/aR8J6J4l+Hw8M/s5fDXxdo2ma1pnjDUtS8F/Gn4v6rousWpnWbw5pfgzXPEfwO8J3L2k9pqnh7xfN41+N2j30cnl33gdIykz/Yeo6bp2r2V1purWFnqenX1tcWd7Yahaw3lnd2l1E8F1a3NtcJJDPb3EEjwzwyo0csTtHIrIxB/Jrxx/wSe+BfgWy8Sa1+yj4b+LXwx1TxDr0viG9+EHwx/b0/a1/ZD+BN3qd2J5b6+tfDfwR1LxPoHhX7VKtravp3hbwBYaels0kttFbTRbLn7Y+PPJf2tZPgH+yhZeJPh98FLe4/aM/wCCov7TnhfU/ht8Gl+IHie6+K/x0WTx/wDatAl+IPiC6vft5+C/7OvgBje+L/GKeF9I8BfDGC08N3dlp2mDWpoY2/TfVfFHgH9ir9kz/hJPiR4oe1+Hv7NfwQsW8S+J9QkknvbvR/hx4Qt7SW4Vby7nutQ1nV/7MSGwsmu7m/1TVLu3soZLm7uY9/5w/Crwn8AP+CUnhb4o/tC/tLn4MfDTxp8TJGli8K/BbQvid8bPirrVnZObq60+8+KPjWHxN+0Z+0Tr092VvbvV7vQ/CnhHwrp+0L4V0iKHV/EWo/iv8fv+C4Hh79tH4y/AvWta/ZT/AGjbD/gmR4I1h/iRqreNL/4MfCMftR/FTwj4i0yf4WRa3cfFv4m+CvCeofCHwh4gs18W2XhG18ZXF3478aWPh+x13TTa6ZNpUgB/Rx/wSn+EPjb4afskaV42+LGlTaF8aP2oviJ8TP2uvi/oVx9pW48N+Mf2hvFl/wCPbPwdcwXlvbXFpd+BPB1/4V8D3tm8Yjtrzw7PDb7bZYY0/SOvx3+FX/Bc79gDxt4n8M/D/wCJvjDxv+yZ4/8AF9mt94S8L/tWeBdR+EumeJtPa6axhvfDHxLeXWPg34jsLm6CQafd6D8RdRtdSeVE06W6IkEf6/2V7Z6laWuoafd219YXtvFdWd7ZzxXNpd2s6LLBc21xCzwzwTRsskUsTtHIjKyMVINAFmiiigAooooAKK17PSjdQCZpTEGZgo2B9yrxuzvGPmDDBAPy56EVmzRPBK8Tj5kYqeCAcdGGQCVYYKnHIIPegCKiiigAooooAK0odNkuLUTwujuXI8kEAhQcHLEgK44bYcDYQwbJCnNrkvid8VdK+Cfwf+LPxa163lvdF+Ffw78Z/ErUrKGQQy3eneCvDmo+ItRtoZhFcOk09rprIjLb3GzlxE+CjJtJNtpJJttuySWrbb0SS3Y0m2kldtpJLdt6JfM63pRVnTtQs/FGmR6tY2s9rLPEl2lvKF82aCUKVdlRigcr8xEZY7iQd7SK1VqyoV6OJo069CaqUasVOnON0pRkrp2aTV10aT7o0rUauHqzoV4OnVpycZwdrxkt02m0/k2gooorYyCiiigApzo8bFJFZHGMqwKsMjIyDg8ggj2rH17xHpPg/Q9Z8Wa9L5Gh+GdK1DX9YmwjeTpmj2kuoX8uJGSM7LW3lbDuiHHzMoyRr6X4hsvGlg1/ptvNHJbysBFN5YllspA7QXGASxEgUbYgS0bs64cFXbmqYzC0sTQwdSvThisVCrUw9Bv36sKHJ7WUVtaHPHdq93y3tK3RDC4mph62LhRnLDYedKnWrJe5TnW5vZxk+8uSW17aXteN0ooorpOcKKKKACiiigAoqDUtS0Hw/omseJ/FGt2Xh7w94etJNS1nVtSuILTT7LT4I5JLm5vLy4dIbaCGNC7SuQq4BJxlW0lNlqWnwaxpL77KdFYoT88ROFIOWbkMQrruYhiGQtGwK4/WKHt1hfbU/rLpOv7Dnj7X2Klye19nfmVPn91Sas5JpNtO2vsK3sXifZVPq6q+xdbkl7L2vLz+z57cvPye843uotNqzV6lFFFbGQUUUUAFFFcx411pvDng/wAU6+l9aabJovh7WNTi1C/sJtVsrKaysJ7iG5utLt9Q0m41KCGSNHlsINU06a8QG3ivrWSRZ0xxGIoYShXxWJqwoYbDUamIxFerJQp0aFGEqlWrUm7KMKdOMpzk3aMU29Ea0KFbE16OGw9OdbEYirToUKNOLnUq1qs1TpU6cVdynUnKMYxWrk0lqzp6K+IP+Caf7TXxC/ay/Z1tPiJ8WNL8G2vjCXxN8QPC1zqXgbw/rPhrw1qU3gPxz4l8B3d3p2geIPFfjbUtN+0Xnhy4v1t5fE+pMkVwkTTMYllk+5JongleJx8yMVPBAOOjDIBKsMFTjkEHvXn5JnWA4hy2hm2WzqzweIlXjSlWozoVJewr1KEpOlUSnGMpU3Om2lz0pQmtJI7s4yjG5FmFbLMwjThi6EaMqkaVWFaC9vRp14pVKbcJSjGoo1Em+SpGcHrFkVFFFeseYFFcnr9n44uPtP8AwjHiHwvpG+0dLP8AtzwjqviDyL0xuI7i4+w+M/Df2m1WUo72kf2WV0VoxeIziRPlvxV4G/4KEXeoNL4K/aZ/ZD0HS90pSz8TfsWfF7xTfBS+YFbUdM/bq8JQEpH8krDTAJH+dVjH7sAH2hRX5p/8IV/wV97ftH/8E7//ABDv9oj/AOjYNU/+CVX7YHxm/bB8GftWaN8eoPhWfib+zB+2L8cf2Xr7VvhF4d8Q+EfCXiZPg5rsGjL4gh8P+LPG3xC1zSLjV7e6tdQlsbnxLcxwLd2qxkoGml562Jp0KmGp1Oa+LrvD0mleKqKhWxHvu65YyhQnGL1vUlCFveub0cPUrQxE4ctsLQWIqJuzdP29Gh7is+aSnXhJrS0FOV/ds/04oo6UV0GAUUUUAFFFFABRXB6h8PNJvoLqKLWvHGnT3KvtvbDx74vE9q7nPmW0N1rN1YqynOxJbOWFRx5WAAPFdZ/Zo1zVZL9rb9p/9pjQor1ZUit9J8V+BTHpwljKA2MuqfDnUrvdET5kb3dzdMHwWLKNtAH1NRX5R63/AMEw/H+p3Vxdad/wVL/4Kb+H1ljCw2GnfFX4E3On28qxhRIF1b9nTUNQkV3HmyxvqOCSyxNCm0L4n4s/4JMftY6jpFzaeEf+C0n7f+g6nPDcRLfa8PhB4gtI/Nt5Y4mFpo/gbwhfK0c7RSs8GrwStGjxxSQSulxEAfuRRX8vWu/8EL/+Cmlw0B8N/wDBwh+1/paqsn2pNa8B65rZmclTEYHsvj7oAtlQBxIrx3RcspVowpV/A/FH/BDT/guHLaiz0D/gvT8XdThvYLu31B9Rn+LfhS6to5USOJtPu9G+IWtXYndXnJuIp9PuLN44ZLeV5G3wgH9gNBIHJOB6mv4WfFf/AAQS/wCDjKzlceCf+C0vizxBCLkoknib9rr9sjwpI1nsJE7RaZpPjBUuPM2obYSvHsJk+1Ejyzi+A/8Aggr/AMHFnivXdS0D4xf8Fg/HfhDwWEWGTWvD/wC1p+1V8SW1eN5gkqW/hvUm8FB4RCDMq6lfWRkbZE0aEs6AH9329P7y/wDfQ/xpDJGBkugA6ksoH5k1/HWv/Bsr+3xtXd/wX9/avDYG4L4Q+LLKGxyFY/tdqSAc4JVSRyQOlcHr/wDwbGf8FHdYjvdKuv8AguZ8eNe0GeVQLfXLL4zsl5DDKk1u95pkn7Quo2iSJLHHMIxcXKxSorJKzKGoA/tO8+D/AJ7Rf9/E/wAaQ3Nuoy08Kj1MqAfmWxX8Pn/EKf8At3f9Jk/iP/4TnxW/+fjWbq3/AAac/tsa3Yy6frn/AAWB8b6tp0hR5rLVPCPxOvbNzEwkR5be6+NskLGN1DqzIdjKGBBANAH9vPiHSfCni3RNU8NeKtO8P+JfDut2Vxpus6Dr1rp+r6Nq2nXkTwXdhqWmX6XFne2dzC7wz21zDJDNG7JIjKxB/wA97/gu/wCEv+CW/gr45R/sj/8ABM79k+PxR/wUl+IniCDwv4huv2bfFfxK8KeCvhVLdSLqN5ocfw/8AeKdM8Aax4/nhWV7vRtP0KDRvCVkl5qXjOYSaXDpJ/Hz49/8E4/jL4a/bOv/ANin9k39tnX/ANrfxh8PdM1LVv2h/irYPr/ww+BH7PNnosn/ABUV38Q/ihq/xD8R6FZaf4Ptlc+MNTmez0/StVms/Ctlcat4tluNDtPEvAv/AASi+Kf7XP7Wup/s8f8ABPT4g6r+2ha+H57Vfib+0qPAmtfC/wCCPhbWLu4ddY1Obxt4j1vW77VfD9pKt39j1q4sNN1vxhNZXr+EfDmvW5tbq7AP2rj+AX7AH/BFP4Raf4u/4KeTaV/wUT/4KSeMNEsNX+Hv7FU/iqTx58L/AIGx6rbW2oWafEpry41bw9NPeXEVnD4h1HWrDXY9XQW+neB/CWr6XBqPiu6+DvjP+zV+3R+3J8RvBHxx/bt8CXX7Mnwabw7Z2vwK+Bvhj4fx/Crwf4W+FwurzUNJ8I/CzwLFZW1h4T8PQG5kebUtYju/E+orNHe3i3SzW10v6xaf/wAGT/xbvbKwm1r9vjwNBrU9patqNpZfBDxDq1rbag8KG6tbLUrn4i6bc6hawTl4ra7m06wluYlSV7O2ZzCnn2tf8GevxQ0r4lan8LD+3n4bmv8AT/A3h7xxNcSfBjWYrW4std1zxLolnaR26fFG4d5LW48NXMs0rDy4lurZVG5zThn2S8O1sNjs+oPE4GpXhho4b2mIpQr4iopVKVOrLDYfEzdP9zKcoyhGnJwSnO1oy7MHlmPzWdXD5fT9pWpUZYifvUouFGEoQnNe1qU4tp1Irli3N814xdnby34f+AvhZ8E/DNj4R8E6b4e8IaNEg2xpNawXepzwokcl9qV9cSfbNVv3XZ595dzTzkFFLqgRR23/AAk/hv8A6GDRf/BpZf8Ax+vd5v8AgyN+KkMCTzf8FA/BjA7dwi+A+vShC4znc3xQQFM4XfgZJXjmqP8AxBOfEn/pIH4Q/wDDB63/APPTr9dpeKsKNOFLD8O0qNGnGMadKnj+SEIpK0YxjgIRilrZKKtou7PEeB1fNVbd9Xya/fzvz/rfxb/hJ/Df/QwaL/4NLL/4/Xifg34jaB+zx/wVC/4JsftXaV4l0jSLa1+P3hz4K/EnWk1KyjtbTwP8TpZvCGoahqtxE+Y9P03w14l8ZS38lw0iG1WMJ5Ziy/2r/wAQTnxJ/wCkgfhD/wAMHrf/AM9Ouutv+DI+8e2t3vf+CkkcN2YonuYbf9lOW6t4bkoDKlvcy/tE2kk8UchZYp3tbZ5EAdoIixRfKz7xCjn2VYnLKuSwoqv7OUK6xzqOjUpVIVIVIw+qQ5n7ri1zxvCUle0mi6WE9lNTVS9r3XLa6as18T/q3bX+yq6/b2/Ycsbm4sr39sX9l6zvLSaW2urS6+PPwvguba4hdo5oLiCXxQksM0UiskkUiq6OpVlDAiuL1P8A4Kff8E2tFvptM1j9v/8AYu0rUbby/tFhqP7TvwXsryDzYkni862ufGkc0fmQyRypvQb43R1yrAn+RE/8GR8hJJ/4KVOSeST+ya2SfU/8ZI00/wDBkWScn/gpOST1J/ZKyfzP7SFfmx2H9cI/4Kpf8ExycD/gof8AsQkngAftT/BDJPp/yO9fb/h/xBoXizQtF8UeF9a0rxH4a8R6Vp+u+H/EGhaha6touuaLq1rFfaXq+kapYyz2Wo6ZqNlPBd2N9aTzW13bTRTwSvE6sf4P1/4Mi9rK3/DybO1gcf8ADJWM4Ocf8nIV/b1+z/8ACv8A4UZ8Cfgx8Ff7c/4Sb/hUXwr8AfDP/hI/7O/sj+3/APhBvCuleGf7Z/sn7dqf9mf2n/Zn2z7B/aN/9k87yPtlz5fnOAeu0UUUAFFFFABRRRQBKnQ/X+gooTofr/QUUARt1P1P86Slbqfqf50lABRRRQAVHKSsUrDqsbkfUKSP5VJQWiRZGmjMsflShkDFScxsAQQQcqSGAyM4wSM5oA/mg/4N7/jrZePvBH7aNhcXBi8ReGf+ChP7U1zfW0t2bm4UeJPHY8b+fGHSA+Q8vimSFniTy5ZY7mQ7ZHkjT+pS4t4b6AAkEMoeGVcEruAIZf7ysMblzhhjkEKw/wA6b/g3v/ae8H+Av29f+CinwF8W67Hour+IfjZ42+KPw++03jWlreto3j7xR4b8f6a5lDW0k91Zah4QvYowY5RBpN3dMJYrQvb/AOgn4U+KHgrVdC0uaLxJpk0wsbVbhYLlLopKsSI257cyoQxG8MGIKsGyBX5RwvnuHyvizjThnNcbl+ErYfMIZrl8amNpwqYjLc1isZSqyhXlCaqQrV6+HqW54yeGc1N+9Gn+m8R5LXzLhjhHiLLMJjcVSr4GeWY90sJOcKGPy2Sws6alRjOPs5UqVGvC/I4/WOVwWkp9I+kXqsQqI4GMMsiAHgHgOVbg8HKjkcZGDWc6PGxSRWRxjKsCrDIyMg4PIII9q24fF/he4GYte0wgnHzXUcX5+aUwPc4GcjOQaqzXeiX8wZfEmmStjYird2LthclhmKZA2GLH7gIHBzjNfpcMxwFVJ08dg6iezhiaMr+lpu5+eTwOOp358HioW358PWjb1vBWMyity3sNOlzjUIrjIyvkSwcAZ3E4eXcOnIwFwc5zxZbSbEIxE7rhSQ7SRlV4J3MNq5UdT8y5A6jrXVGcJLmjOMk9nGSafzTaOdwnF2lGSfZxaf3NHNV/Nd/wVot4b/8A4K+/8EOtFkvII31Txb+1TqggvZ4o7Nbbwp8LrC6vAQVaRLvUF1aK0sY9rLfXCJAux4wT/SvPEsMrxrIkyqflkjIKsCARyCRkA4YAkBgRk4zX8F3/AAVj/bu8NeL/APg4/wD2Fvh14Q1yy1bQv2RUtPAmvzQ6hbNYJ8WPivZa5e+J9IguxJJaPLbaPqHgXQr+2jb7XFrtrqWkTKl7beTH8pxxGhHhbO8diFUlTynKc3zTkpLmlU+r5Rj4yhy3SmpU6s/cbtN2T3PpeDpVpcSZPg6DhGeZ5plWXc9R8saft81wM4z5rPltOnD3l8Kbkr2s/wC9HT1d/C+iMjFoYIPJIG7ASNmhhyBldsSR+WHYjqNv36qzKzxSojBXeN1Rj0VmUhWPXgEg9D0rh/hV8T9F8TeDtOayZbstZiXBuAgkiuVMynKRuUUrIyAjJDDaOqk9hH4l06ZtselQllJWSNtTkjlRh1ARoBu54GD0wTjIqsk4nyPGZNlOKw+PpVqOJwGFlSnRjUqxnajTUlGVOE03FvVJt2V9tRZxw7nGFzbNMPWwVSnVw+NxCqxqSp0pRvWm4uUak4NKS2ulrpvofxv+OvDH7f3w7+B1n+xZ4l/YZ/4KD2l18LvjD8UvGGs/H39gT9oL4cfDvwt+1LZ+P/ilqvj268TeMtX0+w0fxtZxeK9I1W60/UNF/tSx1bTZdUvJtYFxfW1tZWXsP7NN5/wcGfBjw9P8Tfhb+yB4TP7O9tr/AIpuPB/7DH7QX7Xt78Rf2nLqy8U3NrqsHiLVv2gvicniNbfStCEV5p+heD9R8WeGNRsJr8y6ro2qPFNcXX9bKanoW1TcWzwk/wBx5LhB6/NE+7jofk4yO3NXo7LT9QJlsLxDHgBkT96UbkchnWRN2MgOMk5IOCAPoqOMwuIajRr05zavyKSVS2mvI7S69vyPBq4TE0FzVaNSEdudxbhfa3PG8H/4Efht4D/4K2fG1bG30748f8Ejv+Cjnwy8cR2Rn1Sx+Hfw38H/AB18CR3K3U1rJaaR478NeMdDm1I5haaOW58MaWskGJlHlS2z3HzN+0F/wcZeAvhh4zb4IeBP2JP2s779o5NH07xdd/DP45+HfCvwDstF8BXt01mPFurazrPifxDqH2aa88q10+zsdAu7i93XE0fFr5c39KmpWR06J7iSRWt0DM0n3SgRC7F1JwBhXIIZhhcsVyBX+c5+05oc/wC0JpP7WX/BcgXeoXGh6x/wUn8Nfs1eA55bm8GiXX7HHg/wrdfAq08S2SRyfYLez1zx7q3grxHcKz/ZRr/hO8UytcXjy3PtZRDB1czwFLMOdYKriqNPEuDUZRpVJqEpptSsoX55aP3YtLU+F8Q8TxHguBuK8bwj9XfE2CyPMMbktPFU5VaNfH4ShPEUsNKnGpSlKWK9m8NS/eQUatWEnJRTZ3/7dX7QHxe/4KaeLfCniH9pLw/4M+Hvw48JWdqmi/AT4d3MuvWV5c2+oy6tDc/Ef4narpOka/40aC5kiEWh6TpPhbw1bNbHdZ6l9rvprv5H0P4S+Kvgxe3Pij9kb4seN/2ZvFrpM8+meDNTkv8A4UeLC1tNANL8f/CLXRqfgLxTodyJBHe2F7oUkE0Q/ewz42H3UEMARyCAQfYjIoJABJIAAJJJwABySSeAAOpr+maXB/DlPALL3leHq0OWznWTqYlvX344lv21OV5SkvZTpxi5S5IxUmn/AIe476RXjLjeK/8AXCPHOb4HNVV54YfLakcHk6h+7j7CrktOP9nYyk4UaNKo8fh8XWrwo0VXq1ZUqcoz/Cvwz4F/bU8Qz/Arwn8LPhJ8C/2w5LibWPiv+wr458Qatof/AAT9/wCCh3geGCS58U+P/wBnEva3Fz+zl+0jbws97o83gOXQr/w09l9strw2J8XDS/0s039sL9pb/gjX8Av2t/hD+zH4avv+CgX7NH7I/wARPhgfD3xG8X+J9a1CD9ljQPHWoXNv8Sf2YvGvifw3pmo/8LA8QfB1bOw1BdQ8LmHw78PdF8Uq3ja+0W+tdG8CX38q/wC23+1z8N7rXvB3wv8AAl9qGqeLPDPjzw94h134l+BoWufEnwwj0LUo729u/h1rVnd2N1D48sVtluY77Tr+3ttP8lraW8W7eX7D/V/q3/Be7/gh3+zD/wAE3vDHwG+B2geI/jPoHjH4V6r4Fv8A9lHQPCviyz8S3dz440K9X4iW/wAX/HvjbRtK0iW81bWdY1SLxn4tt9Q8Ta5r+qajdaxo+mazA0s8P878T5VgMpzTE4bLMdDHYSnU5VJSg50KjXNLDSlGTVd0U1GVaEVHmfs5qNSLT/2O8DePeLOP+BMmzjjjhfEcMcQ4rCKvKnKhiKWFzXBRlGlQzqjRq0k8sjmM1OrRyzE1ZV3Sj9aw7q4KrSmv69fDmuWHibw9oXiTS7yw1DTNf0fTda0+/wBKvYtR0y9stUs4b21utO1CD9zfWVxDOktrdxfu7iBklT5XFbVfx1f8Ei/+Cif/AAUE+Bn7AemH4ofsGfGX4lfs5/s8eFvHPjIfGzxz4u0L4NX3gb9mfwfol14g8I+B/Btp8UbHRdc/aH8UeEdCsZ9A03V9L0L4e+Fn0yx07S49cuprSG6v/wCr34E/GnwF+0b8Gfhh8ePhfqbav8Pvi54H8N+P/CV9KscV22i+J9KttWs4NQt4pp1stUtI7kWmqWDSvJY38NxaSnzIWFfOn7MesUUUUAefQ/HDwoPitq/wU0/WrCfxz4S8A+EfiL4g8O7v9PtfDnjzxB460Hw1eyhlGyDUr34f+KIreSNm/eaXMJAoKCT1zVkWWO2vo1IWZF3H5RwyB4tw4YsVLAnJACKOMDP+eB+0D/wWT0b9nj/g5q+LXjbUPFBj/Zss7Lwh+xl8Ub22kE1np1l4X02xbVPFV1C032dJPh58ab7xAt/dRiS5TwtF4ht7eMzajNA/9+HgT48fCHxVoHh77J8Q/CV1dahpOnzxWk2r6fHdXMcltHLBOtq9wxZLmILcQshdZEZXjJBFfJPO6GT53iMBneaYPCUswgsVlE8bisPhY1l7SNGrg6Drzpe1r0Jyg5U6SnJ0qlGb95yb+oWT1s0yfD47J8uxWJqYKUsLmsMHhq+JnSlyOrSxddUYVPZ0K0IzUalTlj7SnVinaKS7SitlNS8KXbFor/TZWIBPk3S7cYAGFjkCjIGeAM8nk5NW1XQm+7JbNnpi5Y/ylr6WGLwtRXp4nD1E9nCtTmn84yaPnp4XE03aeHrwfadKpF/c4rujm6K6B7bRSxb7ZFEMgbftUKqDjt5mW5xk5Y8k4wOAn2PR8Z+3Jg4IP2u2xg4wc4xzkY+oq/bUf+f1LTf95D/Mj2VX/n1U7fBLftsYFfn3/wAFYfFNr4O/4Jkft+61dztbIf2Qv2gNGgmSWOF0v/Enwy8SeHdM2SSyRBWbUdUtVXy389iQtukk5jjb9KF0zTXOEuWc4Bws8LHB6HAQ8Hselfy/f8HYH7WOg/s4/wDBMTxX8FbfXorf4k/tY+KvDPw48K6dbXkUOsHwd4b13SPG/wASNd+x/vWk0VNL0ay8G6m7bAJfGlmEJZsracZLRpp3V00/Xb1Js4yXMnFpp6pp9/U/oA/ZV+I9j8V/g/8ADPx3ZPB/xUfgDw3q80duzeSsmp6Pp1+4jEipL5RM6tEZERmQqxUE8e8ajp0NujTRShcnPkyEbmy3PlH7zbdy/KQSFBZnJwD/AD8f8Edv2tYtQ/ZW/ZUPiS6tZ7LVfgD8KJJ9VhvEupRM/grRoNWsbx4oQLq80fUlnjmkxHcebb3UEkQdSE/eS2+K/wAPdSjcwa7HPGCocNpuqAZOGXKyWIyOhDY25HByDj8c8LfErhriHh90Kuc4HC5rk+OxeTZlg8diKGCxUMZls/qtWXsK9VOUZSoyk503OF7tS5XFv9W8R/D7iDIs7jWpZTjcTlma4LC5tl+LweHrYvDTwmYQWIpL2tGnKMHGNWK5KnLKN1Fq8ZWsUVetvF3gu8JWDUdPdgM7Gt3jcgdSEkgViB3wDjIq1/wkPhbIX7TaAnjBtJV6+pNuAPqeK/VoZrldSKlTzHAzjLaUMXQlF7bNVGnuuv6n5pPLMxpycZ5fjYSVm4ywteMlfa6dNNb9THoq9fax4amjAj1PT7aRDuDyBoEKfxB2KKoHQgsGIIwMbiaowT6XdIXtdd0W4wpbbFqEJbgD5SCRtbJAw+3BIDYq45hgJyUIY3CSm9oxxNFye20VO7tdX00uRLBY2CcpYTFRit5Sw9WKV9rtwSVz4m/4KUazd+HP+Ce37bniGyv5NMl0H9lb4760+oQmUTWlrpXw28R319NEYFeYSJZwTlDEpk3Y2jOK7r9hP4u6R8dfgD8FvjDpNzDJb/E74P8AgbxiIoJFkhWTxB4d0jWSInRmDx7bp3ib+KIq4yrqW/Oz/g4v+NsfwA/4JAfte6rJcRQ6t8SPBukfBnw/b+db7tSm+K3iXSfCWt29uziRJHtvCN/4i1SREBl+zWMrRtG22Vfx7/4Nlf8AgpVpGvfsWaB8ENaurS68e/s8X934P1OzvdVVNQvfBd9e3mq+B9YihnLLDZ2+l3E3hKBRtjkXwvsKqxjJ/OfEHNcBwfi8k42zSrOnlGGxVHKM1rclWrTwNHGSqSweN5aMJOMZYtxwVWU2oSnisMk+aKjP77gbLMbxThc44Py6nGeaYnD1c0y2jzU6c8ZWwsaUcVhG6so80o4VSxdKMU5Rjh8Q37rco/2y3unRXeZB+7nC4Dj7rkY2iQYJOANoYfMAedwVVrmpLK7iLb4JMIMsyqWQDG4neuVIA6kHjBBwQa+LI/28PCiau+nXltLp4hkEcrahbEqxZVdHguLB7iAxMjZLXDW20YGc5I960L9pLwRrkUMtvrvhsGdY3jifWbSCYiQbgPKkuWkBIwAdhGfWlkvjV4ZZ/Vq0Mr4ry2vXo1HSq0ZVY0qsJpuLTpzamveTWsU7rYebeEXiHklKlXzHhrH0qNaCnTqxpupTlFpSTVSCcH7rvo2ranqGD6H8jSVlH4paVIqiK1ivg4G77JqFvPGY2zubJjCsMdFDMGB5PWmH4h6BIAs2hX4AOcwf2f1HA+b7ZbMQQTkHjIHBwCPs1xVkD2zKk1o7qnXcdbW95UnF7rZ6bvSx8m+Gs8Su8vqrW1nOin/4C6ikvmjYorDm8beEmAYrqmngFQxktBPHt5LMRFcTMCMrkhiMD5UPJrAvvir8M9NWU3/iyOw8oA773TdRigZf4m86K3mUBB1zjnA9SCrxZwzQi54nP8pwsFvLF47D4SK66vEVKSXzsKnwzxDXnyYfJMzxM+kcLgq+Jk9UtFQhUvutrn5T/wDBf740X/wJ/wCCTf7WfjOwv7vTptQ8HW3gWO5sZTDeR3fxI1CDwDps1s8f79ZbbUvElpcpLAyy2ph+2K8f2YyJ9sfsEfHyw+OP7MnwB+LwvIpdP+MHwe+H3jqVneLy4tR8R+GNM1C6WQKFijk866eC6iVEMUiFGjRYiB/Jh/weE/t7+ALr9nn4D/sX/DHxppniLxB8SfHn/C3/AIkxaNLcM2l+CPAlle6X4U07UxNHDG1v4n8V61PqdoI1ldbjwNJvaEALL9I/8GxX7aul/Fb/AIJ/eD/grruoQyeJ/gF4i174c36TTL9u/sK6vpfEfhC+Fv5u8WC6NrcOgWs2I1eXQLlEDyRFX+C4rzfK8lqZRx3gsxoY3B5jmFHK/r2HxFLE5cqVeg6OFisVh5TpfVp4vCVsPKopyisVj+XR7fbcMZXmOb0804LxmBrYPFYHA1cy+p16FTD4/wBrRrwq4mTw1dQqfWY4XE0a6g4KTwuCvrHR/wBkdxpNs8L+RH5coBZCGZtxAOEIdyuH6ZyNpwc4BB5bafQ/lXO6F8UtAh0+C01XUrVL21gCSSXN5BC86RjCynftBLJtJP8AEc/xZraPxO8Pn/UOt2D0NvcQSK3YEMDgg8YIyDn5c193Q4ryCvRp1lmeEi5wjKVF1VKrTk0nKnOEOaXNB3i7K11daNHxdbhnPKNWpS/s3FSUJyjGqqTjTqRT92cJSsnGatKOt9bb6E9FUT4x0CT961hGm7HW9jiGQMY2LtVTgcjaM/e5zkonjrwzblt9tGBgElZ4ro8ZwBvyF687WGeM9BW/+seSKzeY0Ip63lzxWtrauCS3/rS+P9gZzeyy+u3taPJJ30092Tvutv0Zfrxz9oSzmvvgj8UYYApdPBmtXZDEjMVhavfT4wDlvIt5Ng4DPhSVByPUv+Fl+D0BM8JiwCSfJs3XA75EwYcZJygAwea+Fv8AgoH+3z+z3+yj+yh+0D8ZvFPiazS48E/C/wAV3Oi6LPZSzWniXxjd6NeWHg/wgjALZm+8T+I7nS9Gije5SLdd7piiiRx4XEea8NZ7kma8OT4gyvC1uI8ux2Q4X22LpUqlTEZtha2BpQo05yjOrVc665adOMpydlFNtHtZDlnEOTZxlufRyLMsTSyDH4POsR7LC1atOFDLMTSxlWVacIyhSpqNF81So4witZNJM+If+DeH4u6Z8Qf2Np7O1u2uBon7Q/7UtrbPNdw3U72msftDfFDxHp6P5M06wpDpniHToYIRI6LFEjRMbdoCf321aylaVrqNS6FAZcEEoUAXIXAJXaASRuIw5baoFfw9f8GonxgbTv2MvGOpajey3Umj/tMePdFvIri+R5ooL/wz8P8AxWt/LAmJ9t1d+I74R314ZZJrq0uo/N8mHbH/AGs2PxT8OXtpFeJf6eYZj8jRXsc+MAlg3l5IZSGD8YTHzEEHHy/AHEWXZT/rBwjmeMw+Fx/DeeY7D06dWbhKpluIqvE5fiffUUqc8LVopWbhHSKlqj6LjfIsfmn9h8U5dhK+IwWf5Pg60504KcaeYUKUcPj8O3BybnDE06t7pSeravcvUVTfxjoN7Jutjpl07ZztvWjYnJYsVjXljuy24eZzz04tQ31teEskMEIAGBFdtKp5PzHdESM9M7sHHAyDX6VTzzK6zSo4uFa7snSvOLem04px69z8+qZNmVKPNVw06S00qWhJXaS9yTUt/LoOoq4Hs42UmJZMbtyPelR0IGdlqG68jD9Rz3FVbm6tIwWjtmc8sY0vVCr3Cqz2pOB0BJJA5Y+vRPMsFBNyrWsrv93VbWidrRg23Z7JPZrdGMcvxk2lGjdvb95SS+bc0l82hjEKrMTgKpJPoAM5r+TX/g3Q/aGs9U/bF/4LEfCQ6mJreX/goh8aPiXZbw0KTj4meL/GGlpcRwO0bRveN8ObViptYSiwCNyzMkcf9KXxo+P3hv4NfDv4g+P/ABF4f1mfR/AfgvxJ4v1d9OvdOmljsfD2j3mrXjCO6FmhRLa0kfzPN2YHOBnH+Yr/AMG/P7dE/wAMv+CmPxA1PxtqiadF+1QPE93NOLhLNP8AhZkPiuTx3oTqCYbGWS7tp/Fej2loyQPc3ur2tvaSK8gtLr8+4y4iwiyLNOIcpxVXE1uDHhc2x+GhQxUI/U8Pj8Ji8xUo1KMFUksrwOYRjyc6ptuc7JK/3PCeQ4p5zluQ5ph6eHpcWLFZbgsROth5v63XwOJwuA5XTqz9nF5ljMC5Kpy+05VGKerX+r7q1kY5DcxKTHIcy8ltkjE5YjGQj5GDkgOSPlBQHFqp4H+KfgH4i+HLDWdD8S6LfQ31lDLc2v22CK7tJnRTNb3VnLItzbSwTboyJFBV0yrnAautSw0mXaI7tX4AHl3MLlyWODwGyTnaNoAIA4zkn77Ls2yzN8HhsflmYYPH4PGUadfDYnCYmjiKNalVip0506lKc4SUotNOLZ8Pj8szHK8VXwWY4HFYLFYWrUoYihisPVoVaVWnJxnCcKsIyi4tappd+pztFdC+hqdxjuD/ABFFaMEd9qs4b6BmCepC9qpyaPdIBtaKQ5A2q+CAQef3gQY6DAOeRgYyR6F13X9f8OvvOEyqKtvY3iMVNvKSMZKIXXkA8MmVPB5weDweRUMkE0WPMikj3Z270Zc4xnGQM4yM+mRTAiooooAKKKKACiiigAooooAKKQEEBgQVIBBBBBBGQQRwQRyD0xXk/wAUvj18Dvgdoz+I/jR8Yvhf8JdAjSSR9b+JPjzwv4J0pY4lZ5XN/wCJNU021CxorM583CqpJwAaAPVpJI4Y5JppEiiiR5JZZHVI440Us8kjsQqIigs7sQqqCSQATX8Sv/BaX/gvZbfEu+8Y/sbfsQ/FqLwX8KFluvBPx8/a/wDBkFx4p8UeJtTmFtHq3wU/ZN0bR72zn8ceN722vINJ1bxVp+oWej2Emr26N4k8LaVJF4tlb/wUM/4KUftb/wDBZj4qeIf+Cc3/AAR1abTf2fUmu/C37S/7Y+q358H+A/EunXFw2n6n4a0HxxPDJc6f8OmtxM9+/hiG98cfE+1S8svD+kSeDINRk8S/rl/wSs/4IL/sQf8ABOO08M/EXxPqTftM/tS2GmxwP8YPGWiW50DwJdCZ7may+DHg26S60vwRaJPLMDr0lxqfiq8mlvp11jTbPUbjSV4a2aZbh5yp18fg6VWDtKlPEUlVi7J2dPn507Si7ct7NPZnZSy7H14xqUcFiqlOSvGpDD1XTaV1dVFHkaumr81rp9j8Qv8Agnx/wQb/AGiP2rPhz4e8M/tE6H4r/YJ/4J3JqWneKov2XtB1aM/tT/tV6raTJe2njb9q7x0tjZXFtPdv5T2mg32mWFr4YginsfBvw58E3c58W6j/AGkfs7/s0/Af9k34YaF8Gv2dPhd4S+Evw38PR4sPDXhPTUs4prl0RLjVNXvpDLqeva3feWj6jrmtXl/q2oSjzb28nk+avZ38QabGMW2mS3QJyHurv7OdpH8IgimUjgEZ55PzcAVkyeOY7aQRx6NpaliPN87U5ZFiRQSW8yWxUE8/6tEBOPmbOAOCtxLk2H/iYt7pJwoYiad7JWlGk4vVrZt9djuo8PZvX/h4Xo3aVfDwaS6uMqqkvmvxav32mwxW0MupXTCOKKOR1ctwkaK/nSMAOwBVQST947M7DX4sfE79p7SYv+Cw/wAK/gVdXUWnN49/Yn+Jus6bZtKgl1HUfCfxY8GXehLKrSrvuZdIuPHV3BFHEzQQWkwDMHmcfqZ48+KWi6T4cuH1W703TbcQpLIGvEEZgVA4UMQhVVYKcKpz8kYBZgrf5tv/AAU3/wCCmEvw1/4OEfhf8fdMvLi38J/s1WXw5+F+svHLKLefwj4s0bUtT8ZXxtoWcTS22jfEueU2rhn+3aNbRyBJ7dSn55xVxNQznNaPDmTV6eOxuDybN+Ja2WULSxmJpZdhJYejD2X8Snz47HYHD0bqLlXrqTjONJRl93w1w/WyfLauf5tRng8Lis2yrh+jj6144XD1MdioYitP2l1TnyYLB4yvW+JQo0GlKEql1/p76Ldwavo1nP8ALIktskcynHE0SiOVSAflKyKSpBBA2uuMg1nz6PcpKwgUSxHlWLorAHPysGK5Zf7wGGGDwSVX4M/Z7/ax8OeO/DWk+IPD2q2F9Zaxp1hqbWq3UVzbXNtfW0U9tqWnXkDmO5sbuCSOW0v4z5U8LoXLuuxfre3+NOhuiPcabqCBhl2tntrhB1wVLy2+4E4znAAOcnFelwn4qcIcR5Pg8bRzajFzowjNzVSznFKE3JqMnRmpJqrRrqnWo1FOnOHNBs8/ifw14pyDNcVg6mWVpRhVk4cjhdQk+aKV5JVIOLTp1aLqUqtNwqQk1NI7B7C8Ript5SRjlELryAeGTKnrzgnByDyDVZlZCVZSpUlSGBBBBwQQehBGCK55fjf4HJCyT3sJzhhJFattHqfKvJMjHOFyfbPFXbb4v/D3UiYl1QsysD5U1hcsehHmKqwyBlAJBZCSoPIG4Z+qp8YcK1ZKEOIMo55fDGWOoU5NrdKNScXdX1VrrXTRnzVThTiWlFynkWacsUnKUcHXnFJ7NyhCSS1Wt+ppUU5PHvgKTO3UrTjGd2nXidfTfZrn3xnHGeorqdPudG1WD7VpsljewbihkgWJwrjqjgLuRwCDtcK2CDjBBr1sNmmWY2fs8HmGBxc+Vy5MNi6FefKt5ctKpJ2V9Xa19Dy8Rl2YYSCqYrA4zDQbUVPEYatRi5NXUeapCKu1ra9zlKK6u9023mAkDR2ojVjIyooQoPm3N8yIoQbiWIyQeThRXLWLWesaRp3iHQtRsdc0HWLC11bSdW0u5iu7HUdKv4Irqw1C0uIWeG5tLy1miuIJ7d5YnhcSK5Qhj3HGNooooAKKKKACiiigCVOh+v8AQUUJ0P1/oKKAI26n6n+dJSt1P1P86SgAooooAKinBMMwAyTFIAB1J2HgVLRQB/jNfEz4Y/tw/Bf9uf4u/Gr4N/Bj4+6D4u8LftDfFHxD4U8TaR8KfGt5bTRzeN9f+V0bQJ7DV9E1fT55LS/sblLnTtW0y7ntbmKe1uHRv1L0v/gtF/wW00ZV/s79k6wtHEao8tv+y58Wrd5toxumFvrMUbMxyzAIF3ElVA4r/UVMMJJJhiJPJJjTJPqeKPIg/wCeMX/ftP8ACvls84I4R4lxmHzDPuHcpzXH4Si8PhsbjMJSqYujQc5VPYwxFlVVJVJznGHPyxlOpKKTnNy+kyfjDinh/C18DkufZnluCxNX29fCYXFVKeGq1uWMPbToXdJ1HCEISny80owhGTahFL/MStv+C6X/AAXStRtj/ZZsAuMbV/Za+LkIPIwWa21uF2IxgbnYckkE4Io6r/wX3/4Lc6MITrX7N+g6Ut0XSA6h+zp8YrBZ2RQZFh8/xZEHZFZSwjyV3AnGQa/0+/Ig/wCeMX/ftP8ACvyD/wCCoHxA0fwx8Tf2GPh9ewFX+K/xP+N2nCQQgWyweCv2cPiT4+SKeaOaOWOW51jw9otrbKIbiN3mbzVjRTKvzHEvB/CGQcM5/nGB4OybHYnJslzTNMLgKsJUqeLr4DBV8XSwsqyjXnRhXnRVJ1I0qjpqbkqcrcr+h4f4q4pzriHJMqxfFWa4Ohmub5bl2IxlKUalTC0sbjKOGqYmNFyowqyoxqOqoSqU1NwUXOKfMv4cr3/gur/wWzuIEmuP2YtIihcB1uP+GbvjIFkSReAJJvE8iMjhg2V+9wQcE555P+C3f/Ba+9k8iw/Z/u47qWPyoRp3wO+OYmSOMb9kEKeLXjCIiMfLEJRVBIUYyP8AUV+Gc2n6r4Z0pY4reW0vNDsJ4yI4mUYt4Y90ZKkbjuDA4P8Aq0YdMnWezgikdDbQq6MykCKPIKkgjKjB9Mg4NY4Lw48PM+weDzKXCHDcqeJoUqrj9Qc5RVSEJP2WIhXppXg04VFT5leLd3c3xnH3HWS4vFZeuKc/VTDVqlNS+uqEW4TsvaUZUajfLKMlOm6lm043SbZ/lyav/wAFZv8Ag4u+Jnh7VtK8D/DT9o/w5Dc28mnXut/DL4AfGa71Kya5VcvFeapF4mtrK98gSJBKtuksKytNDsnSGaL8WZf2K/8AgpTP4zf4jXH7KX7aFx4/l8SHxjL40uPgj8Z5/FE3ixtS/thvEk2uS+Gn1KXW31XOovqclw1496TctKZSWr/bCEUa/djRc9cIoz+Qpdif3V/75H+FfdZNw1kPD+FrYLJ8rwuBwuIbeIpU4OarXUo8tWVWVSdSHLKaUJScEpztFc8r/F5rxBnWeYmljM1zLE43E0ElQq1JqLo2alekqahGErxi3OMVNuMW5Pljb/OW/ZX/AOCyH/Bbn4DeBbHwP8Sf+CbHxx+Nv9k26Qad4mb4I/HDwB4huSBH5s+ujSvBesaHqE9wyyPMbDRdHhd3DmHeHaX6bn/4L6/8FYpbhruL/gjh+0FaXBC4e38LfHAxl1CrukguPg1PG2UBVtgic8HzPlAr+87Yn91f++R/hRsT+6v/AHyP8K+bj4W8C06ao4fJHhMPGXPSw2CzPOMFhcO0moxwmGwmYUaGEpwTcadLDU6VOlC0KcIRSS+hfiRxnObq1s4WKrSjy1MRjMuyrGYivezlLE18VgatbFTm0pVKmInVqVJXlUlKTbf8I8H/AAcJ/wDBXqBQI/8Agj5+0CCFxuPg740OMkYLKsvwWkUEkk4wRk85r9Bf+CYn/BWf9sr9tn9qfQ/gB+0H+zb8WP2PvGyabc/FPwxa+M/DviTRdJ8efD7wZqWkWnjqFLjxT4O8IXc93p1xrui2a2dlp9/ZXS6yrXk9mbdfO/qz2J/dX/vkf4V+Ev7RvxLOif8ABfv/AIJz/D9rmK3i8Rfse/tbWsMNqF+13k+rXvhjxDLBqW6cY09YvhilzZGK3En2y1mDNLFu+z45l4XcMZjhqOHjX4ky50MZgsZTr5dxZxFSrKWCxVDFexkq2Y4ihOhiVR+rYmM6Mpyw9WqqU6NZwrQ0wHiPxFga9WvKjw/j1XwuLwtSjj+Gchq0nHF4arh/axdLAUK0K1B1fb0JQrRiq9Om6sKtLnpT+i/+C237WUv7IH/BMf8Aar+LFrrD2HjPVPh7e/Cv4aSLdeXqI+IHxakj8BaDfaQrMGmv/Dv9t3HixokDFbPw/dTsjxwup/ND9pr9hjTvgT/wa8+Nf2XdX0lNO1/4ZfshaD8V/GVqZRBJa/Fvw/r2jfH/AMczpcfZ3kZo/H8GsxxBo45bi1CWjyW6yM8eV/wWp1N/2vf+Cm//AASQ/wCCXumOuq+F7v4sTftk/tB+HmhaazuPAXwqj1afwxa6vKu2K3sNb0nwz8V9DZLiZfMvtT0cRRPdS2Sy/d//AAX0/aZ+BP7Pv/BML9qrwp8V/iL4f8I+J/jd8EviL8KvhJ4Uup3uPEnjjxl4i8OXGl2OnaDodmlxqV1aWc17bS6zq32ZdJ0S1kS51W9tIpI2f9GTas07NbM+AlGM4uMkpRas00mn6p3R/Hv4S+IWiQfBnwj8SvFmu2Gl6Lc+AfDfibVtd1G6ht7KOHUNEsr2S5kuGkaM+c048tUkkaaR0ji8x3UN+eXjP4y/HD9tbVr/AOG/7M1vf+A/gzFLLp/jT4ya5BNpkut2w3LcWGhsge8itblFKpZacF1W+WSBNWuNE06a7hk7HwD8CviD+1J4T+DuuftBrp/gf4P+CPhX8HfDHgj4FeALt7XSvFkXgP4beGfCUXxD8e6lbXUs8ms+NxpMvifVNPt51nt9Q1y+SCTSCbm2uv0b0HQNE8L6Rp/h/wAO6VYaJomk2sVlpulaZaxWdjZWsKhIoLe3gVI40RRwFUZOSckkn+ncPTzbiPB4WOJ+sZNlU8LQ+sUlLkzbMZOlB1YSqRb+o4OUuaL5X9bxELt+whNc3+GmbYvw/wDBniPPp5K8n8SePcLnmaxyjHToPE8A8GUaeNrLA4mjhK9OC4r4koUlCrD2kI8P5PiVDk/tfE4dul8/fs+fso/Cf9nTSBD4U0ldU8U3lukWueN9bjiutf1NyA08UEpTZpWmvJyum2AiidUha8e9uYzct6F+yb8G/C3hy8/bf/ay0r48aH8D/i9/wTJ+Ingb9oT4W6X8UdO0fVfgL8TvDXx3sh4q1T4V69pZ0a68UWWu+MfE3gjxD4Q0m+8G3g8QXN/4usbGw068MFqsfq1eq/8ABI/9hb4Ufte/8FX/AIuar8e49S8VfD34HfCb4PfG/QPhM99Mngfxr8RtL8Qax4b8EeIPH2lpKINes/A7t4ku9M0O7he1vbzU1F+8uknUNK1T53xIy3BYLhfB0sHhaWHpYTH0YUoUoRioQqUa0Z6pXbnONN1JyvObV5SbbZ+x/Qu404l4l8d+IcbxHn2YZvmHEHCGZYjHYnMMVVr1MViMDmWU1MOuVyUVTw2Gq4ulhcPTVPD4SnNKjSjTpRpP1D/gpb/wc56P8eP2ItU+Bf7IfwF+IGlfGf45/Cbxx4D/AGjbv4k6Hf6J4d/ZxW+8IeK4PiH4F0PU510iPxl8QpvCmieJ9Z8L30H9nWtpoh03Ujpt54nGo+E9H/P34S/t5/8ABQb9kr9mr4K/DD9hj/gn7/wUz+DHxB8B+BPCel+K/FHiS/8AiD8VfgH8RvFNqlnL4r1+6/Z1+JH7O/jXRvDeneLZ/t88MXwo8bfDDULM3Nvc3Gpatepc3l5/XZ/wXk/Yp+F3xy/4JVftfwaN4e8M+BPE3wr8OeKf2vdA8R+H9Hs9Dum+Ivwi8Pan4o17WbyXSLWCS/13xf4KsvEng651K8825lTW0kmuB9njkj8f/wCDen9r/wAK/wDBSH/gln4I8BfFy5svGnxJ+AUa/AX4rWOpXLDXLqz8L20E3wx8ai4hkh1i01C98Gvoi2vi62uYtUbxh4e1vUrPUo9Us5JIfwQ/1qPwF8R/8HPH/BbvwF4VgsPGH/BODwT4c8WaXYWx1jxL4y+AP7SukaVOz3SJHqNz4dk8Y6K9gt3alYSqa2tu1/Ibm3EVvt08fAvxK/4O1v8Agrxq0mqaMlr8APhPfldWs57fw98HNVj1LS5b0GKLy4fH3i3xZLDcaMwb7ALuKUl8/wBpJf4AH94nxK8aftbfsGCXxI3g3xj+3R+yFp4aTV/7BS01X9sr4GaIgaRrk6ZItjYftNeAtBtoVtllik03442dp5FzrEvxUv8A+09cj871n4If8Ecv+C5Xwwn8c3Xgn4LftDywW9ppWq+K9Hgl8D/tA/DS/SK4az8N+K9R0hvDfxY8D39hJ5848KeKGt9Numh86XS7+yKtIAf5Hl94O+MfxC1HUvG974T+Ifi/UvFmoXviPVPEz6B4g1mfXtS1m6l1C/1e51MWlwb+41C6uJbqe7eaRriWV5WdmYk/q7+zz/wVB/4Kdfs5fDXRPhV4d8Kar428K+F7a303wt/wsn4XeLvEOreHdDs4VgstA07VbK50i7k0ewiRYdPtb9702FskdnZyQWcMNvH/AFkfE/8A4Nvf23f2OdR1Px3/AMEb/wDgor8U/hvpsD3WrWv7Pfxb8V6jY+H7y8acXElnFr+iWd34E8RidHki02x8bfDOKOKa3t/7T8Szm5nvrb4q1v8A4Lvf8F5/+CYmtQeF/wDgpR+xb4b+JvhwTrax+O9c8EQeABr11DHbh4/D3xf+D0er/BbUyyTJLdW1j4Wv7uCe4iVjaKPsx+d4m4R4Y4ywNPLeKsiyzPsDRxEMVRw2Z4WniadHEwjKEa9HnXNSqqE5wc6coycJyhJuMmn73D3FHEXCmMnmHDec5hkuMq0ZYeriMvxNTDzq0JSjN0aqg+WrT54RmoVIySnGM0lKKa/KrQ/+Dgv/AIK4eBW2WPgPwppscw3LbXHwk+IsMTMgC+ZEp8VxOpUYVhG4RhtEisFTHcwf8HOP/BYvToyw8L/DpIYR5khuPg/46ZFSP5mMkkvi7cqBVO996kLk7hjI/pH/AGdP+Dvr/gm38VY9P0r9oT4W/GD9nDWZ4lk1HUL3wzpnxa+HtlNu2mKHW/BpHjS8IB3iQ/Da2XaGG4MArfuP8DP26f8Agl5+2fp8fh/4MftAfsufFe58Z6bc2r/D4634PsPHOq6bqNkftlrqHw28TJpXjWKOe0uJIruC/wDD8TA+fBMqyRyovzWG8N+GsnjToZBwzkODwkH7tKNTMMI6cW05RgqE6sGm+ZqNoR11jq2fQV+P+Ic1c62d8RZ1isVNe9VlTwOKVRrSMpuvGnNNJJN3nK6T5tkv4K5f+DkP/guRPGFHwi8NRgkHfF+z/wDE7cwIIxl/E8g2nIOQAeBg4JBoQf8ABw1/wXO1GfyrD4QWFzPIQWgtf2fPidevICyoAsL69c7PmZUDwoj7mChssBX+mvH4M8EOimHwr4XdAAFMeiaUygAcAFbYjgdMVu2+m6daxpDa2FlbQoAEigtYIY0AAACpHGqqAAAAAOAPStafBNDEVV/aWWZAqMbf7q84nV7NR58bQjTutHNcze0otNmc+L62HptYDMc7dR9MRHKoU+6cuTCV5Ts9VF8q2akmrn+ZAv8AwW7/AOC/Piq5/szQ/wBmnXJdevlcWcuh/st/F3UtaDQo1xK9nbT3+pRyskEUrSB7OdUhWR9qhNy/k9+1l4B/4LFftwfEx/ix+0z+zz+2f8S/FkVp/ZejDU/gB8V4NE8LaKJnuE0PwtoNr4Ri0vQtLWaR5pILG3je7uXku72W5u5ZZ3/2SRDCDkRRgjoQig/mBTtif3V/75H+FfR5Vwvw9kdapiMpynB4HEVouFSvRpv2sotpyj7ScpySk0nJJrmaXNeyPAzPiTPc4pU6GZ5pisZQpNSp0as17KMkmotU4KMW4ptJtO19LH+Vx/wTx/av/wCCvf7BXgofB67/AOCc3xp/aA+CEN5cX+j+DPiB+zt8b9C8U+Cbm7uJr28bwH8R/Cnh6w17SLW8v5mvJ9H1uDxNoMdw081lpNpPeXktx+mz/wDBar/gqPpt5v8AC3/BIX9qrTtNBZk03XNP+OGvGAk5RLe8t/ghotwkEQJWOKQynAXe7kEt/oI7E/ur/wB8j/CjYn91f++R/hXzueeFXh7xFjHmOacLZc8ynUdWtmWX/WMmzHEzcnNvF47J62AxWMTm3JrFVaqvKTteUr+9k3iVx1kOEWAy3iTHrAQgqdLAY32Ga4HDwUVFLC4PNaONw2FajGMU8PSpSSjFJ+6rfwIWv/BeD/grtZLttv8AgkT+0Dkcq1z4J+N94VPGCDcfCJ34xlcOACBkFcqcvxB/wcS/8FXfBcek3XjL/glp8WNAttb1/R/Cuhy+J/CPxX0aDVfE/iK8TTdA8O6ZNc/CmxN9rmtahNFY6TpdvJLfajdyR29rBNKyof8AQD2J/dX/AL5H+FQz2dpdIsdza29xGk0FwiTwxyolxazJcW06rIrBZreeOOaCQAPFKiSIyuqkc9Pwk4GpKMaWAzelGFrQp8W8XU6ejTSdOGeKEkmtFKLSvpbS28/FDjOo5SqY7LKkpbzqcMcLzn20nLJnNfJo/glm/wCC+v8AwWCkhnVf+CQHxta4ZH+zyXXgH4/zwQzEYR5LVPhxAssanOYleFmBIEijiuRvv+C9H/Bb02dxFpH/AASm+I9lcyhfKN98D/2h76wT94nm+ba2fh7SbyXfCJI08vU4NjskjeYqGN/9A7Yn91f++R/hRsT+6v8A3yP8K7KPhnwbQ1hl2Mbvzc1XPuIK0ntdSlVzScpQdtYSbg7u8dTkq+IfFlb48fhErWtTyXI6KXnFUstgoyXScUprpJWVv8kn/goP8Yf+C3H/AAUmn0HTvj1+yf8AtK6T8O/CmqPrnhr4T/D/APZq+M+h+A9O197a5sR4iu7XUtI1vV9b16Owu7qyttR1rV746dbXl/FpUVhHqN8lx8K/Cj9lr/gqb8C/FK+Nfg9+zT+258OPFItJbCTWvCPwU+MujXdzp87xyTafem08MJHfWEssMMslleJPbPLDFK0RkiRl/wBqDYn91f8Avkf4UbE/ur/3yP8ACvqqeS5TSy15NDLcE8qlSlRnl1TD0quEq0ptupCtQqxnTrqo25VPaqbqSblNybbPmqmbZnUzBZtLH4tZnGpGrDHQr1KWKp1IJKE6VanKE6TppKMPZuKhFJRSSsf5Cf8AwsT/AIL+/wDQoft/f+GJ+JP/AMwda2l/F7/g4J0fz/sngr9uuT7R5e/+0f2b/GWr7fK37fJ/tX4a3n2fPmNv8jy/NwnmbvLTb/rrbE/ur/3yP8KNif3V/wC+R/hXzs/DXw6nFxnwFwZOLs3GXDGSSi7NNXTwLTs0mr9Uj3o+IHHcJKUONeLIyV7SjxFm8ZK6s7NYxNXWjt002P8AJNsv2hf+Die1kVdP8I/ty28sjqqC0/Zc8QxSO7EKqqIvhUrMzEhQBkk4HPFekW37cH/BzBpoksotD/bUieymmsJ4pv2OY5LiC5sZXtLm1uGn+CjzrcW08MkFxHM3mxzpKsoEgev9WrYn91f++R/hWhZXhtXAdRJAeGQgErkli8eejZYkjgPk7sHDLVPw48PaSiqXAvB9NRu4qnw1k0FFu13FRwSteyvbfqKfH3HVVydTjPiuo5W5nPiHNpuVtuZyxbvbpfbof5T9h+37/wAHMVpK8l14X/bF1eJojGLXUf2O7lIFYujCZTpvwh06cyIEKKHnaLa7FomcIyaU3/BQ3/g45jtS2pfBn9oi6gtGkuzc6t+xTqdybcIhMkzXF18NGMaxoGZnZwFXdkhRx/q9qsLqrqiFXUMp2AZVgCDggEZBHBAPqKd5cf8AzzT/AL4X/ClU8OPD+rJynwVwvJtcrX9h5coNaOzgsOoPWKb927aTeo4cfccU4qMOLuJIpPmT/tnHuSe2k3Xc9m1bmtZtWs2f4h/7SXh3/god+1p8WNc+NXx3+DHx+8Y+P9ettMsLrUP+FLeL9KsbPTtHsorDTtN0rR9L8M2mmaVY28MRkNtZWsKTXk93f3Hm3t3czy/Qv/BP343f8FN/+CbXxB8WeP8A9n/9m/4haqvjrw6nhzxf4M+Jn7Pvj/xb4K1yG0mluNH1WbS4bHSb2z8QaBLc339i61pmp2V9Zw6lqdp5slpqF3BL/s0fZ7f/AJ4Q/wDfpP8A4mj7Pb/88If+/Sf/ABNfTRyvLY4CnlUcvwSyylRp4ell31Wg8DToUeX2VGOFcPYKlT5I8kFDli4xcUmkfOvMcwljZ5k8di3mNSrUr1Mf9ZrfXJ16rk6taWJU/bOpUcpc83PmlzO7d2f5V+p/8FrP+C4up6ndakf2YpbX7VKZBZR/s1fGO8tbWPI221q2r67qV5HbxgbY42u32L8qkCrUH/Bbj/gudaoUtP2aJ7UHn/R/2afi/FhuzYXWguQQDypGe1f6o32e3/54Q/8AfpP/AImkNrbMCrW8BUgggxRkEEYIIK4II4IPBFfGLwp8OY1alePCGTwq1ZzqTlTozp+/NuU3CMKkY00237tNQitkktD61+JfHrpU6MuKc1nTpQjCEZ1oT92EVGKk5wlKbSSXNNyk+rbbP8uC1/4K7f8ABwr4nsYdR079kz4g6zpdzv8As93pv7Jvxtu9Om8maSGTyprS4e3maGZJIXYO7q6NG7blIEh/4Kp/8HD5GP8Ahjf4njPdf2Rfjsh+mVmBwe4zyODX+ouLCxAwLK0AHQC2hA/IJTH0ywkOWtIQQMfIvljGSeVjKqTz1IzjAzgDGc/CTw4qSc6nCeWzk95TlipSfk28Q3byLh4nce04qEOJ8whFbRisPGK87KglfRa+R/luyf8ABUL/AIOFps+f+xv8V5wSp2T/ALKH7QE8YK5xtimvHjUDJyFQKe4Nfn3+2L4m/wCC2v7dFjoOg/Hv9nD9rDUfB3hu6bUtL8DeG/2Z/if4b8KDWCJ411q/06y8JmXV9Ugt7iS0srrVrq9On27zJYLbNd3rXH+xEdI04ggWyqSCAwZ8rkYyMsRkdRkEZ6gjiuUmgSGaWLCt5cjpu2gZ2sRnHOM46ZP1rtyfw14CyDH080yfhXJ8FmNG7o4yGG9piKLaacqNStKo6U2pNc9PlnZtc1mzkzXxB41zvBVMuzTiXNcXgaySrYWeIcKNaKtaNWFKNNVYXinyT5o3SbV0f5C//BP3xP8A8Fjv+CcXjfW/EnwP/Y8/aU1jwl4yFhH8QvhR47/Zr+MOtfD7xqumGcabe31ha6Bp2oaXr+krdXQ0nxDomo6fqdqlxNayzXWnXF1Yz/vWn/Bcr/gpFpllD5//AARf/aG0e7aMG7utMs/jrYWU86xgSyw2esfBfWTDCGBkSGW6ujEDtaWReT/oCWFtDcXcUUiAodxYAAZ2IzAE4zglcHGDgnBB5HXx2ttCNsVvCgwAdsaAsAMDc2MsfdiSeSSSTXs5rwtw1nlRVs4yHKcyxEYezhicXgMNWxVOGqUKeKlT+sU4q7soVYpXbR5OWcScQZNTdHKs6zPAUJS554fC42vSw05aNynh4z9hOTsrudNt9T/OCf8A4OD/APgoF9pMw/4JdfFOQKQEW8g+INxIu0AYeRfgvAXOQedq4z03DdV3SP8Ag4s/4KV6PcPPb/8ABNP4pHc8rCIw/FtYFSR9whFuvw1+zCNAAo2wqxKhi24V/o4/Z7f/AJ4Q/wDfpP8A4mj7Pb/88If+/Sf/ABNfLVPCPw+nVhWjkM8NVp1PaxqYHN88wE1O1ruWCzKg2rbRd4rolZW+kp+KHHNOEqbzqNenOmqUoYzLMnx0XBNOyjjMBXUXdayilJ7Xtof55sP/AAc2/wDBTm3QrF/wS98cMSAB5tj8Y2UHjJ2xfD+A5IB4DAAnOO1cre/8HMH/AAVruw6j/gm7q0SNu2p/wg3xtkUcEJ5hbRRI+3gnDpuI4Kg8f6Ln2e3/AOeEP/fpP/iaPs9v/wA8If8Av0n/AMTXrU+AeGacJU44fM5QkknGpxFxFVVltb2mayt1va1+t7K3mT424iqSU5V8vUou6lDIsipu+m/s8tjf4Va97atWbd/8pD9s3/gqt/wW7/b7+Hes/ANf2ZPiV8MvAHjTTp9L8ZeGPgn+z/8AFtfEfjnRXjd9S0XW9d1aDxFrA0O8iBXU7DQ10iO/sRNY6q95p9xdW834s6J+wd/wUM8N6zpXiHQf2OP2u9J1vQ9RstX0fVLD4AfFy2vdO1PTriO7sb60uI/CiyQ3NrcxRzwyoQySIrKQRX+4hMbO1QyPHCmASoWNN74x8qLgFjyAccDOWIXJHGSrCZZDFGFjLsY1KjKpk7Qck8gYB5P1NfQYDKMtyzCywWBwdGhhqnN7Wkouarc8eWTryquc6zlH3W6sp3h7vwpI8LG5pmGY4iOLxmLq18RDlVOo2oeyUXzRVGNNQhSUZe8lTjFKXvb6n+bT+zt/wVL/AOCvnwysdKsfiz/wTR/aT+Il9pttDanxf4J+Enxo+GfiO9kiaJTqOr2g8AeJdD1C6eATLPbWFnoNncPIh2wIsiS/rV8N/wDgur+07HHbW3j3/gmp/wAFF9OZgiST6b+zN4g16OFt4XfLexDwxcPGkY3tLHpM1wz5xE7Dc39lGxP7q/8AfI/wo2J/dX/vkf4V+TvwA8N8PiK+KyLBZxwpVxNR1a0OGOIc4yzBTqPXmWVfWq+UU7dI0sBCKWijZtH6dHxv4/rUKOGznGZVxLSw8FToy4iyLKsxxcIK3uvM1hqOaVL2V3Uxs5N6t3SZ/Mp4U/4Lk+LZkgW//Yt/b50LzZPLZdc/ZB+NF19lRSymef8A4R/Qr5SjDDL5Ju5cHDxbhtPs3gv/AILK2fj3xgfBGlfsq/tn6z4vTShr13pFn+yn+0HZ39porzXFvDq95a3nw1tY7HTbi7tbiytr+9uIre4vojZwyy3W2E/0C7E/ur/3yP8ACvys1Dx/axf8FsPCfwuibUUu7r/gmX488c3caME0iWCx/aa+Huh2DzIJgZtQie/1AW7tbn7Pby3ASZftLoeyHhFSpOKpcf8AiFGnB3VGpmHD+KpaO6VsZw1iJqyvFNTUra83Ndvkn4o1aqk6vBPA06kt60MBnmGq7RT1wnEFCNm48zi4uN29LWS7XwD+1h8WPGdzZnTP2df2kvCi3FlDqXneLvh54h8N28du5gKpeRa3Zo4vE89S+mPAb1QJRJbDyZvK+8PCnxR8R6hodld6p8OPHD3cocOxtfCeiv8Au3aI+bp2seMbTUIn3o5Dy2lus8ZSeGFYpEz2FFfb8P8ADEOH/atZ1nubSqqz/tbFYWpCG2sKGCwWBw0ZO3x+xc9Wk0m0fH55xFPPPZp5Rk2WKm7r+zMNiITl0tOtjMXjK7jb7CqqN0m02k1cu7yO98qSO1NrlA7pIsQuPMkCs6zGB5YiyN8p2SyqWDMsjBhinRRX0586FFct4t8ceC/AOjXniLxz4u8M+DdA09DLf634p13TNA0myjCs5kutQ1W6tbS3QIrMWllUBVZs4BI/I79oT/g4J/4JGfs3T6jpvi39sbwB428Q2CMB4e+C1trfxluLq6RC7WCa18PdN13wlZXilWilTV/EWmx286mC5lhmGygD9mqK/iY+PX/B6J8AtMaTTP2WP2Pfi38TtRlZ7a31b4veKPDfwzsUn3tHFdW2h+Dx8UdS1e2lYIYbaa/0G6kSQeb9nkBiPing/wDb2/4Onv8Agp6vm/syfADw9+yJ8KtVKpD8Qrr4c2Hw80qXRLw7I7+08Y/tBXHijXPFARZAsuq/C7w29xG8btb29vJFIFAP7w9S1XS9Gs7nUdX1Kw0uwsoJbq8vdRu7eytLW2gRpJri4uLmSOGGCKNWeSWR1REUszAAmvyU/aL/AOC8P/BKP9maLUYPGn7Yfwz8Y+IdP3Rf8If8GLy4+M3iK4vkdkbTDH8O4Nf0vTb5GVlmj1zVNKitmXbcywsVU/g5af8ABuJ8XfiDo8nxi/4LWf8ABW/4leNfDekxz6l4o8K6D8TtU0/4f+HVSdZbWSP4r/G27bRNN0cybVudNsPhP4djg5j0/UYnaOdP3O/4J3/8Ezv+CT/wa8LaZ8Qf2RP2WvB99BbSQLoHx2+JPg3XvFni/wAWXEVusVx4n8EeMvi5bXfiCTQtVQRX1v4g8C22leAtejvEuPC017Yq4twD8yv2JPhx+0b/AMFtPh78d/2lfG3/AAUf/bp/Z/8A2edR/as+O3gb4HfBr4Az/Df9nzXNJ+CnhbxFaj4fWOveI/D3g3UfET6pZ6FfjQPENhq91q8s19plwL6+vpHnlm+n9D/4NeP+CVcuqS6/8XvDfx+/aP8AEV0AdS8Q/Gn9ob4jXutarIFmUTajf+BdS8CTzSfvVOVaNcwxgKFaZZex/wCCbX7Zf7JHwTvP25vgJ8YPj38Evgl8YPCH/BRr9tvxRrfgL4mfE7wv4F8T6j4X+IPxu1zxz4L8Z2Wj+LNZ017vQdX8KeJ9Ajs77RIpdMURpFO0epG7So/24f8AgvR+zh8L5m/Z6/Yfvrb9uT9tT4iWGq6B8Mfh18BLqy+IXgrwp4mubJIdN8RfE/xroN5PoOn+HtDurtNR1rTtM1G71KK1029h1Z/D9tv1ODKvXpYalOvXmqdGmlKpUlpCnG6TnOW0KcL81SpK0KcFKc5RhGUlpSpVK9SFGjB1KtR8sKcdZTlZtQgt5Tla0IK8pyajBOTSf8B/xH+CPxN+GP7Z37angf8AY7/Zy/bs1T4ZfAf9r745/C34ez/smfEj4lw+H/AWleCPHV9oem6Hda/B8LPinrVzrxsdG0vUpL7UvFCapLaSaabtbmSFL64+wf2c/wDgtj/wWW/Zn+Nlh8ELD4f/ALR3xrLafBe/8M6/tL+E9e+Jvx1ksYLeW6vdW03xbp3w08G/ElxLYxrMlxq+i69p9rBBLcG2l3vIv9O/7O3/AATL/wCCr/8AwT6+DvhjUf2Zfi78E/2qdK/aMtr74vftofBT4peLfGvwV17UP2hPH+oR3/iv4g/s+/Hf4Y2Gi+JdJN5oNxoXh3UJPF91DCIfBx13TtIfUdcg07RPxT/4KQfFD9uT9nPxTpGu/tKfsFftiaZ8B9L1oXs8Xj79oGT9rSP4H3MMpn0r4r/stf8ABQPRfDS/GP4HfEbSJo7K5sdA+JWseNdI8Rxy3ln4l0u6sdLj04edi8pyjN8NOOIwuHr0cVT5lXoN0a0o1Y3VahjcLKliaU5RlzQr4evCp73NGavc78LmeaZViYzoYmvQrYafL7GslVpRlTfK6VbCYmNShUjFx5ZUa1GcPd5ZQ0semS/8HNP/AAUYl8Zax8MJ/wDgmb8QF+I/h+wsNT8Q+A7c/Ei18X6Lp2qrHJpmoan4XT4UHWtOstRWWJrG5vbVIbtZEMMkgYZf4p/4Lo/8FitYKDQ/+CTfx40iJo2W4F/8Pfj5qckrMeDE+nfDnQI412fKVliuS2Sd2DgfG/hz/go98fvi5/wUm0v9sDT/AIjeG/jfY/sgfsZ+Er7xn4h8KRaRpWoftK/sm+FvjPFq/jyT4geAbJY4/APx28LeB/i3deKfFvh37XJY6F40+FWq32kDVfC2q6O0n+mP4T8TeHPHvw28BePPC9/ba34c8X+FvDfibw7rVsGNvquh+IdFtdV03UYC6ozQ31lPbXMZdFfY65VSSK/O4eHfCeY5tmuX4zKK2IwODo4NUKz4m4oq4h1a9F1MRRxdGrmfLHljOjUw1elOcasZ1YNxq0aiPvJcecT4HLMtx2EzWlRxmKq4v29JcPcOU6Cp0aqhh6uFqU8ucpc0oVYYilUhBwlCnJKVOrBv/NT+Kn/BVT/gud480q90zw5/wTy+LXg6WfaLDU7r9nL4++LbrRsxv5k2n2Gq6dD4dkuRcFJbc6hol9ZxxiSKeyuWlMq/z6+Of2K/+CkfxK8YeJPH3jv9kX9sDxP4x8Xaxfa94j1/VPgB8WZ7/VNV1Gd7i7up3/4RJVUvI5CRRJHDBGEhgjjhjRF/2wtif3V/75H+FGxP7q/98j/Cvq+FuAuD+CvrcuGMhwWVVsf7NY3Fw9tiMfi40lalTxGYYyriMbVpUtXTozrulTk5ShCMpSb+Z4j424q4tWGjxDnWLzKjg+d4TCz9lQwWGlU/iVKGBwtOhhKdWptUrRoqrOKUZTcYpL/Hm+GN5/wXZ+DXhzRPCPw08Cf8FCPC3hvw1ZQ6b4e0i0+D3xfubTRNNti/2fTtKXUPCN21hp9urmOCytmjtYoQkEcSwxoi+vwftDf8HGlscwW//BRZOpK/8KU+JjI2Rj5kfwGyN/wJTg8jkV/rdbE/ur/3yP8ACjYn91f++R/hXoPhThd16+KfDmQvE4mtLEYjEPKMv9vXrytzV61X6vz1a0rLmqTlKcrayZwriXiNUaOHWf50sPh6UaFCh/amO9jRow+CjSpe35KdKO0acIqEVdJJM/ygI/2y/wDg5VijjiXS/wBuVljRUUy/spahNIVQBQZJZfhA8sr4HzSSOzucszEkmlm/4KFf8HInw3tLzxVrDftd6DpVpFFBe6v4u/ZG0uXRbJbu7toLdpZfEvwWn020mnvHtra3nPlztJMLaKT/AEho3/1ftif3V/75H+FfmH/wWT8df8Ky/wCCb/7RvjWM2kMukWvw2SC6vJ4LW1sbjU/i74C0mDUJ5biKWAx2E18l20MyiO5EP2dpIhKZFHwrwu078OZC+uuUYDpr/wBA77b7/eOPEvEaatn+dLZaZpjlZaL/AJ/9kj/P007/AIKi/wDBzZqX7jS/+Go9RYQpNss/2GvAl5L5Eiho5d0X7P0kvlurKySZwQQVbnNey+Cf+Cu3/B0V4F0uXTNO+G/7RWoG4uGurq+1f9g+C5vbmYqsYZ/I+EFraxhIkSNUtrWBNqgsrOWY/wCkD8H7G1kg8K63p6W6+faLY3Kxoi4ijW4Ah2KMARh5CARjCoQxCpj3PVYFjvXPlIqyKjrhUAbKhWbA6EurZyAScnnOT4/B8MszHBYfOIZBk+W4tfwKuAwlCFsPiMPTnGVKvGjTqJTp1HCpFPlunumerxVLMcvxdfKpZ3muYYWVvb0sbia8r16FacGqtGVWdNuM6SqU5auzXVXf+Yd8QP8Agqv/AMHSPxy8EeK/hDqXwt/aiGlfETQNU8KauPAv7Dmp+H/Fj6Pq1pLbatFomueH/hXDrmkXcunPcxjUtJuLbULONpLi0ubeaNJk/wBEX9iXR/Evhr9jL9krwx4v0rWNA8TeG/2bPgjoXiDw/r9jd6XrWha3pXw18M6fquk6vpd/FBe6dqlhe201pqFldwQ3Vvdwyw3EaTI6j6bCqDkKoPqAAaWvtz44KKKKACiiigAooooAlTofr/QUUJ0P1/oKKAI26n6n+dJSt1P1P86SgAooooAKKKKACiiigAr+On/g5v8A2pbT4B/th/8ABGvzdYittH8MfGv4h/EP4j2RubhWh8D3uq/CnwJe3UttBKUK33hfWfiHZW9xPaXGx4p0jSaFry2m/sWJABJOAOST0A9TX+Wh/wAHaP7S3gn47/8ABUW08IfDzxTaeJdM/Zy+CHhD4ReJ5tJ1C31LR7H4lDxV418beK7K1urN5bb+0tKtPFfh/wAP6/AkrT6frWhXml3iw3thcQRc2MwtPG4TFYKsr0cXhq+FqrvTxFKVKa101jN7nRhMTUweLw2LpO1XC4ijiabu1apQqRqwd1qveitVqj/SR/Yp+IMXjH4a6NaPIGvdBjbRLjcw8xkt4UezcZw0kctmbY+YAUMolQNuRlH2HdaOJnklil2u7FykgypZnJbDqMqoB+UbGORy3OR/ET/wSK/4LRfs96f+y18LvEXxN/aJ+FXw/wDib4Y0ex8D/FDwf8R/iN4a8E+I7rX/AAzYWmkxeKbSy8aanpK+J9L8VafFYa7Hqmi3F7Hp+oTanpN4ba4tpCf2b0L/AILXfsgeLrmRtN/bS+AltKmx3sbf4qfDC6S3DEIrSta69qsSRMwyTPIFbDD5RxX8x+H/AIoVOBOG8DwVx9k3EWH4n4bf9kYirHK6rwWYYPBpYfA5rhMwqypYPE0MZh6dOcZU683KblF2mpQj/RHHHhzDjPiDGcXcE5tkVfh3iC2aUKUsxgsXgcVin7bF5bisDTjUxVCvha9ScJxqUYJRUWrxcZz/AHFfTL1FLGAkDHCMjtyQOFRix684BwMk8A1UeGWIhZI3RiMgOrKSMkZwQOMgjPsa/L/wt/wVF/Z48QRu+mftX/APX0g2NPLY/FD4XzNCJi4j+0RwXkXlljHL5YJiLeUww21zXtPhn9v74H6/HK1j8dPhXqi2xRbmfT/Fvg7UVgZwzKJhpusyhDIFYopAYqhwDya/VsL4ucJ4nl5/7RwfMou+Ow1HDxXMouN5vEyhqpXTUnFqz5rNH5riPC/iehfk/s/F2bVsHiKtaTs7O0fq8ZOzTTXKpK2q6L7UwfQ/kaSvn/Rf2t/hZ4hlktNE+KXw31y6WBpZLK11aymnEAZI3meGPUUbyg8iRu/MYaVVPLKK30/aG8GQvm+1vwIsRPDLqdpC35S3bKT1PB4HY9T63/ER+D1ZzzjCwi95Ovh5RjtrKVOvNJa79Op5n+oHFTvyZViJyX2VSrxlJ6aRjUpQcnr0/wAr+w1/Fb/wUf8A2ktJ8Bf8HWv/AATEhkvrWGw8GfCfwl8K9SN00MAh8TftAXvx38FRQeey3G83On+PfCy2kDxxSNdzFI3iM0dwv9ct3+1h8E7BZGuvF/gh/LUu6W2t2kzqFDFxiCC4VmGOV3qVwc1/kZf8Fef23F/aX/4K4ftFftZfDDXJk0XQ/jL4fs/hLr+jX97aINC+CNpoHg3wl4l0G9sZLG+sI9ZbwdF4ptLmzks7yK41NrqN4bk7x7GScWcN8SVMVRyHOsvzargo0pYyngcTTxEsKqznGj7f2bkqTqulUVNTalL2c7J8kreTnHDHEHD9PD1c6yjHZZTxkqkcLPGUJ0FiHRjTlV9j7RRdRU1Vp87imo88Ltc0b/1MfsQ/tHfHL9rD/gth/wAFOv2uv2bvgrqPxt+JGkW8X7JH7MviDxadV0r9mj4UeBdE1gaBq/xb+JXxIt4LgafpflfDXTvEum/DrwfDqPj/AMfXXj/XLHRYNK0tNc8R6T9yf8FW/wDgn54O/Z+/4Jg/t2/tZ/tF+Mb79rX9t7xh8ItF8Jaz8fPiPa2llpfgGy8XePfDHhtPBX7PXgNBcaF8H/A+ny+IrpLLT9DE3iXX5Lm4Gv8AiLUHvvKh/en/AIJ0X/7Ier/sM/s/fEP9jvwx4G+Fv7PnjP4Z6D4u8OeFPCy2UFpol/fWEZ8Sab4iv96Xmo+L9I16HUdJ8YatrUt1rN1r9hqVxq13LcmV6/EL/g4D/wCCmf8AwT31P9jDxr+zE/7UPwd8c+N/GXxi/Z3tPGfw/wDAevw/EnxDpng7wN+0F8NfHfxAbUrXwW+sWmjX+leHvDF9PLp2vTWtxeRxT2FrazX00KD6JK7S01aXvNJavq3ZJd22klueBOShCc3zNRjKTUISqTaim3yQgpTnLT3YQi5SdlFNtI/Brwp4P1X4e+GPDvgLXbC50rW/BWh6V4U1fTLyGW2u9O1Pw9YwaTfWV1bz/v4Li1urSWCaKb97HIjI/wAwNb9fAHxE/wCCuP7OviTxb4r8X3Vv8QdZ1LxNr+seIr46T4YsoYpr3WdTub66FuNW1zTCqebcPKom8vERAJ8zKDlbT/gqj+zVcrC02m/EuwMjAOl14b0l2gG8rulNl4ju0IAG/wDcvM20gAb8qP6lw/FvDNKjQozzvLozp0aUZKNdOnFxhGLUZ2cWk00veba121P8GM1+j743Y3H5lmNDwy4zq4bFZjja9KpXymdPFVIVq9StCpWw/uVYTnCalP8AdRiqjcFZ+6fpTX6v/wDBuR4IOofto/8ABSL4oNasIPD/AIE/Zc+GtnfM7mOS+1iw8f8Ai7XLGJY5zF5lpZ2nhe5uBc24nRdQtWt3WKaXzf5z/Cn/AAUE/ZS8VvbW6fEyLQb25YKLXxPomu6MkJYqoNxqc+nNosS5blm1PaoDMxCgtX9cX/BtRpj337M/7SHxiEOk3Gi/G79pzxV4k8MeKLPVdMv59b8N+DND0P4X6PA6WsjXlpp9vYeC7XWdNjv1UPH4kllg4eRV+P8AEfNsuzHh6hDL8fgsY1j6NaoqGKo1ZRpwp1KbXLCbkqnPiKT5GubkVSVrQk1/R30L+AeMeDvGHMsTxdwnxPw7GXCeZZZhHm2RZngKdXG4rGYHGQk6uJw1Kl9VWEyrHJ4mM5UXiZYSgpupiaUZfX//AAX8+J9j8Jf+CP8A+3J4ivp44RrnwmT4cWqSAs1zefFTxPoHw5ht4Y1V3eRh4meQsinyIo5bqRo4YJJE/kA/4Iw/ELUP+CTf/BUr4BfDHxHdXeifs6f8FMv2Q/2a/iv4XGoalK2mw6x8XfhnpHjTwu5vLuJBqUvhb4mz/EX4XacUDXd5Nc2Zkljmllt6+5f+DxX/AIKCeCk+G3wm/wCCeXw88W6dq/jnVfGOn/GP476fot7BeSeFfDeg6XeQfD3wj4jMLyx2l/4o1TWpPGH9lSmLU7Sy8NaBqU8cen63Yvefnn+3RpXhb9pv/ggJ/wAEtP8AgoD8ANZtY/jD/wAE59T8P/s4fGP+xJLY+IfA9tb6jZaX4Y1TxGcyz2zab4x8MeBdb8LwygwvZ/FGS7QAySwp+En+rZ/dz+1P+1j4h/Zb+Ov7I6+L9N0P/hmD9oPxnr/wC8a+OjBfHWvh38dPGNvpGp/s/ahqV3DcT2cfgHxrc6J4y+H+qXFxpsEen+LvEXgm4udYt7KaaF/kf9sD/gkV+zp+114r1n9pX9lH4t67+xr+2hpGra1o5/aj/Ze11dMuNa8S6He3el+IfC/xr8JeGtW0vQ/iCINThk07xRb6lcaX4wWfTbbSdS1x9NsptGnzPgJ4i8Af8Frf+CONpomsXdpZaj8avgtFo82pWwmmn+Hvxg8MgSeHfFGm+TOtyt78N/ir4bhu9Mc3YuLq68LiSfEdy0Z+YP2G/wBqD4w3P7Pi/tv6H4b13xL8SPhL4m1z9nD/AIK1/suaFaxz6/dfFz4BLp3grxT+0v8ADvR4IUa5+M2g+DdJ0PXvFXhPRhcJ8Uvh5d2Phe1M3jHwF4WhuADyfVv+Crv/AAVG/wCCUdxpvhP/AIK1fsmv+0X8BrJrfTrX9u/9kO2N7YyWgkt7eG++Jfga8tdJ0fSdcup72CCRNQb4WwXEsFxH4f07xOySXb/tX+zF/wAFBP8Agnr/AMFK/Alzp3wT+Mfwl+Nuna1pCv4o+EXihNOj8Z2NhMP9ItPF3wo8ZW1vr0dpHPDJA9zcaLcaNdyW7yWV7dwBJm+yPBXjT4ZfHn4aaD438Fa14Y+Jnws+JPhuDVdF1jT5LLX/AAx4p8N63aZVgCJ7S8tLq2maG6tZ0baTLbXMSyLJGPwM/bZ/4NmP2D/2lfEFx8WP2e5fFH7C/wC0DDdNq+keP/2fXGk+Dxr4kMsGp6p8M4brTNNs3gkZ5Vk8Bat4CvZLhhPc3twQyOAd3+1X/wAGzn/BJj9qS4vNYi+Buofs8+Lb6SaSfxN+zbrkfw8iLTXDXRCeB77TfEXwygVZZJQGtPBNtN5MnkecIobZYP54f2lf+DLn4r6Gt5rX7H37X3hHxgwmeSz8G/HXwvqvgO/t7NFdxFH498DnxjaarqMmFjhWbwT4cs2lYGa7t48uv2/d6b/wc/f8Eo7P7dp+s+C/+CsH7PGgrdyXGnzwax4t+MmnaPHMipK8Mi+H/jNqGvTwRK1vbaXqPxg06wWSUSW0gAce+fs1/wDB2t+xf4r1pPh9+2n8HvjT+xJ8SrOZ7PXT4m8O6r8QfAWmXsKRRvb3d9oWjaf8RtNu5bwzx/Zb34ZfZLKJEe71YZkMYB/NFN+x5/wdB/8ABMu4sp/hp/w17eeENFumk0iy+CHxBn/aO+HNwtnLHIbub4UaRqnjm1t7RhEpZfEvgGxM1rvjmhaBpYz6/wDDn/g7M/4Kx/s76o/gf9p74LfCf4l6po8zwa5B8Rfhl4r+DvxNiuILj7PPBdf8I3qOheHdOZGguoJYpfh8ZEul+8ghkgk/0L/gF+1/+yz+1RoY8Q/s6ftBfCL4z6YIY5rr/hX3jvw94jv9L8xIpBBrej2N9Jq2h3irPCZbHWLGyvITLGJoELqD3XxQ+BfwT+N+hz+GfjL8Ifhl8WfDdypS40H4keBfDHjbRp0bduWXTfEmmalZyKwd8hoSDubPU5AP5EfgN/wehfsl+J4Irb9oz9lf43fCbVGVUN58M9d8I/F7w/5qpmSa5k1qf4XazZwyup8uK20rV5Yy6I7uoecfsv8AA7/g4e/4I/fHn+zLbQv2yvAvgPWNRCiXR/jNpnif4QnS52CsbfUfEHjvRdG8GgoGXdc2fiW8sNxKLds6Oq8l8ev+DbX/AII+/Hu51HVLz9lbTfhX4g1COZBrXwQ8U+KPhpBZNKciWx8H6PqjfD2GSJiWiDeEJI1+40bRgJX4sfHv/gyu+COsG8vf2Z/2yfiT4EdRLNaeH/jL4F8O/Em2uJCJDHZN4j8IXvw2uNNg3tEBdt4f1qaOONg8E7yeYgB/ZN8Mfj38DvjXpa658HPjH8LfitorruXVvhz4+8LeNdNZTswy3vhzVdRtiv72PkSEfvE5+dc+sAhgCpDA9CCCD9COK/zHPiv/AMGkX/BVv4KakniT4DeP/gv8YpdJuY7zQZvAXxL1v4aeOre5gkBhuY4PG+leGdD0y6jwssUlp40uGTBxIrBQ3zxeTf8ABz1+wDM9hcy/8FEPD+iaG01uJEfxf+0D8MdMj0uWJWW31CE/E34d21ni0U27QXCWl7Zxyvbme0aYsAf6tdFf5XPw8/4OsP8Agsr8JLxrL4heLvhZ8WbrTp/IvbD4u/A7Q9AuFlhumeS2vY/hf/wq25hk2YspFBhmESBiwuy1w36IfDb/AIPXPjvpdtAnxc/Ye+FXjW7Uj7TP8Pfit4r+G1vINkoPkWviHwz8UZIT5jQsPMu5xsjkT70qyQgH+htRX8Znw9/4PSP2LtTX/i6f7KX7Svg5/IjYDwLffDX4hp9pJk82Itrvin4bMIEAiMdwEaSTfIGto/LXzftrwB/wdj/8EfvGLOviL4hfGP4WBbmOBX8c/BjxNfrJE5hDXaf8K6fx4wt4vMcyK6pckQS+XbyExCUA/pZor8e/BX/Bfn/gj34+aBND/bs+EFibj7N5Z8YJ4s8AKPtcbSxec/jnw34dS3CqpFx57R/ZZNsVz5UrKh+w/CX/AAUK/YK8fSRw+Bv21f2UfGMss01tHF4Y/aD+FGuyPcW9uLue3VNM8V3LGaC1YXM0QHmRwESuqod1AH2DRXGaF8Rvh94oMQ8NeOfCHiAzWq30I0XxJo+qGWycRlbuMWV5OXtmE0RE6gxHzEw3zrnrFurVs7bmBsdds0Zx9cMaAJ6KaHQjIdSDyCGGCPXrRvT+8v8A30P8aAOh0/U4IoY7eYNGEDASD5lOWdzuAG5cZCjAfJOTtArfVldQyMrqc4ZSGU4JBwQSDggg89QRXAAg9CD9Dn+VW7e8uLU/unIXOTG3MbcrnKnoSFALLhscBhQB21FV7e6huURkdCzIGaMMC6dAwKnDYVjt3FQDwRwRVigAooooAKKKCQBkkADqTwB+NABXOatYsH+0wozK+TMqqMIVXJc7ecOAS5IOGBLN84A3mmhRS7zRIqglmaRFVQOpLEgADuScVWOp6aoy2o2IHqbu3A/MyUAcjHJJDIskbFHQ5BHb1BHQgjIIIIIJBBBro9Lubq5eUzSBo0RQF2Kp3ucqw2oMgKrA5bqRweoytY8XeBNBhW717xN4U0eCabyUudW1jSLGKW4ZXk8pZbu4iV5mWOR9gYuVR2xhSRxGtftE/s/eGI7ZvEPxv+EWgRXJeO0Or/EXwhpiTmEIZEtzeavCshiV03rHnYGXIAYZAPZaK+MfFH/BRn/gn/4GNzH4z/bc/ZR8KvYyxW14fEf7QHwr0Y288qhoo7g3/ie2WKWZSrxo23zAwMYKkV4frP8AwWo/4JN6CL83v/BQn9lOYaaJTcf2R8YPCWvGTyQS/wBhXQ9Q1BtSLY/dDTxdGY4EQfIyAfp9RX4k+Kv+DjX/AIIt+DxcnVv26vAF2LWGKaUeGfB3xX8ZFkmYIi248JeAtaN1KCwMkFsJZoVy8yIoJHzN4y/4Ox/+CMXhi6EGi/Gv4l/EGIrIxvPCXwO+JFnbgpDBIqFfG2i+ELrdK8skEZFsVEttMZGjhaCWYA/pPrldZEYulCBAfKBkCBQd7O7Evj+IggktyQQehFfyaeL/APg8x/4Jhaayp4f+Gn7Y/iUvbSSodN+HHwu062iuk3LFb3M+sfGXTbuOOY7WaSC1vVjUsxQsqRH5O8U/8Hq/7N9oZf8AhDP2LPjPrwF6UhPiX4heC/C5k0/bKRcyjTdP8W+VebhCps1aaEK8jC+JiVZQD+2aiv8AP98af8Hs/ja6FzF8PP2APDGikEpZ3njD4/ap4lDhbrInuNP0f4W+FvLM1mChtY9Sk+z3LeZ9ruY08p/hj4jf8Hhv/BT/AMZR3Fn4E+Hn7MHwwglh8q3vdD+H3jTxNr1vKTAzzm58V/EHWNFmdWjkSFG8OrGkNw6ypNKsU0YB/p01/L7rHx+0y/8A+DrDRvAcOohLTwV/wTPv/hbr8c+rGzsNN1nUPGlz8b5rqS3kZreSa40TUPDiTxk27NFFZ3cjsLGJW/jW1b/gtr/wX3/a4muNN8D/AB1/aC16Lz7e3Gkfs7fCDR/DlxZzPs8m2XUPhX4Bs/ETS3DurhbvVbieUyqisYhFGvzrb/8ABLL/AILUftg+OtU+J3in9lD9sr4j/ELxa1k+s/Er466J4z0HxD4kWy0vTtM0251Dxv8AGe60S61a2ttHh07T7C7n1Se3jsLOKztpRBZGOIA/1OPjP/wVT/4Jwfs+Ldx/Fr9tj9nDwxqdisb3XhuD4p+FvEXjGKOaGaeKY+DPDGoaz4qaCVIJBHOmjtE8myFXMskaN+Rnxt/4O0/+CSnwvhu1+H/if4zftCX0KwC3i+Gnwq1fQLG4mlLiRWv/AIt3Hw4eOK0Kj7RPFZ3AcOjWSXi7iv8AJn8Gv+DSz/grf8T5bGX4geHPgt8ArWe4kS9f4mfFrS/EOoWdpC6ZnS1+Elp8SoLma4iZmsrZr+DdIojvptPBMi/rz8Bf+DKfRYvsOoftN/tsanfbtv8AaXhP4IfDe20zy8Z3iz8eeONX1Xzt+QFM3w8g8vaSfM3gIAcH8ev+D1fxjctqen/sy/sU+HdHRS66R4r+N3xG1HxA84KyBJdQ8C+CNL8OLalWMTNBb/EC8DBXQTqWV1/Ifxr/AMHEX/Bc79sfxM3gP4SfE3xJoN74odoNN+G37LfwW0o6/PJNIYY49C1S18P+L/ikJENykEIsvFLOXMDNvuAklf2zfs8f8GwX/BIb4ANYX+o/AzxB8edf0+JEXXvj3441bxXHcNHIkrTXvhPQE8JfD66eRo1Difwi8QjLxrGkckiv+iV78bP+CdX7CFqvwm8Pal8Cfgzqlhpseo2fwO+Cng/S774iXWnWwit4bvSvgx8IdC1bx5q6KZ4oY5rDwtds8k6IGZ5MEA/ztfht/wAEDf8AgvB/wUS8QWfxA/aDs/HvhSHVkt3b4i/tqfGDXz4jSGSK3doJfCN/d+NPitZSW1pJEqW2o+EdNtlZDYpNFLbzxQfvp+yj/wAGZf7N3gxtP8Qfth/tJfED40apC8N5ceCPhRpVl8K/BCsIlFxpeq6/qcvivxf4hsfM8yRdQ0mXwFeMDEpijEchn/bnxv8A8FDP25fincnQP2HP+CYXxr8Qx3SmJPjH+2TrWh/sqfDfRxKZBb6ynw/8Q3OpfGzxPYHy1WTSz4Q8KawvmeY8UUKpJN4X4p/4Ju/8FUv2zbqdv25v+CmU3wK+G+oQRW2o/s9/8E5PDep/DTR57aRmGo2138cvHZuPiRq9tf2u2xvdP1fRr3SrqIu0dhaRy3FvcAGf4p8Q/wDBvr/wQ60u3sn8Pfs3/C/4o+HrMT6Zoeg6BF8aP2o9RnMSXVmkt/MnjD4n6emqTLG1je+I9X0Tw0k7bxe2VvG7xeR6N/wU3/4Kz/8ABR/y9P8A+CZH7C6/sx/A3WY4TZ/tift0JJoaXOjXxVoNa+H/AMJtI+1HWZvs++40/UdOl+JPhy4cNbaiunOY5H/R79lL/giP/wAE0P2PrvSPEfw2/Zm8H+K/iTpLi7Hxc+MazfFv4kT6yZDLL4gg1vxq2p2mga1O7P5l14T03w+irJKkUMazSh/1UuLiy0yzmurqa2sLCxt5J7i4nkitrS0tYEMks00rlIYIIY1Z5HdlSNFLMQATQB+LH7Nn/BHPQdH8WaT8fP8Agoh+0B4+/wCCi37SGlTLrGlar8ZxDZfAL4WanhppJfhN8AbaaXwH4entJHby9cv7G7uEkgj1HSbDw7PJNEf0r+BH7Rfgz9oa5+IN38LtK1vUvhn4D8Sf8IVo3xYe2trbwH8S/EOlG5t/FyfDG5Fw114n8NeDtShj8PX3i+3tIvDepeIYtU0zw9faqNF1CeL88Nc+Ivj3/gqd4s1f4XfA7Vtd8C/8E6NAuZdI+Mf7SOhXOo6F4n/a61Ozu5bXW/g1+zprVu1reaZ8GLea3uNF+Knxs011uPFbf2h4K+Gt3FbrqvipP1v8GeDPCnw68JeGvAXgTw9pHhLwZ4O0TTfDfhbwxoFjb6ZougaDo9pFY6XpOl6fapHb2djY2cEVvbwQoqRxoqgcUAfhb+35/wAG43/BPj/goR+0VqP7U3xY1D44fD34ka9p+iwePV+D/jPwtoHh/wCIE3hyxtNLsNV8S6f4p8B+MrmDVF0HTdP0S5ufDd/4fFzZWUM80bal5l+/4Gf8G23wd+E0X/BQP9ufxR+z/pL2PwD8P/Evxt4H+E1zqF1Pr+sXngD4daleaLoNxc65qBlv57jxLaeNvDnibXIBOtlNq0Ngba3hh0+1SP8Aq7/4KT/tkeEPgZ/wTh/bd/aG8CeMrC9vfhV8N/ij4A0bxBo90ZLPS/jTI0nw00XSItRiKQXGoeHfidrWm6FrMVhcSyadrthqWh3Dwavp15bW/wCAv/Bp98NY/Bn7Nt3451CxgTUtZt5PEV/581vaPeJ4s8YanPppWaZSXS50XwtpMpDMoIVwscqoJF+V4vdKWVQw1ZKUMVjcJCUHTlUuqNVYlT5Ypy/d1KNOd4q6koqzvZ/TcKKpHM54ik3GeGweKnGSmqetWm8Nyc0moL2kK04NSduVybatdf2cPpkOjaRoulW6hIbC1FsijOB5ccIbGSSAW3EDOFBwAAABj31jZanaXOn6jZ2uoWF5DLbXdle28V1aXVvOjRTQXFvOkkM0M0btHJFIjJIjMrKVJB8Y8WfGbx2mrmz0b4caFqVhBCrJd3fxIsdOkeZ2bzFFrF4d1F1xGIjlpdudwABGW858Zfta+GfhL4E8YfEX4y6PF4G8LeBvD2s+KPEetWfiCw17TdL0bQdOuNT1O8upriDQ59lta20jlILW4kfAVEZjtHk0vEbgzDVoZW8XmODeHccHCWK4a4lwOBi6PLSjCGPxOUUcBKC92MJQxDpySvCTjqelU4B4uxFGeZfVcDilXUsVNYfiDh/F4yXtb1ZTngsPmlXGqTu5SjKgpp3Uop6H+a3/AMFQfjd8M/2JP+C9f7T/APwoz4eeB/BHwDV/DfwT+MPwx8DeHdJ0bwx4t+HfxH+Evgmx+P2hrommQtpmm6tqer6r4iu4ZNPtIDa+INPsru5spJku7ab/AEMv+CIl/wCI9X/4JR/sgaJ4r1F77XvBPw+1j4VNc3Bm8z+zvhD498VfDPQYjFPi4t4YNF8I6faw28gLWsMSQAMIgD/kDftbfHu//aj/AGq/2gv2j9YiuLaf42fGj4g/E42NwySTaZYeL/Fepa1p+kZRnj2aTpt3babCiM6LFaoisygE/wCsR/wTr8ffBzSP2Hf2f734HeMPDmufCfVvClx4q8GajJeWek6hG/ijXtT8VeINHuIYHjtItV0XXtX1PStTszaRz2mpWdxBcRR3KyqO7iriPAcIRhmmIwlSo8dahiK0IyhSjDCKUqXt8QoThCpfEThh4Si51ryUbRpyceThrIMbxS5ZbQxVOmsG3WoUpyU6rni3CFX2NBzhKVP9xCdecXy0uVN+9VSl+1culXkW4iMSKuPmiIYtnH3U4kOCcH5OME/d5qnJBNFjzIpI92du9GXOMZxkDOMjPpkV8y+Hv2k/B0QS21PWzaSABTOl8k0LsWA+byXYcf3mULgA7sGvTYPj74DWJLj/AIWB4X8nqYr+9s45McHbvS4hZWGcHzN+MjPA587LfFDg7MqKq085y6D5b1Kc8dhYVKW1/aQr1KE0o31ajK9vdud2P8OeK8BV9nPKcdNN2p1I4LEyp1e3JOjTrQd+iclb7Vtj0iivPB+0b8IFlA1LxLoUSldz363VrPaIFBy0s7FdqhQNpRphtGcgAV6Lofij4feL9Kj1zw34l0PVtLneTZf6VqlrcQu8ZIliG2SRVdGOGiCK6kBQo6H6XLOKOHM6rywuVZ5lePxUISqywuFxuHq4qNODip1Hh41HV9nCU4RlUUHBSlFOV2j5/MeG8/yijHEZnk2ZYLDSmqccTiMHXp4aVSSk401XlBUvaSjGUo03NTlGLajZOza/m4/4OtPitY/Dv/gkJ8RvC11PDDcfGr4w/BH4baakrhXuLvSvGtt8WpYoB5MpeRbH4YXkzqHtyIYpWMxCmCb+i/VfEfhvRba4v9U8QaNp2m2zASahqOpWVjaIryCKJpZ7meOKLzHZFUO4JdgoySBX+a1/wdgf8FRfht+1x8dPhV+yd+z7400rx18Lf2aZ9e8Q/EHxh4a1GLU/C3ij4y+IUt9M/snSr+1kn07WLX4eeHrOaxGr6fO8D6z4q8R6WS50sSP7254qdmn2dz/Qq/Y/8XW/jT4YeA9dV7Zzq2i6JryNaEvavDrvhyDUYZLVmaRmt3kun8lmckxqpLMSWr6s1v8A4+Yv+uC/+jJK/nR/4IfftxeBP2kf2aPg34s8MeMNKvJvDHwx8AeFfH/hiO6thrHhvx/4b0KDQfGOg6lpqtHLp0f9rWFxrHhrO9L3wnrOh3qRJ5861/QAfHXh7VplZ2ubZQFRblFjuYdmGY+ZGjJMjBnAO0SdOFwd1fkPhrxHgcPk+JyTNJxyzMskzjMcmr4bFNQqSeAxEsLTrRtf/Z61OlCph68+SFejOnXpt0qtOUv1HxAyDGV81w+cZdCWYZfnGVYDNqOIwyc4L69QhiKlGSsn9YpVKsoV6UOeVGrGdColUpTS1aK1INOjvYkuLC9t7q3cfLKCwBYEhlwofBHGQxVgSQVGATUurWS0k8uTaSVDKynKspyMjIBGCCCCAcjIyCCf1yMozjGcJRnCSUoyi1KMovVOMk2mmtU07M/L5RlCThOMoyi2pRknGUWtGmnZpp7pq6K1FFFUSFFFFABRRRQBKnQ/X+gooTofr/QUUARt1P1P86Slbqfqf50lABRRRQAUhyQQDg4OCRkA44JGRnB5xkZ6ZFLRQB+VHin9mj/grBqmt+Ibrwx/wU++C/hfQdQ1PVJ9A0iX/gnzpOuX/h/Srq6nk0zT5NXuf2lbaPVrrTLR4bdtQn0yBL2WE3EllGJDCPGNW/Yf/wCC0Wo2UtrZ/wDBbvwtoU8jRsuo6X/wTV+Ckt5CEcOyRprHxW1WxKyqDG5ls5HCMTGyPhx+31FAH83nxc/4JKf8Fhvjd4X1Lwd44/4OA/iFa6Hq1obG/T4ffsS/Db4SanPaOX82Ea98Kvi54N12FZ1keK4MGoxtcQMbeYvDhK/HK7/4Mlbq/urm+vv+Cl9xe3t5PLdXd5d/soSXF1dXM8jSz3FxPL+0k8s080jNJLLI7PI7M7sWJNf3oUUAfwT/APEEV/1km/8ANSv/AMpCj/iCLI6f8FJyP+7Sv/ykK/vYooA/gqH/AAZHSL93/gpS4+n7JjD+X7SNPH/BklOv3f8AgpbMueuP2TnGfy/aSr+9KilZdl9w7vu/v/rsj+C8f8GSt0Dkf8FL7gH1H7KEgP6ftJVbs/8Agyk1nT7mO8sP+Cnmp2V3Dv8AKurT9li6triLzEaN/Lmh/aVSRN8bsjbWG5GZTkEg/wB4tFKUISTjKEZRkmpRlFNNPRppqzTWjT0Y1OcWpRlJSTTTUmmmndNNO6aeqa1TP4WY/wDgzP8AiBDIksX/AAVf8YRyxOskcifs3ayjxuhDI6Mv7ToZWVgCrAgggEHNfil+31/wbteIf2V/j18Mv2P/ANnP42/Ff9tP9r74reC/+FpaN8LvCX7MVj8N/A+hfDCHxDfeGb7xf4z+LviD4963ougRxavp9zaxxHR7yzt5BbDXtU0Eapozan/qp1+Dv/BQ3TF+Dv8AwVg/4I8ftUh1sdA8YeMvjx+xh8QrxwijUJvjF8N73X/g7pazs6eVInjnw/q0yQus32szeVCIZRulinQoUXJ0aNKk5JKTp04U3JRvyqTjFXUbu172u7bsqpWrVeX2tWpU5b8vtJyny81ubl5m7X5Ve29lfZH8737Mf/BqZ/wUg8U/s+v8IP2h/wDgovdfs4fC6/1O78RW/wCzp8N5fHfxo8FJq+oG2S9vPFXh6P4gfCzwFBrE/wBkSV5dIbxTCQsbi+Waa4WPrG/4Mi2Ylm/4KUFmJyWb9kskknqST+0hkn3Nf3r0VqZn8Ec3/BkhDbwy3Fx/wUrjgggjeaaab9k1Y4oYo1LySyyP+0iqRxxopZ3YhVUFmIAJqO6/4MjLpbad7H/gpDBcXiwyNaw3X7KUlrbTThSYo57mL9oi8kgid8K80drcNGpLLDIRtP8Ae5NDDcQy29xFHPBPG8M0MyLJFNFIpSSKWNwySRyIxV0YFWUlWBBIqSgD/Px/4gmPiL/0f/4N/wDDA61/89OvHPip/wAGqH/BVf8AZT0bXde/Yg/ax0P4nDWtLNh4o8KeBvHPi/8AZw8ceJ7WAC9tdMW2vddk8E61Yfa0lUR+IPHulRw3LWsyW7pLcSWn+jjRQB/iu+MP2Ffjb8Kv2l9M+E//AAUWl+JP7G99451PUDd/GL4x/Dzxd428O3OpG+WCbxBd63olzdTeKvDc148y3/i3wneeKoYZzHI8UtvJNdW/9RXwS/4NW/23bP4D/EC4/Zr/AOCmnwX8R/BL9oj4fQr4j8PeD9P8Vav8L/jR4cEEWu+GJr23W61bwpqzwXYtb7wz4n+zTal4evHGo6Pe2dwDIf7b/wBt1PgfZ/sn/tBeLP2ifh54K+J/wk+H3wj8f/ELxj4Q8e+H9J8R6BqeleCPC+qeJJ4pdP1i1u7Y3O3Tj9imSL7TBdGKS1ZZwjV+AP8AwZ0/Cr4keG/+Ce/xV+L3jLxR4pufBnxp+OuvTfCXwFfarqc/gnwt4S8EwyaHrGueD9BuZjpWhXHibxtc+JtM10aPaxR30fhHRzdTzS2yxWwB+YH/AAaE/tY6x4K8U/tA/sLfEGe707UvDPiKTxl4f0bUWmN5p/8AaF/B4Q8Y6ULKV0eyi0LxjY+Gz5Ko0aXfjDWJ5ljlbMv7aafqcf8AwT+/4L3av4QuRHpH7Pv/AAV++Eq+KNGjaCK20XTf2wPgHZvZa/a2+4i1tP8AhNPAV3Bf6rMNt34k8ZeKtKgkSSS3hMv8u/7WGlz/APBKX/g5517xBZs+hfC349fFDTfG6yqhs7KTwT+1DEB4iu3ig2CHTPBvxXvNavbZbZnxH4StnEZJa1H9SX/Bfbwf4i8f/wDBOj4fftt/Ca3U/G39g74vfCj9rPwPqVnbf6fBD4N8RWei/EjSRPt80eHoNPvZvEuuWxZbe/tfB1sZUkEccbAHrfxe8O+Lv+CQ/wAQPFv7T/wd8Pa74u/4JxeO9SuvEf7Uv7OvgzS59Z1/9mHxnrWoGTVP2lvgX4cinUyfC7Urq5W8+N/wx0SKJfDqLefEfwxYTwrr2n2/7LfDb4k+A/jD4D8J/FD4X+LND8c/D/xzodh4k8JeLfDd/Bqei67oupwJcWd9Y3lu7xyRyRuAy5EkMgeGZI5Y3ReO+A3xa8I/tL/s/wDwj+NvhyGK98FfHD4VeDPiJpdnerFdo+h+PfDFhrsWnahE8YikkittSNlf28sK7ZkmgmhRleMfjf4z+DPxf/4I7+NvEvx1/ZI8H6/8XP8AgnT428TXvjD9o/8AY/8ADyT6n4v/AGYL3UnNx4l+Nn7Kul+YXvfAc073Gu/EP4LQB49OkSbVfBUdlp093b6GAfv5HFJKSsUbyMBkhFLEDIGSADxkgZ96+V/2kv2IP2R/2u9H/sH9pr9nL4SfGSGC0n0+w1Dxx4J0bUvEug29xIslwvhrxYbWPxR4YmkkQeZc6Bq2m3JyymXazA+z/BH42fDH44/Dnwl8Zfg54x0L4jfDXx9osWseFfFnhu/jvNL1Oxmk2OBIgMlte2VzDPYappl3HBqGlalbXWnajbW17azwR+szatBcLtmshIB0zLyOQTtYRhlyVGdpGQMHI4oA/k++OH/BpV+wP4j1k+N/2Vfin+0J+xv8QLC6+3eGrzwJ42ufG3hTQb7zVcXcOn+K5v8AhPBNAgeO1ew+JumGEOS3mhVC8Xov/BOb/g5J/ZAljT9mX/gqZ8L/ANrDwPpQkkPhH9q7Q9dPiHXIbd41s7CDUPEuifFXWrUyRtIJUh+Lfh+KBI1RLubcgT+t+ZoGOYYniBLEq0gkAycgL8iEBeR8xYkYyc8mGgD+bDwr/wAFC/8AgvV8Fo7a1/an/wCCOnh74y2CR+XeeOP2TPjz4RRpDBI/nXVp8O9X134ieILh5IDFstbnUdHWSXe8MpUtbw/X3w//AOCy/gjV5hafGX9hT/gpx+zfLALKG+1X4i/sSfFrxd4TF9dQQzNBpviL4L6f8Tl1KFPMfbKbG1nZYJlls4LhGtx+yNIQDwQCPQjNAHjPwk/aA+F3xv086h4A1XXnABb+zvF/gTx38NtfKABmlXw18RvDfhXX2iQEeZKummOMkK7KTivZiqsCGAYHqCAQfqDxQFUchQD6gAUtAHivxZ/Zt/Z4+Pemf2L8cPgV8IPjDpGxU/sz4nfDjwh46sQiSCZFW18TaRqUK7JgJU2oCkoEikOAa/Jr41f8G3n/AAR3+NiXs97+yTonw51u6LtDrvwf8XeNvhy+ntLJE8ps/Dmia+nghgywiJEvPC13HbxvJ9lSBpGY/ufRQB/HZ44/4Mxf2DNWur258BftIftQeDY7idJbSx1q7+Gvi+zsIjkzW6NH4H8OXtxHk4t3nvGlhQBZpLpsufjbx5/wZLzAajdfDP8A4KBxu2GOk6H43/Z7aIZELlI7/wAT6H8WZSQ84jVpYPCg8uJ3cRSNGscn97lFAH+bZ4v/AODL39u2yaQeBP2nf2VvEaCSERt4quPip4PZ4miJuGddL+HvjQJJFNhIUDOs0ZMjyQMPLPzV4r/4NGP+CtvhlZW0WL9nbxwY4r2VE8KfF67s3ne2H7mGL/hMPCfhRRLqH3bQytFEn/L7LaDmv9SivnT4q/tgfsn/AAK1SbRPjX+0z8A/hFrNstq9xpPxL+LvgLwPqUCXyq9k81j4l17TbmJLpGV7d3iVZUO9CV5oA/yz/FP/AAbR/wDBbTwnI7J+ybd+ILSN4I47/wALfG34H6msjyx78R2I+JlvrKJCwMcs0umxwK6jbKytGzYGp/8ABKH/AIL8fCSa7ltf2fP2x9NmK20F1L8PvGeqeJHnSUCWGPzPAPjDVzdxRkgyeW0qWz5WbynBA/08P+HoX/BNb/pIF+xb/wCJPfBb/wCbSj/h6F/wTW/6SBfsW/8AiT3wW/8Am0oA/wAv2++Df/Bxj4bmXRj4E/4K8xpYwQRQxaJp37WOq6ZDbiFPIhtbvQxeabsii2x+TBOfIK+UyoyFRwniOD/gvp4QW4fxZD/wVl8MraQLc3Ta+n7WekLbWznCTzm/EAihY8LLIVQno1f6nv8Aw9C/4Jrf9JAv2Lf/ABJ74Lf/ADaU1v8Agp//AME1Gzu/b/8A2K2z13ftOfBU5+ufGdAH+Thf/th/8FifhfBd2up/tO/8FGfh/bRRHVb23vvjB+0b4YgjhK+W2o3MU/iCyRYikGw3UqhdsO0viPAx9E/4Kx/8FVvD0s81j+33+2jM08axyDWfj78V/EMSqjbg0MOveItRht3z96WBI5GX5WYrxX+tC3/BTf8A4JmP9/8Ab4/YlfIwd37THwSbI9OfGR49qs2X/BQ7/gmv4rebRNO/bX/Ys8RyXltOk+k2f7QfwV1V7qzZClyktjD4rnM1u0blZ1eJoyjEONpIoA/ydv8Ah8h/wVmHT9vX9q4f91V8X/8AyZVn/h85/wAFcP8Ao/79rX/w7PjL/wCTq/1ff+Gl/wDgmn/0Xf8AYp/8OP8ABT/5b0f8NL/8E0/+i7/sU/8Ahx/gp/8ALegD/KC/4fOf8FcP+j/v2tf/AA7PjL/5Oo/4fOf8FcP+j/v2tf8Aw7PjL/5Or/WU0b48f8E8PEd1JZeH/i/+x7rd5FA1zJaaT45+DuoXEdskkcTzvDaalLIsKyTRRtIVCB5EUnLqD03/AAsP9iD/AKHX9l7/AMKD4W//ACVQB/kdXP8AwWJ/4Kz3sFxBJ+3v+1uUuY5YZZLf4t+N7ecCZGV2iurbUIriCYBiyTwSxzRPiSN1cKw89vf+Cm//AAU91G1nstQ/b5/bivrO5Qx3Fpd/tMfHK4tp426xywS+MnikQ91dSp9K/wBifSvjf+yRoVu9ponxZ/Z70e1kma4kttL8bfDywgedkSNpnhtdSijaVo4o0aQqXKRopOFUDT/4aK/Zh/6Ld8Df/DieBf8A5bUAf43Y/ai/4KY+NtISIftBftt+K9B1bYEiHxQ+N2t6VqPk3KmIIn9tXNrd+XdwqUwJNs8SlcSIMbX/AAhf/BVLx9/xIP8AhFf28vGXmf6UNG/sX49a/wCZ9n+b7R9g+zXW7yc7vN8o+XnO4Zr/AGLR+0b+zIAAPjj8DwB0A+I3gYAfTGr1KP2lf2a1OR8ePgqD6j4leCQfzGs0Af462j/8Eu/+Cp/jy8+2WX7Cf7a2qTat5+pnWNV+Afxes7O/aVzLPdvres+G7WyuJ7iR2cu1401xIzFd7bq928Nf8EE/+Cxni/7P/Zn7Dfxpt/tFp9ti/wCEkm8NeEgsJ2fJN/wlfiTR/s1186/6FP5V5w/7j92+3/W3H7TX7OA4Hx8+DIHoPib4L/8Al1R/w01+zh/0X34M/wDhzfBn/wAuqAP8sLwr/wAGwn/BavxTdWUd/wDsqaf4Tsb6KKf+1vFXxz+BSW1ssrRBReWGj/EfWteglRJDLJC2jmaNYpEeMTBIn+l/Df8AwaC/8FX9cWM6nqf7MPhAvepasviD4seILlooGEO7UX/4Rf4f+I1NnH5rhkjaS+Jt5dlm4MJl/wBKhP2mP2cnYKPj78FwTnBb4n+CkXgE8s2thR07kc8da63SPi58JdftTfaF8VfhprNkJWgN3pfjzwrf2wmQKzxGe11WWMSIroWQtuUMpIAIyAf54Xhn/gy3/bTuzF/wmH7Vn7NOhA2KSTnw7Z/EvxP5epHyfMtIv7R8KeFPNs03XGy+fyZpPKi3WEfnP5P0z4T/AODJTUHW1n8cf8FDLO2ZZlN5pnhb9m+a9Etv5MZYW+t6r8Z7EwTfaDKgaTQbhPKjSQrvlaKH+78eO/h0QCfiR4BUkAlT4s0YlSRyCVuyCR0OCR6EjmpY/HXw0OfN+JngRem3y/FGivnrnO6+jxjjGM55zjHIB/Hz4H/4Muv2HtPiUfEf9qT9qDxVOI1DyeDV+F/gaJpfJiVnWLWfBHj9lQziaQRmZmEUkcJkLxNNL9Z+Av8Ag0j/AOCRvg8QDxBoHx8+KBiijjkbxv8AGC5sDcslv5LTzD4e6F4FVZZZP9KkFuIIhP8ALHFHb4gH9Qekromt2kWpaPr2n6xp0rusd7plza3lrKYnMcqR3VtcTQlkdWR8FijghlyCK1/7JsP+e0n/AH9i/wDiKAPxI+G//Bvv/wAEdfhYip4b/YY+Fuq7ZvtG/wCIOpeOPio7SeXJGQzfErxX4rzCRKx+zYFsrhJFhV4o2T7e+Hf7BP7D3wiuYb34Wfse/sxfDq+t2aSK/wDBXwK+GXhm/WV44YpJje6P4ZtLpp5Y7aBJZ3laWUQx+Y7bFx9naja2drao0RBk81VLtJuZlKyMQQCE4wAMKDgDvknIjhlmBMMbygYyY1ZwM5xkqD1wcfQ0AZtnpemadbwWmn6dY2NraxRQW1tZ2kFtBbwQoscMMMMMaRxRRIqpHGiqqKqqoAAFXunSraWF47BRbygnPLoUXgE8s+FHTjJGTgDkirKaPeMSGVIxjO53UgnI4xHvOeSeRjg85wCAZdFbI0lUJW5vIIWwCoBBJBJBJEhiIGRgEbgTnpjmK4g02OFxFcvJcJtUDnYzBgHIxHjbjcVxIR0wzdwDA1DT7DVbG80zVLK11HTdQtp7K/0++t4ruyvbO5jaG4tbu1nSSG4t54naOaGVHjkjZkdSpIrl/Bvw4+Hvw60xNE8AeBvCHgjR42DJpXhLw3o/h3TkZUWNWWy0mztLdWEaIgIjBCqq9ABXZ0UAFFFeefEz4w+H/g54c/tnVNM1PxNrmpXI07wd4G8LaeNa8d+PPEbxSS2fhzwhoxubVLm9dI5by/1G8udO0Hw3o9tqHibxXrOieGdH1TV7EAufE74k+Afgv8PvFHxW+LHi/wAP/D34c+C9Lm1nxP4y8Wana6LoOk2ELrF5lxf3skUJmnnkitbO0iaS6vbyaG0tIZrmaOJvyFm8J/G//grZNFdfETTfHv7N/wDwTVkmaXTfhpdNq3gb4/ftrafb3u611f4jqq2HiT4Ofs86xHbpNp3gWN9P+IHxI0i4F54lm8P6BfW+k3P1LpH7K/jj9ov4peEf2hP24LjQ/EI8Cz2+vfBL9kjR3GvfBL4K+JIpZnsviD40uL9Bb/Gn452FrII9P8XalpWneEfh69xc2fgLw/JqdvJ471r9DWJZixABJJwqhVHsqqAqgdAAAAOAAKAMHwv4X8N+CfDeg+DvB2g6R4X8J+FtI0/QPDfhvQNPtdJ0PQdD0m1isdM0nSdMsYobOw06ws4Yba0tLaGOCCCNI40VVAr5R/b7/aN1b9l/9l7x/wDELwbpsfiD4ta9N4e+FXwI8JEo0vi746fFrXtP+H/wq0JIHy1xbN4u1/TtR1kRqzW+gafq184WG1ldfsuvys+Lmnp+09/wUv8AgR8KPM/tH4YfsI+Bbz9qT4mWQMF3pN7+0B8WIdb+Gv7N+h6lCx2pqfg/wbZfGb4iiBlkubG8vfAmrBIEuLSWcA/n3/4Oaryx/Yr/AOCNv7Kf7Dfh/wAQXGpa/wDEz4l+ENJ8aazcyldQ+IUfw90jUfiB8U/G+srJJJcXes+LvjHrPhnxfrM8hkEmraxc3E0nmyRh/tb/AIJyf8Eh/wBjv9pP9inwn8Mv2uvh14h+K3hLwHN8ObTRPCX/AAn3j/wBp2meLfBvw9Ol3euvP8MvFXgnVdQvXi8VataiDV7q9t7cXNzPHF9ouXkH4yf8HSfxBb48/wDBW3/gn/8AskWlz/aWhfD7w54I1XW7JJvk0zXfjT8U0TxPDNE/mxxyL4J8BeE9TmkELPLbXEK+XL5aKf7M/wDgnRpH9l/s26XMVCtq3ijxDqGdqglI3tdNiG8El12WAI+6FLMuwEMzctfBYXFVMNWxFGNWpg6zr4aUnJOlV5XDnSTSk+VuykpRTtJLmjFrpo4vE4aniaVCrKnTxdJUcRGKi1VpKSmoNtNr3ktYuMrXi3yuSfxnpn/Btv8A8ETdFu0v9H/ZD8QaXfRK6x3mnftK/tW2d1GsilJFSe3+Oscqh0Yo4VgGUlTkEitnUf8Ag3Z/4I2axaTWGrfsveNdTsbmMxXFnqH7Uv7W95azxNgtHNBcfHqSKRGwNyOpU4GQa/aCit5U4Sd5QhJq1nKKbVndatX0eq7PUwU5xVlKST3Sk0trdH209ND8LP8AiGT/AOCFn/Rks/8A4kF+1B/8+6ur0r/g3N/4IxaFYDStE/ZU8XaRpgma5GnaZ+0/+1nY2IuHAV5xaW3x4igEzqArSCPewABYgV+1FFVKMZJxlFSi94ySafqndMSbi04txa2abTXo1qj8Zf8AiHh/4I6f9GyeOv8AxKj9rn/5/dRSf8G7X/BG6U5k/Zf8bSEDAL/tTftcMccnHPx6PGSePev2forB4XCyVnhsO12dGm19zj5I1WIxCd1XrJ91Vmn+Ej8Xf+Idb/gjV/0a540/8Sk/a3/+f1WlF/wb3/8ABIGCJIIP2cPiLDDGuxIYv2sf2v44kQcbVjT4/BVX2AAr9kKKqnh6FFuVKhRpNqzdOnCDa00bjFNrRabaLsKdatUSjUrVakU7pTqTkk7WulJtXtpfsfi9ov8Awbn/APBE/Qbea2s/2KdPuY55vPkbWvi78ffEU+/aq4judf8AizqVxFHhQfJilSHfufZvZmN8/wDBu9/wROJJP7CvgwknJJ8a/Fokk9ST/wALF5Jr9kqK2Mj82fgb/wAEbv8AgmN+zT4ln8XfAX9m2X4Va/dxR2+oXng74p/GfSYtWtoWZ4bXWbGH4k/YNYtYpHaSK21O1uoI5D5iRq+GH6C2Hw7+GmmKqWOhXsIRQqk6trMrBRjA3z6tI5xgdWPSuhorycTkGRYzF/X8ZkuVYrHckaf1zE5fhK+K5I/DD6xUoyquEfsx57Loj1MPnec4TDfUsLm2Z4bB87qfVcPjsVRw3PL4p+wp1Y0uaX2pct31bOjt9S061hjt7eCWKGFFjjjVEwqqAAMmUknA5ZiWY8sSSTWPe3TXc7SH7g+SIYAIjBJUNgnLHJLHJ5JAwuAKlFerGMYxUYpRjFKMYxSUYxSskktEktElolojzG3JuUm5Sk25Sbbbbd223q23q29WwooopiCiiigAooooAlTofr/QUUJ0P1/oKKAI26n6n+dJSt1P1P8AOkoAKKKKACiiigAooooAKKK5jxx4tg+H3gTx18QbqJZrTwF4M8UeMrmN/NKND4a0W91dldYMzurG0CssKtIQSFVjxQB1yW08kckyRs0cX32x07nAPLbRy20HapDNgc1BXjv7MPx81D45/BL4P/F7XtJ03Qm+Kvw0+HvjmbT9MknmtdH1Hxd4Q0PXL7Txc3DGS4tbS+1GW0t55VimEMSeapILV7bfQrb3U0SfdDBlHPyh1DheSxO0NtyTk4zxnFceDx2Gx0Jzw83JU6k6c1Jcsk4SlFSs94T5XKnJaSj2akl1YvBYjBThCvDldSnCpFp80WpQjNxutOeHMo1I7xl3TTdSiiiuw5QooooAK/GX/gvR4L17UP8Agnl4v+NfgmxF78R/2Ovip8Ff2w/AD7WLafq3wK+IuieIPEGpJIgLwtaeAp/F8hlUYC7lcrG7Ov7NV598Wvh14f8Ai/8ACz4kfCfxXbC88L/EzwJ4t8A+IrQqrC50PxfoN/oGqQbXDK3m2V/OmGBU7uQRQBqeAfGWh/EXwN4N+IHhi9TUvDfjjwtoHi7QNRix5d/o3iPSrTV9MvI8FhsubO7hmXBIw4wSOa62vxx/4IRfErXvFX/BPDwB8IPHN59o+Kf7G3jn4nfsXfE+0KhG0jX/ANnjxfqHg/w9pjRl2miMXw6TwTMY7hI5YzOUxJGqTS/sdQAUUUUAFFFFAH883/Bz38fL74O/8EpPiX4C8OyXP/CcftQ+Pvh1+zt4RtrBg+oXb+KNcHibxPaQWisJ7qPU/BvhHxBoUiQo/wC81iBGH7xQf1t/4Jy/s2ab+x1+xr+zN+zRYW0FvP8ACr4N+EfDWvvaCLyL7xq2mQat471j907R51vxhea7qzmNpFMt6drsvzn8H/8AgqnpLftff8FvP+CQv7EiRz3nhH4IL4y/bj+LlkA1zpEum+GNT3/D8a7aFJbaSCXxH8Lr7w0Ip42EkPjYwzbYLsM39S9hIILq3YbFUOEJbhVRxsY9QBtViQTwMDII4oA/g3/4PY/2b3sdV/Yw/bH0OykhuMeLPgJ4t1iFCu24spf+FhfDmBrhHVo5kDfEOWIbSzqhKvH5OH/oH/4JjfE7wz/wUP8A+CYWi+H/AB+0OuaR8ev2eJvDXxAt1KzR3d34v8I33w7+KumW0Nws0QgsvE9nrkKiVXJlusyIx3Vhf8HQX7Ow/aA/4I//ALQV5Z2guPEHwPvvCXxy0SQjJt4PBusRW/iqTABbH/CF6t4iwVwVcIx+QOD+LX/Boh+0eda/Z58R/BzUtQ/0n4WfFbWvD8Fvvz5HhH4pWEHifw/CUYjb9p8d2HiduDtbgqC4cFf1+v8An836j/r9P8vu9D9Sf+DZb4peJ739g7xz+yf8RpZo/if+wV+0l8Yv2ZvE1heNK1/Fpmj+JJ/EmiyyLKoaKys7zXde8KadbyN5tvB4VMJjSFIC39FzKrqyOoZWBVlYBlZWGCrA5BBBIIIIIODX8vX7C0p/ZY/4OMP+CoP7Mxh/svwb+2F8Hvhj+1/4IFzJsTUPEvh46fp3i9bCOQIGu9V8TePviTfTG1V1ms/Df+lSmWzRF/qGpiPzA8Rfsl/Ef9lf4o+KP2hv2FYYbjw1451G48QfHr9iW+1Sw8O/DH4n6zNFEt98R/glqF6sej/Bz44TpCZ9Thc2nw5+KlyEtvGg8N6zOnj3TvvX4U/Fbwr8YfCcHirwuNXsSk76dr/hjxRo9/4b8ZeDdft443vvDXi/wzqsNvqmha1ZrNDKbe6gEN9Y3Fnq+l3F9o+oWF/c+lVQi0rTIdSutZh0+yi1a+tLSxvdTitYY7+8srCW6nsbS6u0QT3FvZTX17LaQzO6W73l00KobiYuAX6KKKACiiigAooooAKKKKACiiigArMOi6O19PqbaVpralcwxW9zqDWNsb2e3gJMME10YjPLDCWYxRu7JGWJUAk1p0UAU/7O0/8A58bP/wABoP8A4ij+ztP/AOfGz/8AAaD/AOIq5RQBT/s7T/8Anxs//AaD/wCIo/s7T/8Anxs//AaD/wCIq5RQBT/s7T/+fGz/APAaD/4ilFhYqcrZWgPqLaEH8wlW6KAK32Kz/wCfS2/78Rf/ABFH2Kz/AOfS2/78Rf8AxFWaKAIFtbVTlba3U4xlYYwcemQo44FO8iD/AJ4xf9+0/wAKlooAi8iD/njF/wB+0/wo8iD/AJ4xf9+0/wAKlooAi8iD/njF/wB+0/wo8iD/AJ4xf9+0/wAKlooAi8iD/njF/wB+0/wo8iD/AJ4xf9+0/wAKlooAi8iD/njF/wB+0/wrntS8FeDtZuTe6v4U8N6peFFjN1qOiabe3BjTOxDNcW0khRcnau7AycAV01FAHFp8N/h2jBl8BeCyRnAbwvojryCOVaxKnrxkcHkcgVP/AMK/+H3/AEIHgb/wkPD3/wArq62igDlB4C8AqMDwH4IA9B4S8PgfkNPpf+ED8Bf9CJ4J/wDCT0D/AOV9dVRQByv/AAgfgI9fAfgk/wDcpaB/8r66yxKaXYw6ZpdvaaXp1upW3stNtLaxtrdWkMrLBDaxRRwq0jM7CNVDMzE5LHLaKALP2y7/AOfmf/v6/wDjUBd2JZmYsxJJJJJJOSSe5J5JptFABknqc0UUUAFFFFABWVHoekx6vPr4sYW1m4to7J9RlDTXUdlGdy2dtJKzm0tGk/fSW1r5ME1wWuJY3nZpDq0UAFFFFAHL+NvF+ifD/wAH+J/HPiW4ktNA8I6DqviLWJ4be4vJ49P0iymvrr7PZ2kU93eXLRQsltZ2kE11dTtHBbwyzSIjfL/7F3wY8Q/DnwV46+J3xMsPsvx1/aa+IutfHL4vJPNDe3vh+51y1sdF+HnwvN/C0sVxZ/B74V6J4L+G8b2k76de6l4e1bXbRUbWrgv9bato2la7aJYazp9nqlkl9pmpJa30EdzAuoaLqVprGk3gilVk+0afqljZ39pJjdDdW0MyEPGpC6vqNtpGk6nqt7OltZ6Zp97qF1cSnbHBb2dvJcTTSMeAkUcbOxPRVJoA/wAyj9pbxqn7UH/Bz58bvEfmG+0P4XfErxJ4RjignFzBpzfAT4Rr8NzHG2JUgUeOtAe7vIflKX11dx5jnb5f9EX9i/Tk039mn4Xqq7WvNIutQk4AJe71O9kBJAAOY9m04zs2gliCx/zJP+CRniS7+Pn/AAUi/av/AGidZEkt54vsPip46na7NvHdrrnxT+LGl69JNJHDcFTN9lbVoplgjnt0aYkyx4h83/UZ/Z5006R8Efhhp7LIht/CGk/LKVL/AL2ETZJQKpDeZuUgYKFSM5yQD2WiiigAooooAKKKKACiiigAooooAKKKKACiiigAooooAKKKKACiiigCVOh+v9BRQnQ/X+gooAjbqfqf50lK3U/U/wA6SgAooooAKKKKACiiigAr4+/4KFeMF+H37BP7bHjdpp7f/hFf2Tv2htcSa0aEXccunfCbxZcwtZ+fJFC135saC1jkljSScxxl1DZH2DX41/8ABwV8TYfhR/wR5/bh8RSXAgk1r4Y6d8O7ZRIqSXE3xQ8aeGPh6YIlaC5MpMHiSeSaNIg32aOd/OtVRrmEDY+p/wDgnHYve/8ABPD9keMgq7/s0fBUhyAWEn/CsPDJIJVjnkDBB6k4yQK/QHVEdWtWdSHa1iEj7cb5VBD7j3YDaCCSQNoPGK/Kf/gjd8ULbxh/wTz/AGOLTVLmzfUpP2WvgRNKsciqn2tvhj4YFykcYZsIrMECkkwzK8DchRX646hZvfJAY3RSm4/Nu2sJApyGUE8FRgbeQScjGD8VwRicFj8tjjcHVU2ofUa8FJN062CxGJpVKdSKStOE3JapOz2WqPr+MMNjMDj3hMXTlFObxlCbi1GpRxmHw1SE6cnfmjOCi9Ha66nJUVs/2Jc/89YPzk/+N1HJo94mNojlznOxwNuMYz5gTOcnGM9DnHGftT5AyqKsT2s9sVE0ZTcCVOQynBwQGUkZHGRnIBBIwRmvQB8c/wDBQb4267+zn+xR+058avC11HYeKPh/8GvHeveHNSmyYtJ1u18P3zadrEg/jXSbjZqXlnAla1WJmUOWHtf7Mnjq/wDi38CfBHjDW5FuPEF9odpfXV7FBBA+pJeW6XlpeSW9r+4V7u2kjVxARF56SSQLHE4ir86v+C7/AIhtvC//AASL/bp1W5u47ISfBXUdCgnkCkNdeK9X0nwpbWqhoZxv1CbWl0+P5FbfdKUmgfbNH9T/APBMC5vbj9ij9mSXU4mt9UuP2efgxNqls8ZheDVB4E0htSR4DzC4u55A0Z+ZCu1uRX5/i453S8RsrxEswrRyGvw/jcDRyyNW2GrY14ilisRjKtCy5sXh1h8JRpV5OTpUMVUpUlFVq/N9xhnlFXgHMqEMDSlnVHPMJjKuYypv6xSwaozw1DCU612o4au8RiqtSjFR9pWw9OpU5nSo8v5zfsfSj9mv/gtN/wAFHP2XZTHY+E/2rvhn8H/2/PhVpMYS2tbfWYhN8GfjvcRjBW91PxF4z03RdduthjngghaSWKZX+0D94q/Af/gq3JL+zP8A8FFv+CQP7bK50/Qbv47+Mf2HvixdxRQrb6r4a/af8NSW3w8bW79ikkGi+EvGeg3/AIjSSRkt4Lpmed4xvhuP35AJAIBIIyCOQQehB7g1+gHw4lFLg+h/I0YPofyNACUUV5h8bvifoXwS+DXxY+Mnihynhr4UfDfxv8R9fdWCMujeCvDepeI9SZXYMqMLPTpsMVYKcEg4xQB+Bn/BNvSf+Glf+C03/BXX9ti6b7d4b+Ct94A/YH+Et4zedHZSeAbDTdT+N2mQZYrD9m8ceGNG1BXRWaQ6/eRqY1VxN/SGDgg+hzX4g/8ABvR8Jte8Af8ABMr4X/EvxxamH4nftZ+Nfib+1r8R7vaEXWNZ+NHi2+1Xw5rKLjzAmpfDqy8FXAWWSZ1Z2USNGEA/b2gDz79qX4WaR8eP2Y/jx8H9fhWXRvij8HvH3gzUYWAkBtvEnhXUtOkXB25IFzweCCAwAIFf5kP/AAbM/ErX/gl+3r8dvgLrTNpN74j8C6jNLZPK26Px/wDBfxrara2hiDKsjWula34wkMoJeP7MVQbZXdP9UrTvLuNO8lkDpiaCVJFVkcPkspU5DIySBWDAA/MCMcn/ACjNV0h/2Iv+DmvxB4exJpem6z+1trGli3iCpaNpn7TmkziztDDG4txZWl18TLYJDkx6fNZR4VZrJVUA/qT/AOCm+rQ/AH/gvN/wRM/bEs5LgaF+0DonjX9krxAySvHZT23iKa40rwfb6g0Y2M0muftAx6raJI5E9xoMbYCWpI/q1r+SP/g4zsdZ/wCHan7Kf7VHhmOSTxl+xx+2H8IfHsd3ExRrPR4LzXPDkFs1yoY2Xna/J4AlW8MU+x4EjEDmVJI/6vvCuvaf4p8MeHfE2k3KXmleIdD0nW9Nu42DJc2Gq2EF9aXCMpZWWaCeORSCQQwIJoA3qKKKACiiigAooooAKKKKACiiigAooooAKKKKACiiigAooooAKKKKACiiigAooooAKKKKACiiigAooooAKKKKACiiigAooooAKKKKACiiigAooooAKKKKACiiigAooooAK+Jv+Ck/xGk+EX/BPj9tr4lW1wLXUPB37LPx11nRpSAc69b/AA38RLoEQ3QXKKbjWXsYFeSCWJDIHlQxq1fbNfiB/wAHHfjo/D//AIIyftq6pFcLDc6z4W+H/gq2j3Woluh44+LvgHwre28CXSusrDS9VvriZYUNzHaQXE8BjkiEqAH+S18JvjD8Rvgd4/0X4nfC7xTqfhLxhoN4t3Z6lps7xrPH5qyXGnalbZ+z6npN8q+TqGmXsc1lewFop4XQ4r/Uc/4IX/8ABe34D/8ABRbwD4W+AXxHfRPgz+174K8MWGnXngK7vltvDPxYstFtI7WfxP8ACq+vpQ9zdmKFb7WfA1zJJrmjpJPPpz63o9nd6lbfwifsCf8ABMXQv26v2UvH3ibQ9dPhH40aT8Yb7wj4D1y+uZ5PDOqRweE/CWoDw94osIop5LWwmvtdSSLW9Phe+sXmlka21CGP7I356fHv9nf9qD9gT48H4f8Axg8KeNfgf8ZvAeoab4j8Panb3V1pd0RBcC70Dxp4D8W6ROtvqumSz263Ok+IvD+oTQrcQPGs8V5bTwxAH+4dRX8VH/BCv/g500D44f8ACI/slf8ABRTxRpXhT4yStBoXw2/aO1L7FonhD4mSYht9N8N/El4kttM8LeOpm3RWHiUrZ+HfE7+XaXi6Vrxt21/+1VHSRVdGV0dVdHRgyujAFWVgSGVgQVYEgggg4oAdRRRQAUUUUAFFFFABRRRQAUUUUAFFFFABRRRQAUUUUAFFFFAEqdD9f6CihOh+v9BRQBG3U/U/zpKVup+p/nSUAFFFFABRRTXJVHZRuZVYhRnLEAkAY55PHHNADqK/hv8A2if+C3H/AAcaaR8V/ib4R+DX/BJ7xFbfD/w7458S6F4O8TS/saftZ+NdV1nw/ouu31hpesjXrXxDp/hrU4Na0+3t7xLmw0CO3kjmEtrIY3Rq+KPEv/BXD/g6812USaZ+xz+0B4PQT3Mxh8O/8E8PiFcRmOdgYrYnxR4F8Ry+RaAFYGEouGVibme4bDAA/wBGev45v+DyX9qLTfAP7FvwQ/ZZ03UIR4t+P3xeTxnrVgskcsyfDn4R6ZNcXZubdT51r/aHjfxJ4Ol066l2xXK6Jq8EKzPDM1t+Jj/8FIf+DvF3dl+Hn7bkYZmYRp/wTY8KFEBJIRDJ+zI77VHC73dsAbmY5J/LT9rf9n7/AILq/t1/FFfjN+1b+yR+3z8XfiHDoln4asdZ1X9kn4paLZaToFhPdXdto+h+HfC3wz0Pw3oenreX17eyWukaRZRT3t3c3c6yXE8kjAH9m/8AwQP/AGzfg58UP2Bf2efDtteR6T49+DGgJ8KPGIhvjG9hqHhdhY6QupxvK7Q22teHhp+q2s7tHYyi6kjSa3uLR7eH+nfw18cbW9sbffrsESLFDFG01pFcRtGqBVlW5ikIlDAAsd8j8biT1P8AkN/Af9jv/gtR+zJ4yh8ffAr9jb9v/wCHfiaMRJcXGkfsu/GifTdVghk82Oz1/QNT8A32geItPWXEg0/XNM1CyLgOYCwzX6EP+0R/wdEm5e7t/gh+3Fpsr/eXRv8Agn1Dolv3zi00n9nyztVJzg7YRkYB4AA/nin4eeJfDWf53jOEM24VxeR5vmVbH0sFmdXNchxuEhiJurLD162UZdmVDMXhqkpQoYmVPC1qtHl+s+0rRdSf7tPjrw94gyPJ8JxTlnEmGzjK8BRwVXF5dSy3OsJiZUIxpxr0KeZ4/L62AjXhFTrYeMsTSp1ub6vyUpKnD/UXtPirYsS7+INFuIuozE0JA4GGInTODjnC/ewRwM3H+LekAgLfaUF53TSTJHEoAzls3mVHByScDIJIAJr/AC4ZP2kP+DpOUgy/B39vGQrkAv8AsFTsQD1Az8AzjNec6v8AtOf8HJGr+J/+FZ6p8O/20ZPHF/4bn8Wx+DV/YtNp4zm8J2Wp2mlXPiW20q2+CUGvroNrq91ZaZPrFvEtjFfXNvZSXAlnSJ/pHQ8a6cIxo4XgKo01zSq8V8SRdrq9nLg/EtW1SjfW3xq6t8+q3hDUk5VcRxtBJPljT4Z4fav0TUOK8PF+b5bPrFs/1SNR+KcF0v8Aomq+FbgRsWaNppZAikfKzvb6qgB/hBZCCSQCvOeTvvjBp1im+81TwvAEDFhAbmRux5H9p3HTB/hUZOD6H/LNvPEP/BypeSW8x+DX/BSCymthKIpdH/ZR+JehyYmCB/NfR/hZYtPxGAnnmTy8v5e3zJN1LVdU/wCDljWbGbT734Y/8FRlt5wokNj+z58b9LuSEdXCre6Z4AtLyNWKgOsc6iRCyOGRmUn9l+MOIpOVXGcJ4HEPTloZ7n+Nw6XNpJc2Q4Cpzcu8VZNp2krlLM/CqhUUaeD4mxlCKupV8myTCVm7K8Xy51joWve0nzO2rVz+nn/g6y/4KS/Dmx/Ya/4Y20DX9G1L4m/Hjxx4I1PWvD2musOoaV8OPAXiG38aTa/qlvb3bSwWd94r8PeHtL0qLUoFi1KT+0bi08ybRp2h/Z3/AIJM/tZeEvFH7E37Nnj5Z5L7RdV+AXw9S/sdKa2mutM13S/C2jWOr2CxXN3ApOnahp95p86G43LPCzDeHDH/ADKdY/4JW/8ABX/4uarqHjzxh+xH+2z4u8Sa1cu+q+IfH/wl+KEnijUriILGZ9Qn8XaZHrlydqqkc9yGV0UCN2UcfWfgyD/g4F/YJ+COm+FPD3wl/aX+C/wW0PXLPR9ItvEP7P8A4e1Kwh1/x/4nisNL0HT9R8W+BNZ1a6vfEvivXYbLSNDt7udrvVdTW30+0M1zsY4i4T8Q6mWcMYzIs8yXHcX5Lj8ZXxeJzqeOy/KauFzDCunVoYZYfB5zibYarh8FGFOvRccTT+s151KFWVOmlkPE/AlPMOIsJnWTZvg+Fs3wWEo4XD5TDBY7M6WKwOIU6dfEOvispof7RSrYudSdGqpYeosPRhCtTjOof1z/APBzh/wUk/Zjuf2Cb34B2H/CYS/tKeM/ip8L/FfwB06wttHOp6B4j+HHjbRfE174/eSy1XU5bfSrfSINS8LQmOD+0LrV/EFva21vsjvLi1/fb9g79tnxb+0T+yf8Gfi/8ffgxr/7PfxX8Y+ErG/8VfDPVdR0vVJbG5CeXBrFqYrxL/TdP8RWyRa1Z6Hr9pY+ItDivP7K1i1+12jzzf5pWsfsBf8ABwv47+OegftT+KP2VfjZ4o+Mmk2Gmr4b8UeK/hp8LNRt9BtrS2/4lo0vwNrmmyeFNBurIyveQm38M2d7Z6rLPqOYtUkmuD+jXhDwr/wdlC1s9R0n4DeKobISYay1LR/gB4ZmuRbuY3S70+bxHoeqQRylT88cdr5iNvt3EbK1bSfjZg8qybDwo8CZ3mrw1Wtn+YzzPM8qpQxk61SVLA5Xl8chxVOthMPh3TpPMMTicNXxdWM6ksDgo2hLGP8AxCDF5nm1edXjPKMs+sUqOSZfDLsvzKrLCQpU41cbmWNlneGnSxVeuqs/qOHoYijhaU4044vFyXOv9Fc/G/wEpCtfXAY9vIQ44z8zLMUB/wCBew5rUi+LPgmcZi1J3/3YGP8A7Nj8uvOK/gR8NTf8HZztBpK/sh+FNSuZnlZL7xFrnwj0tQqRGQxzX8vx00fS4ECRMIzO0byysIw8ksiIfXLM/wDB2bbW0UE37CXwCv5Ywwe9uviv8KIrqYlmYM/2D9rqztkZQQqmG3iACqSC+WPnvN/HWi3zcIcK4tXStQz+FPT+ZSrwpXT21hGW1o727/7M8GKqXLxPxLhXa7dbJZVFd291xozq2a1eknH+89D+5YfEbwTNJ89yNzYBeSzLEkAAAkK7HgADg9hX4z/8HA/xbOmf8EzviN8JPhvqEEfxO/a7+IPwh/ZJ+HUEdvKsmoat8a/iBo+i+IdMKRxpM4vvAFp4wgMcZLOG5V03K34p6Jpf/B0Fq9hHc6x+xP8AATRL1GEMtnqH7Q3hxZJDHHHuuYItF+PGu2cFvMxYRRNfyTptYSg/LJJ8H/GH4gf8Fiv2iP28v2Yv2UdV+AvwX8R/Hf8AZe8Ry/thr8GfDf7TXg/xXY6dd+DYIvD/AIf1jx5r0mv6xp3gfV9Du/FNvf6Hpep7NWvE1a0uYrF7SaCV+vJ+JfF+WYRpZ54cYGjlzpYqcsXgOJsnxFeM6GGqVaFFYepiqKlPGVoQw1KXOqVOdZTxE6VGE6keTNeH/CyOCdXJ+PcbVxyqYaEcLjeHs0o0XCtXpU69Z4iGGqtQwtGc8RUjyOpUhScKEKtWUab/ANA34TfDDwb8IvhV8NPhT4RuorDwv8M/APhDwD4etGES/Z9F8IaBYaDpkKqrRKixWNhBGEVSF24BxgD0FLLT5f8AV6vaydvkeFueuMCc9ufpzX85Gi+O/wDg4AsZYBqv7GP7Leq2YyLmNf2tJLC8mQoRtW5i+HU1vG27aWZrKYMAVxyCPaPB3xN/4LGT6rZWvjX9gX4HadpUjbLrVdD/AG3bO7uoS7hVkeyu/gkyeRGrF5nhWedFQmK1uGYRV9Bh+JuNas6cavh3mWGjKKc51s64ZlGDbScX9XzuvLmSbk3GEo2Vk3LQ8Stw9wjTjOVPjzL67UmoxpZRxEpSSSakvb5PQik37q5pxd9XG2p+9VhbLao4W5E6SFWXGAqkAglcO4O4FckY+6M54x/l6/8AB1H4QuvgB/wWG+HXx30G0S3fxH4S+HPxBE8MslvPdeMPAnjbU555GkiEbxldGTwmIriN1kyWwcxCWT++DwjqP7Z1xLI3i/8AZR8BSBoQITpv7ZNxqP2iXJEqS6d/woPwultEFUuGE10x6BVX5z/Fp/wd6fDz4pXV1+zF8WvHPwY0X4V22kav4s8IG60f4pL8Q21a58W6JoeoaZBdrL4Z0G4gNrD8PNVkgnSWdF86aGUEmEx/XYDE5tXd8flmHwFPlbSjmP1uvzXVoyp08JCjFbuUo4qfLokpK8l8vjaGV0VbBZhiMbUUt5YBYag49XGpUxcqzfZSw0ebq49f6Ov22vAOn/tS/wDBF39vLwPpSprML/ArUvjJ4bWNDM+oX/gjRdP+LvhOO0j5cz3uqfDu1+x4VcXEqksudw/Q/wD4JV/EmT4uf8E2f2GPH9zdNe6lrf7LfwWi1y6eSSV5/EejeBNF0PxHI8k0ksrM2uabqG4yyyyg5EkjuGY/E3/BGjxTYfHH9hD4J2Guga3YfEX9kL4daZ4shuNl1Hqd3YeDtN8IeJo7gu1z5iT3t7qcLpM7uRIyXCmQOo9G/wCCB+na54V/4Jf/AAQ+F/imYy+K/gj45/aO+CHiJDFdRG2vvhV+0h8VvB1rbEXckr7o9I0vTS6xSG3idmghSBIhbxeoeafsfRRRQAUUV478b/2hPgb+zX4Jv/iP8fviz4A+D/gjTo5HuPEfxB8UaR4Z0+SSONpBaWL6pdW76lqMwXZaabp8d1f3kzJBa2000iRsAexV+c//AAUW/wCCp37IX/BL74caT4//AGnPGeow6p4qnvbTwD8L/BFha+Ifid4/utMjgl1QeHPD9zqOk2UNhpkd1a/2lruv6tonh+ymvLGzuNUS91Cwtrn+R/8A4K7/APB2drmpajc/BL/glfqMujaXaTT2viv9qLxP4Us7jUtbmWWWAad8I/Bviuxu4bDSWhCPL4u8W6KNXu5Znh0fQNIFlb63qP47/sv/APBFT/grz/wV6+Kvh/45fHa3+Jeg+AviBPo+reJP2m/2mdb1OS/ufBmoT/aUvPAvhnxBfHxd4rg/so3EvhTTNF03TvB6r9htG1nRNNuILhQD+kz9gr/g6n8a/tu/8FIPAH7LWj/siw6P8BvjF4r1bwj4G1/TfEGp6x8YPDFva2OpX+l+OPG9jbQy+FLjSJINOjuPFei6X9mTwlYXd5fQeKPEiaKI9X/s0r8xP+Ce3/BIP9hf/gmjo4k/Zw+Ellb/ABL1Lw9YaB4w+Nfi+8vPFXxP8Vx20NuL9jreqzXFv4W07Wru2h1DVPDngmz8OeHLq7gtZptLkltLeSP9O6ACiiigAooooAKKKKACiiigAooooAKKKKACiiigAooooAKKKKACiiigAooooAKKKKACiiigAooooAKKKKACiiigAooooAKKKKACiiigAooooAK/mQ/4O2PF0vhz/gkV4m0eN51Tx58d/g74WnESwmN4rS/1jxkEuTJ86wibwpE6tB+9M6Qqf3LS1/TfX8g3/B5vrf2b/gnL+z94fWOTOrftjeE9SadZdsaxaL8HvjNAbeSIDMnnSaxFMpLBY2tclWZlKgH5J/8ABvloS2f7LnhqcmFR4k/aF1vUWMKBZf3Z8IaGTcNtAkmC6SArndiAQpnCbR/aj+3/AP8ABMf9lj/gpX8B4/g7+0N4PS41DStM3fDv4qaHFZ2fxJ+GetPZpDHqvhnXWt5C1rMyRHV/DuoR3Wga2kUQv9Pee2s7i1/j1/4IL2NvH+yF8BpIo1ikvPib4tvbl1HM88HxBvYFkfJ5P2e0ghyMYSNe45/0GYEMcEMZOSkUaEjoSqKMj64oA/xx/wDgqv8A8Eb/ANqb/glL8TP7L+JWmTeOvgj4j1W4t/hb+0H4X0y7j8H+KYlMtxaaTr8Ya5bwV46jsomnvPC+p3cnmmC7udA1HXNNtZL8ftr/AMEKf+DmfxX+zQ3g79kv9v3X9X8cfs9xtY+Hvh18db173WfHHwZtSRbWWi+MWJub7xf8NrIGCKyuUWTxF4Os43gt/wC2tFjsdN0f/Q3+M/wU+FH7RHw08WfB342+AvDfxL+GfjfTJdJ8T+D/ABVp0OpaTqVrIVeN/LkHmWl9ZzpFeabqdlJb6jpl/Bb3+n3Vtd28Myf5p/8AwXK/4Nu/iJ+wKPFv7UH7J/8AbPxT/Y7jlfV/E+g3cn2/4ifs/wAV3dpE1trZAE3i/wCHtvNcRLpvi+2jbVtGtGNp4vtSmnnxTrIB/pveEPGPhP4g+F9B8b+BfEuheMfB3inSrLXPDXinwzqtlrfh/XtG1GBLmw1TSNW06a4sdQsLy3kjmt7q1nlhljdXRyCDXR1/mnf8Go/7bP8AwUBsP2q9H/Y4+GFrL8XP2T9VtNU8W/FXw9431HVV0P4D+H7fc11478C69HBqDeHdT1PWLm00+PwcLaXRPGGp37JJBpF7JP4n03/SxoAKKK/hou/+Dsvx/wDsuft8/tYfs0/ta/AzRfiH8CvhP+1F8c/hV4P8ffCESaB8UvC/g7wP8UfFHhnQX1zw9ruqz+F/Hs1ppOmWdtIbS98EXjhZLua51G4/cygH9y9FfC/7GP8AwUo/Yn/b+8MJ4k/Za+Pngz4hXcNsLjWfBEl2/h74leGgpjSX/hIPh9r6ad4q0+2juJPs0eq/2ZLot9KjnTdSvYgJD90UAFFFFABRRX5H/tuf8FGPGnwZ/ab+Cn7BnwK8A+GbX9pP9pPw5q2v/DP4t/tG3+r+Cv2Y9OttEe4TWdMsdY0G3vfEnxT+JunpFbzQfCvw6PDj3ceqaU194x0g31rFcgH6uahrejaRPpdtqurabptzrl+NK0W3v762s5tW1Rra5vF07TYriWN76+a0s7u6FpbLLObe2uJhH5cMjLqV/Jl+2D+z3r/7MP7f/wDwRy+Lfx7/AGofit+0d+0z8Xv2x9T8K63408S3s3hP4X+E/DF38ONU8Oal4H+C3wH8KlvBngDwprWq+J/DltqN/qLeJfGV9LbW93rXi+7+0X8p/rNoAKKKKACiiigAooooAlTofr/QUUJ0P1/oKKAI26n6n+dJSt1P1P8AOkoAKKKKACiiigAooooAKKKKACiiigAr8dvE3xHgsP8AgvN8J/htJPNANY/4Je/FzVxEYbdoL/Uj+0r8MZNMVJiDdRSWWm6F4mklQNHBItzDuWWREMP7E1/GL+05+2B4f8Jf8Hc/7KHhe71eO20fQP2d9D/Zc8TorECDxN8V/DnxP+IXhOzkSaVojdan4h8f/D63eSAW7NbS2ybZXhxMAf2dUUUUAFcL4p+G/g/xr4g8EeJPFOkxa3efDrVb3xB4RtdQxc6ZpPia8sH0qLxPFp8oa3bxBpel3Oqafo+qMpuNNtda1dbYo94zr3VFABWhpYDX0IYAgbyAQDgrG5U89wQCD1BAI5FZ9XdOlSG8hdzhcspOQAN6sgLEkAKCwLHPABOD0oAt6xbiKdZlwBOCWAwP3iY3HAUDDAqSSSxcuTjiseut1KylvBCI2jXyzIW3lhndsxjarf3TnOO3XtT/ALCH/Pyf+/I/+OUAc46LIjxtkq6sjYZlO1gQcMpDKcE4ZSGB5BB5r+Rn9q7/AIIK/H/9kn9p65/4KUf8EXfiZfeG/jnb6zrHiL4jfsxfE/xJear4R+LmmeItQh1Txl4W0bxbr2oLPcaV4qu4Bd6j4P8AHWrPbjUmi1rw14z8ManouhW0f9hP9hD/AJ+T/wB+R/8AHKP7CH/Pyf8AvyP/AI5QB+WX/BN7/gpB4M/bz8Ca9pXiHwZr3wE/aq+EM9v4e/aO/Zf+IFvdaV49+GPigKYzqFrY6nb2N9rfgXXZI5Lnw14nhs1guYD9jvFttRgntx+llfOvxt/Yy+Gvxb8YeG/jDapP8Ov2gPh/bz23gL49+ADZ6N8RdF0u4cve+GNbubi0uNJ8c+AdUBc6x4A8c2Wv+FbiUrqlrYWev2Wl6xY+7aImtRaRp0XiK40681yK1ii1W90i2uLLTL29iURzXtlYXVze3Gn294ym5TTpb/UXsBL9kOo6h5P2ycA37B2S8typwTKiHgH5XOxhyD1ViM9RnIIPNfyd/wDB4R8NR4u/YBh8YeT5h+Gnjz4ZeLzIqzO0Al1/XPh+JJCkMkUUZPxI8pXkeBWeURmQuYYZf6vYXMUscigFkdXAOcEqwIzgg445wR9a/Cf/AIOU/A9t44/4Jo/tCadchJI7b4TeKPEypIItqz/D3X/B/jm1kBmguFMgudHjaMCNZBJGvkzQSlZ4gD42/wCDYfx5J4j/AGB/2Xo7iZnvLLRPi34Jus+Zt2aB8SvGVxpkSGeSZ3VNFtNMLbHSNJFdIkihjWIft/8AsWfDpfhPf/te+BoIbiOwT9sn4r+PrGRwVs7g/G7w/wCBPjpqcmmxmWQpBHrvxK1W2vPlhEmsQalOsW2VXf8AmL/4NKfFceo/si6LYmVG/wCEU/aJ+KfhlljhlV4X1PwX4X11YpmlGyZ3HiZJPNgzGkUqRkiaKXH9pFvZWlrLez28EcM2o3K3l9Ii4a5uktLWwSeU/wAUi2dlaW4P/PKCNf4aALVISFBZiAoBJJIAAAySSeAAOSTwBS1/Ev8A8HWX/BYH9oD9mHXPCH7Af7OGsX3w4uPiv8IZfHnxo+Jmn28tv4ovPB/izXNb8K6L4H8Ea0WjfQ0vE8M+IZvFes6bE+ozW97pem6bqenGLV4rkA/Vj/gqt/wcUfsZf8E6tB8QeCfA3iTw/wDtK/tRxNe6VYfB/wCH/iOzv9G8F6zbST2s8/xc8X6Z/aFh4TXSrqF1uvCkJuvGd3MILc6Tptlcyazaf5wnxz/aj/ay/wCCxX7Z/gI/Hr4waMfHPxi+IegfDH4c2/im81bQvg78Jrfxz4nt9L8P+HdI0zRtP12fw54SsNQ1KzhvtTj0zVdYu1Q6t4gvtSvftN837if8EYP+DYf4j/tr+HPDv7T37bOp+LPgr+zxry2GveA/AGnwtp/xZ+Muizi21C38QXE2q2sqeCfh/r1nKDpOsyW934h8SWbyahpNppmlz6Tr9/8Akx+zr8OvB/wu/wCC8/wV+Eng7RoLPwB4D/4KreAvhz4a0DUHl1yG08IeH/2qdM8M6XpVzPrT39zqPkaNaw2rXeoTXN5MyfaJZ3uSZaAP7df+CZf/AAam/smfsgeIfCnxk/ah8Uv+1n8afDs9hrei6Ff6MugfA7wjr1uILmK5tvCE9xqGo+PLzS7xZVstR8XXseiXSCG9fwVZX8UMkH9W0cccMaRQxpFFEixxxRoqRxogCoiIoCoiqAFVQAoAAAAp/TpRQAUV/Kh4s/4Ok/hF4I/4Kf6p+wB4p/Zo8T6J8P8Aw98fL/8AZy8QfH+6+Ium3WoWfjS18SjwWniFfhppvha9i/4Q1PFCPHNP/wAJy+uDQZ49Xm0i01C1n8Pyf1XKwZQynIYBgfUEZB/EUALRX5Rf8Fw/ix+0R8Dv+CV37X/xW/ZX1XxDoHxo8G+BvD+o6N4j8K2MV94g8M+FJfH/AIRsvih4m03zYLj+zpfDvwvuvGGsvrsKJdeHYbKTXbO4tbrT4bmL+cD/AINNf+CrP7SX7RfxW+O/7HX7Ufxm+IPxxvIfAUPxn+Evi34n+JNW8Z+LdGXQNc07w5488NXHivXG1HXdT0/Uo/E/hnVdKtNU1Z4NIbR9VWwjxqUixgH9zlFFFABRXyv+0l+3B+yL+x8vh3/hp39oj4U/BOfxa8q+GbDx74u0zRdV12O3mgt7q60zSZZjqd3YWU1zAl9qEVo1jY+ajXdxCpzX0N4R8X+FPH/hbw9448C+JNC8Y+DfFuj6f4h8L+K/DGq2WueHfEWhatbR3umazousabPc6fqemahaTRXNne2dxNb3EEiSxSMjAkA6KiiigAooooAKKKKACiiigAoor8wPjx/wWd/4Jk/sy/Hu2/Zk+N37WXgbwT8aZdX0bQr7wrJo/jbW7Lw1quvmwOm2vjXxd4c8Mav4N8DFotTsrq7l8Ya/okOm2U327UZLW0jlmQA/T+iooJ4bmGG5t5Y57e4ijmgnhdZIpoZVDxyxSISjxyIyujqSrKQwJBBqWgAoor8sP+CyH/BRDV/+CYf7Dvjj9pvwv8P0+JHjWHxD4Z8B+B9D1H7YnhWz8TeLbi4itNc8aXOnyQ30PhvSrWyvJ5IbSa3uNV1M6Zokd5p51P8AtC1AP1Por+Er/gmJ/wAHeesfEf4u6H8IP+CjfgP4beAPDHjTUYNH8OfHz4VWWvaHoHhDV767EdjH8TfDOv8AiDxKU8N3Dzi2n8W6JqFqmgrFbzarotzYy6hrOnf3W2l1bX1rbX1lcQ3dneQQ3VpdW0iTW9zbXEaywXEE0ZaOWGaJ1kikRmR0ZWUkEGgCxX5S/wDBSv8A4LJfsa/8ErG+Gmn/ALSupeO9U8VfFf8AtW78LeCfhh4asvFHiVNB0Sa0tdT8T6xFqeueHdL0rRIb2+gs7aS61Rb7VLhL1NJsb4aZqTWn6tV/lv8A/B3V8ZNO+JP/AAVWj8DaT4gj1eD4G/AD4b+AdW06CJUi8P8AibWr7xN8RdQsXmUsLq7m0jxn4furmXIMIlisWRZLRwQD/Td+EnxV8CfHL4X/AA++Mnwv1638UfDr4oeD/D/jvwV4gtUmhi1fw14n0y21fSL37PcxxXVrLLZXURns7uGG7tJ/MtrqGKeKSNfQ6/MT/gi34Ym8Jf8ABKL9gHSp7uW9kuf2YPhZ4i82a2urV44/Fvh218UxWnlXccUrJYRawllHOqm3uY7dLi0eW1lhkf8ATugAooooAKKKKACiiigAooooAKKKKACiisfWPEOgeHoYrjX9b0jQ4J5Gihm1fUrPTYppVjeZo4pLyaFJHWKOSVkQlhGjuRtUkAGxRSKysqsrBlYBlZSCrKRkMpGQQQQQQcEciloAK/iz/wCD0/ULyP8AZN/Y/wBLS4kWwvPj/wCKL65tQR5U13p/w/vYLOdxjJe3h1K+RCCAFuZMg5GP7TK/iA/4PXdcuIPgb+w14cWKE2uqfFH4t6zNO2/z459E8LeE7K3ijwwj8qVNeuHl3Iz7oYdjKN4YA8O/4IaKB+xf+yiQAC3iLx0zEDBY/wDC7PHK5PqdqquT2AHQV/fcn3F/3V/kK/gS/wCCGv8AyZd+yf8A9jD46/8AV2+Oq/vtT7i/7q/yFADq/gX/AODpP/gpZ4w/aI+L/gT/AII9fsi3Wo+LtV1Lxr4Ss/jzZeEpmuLjx38Utb1PTV+GnwPtJLaZIbyLQdTurHxF4rs5PtFsfFE3huyllsr/AML6rbt/Sz/wXA/4Ke6F/wAEwP2LvFPxE0e6s7v9oD4nR6l8P/2d/C80SXj3PjS5st1/4z1GwO5pPDXw9064XXdUkljNpdam+g+H55YJdft5B/lK/s7ftr/tC/suftLx/tefDnxFpt5+0BDqfirXY/HnxC8M6P8AEG9XxJ41S9TxH4ma38XWmp2sviPUItS1JTrM0Ul/EdQu5YZkml8wAH+rn/wRQ/4JYeEP+CV/7IWhfDSdNL1v49fEU2Pjj9oXx3ZQqw1XxlPZhLTwlo95Iv2p/CHgKzlbRNER2iiv71tZ8S/YrC68QXVpF+w1f5kHgH/g8a/4KZ+GykPjP4Y/sq/ES1FtFC8174F8eeHdWaeFXBuhdaB8SrXTFe5Zg11F/YrRExoLRbRfMEn2p4L/AOD2X4g2jRL8Qv2BPCGvIWZZp/CHx51jws0atJFskittY+GXi4StDCJg0LXUQuJGjIntlRg4B/oF1/AD/wAEmf2Lf2Z/2y/+C3X/AAXH8N/tO/CDwT8Z/CWhfGH9oy00rw7420WDU4dKv/EX7VXiQ3HiDQb/AHRan4c8Q21tohsLbW9Du7DVYbLUdQtoryOC6njl+qPCn/B6l+y1eC0/4Tb9jj466AzrcG/Hhnxl4E8Vi3ZWlFqtqdTPg83ayoIWnaUWZgZ5FRbgRq0vgP8Awa9/tB+Fv2iP+Ct//BWD4xeGNI13RtG/aHfx/wDHbwtpeuR2K6lo/hvxZ+0HqHiO10vXTY3t3bR61bW3jXTYJ47Ga9sjPb3vl3jIkLTAH1F+1p/waL/Da38TT/GX/gmX+0j4+/ZV+KGj3UmteE/BPizX/EeueDtL1WKFo7S08K/E3RrmL4p+B4ATvfU9Tn+I1+GknRAkMiJD8zaT/wAFa/8AgvP/AMEbLjR/B3/BTj9ly8/ai/Z/06+g0W2+O1iyPq8loXWOyNr8b/BNrq3g/UL17OO6vLTQ/ih4YsPG+uPbsLrWLFYbqeP+8us7V9H0nxBpl9ouu6Xp+taPqlrPY6lpWq2dvqGnahZXUTwXNpe2V3HLbXVtcQyPFNBNG8csbsjqysQQD8ef2Ff+C9f/AATV/b5XTdE+HPxy0z4ZfFLUZLO1i+Dfx1l0z4bePbvUbyMNFp/hw3+p3HhjxreGRZo/sngzxFrt7GsDTXNpbxPE0nGf8FUP+C8v7JX/AATWsbv4e2t6Pj/+1jq1qkHg/wDZ3+HV/Ff6lZ6rqCKNJm+JWuWMeoQeCNOuZJrV4NNe2v8Axfq0Vzby6P4curKWXULbwP8Ab4/4NfP+Cc/7Yaav4s+E/hy4/Y5+Md3m4tfFvwT0yyh+H13f5YK/iP4OyS2HhmW1Ikkll/4Qy78C6ncXQhnutVuI45Lefx//AII1f8G1Pgn/AIJ//FrxD+0t+1T418J/tJ/H7SPEOoD4M3en6dqkng3wFpfmv9n8e3Fn4mgW9v8A4n6pG5ZJZlurDwcTKdHv9V1GWLWLUA+3f+CGP/BVzxR/wU6+CPxbX43+FfD3wy/al+AHxT1jwX8Xvhboek694eXQNF1a6vrrwRfvoHie/wBS17Tp4Vsdd8GazBqVyLseJPBmszy2tnDdWsR+8/28v2Ffg9+378DtR+EXxQhu9E8QaVdx+K/hB8WvDjyWHxC+CnxR0pTN4X+I3gPXLSa01DTdW0XUEt5ri2t7y3t9Xskl06+3QTZT+cn9sHwTdf8ABGb/AILf/B3/AIKJ+FbRtH/Yw/4KK6wvwG/auKNHa+Gvh58WvF15ZXA8aakxjjtNMtdV1fSdJ+KD6lML3UrhtK+LdrFNaQ6tbwyfrf8A8FOf+C3H7Ln/AATks7bwBEbz9oT9rPxWllb/AA5/Ze+Fs76t401O+1gRLo114xu9Ns9WXwXo99Jc2osku7O88R64LmM+HfD2rRJd3FoAfFHgXWdd/bA0vW/+CQP/AAVA1N/hZ/wUM+AcGj/FP9k/9qrwlenRrn4zv4LW9/4Vz+1T8A9ZEmmXEPxN8LNZufif4HtZ7ea9hXX9sEFk3iHTfDX6B/8ABPz9u74h+M/iH42/YM/bd0nS/h7+3p8BtJtLzUZ7ICx8C/tRfC/LWmjftCfBZ7hLY3+l6wsKHxr4etIPN8I+IZbiylgsylzpej/gV8EP+CWf/BWf/grh+0j8LP2+v+CnXxs8V/sZeEPhT4pt/F/7O3wB+F1tDofxW+H9mmp6frEa6Bp9+l5Z/C25vLjTdJk1DxH45Txh8Q9Zl0oWOueHdN0620dov26/4LG/steB/jp8Lvhh4g8C+M/E3gL/AIKEfCfW5fEX7C/j/wCG9rZXXxi1j4m2NmPtHg67tbaK0juvhV4r/wBHj+Kd9rcuk/D/AMK6Ww8T+K77TtD068iuAD9rKK8q+Bh+MZ+D3w1/4aEj8Ex/G9fBuhL8Uh8N59UuPAreNUsIV16XwvJrUMGqDSJr4Sy2sV4jywK5h864WNZ5PVaACiiigAooooAlTofr/QUUJ0P1/oKKAI26n6n+dJSt1P1P86SgAooooAKKKKACuKvviT8O9MvLnT9R8eeDbC/s5Xgu7K98TaLa3drPGdskNxbzXqTQyo3DxyIrqeGANdrX8zP7TP8Awas/sBftU/tAfF/9o3x/8aP2w9F8a/Gjx74h+IfifSfB/wAQfhNp/hfT9Z8S38uo31roNlq/wR1zU7XTIZpmS0gvtX1G4jiCrJdTMCxAP6HL/wCM/wAINKs59Q1P4qfDrT7C1Qy3N7e+NfDdra28YIBknuJ9SSKJASAWd1UEjmuN/wCGq/2Yf+ji/gb/AOHX8C//AC9r+aE/8GbP/BNIjB+PX7cxB6g/Ez4KkH8D+z5Xyh+3T/waof8ABPD9lv8AY1/af/aL8IfGb9svWPFvwX+B3xI+IvhTS/EfxD+EF14evvE3hjwtqWp6Bba9a6b8C9J1C50aTVoLRdUt7DVNNvJ7IzxW19aTOk8eOJxFHCYevisRNU6GGo1K9abTahSpQc6krJNvljFuyTbtorm2HoVcVXo4ahHnrYirTo0oXS56lWahCN20lzSkldtLXU/r21r9sv8AZE8OWqX3iD9qT9nnQ7KWdbaO71b4zfDvTraS5dJJUgSa78RRRtM0cMsixhi5SN2AIRiOY/4eAfsJ/wDR537K/wD4f/4V/wDzVV/MF+zp/wAGif8AwTf+M3wg8NePdb+Nv7a9lrmt6PputSafp3xF+DMVklvqtlDfWhjguPgHqE6s8UjqFN3N86gb8HNesf8AEGj/AMEy/wDoun7cP/hyPgl/9D3XFk2bYTPcqwGcYF1fqmY4aliqCr03SrRhVjdQrUm26dWDvGpTbbhNOLeh1ZtlmKyXMsblWN9n9awGIqYau6M1VpOdN2cqVRJKpTkrShNJKUWmlqftz8fv+Cvf/BNv9nT4a+KviT40/bJ/Z61mHw3oeoaxZ+DvAnxZ8CeOPiD4sns4wINH8I+C/Dev3+u65qN9dyW9nH9ntBZ2r3C3OpXdjYxz3UX+SN+0t+278Vv2gv26fiJ+3emp3vhb4oeJvjdH8Y/B9xZ3kk914Gn8O63Z33w60rTb2UeY6eCdK0bw/pGnTMobydJgbaPuj+/4/wDBmf8A8EyW+98cv232x0z8Rvgicfn+z1Sf8QZv/BMf/ouP7b3/AIcX4If/AEPVemeefQf7HX/B0t/wTD+M3wT8A63+0P8AGZP2c/jrNoEEXxG+G3iLwJ8TtX0jTvEenRQW2qX/AIc8YeG/CPiDw3qHh7V7syX2gwXWtQ+IEsZBDqWmwXEEhb7C0r/g4V/4I36xfwadafty/DeGe48zZJqfh74j6NZL5UTzN52o6t4MsrC3ykbCPz7mPzZSkMe+WREb8uv+IM3/AIJj/wDRcf23v/Di/BD/AOh6o/4gzf8AgmP/ANFx/be/8OL8EP8A6HqgD9ovD/8AwWq/4JP+JohNp37f37MdupuxZBdd+J2heGJfOKxMHMPiOfSpRa4mQG9KCzDCVTOGhlCe9+F/+Ch/7Avjdo08Gfttfsm+LHmujYxL4c/aG+E2tNJerGkzWiDTvFlyWuViljkaAZlEciOV2sCf5qvid/waK/8ABKj4O/Dfx/8AFrxV8bP235vDHww8GeJ/iB4hhXx98GbppdE8H6Le+INUjFrZ/ASxu7gvZafOvk2t7aXEudkNzBIyyL6p+zb/AMGqf/BJvx18JdC8X6xZfH3xFrOq6ZpmrTTz/GFba0a1v7GO8tbrTotD8O6Qsdvd20olb7Sbt/OilWGTyjGB5VfOcHh84y/I6vto43M8FmGOwcvZN4apTyypgaeKpOunyxxC/tChUp0mr1KUa00/3bT9KjlOLr5Vjs5peylhMuxeBweKXtUq8KmY08ZPDVFRa5pUG8FWpzqJ2hUlSi1+8TX9Pnh74zfCDxctu/hX4p/DrxKl3cG1tX0Hxr4c1dbm6BCm3t2sNSnE04YhTFGWfJA25r0FL20kP7u7tnP+xPEx4/3XPSv55rL/AINaP+COFpa21vJ8CviFeywQRRSXtx8efi9Hc3ckaKj3Vwll4stLRZ52Uyyi1tbaAOxEMEUYVF9F8H/8G4P/AAS4+HzM/gPwD8cfBbPJLK7eFf2pP2gvD7PJPHFFNIzaT8QrQl5ooYYpXzueOKNGJVFA9U80/f2y1qAxRpM7PIDtMqlZFK5wHcghsqDhsK7HbuJZmIq++q2SqWEpcjHyoj7jkgcbwq8dTlhwDjJwD+b3wq/4JtfsufBOO2i+Gkf7QXh2O0kmljj/AOGxP2utUjf7S8ctxFPFrHxuv4ri0mmijnksZkeyM6+cLcSEtX3Hpem2+kWFvp1pJfS29qrJHJqWp6lrN8wZ2kJuNS1e6vdRumDOQr3N1KyoFjUiNEVQDpbzVZZyFgLwRqScqxEjnJALFcbRtx8gJG4klmwuNfTbq4ukZ5RGETCKyqQzuACxPzkDAIJAQAlvlICkVyVdbpEeyyRs5813kxjG3kR46nP3M5464xxkgCanEwt5pxPOpVFXy1kCxFWdUYMgUFshjkliTnGdoAHJ12Op/wDHjcfSP/0alcdQAo4I+or8k/8Agvbow17/AIJuftQAS+TDB+zd+0BqInCByW0z4bajrkMGxnjcLdf2WYWcZ8oNvKswVG/Wuvyv/wCC5ckcX/BNH9qhpXSNT+zD+0TGGdgoMkvwY8URRICxALySOkaL1d2VVBYgEA/l/wD+DQ3xA7/BT4leHUvcnTP2oLXVTZeWP9HXxF4B8H6dJcbzH8322PQjBt8xjH9j3BYywZ/70K/z5P8Ag0D1iJtH+PWjxwTPc2Pxq+E+oSuAnltBrGj6vZRhPm37oDpVxLPlABGyFSx3Bf8AQboAK+WP2gf2IP2Q/wBqvxB4H8V/tHfs5/CT4z+JPhxdpdeC9c+IHgzR/EOpaIqXIvDp8V3e20kt1ost4q3VzoN81zo1zcKs9xYySqGH1PRQBWgtbaytIbOzt4bS0tLaO2tbW2iSC3traCIRQQQQxKscMMMSrHFFGqpGiqqqFAFf5CHw3/5WL/A3/aY7w7/62PaV/r7sCVYDqVIH1Ir/ACCPDf8AxSP/AAcX6H/wkH+gf8I3/wAFjtO/tn/l5+x/2T+2PD9v/wCPTz/P8jyJf+PbzvM2/uvMyuQD/X4qKeUQQTTsCywxSSkDqRGhcge5AwKlBBAI6EZH0NU9R/5B99/153X/AKIegD/Fm8ReKr79tn/gqprfjb4a6DcabqX7Vv7eWo+JvAfhnVryAXVjefGn49S6n4a0XUb9FS2E9tN4js7K6u0VYQ6PKqqmAP8AaftkaO3t424aOGJGA5AZUVTz9Qa/xV/+CXv/AClI/wCCfv8A2fV+zD/6vbwXX+1dQB+e/wDwVo1W10b/AIJe/wDBQy7vBIYpf2Mf2kdMXykDt9p1n4S+K9IsyQWUCMXd9CZWzlIg7gMVCn/Pt/4NCNZtNL/4Kw3tlciUzeIf2ZfizpFgY0VkW6h1vwHrbmcllKRfY9HuwGUOTMYk24Ysv99n/BZNlX/glV/wUCDMqlv2UvjMFBIBYnwZqmAATyT2A5r/AD6f+DSn/lLv4V/7IX8Y/wD02aXQB/qiV+EX/BX/AP4Lx/A3/gkd4q+Efw78Y/Cfxx8ZfiJ8U9MuPFraD4X1bSPDeneGvANnqVzo0uvX2s6rFem81W91W1ubbR9CttPWG6jsdQmvtY0sRWqXv7u1/l5/8HfvjbUfEf8AwVT0XwzcX9/Pp3gD9mr4ZaNp9jc/Zls7CXWNb8a+J71tPW3RJGjujrEElxNemW7a4R4hJ9jhtI4wD8PP+CjH7cHxA/4KIfte/F39qXx8L3Tv+E61ww+DPCE+qXmqWfgLwBpEa6d4T8I6a11NLDAljpkEdzqn9nxWdlf6/eavq0dnBJqEq1/om/8ABo58bfGXxa/4JOx+E/FklvPY/s/ftD/FD4O+CrhBO17L4SuNF8D/ABbij1OeeaUzz2Ou/FTXtOsTGIobbRbPSrGOJVtdzfwmfE//AIJb6l8G/wDgjz8Gf+Cm3jrxRqUHiX9of9p7TfhX8M/hzbQxxaXY/CiPwj8Ybu/8YeJXu7CPUG8Ra74r+GiHw5bWF0ulQ+E3j1OaTUbjXLePR/6ef+DKn49+Lr7w3+2j+zHfahpLeBfDOs+APjf4Z0s2kceuR+KfGdneeB/Gl8L5ZBLdaXLpXgbwNA1rLFJHZXUSywPE1/OswB/d5X+fT/wUQ/4ON/25P2VP+Cz/AI2+F2j+NdF0T9j34EfFzwZ8PvG/waTwR4S10eMvA1lDpEvj/wAQXfiq78PyeObPxXqUOqanqGitoOu6fZaXLY6LZSWGqQRakur/AOgtX+NZ/wAFvZdX1L/grn+3iNcgWyvH/aM8X2USiMoo0q3uLay0S6KGRyxudGisLt23qJGlLhYw2xQD/Vp/Yp/4KV/sTf8ABQ3SPEmrfsj/AB38O/FSXwbNDF4r8PrpviPwl4v0GO5Z0s9Qv/B3jbRvDviePRr6SOSOx1oaU2lXU0U1vFdtcwTwx/dR4BOM4HT19q/x9fBPiX9on/g31/4KsWOqebeeJpvhB4miS9a1Sfw7oH7Q/wCzt41hiuIry1hkm1W1t7Hxv4QubbVdNSabW4/Cfi+0tTI93qPh9if9XL9j/wDa1+C/7cX7PPw5/aY+AniBtf8Ah38R9I+3WiXccdtrfh7V7WRrPXvCfibT45rhdN8R+G9VhudL1W0We4tzPB9psLq8064tLycA/wA6T9p//guP/wAFZz/wWH+Jnw++Dnxz8SaNpHhD9srxL8Avhl+zwbXQrT4c6noug/FgfDfRPB/ivRr2xuIL2/8AEsekWsOv+IL24bVrHUdV1S70W/0hGiSD/TugaRoYWlAWVoo2kUdBIUBcD2DZA9q/yCvja3/CH/8ABxH8Rr/xEG06107/AIK6a54ivJGVrgxaPcftYza5BeCO1E8kiy6VPFdpFEjzlXCeX5uUH+vvGQY0I5BRSD7EAigD+I3/AIOnf+Crv7cf7Ev7QX7OXwP/AGVfjJefBjwzrvwsPxb8S6n4Z0bQ7nxJ4h8QN4x8SeGrLTtS1PW9P1XHh2ys9FEw0e1gt7a/urueTVBfJBZx239K3/BIr9qD4k/tmf8ABOL9lX9pH4wSaXc/E34j/D+4k8aaho9jFpdjrOueGfEuu+D7rXl022CWen3OvHQF1i/s9PhttNtr69uYdOtLSySC2i/hR/4PMs/8PN/gd1x/wxF8Osemf+F3/tCZx2zjGfw9q/qj/wCDev4t+Bvgp/wb9/s1fGT4seKbXwt8PPhj4R/aW8X+M/E+rSTSW2i+GfDH7RPxpvLyd0iSe6n+zWFqIbOxtIZ7q5cW9lZW8s0kMLAH2B/wWd/4KdeGf+CWP7Gvib42C00vxH8X/F98Ph78B/A+pXUkUGu/EDVbO5nGtarDbJJdyeGPBem2914j10R/ZI782th4dXVNNvtesbpP8sH9k/4GfHD/AIKsf8FBvA/w+1XWPEfif4i/tJ/GZ/Evxc+IsWlzazeaFo+ua6+v/Ev4h6jbWyR2sVtoOkSapqkVvLJYaeZYrPTI5rVJodv0T/wVY/4KMfGv/gtB+3HpOt+G/DniFfCL65p/we/ZX+CNnPJqF9Zabr2vQ6dpUklhbt9jufiB8RdaubK91+5to5JA7aR4djvbzTfD+myj/Sl/4Iy/8EtPh3/wS+/ZF8D/AA4TR9E1T4+eKrFPF/x4+I6WNpNrGqeOPEFnpsuqeFdL1nbJeL4M8IpY2Og6LYQTw2N62mTeIZbKHU9YvmYA/Vjwh4Y0zwT4T8M+DdFSVNH8J6Bo/hvSkmleeZdO0TT7fTbJZZpC0ksgt7aMPI7FnbLMSSa6KiigAry340fBP4UftE/DfxD8IPjd4E0D4l/DLxW2kN4k8FeKLT7foOtjQtb07xFpceo2ZZFuoLXWdJ0+98iQtDM1ssU8csLyRv6lRQB/l9f8HM3/AARh8B/8E9Pib4I/aU/Zf8LX3hz9mL466tfaDrPg+Ce5v9C+EfxZtrV9TXQdFurtpr2z8MeNtKttS1vw9pd1d3o0vUNI8R6fZS2ejRaNptr+33/Bqn/wWNh+N3w60/8A4JwftEeMJbj4yfC3Rry5/Zz8SeItSMt38QfhVo1us9x8OVvNQuXuL/xP8NbJZ5tCsImkkn+Hlr5NrbRWvg28ml/qw/bB/ZQ+Ef7bv7OfxQ/Zl+N+ijWfAHxP8Py6VdyQ7E1TQNXt5I77w94r0G5dXFpr3hjWrax1nSp2SSH7VZpDdQ3FnLcW8v8AkC/tefsx/tP/APBHb9vHUvh9da7rvgz4o/BTxlp3jv4MfFrQIptLh8W+GI75r/wP8RPDMzNcW09nqlrCLbWdLM9/Bp+qwa34W1bzp7G+gIB/tE3dxFZ2tzdzSJFDa281xLLIwSOOOGNpHd3YhVRVUszMQAASTgV/i/8AxH1HWf8AgpD/AMFZdbju/Ekl1dftfftu2vhHRtfuLppo9O0D4n/F618JeE47e4khujHpfh7w5qOk2Gmr9nnS103T7aJYHjiEZ/0bP2SP+CtHhr/gpD/wRr/aX/aB0PU9L8F/tB/CL9mb4z6P8cPClhfQibwZ8SPD3wo8SX1l4z0u3ukSaDwn4wW0TxR4cnmjuLawkOo+HZNQ1C98PX9y/wDCd/wbW/DHQfir/wAFmP2ULXxLiaw8H6h8R/iVb2piEn2vXfBHw28W634bIcyIIDY+IIdN1YShJi39n+SEXzvOiAP9anwd4V0XwL4R8L+CfDdjBpnh7wh4e0bwxoWm2yLHbWGj6Fp1vpem2cEaKiRw21nawwxIiqqoihVAAFeQfGP9rL9mD9nnX/BnhX47/tB/Bv4PeJfiJdCz8DaD8SfiN4U8Gav4qnMy2v8AxJNP1/VLC5v4hdvFZm4gja3F7Pb2hlFzcQxP9ASSRwxvLK6xxRI0kkjsFSONFLO7sxCqqqCzMSAACScCv8pP/g5s/ar/AGa/2yP2/dO+J37Mnx61H402Hgz4fQ/CDxJp9p4Z1Sx8JeENT+Huua3fS3Xw/wDFs8otPGfh3W7zW9Y1CXVNMsobCO6tJr/T9T1nS9Rtbi2AP9W5WV1V0YMrAMrKQysrDIZSMggggggkEHIpa/hk/wCDab/gv18T/jd498Af8E4v2wNS03xJrP8Awhd1o/7PPxuvrm7i8Y+I77whaT6hD8OPiNPczT2XiDUpPCdtcr4Y8Vj+zNVum8OR6Xri+I9c1yPVE/Xb/g5x/bh/aE/YU/4JzaX40/Zr8XSfD7x/8Xfjz4Q+CF94806P/ipvCnhbX/AvxL8ZaxqHg+9LFNI8RXb+BLPR4dY8qW602w1O/udMaz1ZLDULMA/olor+O3/g0q/4KAftfftj+CP2tvh/+0/8ZNb+NmlfBK6+Dt58P/Evj7W4dc+I9h/wnkfxEi17TdS1i4jk8ReIdHJ8Jabc2upeIb+5ms7uS5tbS4uY55Y7H+xLp1oA/gE/4KQf8HV/7Wn7PP8AwUU+KXwW+APw8+FEnwF/Zw+KmufCbxd4f8a6PqeqeJ/ihrHgPX7rw74/vpfE1nqVjJ4UifVLHUbDwzHpVhdfYRaQalqf9srcSabH/dF8BPi7oX7QHwN+Dnx28LxPD4a+M/wu8BfFTw/DI0jyRaL4/wDC2l+KtLidpoLWVnjstVhVmltreQkEvDE2UX/HD/4K+X2gal/wVH/b9vvDM+nXOk3P7WPxukjudK8k2NzeHx5rQ1W4je3Aimkm1QXklzcIW+03LTTmSRpC7f6uX/BHe7ur3/gld/wT6mvJ5biVP2SfgdarJKxd1trHwFo1nZwgnny7e0ght4V6JFEijgCgD9I6KKKAPlD9t/8AbF+E/wCwP+zB8U/2q/jU+rSeBPhdpVldXGleH7aK88Q+I9a1rVbHw/4a8M6FbTzW9u+pa9r2p6fp0M13cW9jYpPLqGoXNtYWtzPH/C/d/wDB6F+07dftA2l5pP7LfwL0/wDZjfxfYxT+FtVn8d33xqbwT9oSC9l/4WBZ+LrPwXbeIpYC99CB8NrzT7NyNPYX4T+0JP7df+CiX7EXgX/gol+yF8XP2TPiBruqeFNJ+JOm6bJpXizR0Nze+FvFnhrWLHxJ4U186cbm0i1ez0/XdLspNR0ee5t49T083NotzaTSxXcH8IXgj/gzM/bnv/iZdaR48/aH/Zy8NfCyy1XbD430K48deJfFGraOtzhLi08E3HhbQbW11B7Qb5bO+8VxW8FwxijvrqNfOYA/0d/CXijQ/HHhXw3408M39vqvhzxboOkeJdA1O1fzLbUdG1ywt9T0y+t5MLvgurK5hnifA3I6nAziv5Gv+DsD/gmb+0L+1b8JPh9+138DNYufE9n+yp4P8Vx/ED4N2UOrSa9qPhLW9V0vUNT8eeDorE3FtqGo+G4LRrjxHpc9taXEnhyyl1CzvrifTl025/rI+FXw58P/AAf+GPw7+E3hMXY8LfDLwP4V8AeHBf3Bur4aF4P0Ox8P6T9suiqm4uvsOnwefOVUyy7nIG7Fd26JIjxyKrxurI6OAyOjAqyspBDKykhgQQQSCMUAfwv/APBtT/wX+174iav8N/8Agm1+2PrB1DxWdPtvB37Mvxlv2tbWbWLbw/o95LYfCv4jX11dW63GuJpumwaV4C15YZL/AMQXKW/h3VTda7cafd6l/dFX+Rv/AMHAn7MUf7AH/BXr4rH4O6fd/DLwl4u1DwH+0x8Gm8N3t1pd14ek8VRw6hrt/wCHLizttNGhw6T8XtA8cx+G7fR5Hh0XT7HTrW3uVmtXih/1R/2UPjtoX7T/AOzL8Av2iPDaxRaR8aPhH4A+JFvZxXcd6dKm8WeGdO1i90W5uImZTfaJfXVzpOoRsRLBfWdxBMqTRugAPoGv4i/+D1rQ4rj4AfsReJDPIs2l/Fr4o6NHbhVMcsWueEvD17LM7H5g8LaBCiKPlZZ5C3KrX9ulfxe/8HpujXc/7IH7I3iBDF9h0z9ojXtIuAzkTm61r4d6xd2hjj2lWiEWh3omcupRzCFVw7FAD4//AOCGWsae/wCxp+y9B9oRJNN8XeNLC6WRlQrPP8Y/Ft5Hjcwyhgv7di/ABLD+Hn+/RNR0/Yv+nWf3V/5eYPQf7df5UP8AwSd/4Jt/svftc/B/wv4t+MWmeNX1m/8AH194evLjw74y1DRrefTbXWbWBytnBBKkM8drexRh4iS7IZSN5Ir+xOP/AINRP+CSLxo6+Gfju6uiuGHxu8RgMGUEMAbUEAg5wQCO4rGhXp4iM5U7/u61ahNSVmqlGpKnJaNqztzRaesJRbs20tq+HqYeUI1Ek6lGjiINO6dOvSjVg79+WSUl9mSkulz+iXxP4Z+Hnja2+xeMtA8HeLLMQXVqLXxJpmi63bi2vkWO9txDqUNzGILuNES5iC7J0VVlVgAB80eK/wBgn/gn748eaTxv+x1+yN4vkuJYZ538TfAb4Ra4801tCLa3llbU/C9yXlgtwIIZGJaOICNCF4r8dP8AiFB/4JJf9Cv8eP8Aw93iL/5Gr5f/AGxP+Dav/glV+z78C9Q+KOi+GPjUlzpfxF+B3h68k1H40eJLi1i0Lx98bvh74B8STNEturGaHw/4m1KW2ZSClykTg5UUYivDDYeviaim6eHo1a81Ti5zcKUJVJKEFrKbjFqMVrJ2S3FQoyxFejQg4qderTowc5csFKrNQi5yekYpyTlJ7K76H7LeMf8AgiT/AMEhvGYlGt/sJ/s22P2qCeMnwv4TtPAx8q6Znd4D4NutBMEgJPkTweXLbKAls8SqAPmTxV/wbQ/8ESPFEk9z/wAMo23h69uJIXkuvDPxy+OOmIqwQrAIodMb4m3GiW8ciqjzG30yKSSZTM0hkklaT5i+Fn/Bq9/wSn8R/aU8QeH/AI6zR3CwTaVc2/xp1+AsGh8yaGVRZlGJzmNgFI2PuJ3oF9Fk/wCDT7/gkpG7xv4W+PAZGZWH/C7/ABCcFSQRkW5B5HYke9cGS5xhM9y+jmWCVaNCs5pQxEFTrQcJONpwjKcVzJKcHGclKnKMk9bLtzbKsVkuOq5fi3SlWoqDc6E3UozU4qV4TcYN8rbhNShFxnGUWtLvzjxZ/wAGj/8AwSK8RJIukaj+0P4FaSCaJZPC/wAY9Fu3hklJMdzGPGHg3xVGZrcHbEsqSwMoHnwzNlj9cf8ABMP/AIINfsp/8Epfj148+OnwC+Nnxw8ZXHj34Y3vwvv/AAp8Vtf+HmraTb6de+JPCvicawtz4U8DeD7mbV7S88MfZbN2Edqljqt7HLbTTCK4Twv/AIhQf+CSX/Qr/Hj/AMPd4i/+RqP+IUH/AIJJf9Cv8eP/AA93iL/5Gr1TzT+kr+0dP/5/rP8A8CYP/i6P7R0//n+s/wDwJg/+Lr+bX/iFB/4JJf8AQr/Hj/w93iL/AORqP+IUH/gkl/0K/wAeP/D3eIv/AJGoA/pK/tHT/wDn+s//AAJg/wDi6P7R0/8A5/rP/wACYP8A4uv5tf8AiFB/4JJf9Cv8eP8Aw93iL/5Gr8uf+Cr/APwQM/4Jn/sR/Br4CfEX4eeGvi8NV8fftk/s3/BnWofEPxe1+/0m88F+PvGLx+NbG5lYWsultd+GdN1KC31e2k+06fcPFNDtYF0xxFaOGw9fESjOcaFGrWlCmoupKNKEpuMFOUIOclFqKlOMbtc0oq7WtCi8RXo0IyjCVerToqc+bki6k1BSnyxlLli5XlyxlKydot2T/rv/AG1P2SvhF+3f+y98W/2Y/jDHbz+C/ib4an02PWbaW2fV/B/iS2cXvhTxz4dZ5owNd8H+ILax1ywV2azuZLM2GpxXOmXd5az/ACX+wD/wSC/Yd/4J6qniv4c+Gj8Svj9qFpJF4u/aY+MmrW/jn4x+Irm7Rk1BrPXNQBtfCOnXUbC1fTPCdnpMd3Zw2yaxNq13G97L8S/Cn/g1+/4I/eKfBGl3+t/A3x/Lr5tI2v3X49fGKGKSWeITQy+VB4vWNI23GM+UAG8pnUAMK6U/8Guf/BHEEj/hQfj7j/qv3xp/+bWubK8xoZtl2CzPCqpGhjsNRxVKFaKhWpxrQU/Z1oRlOMK1NtwqxjOSjOMkpSSTfRmOArZXj8Zl2IcJV8FiKuGqSpScqU5UpuPtKUpRhKVKokp05SjFyhKLcYt2X6q/HH9qVfCvi2y+BPwN0XTfi3+0p4h0611SDwh/a8Wn+Dvhb4Vv7h7RPif8bvFEQnXwn4Ogljn/ALF0O0hvvHHxAvrW503wZoN9baf4g1nw/wBT8Bv2crL4VXus/ETxv4rv/i/+0D46sLK1+IXxl8QWsdndXtjZzXF3YeDPAXh6Ke6034c/C7Qbm8uT4e8EaDK0bSSza94n1LxP4y1PXPE+q/kAn/Brl/wRvjlEyfAHx4so2/vB8e/jPvIQ7kDN/wAJpllU8hSSBk8cmv328I+FtG8D+FfDXgvw5byWnh/wjoGkeGtDtJbie7lttI0Owt9M023kurqSW5uXhs7WGN57iWSaZlMkru7Mx7ziOhooooAKKKKACiiigCVOh+v9BRQnQ/X+gooAjbqfqf50lK3U/U/zpKACiiigAooooAKKKKACvyX/AOC6/iHT/DH/AASN/bu1PUjF9nm+B2r6JH5pkVDf+JdU0rw7pgBjSRvMOo6pa+VlRGZdgleOMs6/rRX8sf8Awd1ftGaR8Kf+CXi/BQX8I8T/ALTnxg8CeE7XRxIi3k3hT4d6lF8UfEOtLE3zPY6Zrnhjwbpl00ZLpc6/YAqY3crFSnCrTnSqRU6dSMoThLWMoSTjKLXVNNprqmXTqTpVIVacnCpTnGcJJ2cZxalGSfdNJo/d7/gmZrMPib9i79mbxZCqKniv9nX4H66AlwLwqb/wDpV0yNdhIxchWucJOEXzVG/Ym7aPsGRGjkdHGGR2VhkHBBIIyCQcHuCRX43f8EJvjl4f1z/gnD+xzo3iDWNI0/UtK/Zw+FHh6yEdwWtruDw54R0XRIY4ZzJMv2+OKySPUrORop4tSivfKgEGw1+zrTaFeSyTRa7YjzGL7DNBuBb5mxuljJGSSPl+UYBJIJPxHAud5LjuH8NDAY7ByWEr43B1aCxFJVqFfD4yvCrSq0XJVKU1NSahOEZODjK1mm/r+M8nzfB55iJ43BYqLxVHB4qnWdCo6VejWwlCdOpSqqLp1Y8jinKEnFSTi7NNKhRW5HpNvKMxX8cgIyDGqOCM4zlZiMZ4z68VIdD+UlbnLYO0GLCk44BIdiAT1IBIHIB6V9ypRkk4tNPVNNNNd01ufHNOLtJNPs00/uZz9FXl029cuogYFDgliqA8kfIzEBxx1UkYwc4IzFPaXFtgzRMoOMMMMmTnA3KSu75Sduc45xgimI/OP/grp4otvB//AAS6/wCCges3UqQq/wCyF8fNEgke6js9t/4n+G/iDw3pvlzyEDzzf6tbC3hX97czmO3h/eypVf8A4I2/FKz+Mn7Bf7LHxCtLjz38Rfs2/BltTAmSby/EGj+ErLRPEdu0kaRrI9lrtnqFqz+XEdyHdFGSUX4q/wCDmj4qx/C3/gjV+1QkV9HZaz8RZPhh8MtDWSQp9tk8TfE/wnN4gs0CXFvLJI/gzTfE0qpGZQfJLTwS2qzrX5yf8Gjn7c/hTxR+xvc/s3+MfEdhp/iP4A+L/E2hWkOo3qJMfA3jrUbrx34c1OR52VzAPEF54q0G3jUyLawabbxfu4pIEX43ivEYTLMXw1nWNqUsPhsHnCwNfF1pxpUsNTzihUwdOdWtNxjTpTxiwlBuUlFzq07vY+s4ao4rMcLxDk+Ep1K9fF5U8bRw1KDqVa9TKq9PF1IUqUU51KkMIsVWSinJRpzaTP7Fb2EQXU0QwFD5UAk4RwHQEtySFYA5zznk9TVp2neO/h/4n3vpmv6Zqhti0btayyuyEHlT5ahmAI4HI5JX7xJlm1Pwo8hjj1VYZDgAbZmiQgDIO+IHkA9ZeGPoNtfQUc4yjEUoVqGaZdXo1P4dWljcNUpT1t7lSFSUZWejs3Zpro7eHVynNKFSdGtluPpVaduelVweIhUhdJrnhKmpR0aeqWjIKKuQQ2N6wXT9WsLolSdomUSggkMDEpkcAYBywB68YAJu/wBiXP8Az1g/OT/43XfTq06sVOlUhVg9pU5xnF+kotr8TinTqU5ONSE6clvGcZQkvVSSf4GNXcWgC2tuFAA8mM4AAGWQMxwO5JJJ7kknk1ylzp9zbZLpuT/npHlk/hHPAK8sFG8LuIO3I5rpNNt3trVVc/M7eaVwQU3KoCHODuUKN2QMElcHGTZBHq8myydcZ810jznG3kyZ6HP3MY465zxg8lXR647CO3QH5WeRmGByUChTnGRgO3AIBzznAxzlABX5Af8ABwD/AMouf2m/+yGfFH9fBV2D+Yr9f6/Gn/g4X1m10f8A4JbftJPdJO4ufgx8QbKMQIjES6loEOjwM++SMCNLrU7d5SCzCFZWVXdVjcA/lh/4M9v+Qh+0h/2Uz4H/APpB47r/AENK/wA93/gzqtZxe/tIXT28otZviL8JYIbhom8iW4tdA8dyzRRylfLea3W5tpJEVi8QnhdgokQn/QioAKKKKAEJCgk8AAkn2Aya/wAfbxJqtt4r/wCDhjXda0QSXdn4i/4K/alqWlCNRLLc2+qftgTXNlsSFpRJJLHPHtWJpAzMAjNkE/7AV4SLS6IJBFtOQRwQRE2CD2Ir/ID/AOCUek2Pjb/gup+zFH4piOt+Z+2ZdeJ5ZNQd7mabXvD/AIl1zxRpWpzTTF5Jbu117TbLUlmdmkNzCshYtzQB/sBJ91f90fyFV74A2V2DyDa3AI9jE4NWqrXv/Hnd/wDXtP8A+inoA/w29C+IfiX9mr9qfSPir8KntbDxd8B/jxZePfh3JqdqNXsrPxD8NfHseveFWv7O5YjU7aDUNHsTc207EXcavHI37wmv2X8X/wDBzF/wW3+KNx/wjugftDJ4Wk8RTT6VbaJ8Nvgb8K4tUvJdYkitrTT9Hvr7wNr3ie3vYpG8jS5tI1ODVfOuCftM04gaP86P2YbW2vf+CpPwAs7y3hu7S7/bs+GNtdWtzEk9vc28/wAd9FimgnhkVo5YZY2aOSORWR0ZlYFSRX+zxpnw5+H2kXNtqGleBvCGm39sN1te2HhvR7S7gZo2jZobm3s45oi0bujFHUlGZScEigD/AB/viSv/AAXH/aY+G3xJ8bfFyX/gox8UPg34J8Na74j+JeqeP7n47Xnwt8O+F9G0W7vvEd5q9vr0kXhCy02x0KC9vNWgSBY47AXNxcxeU8jt9Y/8Grt1rUH/AAWW+AcGl6vJplnf+BvjdbeILaO1tbj+2tIi+FniW/j0t5bmORrOP+2LLStRe5tQtyw0/wCzK6R3EjD/AEjf+CqKIn/BMb/gogEVUB/Yh/anJCqFBP8AwpDxvzgAc1/m5f8ABq5/ymZ+AP8A2I3xx/8AVT+KaAP9YRmCKzMcKqlifQAZJ/ACv8bP/grH8aNb/bo/4K3ftOeKdO1C3uE8Z/tETfB34f3OoapZjSI/C/gjVbH4R+Cbn7fAE02x0290zQLHVrmWEyQRvfXN1PdXszz3tx/r0/tFfFfS/gR8APjd8bNbjWbR/hF8JviH8StThaaC2E1j4J8J6t4juYfPup7W3iM0WnNGsk9zBErMC80a5cf4r37I/wCyx8Wf29/2pPAX7NPwfvfDw+Knxj1nxMNA1Dxzrd1pOhG60bw9r3jTVbnWdZgstWvI2bTND1CRJI7K7nubwxRKjPNuAB/oCf8ABcuw/YaP/BCsfskeDf2of2afEPxM/ZW8Gfs+y/B/wnbfGT4XWvifX/EHwkh8P+Ede/sfwvDrd1q994h1b4Z6j45ubTSdJtzqN7e3qxmR4ZpxL/NB/wAGp37SU/wM/wCCs3w/8A3moRWXhb9pj4ffED4O6yb7U47DTYtXtdGf4jeDrhoZwYb3Vb3xF4HtfCujQK0V09z4peC3dzO9vP8AU3wv/wCDNr/gof4l8VWll8Wvjh+zT8N/BuVbUvEOg6946+ImvxozBSNL8MHwb4Usr+ZFyzLfeJ9HjxtCzMS238D/ANpT4D/Hf/gkj/wUF1X4eahqElt8Vf2W/jB4b8cfDfxz/ZMunaf4tsfDet2Hi74b/ELTNOmurtV0vxFY2+l6nLpy6jfLYzyXuiXV5Lc2VyQAf7VXTrX+NH/wWM8X6d8Xf+Cun7bureC4rnUoL/8Aah8ZeDtNSJEml1PVPCmux+BrlrEW7yrcW9/q+iXD6bJGxNxazW8m1TJtH+sx+w7+2F8O/wBuP9kD4P8A7Vfw/v7M6D8SfAdrrOu6elzE8nhHxdYWzWXjfwlqh8xhBfeF/Edpqel3BkcJLHbR3kTyWtxDM/8Akjfs6z2vxa/4LB/BW88NWY17TviD/wAFD/AeoaRaOLS6j1PTPEX7QumXlus5Sa4sJbeeyug1xJ9olsvJMkjTtbgyEA/uF/4Oo/2DNK+Kn/BM34dftL6X4VtZfjJ+yA3gK28Q+INLsrebVL34R+J4LHwj4s0S9uo1hvr7S9E8V33hzxNZSO11Do1rba/cRWsEWp6jdR/In/Bl5+1wb/wv+1T+xD4g1WDzvD+paJ+0T8M9NkkiN5Np2tJaeBviksYklWcWOmX9j8NriCGCKWFLnXtRmlaB5V+0f2tfHP4M+Cv2h/gp8U/gL8RrOa88B/F/4e+Kvhv4ttrSSOC8/sHxfol5oWoyafcPFMlrqFtb3j3Gn3YikNreRQXCKWjWv8ijx94U/a6/4IA/8FPC+iXN9p3j/wCBfjSfVfA/iS/0rUdM8G/HX4O6rcT20FxLaySFNT8IePfDZn0jX7Sxv7uTQtZTUbG21KHXdCju7cA7r9uX/lYD+Nn/AGke/wDez6fX+vjB/qIf+uUf/oC1/i5+If2j7X9q/wD4KqWP7UDeG/8AhArT41/tj+E/idJ4XudXj1hfDMfiX4n6RqsunS619i0uO+jsPNeM3psbMSInmNBFkqP9oyDmCEjp5Uf/AKAtAH+bn/wehog/br/ZhkCKJG/ZYgRnCjeyJ8VPiAyIzY3FUaRyqk4Uu5ABY5/C3xT/AMFX/j9ef8E0/hP/AMEwPAoh8BfBDwvqvjTxB8WtSsLhbrXvjFqXiP4lan8QNE0nUbiS0jfQvCfhqWfTm/sawmeXWtWtZL3VL2WzW0063/QT/g6x/aXh+Pv/AAVi8b+CNLwdB/Zk+G3gX4HWk0RnEOo60sWofEfxVfGGZvku7TXfH9z4YuJI44knTw3bvGJI9k8vm3wE/wCDZP8A4Kt/tD/CXwF8afCPwz+HGheC/ib4P8NePfBZ8Y/FXwzpOsar4V8W6Ra67oOpS6RZvqd1pT3mmXtrcNY6utjqFsZhFc2sUqSIgB+0v/Bor/wS++HXjO78Sf8ABR/4s3ngTxprPg/V9R8CfAX4eJq3h7xNq3gbxDZywf298VvFei2V7fXnhTxGgSXRPAOn+ILbT9WSxm1bxbDp/wBkvvCWsy/6Adf4v0w/4KTf8ESv2pprdLj4mfsp/Hfw8jAPC1pfeFfHPh1p3RJkWRdY8A/E7wXezQsYzJHrmkfa4DlYdQsyIP8ASb/4ITf8FoPCX/BWD4F6pp/jO10XwT+1f8HbbS7T4weBdNd4NL8S6beoYNM+KPga2uXeY+G9bu4Li11fSFnvLrwlraCxvpW0/UtAv9UAP3mooooAKKKKACv5p/8Ag5p/4JdaR+3N+xVrnx48AeG5739pj9lDRNV8beDZdJgMmp+NfhpE8V78Rvh/dwrMn277PpME/jDw2i297qMet6I+kaTHGPEuoCb+liopoYbmGW3uIo57eeN4Z4JkWWGaGVSkkUsbhkkjkRmR0dSrKSrAgkUAf4YHwj/aM+OXwD0v4raB8IfiX4p8AaP8bvh1rfwk+LOk6Fe/Z7Hxx8PfEIWPWfDGu2cscsM1rdxLJbtMiR3sNtc3trBcxQX13HN/Uh/wZ2fsk6d8W/24vix+1Trnmta/snfDu2sfC0KCRE/4T345WXirwhbX0kyyKksVn4G0fx7aPaPFKGm1a0ucxtbx763/AAdffsb/ALCv7GPxN/Z10b9lX4D6B8I/if8AG+X4s/Fv4zXnh3WvFb6Jd6b/AGp4e03wjZ6B4Q1TxDqXhTwfps2sXPjad9K8G6F4b0uBbOxgjtpYIoIbP96f+DO34G3/AMPv+Cb3xH+L+saS1ld/Hr9obxRqPh/UWj2nWPA/w+0Dw94M0+dJDzJFa+NLXx/ZgAbUlhmAJJbAB+3X/BXT496n+zL/AME1P2y/jPoU2l2+v+GPgj4p03w9PrM7W9jF4g8ZRw+CdDkLJJC810mqeIbV7C0SWN72+W3tFdTMCP8AO0/4NaP2TvBn7V3/AAUy1IfEzRbXxF4D+FH7O3xk8ba/oGq6dNfaF4mbxpp+nfBP/hHdSdJIoIDc6b8VNY1e3WZneUaHMYIxJH58H9an/B3n8UdU8Af8EnLfwpp9ha3lr8af2lvhN8NtauLh5Vm0vTdM0fxz8V476yWP5ZLmTVfhlpunOk37sWl/dOP3iRivz1/4MofhDc6d8Mv26PjxdrpE1n4t8b/CD4U6EwiDa7p1x4C0Pxh4r8UK8zR5g0vV4/iJ4TMccMuLm60WRriP/RbZqAP4+Pi3o/iD/gmz/wAFQPHOlfDbVHm1j9j/APa+1VvAupQ3Elu9/Z/DD4mSXPhsXUkqXRQalpenWdvqlvOl7Cy3F1bTreQlxL/oxf8AB1Homja//wAEY/jJq2r6Rp+o6h4c8ffArxD4fu7yzgubjQtZuviNoOg3GqaVNLG0lhfS6Hr2taPJd2ximfTdVv7Nn8i7mjf/AD9f+CxHhPWX/wCCxf7bPhcwxR6trv7WPi86fHJPGIWTxV4liv8AR5JZlLJEk1rqdpLJu+aHeyyKHRlH+sB+3f8As26J+11+w9+0Z+zhr2kRa0nxS+CnirQNEtZDAGtfGcGhyan4E1m1e5ntrVL/AEDxpYaFrenvdTR2q3unwG5JgEgIB/DX/wAGV2uadb/tVftieG5dSgi1bVfgL4S1my0lpwtze2Gh+PYLPUdQit85lh02fX9Nt55gpED6nAhI88Bv9FmcEwzADJMUgAHUnYeBX+QR/wAG/f7UUf7HH/BWf9nDxL4q8WyeBfAnjjxDr3wI+J897HMmn3OjfEWwudB0XTvEKo0RtNOsviPF4L1m6vbl47TSLjR4dTvz9jsp1P8Ar8sVaMsGG0oSGyNu0rkNnpjHOemOaAP8Ob9r22vIP2vf2mLPUoLmG/h/aH+L1tfW15HLFdxXSfETX47mG6imCzR3CSh0mSUCRZAyuAwIr/aP/Y+8Iad4A/ZO/Zn8D6TosfhzTfCPwE+Enh2y0GGFrePR7fSPAeg2MenCF8vGbQQeSyuTJuQl2ZySf8af/goE9qf+CgX7Z8lnqGn6rZH9rn4/va6ppN3DqGl6jbH4u+KmhvtNvrdmgvbG6i2z2l1CzRXEDxyxsUcGv9pP4Hataa98FvhHrmnmRrHWPhn4F1SzMqGOU2t/4Y0y6tzJGSSjmKVCyE5Vsg8igD1KiiigAorM1rWtH8OaPqniDxDqunaFoOh6featrOtave22m6VpOl6fbyXV/qWpaheSQ2ljY2VrFLcXV3cyxQW8EbyyyIisw/CXxn/wcuf8Eg/BXxtf4I3f7SM2vXlvrtr4cvfiR4P8G+I/FXwitNSuZRAXj8eaLaXVhq2k28zRpceINBh1XQVVzPHqUltFPNEAfvbRUcUsc8Uc8LrJDNGksUiHckkcih0dSOCrqQykdQQaeSACSQAASSTgADkkk8AAcknpQB/nQf8AB6ho+lwftXfsea/DYW0etal8A/Fek3+ppEovLvTdH8f3V3pdlPMBvkt7C51vVpraNiVik1C6ZQDK2f60v+Df3xb4d8Y/8Eff2HL7w1q1tq1tpXwqn8LalJblwbLX/C3irxDoWu6XcRypHLFcafqdjcW7hkCSoqXEDS200M0n8GH/AAdK/treEf2wP+Cl934M+Futr4k8Afsw+AtK+B9vqmnXMN7oevfENdb1nxN8QtV0OWKNZZIrTU9c07wPcuXltrm98FzXmnvLZXUNxcf6Kn/BKD4AX37L/wDwTf8A2M/gnrWiy+HPFHhP4CeArvxtoVzp8GmXekePfFekQ+L/AB1pt9aW8UIF9Y+LNd1i1u55oxd3U8MlzeM91LMxAP0Jr+Rv/g8s8NPqf/BNT4KeIoLaWafwz+2H4HFzMsqrHaaVrPwm+MtpcSyRMy+YZNTi0aBCgd4zKSFCNIy/1yV/Nr/wdd+Ch4q/4I7fFbXDAZj8Ovit8FfGCyC2ln+zG98b2fgUzGWNglmGHjM2/wBomDRsZhahfNuY2UA/mY/4N6ta+0/AvUrc7Wk8N/HbU4jCZiWNvdaT8P8AU4ZNpU+Sks815EoUMpaB3zuZgP8ASmsGD2FjIpykllayow6NHJBG6Op7q6sGUjgggjg1/lq/8G9fjRLXRvjt4YkKrHpXifwb4jDPKqx+Zq1lqFqqMCA0ZdfDr7WDMsgRxhSg3f6i3hTWNB1Pwh4R1GPxBokQvfC3h+5EUupWylEl0iyePaTJuYMpzlkTjHHJx5mHr4bDzxsatelSl9dqOSq1IU9alGjVio87jdeznB/f2PRr0MRXjhJUqFWrH6nTs6VOc9IVKtOTfLF2tUjKL9Ot7vfr8If+DlD4ky/C7/gkJ+0L4gsLt7LXn8b/ALOA8OSpMsJbVtG/aM+Fvizy2/fQzSRNp/hy/wDNitxJI0YbfGIBNIn7wxvpkrBItd0SRz0VNRgdjkgDAUk9SB06kV/I1/weU/E4+Df+CdPwc+GFvfW6ah8WP2nPDc1xbLcEvf8AhbwN4I8c6tqUkEcUyGVLfxFeeEWlaVJoYRLGHiSeW3lj7I1cPiYzhCrSrRlGUZqnUhUXK1Zp8rejTs/U5JU6+HlCU6VWlKMlKLnCUHeLTTXMls7H9JH7LvjrSPiR8HPhv8SfD1zHd6J4w8MeEPGGjXML+aX0rXLK21WzZygUkNZ3KRuFxuTI+UnA+rtXiEd2WXGJUWQgKFwclGzg/MWKlycAksc5PJ/lC/4Nwf8AgoN4Z+KH7BPwX8C+MNZhg1r4R2MnwV1zzJkddPTwaI4fCkkzsRJEt14Qk8PTtJcLHG0rXiQvMYGJ/qCPxh8J6jLFDaxxanDIEKzwX9mOXIOI97o38IJKuA64OSpGfx/w/wCMOHcHhMwyPGZrhcLmvD2PnkGZZfVm3jKWNwFWtR9q6EFKq8PiqLo18PXcFCtRnCcZNSR+qcccLZ9i8VgM5wmWYjEZbn2Bp51gMbSglhqmFxtKhU9n7aTVJVsNV9rQr0efnpVoThKMWnfp6Kqnx9oKHEmj3YG0Nvij0qaPkgBci9V92Dk/uwowfmIwTaTxb4MmUzXEv2IkqCtxFPEAT8o5tzJAOgyQwHOSSc1+oQz/ACao2lmWFi0rv2s/YJLTVusqa69/yZ+dTyPN4JSeX4mSbSXsoe2d3bpRc31WtraoKK1ra48L6oQthqdnK45KW17E0jA8gmORnfjBxhR3zntefRIWIMU7quOQyrISeeQwKADGOMHpnPOB6VKvRxEFUoVqVaD2nSqRqRdt/eg2tOuuh51WjVoy5K1KpSmt41YSpyX/AG7JJ/gc3X8ln/B3t8Wz8Nv2Mf2RrWwuJYdcb9uD4f8AxAtYonCi5sPht4A+I11cxSRy289tLGmq69oc4W4V0WaKJjbzru8v+ud9HvFICqkgxncjqADk8Yk2HPAPAxyOc5A/zx/+D1b47Wuo/Gb9jL9mixvEGoeAPAfxE+MHiiyjMUjBviLrmi+FfCbXDANJDLbQ/DzxNLDErRiSDU1nkWVGtmSpwhUhKnOKlCcXGUXs09H/AMB7p6rUmE5U5xnFuMoSUk1umnfT+rPqf3pfs5+JtH8TeCPCOvaHeJfaX4j8KaXf2N3CSIby2+zQ3Fndxq4VistrOGG5FZQwyi559fv7V7adwU2xOzNCQSVKZyF3HncgIDA8g4PIIY/z6f8ABBn9tLQfjL+wr+yPqviDWka7j8EaV8NNR1GeVne38ZeA7GfwNrdprOGZrOXV7vQE1qzkuPLjki1O2kXEVzahv6B9f8W+DbOEDVfE+jacsZWTzri7gChGygw5kVQrsVGQxBZQMEjj818PuJcqq5DisHicdg8HiuG8xxOSZrh8TiaVCpg8XglGnVVeNWcPZxrTjUrUpu0KlJqcWlzRj+hcc8PZlTzrDYvD4LF4vDcQYHD5xllfD4etWhi8Li7zp+xdOE+eVKEqdGrBNzpVIuEl8LlWoqXQdV8F+Jgw0DxNpetyRLmZNM1OyupY8HaWkgiaSaFWYHb5ijIIILAgnon0a0CMfMlTCsd7OhVcAncw2LlV6n5l4B5HWv0bDYrDY2jDEYPEUMVh535K+Gq069Gdt+WpSlKErdbSdj4HEYbEYSrKhiqFbDV4W56OIpTo1Y31XNTqRjON1qrpXOYooPU96K3MQooooAKKKKAJU6H6/wBBRQnQ/X+gooAjbqfqf50lK3U/U/zpKACiiigAprsER3IyEVmIHUhQTgflTqpalNHb6dfzyukcUNldSySSMEREjgkdnd2wqKqglmJAUAk8CgD8IvCX/BYr9pL4q6jry/A//glB+0n8WfDeneJ/FfhrRPF2j/Fr4E6PpPiVvCuq3+lzahaQ694qsdQtLa6awkuI4rq1W4jiJUxtJGy0+7/4KYf8FWIYrj7P/wAEIvjRJdpFI1vBdftb/AS0ilmCEwxzzJZ3UlvFI+0SSpb3DRoS6wykBG6f/ggFdJ4g/YI/Z68cy2ptbnxXp/iDxE8EkpuZLeTXfFPiJQhumjiNyUhV4/PMMRlDl/LTeBX7s63/AMfMX/XBf/RklfI8GZ5mWfZbi8XmlHCUK9LN8zwlGGDjVjTeCwuKqUMLOoq1atL6xOFNus4yUHL4YQWh9RxZk+X5JmGFwuXVcVWo1Mry3FVp4uVKU1i8ThadfEwp+ypUkqEZ1LUlKLmo/FOT1P5ur3/gp/8A8FqntZ007/ggD4ptr1o2FtcXn7dPwivbaKX+F57SH4fWEs6DvGl5bse0gr+Wv/gqh+w7/wAHDX/BVz49WHxi+Mf7CeueD/DXg/RpvC/ws+FHhf4lfC268L+AvD9xdm9vnSfUPiP5ur+J9euFt5vEviSS2spdVNlp1tDZWOmaZpun2n+mBRX1x8uf5lf7Iv7Gf/Bz/wDsU+HYPA/wb/Z08Xz/AA5tbq4vbT4e+N/EfwM8W+GbC4uneWf+yTfeP01rQ7eaeWW6lsdE1jTrGa7mmu5bZ7iR5T+jem/Gn/g7l0q3NtafsYeBNoQxxtP/AMK5uTCCCAYkn+O8kK7MjapjZBtHy4yD/dzRXydfgTg/EZjiM2nw/l0cyxUufFYyhReFrYmo3d1cRLDSoqvWk9ZVqqlVlpzTdkfT0eNOKqGAo5ZDPcfLL8MuXDYWtVWIpYeCVlToLERqujSilaNKm40468sVd3/z6vEHxp/4PCtHuJZJ/gdr8UMzb4rPQ/hv+z34jt7YYUbI5LDUdauwpLbsXV1K2d+CAGAw4/2mP+DxKGRXt/hL8VbULjbFb/Br4MxQ8ZxuiFrsfBJP7wOAScYHFf6GNFOrw1GNS+Ap5FhaMeX2cKuR1q9eNrfFiaWcYXn2dv3UbXvq1cmnxDKVNLGVM7xNZ83POnnNKjRlzPXloVMqxPImtGvaSv8AgfwPeHf2lf8Ag85vbdhafCfV5EXaQdf+GP7LOl3CgqvCjWJrCeQEMM8Phg4yGDgek+E/2ov+Dy7w9q66jrf7NvhHx/YCCaF/Dvizwh+zXbaPLJIB5dzJL4N8e+E9a862Yb4VTV0tyx/fwTAAD+5iivpMNTqUaFOlUnTnOCs5Uqc6VN9uWnUrYicUtrOtP1PAxFSFWtOpTjOEJO6jUqQqzWivzThRoRk3vdUoel9T/N1/4KRfs+/8HQn/AAVJ0Hwb4L/aR/ZFXTPh14G1lvE2kfDr4X6r8IPCXhO68V/YbjS4fE+sxXfxX1vVdW1ay029vrHTmvNVks9Ogv8AUDY2cEt9dyTfKv7KP/BDj/g4k/ZU+Ilt8R/gZ+zWPAOsazpg0TWZ9Z+NP7MmpaHqGg3s1vdvZ+I/D158UtRnlhgmghuFEem/2tYzxk2phmLq3+ppRWGZZZl2c4DFZXm2BwmZ5bjqUqGMwGOw9LFYTFUZWcqVfD1ozpVYNpPlnFpSSkrNJrbL8xx+U43DZlleMxOX5hg6sa+ExuDr1MNisNWjflqUa9KUKlOaTavGSbTaejaP4dfhn8Af+Drrw7rcU9t4R/Zo8P21rC8/leI/F/w9n0S9YERLZvb+GfE+oX4lImeeNgltEBA4a5VikUv3n4O8Q/8AB0rpcP2bxN+z/wD8E9PEEVskNskw8ceKNHvL0wKnm3txJb+ONRtW+1kltkVlYiKUOVt0iKRj+peivj6Hhnwdl+FWEyLKaPDlJTjK2Rxp4ODSesfYOFXDWlopP2PNZJc1tD6ur4h8V43E/Ws4zOrn9Xlcb5zKeLleySl7VTp4i8fsr23Km2+W7Z+EngPxZ/wXakurBviB+yb+w39gnaM3q6F+09488P6lZRtHKJN0snwh8c2kk8cjRNtt4pY38t4lmUTLcQfrp8Add/aLt9HtrH48eCPhloFw0Vxcy3XgP4veJ/iLLa3DNEttpsUGv/Bn4bK9qI1kkmuTfSNDcM0UMM8BSRPZ6K7sh4MwOQY2tj6OY5zjq9Wk6Kjj8bCeHpU24yl7PDYahhqLk3Fe/VhUmktJKTbfFnfFuNzzCUsFWwOVYOjSqKrKWCwkoV6s0mk6mIxFbEVlFXbUKU6cHezi0kl2dlepeIzALG4Yjy/MDvtAX58YUhSW25xjI65OKu1xdldmzmMgQSBkKMudpwSCCGwQCGUZyDkZHBII6eyvBeI7hFj2MF2+ZvfpnLDYu1T0U87iG6befsD5Ux9cdjPCmflWLeBgcMzsGOcZ5CKME4GOAMnOJVy/lE13O6427tgIYMGEYCBgQAMNt3DGcZxk9TToAK/DP/g5K1Oy07/glp8fftsy26XHwu8QQxyP9wz3OqeD9OtYMjJ8y5vNQtoIhjBd8MV4z+5nWv51v+DqPXpdC/4JV/GmMC2MsmheCdNWGZvmZtd+NPwm0m72BZFLyRWnnTwhcjdA7sHjVxQB+KH/AAZ0aVMPBXxq1WZImsr3422Flb5YM/2rSfhrJdzFkI+VUGpWbRPk7n34wUyf72K/iF/4M/fDi6d+zb4l16S3UXPiH9pb4kMlwsskhk0zSvg74Hs7RZIixihaHUW1UhlRZJFlQu7KIVT+3qgAooooAhuQGt51PRoZQfoUYGv8hD/gnaT4I/4L7/AWx8Pf6Jbab+3/AHXhm0SQC5KaRefEzWPD08BafzGd20u6mhEzEyq7CVXEihh/r4zIZIpY1baZI3QN/dLqVDfgTn8K/wA6z9kL/g3X/wCCmPw0/wCCy/gX4zeN/CukaH8AfhP+1Yvx3uv2hZ/GvgbVrHx94O8O+Pbrxnp9lpnhOz8S3njeLxB8QLazGhXlpqWgWr+HJtUnvtRnSCKzlvQD/RXrzb4x/FPwD8D/AIU/ET4v/FLxHZ+Efh18NvB3iDxl408S3yXEtto3h3QNNuNQ1O9a3s4bi9unitoH8mzsra4vbycx21pbzXEscTek18Zf8FD/ANmXXP2yf2I/2mP2YvC+vad4Y8T/ABk+FHiXwj4Z1zWEnfR7LxFPbrd6H/bBtY5rqHSbjVLS0tdSubW3urm1spp7mC0upYkt5AD/ACD/ANjbW7LxN/wU1/Ze8RaZ5p0/X/23fg5rFh56COc2ep/G/wAPXlt5sYZwkphmTegZtrZXJxmv9rtPuL/ur/IV/m9f8Eiv+Daj/gov8NP+Chf7P3xj/a1+EujfB34Lfs/fEfRfjDdeJP8AhZ3ww8a3vi7xD8OdTj8QeCNC8OaJ4D8YeJNWT+0/FWn6LdX91r9notraaDFfyF5NSW3024/0h6APn39rP4LXH7SP7LX7SH7PNpq8Xh+6+OnwK+LPwgttdniaaHRrj4keBNd8Hw6rNCgZ5YtPk1hbqSNQWdYioBJFfxjf8G/P/Bv9+3h+xL/wUPuf2lf2rPDHhX4d+Afg94Q8a6H4JutG8c+E/Gk3xY1/xxo994UjuNFsvDeqahqOheHtI0e81DVL+68W2fh7VnvJNHsrLSLuOfUp9N/u7ooA/Ab/AIOcfiTrnw2/4I2ftQP4e1mDRdR8b3nwt+HksrtCLq+0bxR8TPC8PiXSNPSc4kn1Pw5b6raXSxxyzJpUmozRCJ4xcwfy5/8ABmd+zBoPxH/a9/aQ/ai10aXez/s2fC3wz4P8JabeW0smoWHi/wCPF/4itl8W6VcriK3k0zwf8OvGXhm6WQl5rbxmwjUhHZf60/8Agvf/AME0/iv/AMFS/wBiDTfgL8E/Gvhbwd8R/Bfxn8H/ABf0OHxtPqdh4V8WLoHh3xp4Sv8Awzq+raTZapeaQGsfG9xrljeDR9Uhk1PRLKxngtorxtRsvLf+DfT/AII+eLv+CTX7P3xTsfjH4j8J+J/j/wDHjxho+s+PZ/AV9qOp+ENE8KeB7bVrHwD4a07UtW0bQtQ1K9tT4h8Taxq16+nW1ut1ro060SaLTvt98Af0CV/Hf/wdNf8ABHr45/tvRfAv9qn9kv4cav8AFT4xfD2xm+EHxK8CaBPosWt6r8NLzUNT8ReEvEmlwandabNqDeFPFGp63p+qWNnc6heyWniy11CGwgsNH1W7H9iFFAH87v8Awbo/sG/H79ij/gmF4g+EP7VGiah4S8cfFf4p/E74lv8ADq/1GK61fwB4R8UeFPCfgyx8PX72V3e2On3+pf8ACI3/AItksrG4Y2TeJVS9jg1YX8Ef+d//AMEYr6TTP+CuH7CE8MNtMzftSfD2x2XcEdzEseo+IU06WVY5QVW4giuXmtJx89tdRw3EZEkakf7LlzEZ7e4gB2maGWIMegMkbJk/TOa/z6v+Can/AAbG/ty/s5/8FR/hb8ZfjLJ4D079nH9nz4uX3xK0b4h6P4z0nUta+I8HhO7vL3wFaaR4Rs/tOsaTc63qY0a512LX4NKg0zTI9WS3u7q8jsobsA/0G6/Mv/gp7/wSn/Zl/wCCqfwbs/hn8ddP1DQfFfhO6udW+GHxd8IR6Xb+PPAWrXEHl3Nta32o6ffx6j4V1lktl8SeGLtPseqJa2tzBLY6tYabqdl+mlFAH+Kh+33/AME7v2nP+CZf7SV38CvjVobrr1o9n4h+HXj/AMIDUrzwp8QdAe5H9leJfB2qSWdldvLDdxfZL/T57a11XSNVgktri3UfZ55/9fv9gvxn8XfiJ+xR+yj47+PmnXmk/Gnxf+z98KPEPxOsdR046PqMXjPVfBej3muSalo7KjaRqNxeyy3N/pbxQSafdzTWj29u8JhT6f1PQtE1o2jaxo+l6q1hdRXti2pWFpfGyvICTDd2puYpTb3MRZjHNFskQsdrDJrVAAGAMAcADoB6UAf4uv8AwV58Xa58Qf8Agqt+31q2ux2UWpw/td/GvwfHHYJKtsth4I+IWseB9F/1haSWdtJ0Gxa7n2xi5ujNOkECSLAn+wr+y78N9W+Dn7NX7Pvwk167s7/W/hh8FPhd8P8AWL3TzIbC81Pwf4J0Tw/f3NkZkjlNpPdafLLbmVEkMTIXRWyB+V3xO/4N4v8Agml8Xf2z7n9uHxr8OvGd78StV8dWPxN8R+Cbfxrc2vwo8U+P7K5TUT4m17wulk2o3E2oaxFb6xrOl2+vWug6xfRSf2lpVzbX2o295+4qqqqqqAqqAqqBgBQMAAdgAMAUAfnj/wAFNv8AgnL8F/8Agpn+y742+APxS0rS7TxNNpl/qXwi+JsmmRXmvfCv4ixWrnQvE2lzjyr19Na7SC08T6LBd20XiDQZLzTpJYJZLe6tv8q/41fAT/goj/wQ0/a9sbu7n8efAn4o+EdWvZPht8YfCDXyeBPij4cgktppbnw5rhhbQPGnhjVLOayTxN4S1NLz7L9oOjeKdHt7pJbVf9l+vjj9un9hP9nn/gof+z/4n/Z3/aN8Jpr3hbW1N7oHiHTxbWvjH4e+K7eGaPSvGngfWpre5bSPEGltNIoLQ3Gn6nZTXekazY6jpF/e2NwAfhT/AMETf+Dk34f/APBRvx14A/ZI+Onw51P4YftY6z4R1a40vxHoLwap8LPi1q/gnw9Nr3ieTSolMOteCNevNC0zW/E0Xh6/tdV0OKy0fUoYfFP2xtO026/qdr+YD/gl5/wbGfBD/gm3+1n4c/a2P7Rfjr41+LvAOieLNO+Hegaj4M0nwTpWg6p4y0DUvCGra3qs9jr2vT67KnhTW9a0u0swmm20c+oNfuJZLeCJP6f6ACiiigAooooA/wAj7/g5L/avj/a3/wCCtPx5g8P/ANpz+Gf2fbmy/Zd8MW99A8F02pfCvUdUsPHiwWe6QC3l+KmpeNY9MmRmOoaalhelYmuPIi/0rP8Agkj+zpcfso/8E1/2M/gZqWg3nhfxJ4W+Bng/WPHHh3UbdbXUNE+Ivj21f4g/EXTL6BWby7uy8ceKNft7jJ3NLG7OAzED8efHH/Bq1+y18Rv+Ch/ir9uDxh8cfiLq/gzxt8ddY/aC8Ufs/wAmgaTFZ6t4w8Qa5P401nRpviDDqUeoR+EtQ8cXVxfzadb+HYtRTw9M3h+DV4rgJrS/1Moioqog2oiqiqOgVQAo554AAoA/mA/4O5PBniXxX/wSZudT0DQNQ1uy8CftD/Crxd4purG0e6Tw54ebT/GPhf8AtzUGRWNpYjWvE2j6U90QESbVYI3ZVlJr+an/AINpv+C1H7J3/BNLwz+0B8Gf2rk8beF9B+K3ivw7498MfEjwz4euvGGj2F9ouiXGi6hoHiDRNHEviK1e6j+x3Ol6hpmnatbzObuG/XT1hgmuf9K/xv4I8IfErwh4l+H/AMQPDWi+MvBHjLRdR8OeKvCniPTrbVtB8QaFq1tJZ6lpOrabeRy2t7Y3ttLJDPBNGyOjEEZwR/HR+3n/AMGeX7Pfxb8T2njT9hf4ry/szm8uJz4l+GHju2174jfD9lmdpY73wjrE2qnxf4dkhdmjm0rUrvxJYXEbwixk0ZbVorsA/jf+NXiHxJ/wVe/4K++NNS+HtxrOtt+1x+1/Jonw4u7vTDZ6ppnw11zxvF4e8CXWr2NtBObCPwj8NLTSJtanlil+xWmkXd5es/lTSH/ZYtofJtYLdsN5UEULZ5DbI1Q9sEHB7cjtX8uP/BHb/g2X+Fn/AATc+Mmk/tRfGL4xSftA/H3wta6vbfDu10bwy3hH4c/DuXXdLvNC1TWIbS+1LWNZ8WeJZNIvby00/Vb2XRNP0qHUrsR6Dc6hDZatb/1K0Af4t/8AwVs8O+HvAn/BUn9unQvDGj2egeH9G/ar+LUmn6PpMCWljp8D+NtRvng0+0QpDa24kmka2toBFbW6MkUCRQoiL/cB4q/4PLv+CeVt4G16HwV8AP2v9W8aQ+Gb+Hwzp3ibwj8INB8NX/iFNNkj0u21vW9M+NfiHU9K0ie+EKX2oWOgateW1q0k0Gm3UqrA3d/8Fhv+DYDQf+Ch37Seq/tWfAT44eGvgJ478cabpFt8UfBviDwDd614X8X+JNMils28e2us6Jrljd6Rrd/pcWmWWsae2g6hBq91ZnV5NQtr2e7F1+Qw/wCDKr9pbPP7aHwTx3x4C8bE4+n2oZ+mR9aAP5Zv2GP2evGX7YX7afwG+CXgnwTqPjm++I/xf8MjW/D9s1zMkPgxPENtqnjXU9a1BP3lpoui+GIdU1DWdVlZDBZW08+TKURv9tnTNPs9J03T9K0+1t7Gw02ytbCysrSKOC0tLS0gS3t7a2giVIobeCKNIoYo1VI41VVUKAB+N/8AwR9/4Irfs+f8El/hrqcXhm7i+Kv7Q/ju2jg+J3x61nRINL1S+06OSOeDwZ4K0s3OoyeEfBFrcRRXdxp8eo3eoeINUjj1LXL65Sz0aw0f9nqACiiigD8v/wDgs7+zf8bv2uP+CZf7V37P37Odw0fxh8e+DNBPhWxTVm0OXxJD4Z8d+FfF3iPwZDqXmwQQz+N/C2g614Rgivri30u7l1pLPVbiDTp7mVP8j/w7+wn+2t4o+Juo/B3w1+yf+0VrHxV0K8ktdb8B6d8HPiBd+KdBmtriG3uJda0eDQJL3Sra0luIDc3l9DBa26SJLLKsbKx/3AKjWGJXaRYo1kbO6RUUO2eu5wNxzgZye1AHzz+yD4H+Ivwy/ZP/AGZvhx8X9Rh1f4seAfgF8IPBvxM1W3uPtdvqXj7wz4A0DRvF9/DdeRbfaIrvX7O/njn+zweasgfyY92wfgZ/wcv/APBYK8/4J9/s8Wn7OHwVv76z/ah/ad8La7a6V4kswsSfCr4VPJJoPiTxrFeJdQ3lv4u1qWa70LwI9nBILG8tNa1+a7tLnQ9OtdT/AKfa/Ln/AIKAf8Edf2Ff+Cl/iTwL40/am+Hev674z+Hei33hrw54o8KeNfEPhDVF8OX1xc37aHqC6VdrYajY22qXUuq2RurJ7m1u3mWK4Fpd3ltcAH8LX/Bsr/wRlvP22fjXaftqfH3S9Xs/2b/2fvG+i6v4KsLmFYofjT8YvD2o2mu2ulu91HIb3wR4Pnhs7/xc6x+RrWoXNj4djmni/t+O0/06gAoCqAAAAAOAABgADsAOBXl3wT+Cvwv/AGdPhV4H+CXwY8Iab4E+GHw40K18N+D/AArpRuHtNK0q03FIzcXk1ze3t1PK8tze399c3N9f3k093eXE1xNJI3qVAB/n8utfkT/wXp+G5+Kn/BIP9vDwyLRr06Z8FL34g+SsayFB8KNd0T4nm6KvHKAtiPCJvGkCholgMiyRMolT6C/4J++LPEWv+Cf2ifDvirXtb8Q6v8O/23f2wPC8d34hvzqOo2Wgaz8cPFfxG8IaHFPJc3VxFo+heEvHWh6T4csp2iGn+HrTS7G0t4NPt7ONfoP9pz4ZR/Gv9m/4/fB2WCK5j+KvwY+J3w6ktpxA0M6eNPBeteHGhlW6DWxjlGolHFwphKsRKCm6gD/Jn/4IqeOfGvh/4vfF3w14J8Jav40vtZ+H2m+Ir3RtHvvDtnMLLwxr8OnG7kHiPWtEt5lhl8VxxolrPNciSdWEJi8xh/fV8Kv2/Pjv4J+F/gjUNU/Yq/aUmc+EtDtbGB9Q/Z9tdP1mPTtKtrOKXTbnxJ8e9GWT7RHbs6yTSaeWbO8kAE/56n/BGvxZN4G/b/8ABnh+4Jsh4y8P/ETwNfR3CrEySW+hXniSC1kWVQ0Uzal4WtYFQBJDOUh/iKn/AFjv2HNYg8Rfsw/DoShLiTTItd0S6SULKFNjr+ppBGysCAosXtQFJbKFScA4H5jxxwBmXE1ajjsm4mqZFj6NaNaP1rA18zwLcaEcO1HD4PNMkxMHOEfflPG1oXlJ+x1sfovB3HGA4dpVcHm3D0M6wNWk6Ulh8ZQy/GWdaVa8q+Ky3N6FRRnN8sVhac7KMfapXb/L3WP+Cs3x7g0+b/hH/wDgm5+0dretyIyWGn6h8RP2S9EsJ5/Jk8pJr/Tv2lvEl5CJbnyIiYtOmZIpZZkSV4kgk/ls/wCCnf7A/wDwcIf8FfPi3o3xc8V/sJt8Pvhb4KtdT0X4Q/CmL46fAG2h8K6bqktpc6vq2o3nib4paNqviHxD4hNrpx1LXv7MsdPnttPsLTTbO3gtHMv+kLHp2nwuJIrGzikXO147aFHXIIOGVAwyCQcHkEirlPgvg7ifIsXPFcScQ5Fn/LSlTwn1Hh7NMsxWHlNJTn9ZxvFWc0JKUeaDUMBSq8j5fb8spRc8XcV8PZzhYYbIMjznJeacJ4n65nuXZhhq6g7xh9WwnDWVVk4yUZqU8bUp865vYc0YyX+Xd+yj/wAEbP8Ag5N/Yq17xFr37Pf7NieFT4w0+30zxVo+qfF/9kDxZ4f121tJTNaPcaP4n+KWq2lpqVm7yrZ65pS2GuWcFxd2ttqMVteXUM36AaJ8Iv8Ag8D8PRmDSvg94et4A2Y4T4v/AGIZUiUHIjQy/Ed2MQ4xG7MoxwAWYn/QRor6XMeCODs2zH+2Mz4W4fx+bcipvM8VlGArZhKnGMYRpzxk6DxFSEYQhGEJ1JRhGMVFJJHz+A4w4ryvAf2Vl3EmeYLLOd1Fl2GzTG0sDGo5SlKcMJCsqEJylKUpSjTUpOTcm22fwqWF5/weL6fbQ26fs6fDKYxRojTy+Mf2S45Z2UAGWWO0+OFrarI5G5hBbQx5JCxquBXRw+KP+DwoQRw337JvwY1R43ZluLrx1+zbBKQeismm/tGWNu4TkKzQF8Egsa/uIooqcF8K1KXsZZHgY0nb3KUJUV7trL9zODsrL3b20WgQ4u4lp1VWjnGMdVXtOpKFVq6s3arCavbS9rrWz1Z/Fn4W+Ln/AAd7+Gp1mm/YM/Zk8RosRjFvrfjr4LxRMSf9a7aB+1rodxJJj5fmnKEclC4DV6RZftOf8Hd1td20rf8ABNz9kmO2imjaeDTvib4FsZZoA6+dHHNJ+2xdwxyyRBkSWa0uo4yQzW8gBRv7BKK6KHC2Q4aCp4fLoUYKzSp1sTDlcYxinFqspRaUY6xaba5n7zbMKvEud15c9bHzqyd7upRw81K7btJSotSV29JJq3u25dD+Wuz/AG5P+Dq60t0gk/4JLfsuXzJ1uLv49fDIzv8A75g/ahgjPOTxGMZwOAAP5kf28/8AgjP/AMHDP/BQ39qP4lftXfG/9jDR7fxv8RbnS4xofhv49/s323hnwvoHh/SbPQvD/hzw/a3/AMcr+6g0/TdMsIA7zXUs17fyXuo3DG5vJif9QKivehCNOEYRvywiox5pSm7JWV5TcpSdusm2+rZ4spOcpTlbmk3J2jGKu3d2jFKKXkkkuiP86n/gnH+xD/wcc/8ABNDwr8RPBng79gvw/wDE74YeMb638WHwV4m/aC/Z/WTw14wsoYLW58R+FrjQPjQ99HcazpNrBp+s6atnd/2idP0ma3+zzWki3f6EXP8AwUs/4L9+GnOi+I/+CX/w3gu7dTDJZa/8d/BdvdRxKcKptr34gh4nSRMBwgXCsmzcS4/tOppRCclFJ9SoJ/MivzPijw7jm2Y1M3yKXDuU5pjIxhmeKzbJc+zaOOjTXLSboZPxlwrSjUjG6lUqxxE6l/ekru/6Fw5x5LLMBTyrOY57meXYWUpZdh8szbJcslg3UadRKtmnCfElWUJSSlGFOVCEGlZaJr+NbwV/wUV/4L9eIdWtz4N/4JL/AAr1XU4Jg6XGkfHHwVLPblSheRprX4goIljVg7l2RQpy5CE1/YL8FvFfjnxZ8HvAev8Axk8L2/gr4kar4b0y58a+EbW7ivItI8QNbpJf2ME1rdXSPHHcqyK4uXjLD5ZGjZGbpAqr91VX6ADr16CnV6fCHCWO4ccp4zMcrrTnTrQq4fIsozLJsuxE6k8NKliK+FzXiTietLE4aNCdOlUpYyinDE1lVhU/d8nncU8T4LPlGGFy/MaMYTpTp185zTL82x1CMIV41KFDE5bkHDtJYfESqwqVadXC1mp0KTpyg/aOb5CrO7IuxCzFUyW2qSSF3Hk4HGTyaZRRX3Z8YFFFFABRRRQBKnQ/X+gooTofr/QUUARt1P1P86Slbqfqf50lABRRRQAV81ftm+Ph8Kv2Qf2pficZ1th8PP2ePjN42+0OYlWD/hF/h34i1vzmM8NxCBH9i3nzbeePj54ZFyh+la/Dz/g41+PFr8Bf+CP/AO1vqH9owWWt/E7w1oXwT8OW0rASatc/FDxLpfh7xBYWwMkZeaLwNL4r1NgCxFvp877HCFSAYn/BuXr+meI/+CY/7LFxp6yRrY+DbGwkilCRyG50/wAQ+INM1CbYryfuZ9QtLqS3cbS8eHdI2Yov7763/wAfMX/XBf8A0ZJX8mv/AAa3fHDRtS/4J9fAnQrrW0ubvwvcfEfwP4iWRoYxpeo6Z8TfE/iPw/BOEKrHFD4R1nS9ssyq7K2XLZMrf1oDVfDesyJawazpl3cYLRx2mpWss4U7WZljjlcsCFGSUYAZxg81+Y+HWcYGvS4lwH1ihTxeV8Z8UZbVoTqU6dSTp53jqmHlGk5KTVTC1aDjypp2fK2tX+i8e5VjKNTh7GqhWqYbMeEuHcxp1oQnUpxVTKMFCvGVRRaTp4inVUuZprRvc+cv2k/j14J/Zd+Afxe/aG+ItwLfwZ8HvAPiTx5raCeG3udQi0DTZ7y30XTmnIjk1fXb2O20bR7b5pLvVL60tYkeWZEb1Tw1qV1rPh3QdYvrKTTbzVdG0zUbvTpkkjlsLm9sobmezlSZUlSS2klaF1lRZFZCHVWBA/js/wCDxj9uGH4W/Av4H/sG+CNcePxP+0D4hsvil8WLO3lXzrX4UeANbiXwnpmoKCh+y+MPiFbrqVm8SyEP8Ob2Kdo47hFm/sjsUaOys0cYZLW3VhkHBEKAjIyDz6V+nH50WqKKKACiiigAooooAKKKKACiiigAooooAKkSWWNXVJHRZBh1ViocYIwwBwRgkc9ifWo68Q8e/tM/s5fCvxXZeBPid8e/g18O/G2pWdpqGn+EPG/xM8GeFfE19YX89xa2V7aaFrms2Op3FpeXNpdQW1xFbPFPNbzxxOzxOFAPb6K/N7xJ+33qfiz9pG1/Z2/ZG+Eug/tUy+Hfh3pHxI+M/wASfDvxo8J+G/h/8JtP8XeI9S8OeBfD95rNvpfiyPXfGHiNvDvinXJfDkBsL7T/AA5oq6mq3n9oWsB/QDwveeJdQ0a0u/Fmh6b4c1meGCW50jTNdl8RQWTyW0EksD6nJpGirNNb3Lz27GC1eB0hSeOdhMY4wDol6j6j+dfys/8AB354qi0f/gnpe6G72yP4m8YfDHSIhKz+dI58X3PiHZbohAEoj8KyvmTcjQJcYAdUI/qstUWS5gRxlXmjVhkjILAEZBBGR3BBr+LP/g9E8Yi2/Zr+CXhCOfy7jV/jd4NnkjSREM+naF4F+LF3cQyRMfMmVb/XtLn8yIGOJo4kkId0BAPXP+DUvwk+g/sL/BvWFtzGvjHxV8bfFLybIF85bfxRq/g4T5jPmSAP4bW23zjzgY9g/cJEa/rpr+c3/g3l8CSeCP2IP2RNHeI2xk+AY8amNkdDInxA1aXxjHKoeC2OLhfFCXSv5bI6vvjmuUZbiT+jKj1/r8gCiiigAooooAKKKKACiiigAooooAKKKKACiiigAooooAKKKKACiiigAooooAKKKKACiiigAooooAKKKKACiiigAooooAKKKKACiiigAooooAKKKKACiiigAooooAKKKKAPzK/YuvV8Lftif8FSfg+ZSY4f2gvg38ftHtpDJ5ttonxr/Zo+F/h27MarHFaR2lx46+EHji5ijt03tcS3dxeST3dxLK/6ZyIJEeNvuujIeM8MCp478HpX5OX2oP8ACf8A4LT6NBNJJpvh79sP9gm8023VmRbTXviT+yP8X5dVhjjVlEkmpweAf2h9Ukl2SOq2GmxnyYzvkk/WWgD/ABvvjz4Xf9jD/gtV8T/Dc0cGkaL8Kv26PEAtR5YsrdPh1qnxQnvNMmWMYjs4rzwHrFtMqrvht1nABmiQF/8AUU/4JheJ49S+D3jDw0ZN8/h/xs2oIpkZjFYa/pFgbdVUnakbXel6hIu0Dc7SE5Nf593/AAdk/AmX4O/8Fa/EPxIs7RrbTf2h/hH8Lvitb3EERhtDrXh/T5/hXrEMTpiMXwf4d2WqXypslMurR3cyl7vzZP7H/wDghl8cV+Jng3w3rUlyg/4W78CPAXj2eNmDt/b+m2Wntf2IdVCtcWsviHWEn2hULWkpydqZAP6H6KKKACiiigAooooAKKKKACiiigAooooAKKKKACiiigAooooAKKKKAJU6H6/0FFCdD9f6CigCNup+p/nSUrdT9T/OkoA/AT9qb/g5Y/4Jd/sl/F34kfAzx543+Knib4lfCjxFqPhDxrofgb4U6/eQ6d4p0e8Njq+iQar4jfwzpd9Np1ysqS3lndzaVOInayv7pTGX+EPE3/B5d/wTa02SWDw18Dv2wfEskV0IvtU3gz4TaJplxa+W7Nc2s0/xiu9RZhL5cawXWlWhZWkkLpsRJf24+Jv/AARt/wCCYfxk+IHi/wCKnxP/AGM/g74z+IXj7XtR8UeMfFesaVqEuqa/r+rXD3Wo6pfyRalFG91d3DvLKyxoC7EhRXC/8OIv+CRH/RhnwL/8E2p//LWgD8G7v/g9Q/ZSS6uUsf2PPj3cWSzyraT3XizwDaXM1ssjCCW4tYri8itppIgrywR3d0kTlo1uJlUSN/Ox/wAF1f8AgvhqX/BW7R/hJ8J/h78Ktb+DHwL+F2u33jq+0bxJ4jsfEHiHx18QbvSpNE0zWtUj02wtrDSLLwno9/r+naNaWt1fS3Z8Q6neXs6k2lraf6Ctl/wQu/4JG6fd297B+wV8AnmtZUmjS88NXGoWrPGwZVnsr+/ubO6iJGHhuYJYZBlXRgSK7b/hzb/wSp/6R+fso/8AhmfBn/yroA/yx/8AgmT/AMFX/jz/AMEzfHd3q3gOxsPH3wz8Q38epeLfhZ4gvbix0681KO3js/7d0HU4Iro6Frz2UUVjc3TWGoWd/aQ26XthNPY6bdWP9SMH/B35+zbqGn2LeI/2MvixJq6QI1ybLx74Ultba5ZE86OznltLeWaBJFxFNNbwyOoDGKJiUH9U/wDw5t/4JU/9I/P2Uf8AwzPgz/5V1Xu/+CMf/BKW9tbmzm/4J/fssJFdQS28r2vwj8K2NyscyNG7W95Z2EF3aTBWJiubWeG4hfbJDKkiqw+Mx3h9wlmGYY3M8RlNP63mUqdTMZU6lWnRxtalCnSp4rEYVTeGni40qVKk8WqMcRUp0qUatSoqNHk+twfHPE+BwODy6hmdT6rl6nDARqU6U6uEo1JzqTw9DEuH1iOFdSpUqRwzqyoU51KkqVODq1ef/J//AOCkv7dHiP8A4KC/thfEX9prWdO1TQ9H1q50bRfh54P1fWZ9Zl8F/D/wrZQ2OgeHo7l3eJJLiVb3XdXW1P2Rtc1jUZbNIYpCr/2LfAP/AIPU/hjdR6bpv7S37Fvjnw0tvBDDqPif4L/EXQ/HD3jqVV7i28H+NdM8BfYgI+RBL41vy7rk3CB8R/tn8Sv+DZr/AIIzfEhrq5P7J/8Awg2qXXm/8TP4efFP4seGhb+a9zKfs2hDxpd+FYvLmuTJFjQDsSG3th/ocKW4/Cv9sL/g2F/4Jx/DT9qP9l34T+Gfjf8AHT4O+Cfjz4V/aV17xRr/AIt8aeA9d0jwtJ8FvCPhnxfpc2nXOs+DNJe001bHV9ZuPEEuua5cq+m6VA0F1YTLcXFx9ZhcNRwWGw+Ew0FTw+Fo0sPQpptqFKjCNOnG7u3aMUrt3e7PmMTiK2LxFfFYiftK+Iq1K1abSXPUqyc5yskkrybdkrH7lfAf/g5n/wCCPnxzNhZSftJXPwd1+/WMroPxt8DeKvBQtS67mW98V22n618P7Ywt+7kL+LthbmN5Ey4/ZD4Q/tF/AD9oHTZdY+BPxu+E3xm0qGMSz6j8LfiF4T8e2UEbFFDz3HhfVtTihXdIi5kZcM6qcMQK/wAoDU/+CR/w7/aQ/bl0b9jX/gld+0F4t/bOt7e8mT4p/GrWfhPF4B+C3wr0i0vFt9R8ST/EOy8YeIm8V6BpircpJqlr4W0Wy12+Ww0/wPP4tutWtYl/0m/+CVf/AASg/Z4/4JV/Amz+G3wssovFXxP8Q2tpdfGH436vp0Nt4r+I3iBFDyRxJ5t03h7wdpkxaLw34Rs7uW10+3UXV9caprd1qOr3u5ifqTRRRQAUUUUAFFFFABRRRQAUUV4d+0h+0d8Hv2Svgv43/aC+Pfi+28C/Cj4eWmn3nirxNc2t5fLYR6rq9hoOmxxWOnQXV/e3V9q2qWNja2lnbT3E89xGkcbMcUAe41/KL/wU4/Zz/Z6+K3/BwP8A8E19I/ab+F/hn4p/DH9o/wDZa+NHwY/sHxdbtd6NH4o+FVx41+Jvhu9aOLVIZ4LxdQ8Tx6Za3FvaQSPLrCW73F1bvKtj+9P7Vv7TnhbwH+wJ+0F+1l8MvGek+IfDnhv9mb4j/Fz4deNfCuoWOsaXrj2nw/1XXPBupeH9Qhll0++Gp6gNNGmy+abeSaeISOqbiv8AP3r/APwRS1X42fsP/Bz9qDx1+2x+1b8Qv+CiegfCj4efHr9nX4kftB/H691jwH8Hfj7c+H/B3xFvfCPw78HXEmneHPC/hvxjq/hrTfC2t3VzLr2ox2lva69cXGo3OmRxSAH9If7M/wCx/wDszfsceFde8E/sxfBnwX8GfDHifXv+Em8QaV4O097SPV9c+wWmmJf389xNc3U7xWNlb28ETzmC3UStDFHJcTtJ9JV8Uf8ABPT9rGT9tL9k34W/HHWPDF74F+IF/p9z4V+L3gHUbO4sbnwT8XfBty/h74g6DDBdSz3D6Ouv2VzqHhq9lmkk1Lwzf6PqMmyS6eNPtegC/piK99AGGQCzjkj5kRnU8EdGUHHQ4wQRxX+fj/wek+OTc/EH9lD4dQXBlW51j4ka7d26yBhF/Y/h/wCGGm2DvE0ZYeZP4i1mKLZIqbre4Lo7OjJ/oM6JGWnlkKgqke0McZV3YYxnkEqrjIHTIJ5wf85n/g42lPx6/wCC4P7En7PcZ+22r6z8OrbUo42M62cPjb46aj4d1k3CefOIzaaF4Kh1C5jNjE4sTDNvuYHhjgAP65f+CbfgaP4UeAPhv8P/ACEt4fhp+zt4R8IKgWOOK1/4RXRvCWjCMCDZboI47CRFRAIlVTsUBVI+tP2FfHHiX4pfskfAv4seK9bvvEOp/F3wXB8W7XUtQObgeHfihfXvjzwlp6gzXEiWukeFvEGj6TYxTTSXEVlZQR3DGdZK+AviZ8R7v4L/ALIf7anxP0tx/bfg/wDZk+I7eFYFme3lvvGd94fvrDwZp0M6AvDLqXiaTS9PikTMiTXUTIrEYr9Yfgn4BtPhT8G/hP8ADCw2fYvh38N/BPge08uR5U+zeFfDem6HBslkSKSRfLsV2u8cbuMMyKSVAB6fRRRQAUUUUAFFFFABRRRQAUUUUAFFFFABRRRQAUUUUAFFFFABRRRQAUUUUAFFFFABRRRQAUUUUAFFFFABRRRQAUUUUAFFFFABRRRQAUUUUAFFFeA/GHwZ8f8AWdU0PxL8DPjP4d8C3ejWN7a6l4D+Ifw2s/Hvw68YPcT280V1qNxouteCviDoGsW0MU9nYajpHjGfRrX7ULvUPCmuNbi2mAPfqK+KI/2ofiX8MVhtf2n/ANnbxn4KtFleG5+K/wAEG1H9oL4OKDLstJ9QTw1oWl/GnwmkkCtfazqHiX4O2vgfwxDuS98fXkEL3zfUvgX4ieAfif4ftfFfw38a+FPHvhm+Mi2niDwfr+l+I9HuWibZMkWo6RdXdq8kLgpLGJd8TgpIqsCKAOyooooAKKKKAPxk/wCCu+qP8D9f/wCCfX7b8JisdN/Zf/bR8D+G/ilr90XXT/D/AMBv2ntI1b9n/wCJGqakwIjW0sNV8XeCdTDTgxpc6fbypi4jgI/ZlHWREkQhkdVdGHRlYBlI9iCCK+Nv+Chv7NkH7X37EP7T37OJtoLnU/ij8H/F+j+E/tLrHBa+PbLT31v4falK7kKqaV420zQdSbcyAi1I3pncPJ/+CRv7VU/7ZH/BPT9mv4za21ynj9PA8Pw7+LVlqCG31Sx+LPwruZ/h98QDqNhIzXOmy6r4h8PXev2lleYuotL1ewabJk3MAfzWf8HpX7OL698C/wBkf9qrS7Bmm+HHxF8W/BjxXd20Bkkk0n4l6HD4q8MT6lIqs0NhpGqfD7W7S1mYxwJfeKBbyM893apXk3/Bsj+0GLr4XfAuyvbpXm+HHxQ8VfBvUg8ixu2neLmN/os10CyhbOyj8c2ccM7BItukEMzPbzGv6af+C5P7L7/tcf8ABLH9r74WafZPe+KdK+Gd58VfA8VvAtxqE3i34QXVt8R9N0zTFKti98SReHLrwspABaHXJo98Ycuv+e3/AMG+HxlufC3xd+MPwjk1GS0l8QeH9B+Ivh1DIyNb634G1U6dqJsSCFW8uLPxDZ3Eo5d4tGR0wIHyAf6xVFcf8PvFlr478C+EPGdmEW38UeG9G1xI423rAdSsILqS2J3ORJbSyPBKjMXSSN0fDKQOwoAKKKKACiiigAooooAKKKKACiiigAooooAKKKKACiiigAooooAlTofr/QUUJ0P1/oKKAI26n6n+dJSt1P1P86SgAoqSOKWU7Yo3kIGSEUscAgE4APGSBn1NbVpYW6Wsk2oDyCSwDzSCERIAAH+YqFJYn/WZB2qQu0/Mm0k22kkrtt2SXdt6JDSbaSTbbsktW29kl1bMGir81x4YgyX1aM4Gf3U6T9f+uMUnPt271h3/AIq8Dabs+1avMrSNtVFilLkgZztNspK9BkZGSB3FcFfNsrw0ZTxGZYGhGNuaVXFUIJXaSvzTW7aS/wCHO2jleZYiShQy/G1pS+FU8LWm3bV25YO+mpdoryzxj+0d8Afhx4d1/wAVeOvGmn+F/DPhTT7zVvEniPxBJJpekaLplhG895qGp6jdtbWVpaWsKs8s8siRqi5JJ5P8Uv8AwVz/AODt/QdNTxN8Cf8Agl1pq6jqm270fWv2rvF2mF9M0+XBinf4Q+CNYt5F1a5hclbbxh4wtxpavFO2neF9Wtp7HWo88uzvKM3lWjleZ4LMHh2lX+p4mliPYuW0arpSkoSdnaMmm7PTRl4/KM0ytUpZll+MwCrpyo/W8PUw/tYpJuVNVYxc0k1dxTSurvVH9NP/AAUn/wCCvH7HH/BL/wACS658efHMWr/EvVdMmvfAXwJ8GT2mq/E/xrKGeC3mXSzOkPhrw61zHKlz4p8SS6fpKLbXcNg+panFFpk/8EvxE+Mv/BRX/g6i/bS8C/D3wb4O0n4TfAr4TT6+LJdIt7q78FfAb4f+N73SG8TeJPiN448iw1Px9408Q2XhbRrPTtFQaZZ6vqGlRweH/D3h+zm1/Uh+d3/BO3/gnh+2D/wW8/a08QQt4v8AFGt2zapa+LP2kf2mfiNd6r4oi8JaZqs0qxz6jqN/ctdeI/GviBLK5svCHhWK8jmv3s5pppdM8P6Tqepaf/qzfsK/sIfs7/8ABO/4A+Gf2ev2cvCMWg+GtGiS78Q+JL9ba58Z/ETxTLFGmp+MvHOuQ21s+sa9qToAMRQafpdlHbaRotjp2kWVnYweoeccP/wTj/4Jufs5f8EyPgDpnwN+AOhO9xdNBqvxG+JWtw2kvjn4oeK1hMcuu+JtRt4IVFtbB5LbQtCtVj0vQrAmC1ia5nvry8/QGiigAooooAKKKKACkJCgsTgAEknoABkk/QUtFAH5s+Kf+Cw//BLrwVd63p3ij9uz9mzSNW8N3l5puu6HcfEzQX1/TNS065e0v9NutChuJdXTUbO6jkt7mx+xG6hmjkjkiVkYDyHW/wDgvz/wR70C1jvL79uz4Q3EUk626po8fi3xBciR45JAz2eheG9Ru44AsTBriSFbdHMcbSCSWNX/AJrf+DpD/gijp9prGqf8FPP2dfBt5PoU9/Y3P7ZHw78GxW9neraq8MEvxw8N2gs7m1t7i7gQWPxFkjs7hE1B7DxveafcibxfqYu/8E2f+Dbf/gjn+3x+z34N/aQ+Gn7Vf7VPxP0PVY4bTxP4Vs/EHwo8E6v4F8YW8Xm614H8e+Hk+HfifVtJ1jTRcWu1bbXEtdStDBrej6lqWjapY3LAH7863/wcpf8ABFTw/LBDfftr6NO9xG0iHRvhB8f/ABDGqq20iabQfhXqUNu5P3Y53jkZfmVSvNfmt8R/jL8Lv+DlH9tLwf8Asr/BbxH4s8U/8Er/ANlrwtD8Yv2mvH2l6d48+Gk3xx+Mniay1XRvhj8MrD+3NM8PeJ9M07wxK1zr8L6lpenHU5dI8YTRwN/Z3hXVp/sHwP8A8GqP/BG3wmluuu/BP4jfEloI40kk8Z/G74k2TXbJamBpbhfAeueCo1eWUi8cW6QRi5UKiJa5tj+xf7JH7EH7K/7CfgbXPhv+yh8HvD/we8H+JvETeK/EGm6Nea5qtxrGvtptjpC3+oav4l1XWtZufK0/TbWC3t5dQa1tsTywQRzXd1JMAfx2/GD/AIJQ/wDBXT9lGS1/4JQ/s2fEvVfjN/wS2/bM+LPhzS5PidrWiR+IPHX7MXgVdWbxX8SPDmuymaG28IaTqmlabeX15fWVlN4X8Zalp9tHoo8IeKPFmr6TqP8AdXoukWWg6NpOhafEItP0XTbHSrGEs8gitNPtYrS2j3zPJK+yGJF3SO8jYy7sxJOpRQA1ESMFY0VASWIRQoLHqSFAGT3PU96dRRQB0mipst55t33n24x08pS2c55z5nTAxjqc8f5yvxIMn7SP/B07eTvG+p+H/gH4cGs3cqCSeOGPTfg5LrtnKWkaSK2Fj8QfiPYRSMkNtGbqJ1SNbmb7RJ/oo6zfDRPA3iTV2kKix0PW9SLAYMf2Swnf5Th8sPIyCFJyQArEDP8Ans/8Eg9Kb4zf8FXf+CsX7Uk7veWvh3x3r3wj8NagTGYLrRfEPxL1prBoGSNY3kttB+EegB2jYtFFexrI8pmEjgH9An7St7/bvgv4FfASJTJc/tOftyfsj/Dq9t4rcXF1c+CPhx421T9pH4lRoBKhjsZ/B3wTv9J1OaRJ7ZINYjS4hk82OOT+hZQFUKBgKAAPQAYA/Kv5zPhNcr8ZP+Cv37Onw6hBk0j9kD9mj44ftJa/LEHltU8d/HG/8M/Af4fWd86BooNVtPB1v8VrvT4XaOVdO1a9mdGS4tGr+jSgAr5E/ac/agf4P3nhT4S/Czw1F8V/2o/i5FqMXwj+EcN7JZ2sdjpxgh1z4ofE/WLaC8fwN8G/Az3lpN4r8W3VtJNeXlzpvhLwtZa34y1/QtEvn/tl/tbeGv2Rfhhp3iWXw7qXxG+KfxE8U6V8LvgD8F/Ds8Nv4o+MXxg8UCaPwx4O0y5nSS20fTFMFxq/izxVqCHS/CnhbTtW12+8xbRLa4439i/9lTxH8G7Xxb8bfj74h0z4mftj/Hv+zNZ+OfxIsbL7Loeg2tjB/wAU38FPhTZztNc+Hvg/8MraV9N0CwM7XniTV31jxx4iebxB4hvDEAfRnwP8DePPAPgKy0z4o/ErUPiv8R9UvLzxB408Xz2EWiaJJr2rMktzpHgnwvby3EPhXwLoSJFpPhXQ3vNT1OLS7SK78Qa34g8R3mra5qHr1FFABRRRQAUUUUAFFFFABRRRQAUUUUAFFFFABRRRQAUUUUAFFFFABRRRQAUUUUAFFFFABRRRQAUUUUAFFFFABRRRQAUUUUAFFFFABRRRQAEAgggEEYIPIIPUEdwa+W/iT+x78FviD4mn+Iml6brfwj+L8xgd/jJ8E9cu/hp8Q797NClhD4s1DQPK0n4laRYgsbbwv8UNG8aeFFdmkbQ3kww+pKKAPiXUNf8A2xPgTAkmpeFtM/bI8BWrSCXVPBDeG/hV+0Xpmnwoq2733g/XtR0r4OfFTUpP31zq+q6D4n+CTQokVroXgDWbmYqvq3wd/am+B/xz1LWfDXgXxmkPj/wuobxd8KvGGl6t4D+LPhFTdT2KXHiP4beMbLRfGGnaZdXlrcwaXrraS+ga4IHudD1TUrMx3D/QleGfGv8AZs+Cv7QmnadafFTwNYa3qfh+4a/8H+NNNudQ8L/EjwBq7AAa78O/iT4Xu9I8c+A9eRV8sax4U1/Sb9oWktpJ3tpponAPc6K+AT4U/bU/Zzka48D+LLb9tD4TW13HI3gD4lz+H/Af7S/h/R23C4tfBvxXs49D+GHxSksVMEWiaD8TdA+H2t3EEVxN4k+Mur38qSH234VftW/CD4ra2fBMOpaz8PvitBDJNf8Awb+LWhX/AMOfihbR20Mct7d6d4Z8RR2p8XaHZmQRN4u8DXXifwdcyKwsfEF2o3UAfSJAIIIyDwQehHoa/nG/Yk11v2Cf+Cxv7aX/AAT98Qsuk/CL9t4z/t+fsoM4MWnHxzrkc2nftD+A7Ar/AKKmoyarod74j0zQrJI00rwv4V+2zqn9rWiN/RzX4O/8F6P2bfiL4p+BPwp/bp/Z00+5uf2pP+Cb3xIs/wBovwBback5vvGHw3sZtPf4zfDqZbXNzdaZrvhfTINYv9OjSeTVbTw7c6HFBL/bEiMAfu3c20N5bXFpcRpLb3UEtvPFIqukkMyNHJG6MCrK6MysrAggkEEV/kL+N/h1L/wS3/4LheM/hPKJ9H8F/D79ozVfCmmm+aWNP+FLfF0F/B+pagXVBcLZ+AvGmhazM6q8RvLESwbjHHX+rL+yT+0v8Pf2xf2bvg7+0v8AC2+jvfBnxe8E6R4rsYVnS4uNF1C4h8jX/DGptGqqms+Fdeg1Lw7rMIVfJ1PTbqMDCgn+F3/g8x/Y9k8J/GH9mz9ufwrpLwad8RtBvPgh8S9Ts7cQwQeNvBDT+Jfh7qOoXKndNqviHwtfeItMgc4ZLDwDbxgkIuAD+zP/AIJz/EFPFvwCh8NTTrJf/D/XNQ0cqWDSnStUlfW9Mmb+LyvMvb6zg3ZASx2IdqhV++a/l3/4IA/tWxfFv4dfCnxBe6mbh/iz8LbDSfEL3EpJPxI8CPJpGtSOuS6zXWrafrog8wbpYLy3kcMHRx/URQAUUUUAFFFFABRRRQAUUUUAFFFFABRRRQAUUUUAFFFFABRRRQBKnQ/X+gooTofr/QUUARt1P1P86Slbqfqf50lAG9HrMcSLHHabEQYVRLwB/wB+8kk8knJJJJJJJr+Xb/go78PP+Dj7xp+2D8U9Z/YT+InwN0T9k54vBEPwp0HxpJ8NX1u0WDwB4XTxodSi8Q+EtS1NpLj4gDxVPby3V3LIbGW1WBo7ZII4/wCmuiubF4PC46i6GMw9LE0XKM3SrQjUg5RvyycZJq6u7ep0YbF4nBVfb4SvVw1ZRcVVozlTmoytzJSi00nZX1P4kda/Z0/4PANVliey+Pn7P3hxI0KNBoafs/LFMSc+ZI2qfCnU5946fu5o0IxlCQDXlnjT9kj/AIO4x4d1nVPEP7S3woGnaVp15q1/Ppuofs/6fqK2mnW8t5OILvTPhJZ3oxFHIVhjuURzwRzX94NeC/tUeKR4G/Zk/aI8aG7WwHhL4H/FXxKb54GulsxofgfXNS+1NbLFM1wsH2bzTCsMrShSgjcttPlT4V4ZqJKrw9klXld4+1yvBVWne906lGT06a6WSVkkenDiXiKm37PPc4p81lL2WZYunddmoVop/Nb6s/hB8Df8E4f+DkL9tv4IvO37WvwE8W/Cj4xeBILi80Xxfr3hs23iXwh4w0e3uWjuI7T4H38ckc9lqUSvNBdExzkS2twWSOav5kf+Ci3/AATF/ap/4JffFTw58K/2nfD2hQXPjTw0virwX408EaneeIPAPizT4rhrPVrXRteutL0eU6x4fvRHb67o15YWeo6el3pl81u2matpd7ef6sH/AARV8UR+L/8Agnx+xL4gR2ea+/Zm+GVvqDmOOEy6lpvg7SNO1KQRRMURHvrKV4gNp8ooWRHyi7v/AAVd/wCCZ3wm/wCCoX7LXiv4AfEMQ6F400qW48TfBr4mW9tFLqvw7+I1jazxadfo7xNLdeG9YDHSPFuigouqaNcSPbvaavZ6VqNj4fh9Sw8MhjWp5dlOX4mriKixv9j5dhstw+IrU1HlqSo4anCLnCE1T5pc0rR3V7Hscc1a8s6dKpmGZ4/D0sPSlhP7Ux+IzCvQpVE+anGtiJzajKUPaOMbRvKyTsmfw8/8Gen7aVj8Gv20fij+yD4lCJon7W/g2z1Twffs7GSy+J3wW0/xP4js9MVZJ4reCx8ReB9X8ayXc4Sa6m1XQPDtnDEUuJpI/wDSvr/FE8M337SP/BI//goF4d1fxJ4Zn8J/H79kf4xafqOp+GdSeSHTtej0W7U32nLfJExvfB/xC8LXNxa2+sWCumo+GteW/wBPlImhkH9Y2sf8HtviWZbYaD/wTu0XTmVZRdtq37TF7rCzMRH5Jt1tPghohtghEpkWRroyh4wrReWxk+6PjD+/Wiv843xB/wAHpf7Ylz5X/CLfslfs56PtjmE39u6x8RvEPmStt8ho/sOveG/KSPDeajea02Rskg2nd4Lrn/B41/wVI1VYhYfDb9jzw35aTKzaP8MvidcNMZduySX+3vjRrSh7faTEIViRi7ecko2BAD/Tsor/AClfEf8Awdcf8Fi9bVF034t/C3wkUinjL6B8FPAdw0jygCOdx4l0/wAQp5tsQTCEVIWLHz4phgDwPXf+Dkn/AILU+IwqX37bPiC3xDLbj+w/hR8CPDjFJhhiW8P/AAv01mmH/LKdiZ4esUiGgD/XmpCQCASAT0BIyfpX+NXf/wDBZX/gr74/uxYQ/tx/tT3d9qYktorTwh421/RLu4e4gSEi0g8JJp0ouPKiVoZLZRPC4aaF0kZ3MfiT9r3/AILL/C228C/HL4pftBf8FCNB8LweItGfwf4w+K/xM+Ptt4T8QalZXUusWulaXd+Mdbj0nxHDJ/Zl3Nd6ZaNewPbQ3P2qHyS5IB/ss0V87fskftB+G/2rv2YvgP8AtH+E3g/sX4z/AAs8F+P47SC5S7OkX3iHQrO+1fQLmZODf+H9WkvdG1CNgHivbGeJwHQivQ/i38Xvhh8Bvh54o+LPxk8d+GPht8N/Bemyat4n8ZeL9WtNF0PSLJHSJGuLy8kjRp7m4lhtLGzh8y7v72e3srKCe6nhhcA6/wAQaDoninQtZ8M+JtK07XfDniHS7/Rde0TV7SC/0rV9H1S1lstS03UrG6SW2vLG9s5pra6triN4ZoJHjkRkYg/5iH7QHx9X/g3V/wCCw/xEf9gP4zeGPjB+z54nutO1b4s/s52Pia41bRdE0rUNUvjrfwR8bXtvHc2On+OvAV0Ly78BeJ7R9Q8QeF9P1HT9P8QpetN4m0nVvrD/AIKxf8HNfx0/bJ8VXf7HP/BK3RvHvhnwR401UeCD8V/DekawPjv8abrVJV06DRfhhoVjbnXfAOh6vPK0dtcwRf8ACfaxDJa/N4VBvtMu/v8A/wCCKv8Awa7+G/hRJ4Z/aq/4KW6NpvxD+Mk1xD4k8Jfs46nPaeJPBXge7kK3dvq3xYuPMvNO8eeMBOxlPhtZr3wnpUil9Rm8RXsyppQB/Wn+yj+0f4Q/a7/Z1+Ef7SfgPQvGfhnwl8YPB2m+MNG0H4geGtS8J+K9Lt75XSS11LSdThid0SeKX7Bq9g95ofiDTja674f1LU9E1Cwv7j6EqOKKKCKOGCOOGGJFjiiiRY4oo0UKkccaAIiIoCqigKqgAAAVJQAUUUUAFFFFAHjn7WHxC074UfsqfGX4ias6JpvhH4f+IdbvvMnS1U2WnwzXV7uuJf3cKrZxTyPK4ZIo0eRkdUKn+Mf/AINzPhxqGg/sM+LPjN4g8y41/wDaJ+PHxE8eSarOpWS/0fQprPwbExcoolRfEmh+LJ/MVmUSXUq8FSK/oG/4OLPjF/wpr/gkV+09qsV01reeK/BMXw5tmQEyOfiTNbfD0pCFPmeb5viqBw8fMEayXLMqwE1+V/w3LfsDf8EjPBVwsBg8SfB79lGw1mPTjDG73vxY8R+Gv7Xi0iG3ZGWWfWPiV4iTTbaFkkeeW7iRllkfDH9f1/X5B/X9f1+Z9q/8EP8Aw/J8Tvit/wAFK/22LyKQ2fxg/aYsP2e/hvczb5ba6+GP7Jvh0+CYda8PySNKkej+JfG2v+L7qf7M6C71DT5JrmFGihRP3j8e+O/CPwv8E+LfiP4/1/TfCvgjwL4d1fxZ4s8SavcJaaZofh7QbGfUtW1S+uHIWK2s7K3mnlbk7UIUFiAfkD/gmV+zLc/sffsGfsw/s+6rA0HivwX8MNIv/iJvujfPP8UvGstz45+KF016ZZzd/avH/iTxFOtwZpBKjqyttKgfOHxm0y9/4KP/ALR8v7N1oPN/Yg/Ze8Z6Hrn7Uerqn2jTf2ivj54au9O8TeDf2ZLFpB9j1D4efDa7XSfHHx0mUXttq3iBfCvw0ZF8jxrBagEX7CvgHxj+1f8AFvU/+Cn37QfhzUNEuPFeg6h4L/YX+EniSGRJ/gj+zTqlwt0fiTqekSsLew+MP7RCx2XiXxLfPbvq/hrwKnhvwTb6ils2t29z+wFMiijhjjhhjSKKJEiiijUJHHHGoVI0RQFVEUBVVQAqgAAAU+gAooooAKKKKACiiigAooooAKKKKACiql9czWlpNc29hdanNEoZLGyeyjurgllUpC+oXdhZqwBLkz3cK7VYBi+1W8h1D4peOLO8uLa3/Z1+MGqQwyFI9Qsda+BUdpdKAD5sCaj8Z7C9VDnAFxZwSZBymMEgHtNFfHXjb9pr40eFdUt9P0P/AIJ+/tZ/EW0msI7uTWvB/i/9iey021uHnuYW0yeLxz+194N1Vr2GOCK5ke30yewMN3brFeyTrcw2/Hf8NgftA/8ASL79t7/wu/8Agnn/APR10Afe1Ffm5eftm/tdpdTpYf8ABJz9ra5s1kYW0918av2B7O5lhB+R5rWL9re9jgkYctEl3cKp4Er9arf8Nn/tjf8ASJX9q7/w+f7Bf/0VtAH6WUV+UUv/AAUJ/ashlkhf/gkR+22XikeNjF42/ZDniLIxVjHND+0ZJDMhIJSWJ3jkXDI7KQTH/wAPDf2qv+kQ/wC2/wD+Fj+yP/8ARFUAfrDRX5Pf8PDf2qv+kQ/7b/8A4WP7I/8A9EVWbq3/AAUj/ag0Wxk1C7/4JBft4TQRNGrR6Xrf7LWtXhMjiNTHp+j/AB+vr6VQzAu0du6xoDJIVRWYAH650V+Lv/D1n9oj/pDr/wAFGv8AwR/Az/58VH/D1n9oj/pDr/wUa/8ABH8DP/nxUAftFRX4u/8AD1n9oj/pDr/wUa/8EfwM/wDnxUf8PWf2iP8ApDr/AMFGv/BH8DP/AJ8VAH7RUV+Lv/D1n9oj/pDr/wAFGv8AwR/Az/58VH/D1n9oj/pDr/wUa/8ABH8DP/nxUAftFRX4u/8AD1n9oj/pDr/wUa/8EfwM/wDnxUf8PWf2iP8ApDr/AMFGv/BH8DP/AJ8VAH7RUV+Lv/D1n9oj/pDr/wAFGv8AwR/Az/58VH/D1n9oj/pDr/wUa/8ABH8DP/nxUAftFRX4u/8AD1n9oj/pDr/wUa/8EfwM/wDnxUf8PWf2iP8ApDr/AMFGv/BH8DP/AJ8VAH7RUV+L6f8ABVb9oqR0Rf8Agjt/wUYBdlUF9G+BMaAsQAXkk+Maoign5ndlVRksQATXsml/8FBPj1NaLJrH/BKP/goFYXpZ91vp11+xtqdssYP7thdXX7WukTM7Ly6NZIEPyh360Afp5RX5p/8ADf8A8Zv+kV//AAUQ/wC/H7F3/wBGTXaaf+2t8Sryzt7q4/4J5/tw6XNNGHk0++0v9meS7tWyQYp3079pe/smcYzm3vJ48EYcnIAB98UV8J/8Nm/ET/owP9tYf9wn9nX+n7Rdd/bftOeIp0gaX9lT9p+zaZYjIlx4Z+HDNbGQKWWc2vxQuUYw5IkNu06kqfKMg2kgH1bRXkek/Fo6tqVhpo+GnxW08311Ba/btU8JJZ6dZiaRUNzfXTaiywW0AYyTyBXZY1YojthT65QAUVyd5eeOEup0sPD3ha5s1kYW0934v1WzuZYgfkea1h8FX0UEjDloku7hVPAlcc1x2v8Ai74s6OZBp3wisvFISza5VtD+IWl24lmXzcWCDxFo+gsLp/LTa8gSz/fR7rtcS+UAeu0V8K+Mf2nP2o/DAJ0b/gnX8cviBhYWx4S+Mf7KdoSZGdXQf8Jp8bvCILQBFeXnayyIIGmcOqfLniP/AIKz/EDwDCjfEH/gk3/wVL0+WO58jUJvAfwX+Efxh02yRnUrdRy/DT46eIdV1C3SCSOW4fT9EuDE4miRZjA7UAfsbXm3xP8Ag/8ADD40eH/+EX+KXgfw9410eO4jv7GLWrCKe80XVbdXFlrvh3VUEeqeHPEWmO5n0nxDoV5p+taTdrHd6dfWtzHHKv4ty/8AByB/wTf8J3sVh8dj+05+zJdSRjdF8df2WfjLoEkN4wnKadJD4a8M+LLg3jrbTMojhkgIjc+f+7k2fY3wF/4LCf8ABMj9pieCx+EH7aPwQ1nV7m3+02/h/wAR+J/+FdeJpovNgg/d+GfiLb+FdeeTzbmCPyF04zbpAPL+VtoB7vonwj+N3wdXyfhP8WL34o+DIp3kg+Gf7RGranr2s6ZZlHSDSvCfx4srXUPHltaQSytfXNx8VNF+M+t6g0Uem22u6HZsktt3mjfGvw5ql43hL4i+F/E/wr8QX0sekppHxE0yCLw34gn1OWSzsdP8OeP9KudW+Hfia91tVmlsfDVj4lbxf9iVpdV8NaY6ywR+0WOo6fqdtBe6bfWeoWd1DHc211ZXMN1b3FvMiyRTwzwPJHLDKjK8ciMyOrKykgg0t/p9hqtldabqllaajp19bzWl7Y31vFd2d3a3MTw3Ftc206SQzwTwyPFNFKjJJG7I6lWIIB/ON+ydZv8A8Eff+Cg/in9hrxCbmx/YY/b58a+IPi1+xB4ouCw8NfB/49XsUl/8S/2ZL/UbiQW2l2XiOKG11n4X2kjQLeyLaaPZHWvEOq6xNbfcH/Bb79jtf23/APgmZ+038HdO0tdS8d6R4Pb4p/C0JCk19H8QfhjKvizSrLTS7okVz4msLDVPB0szZ8ux8R3ZVS+0j6d/a7/Yh+DX7YP7Ovib9nfxpZXfhvSrq80rxP8ADvxb4XlFn4n+DXxI8KvDdeB/iD8MbuQSr4T1rwpqFtDJaQaOtnZXNhPquk3UEmn6zqcNz57+xP8AHH4n+OvDvi79l/8Aa3sdO0v9rf4F6bZeH/iVJp1tJZeFvjj4C1O3l0/wj+0R8NA9nYW174Q+IlvbXVv4h0ywgVvA/j6x8R+EdQtbRLTTZL0A/gY/4Nvf2nrzwbq/jf4PX189vrPw38Z6P8XPCltM8puV0m/uLTw/40t4lOPIt9K1C00SfyARuutfuX25Mmf9Nnw/rVn4k0PSNf05xJY6zptnqdqwZX/c3kEc6qzLgF0D7HGAVdWUgEED/LD/AGu/hfcf8EoP+C3kmuxWqaL8Gfix441DVkdI5rXRrDwl8S9VuNG8c6azMpijj8D+LZJ9ch06F2+y6Za6IpVEmRa/0bv2APiYnjv4Gados9ws2p+Cp30mQfLvbT5meexlY7i0jtmVmYqAqPCuTxQB9y0UUUAFFFFABRRRQAUUUUAFFFFABRRRQAUUUUAFFFFABRRRQBKnQ/X+gooTofr/AEFFAEbdT9T/ADpKVup+p/nSUAFFfAvj/wD4Kn/8E4/hX418T/Dn4j/tr/s3+CfHfgvWb3w94s8JeJPip4V0rXvD2uabM1vf6Vq2nXWoR3FlfWc6NFcW8yLJFIpVgCK8y1z/AILY/wDBJ7w8tu9/+3x+zfOLlpFj/sX4gad4iZTEELeemgf2k9qCHHltcrEshDCMsUYAA/UevyZ/4Lp/Gm0+A/8AwSU/bo8Z3NybaXW/gb4h+FWmtG6pcPqnxomtPhNZC1yQ5mhk8Y/ai0OZoYbeW5Tb5Jdal3/wXi/4JEWVrc3k37dvwVeK1gmuJUtb3Xb25eOGNpHW3s7PRJ7u6nZVIit7aGW4mcrHDG8jKp/jQ/4OYv8Agub8G/28fDvw/wD2QP2OPEmo+M/gd4V8TwfEX4p/E86LrXh7TfHnjDTrG6sPC3hfw5Ya/YaVrk3h7wumparqOr32oafBa6xrkulSabG9tosV9fAH9SH/AAbQ/EWHxP8A8Exv2UPtOoQs2neGvEvhqKICaNohoPjXxZ4aWCRbly6sZNKSQOMwTZ822CwyQqv9GN5ppuLl5IZrdfMAYxk7WDAAMcIG3bjhi3BLMcjuf8pH/gk//wAHAFz+wV8GNF+AHxO+FvirxR4V8G3uqXHgrxv8PdXsx4hs9N1nXb3X77Q/EPhfxJNa6drJt9Q1S8l0jV7DxHoa2FlBa6Xc6PqW2G/tP3E8M/8AB4N+y/pks3/CQ/CP9pfVjI7PHcDwl8MUuYUJJSHbL8WiJYwNo3GWNlYMwBBVF/Esozvivg/H5nkOP4GzvM8FiM9zfMcszvI3SzDLnlmOx1atg6eJUZRxeFxdKhKlRrUKmEhTp1IydOdTD8lWX6/meT8M8VYHLs5wXGWT5djMPkuVYDMcozhVMBjlmODwdCji6mH5oyw2Jw1SsqtWlWhipzqQlFThCuqlKP3j/wAHNf8AwRNuf24vgbJ+11+z54YhvP2rP2f/AA5dza5oOh2hfVfjb8I9NWe/1Hw0tvFCs2peNPBu661rwb5TPd6nZyaz4YS3v7y/0FdP/ge/4JM/8E5pP+CoX7Xmnfspt8Wj8EZ7/wAEeL/GJ8ZyeBj4+Nu3hFLKa40yTw6fFngtt91Dczbbj+2FMMsCxtbusrSRf1U/H7/g9AsrHwxNZ/spfs3+J9Q8W3KtFDq/x3u9I0vw3pf7tWFxP4Z8G+IPEt3ryNJvhksY/EXh1jG3nLqCuPJr8xv+Db3x38Vv2j/+C7mnftHz/Dn7Db+MbH48+L/i1c/CXwPfaJ8LPBF3418BeKbq3fVbXS1udJ8I6FrXilba00qDULpYLrxBdWVtbeZdSxgfrGU5lWzPDvEVsrzDK/e5YU8whSpVai6yjSjVnWgk04/v6VFy0lBTg1I/M80y+ll1dUKWZYHMrx5pVMBOrUp03paMqsqUKU5STv8AuKlZR1jNxmuU/cn4b/8ABln+x7pdtaJ8W/2t/wBorxreJBCt7P8AD/RPhz8Nre4uFS4E8ttbeINE+KElpDJI1q0UEt1ePCkM6NPM06SW/wBeeCP+DRb/AIJK+FIrePXbX9or4jvBLaySTeMfi7bWUl2lu7PLBcDwJ4T8FxLFeqRHcm2it5kRVNpLbSZc/wBOmmT6jcWvmapYw6ddi6vovs0F79viNtBfXENjcrc/Z7U5vrKO3vXgaFWtXuGtWaRoTI/wh+2n/wAFB/hT+yB8Efiv8Q9Rju9Y+Ivg7SL6H4e/CnxHp/iHwDqnxZ8ZNqVh4e0rSvBl54l0O0/4Sbw7ba9rGjt4u8WeELfxHpXhPw9dt4g1ORLHyXm9Oc404SnOUYQhFynOTSjGMVeUpN6JJJtt6JHBRo1cRVpUKFOpWr16kKNGjShKpVq1aklCnTpwinKdSc5KMIRTlKTSSbaR+LniL/gi/wD8G/v7Nmt/E7xH8Sv2e/CFr4E+CMHh7w74vvfEXxV/aQ+I3jm7+IPi3SV8cxaVF8PfD3xH1ae4sdE+Hs+l69t0/wAA6td6lp1/quqm503T/B+tXF7+IH7QHxh/Y5g/aVtdS/YD/Zv/AGZvhp+zn8M9c07SNNn8Y/sQfCzxrr/xe3aHpeua14q8Rv8AtGeApPi14f0+z8R63qPhvStA8N6j8NdSudE8OzXz+JbgeJNIk8J437Tn7d37R37YWvX+r/F2L4feGtN1a9t/EV94W+Gtp4ksdF/4SweHvDPhS/1FH8RazrWpSWeoaB4M8J28+n3F/NZx32hRalaW9rPe3Yf5Jr86zrjGp7SVDKZQVOLpyWM5bynJPmnCNKtT5VD7D5o3lZtWTV/7P8Mfo2YSWDp5t4h0cQ8XWWLpPhtVVSpYenJOnh8RWx+AxXtJ4la16cKNVUqd4wqqc4yUf7Mf2M/+CuX/AAT70r4S2Vh8RPDnw3/ZV+Kun30mieM/h58Mfhxf694R1s6LY6dHD8R/B158LvCWsFPhvq9rd239nz+LoNG1rwxOs/h3xDbW91YpcXnY/ta+Jf2Af+C2P7MPxg/Yl+HPxY0Pxr4o8beGfE+vfBrxsPA/jrT/AAla/Ez4ZzpLpHiv4cfETWfCem+EfGq6FrUi2fiCD4f+I9XvNT8IT+LbNfM0tNZeD+JFdSsvtl9YLeWovtP0qPWLqzN3bR3v2C4vRp9u1tYvMt7fyXNysyxW9hb3MpS1uZXRY4Wav0I8JfsDf8FOvhn8Cr39vb4W/CL4w/BzxL8D7fTfib8OdF07xD4XsPjV4v8AC2q6RqNvrWt+G/htpWpeL2u7O00HUJD4n8A/FHSPDesan4evdVgg0C+vYxpl16OWcS5rjpUYyyapOm+WVbEUXJJ025RdSlTqqEJe8le1aSVpLdq3wvHngpwLwrSzGpQ8TcFQxtL28MFkmaUKVTESxdOOHqLCYvGZfVq1MPKNKvGTlPLIc3tKbapwVSa6r/gjv/wXI+Df/BJ/9gb9ov8AZR/bG8L+LLT9oT9lT45eMvDHgD4T6PZadH4k+I2peIrm/S88Iz3n2iaXRT4D8Y+HfEcfi/xZ4it4tJ0rw1qXhiw0B/EGrC30E/jl8Zf2l/8Agql/wcpftU6X8KvBehapdeCNP1aLUPDPwc8JXWpaT8B/gf4caV7FfHHxH1yRGt7/AFS2tLi4+3eMfEi3et6jc3N1o3g7SrWG8sfDi/uT+1L/AMEGPiF/wV6/bO+Ef7VuiWtv+yz4O+NPwX+FnxB/avvNcn8FeJ/+Ep8VtpFvpl38RP2e5vhZ4p8ceBfFWn/EOwsIY3t9b8R+Hdc0C9sf+Eu8XaJGPF2i2mq/2EfsQ/sGfsyf8E9Pgto3wN/Zj+Hmn+DvDllDbTeI/EVwkN944+IniCOER3Xizx/4nMEN54g129kMjjeINM0m3ePStA03SdFtLLTrb7Y/mY/O3/gj7/wQf/Zl/wCCWHhOw8YSW2n/ABk/ax1rS/J8ZfHXXdLjH9gi7hdLzwx8KNIujcf8Id4cSKWS0vdSjkbxJ4n3Szaxfx6c9joWl/uxRRQAUUUUAFFFFABRRRQB/Nj/AMHIaS/GSw/4J6/sY2SreD9oX9rT4dP400ohJRdfCjwXHqPjDx/eSWznZcrpdp4dsbtYZV8mQCRHdCQR3nxD+Es37SHx+/ZU/Z3e0e68DD4pWn7Q/wAX45I5W066+Gv7M95onivQ9FukVorS7/t744at8GLCXSrmUi60Ma9dJaXcWm3CJzv7Wto/xy/4LMeALiVBfeGP2Jv2T9Z8R2s0aoY9P+JX7SWtnwZpkM7qQXuU8HfDXx/iN9720N9E6eUl6fN/Zv4BfA/TfAN1qXxEv2M/jTxl4Y8OaLeI8ARdE0XSbzW9Zt9Ph815po7+7vfEE51uaFrW3vF03RbeSzMukrdXABH+0X4l+IOq6da/A74Hap/YPxZ+JVncWk/jxLKDUrX4IeAJUmtdd+K1/aXaPp11rlsFbR/hr4cvRMfEvjWe2uJ9PuvCfhvxpf6R6d8Gvg/4F+Avw08KfCf4caUdJ8J+EbBrWzSaea91LUr26uJtQ1nxBr2qXLSXuteJPEmsXd9rviPXNQmn1HWda1C+1K+nmurmWRnfELx18PPg7o+sfEHxeJdNimit49SvNA8Ka94r8T6umnRTNaWttofhDR9b8Ua89nFJcG1s7DTr2SLzpRDEGmYP8Ha9+3x8d/HW+z/ZL/4J6ftKfFtnaM2vjn47ron7HfwuNvK4VLyc/GRk+NzxFd0oi0/4F387RhG2KkokUA/T6s3VNZ0jRLO51HWdU07SbCziee7vdTvbaxtLaCMbnmuLi6kiihiReWkkdUUckgV+OuufAv8A4LSftCN5PxA/bG/Zp/Yg8ITs5uPDf7KPwf1f45fEi70y6Qxz6Ve/Fn48XGh6HpOpxRuTHr3hn4X20ttMMWiF0jv64vQf+Dff9inXtWtPFP7Vnjz9qv8Abw8ZW1z/AGgmt/tX/tF+P/F+nQagxjLfYfCXhO+8GeF49LhVDbWOjX2malY2tj5VqyT+RHIAD7a8e/8ABUr/AIJz/DTUP7F8Wftq/s4ReIPto04+GNC+KvhTxd4rS+M4thbSeFvCWo634gjlM5MW19OU7lkH/LKTb1WjftyfC3xnp/234Y/D39pb4lPKscmnpo/7Mnxv8I6Vq8MhwLnSfGnxV8E/D74fX1uGwjTw+LTGrbgW/dyFPUPgz+yr+zP+zrpUOi/Af4A/B74P6bDCIPI+HXw78KeEmnXaFeS9udF0uzub+5nK+ZdXd7NPdXcxee5mlmd3b2DWfEnhvwzYTal4g17RNA0y0RpLi+1fU7HTLK2jQAs81xeTwQxIoILM7qoByTigD5o8IfGT9pjxprwgb9kLU/hj4WIhb+1vjD8afhrY6+q4T7UreHfg9N8bLDzlO/7Eg8SmO5URm6m09mdYvrMZxz174ORn64GfrgfSvzw+Kn/BWv8A4JmfBY3EXxE/bn/Zm0q/tFZrrRdL+LPhPxV4itwrIpEvh3wnqOt64jEuNiNp4eQLIyKyxSFPzd+Jv/B1L/wRx+H/AJyaD8bvH/xZuYPMWS2+HXwa+IKZli87MUV7490jwPplxvaJVjmt76W1czwsJ9nmtEAf0Y0V/FV8Sf8Ag9R/Za0uC9Pwh/Y4+O3je5jEv9nxfEHxj4E+GsFyVllWH7XP4fb4pSWayQiGSQxW16YpJJIgJVjWWX4Q+If/AAel/tO66lxb/Br9iX4O+EL+5ZotKPjzx145+J6xyyzyC2Se08N2Hwulv38toIWjgnsmmmR5E8sSrDEAf6IlFf5hfif/AIOff+C5fxS8xvh/4N8B+B1uZCIP+FY/s3azr6xGS5nEcVsfHV78QTJtY/ZIxMZ3ZbdQ7PP50knhOt/8FdP+Djj4qWwtb/45/G7SIsRxbtL+E/wj+EVwNzTMoN3o/wAPfB90HBDiWRpt6KIlnZV8oUfrsH6bn+rSSBySAPUnFQtc2yffuIE6/eljXp16sOnf0r/I91Lx/wD8F5vioka+Kv2t/wBqq1sRFCRa3f7VXiPTtPkXL3CS3GkeFfHEqPcwuwUvd2P2yMvHEPlTanOx/sI/8FIfi6QfHX7SmtauszXU08Hib4rfGHxZfs+oxb7qTym0e+spJLyXEN40uoxNKRI7GZVXeAf62Xif4n/DXwVHJN4x+IPgnwpDDBHdSy+I/FOiaLHHbSzNbxXEj6lfWypBJOrQpKxEbSq0YYsCB85+Kf8Agof+wL4HaRPGf7bX7JvhN4boWMq+I/2hvhNorR3rRvMto66j4styty0UUkiwECUpG7BSqkj/AC7tN/4IcfHvUWBvvi1oFpE0a/vW0nVJSJSRuRobrVbKbywSxWQIWOPmiQnA72x/4IG+PyY21j45Wk+9cm10zwNdST+YwQBlmuvEghaMMzLlxEX4YFRkUfj/AF5h+H9eR/oh+Kv+C4f/AAST8HrK+rft8fs73Yhtrm6ceGfGkPjJmitQxlWNPCUGtPNcNsP2e1iD3N0SotopS6g/NXin/g5q/wCCK/hZpoD+2ANfvIDBm08M/Bj48asrrOquHi1JfhpFosgiVgZkXUzLGcxmMyKUH8Rekf8ABBjRYmhTXfij45uXCP54sNB0XSt75bZs+2S6l5AX5cgm4Eu1isiblrs7X/ghB8N0MLjxZ8StRkVnWSC51zwxZQzE7whCW3hWW4XarIQq3Jy6klypMdHTb5aX9N7fjbzDrv8APW3rtf8AC/kf1Z+KP+DuD/gkfoFwYdK1n9oDxnH9puoPtXhz4QSWsBigcLFeBfFfiHw1cfZ7wHzLdTALpVBF1b2z4Q+S6t/weTf8EwNPvbi0s/hF+2frkMITytR074b/AAigsbovCkhES6r8ddN1BBE7mCQz2EX7yN2iEsXlyP8Az0eHv+CEnw8d4Yrjw54lvUjZna61XxdfwJcIWYhHbT7TTYiiqVUG3EcnUbmZSze8aB/wQm/Z10+OKfXfAlxfOkqyhofEXje4h4ZSIpD/AMJTaRSx9CA9uA+Srh0yAr6dna9r/wBbdw67/Nfnrb8bH6jax/wej/sSQWbPoP7K/wC05qV+JEC22rT/AAx0e0MRJ8x2vLTxjrcquowUjFkyuSQZExk+Xa5/weufAuCWAeG/2HPinqkDRsbiTWviz4V0OWKXdhUhisvC2vrMhXlpHmgZW+URsPmrx/wj/wAEVv2SLSzR5PgVp2oSzIgla9OqTjMbMq7G1HWrtYtwbMnllXfKmRiUBH0V4J/4I+fshWggubj9mv4ZmCxdSDqfhfRtWaZlZmUTJqFvfxzquQGN00ySZ2MjYJV+v9fkB8+6t/we4Ju1CLQf+CcjugFwml32q/tSCNidrC1uL/S7T4BSAANseezg1YllDRJeqSJR5frX/B658arm3hXw3+wh8ONMuRNmabWPjF4n1yCWDYw8uK3svBOgPFL5hRvNa5mXarJ5JLB0/V3w7/wS9/ZAskdrD9m74I2cchjWc2vwq8BxSXDoG2rIYdCRpShkJXlQm87FwxWvaNG/4J8fs/6dFaLpvwa+H2mxWQR7RbXwHoNmtv5bblFulrpCCAo3KLFtIPQ7gTQB+Auq/wDB6R+1rcWUsehfsbfAnT9RLRmK61PxN8QtXs41DgyCSxtbnR5pGeMMqMt/EEYhysgUo3Myf8HhP/BTPWLdk8N/sjfs1m4vI86ZOPBXxt1mMsw3RuYbX4lWn21CASVhlgLr911+9X9NGmfsleANEEw0fwboWnCcJ54stAW188xhvLMqw2aI7JucIW+7vbBUMRW6v7N2ixx4i8N2OCM8aam5gR0+eLGCOMED+eT+v6/ED+U6/wD+DsX/AILM3iSLb/s2/s66WXjdFex+AvxtkaJmBCyRjUfi1foXjJyglWRCQN6OOD5Rc/8AB0B/wXGnkZ4/D3gS0VixEVt+zjfmNQTwFa5uLiXC9AWkJx1JPNf1+3P7O+l2wyfCEUmV3Ex6VYkKOMFg/lHBByMcEdxxnn7v4A6aql08FWkqgHCppNmko78qJtjHjg7myew6UAfx3y/8HI//AAXb1a8C2+qIJZpHEFnp37O9qgUOzOIoo4tIaWUIPlQytNLsUb5GIJOVe/8ABwV/wcAyXDzL4s8ZadHM4EdpB+zVoBgjJAASJrzwTc3LBiC37yeRskgELhR/X5cfBzTIQyx+F57Rxkjy9Ks07gniOZC2AMZO4j888dqPwqu4zLHHoOpSw5yssGl2quFwPlYSbgSWDAlAQRgZAPzLXt8l/wAGwH8l6f8ABf8A/wCDgmQ4j8Z+PJCeAE/Zm8MsScZxhfAJPTn6Veh/4L/f8HC1qWKeKfHh3hcif9lnwpcDGNylRcfDqQLkNnKY3AjOQBj+qiy+Ar+JJngg0ya0dSGJudNsY5E2gAP+48uRlVtuSSFXkHnFehwfsua/pUa/ab+3v4lCgW1xbxBYIyMiJcxIrseNpbheMMxABYH8ktt/wcG/8HEEbsYPEnjGRivIk/ZG8C3IC5HOyb4YyqvOBuAB7Z5rTP8AwcLf8HDpOWvfEhY/eP8AwyN4TTJ7nanw9VFz1wqqo6AAYFf1fXfwIsx8ha8tJwPuW8NsYd2MAMgjBjycE4UALz8zNmuDvfgJc3kxawt7yZkUpODNZQnzEIU/K1uFBJJGN5JIwMt1AP5Yrr/g46/4L82M0lve+Kby0nibZLDc/steCoJY3xu2vHL4EVlbHOGAOOelQj/g5C/4L5EZHjCcgjII/Zd8D4I65z/wguMY71/UkPgNeKB5tk+ckHzrq2DZBPXZEFyBwAD06jNPf4GwKuyaBHTg+W0EU24H5SPndT03f8swoHckkEA/l3sv+Dmn/gup4Wd73xBrmhapaTqLWKPxN+zZ4esLOO4Y+arwS6RoOhTNcGOKQCOW4ljMfmN5O5Q6tvP+DsD/AILGafL5F/rHwaspyofybv4IWlvLsYkK/lzagj7SVIDYwSDg8V/TRq37P2hXewQaNMswBL/Z7Dajlvu4W1ttu/cCACwO07S2MEZjfsr6TcDfNb6hBtyxiOmRzsdoJB8uSI4PO0KzsSOGGc7j+n/XTdAfzlaR/wAHef8AwVl0yzFte6X+zPr0yyO51DVvhJr8N2VYjETJo3j3SLIJHjCFbNZCD87uea7LSf8Ag8f/AOCo2m28kN78KP2NddkeYyLdar8M/izDPEhRF8hF0b446TbGIFTIDJBJNudwZSgRE/cvWP2LPBM8c4uPAVhqkd0C80U3hHRZJLnzCHZ5Rcackbl3Jdw0jsTkH5q8e1r9h74I3A+z6z8D9Fn2OWhjvvh3oKqGGA7wsukMmMHG5CwxxwGNAH52+G/+D0T9uO1ewPi79lz9l7WkjjkGpr4f/wCFo+Gmu5TFIInsm1Dxz4oFgiymKR45l1BnjSSNZI2kWWP3Tw3/AMHsvxOtUtB4u/YF8Da06SyG+bw98d9d8NrcQlnMSWqaj8NfFJtJEUoJJZXvFkKsyxRhwqev3/8AwTz/AGXLu4e5u/2c/h/NdSKFaa7+F3hO5mZQoRcyXPh2Zm2BQqZ6KAM4Fed6j/wTE/Y+ningl+A/hiETY8wW/hbRrSRArhyYpYtOtp4MsgDeTKhKloyPLZloA9V8N/8AB7R4Auhb/wDCXf8ABP3xbopa9SO6Hh/9oPSPEgh08tH5lzAdQ+E/hf7RdqhlK2cgtoXZI1N8gkZo/pnwv/weefsA30llH4v/AGcP2sPDomjUX02i6V8KvEsNncMVBEf2n4l+HZ7q0TLM84giuNq/u7KR2CV+ZOsf8Ejv2MdczC3wbCGVEjI0q71rSZAIpPNDK+keINMdGJGHeNvMdAY5GaL5K4PVv+CIf7ImpbxYeDPFGgo6xhWsvEviyWSMI4Z3X+1PEeqBpZB+7ZWj2BPuJHJ8xAP6LvA//B2D/wAEevFc1lFrvxN+Lnw3S6UNPceMvgt4vvYdPJuo7cpdjwHF41ndlidr0mxgvF+zROqsbox20n1j4I/4OGf+CNvxA8r+wv25fhzY+czKn/CZeG/iV8PcFXeMmT/hPPBPhzyVLISrTbFdCsiko6sf4s/Fn/BB79ncyouk+NfippDytMUht7ywnCNIVESSrf8AhbUJGhiYN5e14pHU4kmclXryvVf+CAvgvYx0r4+eJrWQ8Rx6h4YsLzayH94HffowcNghGUJtJXIcHJAP9GLwh/wUu/4J4+Po7aTwd+2/+yr4g+1sUt49P+O/w2luJJFgFy8X2Y+I1uEmhgPmXELxrJbqG89IyrAfVvhr4ieAPGVpb3/hHxx4R8UWN2SLW88PeI9H1m1uCp2sIJ9PvLiKUqQQQjNggg9K/wAoDxN/wQX+JVib5/CPx18N6qsbObGDVfC15psjkltkNxPpmua1tYLsVpYbZ2cln+zRjCV5bD/wSD/bm+HepjUvAPxK8IWN5G0bW1/4a8beO/DerDYnmCQvB4athD5c26OPZfuxJWTCBmCAH+vVq2gaB4isLjTdc0bSNc0y7VUurDVNPs9SsrlFcSKs9tdQzQTKsiq6iRGAdQw5ANfnN8Z/+CNn/BLn4+m5m+JH7D3wAn1C8Cfa9b8H+CrT4Z+IrkxmUq8/iL4bP4T1uWT96waSS/aR1WJXZlghCf50XhXTv+Dhj4FIk3w9/aB/agl0e0CR28Wn/tLS6/oaRgyxolr4a8YeNXjaEm6eR0h0Yxq/lzTqskMLJ9JeEv8Agtb/AMHJnwNRbHxPD8Qvidp1kpfPjX9mnwx4wtootkTH7R4n8B+EdM1CdP3gxJea5M4k86JZN0MkcYB/V3qv/BuD8J/hfONY/YG/bd/bf/YT1iO5eaLRPh58Zde8X/DOWCW+W+ltdT8F67fWOqavCXVQINQ8XzWcpVJb20vJQXbL1nTf+Dkf9iiNZfDfij9l7/gq/wDDLT5WkubfxF4csv2c/wBof+xNOhiUWunrpOr6B8P2u54d0gub288fa7ezwSq0NxdTwif8C/Av/B4p+3d8NrqC0/aX/Yg+EfiNYXWCaHww/wAT/glqtw0Gw3HmSeLJ/ifax3bxOjSeVpkcMckgkW2WJlhH6U/Bj/g84/Yl8UGC1+OX7NX7Qnwjvp2VHuvB9z4L+K3h+0YsAz3d7cat8P8AXPJRcsWs/DV5MSNogOcgA/Q/4V/8HDvwA0jXdC+Hf/BQL9nf9pT/AIJr/FDWrh7C1j/aH+G/iaX4SaxqEc4t2Hhj4s6boVpBqGlq4d5PEOs+GfDvh+OFRO2pmFhJX7ArafBz9pnTPh58b/g/8RfCHibVfC8l7qHwv+NPwz13QvGOnNpmrfZofEvhm41PRb260zxT4B8XQWVpaeK/C0979muLmw0jX9MuNF8ZeGfC/iTQ/wAr/Av/AAXq/wCCM/7XGinwXefHH4f61Z+I7b7LqPgP45eE7bwnbXnmxu0ml3un/E+303QdVkIV4zDaXGo287kJBJNvTdi6V+xF/wAE77LxF/wuf9h74i/FL9hTx5rzNqLeLP2SfE0emfCvxK0EjPZw+KvgZqVr47+AvinQFuIgstjb+ArWaWIiOLULOaC2ntAD84v+Dn/9g5/j98JNQ+I3hPSPO+JHwtjm+InhX7HCJrzVtMmsHfxh4dh2I9wx1UaXqeo2lvDE093rVhodp0lLv1X/AAbd/tsL8Y/hN8N7bX9VWbxBcaO/wm8dLNIZbkeN/BlvbQabfXHCE33ifR/7D1q5cqkcT6jcwxD92wb9pvG3gD4lfGb4Dan4f8f+O/hn8Y/G/g/T7j7B4/8AAuj3vgTWPGGiCN7j7b4r+Fuo3OrjwzrFjPbaU1zLoviXUdI1u7bV7rTdF8Lw3EOiw/xg/s62Go/8E1v+CnWo+BdPW60v4E/tcX8vjb4aswjtNL8JfFvwvc3eo6r4JjlYRW9mLm3utT02wtreJJ7i11bwfp3+kz2MkqgH+kLRXGfDvxhZePvA/hbxjp8kctt4g0az1ANDny1nkiC3cSbiWxDdJNENx3fJzzXZ0AFFFFABRRRQAUUUUAFfnp+3F/wVD/Y//wCCftlpNl8c/H13qPxO8VRI3gL4DfDPSZ/H3xv8fTTzNb2kXh3wHpMn2uC2vblJLS01nxBcaJoE15G1muq/asQnl/8Agq9/wUP8Pf8ABN/9lfVPiwlpo3iH4u+Otcsvhd8AfBGu38WnaR4k+KXiS3un02+8TXst3YR6b4G8H2Nre+K/Gmq3GoaXawaNpclh/athfalYSn/N4/a//ahv/FfxK+IJ8FfEu5+KXjDx+8s/x/8A2rpbTVNL8dftEeJdY06zj8QaDosmr21jrHgD9nfwqU/4Q/4d/CnRrXQ9M1Xw3oml674y0+9vzo2leF/HznOsNk2HVWsnVrVHy0MPCUVOo7NuTvdwpRtadTllZtJKUmkfofh14b554jZtLAZbbCYDDRVTM84r0qk8JgqbaUacVHlWIxla/wDs+EjUhKoozqTnSo06lWP9C/7R3/B27+0Lo/iDUtM+An7CnhHwjpFm8a2V3+0B8UV1TxrdLLIkixa/8N/AcmlXXgrVUtS4vNH1HxHqMmnzxtHdXYuGjs3+V3/4O8f+CjSKWH7KH7KcuMfJHdfEgO3PRTJ8QVQH3ZgPr0r+Yskkkkkk8kk5JPqSetJXwU+OM0c24YfBQhd8sJQrTajfRSn7aPM7aOSjFN6qMdj+sML9F3gWnhoU8Xm3EuJxXIlVxNLFZfhabnypSlSw7y3EezhzKUoQqVq7jdRlUmlr/YP8LP8Ag8u8XabeWdn+0T/wT9uU0syKdU8U/CD4svdTWVuJdsz23hLxJ4RmtbyQREtGtx4705GdFUyBJw8P9Gf7Av8AwXW/4J0f8FEp7Lw38Ivi+PAHxXv52trT4I/G+PSfh98TdQmAZ1i8PWR1rVvDnjGd4UluGtPBniTxBeW1vFJNe21siMR/li1z2peGNI1KWO7a3NlqUEqz2ur6a7WGqWtxGd0VxDe2+yUSxN88ZcuqvhguQDXo4Pjq8oxx+CSi7KVXCyend+xqt3XXSte2iTe/x/Ef0V+WlUrcJ8STqVYpungM9oQSqtK6isxwMIxhJ7RUsvcW2uapBXZ/tw9elFfwj/8ABB7/AIL8ePfCfjTwB+xD+3h8RNX+Ing3xY2i+Ffgn+0j4ut0TxH4P8V3ki6ZpXw0+KesrqF/c+I/DGrXAsLTwz8RNZCaxper3xsPE9zPoc9re+H/AO7cEEAggggEEHIIPIII4II5BHWvu8JjMNjqMcRhK0K1KW0oO7Tsm4zi7ShNXXNCajJdUj+Vs/4dzrhfMq2U59l2Jy3HUW70cRC0akLuMa2HqxvSxOHm0/Z16E6lKdnyzdnZaKKK6TxSVOh+v9BRQnQ/X+gooAjbqfqf50lK3U/U/wA6SgD5j8UfsUfsceNvEOseLfGX7KX7OXizxV4hv7nVdf8AEniT4KfDjW9e1vVLyQy3eo6tq2peHLm/1C+uZWaS4u7ueWeaRi8kjMSawf8Ah3/+wn/0Zj+yv/4YD4V//MrX11RQB8i/8O//ANhP/ozH9lf/AMMB8K//AJla/OH9uP4zf8EH/wDgndDcWX7T3wo/Y58L+Of7BtvEek/CfQv2ePhv4r+KWv6bqE2oWul3Gm+ENF8H3N5bWep3ml31pa6vrUmk6Ek9vJ9q1S2jUvX7sV/Fp/weOfsQf8J/+zt8Gv27PB+jM/ib4Ca//wAKq+K2oWUKCef4VfEi+RfCupatckeZ9h8K/EJ00WwgjZQ1x8TL1pUlXBiAPw0/bw/4OGPgf8QzrXg39gb/AIJq/si/AfwzMJ7Wy+LnxY/Z4+Cnjn4rywl5PJ1LSfBsfhi/+HfhO82GNZLTV2+I8AIdo50ZlMf8yni3xh4t+JXiW61/xLfTa3r2sXjyeXa2VrZ26zXUpYWmkaJpFraaZplqZH222maRYWlnCCsVtbIoVR6l+yz+zZ8R/wBr/wCP3wz/AGbfhGvh5viN8WfEMPhrwqfFfiTTPCugR3zxS3csuoatqjpEEjsrW6eGxtFuNV1G4EVlpNlqGoTW9jcf6fv/AASY/wCDcT9kj/gnPB4d+KnxLtdN/aU/astFstSHxJ8W6NA3g74caxGROY/hP4OvPtNvpt1YzeWkXjPWzf8AiiWW2+2aVJ4bgvJ9KUA/lh/4JJf8GsP7QP7WK+HPjZ+3AniX9mr9n+9Fnq+jeBDFFY/HL4kab5yOFOh6jaTj4b6DqEIlCat4mt/+EjkjSOWw8LSWGoWmsxf6Hv7LP7IP7Nv7FXwv034O/sxfCTwn8JfAmnt581j4esidT13USipJrPirxDevda/4q1uZESKTV9f1HUL77PFBapOlrbwQx/SYAAwBgDgAdAPSigBrMqKzuyoiKWd2IVVVQSzMxICqoBJJIAAJJxX+dZ/wVb+NWk/tJ/8ABTX9p7xDYfEbRvi58PfhFrXw6+H/AMFrjSfFWmeMfC3gexsPhN4Rl8fW/heLTdQ1LTNC1e7+J1745g1+6t1tNVvXtore9LW1taqP7R/+Cq8/iS2/YR+NM/h+Px1Pp8d98Km+JNv8NLPWb/xxdfAr/hcfgAftB2ugWvh549elubn4IHx/BN/YzHU0tJLiSySS4WNG/wA7nwpH4Ri0eNPBFjpmm6AtzdpBY6XpqaRDa3CXEi3cFxpq29rJZ30dwHS8gubeK5jnDidA+a+N40x0sPl9PCxhV/22TTrQk4wpxoypydOdk+b2yk0oc0bqMm7pOL/pP6MvC2HznjLEZ5iMXl//ABjeHjVp5XiaMK+KxlTH0sTQhjMLCdSPsY5bVhSnUxPsq3JUr0KcVTnUjVh0ZIHUgfU4qHwpb+KPih8QtG+DXwS8Ha/8aPjR4mnFpoPwy+H9sNZ1zezxxHU/Es8LNY+DPCtjJNE+s+K/E8+naJpNqXubq5CxstY1hoXwp0P4p/Dz4v8AxZ8DWPxH+HfgXxPpF/8AGD4faprPijSrHxv8IZZ4tN8fWtrc+HfEXh+bTvEXhnw3c3njLw1fR3O6bVPDsekS21/Bq09lcf6Xn7N/7Iv7MP7Jvg9vCf7MvwN+G/wV0LUIoZr8eBvC+m6XqeszCNjBeeItbEL614kvoVlKpea7qGoXITEXm+WAo+d4e4Zwua0Y4yrjJulCpKnWw0KSp1FUglJwdZ1JrkcZQkpKClKMmvckrr9l8YvHHiHgHNMTwxl/D2Do46vg6WMy/PcRjpYyhLB4mVWjDEU8tWEw9sTTrUa9N06+Jq0adWkpOGIpSSl+ev8AwR0/4Je/8O/Phd4x8U/FnW9K8aftUftAf8Izrfxi1LSnafwt4L0rwzaXsfhP4U+Akuf3r+HPB51rVpdR114obrxV4h1K/wBWuUjthplpZ/oR+1n8QfFPwo+CfjH4kaJ4++HHwn8NeBND1zxd8Sfid8SPDeueNrDwV4C8OaJqGrazqWieBtE1nww/inxDP9lhsdNsrzxPplrbSXP237D4imgi8Paj+c3gP4DftC/sz/tb/Dux+Ev7PeuftP3vxBlM/wC1F/wUX/at+NOjJ4o8OeH9c1NNd8QeCPgj4P0d/E3iDRtBjstIFlo/wz8J+Bfhp8NNO1mHwXbX+rawrat4g0T9rJYop45IZo45oZUaOWKVFkjkjcFXSRHBV0ZSQysCrAkEEGv1ClSp0KVOjRgqdKlCNOnCO0YQSjGKvd6JLVtt7tt6n8I47HYzM8ZiswzDEVcXjsbXq4rF4qvNzrV8RWm6lWrUm9XKc5NvotkkkkfAH7KvxS+GOsxeBPGf7P2vW/if9kr9p+y8ReL/AIOanBoWv+GLXw58SbW51bWfFmh+HtB8Q6Zper2fgr4kafp/ibx54ftp9Ls7HRtZ8O+LZrbULzTfGHhiw0/9Aq+Wv2nn8PfCX9mnxN4y0ixsfC/hb9njS/Dfxat9O0DTrSwtNH8F/BHVdK8ba9oWh2NoLWDTbO98E+G9Y8Mra2CxKml6hPYwwSxSG2k+oYpBLFHKv3ZI0kH0dQw/Q1ocpJRRRQAUUVGZVEyQESb5I5ZVYQytEFhaJHDzhDBHITMhjikkWWZRK8KOkEzRgElFFNZlRSzsqKOrMQqj6kkAfjQA6vNPjR8VvCvwI+D/AMVPjb46luYPBXwg+HXjT4neLprOH7RdxeGvAnhzUfE+uSWsG5POuE03S7loYt6+ZIFXcM5Hyn+0f/wVG/4J9fsl3N5pXx6/aw+EHg/xRYkrc+AtP8Rr41+JaPtcqi/DXwJD4l8du0rRtFAE8PsZ7jFvDvnZYz+Nn7a3/BdT4A/ED4GfF74Un9njxppHwd+Lvw28XfDTxD8Qf2s/iDoX7IOh+J/CHxH8LXmhahf/AA78C6hp/wARP2m/H1pdeH9ZuJ7W98FfAPVGEj25LQRSrdKAfMf7F/7FH7Zv/BUjxh8Sf23fjP8AtX/Fv9jf4dftT6jpPxJ0n4M/svPoGieM9H+FZ0yC0+FMWufF7xBpGv6pb+I9T8Nt/asWnWWmDT9Oa61HWY7ex1HV7/RLH3T9p7/giz+3x+zP4J1v49f8Eyv+Cqn7d/iv42eA7CXxQfg3+1R8ZbX4teEPi7Jpcsl5daJG19o2heDbXWJLBrw6La+MfB3iTS9T1Vk0+71Tw/b6hNq1j5Z8Kf8Agsp+0/8AsyfsNfChfgp/wSO/aJ+K3hzRfAtho/hH4sReHvEvwp+B+s+EfCmhxaPoXjGy1DxLZ+NPiP4j0R9G0u01S317xL4d+Hv/AAlOmebf2en6BaBdv4b+L/8AgqN/wXQ/4KxafrKeHPiRov7Jv7Oeo6kdA1g/COxvvh5puoaXOLuz1MaX4wlufEPxS8ZGCyt7q21WPQ/FFn4Zu7+4W3uYbGOREtF+f9fhr8rj/L+vx0+dj+4v/glX+3Trv7Zf/BOD4BfthfHiw8OfDXXPFng3xHL8RNan1DTdE8ELrvgH4h+Nfhpr+tWsuo6gr6JZarc+CR4ma1vdlhp1t4gtLGz1LUPstw8PI/G//guT/wAEyvgfdXekXf7Tfgv4j+JLSG4ebw78GXvfi5qVrPbzLB9mvrX4dWfia8tWkkdAjizlTEkbsVjbeP5b5Gt7f4D/AAh/Zengg8ZfCv4H6Tpek+BfDniXRtP12wstasrDUbC78VRWmq213ZWniHWJ9a1641DULS0t7qVtc1aESRWt5LBUui/Am81CKN10SMWT7D9kjgjsdPTKRhV+wWqxQzpGFQAiARIi7NmIxTEfpr8VP+Dn62aR7b9mz9hf4+fFGXc8dvqnjmws/hf4ZvGwfKa31HX71NejRyrh2vvCVosY8pojciUCvhzx1/wXC/4Ld/F24u4fhT8B/wBmf9mbRbzItpfHusah8TtesEkuJVD2+r+HgNMkaGIQyFpvDc4dCdqNKzQw+u/Df9nxvsPmzNZaWglYMlvbxLcFQqFNmIVMUJwVDBBuZTxlWI980/4GWF2UgE5uJn+QZELyEbgOHnDSLwxbcigA9FwMhf126/8ADfd5j/rv/XX7/I/Grx140/4Lc/tGGVfin/wU78Y/DvTriOVDofwF8Man4PsrKG5EaTx2174dj+GGr33lYLW11qGrXF3Bvk8m4t1cpXyZqH/BIzxZ8VNT+3/G79rP4/8Axf1W6kge+vtYvryTUbtodoBMnibVvHc29FkuBFJNcTiIy9SFbzv6tfh/+xolxnUdUW9dElaSKOT5FSMFiomcJGTlMnKqoIxljivo3Sv2bvA2jR/6VbyS/cLRWNvMpJAwQ1x5nzvhfm+YtuHC5GSxH8f2g/8ABDT9n+0RJLqPx54glVEDL4m8TyWyzshKszt4esNHkSSRiPMCoiqUwkca7t/uPgv/AII3/s2WssZh+E9ldhiWWKd/EfiCYsTuClde8Q30bK2w7CYUyAwEZRwB/U6vwr8AaXdK+n+CEvpSWJe6ikuG83IO5WuCyK4yRwF28M7DjG6+lT2MUQ03wbb2oVgEjWC13LGI2IYpEAOSAq5Zchucijt/w/4h+p/Pv4R/4JT/AAT0Py/7G/Z6+HtvLgYu9X8F+EpJ2VnEmZGvRNO4VhuG2Jtu0BQFAA9m0X9gu50maVNLt/Dvh2x8yRUt9B8N26eXCztKI1SzFlCEWRi5C4TOW/2q/Z+Fdfa4MJt7ayZ0EaqLSOKYMegx5cyBWDZU78kgcEEAbI8FeI7xFWNb2QY3ZjKxRkgHAVkZlwTgkLEAMggccFv67gfkRY/sXLCVjl1HVtRnbH7q202C2QEj0S5uJQPm3EgORg7lHfvbD9i+eDymfTLgg4+ZIIrmbnpvDzAplRgttfaNxdC2Q36r2Pwz8aYDoPs2GXJZpZnK7eQVi8tC543bipHQDkiu+0f4f66IfLub2YSk/vI4Y/syMPunLyy3J3DuGjAP8IGQoAPyesP2THt5EVfDMKohyl3cSW88yjkhhEtiuSSxBEbYDMCTt5HYWv7OWpWJIs7eOAsuCfsUIRwT8oGbYqoTJPDvj5chVOK/WOz+HmqISY7ZH3oVLXNwz7gwUZGyKGNjhFAznufmJrorH4c6qCrxW2moVwCN0pRGGQM7XzuAwQCpK9ecq1AH5Q6T+zt42uSGjt4zBwoaLagZgWBaQQ2cjJGCByIySWIAGBn0fTf2bdbcpHcxW7zsMMFDRbAflyTNaRgn+LPlp1G0r1H6u23w/wBWFviOBnbYomCWc8ij5cHBWJyvJwFAOSeD0zasfhpebl3abrTebIvMWh35jbLBRtmmijjRcklnZwgAzuA5AB+bVl+yTpd3tk1l0faQEjhFkTzglA7W8kjgHaCeDgkhictXo+ifs0eBNIZM20UU5dFaYxojKCTgIYoUywXqwILcYJ6n9B4fhzrMJ2W2l6sozkB4YIRx0bc1ztyOynI6gZwBT5vhlrVwSZdM1U9/kl09STxjeTndgjvjjAJ4zQB8gw/BTwp5BiR444o1ypEcxUHnDFvM3bif4gHLHIIOedyw+D/w/ijVZ7iOHavzeXAX3kYAKmR1Ygkltx44IGa+rF+GuvtEiJod2YwMHztS0yNmwcEtGJkZfmycc5GCBjGdGP4VXqRhP7DUuMAudVjwwCgElFuk2tkHlGAxyQW5AB8vw/Dr4dWDmKF3uYwgkLMI413kngKscjlTgcMcZBP3c4kk0rwfZL5NlApAIztCYIIPVvs6rkE9WJZeoPTH0o3wiu2JJ0OIgnJV9SSRSck5IkvmHOeR0PemH4P3G4yL4Z0xnIwd0lgAfdv3rAn3Kkk9TQB8+aXF4Sikb7SyJAxLFUuYlKtjBJ8xCcFQCoU4yMDGcHpSPh0/L3MjMTklbhCQRxjdERwO2cZGDjGK9fX4Uasjbk8O6QvXH7yxPB7H95g/l15wKD8MfES7gmjWIzjBSTThjAGFDmQOBwAfXnOcmgDyaSw8AvETamR325KvdSRlSN2VBaVhk4G0kENnoD05m9s9HXc9iHTaeczGYgHgbWUIMnDAg55OMjFe8N8MfFHJXSLMEjvc2HPXgkSZwSffHYVXb4Z+L1yI9BsOerLd6fg+gAMqnj1OR6DvQB8y3Ub5kUXN2oP3fKdANmMEFRG75ZcgjdzkYGcGuYks9QR3e2n1F0RcsrI8jjJ4CjeA56dApHJxjNfXi/DHxkOBodio9rnTB06cCap4vhr4xiLEaJY/MDki40wNnnBDebkHJ6jB79qAPhnW9P126QLbo8cx37ZnsXeRcABVLJcud4PC524GemcHl4/CnjdV3zahMFzgrFbxl888YmMoB6EgMMDORngfoUPh14zSZSfDltIo+Yul5pS8jOB898j5zjJC9O+RUreBvEzE7/ChyOMrJZHOO5K3QDf72WJ9TQB+c03h/wARQ75F895WYAvLaSISCNzElLdo2xztAkBDckgDjQMevm3CGwkmKIQyzebEjSAEA/uopGwwAYkkY+UNg4r9ApvBPiGJcv4RnkViFxEtvMec53JHdsQoA5JGO3UgHEn8K6pbN5L+CtYJf94DBpN5LGELE7DJaCWMcqRsYhwMNgDYSAfDulaBcXTzXN/pqNOsg8mNZLgLFECcDbNFMJjyBvdl5xkjmrk/hyaMPK0EigldqiOPAPcKuzBJGSFXYB34GR9ivokkZcN4R1ZXVi7p/Z+qh9yjkFSAeAPuHCgDGOKybq2tXjPm+G7+NBkMWs7xQNxAB3MG2kHAGMcn6CgD4nvtLi3KzQXAdQQ3l6eGI4BJZ1iPAJIwSMAHuSBjzJp8UZMlvdNtAOW06c8jOThYjjjPIXHYHNfaE1hoKYM2j3FuDlRlHQN6kF4s55HQ+nAqsdP8LOADaXcfcmMIST6fOpGPcAGgD4cubyywUtIULnlX2eVKhGDgI0cbA4BIO7POd23gSaZfX0ccojt5p5A/WW5dyU4weTKUHLA4A3Fcc43V9mzaV4OndVkW4IUkZe3tnU9vm8y2lIHGAVK8HJI7Zk3hTwUrF4ZnjdiB5fkQsMZz1W1UIvzY5bJwOuNwAPkp9f8AEMTAf2LvU4/jmYgAjjdHauCcd26knjjh0msPqINvqXhiSZJMKVS3yGbcxBBeCIFlIALAgqxGWABr60Xwh4VlwI9RWJv7kttA43H7xX5EUggAAEluASTxWpZ+BdHLNNDe6exJ2K/9nWquuAN3zxshG4EKRn7o6/MQAD4fuNDsJGYHw7dW6NnadqYHYBlQMCCOqgk5wcjJrMuPDdmnTRb3aB9+OyncAkZBYLBISOmNvTncRxj7wuPAeiyyBXlj5bBaC3cJ0JDAC6eMemdg4JHUAVRu/hlZysWt9Xa3yQy7olYDOCRsEqDGePmLdeAOlAHwSugaZEzONFWd2xxeac0QbB+b97LY7VwAMsSRjrjAy1/CljqJMa6HpkPO4ERICpbIKh4rfbz1LFEBbB+9yfsPWvhNqyuJdP1uxmDZXynhhX5udp2vCpCnuFlJzjg5JPJTfDbxrAx+TTbpc4K+UQQBwSHtXkwSc4wmSMEnAwQD5Jb4J2txMk0PhWzunSTzS9tdThw24EsegBPOCcHqOAcF918CLWdAX8MeIbZzniC6SeMNwCQss5J2nIAAXjlsnNfXcXgjxbbwRmLTChB3zSW/9oK4Zi2MF0VyDwQgXOApyBgHoLDw34sV4ma1vEAYEMwMhk2sCSBNbCRQMHIbAAIBz/CAfAdx+zNb3ZCeVqVkZGXal5pcdw6BiQPmjY7VAZuhDZwSeOel0X9lq005reSOwiuSpbJFhcoQzDCSvGFWJnJ+87OGjKkJhBiv0ZsNO1qMB5rLUlkL8ytpwkXcD8gDYHCqA2WAIycDBIHoOj297NCxu7ePAUFRPaKJABu3llV8BWyCM7iBwccAAH513f7OV2sMbJ/adipjVlVdPSeINsUFiskjqQBkA7VPzcnJGOD1j9nfVWjdZ4tH1eIBQYr3RBFK6/e+ZUabPzEbioLN1VRk4/WVnuINqpaJJEF27VDgAdD8iY2rjIAD/KQOWBwON1XSra5eQxxSRu3JSN1EYbaQ2VdCAckjGzA77hwQD8SvGX7Nvhy6stQ07UfC0E9jeRyQ6jp1siTWF0CwZlutOv8AdbSxMQP3VxbTDKkMhPA+BfiT/wAE1/2ePFguZL/4IfBy+luCzmbUfhF4c07VlaWYysh1/QLfSdQJ81pZHMksmWlZtjlnD/0x6z4T1NlkMFrpV4GJys1hIk4BJUL50Fwgl4J4KKGOBgg4HhmseHrm3uZkuvDdlcRo74MUJtdq8sF/exg/L0GCxwOMEnAB/Ht8T/8Agid+zPqC3dxpnw61jwnK0kk09z4I+IGvqUZ5JJGMOn+K49etLQP5qrHbw2a2sCIiRqijB+c9I/4J2fEf9nPWjrn7MX7aPx9/Z6vEkKRWOsC81PSL6Rxte31XVPBOqaBotxaSvvlb+1fDU1vuVUeAyqJF/sv8Y+EvCd/ayi+0+60eVFLbxbiSKQqfmHmxTKXRsk4YR9FHlnGD81+Nfgz4Q1nTri2lNpKkqqI5kt4pChBB37PLa4Rx97llA25Bxk0rd/6/y9P82B+Ifws/a4/4LZfs/avpeq3njv4AftY+FdNeJrGdjY+CfGUttZQbbcrr2h+HdB061u7ghDdS6vFrs853/aJVaVpT87/tXftb/HP/AIKzfETwz+zp+zh+xn/wrL9o7wZ8R9C8d/Fb4i6l4p03WfAvwR8eeGby2vI/EvhjX/DDXulWVxPcrqMuqNdNeTXEMuoaRpnhLUtRCT2f6/eJ/wBnbxT4Wil1Xw9aQXdsJSyLb28kUsi5LuJLdcKjGLdtu0KoXOJkYvtrxn/gil8af2J/hj+y/p3jrx/8dvg54J+IfjnUPFvjn4qx+N/iB4S8F+JLnxLrXiPV9Q1yfVL3XNZhRPs8MWn2dvc3OnQyHSrG2eKEQSCeV9fv/T/gh/X9f1+p+s37PH7O/wC3X/wSw8B/CD9oP4wftl/EH9rX4G6fb6ra/tlfC/xFpmiv4b+E3gbxfc2N/bfHb4KromnT60ml/BzUxLqnj/RZ9S1C0v8A4YXfiHU9C060vNBsNNm/pA0/ULHVrCy1TS7y21DTdStLe/0+/s5o7m0vbK7hS4tbu1uImaKe3uIJEmhmjZkkjdXRipBr8E9Z/wCC/v8AwSX+H3gS68A618d7H4m6nHZ3fhax+G/wq0LXfj5qXjq2uLOfz9F0y68FaHf+HLyGeyae2kGt32laU8BW2W9nO9R8EfsOf8Fwfht+y3LN8Mfj98Ff2rvgz/wTk1nxzrfhX9in9qv45fB3xJpOneCtHsNQvrO++AHxLl0zU/Gc8Og/DbxBZ6t4N+Gvif7XLqlv4O0ew0rxboulx+HdQ1pQD+u+iuI+HPxL+Hfxf8HaJ8Q/hV448J/EbwJ4ltBfeH/GHgnX9L8TeG9YtPMkhM+naxo9zd2F0iTRSwSeVOxinilhkCyRuq9vQAUUUUAFFFFAH8hv/Bbq8/Zt+Nn/AAUw+Gf7P37aPxos/gP+zv8AA7/gm/8AGv486P461dby70m2+Mvx6+Ijfs+eEriHQrFbiXxN4g0K10abXtG0YWkl3cJZX66dLbyvNcwfw+/HX4Zah8A/ip4r+FfinVtLvb7w7qMkGm65ZDULLSfFeiyuTpHibQY9csdJ1STStZtjHPbC8060vIJDLZXttbX1tc28X9xP/BVH9jj4Zftjf8HDf/BMzwP4ikv9Us/DvwA1P4w/Hrw5LsuPD8vwt+Bnjzx74u+F8eq6fcCS0udP8V/EfVdf8Ia950asdG1KWOKUSMBX9E3iD4cfsM/8FFvg5p2o674V/Z+/a0+DOuw3dvoevfYvCHxJ8PRvDIbS9/sDxBai/k0XVrC4haCaXSr6x1TTbuAxs9vcQkL4Gd8P4bOvZTnUqUK9GMowqQtJSg23yThLSylqpRakrtPmTSX614Y+LmceGksfh8NgsNmmV5lUpV8RgsROdGpSxNJKn9Zw2IpqTjOVH93Up1ITpz5KTXs3BuX+QAk0Uih0ljdGzhldWU4JBwQcHBBH1FKZI1BZnQKoJJLAAADJJOeAByTX+lV8Qf8Ag1v/AOCNfjm9S/039njxX8OpfNuZ7qLwH8ZPihb2d7JdStMd9j4l8TeJbSyihZmW3t9Kh0+2hjxEkIjVVHnKf8Gmn/BINHRm8D/GuQKysY3+M2vhHAIJRzHao+1hw2x0bBO1lOCPmVwG3vmbjrt9TUk1ptL60m+qu4xd0vdsftk/pXqKXJwOql4/F/rJKm1K1nzU3kE0rvVRjVqK1k53uf5w9x4g0K0bbdazpdsx/hnv7WJugPR5VPQg9OhB6GsxfF+l3UjQaSl3rNyo5jsbaTyVJOF829nENlCjYJV3uAGVSUDkorf6gnw3/wCDa3/gkd8KdXl1/wAJfs6Jeaw25rWb4g65N8X9MsZRFNHBLD4W+Llt448IXJt2maVYtS0C+t55Ui+2Q3KQxovqfi3/AIIMf8E3/idrthr3xi+E+t/FI6SYjpPh7UPFupfD7wNp4too4LRU+H3wUX4X+CLqO0hE0VtHqOgXkcUV5dRhTHKFXpjwLhoxu8ZVq1NLc8FClfq5Qg3UkunLGrTb/wCfiPGqfSnzqvWsuHMDgcI+fn9hiauLx7VlyQo4jEQpYShO9269bL8bBaf7JNXP8q6XxI2lzzJeW139usFtbu+t9JtbzUG0O2lmtoYb3VbyOGOKyiNzd2cavMISJLm2Efm+dGx/qg/4J1/8HN/7T/wD8b+EPA37bmo/8L9/ZumttA8J3/jS20DTLD4wfCXTLCKDTbbxcLzQbG0/4WhpNnaqsviqw1+1ufGd9HG2s2XiK+v4bjS9W/Yr/g4t+E37OP7Ef/BHXxj8Jv2c/gn8L/gloPxv+PHwI+Ht3pPw28G+HvCf9v3eneLB8RzJrEul2tpe6/fvafDyVXuL+W/vpIFdXcwLIV/z+AMqARwRgg/TBBrzcxg+EcZgamX1ak3iKdR4ylUa9hXhCdNRhGmrunZOXLNzqVE9XOSc1L7PhCvR+kLkPE1Di3LsFhFlGJwVHh7H4OnKWa5ZWxOHxM69epjZOnDFxqzhRlXwkKGFwdWMUvq1OUMPUpf7SHw9+IHgv4r+BfCPxM+HPiXSfGPgLx54d0nxZ4P8VaFdx32j6/4d12yh1HStV0+6iJSa1vLOeKaNhggNtdVcMo7Gv4zv+DR39sfxD4o+H/7Q37CPjTVrjUbb4KXei/GH4JC/vZbi50/4c+Pbu50rxr4R0+CVttp4f8K+NrOy1jTo4hIftfjvU42aKCC0iH9mNfo+FxFPF4ahiqV/Z4ilCrC9rpTipcsrXSlG/LJdJJo/jXPcnxfD2dZpkeOUVi8px2JwFdwvyTnhqsqftabkk3SqqKq0pNLmpzjK2pKnQ/X+gooTofr/AEFFbnkkbdT9T/OkpW6n6n+dJQAUUUUAFfPH7Wn7OXgv9rr9mn42/s0/EGIP4V+M3w68SeB765EKTz6Rd6rYSro3iGxjlKxnU/DetJp+vaW0h2R6jp1tI2QpB+h6KAP8O+/0X4t/sG/thrpXiXSh4e+M/wCyl8erGa8068VprS28Z/Cfxrb31tKjvHGt/pF3faPBd2V7Gn2bU9Mngu7cvb3EbN/sBfFP/gqF+x78C/Cv7G/ib4t/E218J2v7cl34MsPgY01u1xBqaeMtE0LWLXXtbvY2FnoXhWwHifw5aat4hvZksLC613TRMwhlkmh/hs/4PCv2I2+Ef7YXwz/bN8K6S8Pg/wDah8Ip4a8dXNvbMbe1+L/wus7HSftV5cRqtvbN4n+H83hgafbSL595d+FPEd75s2ZFg+6/+CF37Lkn/BWz/gnZ+0he/tQw+H/Gl18PfgTpH/BPD9k/xbqOmXN5L8GNF8HeEJPiNdeJPDkWpK8dv4st/E/jv4bw6l4gs7EXclh8PNE0SxvZNIt3iuAD+7VWV1V0YMrAMrKQysrDIZSMggggggkEHIpa/l6/4N0P+Cq3iP8AaJ8C+LP+CeX7WWoXGiftr/sbyan8P7iHxLNFFr3xO+H/AIB1F/CUl5cs7LLe+Ofh1e2UfhjxssolvdStE0fxPLd6lfX+vyWH9QtADJEEkckZ5Do6EHphlKnrx371/mgftKfCvxp8N/ir8bbHW3uZb1Pjt+0HoCX2pXkd9qtrq2h/FjxnZWsXiQoJja6lqmkro/i/T450Lan4U8RaBr1vG1nqkAr/AEwq/ET/AIK8f8Ex/wBnr9of4GftBftH+F/2e9N8QftkeFvhbNr/AIJ8c+Cpte0D4g+K774eC01yx0K4g8M6lp1n431u/wBE0WbwrokHiax1eaW2nstDhljs0gii8PP8p/tfA+xjNwrUaixFF2UoznGE4+znFte7OMmk7rllyt3V0/1Dwl8QJeHfFP8AalTCxxeAzLBzyjMoOq6FWjhcRiMPW+t4etGE+WthalCFRxlCUatL2tP3Kkqdal/OF+zn/wAEz/hH+2he/svfC/4W/tI+NfhP4g+LH7MXgz4lftFeCviomjeK9T8X6PnT/A3x8k/Zu8YeFkuYw1n450z4lfCfxh4K+Kcnh/xR4Zvre58U+HtM1Hwzbxhv77XeLTrFncTNBY2hZhDBNcztFbQ5Iit7eOW4uJSiHZDBFJNK+EjR3ZVP+fV/wR+/bA+JXw0/aw/Zy8P/AA8+KN5L8DPjJ8XtI8PeOvhpq1toWueF5dV8d6PeeDYtU0uTWNJ1DxF8N/F1trV5oP8AayeENW8NrruoaZb6V4sstS8x9v8AoQU8hxGDxWDnWwmFWDm67jjKCgqfJjI0qSq2irK1uVJqMb2blFS5jPxUyniLJOIcNl2f57PiTD08rpVeG83njHjniuG8RjcdVy+brycp8znLEOdOdSqqUm6dGrUw0aEj438F/t6fs1+NPCdp42PiLxv4I8OX91PZafqXxW+D/wAW/hTaapd21xd21xb6NeeP/BXh+x1ya3ksrgXUejXV+9kV8u9FvLmMJ4q/b8/ZY8JeH9c8VXHjzxD4m8PeFtIvtf8AFWq/Db4UfF34rWvhXQtNtLi+vdZ8UN8NPAvitvDulwWtpdTG/wBZWytWS3m2SsY3AbpK+Of2Z7vxL4U0P4N+OPi98JPEPjTxn8QvCmqfDq88EXXiLwHqPxC8S6h4z8YeFPFXhzxh4q8H3d/pD+NvEOt6j4K1bwgdeNnoWor4d1vSNEtvDFrrfiGxc6T8TP2kL7TdI8dfC3U/gx8D9H1/SNf1vw3401nwjqvxE+Ll74b1NtV0XQtV0PwPq3izw34W+Gr6rZ6Fr9+t34yvPFHi6G1uPCHiTwl4e0SbVYda9s/My5+3jrFtpv7E37VF22mprp1D4AfFHRtN0OW7udNTX9W8S+DdV0LQtDa9trW7vLL+2tW1Ox00XNvZXVzbm6EkNrPKqwt9X2mRa22V2n7PDlck7T5a/LkgE46ZIBPcCvzQ/ak8bWv7Q/7R3wX/AGFPAFy+rQ+GfGHgD9pj9rTVNIC3Fj8Ovhb8JfFOm+O/hP4A8Q3YUWdr4j+N/wAW/DfhW0g8LvcNqOo/C/w58Q72705tJmgluP0n1TVtK0LT7vVda1LT9H0vT7aa7vtR1O7t7CwsrS2jaWe5urq6kit7e3giRpJZZZEjjRSzMFBNAGhRX5I/GT/gt7/wTz+F2uXngTwT8VtY/an+LsDz29j8G/2P/Buv/tFeO9XvrYotzp1rL4AtdQ8IWN5bSP5NxFrnirSfKuUltWIuIZYk/Pz4u/8ABRT/AILP/GDQr7xL8Df2K/gh/wAE5/gKBIl3+0p/wUm+LegeHtY0bS3Zgus3vws0rVLDVfA+pQIYyln4j0fxjpssgaPzpCzfZwD+mq5ubazhkubu4gtbeFGklnuJUhhijQFneSWRlREVQWZmYAAEkgCvx0/ax/4L4/8ABLr9kSW70TxZ+0j4f+KvxBt7iaxj+GH7PkX/AAuPxjLqdvLHDPpV3N4Vmn8KeHtTikkVDZeKvE2hTvIHiiSSaN41/ka+L3jfwt+1X45vPA3xw/b3/wCChn/BbP4uTTWk17+zD/wTw+Hmq/B79lPQ9TgkUjTfGni9NLvfDmseD9Rj/ct42+H3w+t57O1tr2S/1K3lhknT7x/Ze/4Irf8ABSjxnpVo/wAMPhx+yN/wRc+GmrQYbVPhxoWo/tGftzPptyGvE/tT41+MNb1zxLoF1cvMiXQ8GfFT4a3NoIxZTeHooEuLWYA9y/aE/wCDhL9unxToTa9+z/8Asd/DP9ib4P6tGZNA/aL/AOCmfxIsfhnca7o90gEet+DPgfaanoXjTxbc2yM1xbp8PT8XYpSqySaXPCjwy/gr8Rf27v2v/wBunxjqHgOy/aC/4KAf8FNfFMgnh1b4TfsVeE/EP7KX7LFjC7rLZjULvw14N1b4lfE3whEI5kvH8a/C74R6ssMIuI/Fbu0l4P63f2c/+DZ//gnz8MPEq/E/9pCX4pft4fGq7uIdS1jx5+1F4z1HxVpF3q6PvmuU8EWc1rpWqWdyQDJZeO7nxw2WfN0wYBf3m+Hnwu+Gnwj8OWng/wCFXw98E/DXwnY4+xeGfAfhbRPCWg2mIYrcfZtI0GysLCHEEEEOY4F/dQxp91FAAP8APe+FH/BGj/gqvJ8O/E/xc1/RP2Zv+COvwB8AeEtf8deNPEHw7gu/Ff7S1p4G0HQb/Wdf1iP4jJ4j+InxquJU0ayuJNW8L6/+0D4B0lpXkC+HbNi9vD/QZ/wT4/4Icf8ABM/9hz4Z6h+2j+0FFq/7Qfxi+Hngy6+JnxU+L/7Smqw+MdB+G/iTwn4ffWfiTdeGvCzWMPhpZ/CmrWGoQS6vrcPjDxRomt6Zd2UXiG31G2uraL6k/wCDhr4y6h8Df+CSX7UXi7SwXvdUPwp8EyW5UG3v9E8afGHwHoHi7TLwlJQtpqvg681/TpcwXCv9qWJ4ZEkYV+ZP7fHxj16//wCCT3/BMH9lzxr4jOjeM/8Agp144+BGrftHa5a3q6VJovwu8VPpn7S37VviOK40+6Z3sNN1HW4rHV1tbuKG90DVNSD3AjmFrOAZmp6h8UP+CjHiPXPiB+0BqepeA/g5+0PoHhv4hXfgvTtUvrPWvhv+x1qKXF58A/2bvC0unTOmkeLv2j9Ngl+M37TWpaeItdl8G3vgzwZdR2mi6x4Ru9J2fF/w58G6fPZeD/g14G1mz07RrSDRLF9N8PSaFZ22m6bDHZ2VlaW1hd7YtPsraKC1h8tLICCNIUWOBI4j+l37DH7Ok/x+/Z0+Fn7Rd7p3h7Q7r9pS21D4/rpurwXLHQ/DHxI1BZfg/wCFtM0e2tbjTrfS/A37P+mfCL4fadGk0UU1l4RhndEeeRn/AE28I/smeH/DqobrXI5XyCy6ToNjpYQAD93HI8t4cKw4bykyAD5asBhf11f/AA3oB/Nl4I/ZV8S3d1a3T+BdX1NluYbia4OgyW0Vu4beTby3EtxOWxht7mWTO47UUnH2BZfsualFar5WgajbyurEPLLIcN6s7xFz1IwcIvJyFAWv32sfg/4Gsgm/T7i9ZFA3Xd7cfMRxvZLVraIkjgjy9nogrqLTwX4SsW323h3SEkzkSPYwTSLzn5ZJ1kdBn+FWA9uKYH4P+Gv2VdauntbY+HjI65Z5Z7XUL9wHc/ccTEBTuAC7NmQSFABNfYXw8/ZWfQY0li8JMLhkyLqXSwobdkggzRYVSBn5XBzjc/Sv1CjijhRY4o0iRRhUjRURR6KqgAD2AAp9AHxbD8DvE1vGFt9KU7s5DXGmRxqQDj5Wu2Iz8qgeU/y8lwRT4vgJ41uSSW0axQ8kXN4GfnOR/oVjNjHfayLgkYbAr7PooA+SrX9nXWm4utb0O0BJLm1s729dmyw3ZmktEBYbSx2cNkfMFGd1P2adDmIfUNfubmQH70GlWVuCvPy7ZXusDOOVIOBgY4x9MUhIUFmICgEkkgAADJJJ4AA5JPAFAHgVl+zj4BtX82WTWLqQ7c7p7KGMbOAI1gsEkQYA484nIyCOAOztPhD4Bs+V0Z5mwFLT6jqL5A6bkW6SNjnnJQnPPYY9DN3aqCxuIcAEnEiMcAZOFUkk+gAJPQAmq51SxAJE24gEhQkmWwM4GVAyegyQM9SBzQBiW/gbwha/6nw7pQIG3L2qStj5erS7zn5Qc5znJzknOrHoGhQgiLRtKjBAB26faDOOmSIsnHvTH1u2CkpHMzcYVgqA8jOWDORgZI+U5PHGcis+uOQPLt1Vs8l3LjGDwAojIOcc5IxkY5yADYjsbKL/AFVnax8g/u7eFOR0PyoOR2ParOB6D8hXKyaxePjaY4sZzsQHdnGM+YXxjBxjHU5zxiq9/eOxY3EoJxwjlF4AHCphR05wBk5J5JoA7WiuI+2Xf/PzP/39f/Gj7Zd/8/M//f1/8aAO3oriPtl3/wA/M/8A39f/ABo+2Xf/AD8z/wDf1/8AGgDt6K4j7Zd/8/M//f1/8aPtl3/z8z/9/X/xoA7eiuI+2Xf/AD8z/wDf1/8AGj7Zd/8APzP/AN/X/wAaAO3oriPtl3/z8z/9/X/xp6aheRksLiQkjGHPmDqDwr7gDx1AzjIzgmgDtKK5D+1b7/nsP+/UX/xFH9q33/PYf9+ov/iKAOvorjJNRvZMbrh125x5eI85x18sLu6cZzjnGMmq8k80uPMlkk25273ZsZxnGScZwM+uBQB2Mt7aQnbJOgbLAhcuQVIBDBAxUgnGGwc5x0OMWTXJS37qGNVxyHLOScnkFTGAMY4K5zk55wMOigDZ/tu5/wCeUH5Sf/HKP7buf+eUH5Sf/HKxqKANn+27n/nlB+Un/wAco/tu5/55Qf8AfMn/AMcrGooA2P7auP8Anjb/APfL/wDxyqk961wwd7az3AEFjbRSMw6gEzLIQFOcAEfeOc8YpUUAQyWemTkm60bRbtSxdkuNKsJFdzn5m/cBt2TuyCDnqSCQaE3hrwfcbjN4K8JsznLONDskkY+pkSNZP/HuRweK1aKAOZfwH8PZzIbjwVovzhR/osclptAGDjynG0kAcx7DnJJJNRJ8Mfhc+7d4Ya1Z8JmDU9W8tBjAl2i/VAykknELkhVzv4UdXRQBybfCD4bSsqwDULY4OBHqV2q5GTu3XCuqtxxlgCcDBJ5qXHwO8GTIVj8Q+Ibf5cKU1TTpArdQ2JtPkYjoGUOoKjClSd1dvRQB5LN8BvD5k22/jLVlONn+lW1vcDzdxAfzIltU2D5R1AwGPmAEFaNx+z/J8xtPH8I+UbI7jSiQW77pY9aBVT2xCxHvnj2iigDw/wD4UL4ygDJB4r0maIEFFlgvbfccjJcgXZUAFgAN2eOVzxA/wY+JUJIj1bQJ4gQFEeo6lFNjpwkmmJCqgkkjzScD5cniveMn1P5mpkurmNQiTzIozhVkYAZJJwAcDJJJ9zQB84T/AAt+KcIIjt4LrAf/AFOrWqk46YNw8By/8OSMY+YrxVBvDHxc08gSeHNTlEbBQbefSroFCMD5ra9ZsYyCcErwCc8V9SR6jex523DtuxnzMSYxnp5gbb15xjPGc4FaEeuSDPmwI3Tb5bMmOuc7vMznjGMY5znPAB8lSz/EK0GJvB/iXBJZjHpOo3CKYx8xaSOGZFUAnaxfYRkqWGTVWbxFq8Z26p4evolICN9r02QeWGwcgtbBgMZ6bSQTgc8/ZCa3AQTJFKjZ4CbZBjA5yTHg5yMYPQHPOA7+2bM9UmP/AABP/jlAHxomqaHfMsU1iIGbeoa3kkjbfyeVbKqw5TGBtPXFQ3HhzwzqD7Z579iU5RriAkDLYUA2pYDCkjBxxkndzX2ib3SrkAzxxkoSFW4t1kIzgkrhZAAxxnkEleRwCVEWhzgMbfTWCEhfNt7dSpI52iWNWAIPUDB5Gcg0AfAGr/BP4f6mk5uYru4EsZVzJdgtICpCgvCkcw5IGUlXIGcDJNeSXf7Ovgey3w6fqOo20TLiOKW4F0ISCDtEl0ZJyoIBH78MOmRjJ/VhvD/h+ZQW0XR5VbLAnTrN1bfyWGYSCHzkkfez3zWXL4C8FzsXl8MaK7MSTmwgxk56KFCr1PCgAZOBQB+PmsfBSzs0mWx1i31LIwYdRm2RkKOT9lVJo2BIId3PCAj5hgD8jfH3/BLf9kqLUJbqw/Ys+Bt9NPdyTT3lt8PvCdxb3Fw7tM0xjW3LSLI5fzhcRRGU9VKH5/63Lv4WfDVi0914U0ZMncSImiUsBnhI5FDNhSQqqWJBIGc1z8vw1+E7IQPBGmSEEFVeFlUnoSW89yMAnHynPTjOQAf5ynwn8b2/7Dn7WH7Z/gePwL4b8HWH7K/7RX7Jf7bPhbw9oPhbSPDepL8FJ/GXw18P/HPR/Dq6TYDb4Tsvh94zL3NlYM2n2+oC+nNglxPqVtP/AEkftE+JvC37CH7WHiRf2iPC/hn4u/8ABIj/AIKh69osvii68V6dpvi74b/s0/tReJdOsrS/1LxLb6pFeaRb/B79oSC3sPEt9rEs82m6T46h1TXYhodubqfW/EP+C0f7Hfwj+E37cf7Gv7dWseDbbSf2afizpfjH9gn9uq5t5ZIND0X4dfHnw/rfgn4b/EXxLOyy2mj6V4d8QeLLs6t4ov0S00690bwVBO0xa3hr7Q/4J6eNvBfxb+B/xB/4I5/t4+HfDfiP45/s0eCIfhF4k8F+MLWIaH+0r+zDp8MOkfB39oD4dGeRm13SdT8IR+HrLxDqOk3s+v8AhDx9pstzqb6Lqt1YxxgH59/HX/giJ+2f/wAE/wDxn4h/aa/4ILftEa74F0zVp38T+M/2IPiF4kj174XeN3BeRbXwRP4vmuvDF8Z7B107SrLxvLZa1pVu9zPo3xLsXmtrOHc/Y3/4Okfhg/jl/wBmr/gqj8FfFn7Cn7SPh2/g8PeIte1Lw94jb4T3OsyeSI5Na0rU4JvHPwyF+bu2ks/7Vt/FXhddO3azeeNrKxmhQfYPwT+LXxL/AOCP3xp8JfsZ/tWeMNe8c/8ABP74n6rb+G/2Iv2ufGlzJfX/AMGPEF1Iw039lL9oPxM5McFha26mH4S+PtaNpbT6VbLos109laTWfg39Av2+/wDgl7+xl/wUs+H6+EP2mPhfput61Y2UsXgv4s+GfsuhfFbwKZw8iyeF/GcFtPctpzyy/arjw9q8WreF9RnWG4v9GupoLeWIA+4vBHjvwT8S/C2jeOPh14u8NeO/BviKxh1LQPFfhDW9N8ReHtZ0+5UPBe6ZrGk3N3YX1tKh3RzW88iMOjV1df5ynxt/4J1f8Fov+DerxZrvxx/YJ+MXjT49/sh2Gqp4q8T6ZoOl3WvaPb6fFDIt3F8bPgG97qkX2ez0uGSz1H4keDSyWumwx6rNrHg64NvaWf64/sB/8HaP7PXxcs/DfhT9u34cXv7Nfiq+jsNPm+NPgUal4+/Z81DWp42RotejtI77x18KL69vFK2+ha5a+K7XTLJW1TXfFOn6eYrhwD+vqiuA+GXxW+Gfxp8GaL8RfhF4/wDB/wATPAfiO0jvtC8X+BvEOl+J/D2q2sgBWWz1XSLq7s5gM7ZFWXfE4Mcio6lR39AH82HhXxZp2s/8HUfxL0TWIy03hz/gk1ZeFPDgvd98hvLn44+CfGNydNDROmlq2m63raSgNHHKTfZkL37RP9PfBL/gk14w/Y0/bB8b/Gz9hL9ovTPgh+zV8e/GWheOP2jf2SvFXwxX4h+DbrxHpN/f3OrXnwS1aDxf4Xf4THxVp+q3Nnc20enaza6NP9llt4NQ0LTtC8MaN8V/teeBdW+CP/BzJ/wTV/aHuLq00j4dftRfs7fGP9nbWNTvWhtLVvHHw+8I/EjxLYaY9+xCf2h4juvE3w50rQ7GXyru9vLeeKymucG3g/fz9n/9mT4f/s2SfFQ/D/WviRqdv8XfiNqHxR8SWvxD+I3iz4jjT/E2p6bp2kXaeHL3xjqWr6ro+jHT9I0y2h0ePUJLG1jsoVtoogG3AHuut3epWGkajeaPpLa7qtvaTSadpC3ttpw1C8Cn7PbSX93+4s4ZJCvn3LpM0MIeSO3uJFSCT8ifG/h//gtT8eviPa6Bpfin9kj9hP8AZ9TUFGueLPAeq+JP2nf2mNT0y3lDNH4aHjv4a+CPg74dk1m2V7eSfVfDviG40C4mFxbjW1tQl1+xVfLPhn9mfU/D/wC1D45/aUu/2h/j94lsvGPg3RPCVl8Btb8V6IPgb4RbR7jUpTrfh7wlpfhrTbtdXnivli+16hqt7cGT7Vc3k9/LNa/YAD6bsLVrGxsrJrq5vWs7S3tWvL2RZby7aCFIjc3cqqiyXM5QyzuqIrSuzBVBwLdfOXxS/az/AGfvgl8WPhR8Fvi18R9G+H3jn44wa8fhVD4p8/SdD8Zal4butEtdT8N6X4muoo9B/wCEqz4g024sPDlxqEOrapaPc3Om2t1FZXbQ/RvXpQB+Jv8AwXR/Yj+MH7aP7N/wRb4G+BLX4xePf2bv2p/hb+0XD8CtS8a6P8P9O+M2j+EbTxHoer+CW8VeIpbbw/od1PB4mW9Op6pdWwj0e01qzspDqN/aI3+fH+2t/wAEjv2/v+Ccfwg+FX7QH7Vkvwm8M+HvjP8AFOH4ZWnwp0LxbD4z+IXhjVNS0vVfEcLa1d6P4bm8GwWFrZ6HPEt74c8e6tdNcGK3lt2tLq4Nf65rMqKzuwVVBZmYhVVVGSzE4AAAJJJAAGTX+Zv/AMHJ/wDwU58J/t2ftfeFf2fPg3q9jrf7Pf7F114q/tjxxptzNPpPxB+MWsJYWPiW9sJwfsV5oXgldGTw/oGoQxeXfXY8XajZ3t/pOoaXMPJzmjgZYHE18Zh6NZ0sNWjTlUpwnUjKpHlhCk5JuM51ORQ5Wnz8tnc/QfDbMuKKXFGR5Tw7m2ZZfDH53ltbG0cHjK+GwtWhhayq4ivmFOlONOthMNg44iriY14zpfV41VOMo3R7T/waXRXr/wDBUX41TQxXR063/YY8aRX86B/sa3l38c/go+lxTsD5ZuXhs9Wa1DjeI0uzH8vmV/owV/Jb/wAGp/7AfjX4E/AT4rftpfFzw7d+GvFv7WUnhiw+FOgaxaTWmtaP8C/Bn9oz6V4huYLhYbix/wCFl69qlxrkFlPA6zaBonhnWrS5kttXVV/rSq8mw1TB5XgcPVVqlPDw9pH+Wc7zlB+cHJxdtNNNDl8Sc7wnEXHfFOc4CSqYLGZtX+qVUrRr4fDqGFo4iKaTUcRToRrxUkpctRcyUrolTofr/QUUJ0P1/oKK9M+II26n6n+dJSt1P1P86SgAooooAKKKKAPxe/4L9fsSRft0f8Ex/j54F0nS11L4l/CvSj8evhJtiWW8PjL4Z2V/qV7pNgpG5rzxX4Nn8U+EbRPMiT7ZrltLK+yIiuA/4Nrv2fb79n3/AIJA/sxWmuaQNH8T/FqDxd8cdeiHklry3+I3ifUb7wTqUjwlt7Xvw1tfBUuJW86JdsDqhi2L+7zosisjqro6sjowDKysCGVlOQVYEgggggkGsbw14b8P+DfDuheEfCei6Z4c8L+F9H03w/4c8P6LZW+m6Poeh6PZw6fpWkaVp9pHFa2OnadY28FpZ2lvFHBb28UcUSKiKoAP823/AIOFfh18Tv8AglT/AMFpfhd/wUD/AGe5Lvwla/GyfSPjn4ev7FXstHuviT4Sns/C/wAbfBN4sMm/UdO8W6bPpGueMLeYeTqNt8Sr+zZGQsB/oo/AL4zeEP2ifgh8Jfjv4BvFvvBvxf8Ah54R+InhydZIpHXS/FmiWWs29tcmF3SO9sxdmzvrfdvtryCe3lVJInUfhF/wdD/sSn9rT/gmN468f+G9I/tD4mfsmaonx38NyW9sZr+fwXplrJpvxZ0lZlJeDT08GXNx4xu1WOUz3XgrTosICZE+Sv8Ag0B/bVX4z/sQePf2SPE+spc+Nf2UvG0134Vs7mdftk/wg+KN1qHiHSRAsrm5vF0LxvF4zsrmSMNBpun6j4csf3KPbIwB/XdQQCCCMg8EHoR6GiigD8Uf2xv+CDH7Dv7XPxN8EfGHT9P8W/sw/Efw14+T4i+KfGP7Lcvhj4W+Ifib4ittU03xBpupeM76Lw1qSTa1pniLTINcs/E1hbWfiNdSmubt9Ta7eG4g9J8X/Ef/AIKgfsmaZ9gX4EeEf+CkPw80qCKLTvHfw88d+HPgD+0nDp1sH3nx18MvFeny/Crx5rKwGFZfEHw+8Y+CG1e4hmlt/hvphnSEfrLRSSSu0knJ3dkld2Su+7skrvWyS2RUpzmoKU5SVOPJTUpNqEOaU+WCbajHnnKXLGy5pSla8m3+Elr/AMFmPjlPdW+nS/8ABGb/AIKhQ6hLPFZyE/CvwKulRXbuIWzrVz48trBbBJSc6lPJBaCAfaZHjiyR8LftJ/8ABRT/AIKtftHte/Cz4U/CPwZ/wTd8Lwa3f6V41+Ivi/x7oHx2/aHbTbQvbvaeEvDPhfSU+HPgjVJZTLBfHUvEXiHUbGSBZLa9sriKS1l/b39uT45HwUdI+D9ldmy1Lx58G/jb8Rrxhuze+GPA+s/CL4S6jpYxZ3QDTa/+0T4W1BSJLJ8aWxF0IVnim/nA8e+I/wBoG8kuNL+Evw78GWMyyTQy+Lvi34umtNLi+VvJv9I8L+BbPxNqfiKJpDHvtNX1zwPMU80+erLGJf5T+kR4w8R8F4/LODuFv7HwWOzXKnmuPznN8Th4rB4GricVgaVLD4XEzp0pVJVcNVqyqTWM9pCm6EcFUcpN/sfhfwRlme4fFZ9m31yvQwWNWDw2BwlObdbEU6VDETqValOMpxio16cIcroOEm6nt4uCcfNbr4hfGD/gnF4X8M/FX4GfGLxfpGha/wDGHwcP22PiT4wGi/EL4l/EP4d/EDxX4e0Dx98YtS1nxxp+uaXe/FDwFaumq+DtU1bQNa0Hw5p8uq2P/COz+Hpb7S7j77/bX/aS/wCCJPwN8VRaN+1d8X/i1/wUf+PV1fabfaV8AIPH/jD9pm4v9ehMiWOkp8CvB2seHf2XPB+r3d7CJG0HV/C/he5uZri2lFhJafZvL/J7x7+wf8Qv2gdI1mw/ac/au+J/jPTdVsrq2X4efCew034N/CuFbiKXyrbU9BsZvEXiPxZb2k8iyRnxF4ruvtDRo00SosUMP7pf8G5fhP8AZUb9ifSIfAHwE+E/w1/ae+A/ifxR+zr+1BrWieEtLi+Iet/EPwBqBtIvFGveLL62k8U6tY+P/DJ0LxhC0l8dEh1DU9U0zR41g0t1T0PozcbvPshznhzMeLY8W53k2NeZ1McqOYU4rA5xUqVPq9GvmlDCYzGxwmOpYl1KjwWHo4ZYvD4ahz0I0pHN4sZAsvzDAZrhsn/sfA46h9TWH58M5OvgYwiqtSnhJ1qNB1sPKnGEfb1alT2E6lTlm5I8T+GfxG/4K9ftKaP/AMIV/wAE8/8Agn18B/8AgkH+zbeBXtfi1+0X4T8Nw/Fm5t7lY7htU8H/ALO/hDQ7PTvDOvRQ3ayLp3jrwvrGhXbiQJ4miuPtNvbfQfgX/g3w+Cnjvxfo3xa/4KMftHftE/8ABR74q6bN9ujsPjV40vtA+BuiX7rvkj8IfBvwzdRWOi6Qbl5ZX0G417UPD9wNgm0cBp1m/oNor+nT8jPNPhV8GfhF8CvCNh4B+C3ww8A/CfwRpe86d4T+HXhLQvBvh6zaTHmyQaToFjYWSSzEBpphD5sz5eV3Ykn0uiigAooooA/AP/g548Lar4m/4IwftUSaTC1xJ4a1P4LeKL23jR3mfStM+NngGPUpowoIAsbW6k1G4ZyqpaWlw+Syqp/mN/4LA/GC81fw/wD8EZtD8Nz3t1b6R/wSNvdY8Jwi1vALvXf2rvg/4b/Z78PSWbQ3aTadqa6teeH7v7VJaQCzltLQzzyrn7H/AH3/ALVfwC8OftUfs1/HX9nHxY/kaD8avhZ41+HN5fCJZpdKk8UaDe6XZa3axuQpvdEv57bVrFiQEu7OF8/LX+eF8Ufg38VNd8f/APBDvwB8RtAg07x58GPiva/8E5Pj/oeoy6r9i8P6x+z3+3J8HbfwvaWWo2kUcyf8JT4H+Kvw58S6Zqkix2Wq+GdRuLzQmuFht52AP9H/AOEHgfS/hR8MPhl8ONARE0X4c+BvB/gzR0EXkoum+FNC0/RbBRCrv5Si2sYgI1kbYPlDtjcfeo5ElRZI2Do4yrDoR/MEHgg4IIIIBBFcAi7EVR0VVUfgAO/PbvU8c80WfKlkj3YzsdlzjOM4IzjJx9TQB3dV2uYxOtuoeSVhuYIAREvHzSsWAUEEEDljxxlk3ch9su/+fmf/AL+v/wDFVO+pXLKVjKwK2C3lDazMCCZGkJaQu2AGbflgOc5OQDrXlijx5kkce7O3e6pnGM43EZxkZx0yPWs2XWLRMhN8p2kgqu1d3OFJfaw6DJCMACCMnIrlmZnJZmLMSSSxJJJOSST1JPJPem0AbMutXDbhEkcQONpILuuMZ5OEOSCOY+AfUZqsdUvmBUzYBBBISNSMjHDBQQfQggg8g5rPooAsG7umBVriYqwIIMjkEEYIIzyCOCKgyfU/maSigAooooAKKKKACiiigAooooAKKKKACiiigAooooAKKKKACiiigAooooAKKKKACiiigAooooAKKKKACiiigAooooAKKKKACiiigAooooAKKKKACiiigAooooAekkkbBkdkZc4ZWKkZBBwQcjIJH0OKm+2Xf/PzP/39f/Gq1FAD3keRi0js7HGWZixOBgZJJPAAA9uKZRRQBxvxC+HngX4s+CfE3w3+JnhLQPHfgLxnpF3oPirwj4p0y01nQNe0e+jMV1p+p6bexy21zbyoeVkQlHCyIVkRWH8/37X3/BKH9su6vPB8n7G/xV/Zx8f+HPhpq0WpfAXQf2y4PjloHxW/ZSjj/wBbovwL/ax/Zx8V+HPjZf8AgS5Vo7UfD74lP4r0qPStM0zQ7/UNY0W3ttPs/wCjOigD+eu6/YO/4K4ftp/DyT4C/wDBSr9qP9kfwj+ztqek2+g/EfwN+x/8IdW8Y+OPjRpduIZom134i/tF6LqFh8ONag1K1s9Ug8Q+BfArapaXUHn6PLo+oi11Ky/dj4XfDfwt8Hvh14J+FfgeHVbfwd8PfDOj+EPDFtrfiDXPFOq22haDZQ6dplteeIPEuoarruqS29pBFCLnUtQurhkRVMm1VUfKv7bX/BR79kD/AIJ66H4E1v8Aam+LWkeAH+JPi3R/Cng/Q1jl1TxJqv2/WNM0zWfEiaHYrLfR+E/Btrqaa14s1+WJbPTtPh+zwtdave6Zpl99o6DruieKNE0jxL4a1fTdf8PeINMsdZ0LXNHvbfUtJ1jSNTto7zTtT0zULSSW1vbC+tJorm0u7eWSC4gkSWJ2RgSAabokiNHIqujqVdHUMjqwwysrAhlYEggggg4IxX82/wDwUz/4Nu/2X/2wbjxF8Y/2X5tL/ZB/ahv7LUvtuteDtEtl+DfxUe9jL3ek/FX4Z2kK6PJHrswaLWNf0KyiuL43l1eeJtG8YOsNqv8ASVRQB/lC654S/wCCin/BE748JpXibxR8TP2A/HOoalLFoHxa8AJrnxM/Yg+OpsoEDaj4k8IR2Xiewj/tBQmp6jFpXhzxPeeHlutO063+D3gwwedb/wBJv7I//B0prHgbT/B3hz/gqB8BpPBfh7xC8GmeHP2yP2b3HxN+AXjOdLeGWe5v9P8ADt3r39nalY2rw3PiPTPCWv8AibxBpV/cvp+p+BPDNzby2MX9bHxq+Bvwg/aM+HPiP4R/HP4deE/il8N/Flk9jr3hHxlo9rrGk3kZ+aKeOK5RpLLULOUJdadqljJbajpt7FDe2F1b3UMUyfxW/t5f8G1f7QH7KcvjP4z/APBIvxtceNfhtrkN1qPxO/Ye+Mn9jePvD3ibS7Ay30GleH9J8c2OqeDvilZWgaQaL4e+IFj/AMJho1zBDqHh3xfqniCWzW2AP3w/4KA/Cz4V/wDBX/8AYNXx5+w58bPA/jn40fBvxVoX7QX7JHxc+G3ivRr+bwv8d/hr/wATnRfD17qMVyJPDd54gtZLjw1q2ma+LF9D1G/07VdY07ztFihH1X/wTI/bh0z9u79lzwv8RtWsP+EQ+OXgi4uPhb+018KL6I6f4h+Fnx38F7dJ8deHdV0Seaa+0uyvdSgk1zw4t6xnm0DUrAzlLyO7gh/zRvgt8TvC3w3+NGon4O/FX4qf8EW/26/DOtnTPEvgnxDqXxEj/ZL8X+KNLuyF8K+JIdcGvfEr4KrcalM0Vx4Z+LWmfF74Y7Gun1bxB4Q0dVtq+2PiF/wVZ/4KS/sF/tC6F+1R8W/gDoXww/aF8b6No2l/EX4rfDq0s9W/ZO/4KBfD7R0jTR9X8cWngzV7/wCG+rfEbTbZJ7jw58bPg54qsLyxsJf+Ed1TwgLC8nuLYA/s8/4KPf8ABVD41/8ABPb9oH4NeD9Z/ZM0Lxh+zN8adPsPD+mftSeJfjc3w18B+C/i/darqFu/gb4j3h+G3jHTfA9jPpUel6jpXiHxNqGk6RqcV1qc1vfsmga1HZfdfh3xL+1P8YPCeg6xpeq/s4/B/R/ENjY6kfFPgfxh4h/aXuL7RdRDyNL4Rv7vwx8F/Cun6m2nyQXGk+Ib628e6BFfN5lx4d1uwiEd5+Hn7Lf/AAc7/wDBKD9tr4fN8Of2pzb/ALO3iLxfpp8P+M/hd8ffDQ8cfCHxCmoxmDULCDx3ZaJqXhPUvDcsMvlXEvj/AEnwYZVaaN9PeJPNk9y+Hv7IX/Bvb4/ubvxP8E/if8CIdOj1GDUrzQvgV+318RvBfgLTtQk8u9WKf4cfDL9oHQ/BOkNOHSS70t/DdpHOJGS8tHDuhAP04+IfwO+Dl5pGjxaj4q07WPiP8PfiV8K/jr4i+K/jfVtK1XxvocXwx8T6ZrviLxBqmsJBb2vgfSNd8DWXjLwidN8P6f4a8J2ukeLPEGlaVpGnaVqWpR19naRqtjruk6ZremSvPpusafZ6np80lvcWsk1lf28d1ayva3cUF1bvJBKjNBcwxTxElJY0dWUfk747+Of/AASD/ZM+DCfC/VP2jf2WvgT8GLhr7VvEPwx8I/Ev4eWMvxTS6e3OsnxLo2h3OpfEH4gPrctqieLJLWa7v/GNvLd6Z4um1vTNQvbG4/Fr9oL/AIOOvjP+2b4pv/2Uf+CGP7MvxM+NfxW1iaTRLr9o3xr4NTSvAPgLS7mX7DbeMdD8O6rKbPTNLcO8ln4r+Mtx4K0nR721S3vPCOuC5jiUA+6/+C2//BS/xV4Abwv/AMExv2HnHj3/AIKG/tg/Z/AGi6foZiv7b4F+AvFaPa+IPHvjK5gad9C1abw0dVvdD8+DHh7RbXUvH2sNa6bpOmw63+Bv7DX/AAax/tN6N+2T4a039rvS/Ca/snfCDxXZeLdT8QaT4l8M61pv7RI0LUoNQsfDsXhiy1G68V2GmeJ7qK3TxIvi7SfDv2HRl1K2spb+/ewlX+i3/gjj/wAEWNO/YAufGH7TP7SPjuX9on9v/wCNqahd/FP4yate6hrdp4Xg168j1PWfDHgy/wBaA1O/m1K+jhl8S+L9Qit9R1p7eG0s7XS9Kiktrv8AfKuLF4GljZYeVadVLDVfbRhTlGMJySsvaXjKXu/ZdOVOau0pWk0/puHuKsfw1QzqjgMNgKk87y/+za2JxVGtVxGFw7n7Sp9TdPEUqSdVqKq08VSxWHqclNyouVOElXtLS1sLW2sbK3htLOzgitbS1t40ht7a2gjWKCCCKMKkUUUarHHGihURQqgAAVYoortPmSVOh+v9BRQnQ/X+gooAjbqfqf50lK3U/U/zpKACiiigAooooAKKKKAMPxN4c0Txj4c1/wAJeJdNs9Z8O+KNF1Tw9r2kahAl1Yapo2s2U+nanp97bSgx3FreWdxNb3EMgKSxSOjDDGv8tT9jvx7rf/BBb/gv/wCIvhZ411S60j4NWnxa1f4D+PtR1KV7W21L9nn4t6jpuqfDvx9qzyoqLD4esb7wF8RNUNulyyDRdT060luDKXk/1R6/gE/4PM/2KpNM8T/s5ft9+EtKZbXX7Wb9nv4t3lrCkccOtaSNS8XfCzWLsxEyT3ep6Y/jXRbq/uEUQW/h7w7Y+c/mW8SAH9/MbpKiSRsHjkRXR1OVZHAZWU9wykEHuDTq/Cr/AIN2/wBvdP28P+Ca3wn1PxJrA1L4xfAKKH4CfFtbm5SbU73UfBWnWcfhDxbdh5nvbgeLvBE2hX97qlzFEl74mg8SwQGX7DJIf3VoAKKKKAP52/8Ago/4kuIv+CkPgLw5c38MFi3/AATa+Ndxplo7xQyXep6n+1/+yVLqEMJJWW7drHw1bXRtgZPKisJrlUVUlcfKdfQ//BbRbn4fftgf8E1fi68s1j4U8bp+01+zD42vYXZPOv8Ax34U8FfE/wCF+nvuZYHS58Z/CWWCSCXc7pcGeAGe0jR/niv81vpj4WtT8R8ixck3RxXB+Dp0pWdvaYbNs4VaC6PlValN2/5+6rq/6q8DqsJcK4+kmuelnmIc1dN2qYLAOE2rJpS5ZRV73cHr0RXx34B/aSu/+CUH/BQXQ/2qtR8yD9jb9sU+Ffg9+19FBE72Xw4+IGkyS23wx+Oz2lohmEFjbXN3o/iF4oZUfS59enljvdc1HRY0+xK4T4nfDTwX8YvAHiv4ZfEPRLbxF4N8Z6RdaLruk3QYLPa3KjbLBKhWa0vbSZYrywvrZ47qxvYILu2linhjdfxLwm8RMZ4Y8aZdxLQhOvgrSwGdYKDs8blGJnTeKpQu4x9vRlTpYvC8zUfrOHpKbVOU7/e8Y8M4fizIsVlVVxp13bEYHESX+742kpexqOyb9nNSlRrJJt0ak+W0+Vr+vTQNf0PxVomleJfDOsaZ4g8Pa7p9pq2i65ot9banpOraZfwJc2WoadqFnJNa3lndW8kc1vcW8skUsTq6MVINa9fwo/8ABNX9vf4tf8EfPjT4f/Yp/a28Sa74t/Yr8e+IBpP7O3xx1uSW60rwdFfMDZeBvEF5JLOPDl7o7yeRarLLFp9zZxSolqmnPp91oP8AdJY31lqdlaalp13bX+n6hbQXtjfWc8VzaXlndRLPbXVrcws8M9vPC6SwzRO8ckbK6MVINf6ycGca5VxpgHjstnGcOSjXpVaUnUw2MweJUnh8bhKrjCXJKdOthsVha8KWMy7H4bE4LF0YypQqVv43z/h/GZBiFQxUXFtypyhNKNbD4imoOrh68E2lJRqU6tCtCUqGLwtWjiaE3GcoU7VFFFfZHgBRRRQAV8y/FX9jv9nT4z+LfAvjrx78M9B1DxX8Pvi14P8Ajhomt2duNLvrv4k+Aba3t/CXiDXp7AQSa5Po503QJ4RqLTmSbwt4XE7SwaDp0MH01RQAUUUUAFFFFABRRRQAwiTzEKugiCuJEMbGRmJXyykgkVUVQH3qYpC+5cMm07n0UUAFFFFABRRRQAUUUUAFFFFABRRRQAUUUUAFFFFABRRRQAUUUUAFFFFABRRRQAUUUUAFFFFABRRRQAUUUUAFFFFABRRRQAUUUUAFFFFABRRRQAUUUUAFFFFABRRRQAUUUUAFFFFABX5Kf8FMv+Cqngn9huz8LfBn4WeE7z9o79uz43FtF/Z8/Zb8Dsuq+JdU1S9iuY7Lxp8QrexuFvPCnw2025gllu9Uujb3Osiyv4NKaOz03Xta0Hzn9v8A/wCCnfjjwj8UbX9gf/gnZ4J0/wDaM/4KE+NbJG1GxdjL8Jv2WvCt7DBNL8T/AI+eI4njsNMa10+5GoaD4ON2NV1OQ2T3dvu1Lw9o/if1X/gnX/wSy+H/AOxfc+JPjn8UPFWpftJft1/GGE3vx5/ar8fGbUPE2t3t48dzceE/AFney3EHgT4eaU8dvYaZomjJaSXljp2mx6gxtNO0jTdKAPyc8C/8G7uvftmeDPjX+0P/AMFc/ixrPxX/AG3f2jfh9faV4V0/w3qd0vw3/YwOorLqPhrw98NNMstWfS9fvvBl69rFfRiZvC0oXV7G1Gt3Go3/AIw1n5n/AOCE37fHxm/YA/aW8Vf8EMP+CjGpDRfEngjxDPpf7JvxG1u5lGjarZ6g02paX8PLLxHqJthqnhHxpZTwa78Hbq7hhu7W8utQ8BTSLcP4b8P6X/avX4Af8F7P+CO2kf8ABS/4EWvxH+EkFp4X/bS+AGn3/iD4LeMLIwaVf+OLGxD6tN8Jdf1lXtnW21O/hW98FarfXKx+E/FUhuIbix0vWvERugD9/wCiv5xv+Df3/grzq37cfwx8QfspftRC78I/t6/sswz+EvijoXiSH+yNc+JOheGb9vDj+Ov7HuY7e6s/FuiahbpoHxO0cQstn4g+za5CLW08QppWk/0c0AFFFFAH5Z/8FH/+CPP7FH/BTrwjPZfHn4dW2j/FKw0yay8G/HnwLFa6D8U/Csm2Q2cU+sRQGDxboFtNLLJ/wi/i631jRkNxdT6fBp2oypqEX8L/AO1d+xv/AMFTP+Df228RWv8AaXgr9rv/AIJw+NfEMWnav4U+Jnhm0+I37P8A4o/tC9t0sdL+I/wc8UXV7efCvx1qszwRweJPAupWl3fS20S2HjC7+zTWMH+nZX8dH/BZf4z2X/BRz/goX+z3/wAEv/hvfNr/AME/2WPFNn+0h+2zq1lFFeeHLnxNpFnEnw/+FdxqUMjxy3sVpq1/YeINJY7PtPi9HA/tLwdfxWmGKxNLCYetiqz5aVCnKpN9Woq/Ku8pO0YrrJpdT1cjybG8Q5xlmR5bTdXHZrjaGCw8Em0p16ig6k7fDSoxcqtab0p0oTnJqMWz+UfWf+CG/wC2z8Xvh3qH7UXw/wDh18LfAMXxJ1LVPiL4T/Zj0nxTrFj4p8G+DvEk8+veHdB0ibxUlxp8R0/Trq1tLDR/EHi4a7BaJbRanKuqC4tIuF+AH7Svwd/Z28dw/Bj/AIKT/wDBPzwVrY0RodJvPFmm/DS1+Fnxb8O2yO8Ud9rvhrSIfC3hz4h2myKPytVaLS9bvYfP1OXXfEE8iRy/6A6IsaJGihURVRFAwFVQFVQB0AAAA9K+fP2hv2U/2e/2q/Cb+Dfj58LPC/xD0oRzLp93qln5HiHQpJwnm3PhzxPYPaeIPD90/lxiWfSdRtHnRfJn82EtG35hHi6riXOlmeHVShOcnCpg6k8Ni8MpPT2VWMlzqKtpJx57LnlJaH9z4n6OeEyWnhcdwNnbwucYWhShicJxNgsHneQ51UpRXM8XhK2FqfU3WnzydSlRxXsFK2GpUp/vD8yPhp+wp/wRu/bn+EGp6r8Cfh58ONX0XWbJLafX/h9q2teH/iH4Iv5GE9ubvTtQvDq/hvV4JYd62eu6O1pfQq6TWt/p07rL9ffscfHj4+f8EXdFh+GfxW8J+Ffj9/wTp07UI0g+Lvwm+G/hzwV+0J+ztpNzlZfEvxZ8EeCtG0zS/jF4I0pzbnxN4x0kTeO7SxTUvEt5b30NtBoFfiV8Rv8Agg7+0f8As4/F/wAPfFj/AIJuftIar4Tjm1/T7a90nxnrs2g+I/CelXt9Al7cy63pNjJonj7wxZRvJcah4e1nQ7W7n063+y+R4ju5Sr/0k+INf0r4RfALU9f/AGgvG2ja9pngj4bzXHxW8cavpFhomi+IBp2iFPEmqS+HoTNY2lvrUq3HkaFAbkObqLToRcyOokI5xWyqvQq5bmtXNcLip2lgcWqssTSs4JwnzqShUlzctOpSklOS1p1Ix1ip4cZdx7lebZfxt4f4Tw+4gyHCqVLirh94HD5DjlKFWccRQVGdNYnDQ9n7XFYXFwrVMLRfK8dha1RQP6Q/BfjTwn8RvCPhrx74E8Q6R4t8GeMdE07xH4X8TaDfQalo2u6Hq9rHe6bqmmX9q8kF1Z3lrNHNDNE7KyMOc5A6evwJ/wCDZ3xV4v8AGH/BJD4J6p4jtr228PQ+O/jdp3wujv2eSeP4Z2XxW8UxaBZLPIWee00a8/tXQrBizJDY6Xb20J8mCMD99q/U6bnKEXUioza96Kd0n5Pz3td2va7td/wZXVGNarHDylOgpy9lKfxOF/d5vdheSWjahFNq6jFOyKKKKsxJU6H6/wBBRQnQ/X+gooAjbqfqf50lK3U/U/zpKACiiigAooooAKKKKACvzx/4Kt/sdWX7eP8AwT//AGlv2ajZQ3Xibxf8Pr/WfhvJKyQtZ/FLwVJF4v8Ah5Kt22Hs4LrxTo2naZqk0bKZNGv9RtZN8FxLE/6HUEAgggEEYIPIIPUEdwaAP8tf/g1l/bg1H9jz/gpEf2b/AIg6jd6B8O/2tIR8H9c0nVGaxt9G+NPh+8vLj4X3t7a3LRSw6pdavJrnw7htvJ89r/xpbLPGotg0X+pRX+TJ/wAHEH7Jmv8A/BPr/grX478efDaOfwn4W+MmuaP+1b8HNX0gG2GheINc12bUPFltp8kUa21hd+H/AIpaRr99p2n2oVdN0W90ArFHHLEp/wBLD/gml+2R4e/b4/Yg/Z6/ai0SWyXUviF4D01PHmk2UitH4c+Jvh8N4f8AiJoAj8ySaG3sPFmnap/ZZulhuLvRZdN1Awxx3kYoA+66KKKAPx4/4Lq/s6eKPj//AME8PiVrfw205tR+Mn7MviTwZ+1n8HYo4/Pm/wCEy+BOrjxRqNva2ytHLdX2q+BT4w0XT7a3kWea/wBStliSdsW8v4tfAb4xeGfj/wDB/wCH3xg8IzxyaN468N6drQt0nFxLpWoSwqmr6HeSCOLN/oeqJd6VfDyo8XVpLhQpUn+ymWKOeKSGZFlimjeKWNwGSSORSjo6nhldSVYHggkGv4VPj38Irj/gjt+3X4l+C3iQvpf7B37ZXi/WPiN+y54xaFofCnwY+KGt37z+M/gVq9yQINC0xr66trvwxvZdOTSbnSbkSvcv4pn07+XvpS+GuL414Ow3EGT4eWJzrg+WKxTw1KM518bk2KjS/tGjRpwTdWvhpYehjaUGuZ0qWKhSvVqxhP8AXfCHiqlkWeVcrx1VUsBnipUY1ZtKnQzCk5LCznJ/BTrqpUw8pXt7SdCU7Qg5R+3qKQEMAykFSAQQQQQRkEEcEEcgjgilr/MA/rM8/wDih8LPh/8AGfwTrfw7+J3hbSfGHhDxBava6jpGr2yTxZZWEV5aSkedYalZuRcafqVnJBe2F0kdzazxTRo4639hz4//ALdX7AJtPhDpGn6/+3p+xv4c0+K38HfDltX063/bE+CnhbTYWc6P8M7jVhpmgfHvwp4csLeS30z4f3+q6T4+hspdN0/whJdadokumzadSQzy2ssdzBNJbzQOs0U8UjRSwyRkMskciFWjdCAyupBUjIIxX6v4WeL/ABR4WZrDEZXXljclr1ovNeH8RUf1PHUm4qpOhJxm8DjlCK9ljKEb80YRxFPEUU6L+Q4u4Lyni/BSo4ymqOOpwawWZU43r4aeripJSh9YoXb56FSXK1KTpyp1Gqi/oG/Za/b7/ZO/bGsbofAz4v8Ah7WfGGirLH4x+EviFpvBvxn+H9/ayra6hpnjr4U+KI9L8b+G7mwvzJp8txfaMumXNzDIdOv72DZM/wBjV/lef8Fz/wDgpD4R+KPxI8BfD/4XaX4Lvv2h/gx4kg1rxR+2J4Ntrnw38bdGv9KsrjS9O+GFt8S/CWpaPd+KLbRi51DVrnxBFrl5oeqQ2Nho2qWF3FrduT9ib/g6v/4KUfsvDRfDPxl1fw7+2D8NdNW0tH034tRnSviXb6ZbsnmRaZ8WfD9smr3upTqsgbVvH2lePbndKSQyJGif60cKcQw4r4dyniKnluZZRTzbCQxdLAZtRhh8fRp1L8jq0qdSrFQqxSq0J8ydWhOnVcIc/Kv4xznLHk2Z4zLJYvC42eDrOjPE4KcqmHnKKTkoTnCDcoN8lRJNQqRlBSly3P8AVDor+X/9kj/g7I/4JlfH+z0/TvjVfeP/ANkzxtMLaC7sviN4evvFvgOXUJ13PFpPxA8B2esKtjC2UbUfF3h/wbHkZMQUgn+hb4MftI/s+/tF+H08VfAT42fCz4yeHXWJm1b4a+O/DXjKzt2lUOsF5JoOpXxsrpQdstpdiC5hkDRTRJIrKPoTzD2qiiigAooooAKKKKACiiigAooooAKKKKACiiigAooooAKKKKACiiigAooooAKKKKACiiigAooooAKKKKACiiigAooooAKKKKACiiigAooooAKKKKACiiigAooooAKKKKACiiigAooooAKKKKACiiigAooqOWWKCKSaeSOGGJGkllldY4oo0Us8kkjkIiIoLM7EKqgkkAUASEgAknAHJJ6Aepr8A/2xf+ChPx2/aa+N3iD/AIJx/wDBJyTTPEXxo0wwaf8AtS/ti3ENtrPwZ/Y88L6m81jqdnp2pR3YsfGXx1jQSLpXhOyN4mkahFLb3UU1/pviJvCnnHx6/bB/aP8A+CrvxW8X/sV/8Eu/F138OP2bfBmszeEf2u/+CjlhFc/2bpkltcpD4i+D/wCy/ehIofFPju709yl7430u6bTtNs7tbvTNT0+3n0nXNT/Zv9jn9jL9n/8AYS+CHhr4Cfs7eC7bwt4R0KIT6rq1yUvvF/jvxLOobV/GnjzxE0Ud54j8U61c757y+udlvaxGHTNItNN0aysNOtQDzL/gn7/wTx+Bn/BPH4Sz+A/hfBqHirx/4xu4/Enxu+OvjSU6t8U/jb49l8+a/wDFXjXxDcvcX08Qu7y+bRdDW6fT9Et7qcQia+vNS1C/+9aKKACiiigD+R7/AILz/wDBNz4rfBz4neFf+C1P/BOOwuPC/wC1J+z1fW/iv49eEvDFmxtvij4D0i1e31fxpd6LYeRJrN9YeHfteh/EnSizDxX4AlnuHaG+0SQ6p+7f/BMv/goh8H/+Cmf7K3gv9oz4V3EWn6pcRReHvir8PpruO41n4ZfEzT7O1l8Q+E9SKrE89oHuItR8PasYLdda8P3unaj9ntJ5biytf0DlijmjkhmjSWGZHilikUPHJHIpR43RgVdHUlWVgQykggg1/D9+2J8K/iV/wbgf8FBrL/goP+zF4V1vX/8Agmz+1Z4ntvDf7U/wR8MqW034Z+IdV1C4vZJtG0x/K0zSYbe5u7/xJ8Jb1pbSysL0+IvhlcXmhaHrOlm9AP7hKK8d+Gf7QHwa+MHwT8MftGfD74ieGNd+Cni/wbD4/wBH+Ig1OCx8Ojwq9k9/c6lqd5qDWo0U6VDFcR65a6stld6Hd2d7ZatBZ3dncwxfzRftv/8ABZP9oj9rTxNr37LX/BGvRY9f06JpdB+KH7fPiC2uLD4O+BJZpJbLUrL4U6pfWbweM9a0xSZf7c0i01iJpQk2h6dqliDqdcuLxdHBUXWrSUYXUeaUowim03ec5NRhFJNttuT0jCM6koQl6+R5Jj+Icxo5ZltCtiMVWu4UcPQq4mvNRaTVHD0IzqVZtySStGnBN1cRVoYaFWvT96/4Lg/8FpJ/2RrW0/Ym/YsiPxV/4KJfGy2tdB8M6F4agtNfh+BmmeIY1EPjDxVbMlzZN4vu9OkkvfCXhrUVW3sLXb408ViDw7bafZeI/i7/AIJs/sOp+xf8G9STxprP/Cc/tDfGDWpPiF8fviVdTSahqPiLxlqTTXZ0mPWLsNqOoaToEt7eiG5vJDJqOrX2ta2YrZtVa2h81/ZN/Yp/Ze/4J4WXiP4t/F/4u+G/Gv7RXjdr7Xvip+0t8b/FWjaZr2o3mrTyXOtf2JeeKNWkk8O6NqGoNc3OpXMupXmsa5du0mt6veRwWNpYaPxa/wCC0n/BOL4RXs2laj+0PovjbVoVmb7J8LtH134hWcnkrIQsXiPw7p934TdppEEMIGvAM0iSMVt98yfnOe5vi8+awWV4XE1cHCSlOdOjUlLEzj8LaUfcowesFOzlK05qLUYx/tbwm8OuHfCeL4n4+z7IcBxPiaMqOFwuMzPA0qeS4eurVIU5Va0ViMyxEE6derh1OnRpe0w+HqVYVK1Sp+p9FfzPeNP+Dl74GNf2mj/BX9mb4y/EjWNRvY9P0uw8Uar4a8DS6pe3LpBY2+nw6A3xIvriW9u3WCCFbIXDhoysLTObdf2CuP22PCnwi/Zk8KftC/tn6Zof7K+reI9JbVZvhbqnjBvG3im0muHebS/DunwW3h3w7rGv+LJ9MezutT0HTPDrzaHcTz2t9L5djc3S/NYjJ8ywqouvhZ05Yifs6NPnpyrVJJXfJQhOVZxS3lycqbSbTaT/AHDJ/E3gXP55lHKeIcNiqWT4ZYzM8a6GNw+V4Kg5KEZV81xOGo5bGc23yUlinVnGFSUYONObj9j+IPEGheE9C1fxP4n1fTtA8O6Bp15q+t63q95Bp+l6TpenwPdX2oahfXTxW9paWlvFJNPPNIkcUaM7sACa/l5+Iniv9on/AIOE/wBrLS/2KP2OBq/hX9i74b69Ya38b/jVeWeo2eharpdpeIX8VeIQ8MMk0Qe1u7X4WfD9mjvvEWshvEGtCzs7Rrnwt9p+Bv2Tv2/P+C/PiPSbzWrHxv8AsPf8EsI9Ts9QbUPEVmNN+Mf7RWm2Ei3UVxpHh6R9t5pmpEwHTL/UjL8PtDlK6vbHx7rWjJYp/ZV+yJ+xp+zn+wv8G9B+BX7M3w20X4deBdFVZrv7DCJ9f8Va00UcV54n8Z+IZw2qeJvEd+IkFxqep3EzxQR29hZJa6baWdnB99w1wwsHyZhj4xlimlKhQ0lHDppNVJNXUq+6STcaSbacptOH8ieNvjrLimOI4T4QrVaPD3M6eaZolOjXztwl/u2Hi+WpRypSSlUc1CtjmlGcaWGjKnie9/Z5+A3w4/Zf+CHwu/Z8+EWiroHw4+EXgzRPBHhTTsrJcf2dotolub7UrlUjN9rOq3An1TWtSlX7RqerXl5f3LNPcSMfZKKK+3P5dCiiigCVOh+v9BRQnQ/X+gooAjbqfqf50lK3U/U/zpKACiiigApGYIrMeiqWP0AJP6ClooA/nP8AHP8AwdJf8Ep/h7408XeAvEXin42x+IPBXiXXPCeuJafBrX7q1TV/D2p3Ok6ittcrchbiBbu0mEMygLLGFcABsVy3/EWF/wAEjv8AobPjr/4ZPxD/APJVf0PzfC74aXM0txcfD3wRPPPI80883hXQ5ZpppWLySyyPYs8kkjsXd3JZmJZiSSai/wCFUfC7/onHgT/wktB/+QKAP55f+IsL/gkd/wBDZ8df/DJ+If8A5Ko/4iwv+CR3/Q2fHX/wyfiH/wCSq/oa/wCFUfC7/onHgT/wktB/+QKP+FUfC4dfhx4E/wDCS0D/AOQKAP8APU/4ODP+Cof/AASe/wCCrH7P3gif4R/Eb4qaJ+0x8A9V1rVPhmniD4M63ZaP4z0PxWNKtvFvgLWdYF+raKLk6Rpmt6Pqs9tqENpqWktYPb21trN7f23kv/Bt3/wXA+DX/BNn4d/Hz4B/tdXnxEg+FHijxLoPxK+Et14T8Jah4tfRPF11ZS6F4/024srZkuLez13T9O8JahZtG6Wlvd6TqbtG1xqRevsz/glN8EvgH8fP+C3H/BXTxp478D+BfFPiX4Y/tSeONG+Emn3OjWOqeHtI8MzfF/4s6VrevaJptzFeaXBqJsfBvhKzj1W1Ec0Nvq2oxacbe01C4iH99ml6Ho1t4T8Nx2WkaVZ2tnp1vZRW9tYW0EccUMQiiSKKOFUSNRCx2LtVS3yrgnHzOXcSU8x4j4g4ehg6tJ5BHAKpjKk48mKrY3B0MdOFGko3VOhRxmFi6sptzqzqw9nBUlKp9Dj+H54DIMjz2eKpVFncsc4YWEHz4alhMVWwcJ1ajlaU69bC4l+zjBKFKNKftJuq40/5tf8AiK+/4JJf9DR8eP8AwyPiL/5Jo/4ivv8Agkl/0NHx4/8ADI+Iv/kmv6Sv7O0//nxs/wDwGg/+Io/s7T/+fGz/APAaD/4ivpj54/m1/wCIr7/gkl/0NHx4/wDDI+Iv/kmvlT9tD/gvl/wQc/b0/Z98a/s4ftCr8cvEngjxdbedY38PwR1+38ReCvFNpFMNB8ceDdW855tG8T+H7mZp7K7jDwXVvJd6TqltfaPqOoWF1/Xr/Z2n/wDPjZ/+A0H/AMRR/Z2n/wDPjZ/+A0H/AMRQB/lbfs2f8FitB/Zv8R+JPgf8UPEHjf8AaO+AfhDUbnTvhD+0LaeErvw38Sb7wjEqnQbXxv4L8TajE01xFbPDZXUn9u3F7pl5BcQRX3iWxazvV+3k/wCC8P7FMmPL0f42vuyV2eBdKbdt+9tx4qOcHg46d6/0Cf2gP2dPg5+0/wDBv4g/AT41+B9G8Z/DH4m+H7nw54q0C9tkQT2szJPa3tldQiO507V9Iv4LTVtF1aylhvtK1ays9Rsp4bq2ikX+K79l2Tw9/wAG/wD+33oH7Gf7fvw/8M+Pf2Pfilq/jB/2IP2ytf8ACmjXk3w90/xxrGkprvhvx3qzaTEk1rBPHoWn+NYriRpPh7qN9J4l0u3i8GeNbu6i/n7iP6MvhTxLm+KzmvlmYZZicbN1sTQybH/UcDUrylzVK8MI6FanQnVbbqRw/sqMpNzVJTlOUv0vK/FnjHKsFRwMMThcZSoRUKVXH4d18RGnFJRpyrRq05VIwStGVXnqW0c2kkvhC9/4L4fAG9v20rwN8B/2gPFmozHytLtJNG8LafPqVwBMWSO3sPEuu3axlUjdGS2mnMbSM9tGYtr/AJtftqf8Fgf2n/i5oGpeAvh94NP7OPg7V7SSy1uMa5DqHxY1Syn/ANHntbi6eHS9R8MWVyd2+LS9FttSaEsp1mS0eZJP9Yu3+GHwi1Kzgu7T4ffDy+sL+2jnt7iDwt4duLW7tLmIPFLFKli8U0E8LhkdSySRsCCVNcY37K37MTEs37O3wOYnklvhT4GJJ9SToWTXZw79HPwr4ZzPC5pgeHqWNxGE5Z0pZ3iMbmqhWg041oYevill3tE0pQlVwFWdKolUpSpu1scz8UeLs1wdbB4jMZ4eNbmjJ5fDD4O9OSV6cpww8sVZ6qXs8VSUoPlmpJu/+Od+zl8B/wBh3xU9hrH7Vf7bXiT4X2090t1qHhv4T/s7ePvip4jls3VJJbW517xFd+ANF0zVpJmmikuLW38T2UGEuEe+LtEn74/s1Xf/AAaYfAqbS9X+IDfte/tL+JLBLaaSf4weDvFFt4ZbUoWZ5bmHwh8Pj4M0y4spGbYuleIpPEdsIEjSc3MgeaT/AEP/APhlT9mH/o3T4G/+Go8C/wDyio/4ZU/Zh/6N0+Bv/hqPAv8A8oq/ddtj86P5R9L/AOCz3/Br/ovhC/8AAOlfsmeALHwbqsVvHq3h2D9hXwYum6sbSIxW9xqsH9hH+0r2JWYrf3pnvfMZpjOZWZz+efxU/aJ/4NUvGfiD/hOvhHa/thfsg/EyKZ7iy+In7KNh8TPhjrOlzllkifSNEvNU8R+CdI8mVRIg0rwtZEnAcsI4hH/eJ/wyp+zD/wBG6fA3/wANR4F/+UVH/DKn7MP/AEbp8Df/AA1HgX/5RUAfwSaZ/wAF1de/ZhdG/ZT/AOCu3xR/aV8KWGf7K+EP/BQf9j7xH4ommji3EDWPj/8ADfVl+J+oPMrpE7jSYUgaMTKkvmtEv3J+zb/weY/CXUby38Pftb/speNfCckLi0uPiL8ANaXxz4c1KYFUOqJ4H8e2vgTxHomlMxaQw/294h1OOAAi2mmPlV/YFpf7Mn7N+h6tBr2i/AH4L6Trdra3djbavpvww8FWOp29lfvbSX1pDfW2ixXMVteSWVo9zAkojne1t2kVjDGV7L/hVHwu/wCiceBP/CS0H/5AoA/nk/4iw/8AgkbkA+LPjoGYEhT8FPEG4gYzgfaucZGSMgZHqKQ/8HYn/BIxfveLvjmv1+CniAfzuq/TBvAPw88ef8FIIvDtp4E8EDQP2bv2RpNa16xj8MaIbO98XftTfFNLHwtPcxizMLap4Y8OfsxeLBApQT2un+PHkkHlalbMfsrWv2efgH4klhn8Q/BL4S67Nbo0VvLrHw78I6lJBGzbmjhe80iZo0ZvmZUIBPJGaAPwE/4ixv8AgkV/0N/xy/8ADK6//wDJdIf+Dsj/AIJELjd4x+OK56Z+C+vDP0zd1+8P/DKn7MP/AEbp8Df/AA1HgX/5RVha3+xZ+x54mS3TxF+yr+zpryWjSNaprHwW+HOpLbtKFErQLeeHJhE0gRA5QKWCKGztGAD8OD/wdmf8EhVxu8afG5c9M/BnXRn6ZvKb/wARZ3/BIP8A6Hb42f8Ahmtc/wDkyv2A8Uf8Eyv+CdHjS1Wz8U/sJ/si63DHHPHbte/s8fCh7m0W58r7QbG8Xwqt3YvN5MPmSWc8MjeVHlvkXHz741/4IYf8EkPHFjLaat+wX8AbFTB5ayeEvC8nga5GyVbhGF34NvdBuPM82NQ0hlLvCXt3ZreSSNgD4Fj/AODsj/gkRMSIfGPxwlIxkR/BfXnIz0yFuyRnBx64q9b/APB1t/wSZu54bW18RfH25ubmWOC3t4Pgb4llnnnlcRxQwxR3DPJLI7KkcaKWdiFUEkCv5yv+Dcnwlofwr/4Kv/tr/ABbSGK18E+LdU0vSdGul0+++z23ww+PTeDo3FxgSPJp8OuRWwls4fsshuPMkaNltVb/AEhr/S7CG8mUWdmfnEgItYVxvAkAHyn7u7Gc84zgdK+byvPa2YZ/xPktXARw1Ph+plMcPjFinWlmNLM8uhjZVZYd4aksI8PW9rhlBV8V7ZU1WcqTl7KPv5lktLA5Jw5m9PGvETzynmkq+FeHVJYCpl2PeEjTjXWIqvFe3pOniHJ0cN7JzdLlqcvtZfzyf8RNf/BN7/oC/tXf+I0ePf8A43XaWX/BxJ+xBqNpb3+n/Cz9t2+sruJJ7W8tP2Rfipc21zDIA0c0E8OnvFLE6kMjxsysCCCRX7u/YrP/AJ9Lb/vxF/8AEU8W8AAAghAHAAjQAD0AC8V9IeAfiVov/Bej9lfxJFNP4e/Z7/4KCa7DbusVxLo/7E/xo1KOCRl3LHM9nosyxuy/MquQSOQMV1ml/wDBaz4Ha3dCy0b9kz/gpXqt4Y3lFpp37BXx7vbkxx43yCC38OSSFEyNzbcLkZIzX7GCKNfuxoueuEUZ/IU4Ko5CgH1AAoA/JZP+CvPw8kdI1/Ym/wCCpAZ2VAX/AOCe37REaAsQAWkk8LKiLk8u7KqjJYgAmu+H/BTHw4Rn/hjb/gohzzz+yB8RQfxBXI+h5r9LKKAPgPS/2+bbWLGDUbT9kH9uaK3uPM8tNS/Z41HR71fKleFvO07Vtdsr+3y8bGPz7aPzYyk0e+KRHbsdC/bA1HxF9q+wfsnftdW/2TyfN/tv4ZeHPDm/z/N2fZv7f8d6b9r2+U3m/ZfO8jMfnbPNi3/ZdFAHzDp/7RnijU7yGxtv2Wv2ko5py4R7/SPhZpdouxGkPnX2pfFe0soAVQhTPcRh3KxoWkdVPUj4t+Ps/wDJs3xrHudc/Z9wPc4+OZP5An2r3WigDiE8V666IzfDbxnGzKrGN77wAXQkAlGMfjh0LKeCUdlyDtZhgnp9Mvbm/tVuLrSr/Rpmd1NjqUmmy3SBTgOz6TqGp2ZWQcoFumcD76oeK0KKACiiigArH1fXLLREhe8h1eZbhnVBpOg65rrqUCljMmiafqD26kMNjTrGshDBCxVgNiigDyzXPjD4T8PLbvf6T8TJxdNIsY0X4M/F3xEymIIWM6aB4I1J7VTvHltcrEspDCMsUYDxDxn+3F8GfAl3HZa34N/avvZpPuv4S/YW/bU8eWo/dxy/vL3wT8A/EFpF8sij97Onzh4/9ZHIq/YVFAH546v/AMFQf2X/AA+kL674Z/bJ0ZLlnW3bVP8AgnR/wUBsFuGjCmRYWuv2Z4hIyBlLBCdoYFsAivE9e/4Lb/sZeF/KPiHwp+2NosVzJLHaTar+wz+1fpkd4YdvmG2N/wDCa3aTarozLtDorrvVScV+vJAPUA/UA/zppiibG6ONsdMopx9MigD8IviB/wAHHf8AwTL+GEGlv408QftD6Dea/d/YPDeka1+yv8dvDepeJr8S20UlhoC+KvBWhWWo3sRu4Ge3jvVf97EgzJNEj8FH/wAHOf8AwTTuQXstN/asuY1O13T9mnxy21+pU+V5qjjB5YHnpjk/n5/wdD+Ph8O/2vP+CF+szfZYtE0L9qrxb471TfbyOd3gr4ifswXEDsbZJLgwJbajqPmwwRSSSlk2KXRVP9SP7PEWl2d/bx6ba2g0rxLpcs1xbJbxeRJdxBrmG8VGjO1vJW5gePCqVlUFRsxXx+ccVPKeJcgyCWCjWpZ1TrynjPrXJVw041qOHoqnhfYy9vCVavTjWm69H2UZxlGNRpxPqsq4ZWacPZ3nccZKnVympRjDCfV+enXjOlUr1XPE+2j7CUaNKpKlFUaqqShKMpU01I/FbXf+DoP/AIJ36Slu2n/D39snxKZmkWRNG/Zw12BrQIEKtOdf1jREZZSxCfZmuGBRvMWMFC3i+uf8HZn7GFkt9Hof7H3/AAUN1u6t52hs5Jvgp4A0rS9QjS4EbXKXUnxdudQt4ZIA9xbrPpC3DHy4p4LZmdov6pLyz0YsTaWkakMQytbxeWVAwGQkGQZIzhwSd38GNtUvsVn/AM+lt/34i/8AiK+wPlT+WmD/AIO0P2KWhia5/Y6/4KORXDRoZ4ofgb8NJ4Y5ioMiRTv8b7d5o0fKpK0ELSKAxijJKCX/AIiz/wBiL/oz7/gpB/4Yj4Y//P0r+pH7FZ/8+lt/34i/+Io+xWf/AD6W3/fiL/4igD+W7/iLP/Yi/wCjPv8AgpB/4Yj4Y/8Az9KP+Is/9iL/AKM+/wCCkH/hiPhj/wDP0r+pH7FZ/wDPpbf9+Iv/AIimS2Vn5Un+i23+rf8A5YRf3T/sUDSu0u7sfycS/wDB47/wTagnntp/2ff27Ybm2mlt7iCX4XfBhJoJ4JGinhmib9oEPFLDKrRyxuqvHIrIwDAitHSP+DxL/gmTqV2ba/8Ag9+2r4dh8p5Bf6x8LPhbLas6FAIAmi/G7V7zzZAxZSbQQgI2+VCUDfoH/wAEbPEOmP8ABnVp/sqXN3B+1/8Ato+CdTnmggImhf8Aar+MB0yOMqhR7e1sJtGRWKqxe2YEnBZ/2o8T+CfB2s3Xk614V8O6xFbOZbaPVdE0y/S2edEaUwLc2sixbuFOwKSqqGJwK+b4b4hWf08z58NHB4jLM0xeW1qMa8sTGUaE+WjiY1XQw/u4iKcvZ8j9m1KPPNJTl7+f5E8knl/LiZYqhmOW4bH0qsqCw8oyrQTq0HTVfEXdCb5fac69ompckHeK/l8/4i9P+CWP/QrftXf+Gk8Nf/PGo/4i9P8Aglj/ANCt+1d/4aTw1/8APGr+lv8A4VR8Lv8AonHgT/wktB/+QKP+FUfC7/onHgT/AMJLQf8A5Ar6Q+fP5pP+IvT/AIJY/wDQrftXf+Gk8Nf/ADxqP+IvT/glj/0K37V3/hpPDX/zxq/pb/4VR8Lv+iceBP8AwktB/wDkCj/hVHwu/wCiceBP/CS0H/5AoA/mk/4i9P8Aglj/ANCt+1d/4aTw1/8APGoT/g70/wCCWUnKeFv2rnHPKfCPw03QkHp8Rj0IIPoQQea/pTu/hd8K7e1ubiT4ceBRHBbzTOR4S8P52RRs7Y3WKjOFOMsBnqRX41f8ESPiLoXjbTfi9pdlaWq/8Il+0b+1j8NNRtzZWlvFHf6F8d/GWu2yRWsEC28UUGlXdrHaLBlRZspcxyvLBH8NxNxrHhziHg/IXls8YuKsfXwVTGRxKoxytU1Rjh6s6Lw9X6ysTXrKjGCq4fk5XLnk7Qf2XD3CMs/yLirOlj44V8N4Kji6eElh/avMnOVR16UKvt6X1d4ehTdaU/Z1+ZNR5Iq818if8ReH/BLX/oU/2sf/AA0Phv8A+eLR/wAReH/BLX/oU/2sf/DQ+G//AJ4tf1Maho2n21y6Cws9jfvI/wDRoPuMTxyrH5SCmWILbd2MEVS/s7T/APnxs/8AwGg/+Ir7k+NP5dP+IvD/AIJa/wDQp/tY/wDhofDf/wA8Wj/iLw/4Ja/9Cn+1j/4aHw3/APPFr+ov+ztP/wCfGz/8BoP/AIij+ztP/wCfGz/8BoP/AIigD+XT/iLw/wCCWv8A0Kf7WP8A4aHw3/8APFo/4i8P+CWv/Qp/tY/+Gh8N/wDzxa/qL/s7T/8Anxs//AaD/wCIo/s7T/8Anxs//AaD/wCIoA/l0/4i8P8Aglr/ANCn+1j/AOGh8N//ADxa6vRP+Drv/gm/4ggS60j4Wftr6tbTR+db3Gj/AAE0vU4Jog7RNKktt8QWRoxIjR70LLvVlyCpFf0rX1hp62V4xsbPC2twT/osHQQuT/BX8w3/AAbe/Eq18Z/sV+FfF9oZJrqz8ffFSzKX1vaR3UekS/GTx9d6Xp08du00QSHQbrT7VwHbEqSN5krbZ3+M4y4uXCP+rc54F4yjnnEVLI681X9jLA0Z5RnGaSxkY+yqfWJReVxoLDuVHm9vz+1Tgoz+s4U4XfFDz+EMZ9Vq5NkFXOaEHR9rHGVoZplWXRwkpe0p+wjJZlKs66VVxVDl9k+fmj2p/wCDp39gIf8ANEP26Px/Z4tx/wC7xXO+Jf8Ag60/YY0fTmudE/Zp/b48V6g29INOsPgN4e04CQRO8b3d5rPxIsY4LVpFWJ5LZL24QuHW0kVWx/U1q1hZT2cdwlnbMFKOG8mIYilUZOCoB3N5fYsO2BurmPsVn/z6W3/fiL/4ivsk00mtU1dPumfJtWbT3WjP4ufiV/wd+3Ng1zF8If8AgmF8ffFCsZo7S++IfjSTwQYwTeLBdXGmeHfhv49ExULYSy2UeqwbzNdwpfx/Zop7n4M8f/8ABwV8U/8AgoFqR+C/7aHwl+OP7J37F1/HdT/FXwb+yj4C8YeNfjX8d9Lknb7H8LtW+JPiK98JQeBvAV7GsI8a3fhzSYta8S6ct3oMbWun6vcmy/0OfsVn/wA+lt/34i/+Io+xWf8Az6W3/fiL/wCIpgfytfBT/g4x/wCCVn7Ofwu8G/Bb4I/sr/tk/Dj4YeANHg0Pwp4Q8N/s3Wtpp2m2MJaR3dm8dPc3+o31zJPf6rq2oT3WqavqVzdalqd5dX11PcSbE3/B2X+xBHLLGn7In/BRy4SOR0SeL4D/AA2WKZVYqssazfHGGYJIAHQSxRSBSA8aNlR/Ub9is/8An0tv+/EX/wARR9is/wDn0tv+/EX/AMRQB/KZrn/B37/wT38MyW0PiP8AZk/4KA6BLeJLJaRaz8H/AIRaZJdRwsizPbpe/HyFpkiaSNZGjDBC6BiCy5xf+IyH/gmt/wBEA/bq/wDDYfBb/wCiCr9Kv2oPF+iJ/wAFav2YPhlNaok+qfsR/tGa6rPaK1vPdyfGj9n610+KFo2ZVnisdO8RSzyXUESJGYI7e4aS4liH7R+Era11PwRp7z2Vi9xBbGIyNaw522rfuzny2PmG1CKW6sxO4jc2Pm8NxD7fifM+HJ4OVF4HBYXG0Mb7bnji414x9pD2Psouk6Mp8sX7Wr7Tlm2qfKk/oMRkXseHcvz+GLVVYzGYnB1sJ7HllhpUG/Zz9t7WXtVVjHma9lT9nzQSc7tr+TL/AIjIf+Ca/b4Aft1f+Gx+C/8A9EEa+dfGX/B5F4cv9Tl/4Z+/4Jt/G74qeG7dvLutX8W/Eqz8CajbzsC0cUmleEfhv8WrJWePD4k1tGxkhWGDX9qn9naf/wA+Nn/4DQf/ABFOFjZL92ztV+lvCP5JX0h8+fw8/wDEYl8XP+kRPxC/8SD8Q/8A0L1U/jZ/wdH/AAt/aT+AnxP+Cfxu/wCCSvx18YeGfiX4VvPCuu+Br3xkLvw7q9jqcCx3DSeI2+Gdrqmh6hpc+3UND1nTNCuNR0/U7Ox1KyksbyCKaD+5P7FZ/wDPpbf9+Iv/AIij7FZ/8+lt/wB+Iv8A4igD/F+8G/tM/tu/Dn4cz/ADwpoPxn1f9lyx8ceIPHXhT9nf4k2njnxd8PdM1XV54pLObxJouk2nhHQfHY0/7La3k+heJNBuPAOp62dQ1i48EJPqt/HN6NpX7Uf/AAUM+KdrL4O8a/Ez9q/4b+BNKsVksvC37M/wJsvCmg6bpyXZH2eHwL8NdQ+CfhzR9Gg1C8soIYbUfYke7iiFuhS3il/2O/sVn/z6W3/fiL/4ivyT/a7+I2m6b/wUJ/ZN+CzqlvN8Rf2Tv2xb7T4jEiW97r3h/wCKP7HnijTwmxX8yW08NeEvHDTLOsEccVzHNHcOyPbyeHxJXlgcjzXM6WBpZhisry7G4/C4aoqadWthcPOvGlCpUpVlTlVdNQ5lCT1Wnb6XhTE4qGdYDL6OaYvK8Jm+OwWX5hUw2IxdGnPDV8RClfEwwmKwk69Oi6jqqnKtFJq990/827wb8A/2cL6ebxN8W/2df+CsXxx1uRppd48AaL4V0fWJlBZLfVrx4PGmv+U8xYTz2mtJMm8uqOylH+ipfEf7M/w18DaqPgP/AMESfjfqvxYW0MXhzxJ+0L4a+J3xS8JW99NKgfUte8J39tcabqqWluGNvplpZ6XbTTLGZpUDTmX/AFGPgjavpWueJPDFzbwtpd1bQ6jZRCNWgWVGCSeT8oMZMUio5Kq2baIrghSfaLuxgtriWERREK2VOxCdjAMu47F+baRuwMZzjI5rx+GsRS4myjD5liKePwdX21ahicB9fr+xpV8JXlTlBeyWHjVpVFGNSLlTTlTnFPY+qznPsw4TzLE5bl+D4YqxdClVw2aVOGcrxePlTxdCNSNeGJzKlmOIw+LpylKHtadfnjVg5qSb0/x3vg34y/ac+C/i3W/jvZfsF+PvHH7TN/clPAniXxN8APEWjfCD4DaZbnZZP8L/AIOeEfC2keH38QwI8lxpOq3cunaZ4cuUjktdA1C8mv8AUbz9QP2Qv2hvhB4a+KGl/Hz9t7/gm1/wUT/4KG/tQfa7V9DvPid4DEvwn8KXcb5gs/AXwXi8PXmgQwrOIZ7S01KLVIbW8jN1ZWsN1I0p/wBNjyIP+eMX/ftP8KBDCDkQxAjkERpkH16V9Msuwaqqt7JOolyJtt2ppJRpJX0oxX/LlWpSbcpxnN8x8lU4rz2pl7yqWOl9QdSdeWHVOkoVMVUbdXHVlyfv8xqN2/tCv7XG0acY0MNXo4eKpH8wegf8HDvxu1eF7bwx/wAEPf8AgptqVvpsdvE8GifBrxPdQ2MTq62sbRWXgt0to2WGRYEKopWJwgwhx9F+Bv8AgsF+2d8Qr23sdD/4Ihft5WEtxJZRJJ4yvfh/8PbVDf7zCZ77x7e+G7K3SMRt9rkuLiKOxJQXr25kTd++oAHQAfQAfypa7j53fc5zwfrOreIvCfhnX9e8Kat4E1zW9B0nVdY8Fa9e6DqOueEdT1Cwgur7w3q+oeFtW17w1falolzLLp17d6Brer6NcXNvJLpupXto8VxJ0dFFABRRRQBKnQ/X+gooTofr/QUUARt1P1P86Slbqfqf50lABRRRQAUUUUAFFc7qnjvwBod/Jo1/4jt73XIwDJpGjsL27tyQHC3JjV4bV3hdJUS8ktXZMtGJBg1ST4oaO74stGtreN85l1jU7VHXaSARb2v9orzk5X7REcjDHIwPn8RxVw9hatShUzbCTrUqkqNalh5vFTo1oNKVGusNGqqFWLa5qdZ05Rvqkj3MPw1nuJp061PLMTGjVgqtKpXjHDQq0pK8atF4iVJ1qclrGdJTjL7LbOwwT0BNOktrk2txPHE2yO3nl3thExEjE4d8KSCDxyeDxwa4PUPi7p2lRSO11osBC5dLeNnkJUZAA+0rkfewzRsAG4ORz+Tn/BVL/go9J+zh+w9+1F8TNP1Ox0250z4SeLPDfhSZLfzZp/HXjSwm8H+Cwk3mo3zeJda0t5Bal5YLZJ7g7Fhdk8DH+JnCWX4rBYGrjp1sbmGMw+BwmEw0IVsRVxGKqwo0oqkqqkvfnFO/va6RZ7mD8POJ8bhsXjKeDhSwmBwtfGYrE4iU6VClQw9OVWpJ1HSafuRk1a8dNZJan8j/APwbUfFu3+Jv/BWH9ufxobq0aX4oWfjz4sC6ubmOCSay1H42Qy3M0VpHaWwkR38b2sksyQWkFqxijaFPtMaJ/pF6dCT4S0zLD93bwyjGGDh2YDBBxgiUMDz0xjnI/wAfn/g34+PGl/Bb/gpV8OLXX9Vj0XSvjZ4c8U/Bq51Se7e0s7fU/Er6b4i8NRXjLIgliv8AxZ4W0PTYInScfbby1kSEyxxun+uV8JfHeha94S0XQtQ1rSrjXrDT7a0vI4b1Giv/ACMJFd2k25BMJ1WOSSNCJIpCwZPKKO/m4PH4XLPFHP8AL8W4YV51keUZpgsRWrwhTxdeP/CXWwtOM3Fe3hDLKU404OUpx55NJpc3fi8Ficy8OMkx2F58SsoznNMtxlCjRlOphaMlHMKOJqShzP2M55hUg5zUVGTjFNr4etorsRplgekCn6SSn/2eq8+j2zqxh3Qvtwo3FoywJOWDbn5+6SGwBghSQQ36ifnBy1FbP9iXP/PWD85P/jdVLqwntAGkKMhIXcjZwx3EKVYK+cLnO3byOc8UAUa+Fv8Agon/AME//gh/wUm/Zl8Y/s3/ABt00Ja6rE+r+BPG1nbpL4i+Gfj+ztbmLw/418Puzws0+ny3Dw6jprzx2ut6RcX2kXhEF2zJ9014n+0Z+0N8Jv2Uvgn8RP2g/jj4ssPBfww+GHh658ReJtc1CWOP93GUgsdK06F3R9Q13XdSntNG0DSbbfeatrF9ZadZxyXNzGjAH8ev/BKD/gpd8cP+CT37Tc//AARh/wCCrGqaha+H9I1uw0L9lX9ovW7i9n8M23hnWbt9N8E6Lc69qkEM1/8AB7xRJAbbwX4ouZGf4d6wl74M8SLZaLp7L4O/t0VldVdGV0dQyOpDKysMqysCQysCCCCQQcg4r/Pr/Zo/Zx+N3/Bz7/wUH1b9uj9p3QNd+HH/AATq+A2qDwX8L/AqSnTr3xjpGh6lJq+n/DXR9TtoEN7favd3I174x+NbeZ7q2W+tvCXh69thHpU3h3/QF0jSNL8P6TpmhaJYWmlaNoun2elaTpdhBHa2Onabp9vHaWNjZ20KpFb2tpbRRQQQxIscUUaoihVAoA0aKKKACiiigAoorx39of4t6L8A/gJ8afjh4j2/2D8IPhX4++JWrq0gj8zT/BXhfVPEV1CrnpJPFpzQxAAs0jqqgsQCAfEn/BPPVG+KfxT/AOCiH7Rc6tLB48/bI8R/BvwZeKzvaP8ADz9lbwT4R+CaQafI6gTWj/FbRPi7rDTRPJbveazdCBvLUV+ntfnF/wAEi/h1rHwz/wCCbn7IuleJSzeLPFvwp0/4xeMzKrLcHxr8d9R1L40eMPtm/LNfDxJ481Nb1iz7roTESSKQ7fo7QAUUUUAFHXrRWbrOq2Gh6RqmtareW2naZpGnXup6jf3k8dtaWVjYW0t1dXd1cSskUFvbwRPLNNI6JHGjOzKoJAB/nhf8EhYrPS/+Dl3/AIKYwW8UNnp+n/E/9r2OGCGMRwWtpa/tr+AVjiiijAVIoYkCxxooCqoVRgAV/o16xauJPtaAtG6qJD12MAFUkYBCMoUAkn58g7cqD/l//wDBAb4oL8dP+C3P7Wfxbs5Zkt/jP4d/aD+IMc1z5puBb+NP2hfh74vjecTyyzNNi6jZxPLJIZM+Y7Nl6/1CrS+h1PQbfUFMZivNOjnAJBVXkhB2fNnDpN8gBJYSLgfMK/PchxUZeIPH2Esk6eF4UqRd9Zv+z8S6ySvtTjVwzvZa1ba20+5zrDSjwPwTitWp4rieElbSK+u4T2Tbta9SVLEK19qV7K+vM0UUV+hHwwUUUUAFFFFABRRRQAUUUUAFFFFABRRRQAUUUUAFFFFABRRRQB/n+/8AB6R4obS/jV/wTuSw1Dbqvhvwz8Z/EsVoSZBZNceJ/hgLG/MEgaH/AEqfQ5oySpMv2DZICsaiv7K/2FvHmkfEbwV8OPFmmur2Hif4ead4q0NwxkWTT9csbK/tism1A7LbXh+faodGBRVAwP4av+D03XVuP2vf2RvDYt2R9J/Z417WWu/MBWZdd+ImsWaQLFsBRrc+H3kaQuwkFyqhV8sl/wCgn/g2p/bB8LfHH9gL4Jvea3E3jL4HWMnwL8e6WZ1murOLwdYx2PhK8dGLXko1PwhJoN8JSBFLci8gj81rOQp+V8f0VhOIuAOIKkoU8Jgc3xWW42tU5VTpUcyWDxUKlWTaUYwnlTcZt2jOSSvKSjP9K4Iq/Wch44yKnGdTFY3K8NmGDpQu51KuXyxWHnCnFJuUpwzJXitZQjJ25YuUP6br2Jo7mceWUUySMg2FVMe9gpUYA2ccEcccVUrkZ/2hvhNDdXGnz+IwtxbyPbzwvYXgUSLw8e54RHJg5VgrMAwKnkEVPH8bPhZLgx6iWU8Bho90U/FhbkD69PWvqocc8GVJSjDirh+coScJxhm+Bk4Ti+WUZJV3yyT0admnoz5qXBvFsIxnPhrPIRnGMoSlleMipRklKMot0VzKSaaaumndHT0VjJ8VPhfdY36xbRbQSC9rdxZz1BEMRYkYz8wwvqMnLofiX8Jp95XxTo0YQ4Y3FzcWwzxjBuBHuBzwVyDg46HHXHivhifLy8RZG+a/KnmuBUny2btF109E7vTRa7HLLhriKN+bIc5XLbmf9mYxpc3w3aotK/TvrbZmvWP4h1bT9A0DW9c1a6hsdL0bSNS1XUb24bbBaWOn2c13d3MzfwxQQRSSyHsqk1vaf4n+HuqsE07xJ4dvJG5EUOtWzTEcc+T9qEuMkDJTGe/WvxS/4OIf26fA37C3/BNH43XMOuWtp8X/ANoDwvrvwI+DGhW1+i6tfaz490ubRvE/im1iDyXMVn4F8I3ureIDqKwtaR6zHoemXEiS6ta59bDY3B42HtMHi8Ni6f8APhq9KvD/AMCpSkvxPMxGExeEnyYrDYjCz/kxFGrRn/4DUjF9V0Pgj/g2J+K3/C3/ANjfxP4puPtMbj9sL416xHbXJXZaJ4n8VWHjxoLXddXRWMN4muA5kl3faXny8oIml/q21qMLco4UgSRAs3OGdSVIBPGQgTIGMAgkZOT/AJ/3/BpB+0j4R0L4IfHX4JaprkNj4j0P40D4j/Z55pJJ5NH8ZeEPCug6e9vasiqbeLUvBOrNPJbyyFJblBcRQCeKSX+/Gz8WeE/FGm21xYeI9EmeW3trpFj1GzaWE3EW9Y54vNM0O/lWR1VwycqShU/mfBWc5XS4j47yKeIw+Fx+Az+VSeEr1qVHESo4um8Xh60KM5KpKlUw9ejUp1Lcs6c4yg2r2/QuL8pzGpkHBecwoV8VgsbkipxxVKlUq0Y1sLOOFr05VYRdNVIV6NanUhfmhOEoySZXoq6LSFgGXU9MIIyCLtCCPY4q5FpcEgX/AE+Au2cLEUkBwT90+YpbgZPyjByOQM1+oxq0pO0alOT00jOLeui2b3eiPzh0qkfipzXrCS/NGNRWx/Ytx/z2t/8Avp//AI3U76GQp2XAZuMB4yqnkZywZyOMkYU5OBxnI0uu/wDX9NEHDeJbV73w7r1nG22S70bU7ZGxna89lPGrYyM4LA4yM+o61/FB/wAGvn7VWl+KPjB+3P4UudTExb9rDxf8Y7Oe6u5Z2OifFy91LSp5IDcJE8luh8OXl/OyQxt507zSxRy3I3/1l/8ABQD446F+yt+xn+038c/Eniiz8MRfDn4KfEHXdL1Rr2KznHikeGtQtvB2madNdRmJtb1vxPPpWlaJa+XLJc6neWkKxOZVVv8AKD/4InftraV+xv8AtveH/EXjXxGPDfwz+KdhdeAfGmrXk5j0vRri/vbfUfDXiHUizxwQw2Os2yabdajcMsOmaXreqXkjLFG5r8q8VMjxFfI6/FGU4ari+IOF4YHN8uwtJOc8RTyjNcLmuMw9GlFOdXE18Dh8XQw9OHvVK9SlGKclFP8ASvDXOaFHOaHDmaYilhcj4jnjMrx+IqNQhQqZrl2Iy3CV6tWXu0sPQxlbC1q9SXuwowqSk1HmZ/su3lnHfRoC5Ur80ci/MMNjdlcgMGAGDkEEAg4yGxjolxk7ZYSuTtJLgkZ4JAQgEjqASAeMnrX53/D7/goH8L9b8H6Q+gfEH4Y62sFjDEl1P4y04zSRLCn2eaVf7QVpUZWQCaN3jkC5Em7Ir2jw3+1z4c8RJLNZan4X1KGBlink0O+ttUSCVlLASyQayyoXXBRGCtgMcsOmuX+MHBGYYfC4inmFWMcTRpVHJ4Wu6FOc4pzpPEOEaUpUpXhJxfxJ6J3SjHeFfGGCxGIoTwNKToVqlNJYij7WpGErRqKgpSqRVSNpxTWzWrum/qR9Gu1AKmKQ5xtRyCBg85kCDHAHBzyOMZIcNFuiAS8KkgEqWclSRyCVQgkdDgkehI5rxa3/AGh/Dk2ANT0oORyskM0ePxN5t49Q5FTv8etIPEeo+Hs54LXDfltF0ev1r214hcJyjzRzWhJP+WdOT1ta6jUdt+ttn2PHfAvE8ZcsssrRd7e9GUV66xV1rur+R7X/AGEP+fk/9+R/8crLl0+7ikZBC8u3HzxI7IcgHhtozjODxwQRXmVt8ddJYu09xo7wpt3vDeCMpuJ25DzPu3YbACg8HgnAKXn7RPg2yhEzskkSn97MbkW8aqPvBPPhDSP12ADbIeFbkZp+IPB8Kbq1s8wlCCTbdaTi7J2ckkpOUY/alG6jZ3asQuBuKpVFSpZPiq83ZJUlGSu9ottxSk+kZWb6J6HBftX/ABAi+Ev7L37RnxTubiOzt/hx8DPiv46mu53MUNtH4U8C67rrzyyfabLZHCtiZHf7XalVUn7RDjzF/jP/AODTX4xW+o/s3fFv4dXF0ftvhX4v63dJCXj2xaN4h0jw3qenzKNxcNJqp18vuG1Y7cssjlnWL9Z/+DjP/gpd8OvhX/wSy/aA8AaHLqln8R/2iLKy+BfgqBns0gvbLxbeRnx/c5jvF1E2dv8ADq08T288qWJtvtmoadZ3EqrfKG/im/4N1P2xdN/Zu/a81f4a+J9Xt9J8O/HjR9N0vSpr64W3sZPH3hee9uPD2mzyzyR28B17SNW8SaTaEssl3rU2i2MQkmnhUfn3ipmWB4n8NMTxTwtiY5zS4YzXBZ/CpgY1KvtKGU4j2OeqmuRTqTw+TYvMavLTjJzlT9lF+82vufDXL8Zw74hYbhviPDyymrxFluLySVPGShTcK+Z0PbZM6jU3GEa+bYbAU+ackoRqe0askn/rieH7yPVfD+lXQO9LrTrcSDOPn8kRToSDkFZFdSQQeMjFYVzA1vPJC3JRsA8fMp5VsAtjcpBwSSM4PINfJ3wV/aU8IWvhW2069vkvghe4ie1uY5JLJJgJDZzQEC5yjb2AWEuHYptYYI9Vk/aI8P3LQT23h83lncB/KvprtVjaNCCNp+wTZDK4cBWON2DhuK+i4f8AFngfMsjyrHT4hwEa2IwWHlWo05VMRUp1eSlCq3HD06rVP2klabSjZpNqSaXhZ34YcY4DOcywUMixjpUMXXjRq1FTw9OdPnnOmk69Sn7/ALNO8Pi91tJpxb9Vorj7H4w+F79QYrXTFfaGeKTULSOVAc/ejkt0lwMEE+WBwa0m+KfhaMZktbYnIH7mWB15znLPBEM9MABgc9R3+spcZcMV4KpSzjCTpyV4zTqcr0vo+Tfy3TVj5mpwnxFRm6dTKsTCa0cH7PmW265/PfZ77WZvUVysvxp+HduT9qliiwM4RLKd+/8AyyilMh6H7qsc8YrzH4qftn/sy/BT4feLPid8WfHWkeAvA3g3R7zWtf17xBEtna29jaQySP5RjMk091OVEFlZ26Pe3l1LDbWcM1xIkZa4y4VdWnR/1gypVqs406dKeLpQqTqTajCChOUZc85NRhG15yajFN6CfCfEqpzrf2HmUqVODnOpDC1JwjCK5pScoKSUYxTlN3tGKblZJs/me/aq+O1hff8AB0D+z58O9P1eJIfAn7CGreEdcs0aUSv4m8Ta940+I8mmz/MIiraBF4R1RIygx5RkaRiY1i/rW+Gm258CaW6SKy3Ud/iRQCMG7uYFOARuwiL3GQAMiv8AJ4+CH/BUHwp8V/8Ag4FP7fXxTlm8PfC74s/GLxb4VtW1WeO3l8I/DTxD4J1H4R/Cg6xdrJFa2i+GNHTwZN4hviy20cdjqV47KpaUf6nXwd+KHgB/hnoL3HibSdIieG5eOK61O2hlSKW6eUTpKHAkjkln8xJuUYybcuvLfJ1cdRyrxSxMsyxOFwWCx/BtGrhK+Kqxw8J4jC5n7LFQjVqqFCTpUpUHOHtXViq0Jcns3zL6alhK2ZeG+HhgMPicZi8FxZWp4mjhqMq84UMTlyq4ecqdLnrJVKkayjJU1TfspLn54tP1JlKMysCGUlSCCCCDggg8gjuD0ptNg8Z/Di7+aHxRoV2zcmRdVjkaRj1YskuCzHliABk9BxVxfEPgRyQutaSdpKk/b+AQcEbjLgkHggHg199DOsnqpSp5tls4vZwx2FknpfRqq09Ox8RPKM1ptqplmYQa3U8FiYteqlSTRVoqw+teBnlSMeJdEikcALCutWAdzychJZmkLc4IGMYHAOc2hN4XIJGuWJCjLEanYkAdMnB4Ge5reGYYCpfkx2Dny6PkxNGVna9nabto09ejuZSwGOhbnwWLjfbmw9aN9baXgr66adTNr+Pf/grr+1RZ/B7/AIOHf+CSPhS7vZEsh8LPFfg/U7eS8ljsI1/az1j4gfArSbu5SSKOzgFnrel6dqsk5u3YPpdlPcRWyW1vLP8A2QTWem/Z5ryLU7ZLWCJ3lnknga3jEal3eW4V1jijRcF2YHYoLEkcV/kUf8HCX7bfhv8AaT/4K7/E74vfAXxrHrfhb4Gt8Pvhp8NviD4d1L7TZX2sfCqNNQ1bxB4Y1G3lmtpNMtviHe+IToep6dK9nqVta2+s2rsl8GN4ijSxuExGHlJSo4rD1qE3Fpp061OVOVmrp+7JkUKtTB4qhXinGrhq9KvFSTTU6NSNSN07P4oo/wBWL4Oa3b6lqemXqMpOo6M8THA4ngCuwznjfuG3P3gyY6ivetXiklu41ijeRhbgkIpYgeY4yQAeMkDPvX8nn7H3/BwT+wz41+Dnwm+Knjf49/Dn4ZfEDWdE0+T4p/CrxZrC+G9a8EfEC3tBD4otdMi1QWttq3ha81q2l1Pwtqem3F5FN4d1GxsdSFlqltd2tt+lfhb/AIOAP+CbniSJZn/ac/Z70dDI0ezWPjn4I0y5JQAk/Z9QmtFXcDkM03kEnas7srhfxnhHjjLuGaOL4a4t+vZXm+AzCVCU5ZRm1fB4zno0GsVhsZhMFiMM6GIf76jKdaMpRqqKTlTmo/rXFHB2P4irYXiDhj6lmWV47AwrKEc0yuhi8Io1aqeHxGExOMoYhVcOn7GsoUpKMqTk3yzg3+wZtLpQWa3mCqCSTG4AAGSSccADkmq9fE/gX/grV/wTm8eQW09h+2N+zlp63bFLaTUvjV8Mo7O5YOYz9n1GDxTPZOnmKyB3mjG5WUgOCtfdkENnrtta63oep2Gp6RrFrb6np2o2dzHeWV9Z30S3NteWN5ama3u7O6gkjntrmGRo5YZEdGdSHb9gy7NMvzbDrFZdiqWLoNtc9NtOMlvGpTmo1KU11hUhGS6o/Ksfl2Oyyu8Nj8NUw1ZK6jUSalH+anUi5U6kf71Oco9LmXRU1xbyW0rRSjDDkEcqynoynuD+BByCAQQIa7ziCiiigAooooAlTofr/QUUJ0P1/oKKAI26n6n+dJSt1P1P86SgAooooAKa67lZckblK5HUZBGR7jOR706igD+Ub4k/8GuGj/EX4neOvidL/wAFK/2yND1Lxv4s8Q+KZLHTdVt/J0ldd1K5v10mxnOsJN9g02G4TT7NDtC2lvFGFVVChNO/4NhfE2j2cOnaT/wV4/4KB6ZYW/meRZWHji+tLSHzZHmk8q3t/EscUfmSyPK+1BukdnbLMSf6uqK5vqWDTm1hMMnUnKrN+wpXnUm7zqT9z3pyespu8pPVtnR9bxdor6ziLQhGnBe2qWhTgrRpx973YRWkYq0UtEkfyu2n/BtP8RLCKWCx/wCCyf8AwUZs4JpWnmhtfiRrMEUs7BQ00kcXitUeUhFBdgWIVRnAFcb8Rv8Ag1h/4XD4Vk8D/Fr/AIKp/twfFDwfLqdhrTeG/iFrVv4z0carpkd5DY30dj4i1rUYIp7eO/ugjxImTIrOGaKJk/rUormjk2TxxEcXHKctji4SU4YqOBwqxEZracaypKpGS6SUk10Z0PNs1dCWFeZ5g8NOLhPDvG4l0Jwl8UJUnV9nKMusXFp9UfxbaX/wZgfs3aJqWn6zo37bH7QGlavpN7a6lpep6f4T8FWd/p+oWU6XNne2V3BJHPbXVrcRxz288LpLFKiyIysoI/Y7wJ/wSp/ah8BwadbW3/BUP4xa7BpkdvBAmv8AwD+AsryWtrbx20EE91pnh/S7xyEjEkt2LhL+6naSa6u55JHZv27orkznhfhziKWGnnuRZVm9TBObwdbMMBhsVWwjq8vtPqtarTlVw/tOWPP7KcOdxi5XcY26cp4jz/IlXjkuc5nlcMVyfWqWBxuIw1LE+zv7P6xRpVI0q/JzS5Pawny80rW5nf4T8A/szftH+Dlt4NT/AGvNR8T28UcSSyy/Di80O/maKHyw+7RPiVaaSvnSgT3EbaNJETujgS3jKqv1PB4I16KNVl+J3j2eURqryNf2KIZAPmdY0sAVVm5CNI5A43k5Y+i0V59LgXhfDt/VsuqYWLSTp4TMs0wtHTRWoYfG06KstFaCO+pxnxJXt9Yx9PEyTb9picBluJra2bvWrYSdV3trebOb8NaJq3h+9N7c+M/FPiHKPH9i1m7tZdPAcEBhBDZwzeYh5VzcnBA+XGQelk2yTvctHCJ5FKySpDFHI4LbyHZEUtluSWJJwM9BSUhIAJJAABJJOAAOSSTwABySele9gcswWXYeGFwtKSo05urBV6+IxdRVJJJzVbF1a9a9kkv3ll0SuzxMZmGLx9eWIxNSMqs4KnJ0aNDCwlCN7RdLC06NK2uvuXfW9kZHiLxDoPhHQNa8VeKdZ0zw74a8N6Vf654g1/Wr2303SNF0bSrWW91LVNT1C7kitbKwsLOGa5u7q4ljhggieSR1VSR/DH8YvEvxs/4Oh/261+Bvwh1TxV8Pf+CRX7J3jaO88ffE6Gwu9L/4XP4p0yU29xd6P9pVY7zxR4o0+W5tfh9p1/Cx8CeDr658aeJNNi1nWLTw1dfUH/BSr9pj41/8Fqv2sbr/AII6/wDBPnxRNon7PHw/1i0vf+CgX7UeklrjQbLSdJ1UW9/8ONBu4rq2h1qx07UIJLSbSLO5W68eeM7SPSluNN8GeG/Eural/Tt+x5+yD8Df2F/2f/Af7N/7PnhS38L+AfA2mwwNO0ds2veLdfeCFNa8a+MdStre2/tnxX4juYftmrai0MUYYxWdjb2emWllZW3ecR6b8Ffgt8L/ANnb4VeBvgn8GPB2keAfhh8N/D9l4Z8H+FNEhaKy0vS7FNq75JXlur6/u5mlvdU1S/nudS1XUri61HUbq5vbmeeT1GiigAooooAKKKKACvxW/wCC93jG/h/YLX9n/wAP6hPpvjL9tv8AaB/Z+/Y38J3NrLGly1x8Y/iRpKeJ7aCKQMLh73wDofi6y8oKwUXBmkSSGKRG/amv59/2/tRm+PH/AAWe/wCCR/7KVpKt14e+DFn8cP24/ilpYIlaD/hFfDlx4J+CutNASqRC18dxa9ZJM4kZmv2aHy2t2EwB++Hh7RNN8NaBonhzR7ODTtJ0HSNO0bTNPtUEdtY6fplnDZWdpbxrwkNvbwxxRoOFRAB0rYoooAKKKKAPBfi74H+PfjKKex+F3x08P/B6zliRY9Sh+Edn458UW8wKmSSK+8R+MV8ONG20hI5vCUjIrtmV2CsPyU/aG/4JE/teftQeHvE3g34rf8FjP2sn8FeL9J1nw94g8H+B/hv8FfhloGqeGtftbnT9U8O6lbfD3w94an1bSLzTbufTrmDV7m/ku7OR4ryW4LuzfvLRQB/Nt/wTN/4Nr/2fP+CbX7Q1/wDtAeG/2g/i38UNQv8AwDqvgN/Dmu6P4V0CwW21bxD4X16a+ku9MguLuUqfDKWhto2tjJHeSOt1E8a7v6YblrKy0610zTFijtUjRUji5WOFMFEO4Ft7t87lmEu5SZMlyTj0VwUcry/D47G5nQwdCnmGYxw8MbjIwXt8TDC01Sw8KlR3fJSppRjFWjom02kztq5jjq+CwmXVsVWqYHAyrzwmFlN+xoTxM/aV504bKVSd5Sk7vVpNJtBRRRXecQUUUUAFFFFABRRRQAUUUUAFFFFABUF1dW1lbT3l5cQWlpaxPPc3VzKkFvbwRKXkmmmlZY4oo0BZ5HZVVQSxAFT0detAHlOt/Hb4JeGpYYfEXxf+GOgzXEbSwRax478MabJNEjbWkiS81SFpEVvlZkBUHgkGvE9d/wCChf7BXhiAXPiT9tX9lHQLY3Isxca1+0F8KdMhN2VlcWolvfFcKG4KQzOIQ3mFYpG24RiPr4xRN96ONvqin+YqFrGyb71natzn5reI8+vKdaAPzq8Qf8FgP+CXXhr7d/aP7ev7Ltx/Z6K840L4veEfExdWRHAsx4c1HVf7QYLIu5LD7S6sHRlDxuq+L65/wX5/4JCeHp4re+/ba+HVxJND56NougfEPxDAE3sm2S40HwdqNvDLlCfIlkSbaVfy9jqx/Xv+ztP/AOfGz/8AAaD/AOIo/s7T/wDnxs//AAGg/wDiKAPwW1f/AIOcf+CMGmQJLaftT6/r0jzCJrXSf2e/2jI5ok2Oxnd9Y+Fek2xiDKIyIriSUtIpWIoHdPHPEX/B2B/wSU0Vb86b4l+PXiw2bBbddB+CPiC3OqAuilrI+Jbrw+I1UMzn+0DYttjfALFFf+kz+ztP/wCfGz/8BoP/AIij+ztP/wCfGz/8BoP/AIigD/Je/wCDh7/gpL8Gv+Cov7W/wo+L/wCznpXxIs/hx4D/AGfdE+Hl1a/ETwlZ+G9cHjOL4g/EPxFrM9vbabq2vJPpcuja34Zjt5pL1GF1DeoLaML5s35Ofs4/tY/tT/sj6n4i1f8AZy+Kfjn4VXfi6ytbDxMnh4I9jrdvYSyy2J1HS9Ssr7Tbi4sXnuRZ3b2hu7WO6u4YJo4rq4ST/cE/s7T/APnxs/8AwGg/+Io/s7T/APnxs/8AwGg/+Irkx2AwOZ4WrgcyweFzDBV1FV8HjcPSxWFrKM41IqrQrwqUqijOMZxU4NKUYyWqTOnB43GZfiaWMwGLxOBxdFt0cVg69XDYik5RcJOnXoyhUg5QlKMnGSvGTi7ptH+NlB/wWg/4KmWg2R/tUePMDjE/hXwJcMvTgG48HyMAMDABGBwMA1cj/wCC2P8AwVWiOYv2rPHMZznMfhD4fIc+uV8Fjn3r/YYvfht8O9Supr7UfAfg2/vbl/MuLu88M6Lc3M74C75p5rJ5ZG2gDc7E4AGcAVV/4VR8Lv8AonHgT/wktB/+QK+fp8CcEUklS4O4WpqPwqGQZVC1trcuEVtuh7k+NOMKjbqcV8RzbvdzzvMpN33u5Yl3v1uf4+Nx/wAFs/8Agq1dRNDP+1n8QWjYglR4Y8CoTjp8yeD1bHqM4PeuR1P/AIK8f8FMdYhlg1D9p/4gzLMu15U0Twnb3QAIIMV5beGYrqFsgfPDMjYyucEg/wCx5/wqj4Xf9E48Cf8AhJaD/wDIFH/CqPhd/wBE48Cf+EloP/yBWeI8PuA8U4yxXBXCeJcbOLr8O5RWcXF3TTqYOVrPVW2expR4441w6ksPxfxPQUk1JUc+zSkpJqzUlDFRumtHfdbn+Mz/AMPRv+Cio6ftQfFofS6tgfzGm18rfFz41/HP4961ZeIvjT8R/iF8UNa0yyOm6Xf+Ntd1nxBLpWnmaS4ax0tdQmmi06ze4lluHtrKOCF55ZJnRpHZj/uH/wDCqPhd/wBE48Cf+EloP/yBR/wqj4Xf9E48Cf8AhJaD/wDIFd+V8JcK5HiHi8l4ayDKMVKm6UsTlmT5fgMQ6UmnKm62Fw9Ko6cmk3By5W0rrQ4sx4m4kzigsNm3EGd5phozVSOHzDNcdjaCqRTUZqlia9SmpxTajLl5km0mrs/xBP2fvj78bf2XviRpXxX+CPinWfBXjLS0ktjd2tsLmw1TTZ2RrrSNc0q7hm0/V9KuWjjeSzvYJUjnigu7cw3ltb3EX79+Av8Ag6O/b48D6bDaf8Ko+B2s3YggivL660Xx/bm8ktwVW4aODxkZInkT/WxpcG33s7QxQqwRf9QD/hVHwu/6Jx4E/wDCS0H/AOQKP+FUfC7/AKJx4E/8JLQf/kCvOzzgDg3iTMsPnOc5BgsXm+Fpewo5nF18Jj1QXPy4epi8FWw9evQh7Sp7OjXnUp03UqOnGLnJvuyfjfivIMvr5TlWd4vDZXiavtquXSVHE4J17wbrU8Ni6VejRrT9nBVKtGFOpUUIKcpKEbf5rNp/wd0f8FCbURRj4Hfs8SQx4DRyaH8RXZ16Eea/jVpVOOhVhggcYyDck/4O7P28nJaT9nf9nFm/vPpnxOOPz8ddM+hHev8ASa/4VR8Lv+iceBP/AAktB/8AkCs3UPgf8F9XTy9V+Enw01KPAXy7/wADeGbtNoYOAUn0yRSA4DAEYDAMOQDRLgfhylRcKGVqrKKXs6WKzPNHSTVrLnnXxMqcdPsU3q2+VsceMc/qVVKtmUqUW/fqYfLsu9pZtNvkjRw8ZybW8qieu+1v8yfW/wDg7L/4KgapHDFpvgv9mbwssTSGQ6B8PfiUr3KuUKpO2rfFrVcCNk3L9nFuWZmMm8BAvAeIf+DqH/grprMCwaX488AeEMLKpk8NeCdX3t5qouSmueJ9bhDoULRukSuGdwSV2qv+naf2Vf2YmJZv2dfgcSTkk/CnwMSSepJOhZJPqadH+yx+zLE6yRfs8fBCORCGR4/hV4GR1Ycgqy6GCCOxBzXGuFoJpf6s5BGN0m459myfLorWWTLmSTk1By5b2ej1OqXEk2n/AMZFncna6Uskyy3No9H/AGs+W7STko3a3Tu0f47v7Zn/AAVP/wCCg/7f+maT4c/ao/aF8b/Ebwdod7Fqel+A7ex0nwn4Ii1WCKWC31e88L+EdK0TSta1q1iuLqO01nXbfU9VtI7y7htryKK5ljb88/sV5/z6XP8A34l/+Ir/AHSrH9n/AOBGlzC4034L/CnT5xjE1l8PvCdrKMcj95BpKNx254re/wCFUfC7/onHgT/wktB/+QK+0wkKtOhCnVoUMP7NKFOlhq1SvTjTikopTqUMPK9lquR/4mz5LFSpzrTnTrVq/O3OdSvRhRqOcneV4U69eNrvRqa/wo/wnRHqg4CX4HoFuB/IU8f2uv3f7SX6fah/Kv8Adf8A+FUfC7/onHgT/wAJLQf/AJAo/wCFUfC7/onHgT/wktB/+QK6LLsvuRhd9395/hYadq3izR7kXmk6l4h0y7VGjW60+71GzuAjjDoJreSOQK44ZQ2GHBBro4viP8WYZI5ofHPxBimidZIpY/EniJJI5EYMkkbreBkdGAZWUhlYAggiv9yz/hVHwu/6Jx4E/wDCS0H/AOQKP+FUfC7/AKJx4E/8JLQf/kColRozd50qc3a15U4ydu12np5Fxq1YK0KlSK7RnKK+5Ndl9x/iBD9oj9pUEsPjd8bQxAUkfEXxwCVXO1Sf7XyQuTgdBk46mujt/wBrf9sG0s4NPtf2k/2irewtlZbayh+LfxGjtYFZt7LDbprwiiDP85CIoLfMeea/22v+FUfC7/onHgT/AMJLQf8A5Ao/4VR8Lv8AonHgT/wktB/+QK5p5bl1WLhUwGCqQerjPC0Jxb3u4yptPXXY3hmGPpyUqeNxdOS2lDE1oyXTRxmmtEluf4i15P8AtW/tOz2sF/L8fPj9ceHRdSWUN2/j/wCJ0uiC8FsLx7aOU602nC5WC0Fy0Qh80RW/mFgkeHQfsn/tYWs8Nzbfs4/H63ubeWOe3uIPhP8AECKaCaJg8UsMsehK8csbqrpIjKyMAykEA1/uD6N4U8L+HY5YfD/hzQtDincSzxaRpNhpsc0gUKJJUs7eFZHCgKGcFgoAzgVteRB/zxi/79p/hW9HD4fDUlh8PQo0KEeblo0aUKVKPO3KdqcIxguaUpSlaPvNtu7bMauIr16rr161WtXlyt1qtSdSq3BKMG6k5Ob5YxjGN37qikrJI/xgYvGP/BX+3jjhg8T/APBRKGKJFjiii1j9oqOOONFCokaJcBURFAVVUAKoAAAFdBb/ABc/4LT2drHY2nxK/wCCl1tZRbhFZweLf2l4bWPeSX2QR36xJuJJbag3EknOa/2XvIg/54xf9+0/wo8iD/njF/37T/CvJo8M8N4eUp0OHsjoTnFxnKjlOApSnFtScZShh4uUXKMW0202k2rpHp1eIc/rxjGvnmcVoxkpRjVzPG1Ixkk0pRU68kpJNpNWaTa2Z/jJz/Ej/gsrdRyxXPjr/gpDcRTqyTRzeI/2kZUlRwQ6yK94yurAkMGBBzzXM6pqv/BWbXLI6drOo/8ABQDVtPMkcpstSu/2gb20MsKhIpDb3MkkReNAFjbZuReFIFf7SXkQf88Yv+/af4UeRB/zxi/79p/hXXQyjKcKpLDZXl2HUnzSVDBYaipStbmkqdKKbtpd620OatmuaYlp4jMsfXcVaLrYzEVXFXvZc9SVlfWy0vqf4o3/AAj3/BTX/oDftvf+AHxx/wDjVUtS/Zf/AOCknxbsxe6x+z/+2l8SrCORbcXWo/DD41eLrRJbYM6w+dc6LfxLJALl3WPcGi89mAXzCT/tjeRB/wA8Yv8Av2n+FOEcajCxoo64CKBn14FdMcJhYSU4YbDwnF3jKNGnGSfdSUU0/NM55YnEzi4zxFecWrOMqtSUWuzTk01ot10P8RT/AId6ft7jp+xR+1h/4j18Wf8A5k6/S34HfHH/AIOAP2e/BWl/Dv4f/C79tGfwZoEMdt4d0Txj+zT498bp4etIQFhsdFv/ABN4D1HVbDToI1WG20yK/GnWkKLFa2sKKBX+t/sT+6v/AHyP8KNif3V/75H+FcGdcP5FxHhPqOf5PlmdYNTjUWFzTBYfHUI1ItSjUhTxNOpGFSLimpxSkmlZ6HblOeZzkOJeMyTNcxyjFODpvEZbjMRgq0qck04SqYepTlKDTacJNxabutT/ACuj+37/AMHH+xo1+D37S0asoVmh/Ys1aGQgek0XwySUH1YOGOTknJzrWX/BRf8A4OT7CEQRfCb9pqSJcbBcfsY63MydcgSP8NjI2c873bGOMc5/1L9if3V/75H+FGxP7q/98j/CvnqXhp4e0J+0o8FcM0p8vLzQybAxfLdPlbVHWN0nZ6X1tfU9yp4hcdVo8lXi7iGpC/NyzzbGSXMlbms6u9tL7202P8rzVf8AgoX/AMHMOo3CTWvgn9rDRI0hERtdM/Ylt5IJHDuxnZtW+DGqXIlZXWNhHcJDsjQrErl3fza4/a7/AODke7d5LjQv24ZC7s5U/so6isYLsWIjiX4QrFGgJO2ONFRBhVUAAV/rGbE/ur/3yP8ACjYn91f++R/hXfHgbguEXCPCXDXK7Jp5Jlsua23M5YZuVul2zjlxjxdJ8z4o4gutU1nGYK197JYhJfJI/wAgn4ueOP8Agvz8cvD+o+FPiV4U/wCChWreGNZgNprPh/Sfgx8VvCGjaxZPE8Mljq+neD/Beg2up2E0cjCeyvop7WdtrzRO6Kw+CT/wT0/b3JJP7FH7WBJ5JP7PXxZyT6n/AIpOv9uzYn91f++R/hRsT+6v/fI/wr28BlmW5VR+rZXl+Cy3DuTm6GAwtDB0XNpJydLD06cHJpJOTjdpLXQ8fHZjmGZ1vrGZY7GZhXUVBVsbia2KqqCbaiqlec5qKbbUb2u27an+In/w70/b3/6Mo/aw/wDEevix/wDMnR/w70/b3/6Mo/aw/wDEevix/wDMnX+3ZsT+6v8A3yP8KNif3V/75H+Fdxxn+IzB/wAE9v2+BNDn9iv9rFVEseT/AMM+fFkADeMnP/CJ4GOTn8a/2Zf2OvDusfDr9lj9n3wde3fiNr3Rfg/8OrS8tfFgD65pd4nhLSBd6TdpNZ2txbNp1yJbUWdzEJrPyzbNtEQRfoHYn91f++R/hTq554WhPE0cXKmnicPSr0aNXmknCliZUJV4cqkoSVSWGoN88ZOLpxcXHW+8cTWhh62FjO1CvUo1atPli1Kph1VjRnzOLnFwjXqxXLKKam1JNWs+SR5naSRi7ucsx/QAdAAOABgAAAAAUyiiugwCiiigAooooAlTofr/AEFFCdD9f6CigCNup+p/nSUrdT9T/OkoAKKKKACiiigAooooAKKKKACiiigAooooAK/nA/4K5ft7/HH4ofFnRP8AgkH/AME077+1P2xfjZpYX47fF3SLi9/sP9kb4L6lHCmt+I/EfiDSILpvDPi7VtJuw1rcqf7a8P6be2E2kWv/AAlPiXwe5+wP+Cq//BQ3xd+y/oXgf9mX9lDwyvxf/wCCh37VT3vhP9nD4Uaa1jdv4VhkhuYtZ+NvxAgunNto3gHwJawX+rLd60sOl6tfaVcxXM0OiaV4j1LSuz/4JZ/8Ez/Cv/BPT4VeIb3xP4lm+Mf7WXxz1d/H37Uv7Reum5vfEvxL8e6jcXWoz2FrqGpSTajD4Q8PXOoXltolnJJE15NLea5e28N/qc8MIB6f/wAE3f8AgnX8C/8Agmd+zd4d+AHwYsWv70tHr3xO+JGqQRr4p+KfxAurWCLWPFmuzKZGhhdoha6Ho0c0lromkQ21lG9xOLq9u/v2iigAooooAKKKKACiiigAr+bD9gfUl/ab/wCC+3/BVz9pKKeXUPDH7LXwt+Dv7EngW7ldZYILq6uv+Er+Jum2nDKk2k/ELwFriziNleJNVUSfNcuo/oZ+JXjrQ/hh8O/HnxJ8T3QsvDfw/wDB3ibxrr94Sii10bwvo17rWp3BaV44x5NnZTSZkkRBt+Z1GSP53v8Ag1z8OeIvEf7DXxr/AGtPHNqjeN/22f2xfjx8d9T1hgXn1KwfWrXwq8BuG/eT2tp4x0PxvPA0gDCe/uz0YUAf0r0UUUAFFFFABRRRQAUUUUAFFFFABRRRQAUUUUAFFFFABRRRQAUUUUAFFFFABRRRQAUUUUAFFFFABRRRQAUUUUAFFFFABRRRQAUUUUAFFFFABRRRQAUUUUAFFFFABRRRQAUUUUAFFFFABRRRQAUUUUAFFFFABRRRQAUUUUAFFFFABRRRQAUUUUAFFFFABRRRQAUUUUAFFFFAEqdD9f6CihOh+v8AQUUARt1P1P8AOkpW6n6n+dJQAUUUUAFFFFABRRRQAUUUUAFFFFABX5bf8FW/+CrPwC/4JVfs+33xS+J13beJ/if4lttR034J/BTT9ShtfE3xL8VW8AKmRhHdS6H4M0WWa1uPFvi2eznttJtJYrW0t9S1zUNJ0i//AFJr81v2p/8AgkJ/wTv/AG2PiLe/Fn9qL9niz+LvxAvdEsvDY8Q678QfipZS6doOnwPBaaVoNlofjjS9N8OWUTS3F55Og2enK+p3d5qsm/Ury5upQD8Df+CKX/BRD/gmF4o8XfEL9rn9p39tT4Zal/wUs/aguIW+KOo/F+z1T4WeG/g74QjnYeEvgD8Edd+IGmaV4YsfBPh/Txp1lqMukeJ73UPFusWNvc6rNeG009h/X34Z8WeFvGmj2PiHwf4k0HxVoGpwi503W/Dmr2Gt6Tf27EhZ7LUdNuLm0uYSQQJIZXQkHB4r8HtX/wCDX3/gihqUEcVn+yXqmgyJMJWutJ+Pn7Q0k8qhHXyHXWPijq1uIizLITHBHMHjUCUIXR+v+FP/AAb0/sH/ALPviP8A4Sf9nHxb+1z+z1fGW3uJYPhB+1Z8WvCtldzW+wbtRhGtXb6rFcLGkd1Z6nLd2FzADby2rQM8bAH7pUV498HPhZ4g+FGgHw/rnxs+LHxpjiEcdhqvxaf4eXeuWFvEgQQDVPA/w/8AA1xqZbBaS7146tfyMx3XZAAHsNABRRRQAUUUUAFFFFAH833/AAcx/wDBRz4U/sif8E//AIs/s8jxYr/tFftaeA9X+GfgDwPpYFzqFv4D8RXdpoXxM8YeJnSRf7D8Np4PvNd0PTJ5hJda54gvrew060ntLTXL7SfTv+CCf7Wn7B2o/wDBPn9kL9mj4IftMfCHxL8UPAHwb8M2Xjn4Yr4htvDPj6x+JGr2jeKviVb23gfxOmieKNUsrTxrrWvxDXbDSbnTNS8s3kF3IkwNfWH7WH/BGP8A4Js/tvePdV+Kf7TX7NmnfEf4kaza2NnfeNT4/wDin4Y197XTLZLTTbZLvwj430JY7SwgjSO1sljFlGgKfZyjurfmB48/4NHf+CUXii5F54Ml/aU+DN1HIk1rN8OfjBbXb2ksTwvG8EvxF8JePZ1KvCx3GYyAzSFJEZYGhAP6gQQwDKQQRkEEEEHoQRwQfUUtfgV8FP8Agkf+29+yhJpth+zP/wAFi/2hZvBGl+RBbfDn9qv4U+E/2oPCv9mW/wBlEej282oeK/APiLQdPjSCRIY/COueHWt1kRIiI1mjuP2I+Dy/tFWenrpnx7k+Duv6pbWwLeM/hRH4x8LWOr3fl2mY/wDhXXiuTxZNoMAlN8fO/wCFmeIHZI7UeQjSy+SAe20UUUAFFFFABRRRQAUUUUAFFFFABRRRQAUUUUAFFFFABRRRQAUUUUAFFFFABRRRQAUUUUAFFFFABRRRQAUUUUAFFFFABRRRQAUUUUAFFFFABRRRQAUUUUAFFFFABRRRQAUUUUAFFFFABRRRQAUUUUAFFFFABRRRQAUUUUAFFFFABRRRQAUUUUAFFFFABRRRQAUUUUASp0P1/oKKE6H6/wBBRQBG3U/U/wA6Slbqfqf50lABRRRQAUUUUAFFFFABRRRQAUUUUAFFFFABRRRQAUUUUAFFFFABRRRQAUUUUAFFFFABRRRQAUUUUAFFFFABRRRQAUUUUAFFFFABRRRQAUUUUAFFFFABRRRQAUUUUAFFFFABRRRQAUUUUAFFFFABRRRQAUUUUAFFFFABRRRQAUUUUAFFFFABRRRQAUUUUAFFFFABRRRQAUUUUAFFFFABRRRQAUUUUAFFFFABRRRQAUUUUAFFFFABRRRQAUUUUAFFFFABRRRQAUUUUASp0P1/oKKE6H6/0FFAEbdT9T/OkpW6n6n+dJQAUUUUAFFFFABRRRQAUUUUAFFFFABRRRQAUUUUAFFFFABRRRQAUUUUAFFFFABRRRQAUUUUAFFFFABRRRQAUUUUAFFFFABRRRQAUUUUAFFFFABRRRQAUUUUAFFFFABRRRQAUUUUAFFFFABRRRQAUUUUAFFFFABRRRQAUUUUAFFFFABRRRQAUUUUAFFFFABRRRQAUUUUAFFFFABRRRQAUUUUAFFFFABRRRQAUUUUAFFFFABRRRQAUUUUAFFFFABRRRQAUUUUAFFFFAEqdD9f6CihOh+v9BRQAFMknPU56f8A16Ty/f8AT/69FFAB5fv+n/16PL9/0/8Ar0UUAHl+/wCn/wBejy/f9P8A69FFAB5fv+n/ANejy/f9P/r0UUAHl+/6f/Xo8v3/AE/+vRRQAeX7/p/9ejy/f9P/AK9FFAB5fv8Ap/8AXo8v3/T/AOvRRQAeX7/p/wDXo8v3/T/69FFAB5fv+n/16PL9/wBP/r0UUAHl+/6f/Xo8v3/T/wCvRRQAeX7/AKf/AF6PL9/0/wDr0UUAHl+/6f8A16PL9/0/+vRRQAeX7/p/9ejy/f8AT/69FFAB5fv+n/16PL9/0/8Ar0UUAHl+/wCn/wBejy/f9P8A69FFAB5fv+n/ANejy/f9P/r0UUAHl+/6f/Xo8v3/AE/+vRRQAeX7/p/9ejy/f9P/AK9FFAB5fv8Ap/8AXo8v3/T/AOvRRQAeX7/p/wDXo8v3/T/69FFAB5fv+n/16PL9/wBP/r0UUAHl+/6f/Xo8v3/T/wCvRRQAeX7/AKf/AF6PL9/0/wDr0UUAHl+/6f8A16PL9/0/+vRRQAeX7/p/9ejy/f8AT/69FFAB5fv+n/16PL9/0/8Ar0UUAHl+/wCn/wBejy/f9P8A69FFAB5fv+n/ANejy/f9P/r0UUAHl+/6f/Xo8v3/AE/+vRRQAeX7/p/9ejy/f9P/AK9FFAB5fv8Ap/8AXo8v3/T/AOvRRQAeX7/p/wDXo8v3/T/69FFAB5fv+n/16PL9/wBP/r0UUAHl+/6f/Xo8v3/T/wCvRRQAeX7/AKf/AF6PL9/0/wDr0UUAHl+/6f8A16PL9/0/+vRRQAeX7/p/9ejy/f8AT/69FFAB5fv+n/16PL9/0/8Ar0UUAHl+/wCn/wBejy/f9P8A69FFAB5fv+n/ANejy/f9P/r0UUAHl+/6f/Xo8v3/AE/+vRRQAeX7/p/9ejy/f9P/AK9FFAB5fv8Ap/8AXo8v3/T/AOvRRQAeX7/p/wDXo8v3/T/69FFAB5fv+n/16PL9/wBP/r0UUAHl+/6f/Xo8v3/T/wCvRRQAeX7/AKf/AF6PL9/0/wDr0UUAHl+/6f8A16PL9/0/+vRRQAeX7/p/9ejy/f8AT/69FFAB5fv+n/16PL9/0/8Ar0UUAHl+/wCn/wBejy/f9P8A69FFAD1G0YznnNFFFAH/2Q==)"
      ],
      "metadata": {
        "id": "Ewt5vyjJ5bKu"
      }
    }
  ]
}