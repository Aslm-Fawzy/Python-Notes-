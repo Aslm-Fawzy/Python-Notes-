{
  "nbformat": 4,
  "nbformat_minor": 0,
  "metadata": {
    "kernelspec": {
      "display_name": "Python 3",
      "language": "python",
      "name": "python3"
    },
    "language_info": {
      "codemirror_mode": {
        "name": "ipython",
        "version": 3
      },
      "file_extension": ".py",
      "mimetype": "text/x-python",
      "name": "python",
      "nbconvert_exporter": "python",
      "pygments_lexer": "ipython3",
      "version": "3.7.3"
    },
    "colab": {
      "name": "Simple Bank System.ipynb",
      "provenance": [],
      "toc_visible": true
    }
  },
  "cells": [
    {
      "cell_type": "markdown",
      "source": [
        "# Banking System using OOP \n"
      ],
      "metadata": {
        "id": "ypFtnWBZBM_R"
      }
    },
    {
      "cell_type": "markdown",
      "metadata": {
        "id": "wc0QVVawAsOT"
      },
      "source": [
        "- parent Class: User \n",
        "\tHolds details about an user \n",
        "\thas a function to show user details \n",
        "\n",
        "- Child Class: Bank \n",
        "Stores details about the accound balance\n",
        "Stores details about the amount \n",
        "Allows for deposits, withdraw, view_balance \n",
        "\n",
        "- Create Main fuction \n",
        "ask from user  to enter name,age, gender\n",
        "print account created successfuly!\n",
        "then enter \n",
        "1 to show all details account \n",
        "2 to show account balance \n",
        "3 to withdraw \n",
        "4 to deposit \n",
        "0 to exit from the system \n",
        "program will running untill user enter zero \n",
        "- validate all data using exception handling "
      ]
    },
    {
      "cell_type": "markdown",
      "source": [
        "## Parent Class : User\n",
        ">User Holds details about an user has a function to show user details"
      ],
      "metadata": {
        "id": "OgQ0BkY9BvPO"
      }
    },
    {
      "cell_type": "code",
      "metadata": {
        "colab": {
          "base_uri": "https://localhost:8080/"
        },
        "id": "3QFUB3enbuLX",
        "outputId": "944aa0a9-0d83-4257-b900-6642c4fb386b"
      },
      "source": [
        "#Parent Class \n",
        "class User ():\n",
        "    def __init__(self, name,age,gender):\n",
        "        self.name = name \n",
        "        self.age= age \n",
        "        self.gender=gender \n",
        "    \n",
        "    def show_details(self):\n",
        "        print ('User Details') \n",
        "        print (\"Name:\", self.name) \n",
        "        print (\"Age: \", self.age) \n",
        "        print (\"Gender: \" , self.gender)\n",
        "\n",
        "        \n",
        "user_1 = User('Mohamed',25,'Male')\n",
        "user_1.show_details()"
      ],
      "execution_count": 1,
      "outputs": [
        {
          "output_type": "stream",
          "name": "stdout",
          "text": [
            "User Details\n",
            "Name: Mohamed\n",
            "Age:  25\n",
            "Gender:  Male\n"
          ]
        }
      ]
    },
    {
      "cell_type": "markdown",
      "source": [
        "##  Child Class: Bank \n",
        "1.  Stores details about the accound balance\n",
        "2. Stores details about the amount \n",
        "3. Allows for deposits, withdraw, view_balance"
      ],
      "metadata": {
        "id": "WcB-rloEB1tL"
      }
    },
    {
      "cell_type": "code",
      "metadata": {
        "colab": {
          "base_uri": "https://localhost:8080/"
        },
        "id": "3tC9FNWGbuLi",
        "outputId": "dcc65f04-1b88-4ebd-a55b-c216c9bae031"
      },
      "source": [
        "## - Child Class: Bank \n",
        "### Stores details about the accound balance\n",
        "### Stores details about the amount \n",
        "### Allows for deposits, withdraw, view_balance \n",
        "#Parent Class \n",
        "class User ():\n",
        "    def __init__(self, name,age,gender):\n",
        "        self.name = name \n",
        "        self.age= age \n",
        "        self.gender=gender \n",
        "    \n",
        "    def show_details(self):\n",
        "        print ('User Details') \n",
        "        print (\"Name:\", self.name) \n",
        "        print (\"Age: \", self.age) \n",
        "        print (\"Gender: \" , self.gender)       \n",
        "user_1 = User('Mohamed',25,'Male')\n",
        "class Bank(User):\n",
        "    def __init__(self,name,age,gender):\n",
        "        User.__init__(self,name,age,gender)\n",
        "        self.balance=0 \n",
        "    \n",
        "    def deposit(self,amount):\n",
        "        self.amount = amount \n",
        "        self.balance = self.balance + self.amount \n",
        "        print (\"Account Balance has been updated: $\" , self.balance)\n",
        "    \n",
        "    def withdraw (self,amount):\n",
        "        self.amount = amount \n",
        "        if self.balance < amount :\n",
        "            print (\"Insufficient Funds: Balance Availble = \" , self.balance)\n",
        "        else:\n",
        "            self.balance -= self.amount \n",
        "            print (\"Operation Done succsessfuly\")\n",
        "            print (\"Balance has been updated : $\" , self.balance)\n",
        "        \n",
        "    def  view_balance (self):\n",
        "        print (\"Your current Balance now is : $ \" , self.balance)\n",
        "     \n",
        "user_2 = Bank ('Mohamed',25,'Male')\n",
        "user_2.show_details()\n",
        "user_2.deposit(100) \n",
        "user_2.view_balance()\n",
        "user_2.deposit(100) \n",
        "user_2.view_balance()\n",
        "user_2.withdraw(100)\n",
        "user_2.view_balance()\n"
      ],
      "execution_count": 2,
      "outputs": [
        {
          "output_type": "stream",
          "name": "stdout",
          "text": [
            "User Details\n",
            "Name: Mohamed\n",
            "Age:  25\n",
            "Gender:  Male\n",
            "Account Balance has been updated: $ 100\n",
            "Your current Balance now is : $  100\n",
            "Account Balance has been updated: $ 200\n",
            "Your current Balance now is : $  200\n",
            "Operation Done succsessfuly\n",
            "Balance has been updated : $ 100\n",
            "Your current Balance now is : $  100\n"
          ]
        }
      ]
    },
    {
      "cell_type": "markdown",
      "source": [
        "## Whole Program\n",
        "> Combining Parent Class and Child Class to imitate Banking System"
      ],
      "metadata": {
        "id": "iKAqSunaCE98"
      }
    },
    {
      "cell_type": "code",
      "metadata": {
        "colab": {
          "base_uri": "https://localhost:8080/"
        },
        "id": "lgEKmsa0AaKI",
        "outputId": "58d0950f-2f73-4c64-a9ab-2cb256633644"
      },
      "source": [
        "while True:\n",
        "  try:\n",
        "      name = input('Enter your name :')\n",
        "      age = int(input('Enter your age :'))\n",
        "      gender = input('Enter your gender [\\'male\\',\\'Male\\',\\'m\\',\\'M\\',\\'MALE\\',\\'female\\',\\'Female\\',\\'F\\',\\'f\\',\\'FEMALE\\']:')   \n",
        "      u = Bank(name,age,gender)     \n",
        "      while True :\n",
        "                    print('--------------------------------------')\n",
        "                    print('\\tEnter 1 to show all user details ')\n",
        "                    print('\\tEnter 2 to show account balance ')\n",
        "                    print('\\tEnter 3 to withdraw')\n",
        "                    print('\\tEnter 4 to deposit')\n",
        "                    print('\\tEnter 5 to Exit')\n",
        "                    bank_actions = int(input())     \n",
        "                    if bank_actions == 1:\n",
        "                          u.show_details()\n",
        "                          print('--------------------------------------')\n",
        "                    elif bank_actions == 2:\n",
        "                          u.view_balance()\n",
        "                          print('--------------------------------------')\n",
        "                    elif bank_actions == 3:\n",
        "                          print('\\tEnter amount to withdraw')\n",
        "                          withdraw_am = int(input())\n",
        "                          u.withdraw(withdraw_am)\n",
        "                          print('--------------------------------------')\n",
        "                    elif bank_actions ==4 :\n",
        "                          print('\\tEnter amount to deposit')                     \n",
        "                          dep = int(input())\n",
        "                          u.deposit(dep)                    \n",
        "                          print('--------------------------------------')     \n",
        "                    elif bank_actions ==5 :\n",
        "                         print(f' Ok {name} ! Good bye ^_^ ')\n",
        "                         break  \n",
        "      break\n",
        "  except:\n",
        "    print('bad inputs try again Please !')      "
      ],
      "execution_count": 3,
      "outputs": [
        {
          "output_type": "stream",
          "name": "stdout",
          "text": [
            "Enter your name :Aslm\n",
            "Enter your age :22\n",
            "Enter your gender ['male','Male','m','M','MALE','female','Female','F','f','FEMALE']:M\n",
            "--------------------------------------\n",
            "\tEnter 1 to show all user details \n",
            "\tEnter 2 to show account balance \n",
            "\tEnter 3 to withdraw\n",
            "\tEnter 4 to deposit\n",
            "\tEnter 5 to Exit\n",
            "1\n",
            "User Details\n",
            "Name: Aslm\n",
            "Age:  22\n",
            "Gender:  M\n",
            "--------------------------------------\n",
            "--------------------------------------\n",
            "\tEnter 1 to show all user details \n",
            "\tEnter 2 to show account balance \n",
            "\tEnter 3 to withdraw\n",
            "\tEnter 4 to deposit\n",
            "\tEnter 5 to Exit\n",
            "2\n",
            "Your current Balance now is : $  0\n",
            "--------------------------------------\n",
            "--------------------------------------\n",
            "\tEnter 1 to show all user details \n",
            "\tEnter 2 to show account balance \n",
            "\tEnter 3 to withdraw\n",
            "\tEnter 4 to deposit\n",
            "\tEnter 5 to Exit\n",
            "3\n",
            "\tEnter amount to withdraw\n",
            "1000\n",
            "Insufficient Funds: Balance Availble =  0\n",
            "--------------------------------------\n",
            "--------------------------------------\n",
            "\tEnter 1 to show all user details \n",
            "\tEnter 2 to show account balance \n",
            "\tEnter 3 to withdraw\n",
            "\tEnter 4 to deposit\n",
            "\tEnter 5 to Exit\n",
            "4\n",
            "\tEnter amount to deposit\n",
            "25000\n",
            "Account Balance has been updated: $ 25000\n",
            "--------------------------------------\n",
            "--------------------------------------\n",
            "\tEnter 1 to show all user details \n",
            "\tEnter 2 to show account balance \n",
            "\tEnter 3 to withdraw\n",
            "\tEnter 4 to deposit\n",
            "\tEnter 5 to Exit\n",
            "3\n",
            "\tEnter amount to withdraw\n",
            "300000\n",
            "Insufficient Funds: Balance Availble =  25000\n",
            "--------------------------------------\n",
            "--------------------------------------\n",
            "\tEnter 1 to show all user details \n",
            "\tEnter 2 to show account balance \n",
            "\tEnter 3 to withdraw\n",
            "\tEnter 4 to deposit\n",
            "\tEnter 5 to Exit\n",
            "3\n",
            "\tEnter amount to withdraw\n",
            "500\n",
            "Operation Done succsessfuly\n",
            "Balance has been updated : $ 24500\n",
            "--------------------------------------\n",
            "--------------------------------------\n",
            "\tEnter 1 to show all user details \n",
            "\tEnter 2 to show account balance \n",
            "\tEnter 3 to withdraw\n",
            "\tEnter 4 to deposit\n",
            "\tEnter 5 to Exit\n",
            "2\n",
            "Your current Balance now is : $  24500\n",
            "--------------------------------------\n",
            "--------------------------------------\n",
            "\tEnter 1 to show all user details \n",
            "\tEnter 2 to show account balance \n",
            "\tEnter 3 to withdraw\n",
            "\tEnter 4 to deposit\n",
            "\tEnter 5 to Exit\n",
            "5\n",
            " Ok Aslm ! Good bye ^_^ \n"
          ]
        }
      ]
    }
  ]
}