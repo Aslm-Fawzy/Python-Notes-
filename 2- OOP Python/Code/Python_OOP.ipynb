{
  "nbformat": 4,
  "nbformat_minor": 0,
  "metadata": {
    "colab": {
      "name": "IEEE_Python_OOP.ipynb",
      "provenance": [],
      "collapsed_sections": [],
      "toc_visible": true
    },
    "kernelspec": {
      "name": "python3",
      "display_name": "Python 3"
    },
    "language_info": {
      "name": "python"
    }
  },
  "cells": [
    {
      "cell_type": "markdown",
      "metadata": {
        "id": "qT26A30_D2w1"
      },
      "source": [
        "# **1. Object Oriented Programming (OOP) in Python :-**\n",
        "\n",
        "\n",
        ">Object-oriented programming is a programming paradigm that provides a means of structuring programs so that properties and behaviors are bundled into individual objects.\n",
        "\n",
        ">OOP is focusing on using objects and classes to design and build applications .\n",
        "\n",
        "\n",
        "\n",
        "\n",
        "\n",
        "\n",
        "\n",
        "\n",
        "\n",
        "\n",
        "\n"
      ]
    },
    {
      "cell_type": "markdown",
      "metadata": {
        "id": "gZ0kJpUoHnTn"
      },
      "source": [
        "\n",
        "#**2. Why we use OOP :-**\n",
        "\n",
        "\n",
        "> 1.  Provides a clear program structure, which makes it easy to map real world problems and their solutions.\n",
        "2.  Facilitates easy maintenance and modification of existing code.\n",
        "3.  Enhances program modularity because each object exists independently and new features can be added easily without disturbing the existing ones.\n",
        "4.  Imparts code reusability\n",
        "\n"
      ]
    },
    {
      "cell_type": "markdown",
      "metadata": {
        "id": "p7WwKRuAHm3L"
      },
      "source": [
        "# **3. Objects and Classes :-**\n",
        "\n",
        "> **Class :** is the blueprint for create objects  \n",
        "> **Object :** is instance that built from a class \n",
        "\n"
      ]
    },
    {
      "cell_type": "code",
      "metadata": {
        "id": "HyDWB8Hvnciz",
        "colab": {
          "base_uri": "https://localhost:8080/"
        },
        "outputId": "69576544-443d-4656-c926-591831e392b2"
      },
      "source": [
        "#OOP is in all python \n",
        "dic_1 = {'key_1' : 1,'key_2' : 2,'key_3' : 3, 'key_4' : 4}\n",
        "dic_1\n"
      ],
      "execution_count": null,
      "outputs": [
        {
          "output_type": "execute_result",
          "data": {
            "text/plain": [
              "{'key_1': 1, 'key_2': 2, 'key_3': 3, 'key_4': 4}"
            ]
          },
          "metadata": {
            "tags": []
          },
          "execution_count": 22
        }
      ]
    },
    {
      "cell_type": "code",
      "metadata": {
        "colab": {
          "base_uri": "https://localhost:8080/"
        },
        "id": "pwgAdtOuPewM",
        "outputId": "2c7d10c9-00ee-4504-bdbc-e6ef93366977"
      },
      "source": [
        "type(dic_1)"
      ],
      "execution_count": null,
      "outputs": [
        {
          "output_type": "execute_result",
          "data": {
            "text/plain": [
              "dict"
            ]
          },
          "metadata": {
            "tags": []
          },
          "execution_count": 23
        }
      ]
    },
    {
      "cell_type": "code",
      "metadata": {
        "colab": {
          "base_uri": "https://localhost:8080/"
        },
        "id": "vydpXhfXPdi7",
        "outputId": "7cc27cd3-4ac1-4d98-d9ca-4227a9765f69"
      },
      "source": [
        "dir(dic_1)"
      ],
      "execution_count": null,
      "outputs": [
        {
          "output_type": "execute_result",
          "data": {
            "text/plain": [
              "['__class__',\n",
              " '__contains__',\n",
              " '__delattr__',\n",
              " '__delitem__',\n",
              " '__dir__',\n",
              " '__doc__',\n",
              " '__eq__',\n",
              " '__format__',\n",
              " '__ge__',\n",
              " '__getattribute__',\n",
              " '__getitem__',\n",
              " '__gt__',\n",
              " '__hash__',\n",
              " '__init__',\n",
              " '__init_subclass__',\n",
              " '__iter__',\n",
              " '__le__',\n",
              " '__len__',\n",
              " '__lt__',\n",
              " '__ne__',\n",
              " '__new__',\n",
              " '__reduce__',\n",
              " '__reduce_ex__',\n",
              " '__repr__',\n",
              " '__setattr__',\n",
              " '__setitem__',\n",
              " '__sizeof__',\n",
              " '__str__',\n",
              " '__subclasshook__',\n",
              " 'clear',\n",
              " 'copy',\n",
              " 'fromkeys',\n",
              " 'get',\n",
              " 'items',\n",
              " 'keys',\n",
              " 'pop',\n",
              " 'popitem',\n",
              " 'setdefault',\n",
              " 'update',\n",
              " 'values']"
            ]
          },
          "metadata": {
            "tags": []
          },
          "execution_count": 24
        }
      ]
    },
    {
      "cell_type": "code",
      "metadata": {
        "colab": {
          "base_uri": "https://localhost:8080/"
        },
        "id": "qSzTxijtPyVZ",
        "outputId": "db725055-713c-445d-ad10-b94466ed37d4"
      },
      "source": [
        "len(dic_1)"
      ],
      "execution_count": null,
      "outputs": [
        {
          "output_type": "execute_result",
          "data": {
            "text/plain": [
              "4"
            ]
          },
          "metadata": {
            "tags": []
          },
          "execution_count": 25
        }
      ]
    },
    {
      "cell_type": "code",
      "metadata": {
        "colab": {
          "base_uri": "https://localhost:8080/"
        },
        "id": "D1_BtlyMP6tS",
        "outputId": "bf17dc76-be16-47cb-ba37-ad95f33d7b4c"
      },
      "source": [
        "dic_1.values()"
      ],
      "execution_count": null,
      "outputs": [
        {
          "output_type": "execute_result",
          "data": {
            "text/plain": [
              "dict_values([1, 2, 3, 4])"
            ]
          },
          "metadata": {
            "tags": []
          },
          "execution_count": 26
        }
      ]
    },
    {
      "cell_type": "code",
      "metadata": {
        "colab": {
          "base_uri": "https://localhost:8080/"
        },
        "id": "lfbGHj-hQMGs",
        "outputId": "dd954d45-7d6f-47c0-f799-fdf4f812362c"
      },
      "source": [
        "dic_1.keys()"
      ],
      "execution_count": null,
      "outputs": [
        {
          "output_type": "execute_result",
          "data": {
            "text/plain": [
              "dict_keys(['key_1', 'key_2', 'key_3', 'key_4'])"
            ]
          },
          "metadata": {
            "tags": []
          },
          "execution_count": 27
        }
      ]
    },
    {
      "cell_type": "code",
      "metadata": {
        "colab": {
          "base_uri": "https://localhost:8080/"
        },
        "id": "6iAqdZ1fQVgp",
        "outputId": "d75d95e7-d9b0-4514-885d-b31105847743"
      },
      "source": [
        "dic_1.items()"
      ],
      "execution_count": null,
      "outputs": [
        {
          "output_type": "execute_result",
          "data": {
            "text/plain": [
              "dict_items([('key_1', 1), ('key_2', 2), ('key_3', 3), ('key_4', 4)])"
            ]
          },
          "metadata": {
            "tags": []
          },
          "execution_count": 28
        }
      ]
    },
    {
      "cell_type": "code",
      "metadata": {
        "colab": {
          "base_uri": "https://localhost:8080/"
        },
        "id": "I2OB-cztQfCz",
        "outputId": "af736538-033e-4345-ee2d-c42ebab8750c"
      },
      "source": [
        "dic_1.popitem()"
      ],
      "execution_count": null,
      "outputs": [
        {
          "output_type": "execute_result",
          "data": {
            "text/plain": [
              "('key_4', 4)"
            ]
          },
          "metadata": {
            "tags": []
          },
          "execution_count": 29
        }
      ]
    },
    {
      "cell_type": "code",
      "metadata": {
        "colab": {
          "base_uri": "https://localhost:8080/"
        },
        "id": "R1g1FDqYShuT",
        "outputId": "d2f1130a-3010-4ef3-f008-2a4d380ed821"
      },
      "source": [
        "dic_1"
      ],
      "execution_count": null,
      "outputs": [
        {
          "output_type": "execute_result",
          "data": {
            "text/plain": [
              "{'key_1': 1, 'key_2': 2, 'key_3': 3}"
            ]
          },
          "metadata": {
            "tags": []
          },
          "execution_count": 30
        }
      ]
    },
    {
      "cell_type": "code",
      "metadata": {
        "colab": {
          "base_uri": "https://localhost:8080/"
        },
        "id": "-KEKd6k-TsUj",
        "outputId": "eccedba0-4366-421a-9b9c-40d90f89a3d5"
      },
      "source": [
        "dic_1.popitem()"
      ],
      "execution_count": null,
      "outputs": [
        {
          "output_type": "execute_result",
          "data": {
            "text/plain": [
              "('key_3', 3)"
            ]
          },
          "metadata": {
            "tags": []
          },
          "execution_count": 31
        }
      ]
    },
    {
      "cell_type": "code",
      "metadata": {
        "colab": {
          "base_uri": "https://localhost:8080/"
        },
        "id": "fHsthNBHTx_F",
        "outputId": "82cabcd6-82cf-45db-bad5-f35e2175c5af"
      },
      "source": [
        "dic_1"
      ],
      "execution_count": null,
      "outputs": [
        {
          "output_type": "execute_result",
          "data": {
            "text/plain": [
              "{'key_1': 1, 'key_2': 2}"
            ]
          },
          "metadata": {
            "tags": []
          },
          "execution_count": 32
        }
      ]
    },
    {
      "cell_type": "code",
      "metadata": {
        "id": "ke8bZJ8cT165"
      },
      "source": [
        "#Creating class and object in OOP \n",
        "class fr_class :\n",
        "  def welcome (self,name,age):\n",
        "       self.name = name\n",
        "       self.age = age\n",
        "       print(f'my name :{self.name} \\nmy age :{self.age}\\n------------------------------------\\n\\t WELCOME ALL ^_^')\n",
        "\n"
      ],
      "execution_count": null,
      "outputs": []
    },
    {
      "cell_type": "code",
      "metadata": {
        "id": "JL9WkZSc2Dxr"
      },
      "source": [
        "#Creating instence \n",
        "object_1 = fr_class()"
      ],
      "execution_count": null,
      "outputs": []
    },
    {
      "cell_type": "code",
      "metadata": {
        "colab": {
          "base_uri": "https://localhost:8080/"
        },
        "id": "cWYz5fdX2hdL",
        "outputId": "adafedd7-2059-4556-fee5-5b4d6a76840e"
      },
      "source": [
        "#Using the methods in the class\n",
        "object_1.welcome(name = 'ASLM',age = 12)"
      ],
      "execution_count": null,
      "outputs": [
        {
          "output_type": "stream",
          "text": [
            "my name :ASLM \n",
            "my age :12\n",
            "------------------------------------\n",
            "\t WELCOME ALL ^_^\n"
          ],
          "name": "stdout"
        }
      ]
    },
    {
      "cell_type": "code",
      "metadata": {
        "id": "aDANpjIO35hL"
      },
      "source": [
        "#Creating class and object in OOP \n",
        "#using __init__ method tha act as constructor that can intialize the attributes value \n",
        "class sec_class :\n",
        "  def __init__( self,name='Aslm',age=20):\n",
        "       self.name = name\n",
        "       self.age = age\n",
        "       print(f'my name :{self.name} \\nmy age :{self.age}\\n------------------------------------\\n\\t WELCOME ALL ^_^')  "
      ],
      "execution_count": null,
      "outputs": []
    },
    {
      "cell_type": "code",
      "metadata": {
        "colab": {
          "base_uri": "https://localhost:8080/"
        },
        "id": "Zm0HBKaX5DMv",
        "outputId": "cf9b00bb-8fad-4ed1-c579-9e11eb155d6e"
      },
      "source": [
        "object_2 = sec_class()"
      ],
      "execution_count": null,
      "outputs": [
        {
          "output_type": "stream",
          "text": [
            "my name :Aslm \n",
            "my age :20\n",
            "------------------------------------\n",
            "\t WELCOME ALL ^_^\n"
          ],
          "name": "stdout"
        }
      ]
    },
    {
      "cell_type": "code",
      "metadata": {
        "colab": {
          "base_uri": "https://localhost:8080/"
        },
        "id": "CgTq4Dy45Xrr",
        "outputId": "1b6b538f-421b-4768-cda4-14c4d0958398"
      },
      "source": [
        "object_3 = sec_class(age = 19,name='ahmed')\n"
      ],
      "execution_count": null,
      "outputs": [
        {
          "output_type": "stream",
          "text": [
            "my name :ahmed \n",
            "my age :19\n",
            "------------------------------------\n",
            "\t WELCOME ALL ^_^\n"
          ],
          "name": "stdout"
        }
      ]
    },
    {
      "cell_type": "markdown",
      "metadata": {
        "id": "R0xMhQZr82v7"
      },
      "source": [
        "**Note:** each object follows the class in attributes number and all methods"
      ]
    },
    {
      "cell_type": "code",
      "metadata": {
        "id": "6ydjYF4S47nC"
      },
      "source": [
        "class th_class :\n",
        "  def say(self):\n",
        "    print('HI !\\n We in AI Comitee IEEE ')\n",
        "  def welcome (self,name,age):\n",
        "       self.name = name\n",
        "       self.age = age\n",
        "       print(f'my name :{self.name} \\nmy age :{self.age}\\n------------------------------------\\n\\t WELCOME ALL ^_^')\n",
        "\n"
      ],
      "execution_count": null,
      "outputs": []
    },
    {
      "cell_type": "code",
      "metadata": {
        "id": "WJwv-H1I_M2-"
      },
      "source": [
        "object_4 = th_class()"
      ],
      "execution_count": null,
      "outputs": []
    },
    {
      "cell_type": "code",
      "metadata": {
        "colab": {
          "base_uri": "https://localhost:8080/"
        },
        "id": "SjQU3sE-_X2s",
        "outputId": "2e9c7823-e0df-488e-c718-3c502103bbfb"
      },
      "source": [
        "object_4.welcome('ali',12)"
      ],
      "execution_count": null,
      "outputs": [
        {
          "output_type": "stream",
          "text": [
            "my name :ali \n",
            "my age :12\n",
            "------------------------------------\n",
            "\t WELCOME ALL ^_^\n"
          ],
          "name": "stdout"
        }
      ]
    },
    {
      "cell_type": "code",
      "metadata": {
        "colab": {
          "base_uri": "https://localhost:8080/"
        },
        "id": "Kwcd5Who_jCJ",
        "outputId": "414b337f-81f0-4092-c484-5817943b644b"
      },
      "source": [
        "#printing attribue value\n",
        "object_4.age"
      ],
      "execution_count": null,
      "outputs": [
        {
          "output_type": "execute_result",
          "data": {
            "text/plain": [
              "12"
            ]
          },
          "metadata": {
            "tags": []
          },
          "execution_count": 42
        }
      ]
    },
    {
      "cell_type": "code",
      "metadata": {
        "colab": {
          "base_uri": "https://localhost:8080/",
          "height": 35
        },
        "id": "tH3OEM1H_m5Z",
        "outputId": "41754aa6-5481-4102-9324-281c972638c5"
      },
      "source": [
        "#printing attribue value\n",
        "object_4.name"
      ],
      "execution_count": null,
      "outputs": [
        {
          "output_type": "execute_result",
          "data": {
            "application/vnd.google.colaboratory.intrinsic+json": {
              "type": "string"
            },
            "text/plain": [
              "'ali'"
            ]
          },
          "metadata": {
            "tags": []
          },
          "execution_count": 43
        }
      ]
    },
    {
      "cell_type": "code",
      "metadata": {
        "colab": {
          "base_uri": "https://localhost:8080/"
        },
        "id": "Xrc6yvv1Bf9e",
        "outputId": "73c442a4-59ea-4996-8ca6-501f8dfe1cee"
      },
      "source": [
        "print(object_4.name)\n",
        "print(object_4.age)"
      ],
      "execution_count": null,
      "outputs": [
        {
          "output_type": "stream",
          "text": [
            "ali\n",
            "12\n"
          ],
          "name": "stdout"
        }
      ]
    },
    {
      "cell_type": "code",
      "metadata": {
        "colab": {
          "base_uri": "https://localhost:8080/"
        },
        "id": "TiSh09Ju_pmy",
        "outputId": "d7f50b58-1780-4dc0-cf71-ca7ae6007648"
      },
      "source": [
        "object_4.say()"
      ],
      "execution_count": null,
      "outputs": [
        {
          "output_type": "stream",
          "text": [
            "HI !\n",
            " We in AI Comitee IEEE \n"
          ],
          "name": "stdout"
        }
      ]
    },
    {
      "cell_type": "code",
      "metadata": {
        "colab": {
          "base_uri": "https://localhost:8080/"
        },
        "id": "mU6zkvMQAc_R",
        "outputId": "349d307e-3f28-4b9c-cff8-b2f2db10e470"
      },
      "source": [
        "dir(object_4)"
      ],
      "execution_count": null,
      "outputs": [
        {
          "output_type": "execute_result",
          "data": {
            "text/plain": [
              "['__class__',\n",
              " '__delattr__',\n",
              " '__dict__',\n",
              " '__dir__',\n",
              " '__doc__',\n",
              " '__eq__',\n",
              " '__format__',\n",
              " '__ge__',\n",
              " '__getattribute__',\n",
              " '__gt__',\n",
              " '__hash__',\n",
              " '__init__',\n",
              " '__init_subclass__',\n",
              " '__le__',\n",
              " '__lt__',\n",
              " '__module__',\n",
              " '__ne__',\n",
              " '__new__',\n",
              " '__reduce__',\n",
              " '__reduce_ex__',\n",
              " '__repr__',\n",
              " '__setattr__',\n",
              " '__sizeof__',\n",
              " '__str__',\n",
              " '__subclasshook__',\n",
              " '__weakref__',\n",
              " 'age',\n",
              " 'name',\n",
              " 'say',\n",
              " 'welcome']"
            ]
          },
          "metadata": {
            "tags": []
          },
          "execution_count": 46
        }
      ]
    },
    {
      "cell_type": "code",
      "metadata": {
        "colab": {
          "base_uri": "https://localhost:8080/",
          "height": 180
        },
        "id": "L55Yktft_-Tj",
        "outputId": "cdcfc234-9e30-4e3c-de90-8424ac003093"
      },
      "source": [
        ".#try to extract attribute doesn't located in the class\n",
        "object_4.gender"
      ],
      "execution_count": null,
      "outputs": [
        {
          "output_type": "error",
          "ename": "AttributeError",
          "evalue": "ignored",
          "traceback": [
            "\u001b[0;31m---------------------------------------------------------------------------\u001b[0m",
            "\u001b[0;31mAttributeError\u001b[0m                            Traceback (most recent call last)",
            "\u001b[0;32m<ipython-input-47-72092f1a21bf>\u001b[0m in \u001b[0;36m<module>\u001b[0;34m()\u001b[0m\n\u001b[1;32m      1\u001b[0m \u001b[0;31m#try to extract attribute doesn't located in the class\u001b[0m\u001b[0;34m\u001b[0m\u001b[0;34m\u001b[0m\u001b[0;34m\u001b[0m\u001b[0m\n\u001b[0;32m----> 2\u001b[0;31m \u001b[0mobject_4\u001b[0m\u001b[0;34m.\u001b[0m\u001b[0mgender\u001b[0m\u001b[0;34m\u001b[0m\u001b[0;34m\u001b[0m\u001b[0m\n\u001b[0m",
            "\u001b[0;31mAttributeError\u001b[0m: 'th_class' object has no attribute 'gender'"
          ]
        }
      ]
    },
    {
      "cell_type": "code",
      "metadata": {
        "id": "fFA2aI39_85_"
      },
      "source": [
        "#try to implement method doesn't located in the class\n",
        "object_4.WHO()"
      ],
      "execution_count": null,
      "outputs": []
    },
    {
      "cell_type": "code",
      "metadata": {
        "id": "EuhE14AgyuUp"
      },
      "source": [
        "class Rectangle:\n",
        "    def __init__(self, width=5, height=12):\n",
        "        self.width = width\n",
        "        self.height = height     \n",
        "    def getPerimeter(self):\n",
        "        return (self.height + self.width) * 2    \n",
        "    def getArea(self):\n",
        "        return self.height * self.width      "
      ],
      "execution_count": null,
      "outputs": []
    },
    {
      "cell_type": "code",
      "metadata": {
        "id": "1dWKBqY_zAw_"
      },
      "source": [
        "rec_1 = Rectangle(width=4,height=10)"
      ],
      "execution_count": null,
      "outputs": []
    },
    {
      "cell_type": "code",
      "metadata": {
        "colab": {
          "base_uri": "https://localhost:8080/"
        },
        "id": "W01rnFDcChxr",
        "outputId": "6b66fef6-94a4-4b58-f8d4-9e44ca69558f"
      },
      "source": [
        "print('Height of Rectangle :',rec_1.height)\n",
        "print('Width of Rectangle :',rec_1.width)\n",
        "print('The Perimeter of Rectangle :',rec_1.getPerimeter())\n",
        "print('The Area of Rectangle :',rec_1.getArea())"
      ],
      "execution_count": null,
      "outputs": [
        {
          "output_type": "stream",
          "text": [
            "Height of Rectangle : 10\n",
            "Width of Rectangle : 4\n",
            "The Perimeter of Rectangle : 28\n",
            "The Area of Rectangle : 40\n"
          ],
          "name": "stdout"
        }
      ]
    },
    {
      "cell_type": "code",
      "metadata": {
        "colab": {
          "base_uri": "https://localhost:8080/",
          "height": 35
        },
        "id": "70HtizbeIInn",
        "outputId": "0b2e19c9-b80f-472e-a3ef-c4bfba56ed93"
      },
      "source": [
        "rec_1.height = 'a'\n",
        "rec_1.width = 10\n",
        "rec_1.getArea()"
      ],
      "execution_count": null,
      "outputs": [
        {
          "output_type": "execute_result",
          "data": {
            "application/vnd.google.colaboratory.intrinsic+json": {
              "type": "string"
            },
            "text/plain": [
              "'aaaaaaaaaa'"
            ]
          },
          "metadata": {
            "tags": []
          },
          "execution_count": 55
        }
      ]
    },
    {
      "cell_type": "markdown",
      "metadata": {
        "id": "eQd08pgk7wPg"
      },
      "source": [
        "# **4.OOP Concepts :-**\n",
        "\n",
        "1.  Encapsulation \n",
        "2.  Inheritance  \n",
        "3.  Polymorphism    \n",
        "4.  Data Abstraction\n",
        "\n",
        "\n",
        "\n",
        "\n"
      ]
    },
    {
      "cell_type": "markdown",
      "metadata": {
        "id": "6pv8-i3TCQR6"
      },
      "source": [
        "## **4.1 Encapsulation**\n",
        "\n",
        ">known as Data Hiding.\n",
        "\n",
        ">Wrapping up of data under a single unit so the variables (attributes) or data of a class are hidden from any other class and can be accessed only through any member function of their class in which they are declared .\n",
        "\n",
        "\n",
        "\n",
        "\n",
        "\n"
      ]
    },
    {
      "cell_type": "code",
      "metadata": {
        "id": "07EpH7QhF2x-"
      },
      "source": [
        "class Rectangle:\n",
        "#\n",
        "    def __init__(self, width=5, height=12):\n",
        "      #Making class members (attributes-methods) private by adding __ before member \n",
        "        self.__width = width\n",
        "        self.__height = height     \n",
        "    # Setters\n",
        "    def set_width(self, new_width):\n",
        "        if (type(new_width) == int) | (type(new_width) == float) :\n",
        "              self.__width = new_width\n",
        "        else:\n",
        "            print('Please enter an interger number or float number !')\n",
        "    def set_height(self, new_height):\n",
        "        if (type(new_height) == int) | (type(new_height) == float) :\n",
        "            self.__height = new_height\n",
        "        else:\n",
        "            print('Please enter an interger number or float number !')\n",
        "    # Getters\n",
        "    def get_width(self):\n",
        "        print(f'The width is: {self.__width}')   \n",
        "    def get_height(self):\n",
        "        print(f'The height is: {self.__height}')                 \n",
        "    def get_perimeter(self):\n",
        "        print(f'The perimeter is: {(self.__height + self.__width) * 2}')                 \n",
        "    def get_area(self):\n",
        "        print(f'The area is: {(self.__height * self.__width)}')                 \n"
      ],
      "execution_count": null,
      "outputs": []
    },
    {
      "cell_type": "code",
      "metadata": {
        "id": "X251qCbbOX1c"
      },
      "source": [
        "rec_2 = Rectangle()"
      ],
      "execution_count": null,
      "outputs": []
    },
    {
      "cell_type": "code",
      "metadata": {
        "colab": {
          "base_uri": "https://localhost:8080/"
        },
        "id": "k7Hu3O9aOlET",
        "outputId": "459573a1-f2d5-41bf-9b6f-bf15b5a7efc5"
      },
      "source": [
        "rec_2.get_width()"
      ],
      "execution_count": null,
      "outputs": [
        {
          "output_type": "stream",
          "text": [
            "The width is: 5\n"
          ],
          "name": "stdout"
        }
      ]
    },
    {
      "cell_type": "code",
      "metadata": {
        "colab": {
          "base_uri": "https://localhost:8080/"
        },
        "id": "twbs9qQlOrx2",
        "outputId": "5612c133-63ad-48de-c622-d14e6c161aa2"
      },
      "source": [
        "rec_2.get_height()"
      ],
      "execution_count": null,
      "outputs": [
        {
          "output_type": "stream",
          "text": [
            "The height is: 12\n"
          ],
          "name": "stdout"
        }
      ]
    },
    {
      "cell_type": "code",
      "metadata": {
        "colab": {
          "base_uri": "https://localhost:8080/"
        },
        "id": "riG7XKXfO4_5",
        "outputId": "678bdc47-fffe-4826-8759-e0da27458797"
      },
      "source": [
        "rec_2.get_area()"
      ],
      "execution_count": null,
      "outputs": [
        {
          "output_type": "stream",
          "text": [
            "The area is: 60\n"
          ],
          "name": "stdout"
        }
      ]
    },
    {
      "cell_type": "code",
      "metadata": {
        "colab": {
          "base_uri": "https://localhost:8080/"
        },
        "id": "PaHr43-tPWCC",
        "outputId": "d7cc9f63-1ebb-495d-b901-e659a1cb4222"
      },
      "source": [
        "rec_2.get_perimeter()"
      ],
      "execution_count": null,
      "outputs": [
        {
          "output_type": "stream",
          "text": [
            "The perimeter is: 34\n"
          ],
          "name": "stdout"
        }
      ]
    },
    {
      "cell_type": "code",
      "metadata": {
        "id": "W-cu9uwtPZu7"
      },
      "source": [
        "rec_3 = Rectangle()"
      ],
      "execution_count": null,
      "outputs": []
    },
    {
      "cell_type": "code",
      "metadata": {
        "colab": {
          "base_uri": "https://localhost:8080/"
        },
        "id": "vLij5670PenN",
        "outputId": "3bcf076b-8b89-47a9-a5b2-8ddd6d3d384a"
      },
      "source": [
        "rec_3.set_height('a')"
      ],
      "execution_count": null,
      "outputs": [
        {
          "output_type": "stream",
          "text": [
            "Please enter an interger number or float number !\n"
          ],
          "name": "stdout"
        }
      ]
    },
    {
      "cell_type": "code",
      "metadata": {
        "id": "JRoZVDFBPtCF"
      },
      "source": [
        "rec_3.set_height(13.5)"
      ],
      "execution_count": null,
      "outputs": []
    },
    {
      "cell_type": "code",
      "metadata": {
        "id": "S6ixNwVtPxwY"
      },
      "source": [
        "rec_3.set_height(8.5)"
      ],
      "execution_count": null,
      "outputs": []
    },
    {
      "cell_type": "code",
      "metadata": {
        "colab": {
          "base_uri": "https://localhost:8080/",
          "height": 163
        },
        "id": "qhvDfwpDQgZb",
        "outputId": "6f0eee1a-8d58-4c82-fa9a-a8896e4d2f49"
      },
      "source": [
        "rec_3.__width"
      ],
      "execution_count": null,
      "outputs": [
        {
          "output_type": "error",
          "ename": "AttributeError",
          "evalue": "ignored",
          "traceback": [
            "\u001b[0;31m---------------------------------------------------------------------------\u001b[0m",
            "\u001b[0;31mAttributeError\u001b[0m                            Traceback (most recent call last)",
            "\u001b[0;32m<ipython-input-89-db526aab1a6f>\u001b[0m in \u001b[0;36m<module>\u001b[0;34m()\u001b[0m\n\u001b[0;32m----> 1\u001b[0;31m \u001b[0mrec_3\u001b[0m\u001b[0;34m.\u001b[0m\u001b[0m__width\u001b[0m\u001b[0;34m\u001b[0m\u001b[0;34m\u001b[0m\u001b[0m\n\u001b[0m",
            "\u001b[0;31mAttributeError\u001b[0m: 'Rectangle' object has no attribute '__width'"
          ]
        }
      ]
    },
    {
      "cell_type": "code",
      "metadata": {
        "colab": {
          "base_uri": "https://localhost:8080/",
          "height": 163
        },
        "id": "vHoSmyY5Qj5R",
        "outputId": "4134f37b-5f57-4ad7-8132-a7e1cc80cc1e"
      },
      "source": [
        "rec_3.__height"
      ],
      "execution_count": null,
      "outputs": [
        {
          "output_type": "error",
          "ename": "AttributeError",
          "evalue": "ignored",
          "traceback": [
            "\u001b[0;31m---------------------------------------------------------------------------\u001b[0m",
            "\u001b[0;31mAttributeError\u001b[0m                            Traceback (most recent call last)",
            "\u001b[0;32m<ipython-input-90-131db1eb0767>\u001b[0m in \u001b[0;36m<module>\u001b[0;34m()\u001b[0m\n\u001b[0;32m----> 1\u001b[0;31m \u001b[0mrec_3\u001b[0m\u001b[0;34m.\u001b[0m\u001b[0m__height\u001b[0m\u001b[0;34m\u001b[0m\u001b[0;34m\u001b[0m\u001b[0m\n\u001b[0m",
            "\u001b[0;31mAttributeError\u001b[0m: 'Rectangle' object has no attribute '__height'"
          ]
        }
      ]
    },
    {
      "cell_type": "code",
      "metadata": {
        "colab": {
          "base_uri": "https://localhost:8080/"
        },
        "id": "PW3d_M5qQtIF",
        "outputId": "3085c882-5766-40c9-dacc-2694eb494cc5"
      },
      "source": [
        "rec_3.get_height()"
      ],
      "execution_count": null,
      "outputs": [
        {
          "output_type": "stream",
          "text": [
            "The height is: 8.5\n"
          ],
          "name": "stdout"
        }
      ]
    },
    {
      "cell_type": "code",
      "metadata": {
        "colab": {
          "base_uri": "https://localhost:8080/"
        },
        "id": "n2FgrtVvQub4",
        "outputId": "8e645a18-7ebc-4494-bd38-2e3924aeacc3"
      },
      "source": [
        "rec_3.get_width()"
      ],
      "execution_count": null,
      "outputs": [
        {
          "output_type": "stream",
          "text": [
            "The width is: 5\n"
          ],
          "name": "stdout"
        }
      ]
    },
    {
      "cell_type": "code",
      "metadata": {
        "colab": {
          "base_uri": "https://localhost:8080/"
        },
        "id": "gtjWScOfP3KB",
        "outputId": "02ce71f1-31ad-415e-c308-ccb4489a89dc"
      },
      "source": [
        "rec_3.get_area()"
      ],
      "execution_count": null,
      "outputs": [
        {
          "output_type": "stream",
          "text": [
            "The area is: 42.5\n"
          ],
          "name": "stdout"
        }
      ]
    },
    {
      "cell_type": "code",
      "metadata": {
        "colab": {
          "base_uri": "https://localhost:8080/"
        },
        "id": "pO-61g6QQAUN",
        "outputId": "4bee03b6-64a2-41c5-b58f-f796d938f185"
      },
      "source": [
        "rec_3.get_perimeter()"
      ],
      "execution_count": null,
      "outputs": [
        {
          "output_type": "stream",
          "text": [
            "The perimeter is: 27.0\n"
          ],
          "name": "stdout"
        }
      ]
    },
    {
      "cell_type": "code",
      "metadata": {
        "id": "7pN1tSbMQ9o6"
      },
      "source": [
        "class Circle:\n",
        "    pi = 3.14\n",
        "    # Circle gets instantiated with a radius (default is 1)\n",
        "    def __init__(self, radius=1):\n",
        "        self__radius = radius        \n",
        "    # Setters\n",
        "    def set_radius(self, new_radius):\n",
        "        if (type(new_radius) == int)|(type(new_radius) == float):\n",
        "            self.__radius = new_radius\n",
        "        else:\n",
        "          print('Please enter an interger number or float number !')    \n",
        "    # Getters\n",
        "    def get_radius(self):\n",
        "        print(f'the radius is: {self.__radius}')       \n",
        "    def get_area(self):\n",
        "       print(f'The area is: {self.__radius * self.__radius * self.pi}') \n",
        "    def get_circumference(self):\n",
        "        print(f'The circumference is: {self.__radius * self.pi * 2}')"
      ],
      "execution_count": null,
      "outputs": []
    },
    {
      "cell_type": "code",
      "metadata": {
        "id": "sBWH_TJcDpgU"
      },
      "source": [
        "c_1 = Circle()"
      ],
      "execution_count": null,
      "outputs": []
    },
    {
      "cell_type": "code",
      "metadata": {
        "id": "_bojBdSOqmnI"
      },
      "source": [
        "c_1.set_radius(10)"
      ],
      "execution_count": null,
      "outputs": []
    },
    {
      "cell_type": "code",
      "metadata": {
        "colab": {
          "base_uri": "https://localhost:8080/"
        },
        "id": "iM9N3tSAqm74",
        "outputId": "8ab68eb8-1c9e-4909-b8e6-c7838c180d76"
      },
      "source": [
        "c_1.get_area()"
      ],
      "execution_count": null,
      "outputs": [
        {
          "output_type": "stream",
          "text": [
            "The area is: 314.0\n"
          ],
          "name": "stdout"
        }
      ]
    },
    {
      "cell_type": "code",
      "metadata": {
        "id": "lS-FrCNVryrh",
        "colab": {
          "base_uri": "https://localhost:8080/"
        },
        "outputId": "1908509b-a0cf-42d9-b766-b526cc57aff1"
      },
      "source": [
        "c_1.get_circumference()"
      ],
      "execution_count": null,
      "outputs": [
        {
          "output_type": "stream",
          "text": [
            "The circumference is: 62.800000000000004\n"
          ],
          "name": "stdout"
        }
      ]
    },
    {
      "cell_type": "markdown",
      "metadata": {
        "id": "lxaXEeVOSVT8"
      },
      "source": [
        "## **4.2 Inheritance**\n",
        "\n",
        "\n",
        "> The capability of a class to derive properties and characteristics from another class is called Inheritance. When we write a class, we inherit properties from other classes. So when we create a class, we do not need to write all the properties and functions again and again, as these can be inherited from another class that possesses it.\n",
        "\n",
        "> Types of inheritance :\n",
        "![InheritanceinObjectOrientedProgramming.png](data:image/png;base64,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)\n",
        "---\n",
        "\n"
      ]
    },
    {
      "cell_type": "markdown",
      "metadata": {
        "id": "rk2q9BMz6cfa"
      },
      "source": [
        "### Method Overriding"
      ]
    },
    {
      "cell_type": "code",
      "metadata": {
        "id": "byatMpHv5Rtw"
      },
      "source": [
        "class Animal:\n",
        "    \n",
        "    def __init__(self):\n",
        "        self.species = 'mammal'\n",
        "        print(\"Animal created\")\n",
        "\n",
        "    def whoAmI(self):\n",
        "        print(\"Animal\")\n",
        "\n",
        "    def eat(self):\n",
        "        print(\"Eating\")\n",
        "\n",
        "\n",
        "class Dog(Animal):\n",
        "    \n",
        "    def __init__(self):\n",
        "        self.sound = 'High'\n",
        "        self.love_bones = True\n",
        "        print(\"Dog created\")\n",
        "        \n",
        "    def bark(self):\n",
        "        print(f'Woof Woof with {self.sound} Sound')\n",
        "   \n"
      ],
      "execution_count": null,
      "outputs": []
    },
    {
      "cell_type": "code",
      "metadata": {
        "id": "fYxuDkne5Rtx",
        "outputId": "774938ba-885e-4b60-fa69-17ed8bf8d4b0"
      },
      "source": [
        "d = Dog()\n",
        "d.whoAMI()"
      ],
      "execution_count": null,
      "outputs": [
        {
          "name": "stdout",
          "output_type": "stream",
          "text": [
            "Dog created\n",
            "Dog\n"
          ]
        }
      ]
    },
    {
      "cell_type": "code",
      "metadata": {
        "id": "hPCuuz9Y5Rtx",
        "outputId": "d7428d28-e0c8-4db3-f7c1-558fee6a4b90"
      },
      "source": [
        "d.sound"
      ],
      "execution_count": null,
      "outputs": [
        {
          "data": {
            "text/plain": [
              "'High'"
            ]
          },
          "execution_count": 51,
          "metadata": {},
          "output_type": "execute_result"
        }
      ]
    },
    {
      "cell_type": "code",
      "metadata": {
        "id": "D37FnfwW5Rt1",
        "outputId": "21834efe-ef1c-4cff-fa5a-611d2ee0f7bf"
      },
      "source": [
        "d.love_bones"
      ],
      "execution_count": null,
      "outputs": [
        {
          "data": {
            "text/plain": [
              "True"
            ]
          },
          "execution_count": 52,
          "metadata": {},
          "output_type": "execute_result"
        }
      ]
    },
    {
      "cell_type": "code",
      "metadata": {
        "id": "eMoEOe8h5Rt2",
        "outputId": "fd21e1b1-4cdd-4c33-96ec-6b3dba660aa7"
      },
      "source": [
        "d.species"
      ],
      "execution_count": null,
      "outputs": [
        {
          "ename": "AttributeError",
          "evalue": "'Dog' object has no attribute 'species'",
          "output_type": "error",
          "traceback": [
            "\u001b[1;31m---------------------------------------------------------------------------\u001b[0m",
            "\u001b[1;31mAttributeError\u001b[0m                            Traceback (most recent call last)",
            "\u001b[1;32m<ipython-input-53-156a9342df17>\u001b[0m in \u001b[0;36m<module>\u001b[1;34m\u001b[0m\n\u001b[1;32m----> 1\u001b[1;33m \u001b[0md\u001b[0m\u001b[1;33m.\u001b[0m\u001b[0mspecies\u001b[0m\u001b[1;33m\u001b[0m\u001b[1;33m\u001b[0m\u001b[0m\n\u001b[0m",
            "\u001b[1;31mAttributeError\u001b[0m: 'Dog' object has no attribute 'species'"
          ]
        }
      ]
    },
    {
      "cell_type": "code",
      "metadata": {
        "id": "EnPJOZrh5Rt2",
        "outputId": "2e51b7a4-dc46-4e41-b440-2fb3f77ebeb9"
      },
      "source": [
        "d.whoAmI()"
      ],
      "execution_count": null,
      "outputs": [
        {
          "name": "stdout",
          "output_type": "stream",
          "text": [
            "Animal\n"
          ]
        }
      ]
    },
    {
      "cell_type": "code",
      "metadata": {
        "id": "nxsSl0u85Rt3",
        "outputId": "bf66c6ce-39c2-4756-8bb4-9c3f7a39c278"
      },
      "source": [
        "d.eat()"
      ],
      "execution_count": null,
      "outputs": [
        {
          "name": "stdout",
          "output_type": "stream",
          "text": [
            "Eating\n"
          ]
        }
      ]
    },
    {
      "cell_type": "code",
      "metadata": {
        "id": "jaUuCm1N5Rt7",
        "outputId": "e29414ea-4af5-4367-f79b-65b5e04d60d1"
      },
      "source": [
        "d.bark()"
      ],
      "execution_count": null,
      "outputs": [
        {
          "name": "stdout",
          "output_type": "stream",
          "text": [
            "Woof Woof with High Sound\n"
          ]
        }
      ]
    },
    {
      "cell_type": "code",
      "metadata": {
        "id": "r9dBSFQP5Rt8"
      },
      "source": [
        "class Animal:\n",
        "    def __init__(self):\n",
        "        self.species = 'mammal'\n",
        "        print(\"Animal created\")\n",
        "\n",
        "    def whoAmI(self):\n",
        "        print(\"Animal\")\n",
        "\n",
        "    def eat(self):\n",
        "        print(\"Eating\")\n",
        "\n",
        "\n",
        "class Dog(Animal):\n",
        "    \n",
        "    def __init__(self):\n",
        "        Animal.__init__(self)    # call parent __init__\n",
        "        self.sound = 'High'\n",
        "        self.love_bones = True\n",
        "        print(\"Dog created\")\n",
        "        \n",
        "        \n",
        "    def bark(self):\n",
        "        print(f'Woof Woof with {self.sound} Sound')\n",
        "        \n",
        "        \n",
        "    def eat(self):\n",
        "        if self.love_bones:\n",
        "            print('Love eating bones')\n",
        "        else:\n",
        "            print('Love meat')\n",
        "            \n",
        "    def whoAmI(self):\n",
        "        print(\"Iam a dog\")"
      ],
      "execution_count": null,
      "outputs": []
    },
    {
      "cell_type": "code",
      "metadata": {
        "id": "WcziyAuh5Rt8",
        "outputId": "376bbacc-8362-4ff0-c74d-f81dcaa113bd"
      },
      "source": [
        "a = Dog()"
      ],
      "execution_count": null,
      "outputs": [
        {
          "name": "stdout",
          "output_type": "stream",
          "text": [
            "Animal created\n",
            "Dog created\n"
          ]
        }
      ]
    },
    {
      "cell_type": "code",
      "metadata": {
        "id": "_Ntb0etU5Rt9",
        "outputId": "66cf0a56-01ee-4453-8f6d-9960f7905ef4"
      },
      "source": [
        "a.species"
      ],
      "execution_count": null,
      "outputs": [
        {
          "data": {
            "text/plain": [
              "'mammal'"
            ]
          },
          "execution_count": 80,
          "metadata": {},
          "output_type": "execute_result"
        }
      ]
    },
    {
      "cell_type": "code",
      "metadata": {
        "id": "pp8g6_S15Rt_",
        "outputId": "1ee36ec0-bdbd-41c3-a8aa-dbbee259d006"
      },
      "source": [
        "a.sound"
      ],
      "execution_count": null,
      "outputs": [
        {
          "data": {
            "text/plain": [
              "'High'"
            ]
          },
          "execution_count": 81,
          "metadata": {},
          "output_type": "execute_result"
        }
      ]
    },
    {
      "cell_type": "code",
      "metadata": {
        "id": "ucbMIxlU5RuA",
        "outputId": "f5e37e91-dd03-4ccf-cf5a-67e92ed022d1"
      },
      "source": [
        "a.love_bones"
      ],
      "execution_count": null,
      "outputs": [
        {
          "data": {
            "text/plain": [
              "True"
            ]
          },
          "execution_count": 82,
          "metadata": {},
          "output_type": "execute_result"
        }
      ]
    },
    {
      "cell_type": "code",
      "metadata": {
        "id": "TMWkg_Sh5RuB",
        "outputId": "374af7ec-3441-4b4f-9799-2440d5eab34f"
      },
      "source": [
        "a.eat()"
      ],
      "execution_count": null,
      "outputs": [
        {
          "name": "stdout",
          "output_type": "stream",
          "text": [
            "Love eating bones\n"
          ]
        }
      ]
    },
    {
      "cell_type": "code",
      "metadata": {
        "id": "GbOslJXu5RuB",
        "outputId": "0f43f802-a4c8-458c-a679-8bdb800fc084"
      },
      "source": [
        "a.whoAmI()"
      ],
      "execution_count": null,
      "outputs": [
        {
          "name": "stdout",
          "output_type": "stream",
          "text": [
            "Iam a dog\n"
          ]
        }
      ]
    },
    {
      "cell_type": "code",
      "metadata": {
        "id": "gUu5QraQ5RuH",
        "outputId": "2180f56b-139b-450b-8583-687078e43a9b"
      },
      "source": [
        "a.bark()"
      ],
      "execution_count": null,
      "outputs": [
        {
          "name": "stdout",
          "output_type": "stream",
          "text": [
            "Woof Woof with High Sound\n"
          ]
        }
      ]
    },
    {
      "cell_type": "code",
      "metadata": {
        "id": "ONE5cVVuSLRC"
      },
      "source": [
        "#Parent Class\n",
        "\n",
        "class human:  \n",
        "    def name (self,name):  \n",
        "       self.name = name\n",
        "       print('your name is :', self.name)\n",
        "    def age(self,age) :\n",
        "       self.age = age\n",
        "       print('your age is :',self.age)\n",
        "\n",
        "#Child Class\n",
        "\n",
        "class Male(human):  \n",
        "    def gender(self):  \n",
        "        print(\"Your Gender is Male\")  \n",
        "\n",
        "#Child Class     \n",
        "\n",
        "class Female(human):  \n",
        "    def gender(self):  \n",
        "        print(\"Your Gender is Female\")  \n"
      ],
      "execution_count": null,
      "outputs": []
    },
    {
      "cell_type": "code",
      "metadata": {
        "id": "XHNx2kWSV2vw"
      },
      "source": [
        "human_1 = human()"
      ],
      "execution_count": null,
      "outputs": []
    },
    {
      "cell_type": "code",
      "metadata": {
        "colab": {
          "base_uri": "https://localhost:8080/"
        },
        "id": "HEpD99p8bKpB",
        "outputId": "26d9d2ac-0f27-4028-954c-7c9cfec7ca55"
      },
      "source": [
        "human_1.name('aslm')"
      ],
      "execution_count": null,
      "outputs": [
        {
          "output_type": "stream",
          "text": [
            "your name is : aslm\n"
          ],
          "name": "stdout"
        }
      ]
    },
    {
      "cell_type": "code",
      "metadata": {
        "colab": {
          "base_uri": "https://localhost:8080/"
        },
        "id": "3MVGkW4EaPIS",
        "outputId": "a8712c23-44b0-4f54-a885-e97a52435889"
      },
      "source": [
        "human_1.age(20)"
      ],
      "execution_count": null,
      "outputs": [
        {
          "output_type": "stream",
          "text": [
            "your age is : 20\n"
          ],
          "name": "stdout"
        }
      ]
    },
    {
      "cell_type": "code",
      "metadata": {
        "id": "3_RQQPTCaVeH"
      },
      "source": [
        "male_1 = Male()"
      ],
      "execution_count": null,
      "outputs": []
    },
    {
      "cell_type": "code",
      "metadata": {
        "colab": {
          "base_uri": "https://localhost:8080/"
        },
        "id": "vSLmUqj1a3yz",
        "outputId": "eaa9a9a2-fb69-4f55-b22b-f7f81c2a0246"
      },
      "source": [
        "male_1.name('ahmed')"
      ],
      "execution_count": null,
      "outputs": [
        {
          "output_type": "stream",
          "text": [
            "your name is : ahmed\n"
          ],
          "name": "stdout"
        }
      ]
    },
    {
      "cell_type": "code",
      "metadata": {
        "colab": {
          "base_uri": "https://localhost:8080/"
        },
        "id": "0D2ogGLsbdhz",
        "outputId": "52818792-c8fe-447a-87dd-2c690951fe0f"
      },
      "source": [
        "male_1.age(19)"
      ],
      "execution_count": null,
      "outputs": [
        {
          "output_type": "stream",
          "text": [
            "your age is : 19\n"
          ],
          "name": "stdout"
        }
      ]
    },
    {
      "cell_type": "code",
      "metadata": {
        "colab": {
          "base_uri": "https://localhost:8080/"
        },
        "id": "fVTCqY1xbiyu",
        "outputId": "34da7c05-7b4f-4a26-ffa1-ccd3bc0493f0"
      },
      "source": [
        "male_1.gender()"
      ],
      "execution_count": null,
      "outputs": [
        {
          "output_type": "stream",
          "text": [
            "Your Gender is Male\n"
          ],
          "name": "stdout"
        }
      ]
    },
    {
      "cell_type": "code",
      "metadata": {
        "id": "YwH389V5blDG"
      },
      "source": [
        "female_1 = Female()"
      ],
      "execution_count": null,
      "outputs": []
    },
    {
      "cell_type": "code",
      "metadata": {
        "colab": {
          "base_uri": "https://localhost:8080/"
        },
        "id": "k5WGPgxqbpWn",
        "outputId": "379d35ee-f045-44b2-f912-ae4e58bad67e"
      },
      "source": [
        "female_1.name('ola')"
      ],
      "execution_count": null,
      "outputs": [
        {
          "output_type": "stream",
          "text": [
            "your name is : ola\n"
          ],
          "name": "stdout"
        }
      ]
    },
    {
      "cell_type": "code",
      "metadata": {
        "colab": {
          "base_uri": "https://localhost:8080/"
        },
        "id": "1axMZNqIbtA1",
        "outputId": "9b95069f-5be9-4546-c746-48d2e82f3d75"
      },
      "source": [
        "female_1.age(28)"
      ],
      "execution_count": null,
      "outputs": [
        {
          "output_type": "stream",
          "text": [
            "your age is : 28\n"
          ],
          "name": "stdout"
        }
      ]
    },
    {
      "cell_type": "code",
      "metadata": {
        "colab": {
          "base_uri": "https://localhost:8080/"
        },
        "id": "KfD6fnXEbwK5",
        "outputId": "f9a4397f-7a80-40eb-ebe4-e8a92c8d44b3"
      },
      "source": [
        "female_1.gender()"
      ],
      "execution_count": null,
      "outputs": [
        {
          "output_type": "stream",
          "text": [
            "Your Gender is Female\n"
          ],
          "name": "stdout"
        }
      ]
    },
    {
      "cell_type": "markdown",
      "metadata": {
        "id": "5KPAF6wjcT6j"
      },
      "source": [
        " **Note :** The pervious inheritance example is heirarichical  inheritance"
      ]
    },
    {
      "cell_type": "code",
      "metadata": {
        "id": "6Qx8tiqFb1Tf"
      },
      "source": [
        "#Parent Class\n",
        "\n",
        "class sum :  \n",
        "    def Summation(self,a,b):  \n",
        "        return a+b;  \n",
        "\n",
        "#Parent Class\n",
        "\n",
        "class muliply :  \n",
        "    def Multiplication(self,a,b):  \n",
        "        return a*b;  \n",
        "\n",
        "#Parent Class\n",
        "\n",
        "class subtraction :  \n",
        "    def Subtraction(self,a,b):  \n",
        "        return a-b;  \n",
        "\n",
        "#Parent Class\n",
        "\n",
        "class Divide :  \n",
        "    def Divison(self,a,b):  \n",
        "        return a/b;          \n",
        "\n",
        "#Child Class\n",
        "\n",
        "class caluclator (Divide,subtraction,muliply,sum):  \n",
        "    pass\n"
      ],
      "execution_count": null,
      "outputs": []
    },
    {
      "cell_type": "code",
      "metadata": {
        "id": "HYfkbabueMkE"
      },
      "source": [
        "caluclator_1=caluclator()"
      ],
      "execution_count": null,
      "outputs": []
    },
    {
      "cell_type": "code",
      "metadata": {
        "colab": {
          "base_uri": "https://localhost:8080/"
        },
        "id": "Pwzc7111eQeQ",
        "outputId": "94c4c4d3-7695-4a56-8c0b-e1933d933582"
      },
      "source": [
        "caluclator_1.Divison(12,3)"
      ],
      "execution_count": null,
      "outputs": [
        {
          "output_type": "execute_result",
          "data": {
            "text/plain": [
              "4.0"
            ]
          },
          "metadata": {
            "tags": []
          },
          "execution_count": 145
        }
      ]
    },
    {
      "cell_type": "code",
      "metadata": {
        "colab": {
          "base_uri": "https://localhost:8080/"
        },
        "id": "Kz-__JaPeUt2",
        "outputId": "c13ec86d-fc9b-4999-82dc-830b40cea293"
      },
      "source": [
        "caluclator_1.Multiplication(12,3)"
      ],
      "execution_count": null,
      "outputs": [
        {
          "output_type": "execute_result",
          "data": {
            "text/plain": [
              "36"
            ]
          },
          "metadata": {
            "tags": []
          },
          "execution_count": 147
        }
      ]
    },
    {
      "cell_type": "code",
      "metadata": {
        "id": "KaP75D_yeYrd"
      },
      "source": [
        "caluclator_1.Summation(12,3)"
      ],
      "execution_count": null,
      "outputs": []
    },
    {
      "cell_type": "code",
      "metadata": {
        "colab": {
          "base_uri": "https://localhost:8080/"
        },
        "id": "o2Z8XWCmehdI",
        "outputId": "94e46df6-fd52-4736-d305-386a87945036"
      },
      "source": [
        "caluclator_1.Subtraction(12,3)"
      ],
      "execution_count": null,
      "outputs": [
        {
          "output_type": "execute_result",
          "data": {
            "text/plain": [
              "9"
            ]
          },
          "metadata": {
            "tags": []
          },
          "execution_count": 149
        }
      ]
    },
    {
      "cell_type": "markdown",
      "metadata": {
        "id": "cwlcDfr9fab7"
      },
      "source": [
        "**Note :** The pervious inheritance example is Multiple inheritance"
      ]
    },
    {
      "cell_type": "code",
      "metadata": {
        "id": "3Ue5Ia8zesTy"
      },
      "source": [
        "#Multi Inheritance \n",
        "class class1:  \n",
        "   pass  \n",
        "class class2(class1):  \n",
        "   pass\n",
        "class class3(class2):  \n",
        "   pass \n",
        "  "
      ],
      "execution_count": null,
      "outputs": []
    },
    {
      "cell_type": "markdown",
      "metadata": {
        "id": "a4Q6MCf-kDlL"
      },
      "source": [
        "## **4.3 Polymorphism**\n",
        "\n",
        "\n",
        "> The word polymorphism means having many forms. In simple words, we can define polymorphism as the ability of a message to be displayed in more than one form.\n",
        "\n",
        ">There is Function Overloading and Operant Overloading in Polymorphism.\n"
      ]
    },
    {
      "cell_type": "markdown",
      "metadata": {
        "id": "0EDVx010ostm"
      },
      "source": [
        "### Function Overloading"
      ]
    },
    {
      "cell_type": "code",
      "metadata": {
        "id": "13eGeWcpjjTU"
      },
      "source": [
        "#Function Overloading\n",
        "class Dog:\n",
        "    def __init__(self, name):\n",
        "        self.name = name\n",
        "\n",
        "    def speak(self):\n",
        "        return self.name+' says Woof!'\n",
        "   \n",
        "class Cat:\n",
        "    def __init__(self, name):\n",
        "        self.name = name\n",
        "\n",
        "    def speak(self):\n",
        "        return self.name+' says Meow!' \n",
        "    \n",
        "class Duck:\n",
        "    def __init__(self, name):\n",
        "        self.name = name\n",
        "\n",
        "    def speak(self):\n",
        "        return self.name+' says Wuck wuck!' \n",
        "    \n"
      ],
      "execution_count": null,
      "outputs": []
    },
    {
      "cell_type": "code",
      "metadata": {
        "id": "pm8DHOVXliog"
      },
      "source": [
        "jack = Dog('Jack')\n",
        "meshmesh = Cat('Meshmesh')\n",
        "batota = Duck('batota')"
      ],
      "execution_count": null,
      "outputs": []
    },
    {
      "cell_type": "code",
      "metadata": {
        "colab": {
          "base_uri": "https://localhost:8080/"
        },
        "id": "j4e_Z_eulkY0",
        "outputId": "83014427-fc6d-4444-9a29-22930e5182f8"
      },
      "source": [
        "print(jack.speak())\n",
        "print(meshmesh.speak())\n",
        "print(batota.speak())"
      ],
      "execution_count": null,
      "outputs": [
        {
          "output_type": "stream",
          "text": [
            "Jack says Woof!\n",
            "Meshmesh says Meow!\n",
            "batota says Wuck wuck!\n"
          ],
          "name": "stdout"
        }
      ]
    },
    {
      "cell_type": "markdown",
      "metadata": {
        "id": "cOZXatvuo4ku"
      },
      "source": [
        "### Example of Built-in Operant Overloading\n"
      ]
    },
    {
      "cell_type": "code",
      "metadata": {
        "colab": {
          "base_uri": "https://localhost:8080/"
        },
        "id": "HZXgiKyillzD",
        "outputId": "274cd16c-85e1-43b5-f48f-1ea25ada5ba6"
      },
      "source": [
        "#Built-in Operant Overloading\n",
        "print(1+2)"
      ],
      "execution_count": null,
      "outputs": [
        {
          "output_type": "stream",
          "text": [
            "3\n"
          ],
          "name": "stdout"
        }
      ]
    },
    {
      "cell_type": "code",
      "metadata": {
        "colab": {
          "base_uri": "https://localhost:8080/"
        },
        "id": "tHW6ewMqn6SN",
        "outputId": "563c21cb-d3c7-4c26-dacf-82a5e7ba8431"
      },
      "source": [
        "print(\"1\"+\"2\")"
      ],
      "execution_count": null,
      "outputs": [
        {
          "output_type": "stream",
          "text": [
            "12\n"
          ],
          "name": "stdout"
        }
      ]
    },
    {
      "cell_type": "code",
      "metadata": {
        "colab": {
          "base_uri": "https://localhost:8080/"
        },
        "id": "auZV04aCoDLC",
        "outputId": "45ba9184-7758-4194-bc22-6399b6e4bffc"
      },
      "source": [
        "[1,2]+[3,4]"
      ],
      "execution_count": null,
      "outputs": [
        {
          "output_type": "execute_result",
          "data": {
            "text/plain": [
              "[1, 2, 3, 4]"
            ]
          },
          "metadata": {
            "tags": []
          },
          "execution_count": 168
        }
      ]
    },
    {
      "cell_type": "markdown",
      "metadata": {
        "id": "d6yq2ghvpDyy"
      },
      "source": [
        "### Example of Custom Operant Overloading\n",
        "https://www.tutorialspoint.com/How-to-implement-Python-lt-gt-custom-overloaded-operators\n",
        "\n",
        "https://www.programiz.com/python-programming/operator-overloading#:~:text=Overloading%20the%20%2B%20Operator%20%20%20%20Operator,%20p1.__pow__%20%28p2%29%20%209%20more%20rows%20\n"
      ]
    },
    {
      "cell_type": "code",
      "metadata": {
        "id": "mEW0QVtRoJQS"
      },
      "source": [
        "class Point:\n",
        "    def __init__(self, x=0, y=0):\n",
        "        self.x = x\n",
        "        self.y = y"
      ],
      "execution_count": null,
      "outputs": []
    },
    {
      "cell_type": "code",
      "metadata": {
        "id": "FfzKD0fDoSQr"
      },
      "source": [
        "p_1 = Point(12,21)\n",
        "p_2 = Point(13,31)"
      ],
      "execution_count": null,
      "outputs": []
    },
    {
      "cell_type": "code",
      "metadata": {
        "colab": {
          "base_uri": "https://localhost:8080/",
          "height": 163
        },
        "id": "AVQDcTxZoW7i",
        "outputId": "e26c74d5-f17b-4056-96f4-88ffe1929434"
      },
      "source": [
        "p_1 + p_2"
      ],
      "execution_count": null,
      "outputs": [
        {
          "output_type": "error",
          "ename": "TypeError",
          "evalue": "ignored",
          "traceback": [
            "\u001b[0;31m---------------------------------------------------------------------------\u001b[0m",
            "\u001b[0;31mTypeError\u001b[0m                                 Traceback (most recent call last)",
            "\u001b[0;32m<ipython-input-173-4a30378ebfab>\u001b[0m in \u001b[0;36m<module>\u001b[0;34m()\u001b[0m\n\u001b[0;32m----> 1\u001b[0;31m \u001b[0mp_1\u001b[0m \u001b[0;34m+\u001b[0m \u001b[0mp_2\u001b[0m\u001b[0;34m\u001b[0m\u001b[0;34m\u001b[0m\u001b[0m\n\u001b[0m",
            "\u001b[0;31mTypeError\u001b[0m: unsupported operand type(s) for +: 'Point' and 'Point'"
          ]
        }
      ]
    },
    {
      "cell_type": "code",
      "metadata": {
        "colab": {
          "base_uri": "https://localhost:8080/",
          "height": 163
        },
        "id": "QIYRxMlLpRPI",
        "outputId": "e0da269b-ef7d-41b0-b512-ddceba51e06b"
      },
      "source": [
        "p_1 - p_2"
      ],
      "execution_count": null,
      "outputs": [
        {
          "output_type": "error",
          "ename": "TypeError",
          "evalue": "ignored",
          "traceback": [
            "\u001b[0;31m---------------------------------------------------------------------------\u001b[0m",
            "\u001b[0;31mTypeError\u001b[0m                                 Traceback (most recent call last)",
            "\u001b[0;32m<ipython-input-174-e580894b4938>\u001b[0m in \u001b[0;36m<module>\u001b[0;34m()\u001b[0m\n\u001b[0;32m----> 1\u001b[0;31m \u001b[0mp_1\u001b[0m\u001b[0;34m-\u001b[0m\u001b[0mp_2\u001b[0m\u001b[0;34m\u001b[0m\u001b[0;34m\u001b[0m\u001b[0m\n\u001b[0m",
            "\u001b[0;31mTypeError\u001b[0m: unsupported operand type(s) for -: 'Point' and 'Point'"
          ]
        }
      ]
    },
    {
      "cell_type": "code",
      "metadata": {
        "colab": {
          "base_uri": "https://localhost:8080/"
        },
        "id": "iLXpWuETqdM3",
        "outputId": "b50be7ea-50f5-461e-e357-eefadb7de522"
      },
      "source": [
        "print(p_1)"
      ],
      "execution_count": null,
      "outputs": [
        {
          "output_type": "stream",
          "text": [
            "<__main__.Point object at 0x7f76b2dd8c90>\n"
          ],
          "name": "stdout"
        }
      ]
    },
    {
      "cell_type": "code",
      "metadata": {
        "id": "48YvhYEgpVTy"
      },
      "source": [
        "class Point:\n",
        "    \n",
        "    def __init__(self, x=0, y=0):\n",
        "        self.x = x\n",
        "        self.y = y\n",
        "    #To be Printable \n",
        "    def __str__(self):\n",
        "        return f'x is: {self.x} and y is: {self.y}'\n",
        "    #To be able to add two objects   \n",
        "    def __add__(self, other):\n",
        "        x = self.x + other.x\n",
        "        y = self.y + other.y\n",
        "        return ((x,y))\n",
        "    #To be subtract to add two objects   \n",
        "    def __sub__ (self,other): \n",
        "        x = self.x - other.x\n",
        "        y = self.y - other.y\n",
        "        return ((x,y))\n",
        "    #To be multipliy to add two objects   \n",
        "    def __mul__ (self,other): \n",
        "        x = self.x * other.x\n",
        "        y = self.y * other.y\n",
        "        return ((x,y))              \n",
        "    #to use p_1 < p_2 \n",
        "    def __lt__(self,other):\n",
        "        return (self.x < other.x) and (self.y < other.y)\n",
        "    #to use p_1 <= p_2 \n",
        "    def __le__(self,other):\n",
        "        return self.x <= other.x and self.y <= other.y\n",
        "    #to use p_1 >= p_2        \n",
        "    def __ge__(self,other):\n",
        "        return (self.x >= other.x) and (self.y >= other.y)\n",
        "    #to use p_1 > p_2        \n",
        "    def __gt_(self,other):\n",
        "        return (self.x > other.x) and (self.y > other.y)  \n",
        "   #to use p_1 == p_2\n",
        "    def __eq__(self, other):\n",
        "        return (self.x == other.x) and (self.y == other.y)     "
      ],
      "execution_count": null,
      "outputs": []
    },
    {
      "cell_type": "code",
      "metadata": {
        "id": "wA9bMDiOkzmA"
      },
      "source": [
        "p_1 = Point(12, 21)\n",
        "p_2 = Point(13, 31)"
      ],
      "execution_count": null,
      "outputs": []
    },
    {
      "cell_type": "code",
      "metadata": {
        "colab": {
          "base_uri": "https://localhost:8080/"
        },
        "id": "2E4mudeelwgZ",
        "outputId": "ceccb069-1dfb-4806-fec0-537d381500bb"
      },
      "source": [
        "print(p_1)"
      ],
      "execution_count": null,
      "outputs": [
        {
          "output_type": "stream",
          "text": [
            "x is: 12 and y is: 21\n"
          ],
          "name": "stdout"
        }
      ]
    },
    {
      "cell_type": "code",
      "metadata": {
        "colab": {
          "base_uri": "https://localhost:8080/"
        },
        "id": "hdeiHTCGlEaN",
        "outputId": "d0b96af8-beb5-4e74-9c89-c6c545af94a6"
      },
      "source": [
        "p_1 + p_2"
      ],
      "execution_count": null,
      "outputs": [
        {
          "output_type": "execute_result",
          "data": {
            "text/plain": [
              "(25, 52)"
            ]
          },
          "metadata": {
            "tags": []
          },
          "execution_count": 49
        }
      ]
    },
    {
      "cell_type": "code",
      "metadata": {
        "colab": {
          "base_uri": "https://localhost:8080/"
        },
        "id": "WsGzGOt-ll5R",
        "outputId": "30993bbf-b59a-4db7-f1cb-386f471b5035"
      },
      "source": [
        "p_1 - p_2"
      ],
      "execution_count": null,
      "outputs": [
        {
          "output_type": "execute_result",
          "data": {
            "text/plain": [
              "(-1, -10)"
            ]
          },
          "metadata": {
            "tags": []
          },
          "execution_count": 50
        }
      ]
    },
    {
      "cell_type": "code",
      "metadata": {
        "colab": {
          "base_uri": "https://localhost:8080/"
        },
        "id": "w8Ivvv3ZnTBR",
        "outputId": "8cfca3ea-8a58-457c-8033-3b5fbc124e68"
      },
      "source": [
        "p_1 * p_2"
      ],
      "execution_count": null,
      "outputs": [
        {
          "output_type": "execute_result",
          "data": {
            "text/plain": [
              "(156, 651)"
            ]
          },
          "metadata": {
            "tags": []
          },
          "execution_count": 51
        }
      ]
    },
    {
      "cell_type": "code",
      "metadata": {
        "colab": {
          "base_uri": "https://localhost:8080/"
        },
        "id": "erryDpn0liur",
        "outputId": "0d616bee-0f7a-49f8-c1c3-19496cfa4c11"
      },
      "source": [
        "p_1 == p_2"
      ],
      "execution_count": null,
      "outputs": [
        {
          "output_type": "execute_result",
          "data": {
            "text/plain": [
              "False"
            ]
          },
          "metadata": {
            "tags": []
          },
          "execution_count": 52
        }
      ]
    },
    {
      "cell_type": "code",
      "metadata": {
        "colab": {
          "base_uri": "https://localhost:8080/"
        },
        "id": "QDRQ7ebulH_v",
        "outputId": "af1946f5-9aae-45c7-a584-eb70de52cd00"
      },
      "source": [
        "p_1 < p_2"
      ],
      "execution_count": null,
      "outputs": [
        {
          "output_type": "execute_result",
          "data": {
            "text/plain": [
              "True"
            ]
          },
          "metadata": {
            "tags": []
          },
          "execution_count": 53
        }
      ]
    },
    {
      "cell_type": "code",
      "metadata": {
        "colab": {
          "base_uri": "https://localhost:8080/"
        },
        "id": "MJARNu-rlQSJ",
        "outputId": "6d6452c9-22c7-429a-b768-27177a9760da"
      },
      "source": [
        "p_1 <= p_2"
      ],
      "execution_count": null,
      "outputs": [
        {
          "output_type": "execute_result",
          "data": {
            "text/plain": [
              "True"
            ]
          },
          "metadata": {
            "tags": []
          },
          "execution_count": 54
        }
      ]
    },
    {
      "cell_type": "code",
      "metadata": {
        "colab": {
          "base_uri": "https://localhost:8080/"
        },
        "id": "ukmgJbXwlTT9",
        "outputId": "1a8f95a2-ccee-49e0-9c39-78918142dce9"
      },
      "source": [
        "p_1 > p_2"
      ],
      "execution_count": null,
      "outputs": [
        {
          "output_type": "execute_result",
          "data": {
            "text/plain": [
              "False"
            ]
          },
          "metadata": {
            "tags": []
          },
          "execution_count": 55
        }
      ]
    },
    {
      "cell_type": "code",
      "metadata": {
        "colab": {
          "base_uri": "https://localhost:8080/"
        },
        "id": "hv2kFB_FldXF",
        "outputId": "c1e6988a-8c25-4755-8913-85f3afd22991"
      },
      "source": [
        "p_1 >= p_2"
      ],
      "execution_count": null,
      "outputs": [
        {
          "output_type": "execute_result",
          "data": {
            "text/plain": [
              "False"
            ]
          },
          "metadata": {
            "tags": []
          },
          "execution_count": 56
        }
      ]
    },
    {
      "cell_type": "markdown",
      "metadata": {
        "id": "j27XpozHoJeN"
      },
      "source": [
        "## **4.4 Abstraction**\n",
        "\n",
        "\n",
        "\n",
        "\n",
        "> Abstraction is used to hide the internal functionality of the function from the users. The users only interact with the basic implementation of the function, but inner working is hidden. User is familiar with that \"what function does\" but they don't know \"how it does.\n",
        "\n",
        "\n",
        "\n",
        "\n",
        "\n"
      ]
    },
    {
      "cell_type": "code",
      "metadata": {
        "id": "spiIQtWklgr7"
      },
      "source": [
        "from abc import ABC  \n",
        "  \n",
        "class Polygon(ABC):   \n",
        "  \n",
        "   # abstract method   \n",
        "   def sides(self):   \n",
        "      pass  \n",
        "  \n",
        "class Triangle(Polygon):     \n",
        "     \n",
        "   def sides(self):   \n",
        "      print(\"Triangle has 3 sides\")   \n",
        "  \n",
        "class Pentagon(Polygon):   \n",
        "\n",
        "    def sides(self):   \n",
        "      print(\"Pentagon has 5 sides\")   \n",
        "  \n",
        "class Hexagon(Polygon):   \n",
        "  \n",
        "   def sides(self):   \n",
        "      print(\"Hexagon has 6 sides\")   \n",
        "  \n",
        "class square(Polygon):   \n",
        "  \n",
        "   def sides(self):   \n",
        "      print(\"Square have 4 sides\")   \n",
        "     "
      ],
      "execution_count": null,
      "outputs": []
    },
    {
      "cell_type": "code",
      "metadata": {
        "id": "GtIHgefIsJuT"
      },
      "source": [
        "t = Triangle() \n",
        "h = Hexagon()   \n",
        "s = square()   \n",
        "p = Pentagon()   "
      ],
      "execution_count": null,
      "outputs": []
    },
    {
      "cell_type": "code",
      "metadata": {
        "colab": {
          "base_uri": "https://localhost:8080/"
        },
        "id": "zi7WCWShsfSv",
        "outputId": "850897f7-3b97-4b9c-9b11-233f92e91e16"
      },
      "source": [
        "h.sides()\n",
        "t.sides()\n",
        "s.sides()\n",
        "p.sides()     "
      ],
      "execution_count": null,
      "outputs": [
        {
          "output_type": "stream",
          "text": [
            "Hexagon has 6 sides\n",
            "Triangle has 3 sides\n",
            "Square have 4 sides\n",
            "Pentagon has 5 sides\n"
          ],
          "name": "stdout"
        }
      ]
    },
    {
      "cell_type": "code",
      "metadata": {
        "id": "UAd2UbVpuBaC"
      },
      "source": [
        "from abc import ABC, abstractmethod   \n",
        "class Car(ABC):   \n",
        "    def mileage(self):   \n",
        "        pass  \n",
        "  \n",
        "class Tesla(Car):   \n",
        "    def mileage(self):   \n",
        "        print(\"The mileage is 30kmph\")   \n",
        "class Suzuki(Car):   \n",
        "    def mileage(self):   \n",
        "        print(\"The mileage is 25kmph \")   \n",
        "class Duster(Car):   \n",
        "     def mileage(self):   \n",
        "          print(\"The mileage is 24kmph \")   \n",
        "  \n",
        "class Renault(Car):   \n",
        "    def mileage(self):   \n",
        "            print(\"The mileage is 27kmph \")         \n",
        "\n",
        "\n"
      ],
      "execution_count": null,
      "outputs": []
    },
    {
      "cell_type": "code",
      "metadata": {
        "id": "-7_tAeWWuQAj"
      },
      "source": [
        "t= Tesla () \n",
        "r = Renault()   \n",
        "s = Suzuki()   \n",
        "d = Duster()   "
      ],
      "execution_count": null,
      "outputs": []
    },
    {
      "cell_type": "code",
      "metadata": {
        "colab": {
          "base_uri": "https://localhost:8080/"
        },
        "id": "wroiA9UOufG1",
        "outputId": "dde309a0-60b1-43b1-afd4-61827da9f2e7"
      },
      "source": [
        "t.mileage()\n",
        "r.mileage()  \n",
        "s.mileage()   \n",
        "d.mileage()"
      ],
      "execution_count": null,
      "outputs": [
        {
          "output_type": "stream",
          "text": [
            "The mileage is 30kmph\n",
            "The mileage is 27kmph \n",
            "The mileage is 25kmph \n",
            "The mileage is 24kmph \n"
          ],
          "name": "stdout"
        }
      ]
    },
    {
      "cell_type": "markdown",
      "metadata": {
        "id": "DT8GxXiotRj_"
      },
      "source": [
        "# **5. Static Attributes,Static Methods and Class Methods :-**\n",
        "\n",
        "\n"
      ]
    },
    {
      "cell_type": "markdown",
      "metadata": {
        "id": "UlBn55j3urOY"
      },
      "source": [
        "## 5.1 Static Attributes"
      ]
    },
    {
      "cell_type": "code",
      "metadata": {
        "id": "of1WDA7BslZT"
      },
      "source": [
        "class Circle:\n",
        "    #Static Attribute \n",
        "    pi = 3.14\n",
        "\n",
        "    def __init__(self, radius=1):\n",
        "        self.radius = radius\n",
        "\n",
        "    def getArea(self):\n",
        "        return (self.radius ** 2) * self.pi\n",
        "\n",
        "    def getCircumference(self):\n",
        "        return self.radius * self.pi * 2\n"
      ],
      "execution_count": null,
      "outputs": []
    },
    {
      "cell_type": "code",
      "metadata": {
        "id": "7zZsgT9ax6KW"
      },
      "source": [
        "c_1 = Circle(12)"
      ],
      "execution_count": null,
      "outputs": []
    },
    {
      "cell_type": "code",
      "metadata": {
        "colab": {
          "base_uri": "https://localhost:8080/"
        },
        "id": "k2YusbC2yD8H",
        "outputId": "ecd0983c-af04-4233-af41-59e683736ed6"
      },
      "source": [
        "c_1.getArea()"
      ],
      "execution_count": null,
      "outputs": [
        {
          "output_type": "execute_result",
          "data": {
            "text/plain": [
              "452.16"
            ]
          },
          "metadata": {
            "tags": []
          },
          "execution_count": 70
        }
      ]
    },
    {
      "cell_type": "code",
      "metadata": {
        "colab": {
          "base_uri": "https://localhost:8080/"
        },
        "id": "aa9kyX8QyG2H",
        "outputId": "a5cd578d-51be-44ac-903a-5d8e4d15e919"
      },
      "source": [
        "c_1.getCircumference()\n"
      ],
      "execution_count": null,
      "outputs": [
        {
          "output_type": "execute_result",
          "data": {
            "text/plain": [
              "75.36"
            ]
          },
          "metadata": {
            "tags": []
          },
          "execution_count": 72
        }
      ]
    },
    {
      "cell_type": "code",
      "metadata": {
        "colab": {
          "base_uri": "https://localhost:8080/"
        },
        "id": "L7EZAP-fyPaE",
        "outputId": "3b16bbbd-219b-4808-ea0e-58879a2f9706"
      },
      "source": [
        "c_1.radius\n"
      ],
      "execution_count": null,
      "outputs": [
        {
          "output_type": "execute_result",
          "data": {
            "text/plain": [
              "12"
            ]
          },
          "metadata": {
            "tags": []
          },
          "execution_count": 75
        }
      ]
    },
    {
      "cell_type": "code",
      "metadata": {
        "colab": {
          "base_uri": "https://localhost:8080/"
        },
        "id": "HE9Jy7DAybUV",
        "outputId": "3241f1cf-6867-4849-b6cc-3f35577aeb10"
      },
      "source": [
        "c_1.pi"
      ],
      "execution_count": null,
      "outputs": [
        {
          "output_type": "execute_result",
          "data": {
            "text/plain": [
              "3.14"
            ]
          },
          "metadata": {
            "tags": []
          },
          "execution_count": 76
        }
      ]
    },
    {
      "cell_type": "code",
      "metadata": {
        "colab": {
          "base_uri": "https://localhost:8080/"
        },
        "id": "rnR5SGSryd42",
        "outputId": "1e06514a-e57d-4acf-a2ab-7b794ebfb0b1"
      },
      "source": [
        "#you can call the static variable directly from the Class because it's not related to any object\n",
        "Circle.pi"
      ],
      "execution_count": null,
      "outputs": [
        {
          "output_type": "execute_result",
          "data": {
            "text/plain": [
              "3.14"
            ]
          },
          "metadata": {
            "tags": []
          },
          "execution_count": 77
        }
      ]
    },
    {
      "cell_type": "markdown",
      "metadata": {
        "id": "wPoPZ5_dy04p"
      },
      "source": [
        "## 5.2 Static Methods"
      ]
    },
    {
      "cell_type": "code",
      "metadata": {
        "id": "Wy296KhNyvnY"
      },
      "source": [
        "# method to classify a person's age\n",
        "class Classifier:\n",
        "  #To assign Static method\n",
        "  @staticmethod\n",
        "  def ageClassfier(age):\n",
        "     if  age > 0 and age <= 12 :\n",
        "         return \"Child\"\n",
        "     elif age > 12 and age <= 18 :\n",
        "         return 'Adolescence'\n",
        "     elif age > 18 and age <=59 :\n",
        "         return 'Adult'\n",
        "     else :\n",
        "         return \"Senior adult\"\n",
        "    # method to check voting eligibility\n",
        "  @staticmethod\n",
        "  def eligibility(age):\n",
        "    if age > 18 :\n",
        "       return \"Eligible to vote\"\n",
        "    else :\n",
        "       return \"Not eligible to vote\"\n"
      ],
      "execution_count": null,
      "outputs": []
    },
    {
      "cell_type": "code",
      "metadata": {
        "colab": {
          "base_uri": "https://localhost:8080/",
          "height": 35
        },
        "id": "X9hujRf51Csr",
        "outputId": "c51d15b7-f9e2-49da-eff6-fff204683bd4"
      },
      "source": [
        "#you can call the static methods directly from the Class because it's not related to any object\n",
        "Classifier.ageClassfier(12)"
      ],
      "execution_count": null,
      "outputs": [
        {
          "output_type": "execute_result",
          "data": {
            "application/vnd.google.colaboratory.intrinsic+json": {
              "type": "string"
            },
            "text/plain": [
              "'Child'"
            ]
          },
          "metadata": {
            "tags": []
          },
          "execution_count": 79
        }
      ]
    },
    {
      "cell_type": "code",
      "metadata": {
        "colab": {
          "base_uri": "https://localhost:8080/",
          "height": 35
        },
        "id": "AQ1fZNfn1HxE",
        "outputId": "3abaf331-27ce-4b21-e5a5-89398c01fce1"
      },
      "source": [
        "Classifier.eligibility(12)"
      ],
      "execution_count": null,
      "outputs": [
        {
          "output_type": "execute_result",
          "data": {
            "application/vnd.google.colaboratory.intrinsic+json": {
              "type": "string"
            },
            "text/plain": [
              "'Not eligible to vote'"
            ]
          },
          "metadata": {
            "tags": []
          },
          "execution_count": 80
        }
      ]
    },
    {
      "cell_type": "markdown",
      "metadata": {
        "id": "uzrYzyCZ2Db5"
      },
      "source": [
        "## 5.3 Class Method"
      ]
    },
    {
      "cell_type": "code",
      "metadata": {
        "id": "J04KCeR72Kba"
      },
      "source": [
        "class Apple:\n",
        "\n",
        "    _counter = 0\n",
        "\n",
        "    @staticmethod\n",
        "    def about_apple():\n",
        "        print('Apple is good for you.')\n",
        "      \n",
        "    #Private Method\n",
        "    @classmethod\n",
        "    def _juice_this(cls, apple):\n",
        "        print(f'Juicing {apple}...')\n",
        "        cls._counter += 1\n",
        "    \n",
        "    \n",
        "    @classmethod\n",
        "    def make_apple_juice(cls, number_of_apples):\n",
        "        print('Make juice:')\n",
        "        for i in range(number_of_apples):\n",
        "            cls._juice_this(i)\n"
      ],
      "execution_count": null,
      "outputs": []
    },
    {
      "cell_type": "code",
      "metadata": {
        "colab": {
          "base_uri": "https://localhost:8080/"
        },
        "id": "8UdG2cfK1Mg6",
        "outputId": "4059df91-c8ee-44de-b062-e0d51e2e3475"
      },
      "source": [
        "Apple.about_apple()"
      ],
      "execution_count": null,
      "outputs": [
        {
          "output_type": "stream",
          "text": [
            "Apple is good for you.\n"
          ],
          "name": "stdout"
        }
      ]
    },
    {
      "cell_type": "code",
      "metadata": {
        "colab": {
          "base_uri": "https://localhost:8080/"
        },
        "id": "a6jvqnep57M8",
        "outputId": "86329f02-d09d-40d0-8464-86c739539392"
      },
      "source": [
        "Apple.make_apple_juice(12)"
      ],
      "execution_count": null,
      "outputs": [
        {
          "output_type": "stream",
          "text": [
            "Make juice:\n",
            "Juicing 0...\n",
            "Juicing 1...\n",
            "Juicing 2...\n",
            "Juicing 3...\n",
            "Juicing 4...\n",
            "Juicing 5...\n",
            "Juicing 6...\n",
            "Juicing 7...\n",
            "Juicing 8...\n",
            "Juicing 9...\n",
            "Juicing 10...\n",
            "Juicing 11...\n"
          ],
          "name": "stdout"
        }
      ]
    },
    {
      "cell_type": "code",
      "metadata": {
        "colab": {
          "base_uri": "https://localhost:8080/",
          "height": 180
        },
        "id": "jfKVcE956Jwj",
        "outputId": "8ec3816a-1bc8-4ede-f826-8236430ea73f"
      },
      "source": [
        "#We can't acess the following method as it's private \n",
        "Apple._juice_this()"
      ],
      "execution_count": null,
      "outputs": [
        {
          "output_type": "error",
          "ename": "TypeError",
          "evalue": "ignored",
          "traceback": [
            "\u001b[0;31m---------------------------------------------------------------------------\u001b[0m",
            "\u001b[0;31mTypeError\u001b[0m                                 Traceback (most recent call last)",
            "\u001b[0;32m<ipython-input-89-74f4c7399631>\u001b[0m in \u001b[0;36m<module>\u001b[0;34m()\u001b[0m\n\u001b[1;32m      1\u001b[0m \u001b[0;31m#We can't acess the following method as it's private\u001b[0m\u001b[0;34m\u001b[0m\u001b[0;34m\u001b[0m\u001b[0;34m\u001b[0m\u001b[0m\n\u001b[0;32m----> 2\u001b[0;31m \u001b[0mApple\u001b[0m\u001b[0;34m.\u001b[0m\u001b[0m_juice_this\u001b[0m\u001b[0;34m(\u001b[0m\u001b[0;34m)\u001b[0m\u001b[0;34m\u001b[0m\u001b[0;34m\u001b[0m\u001b[0m\n\u001b[0m",
            "\u001b[0;31mTypeError\u001b[0m: _juice_this() missing 1 required positional argument: 'apple'"
          ]
        }
      ]
    }
  ]
}